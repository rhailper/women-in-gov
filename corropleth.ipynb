{
 "cells": [
  {
   "cell_type": "code",
   "execution_count": 1,
   "metadata": {},
   "outputs": [],
   "source": [
    "import pandas as pd\n",
    "import plotly.graph_objects as go"
   ]
  },
  {
   "cell_type": "code",
   "execution_count": 2,
   "metadata": {},
   "outputs": [
    {
     "data": {
      "text/html": [
       "<div>\n",
       "<style scoped>\n",
       "    .dataframe tbody tr th:only-of-type {\n",
       "        vertical-align: middle;\n",
       "    }\n",
       "\n",
       "    .dataframe tbody tr th {\n",
       "        vertical-align: top;\n",
       "    }\n",
       "\n",
       "    .dataframe thead th {\n",
       "        text-align: right;\n",
       "    }\n",
       "</style>\n",
       "<table border=\"1\" class=\"dataframe\">\n",
       "  <thead>\n",
       "    <tr style=\"text-align: right;\">\n",
       "      <th></th>\n",
       "      <th>Region</th>\n",
       "      <th>2022 rank</th>\n",
       "      <th>COUNTRY</th>\n",
       "      <th>Regime type</th>\n",
       "      <th>2022</th>\n",
       "      <th>2021</th>\n",
       "      <th>2020</th>\n",
       "      <th>2019</th>\n",
       "      <th>2018</th>\n",
       "      <th>2017</th>\n",
       "      <th>...</th>\n",
       "      <th>2015</th>\n",
       "      <th>2014</th>\n",
       "      <th>2013</th>\n",
       "      <th>2012</th>\n",
       "      <th>2011</th>\n",
       "      <th>2010</th>\n",
       "      <th>2008</th>\n",
       "      <th>2006</th>\n",
       "      <th>five_year_mean</th>\n",
       "      <th>CODE</th>\n",
       "    </tr>\n",
       "  </thead>\n",
       "  <tbody>\n",
       "    <tr>\n",
       "      <th>0</th>\n",
       "      <td>North America</td>\n",
       "      <td>12</td>\n",
       "      <td>Canada</td>\n",
       "      <td>Full democracy</td>\n",
       "      <td>8.88</td>\n",
       "      <td>8.87</td>\n",
       "      <td>9.24</td>\n",
       "      <td>9.22</td>\n",
       "      <td>9.15</td>\n",
       "      <td>9.15</td>\n",
       "      <td>...</td>\n",
       "      <td>9.08</td>\n",
       "      <td>9.08</td>\n",
       "      <td>9.08</td>\n",
       "      <td>9.08</td>\n",
       "      <td>9.08</td>\n",
       "      <td>9.08</td>\n",
       "      <td>9.07</td>\n",
       "      <td>9.07</td>\n",
       "      <td>9.126</td>\n",
       "      <td>CAN</td>\n",
       "    </tr>\n",
       "    <tr>\n",
       "      <th>1</th>\n",
       "      <td>North America</td>\n",
       "      <td>30</td>\n",
       "      <td>United States</td>\n",
       "      <td>Flawed democracy</td>\n",
       "      <td>7.85</td>\n",
       "      <td>7.85</td>\n",
       "      <td>7.92</td>\n",
       "      <td>7.96</td>\n",
       "      <td>7.96</td>\n",
       "      <td>7.98</td>\n",
       "      <td>...</td>\n",
       "      <td>8.05</td>\n",
       "      <td>8.11</td>\n",
       "      <td>8.11</td>\n",
       "      <td>8.11</td>\n",
       "      <td>8.11</td>\n",
       "      <td>8.18</td>\n",
       "      <td>8.22</td>\n",
       "      <td>8.22</td>\n",
       "      <td>7.934</td>\n",
       "      <td>USA</td>\n",
       "    </tr>\n",
       "    <tr>\n",
       "      <th>2</th>\n",
       "      <td>Western Europe</td>\n",
       "      <td>20</td>\n",
       "      <td>Austria</td>\n",
       "      <td>Full democracy</td>\n",
       "      <td>8.20</td>\n",
       "      <td>8.07</td>\n",
       "      <td>8.16</td>\n",
       "      <td>8.29</td>\n",
       "      <td>8.29</td>\n",
       "      <td>8.42</td>\n",
       "      <td>...</td>\n",
       "      <td>8.54</td>\n",
       "      <td>8.54</td>\n",
       "      <td>8.48</td>\n",
       "      <td>8.62</td>\n",
       "      <td>8.49</td>\n",
       "      <td>8.49</td>\n",
       "      <td>8.49</td>\n",
       "      <td>8.69</td>\n",
       "      <td>8.246</td>\n",
       "      <td>AUT</td>\n",
       "    </tr>\n",
       "    <tr>\n",
       "      <th>3</th>\n",
       "      <td>Western Europe</td>\n",
       "      <td>36</td>\n",
       "      <td>Belgium</td>\n",
       "      <td>Flawed democracy</td>\n",
       "      <td>7.64</td>\n",
       "      <td>7.51</td>\n",
       "      <td>7.51</td>\n",
       "      <td>7.64</td>\n",
       "      <td>7.78</td>\n",
       "      <td>7.78</td>\n",
       "      <td>...</td>\n",
       "      <td>7.93</td>\n",
       "      <td>7.93</td>\n",
       "      <td>8.05</td>\n",
       "      <td>8.05</td>\n",
       "      <td>8.05</td>\n",
       "      <td>8.05</td>\n",
       "      <td>8.16</td>\n",
       "      <td>8.15</td>\n",
       "      <td>7.644</td>\n",
       "      <td>BEL</td>\n",
       "    </tr>\n",
       "    <tr>\n",
       "      <th>4</th>\n",
       "      <td>Western Europe</td>\n",
       "      <td>37</td>\n",
       "      <td>Cyprus</td>\n",
       "      <td>Flawed democracy</td>\n",
       "      <td>7.38</td>\n",
       "      <td>7.43</td>\n",
       "      <td>7.56</td>\n",
       "      <td>7.59</td>\n",
       "      <td>7.59</td>\n",
       "      <td>7.59</td>\n",
       "      <td>...</td>\n",
       "      <td>7.53</td>\n",
       "      <td>7.40</td>\n",
       "      <td>7.29</td>\n",
       "      <td>7.29</td>\n",
       "      <td>7.29</td>\n",
       "      <td>7.29</td>\n",
       "      <td>7.70</td>\n",
       "      <td>7.60</td>\n",
       "      <td>7.552</td>\n",
       "      <td>CYP</td>\n",
       "    </tr>\n",
       "    <tr>\n",
       "      <th>...</th>\n",
       "      <td>...</td>\n",
       "      <td>...</td>\n",
       "      <td>...</td>\n",
       "      <td>...</td>\n",
       "      <td>...</td>\n",
       "      <td>...</td>\n",
       "      <td>...</td>\n",
       "      <td>...</td>\n",
       "      <td>...</td>\n",
       "      <td>...</td>\n",
       "      <td>...</td>\n",
       "      <td>...</td>\n",
       "      <td>...</td>\n",
       "      <td>...</td>\n",
       "      <td>...</td>\n",
       "      <td>...</td>\n",
       "      <td>...</td>\n",
       "      <td>...</td>\n",
       "      <td>...</td>\n",
       "      <td>...</td>\n",
       "      <td>...</td>\n",
       "    </tr>\n",
       "    <tr>\n",
       "      <th>162</th>\n",
       "      <td>Sub-Saharan Africa</td>\n",
       "      <td>92</td>\n",
       "      <td>Tanzania</td>\n",
       "      <td>Hybrid regime</td>\n",
       "      <td>5.10</td>\n",
       "      <td>5.10</td>\n",
       "      <td>5.10</td>\n",
       "      <td>5.16</td>\n",
       "      <td>5.41</td>\n",
       "      <td>5.47</td>\n",
       "      <td>...</td>\n",
       "      <td>5.58</td>\n",
       "      <td>5.77</td>\n",
       "      <td>5.77</td>\n",
       "      <td>5.88</td>\n",
       "      <td>5.64</td>\n",
       "      <td>5.64</td>\n",
       "      <td>5.28</td>\n",
       "      <td>5.18</td>\n",
       "      <td>5.248</td>\n",
       "      <td>TZA</td>\n",
       "    </tr>\n",
       "    <tr>\n",
       "      <th>163</th>\n",
       "      <td>Sub-Saharan Africa</td>\n",
       "      <td>130</td>\n",
       "      <td>Togo</td>\n",
       "      <td>Authoritarian</td>\n",
       "      <td>2.99</td>\n",
       "      <td>2.80</td>\n",
       "      <td>2.80</td>\n",
       "      <td>3.30</td>\n",
       "      <td>3.10</td>\n",
       "      <td>3.05</td>\n",
       "      <td>...</td>\n",
       "      <td>3.41</td>\n",
       "      <td>3.45</td>\n",
       "      <td>3.45</td>\n",
       "      <td>3.45</td>\n",
       "      <td>3.45</td>\n",
       "      <td>3.45</td>\n",
       "      <td>2.43</td>\n",
       "      <td>1.75</td>\n",
       "      <td>3.010</td>\n",
       "      <td>TGO</td>\n",
       "    </tr>\n",
       "    <tr>\n",
       "      <th>164</th>\n",
       "      <td>Sub-Saharan Africa</td>\n",
       "      <td>99</td>\n",
       "      <td>Uganda</td>\n",
       "      <td>Hybrid regime</td>\n",
       "      <td>4.55</td>\n",
       "      <td>4.48</td>\n",
       "      <td>4.94</td>\n",
       "      <td>5.02</td>\n",
       "      <td>5.20</td>\n",
       "      <td>5.09</td>\n",
       "      <td>...</td>\n",
       "      <td>5.22</td>\n",
       "      <td>5.22</td>\n",
       "      <td>5.22</td>\n",
       "      <td>5.16</td>\n",
       "      <td>5.13</td>\n",
       "      <td>5.05</td>\n",
       "      <td>5.03</td>\n",
       "      <td>5.14</td>\n",
       "      <td>4.946</td>\n",
       "      <td>UGA</td>\n",
       "    </tr>\n",
       "    <tr>\n",
       "      <th>165</th>\n",
       "      <td>Sub-Saharan Africa</td>\n",
       "      <td>78</td>\n",
       "      <td>Zambia</td>\n",
       "      <td>Hybrid regime</td>\n",
       "      <td>5.80</td>\n",
       "      <td>5.72</td>\n",
       "      <td>4.86</td>\n",
       "      <td>5.09</td>\n",
       "      <td>5.61</td>\n",
       "      <td>5.68</td>\n",
       "      <td>...</td>\n",
       "      <td>6.28</td>\n",
       "      <td>6.39</td>\n",
       "      <td>6.26</td>\n",
       "      <td>6.26</td>\n",
       "      <td>6.19</td>\n",
       "      <td>5.68</td>\n",
       "      <td>5.25</td>\n",
       "      <td>5.25</td>\n",
       "      <td>5.392</td>\n",
       "      <td>ZMB</td>\n",
       "    </tr>\n",
       "    <tr>\n",
       "      <th>166</th>\n",
       "      <td>Sub-Saharan Africa</td>\n",
       "      <td>132</td>\n",
       "      <td>Zimbabwe</td>\n",
       "      <td>Authoritarian</td>\n",
       "      <td>2.92</td>\n",
       "      <td>2.92</td>\n",
       "      <td>3.16</td>\n",
       "      <td>3.16</td>\n",
       "      <td>3.16</td>\n",
       "      <td>3.16</td>\n",
       "      <td>...</td>\n",
       "      <td>3.05</td>\n",
       "      <td>2.78</td>\n",
       "      <td>2.67</td>\n",
       "      <td>2.67</td>\n",
       "      <td>2.68</td>\n",
       "      <td>2.64</td>\n",
       "      <td>2.53</td>\n",
       "      <td>2.62</td>\n",
       "      <td>3.112</td>\n",
       "      <td>ZWE</td>\n",
       "    </tr>\n",
       "  </tbody>\n",
       "</table>\n",
       "<p>167 rows × 21 columns</p>\n",
       "</div>"
      ],
      "text/plain": [
       "                 Region  2022 rank        COUNTRY       Regime type  2022  \\\n",
       "0         North America         12         Canada    Full democracy  8.88   \n",
       "1         North America         30  United States  Flawed democracy  7.85   \n",
       "2        Western Europe         20        Austria    Full democracy  8.20   \n",
       "3        Western Europe         36        Belgium  Flawed democracy  7.64   \n",
       "4        Western Europe         37         Cyprus  Flawed democracy  7.38   \n",
       "..                  ...        ...            ...               ...   ...   \n",
       "162  Sub-Saharan Africa         92       Tanzania     Hybrid regime  5.10   \n",
       "163  Sub-Saharan Africa        130           Togo     Authoritarian  2.99   \n",
       "164  Sub-Saharan Africa         99         Uganda     Hybrid regime  4.55   \n",
       "165  Sub-Saharan Africa         78         Zambia     Hybrid regime  5.80   \n",
       "166  Sub-Saharan Africa        132       Zimbabwe     Authoritarian  2.92   \n",
       "\n",
       "     2021  2020  2019  2018  2017  ...  2015  2014  2013  2012  2011  2010  \\\n",
       "0    8.87  9.24  9.22  9.15  9.15  ...  9.08  9.08  9.08  9.08  9.08  9.08   \n",
       "1    7.85  7.92  7.96  7.96  7.98  ...  8.05  8.11  8.11  8.11  8.11  8.18   \n",
       "2    8.07  8.16  8.29  8.29  8.42  ...  8.54  8.54  8.48  8.62  8.49  8.49   \n",
       "3    7.51  7.51  7.64  7.78  7.78  ...  7.93  7.93  8.05  8.05  8.05  8.05   \n",
       "4    7.43  7.56  7.59  7.59  7.59  ...  7.53  7.40  7.29  7.29  7.29  7.29   \n",
       "..    ...   ...   ...   ...   ...  ...   ...   ...   ...   ...   ...   ...   \n",
       "162  5.10  5.10  5.16  5.41  5.47  ...  5.58  5.77  5.77  5.88  5.64  5.64   \n",
       "163  2.80  2.80  3.30  3.10  3.05  ...  3.41  3.45  3.45  3.45  3.45  3.45   \n",
       "164  4.48  4.94  5.02  5.20  5.09  ...  5.22  5.22  5.22  5.16  5.13  5.05   \n",
       "165  5.72  4.86  5.09  5.61  5.68  ...  6.28  6.39  6.26  6.26  6.19  5.68   \n",
       "166  2.92  3.16  3.16  3.16  3.16  ...  3.05  2.78  2.67  2.67  2.68  2.64   \n",
       "\n",
       "     2008  2006  five_year_mean  CODE  \n",
       "0    9.07  9.07           9.126   CAN  \n",
       "1    8.22  8.22           7.934   USA  \n",
       "2    8.49  8.69           8.246   AUT  \n",
       "3    8.16  8.15           7.644   BEL  \n",
       "4    7.70  7.60           7.552   CYP  \n",
       "..    ...   ...             ...   ...  \n",
       "162  5.28  5.18           5.248   TZA  \n",
       "163  2.43  1.75           3.010   TGO  \n",
       "164  5.03  5.14           4.946   UGA  \n",
       "165  5.25  5.25           5.392   ZMB  \n",
       "166  2.53  2.62           3.112   ZWE  \n",
       "\n",
       "[167 rows x 21 columns]"
      ]
     },
     "execution_count": 2,
     "metadata": {},
     "output_type": "execute_result"
    }
   ],
   "source": [
    "\n",
    "dem_index= pd.read_csv('./democracy_index_data.csv')\n",
    "dem_index = dem_index.rename(columns={'Country':'COUNTRY'})\n",
    "\n",
    "country_codes = pd.read_csv('https://raw.githubusercontent.com/plotly/datasets/master/2014_world_gdp_with_codes.csv')\n",
    "\n",
    "country_codes = country_codes[['COUNTRY','CODE']]\n",
    "df = pd.merge(dem_index,country_codes, on='COUNTRY',how =\"left\")\n",
    "\n",
    "df"
   ]
  },
  {
   "cell_type": "code",
   "execution_count": 3,
   "metadata": {},
   "outputs": [
    {
     "data": {
      "text/html": [
       "<div>\n",
       "<style scoped>\n",
       "    .dataframe tbody tr th:only-of-type {\n",
       "        vertical-align: middle;\n",
       "    }\n",
       "\n",
       "    .dataframe tbody tr th {\n",
       "        vertical-align: top;\n",
       "    }\n",
       "\n",
       "    .dataframe thead th {\n",
       "        text-align: right;\n",
       "    }\n",
       "</style>\n",
       "<table border=\"1\" class=\"dataframe\">\n",
       "  <thead>\n",
       "    <tr style=\"text-align: right;\">\n",
       "      <th></th>\n",
       "      <th>Region</th>\n",
       "      <th>2022 rank</th>\n",
       "      <th>COUNTRY</th>\n",
       "      <th>Regime type</th>\n",
       "      <th>2022</th>\n",
       "      <th>2021</th>\n",
       "      <th>2020</th>\n",
       "      <th>2019</th>\n",
       "      <th>2018</th>\n",
       "      <th>2017</th>\n",
       "      <th>...</th>\n",
       "      <th>2015</th>\n",
       "      <th>2014</th>\n",
       "      <th>2013</th>\n",
       "      <th>2012</th>\n",
       "      <th>2011</th>\n",
       "      <th>2010</th>\n",
       "      <th>2008</th>\n",
       "      <th>2006</th>\n",
       "      <th>five_year_mean</th>\n",
       "      <th>CODE</th>\n",
       "    </tr>\n",
       "  </thead>\n",
       "  <tbody>\n",
       "    <tr>\n",
       "      <th>40</th>\n",
       "      <td>Central and Eastern Europe</td>\n",
       "      <td>72</td>\n",
       "      <td>North Macedonia</td>\n",
       "      <td>Flawed democracy</td>\n",
       "      <td>6.10</td>\n",
       "      <td>6.03</td>\n",
       "      <td>5.89</td>\n",
       "      <td>5.97</td>\n",
       "      <td>5.87</td>\n",
       "      <td>5.57</td>\n",
       "      <td>...</td>\n",
       "      <td>6.02</td>\n",
       "      <td>6.25</td>\n",
       "      <td>6.16</td>\n",
       "      <td>6.16</td>\n",
       "      <td>6.16</td>\n",
       "      <td>6.16</td>\n",
       "      <td>6.21</td>\n",
       "      <td>6.33</td>\n",
       "      <td>5.866</td>\n",
       "      <td>NaN</td>\n",
       "    </tr>\n",
       "    <tr>\n",
       "      <th>89</th>\n",
       "      <td>Asia and Australasia</td>\n",
       "      <td>166</td>\n",
       "      <td>Myanmar</td>\n",
       "      <td>Authoritarian</td>\n",
       "      <td>0.74</td>\n",
       "      <td>1.02</td>\n",
       "      <td>3.04</td>\n",
       "      <td>3.55</td>\n",
       "      <td>3.83</td>\n",
       "      <td>3.83</td>\n",
       "      <td>...</td>\n",
       "      <td>4.14</td>\n",
       "      <td>3.05</td>\n",
       "      <td>2.76</td>\n",
       "      <td>2.35</td>\n",
       "      <td>1.77</td>\n",
       "      <td>1.77</td>\n",
       "      <td>1.77</td>\n",
       "      <td>1.77</td>\n",
       "      <td>3.054</td>\n",
       "      <td>NaN</td>\n",
       "    </tr>\n",
       "    <tr>\n",
       "      <th>92</th>\n",
       "      <td>Asia and Australasia</td>\n",
       "      <td>165</td>\n",
       "      <td>North Korea</td>\n",
       "      <td>Authoritarian</td>\n",
       "      <td>1.08</td>\n",
       "      <td>1.08</td>\n",
       "      <td>1.08</td>\n",
       "      <td>1.08</td>\n",
       "      <td>1.08</td>\n",
       "      <td>1.08</td>\n",
       "      <td>...</td>\n",
       "      <td>1.08</td>\n",
       "      <td>1.08</td>\n",
       "      <td>1.08</td>\n",
       "      <td>1.08</td>\n",
       "      <td>1.08</td>\n",
       "      <td>1.08</td>\n",
       "      <td>0.86</td>\n",
       "      <td>1.03</td>\n",
       "      <td>1.080</td>\n",
       "      <td>NaN</td>\n",
       "    </tr>\n",
       "    <tr>\n",
       "      <th>97</th>\n",
       "      <td>Asia and Australasia</td>\n",
       "      <td>24</td>\n",
       "      <td>South Korea</td>\n",
       "      <td>Full democracy</td>\n",
       "      <td>8.03</td>\n",
       "      <td>8.16</td>\n",
       "      <td>8.01</td>\n",
       "      <td>8.00</td>\n",
       "      <td>8.00</td>\n",
       "      <td>8.00</td>\n",
       "      <td>...</td>\n",
       "      <td>7.97</td>\n",
       "      <td>8.06</td>\n",
       "      <td>8.06</td>\n",
       "      <td>8.13</td>\n",
       "      <td>8.06</td>\n",
       "      <td>8.11</td>\n",
       "      <td>8.01</td>\n",
       "      <td>7.88</td>\n",
       "      <td>8.034</td>\n",
       "      <td>NaN</td>\n",
       "    </tr>\n",
       "    <tr>\n",
       "      <th>101</th>\n",
       "      <td>Asia and Australasia</td>\n",
       "      <td>44</td>\n",
       "      <td>East Timor</td>\n",
       "      <td>Flawed democracy</td>\n",
       "      <td>7.06</td>\n",
       "      <td>7.06</td>\n",
       "      <td>7.06</td>\n",
       "      <td>7.19</td>\n",
       "      <td>7.19</td>\n",
       "      <td>7.19</td>\n",
       "      <td>...</td>\n",
       "      <td>7.24</td>\n",
       "      <td>7.24</td>\n",
       "      <td>7.24</td>\n",
       "      <td>7.16</td>\n",
       "      <td>7.22</td>\n",
       "      <td>7.22</td>\n",
       "      <td>7.22</td>\n",
       "      <td>6.41</td>\n",
       "      <td>7.138</td>\n",
       "      <td>NaN</td>\n",
       "    </tr>\n",
       "    <tr>\n",
       "      <th>115</th>\n",
       "      <td>Middle East and North Africa</td>\n",
       "      <td>110</td>\n",
       "      <td>Palestine</td>\n",
       "      <td>Authoritarian</td>\n",
       "      <td>3.86</td>\n",
       "      <td>3.94</td>\n",
       "      <td>3.83</td>\n",
       "      <td>3.89</td>\n",
       "      <td>4.39</td>\n",
       "      <td>4.46</td>\n",
       "      <td>...</td>\n",
       "      <td>4.57</td>\n",
       "      <td>4.72</td>\n",
       "      <td>4.80</td>\n",
       "      <td>4.80</td>\n",
       "      <td>4.97</td>\n",
       "      <td>5.44</td>\n",
       "      <td>5.83</td>\n",
       "      <td>6.01</td>\n",
       "      <td>4.102</td>\n",
       "      <td>NaN</td>\n",
       "    </tr>\n",
       "    <tr>\n",
       "      <th>128</th>\n",
       "      <td>Sub-Saharan Africa</td>\n",
       "      <td>35</td>\n",
       "      <td>Cape Verde</td>\n",
       "      <td>Flawed democracy</td>\n",
       "      <td>7.65</td>\n",
       "      <td>7.65</td>\n",
       "      <td>7.65</td>\n",
       "      <td>7.78</td>\n",
       "      <td>7.88</td>\n",
       "      <td>7.88</td>\n",
       "      <td>...</td>\n",
       "      <td>7.81</td>\n",
       "      <td>7.81</td>\n",
       "      <td>7.92</td>\n",
       "      <td>7.92</td>\n",
       "      <td>7.92</td>\n",
       "      <td>7.94</td>\n",
       "      <td>7.81</td>\n",
       "      <td>7.43</td>\n",
       "      <td>7.768</td>\n",
       "      <td>NaN</td>\n",
       "    </tr>\n",
       "    <tr>\n",
       "      <th>133</th>\n",
       "      <td>Sub-Saharan Africa</td>\n",
       "      <td>136</td>\n",
       "      <td>Republic of the Congo</td>\n",
       "      <td>Authoritarian</td>\n",
       "      <td>2.79</td>\n",
       "      <td>2.79</td>\n",
       "      <td>3.11</td>\n",
       "      <td>3.11</td>\n",
       "      <td>3.31</td>\n",
       "      <td>3.25</td>\n",
       "      <td>...</td>\n",
       "      <td>2.91</td>\n",
       "      <td>2.89</td>\n",
       "      <td>2.89</td>\n",
       "      <td>2.89</td>\n",
       "      <td>2.89</td>\n",
       "      <td>2.89</td>\n",
       "      <td>2.94</td>\n",
       "      <td>3.19</td>\n",
       "      <td>3.114</td>\n",
       "      <td>NaN</td>\n",
       "    </tr>\n",
       "    <tr>\n",
       "      <th>134</th>\n",
       "      <td>Sub-Saharan Africa</td>\n",
       "      <td>106</td>\n",
       "      <td>Ivory Coast</td>\n",
       "      <td>Hybrid regime</td>\n",
       "      <td>4.22</td>\n",
       "      <td>4.22</td>\n",
       "      <td>4.11</td>\n",
       "      <td>4.05</td>\n",
       "      <td>4.15</td>\n",
       "      <td>3.93</td>\n",
       "      <td>...</td>\n",
       "      <td>3.31</td>\n",
       "      <td>3.53</td>\n",
       "      <td>3.25</td>\n",
       "      <td>3.25</td>\n",
       "      <td>3.08</td>\n",
       "      <td>3.02</td>\n",
       "      <td>3.27</td>\n",
       "      <td>3.38</td>\n",
       "      <td>4.092</td>\n",
       "      <td>NaN</td>\n",
       "    </tr>\n",
       "    <tr>\n",
       "      <th>135</th>\n",
       "      <td>Sub-Saharan Africa</td>\n",
       "      <td>162</td>\n",
       "      <td>Democratic Republic of the Congo</td>\n",
       "      <td>Authoritarian</td>\n",
       "      <td>1.48</td>\n",
       "      <td>1.40</td>\n",
       "      <td>1.13</td>\n",
       "      <td>1.13</td>\n",
       "      <td>1.49</td>\n",
       "      <td>1.61</td>\n",
       "      <td>...</td>\n",
       "      <td>2.11</td>\n",
       "      <td>1.75</td>\n",
       "      <td>1.83</td>\n",
       "      <td>1.92</td>\n",
       "      <td>2.15</td>\n",
       "      <td>2.15</td>\n",
       "      <td>2.28</td>\n",
       "      <td>2.76</td>\n",
       "      <td>1.352</td>\n",
       "      <td>NaN</td>\n",
       "    </tr>\n",
       "    <tr>\n",
       "      <th>139</th>\n",
       "      <td>Sub-Saharan Africa</td>\n",
       "      <td>129</td>\n",
       "      <td>Eswatini</td>\n",
       "      <td>Authoritarian</td>\n",
       "      <td>3.01</td>\n",
       "      <td>3.08</td>\n",
       "      <td>3.08</td>\n",
       "      <td>3.14</td>\n",
       "      <td>3.03</td>\n",
       "      <td>3.03</td>\n",
       "      <td>...</td>\n",
       "      <td>3.09</td>\n",
       "      <td>3.09</td>\n",
       "      <td>3.20</td>\n",
       "      <td>3.20</td>\n",
       "      <td>3.26</td>\n",
       "      <td>2.90</td>\n",
       "      <td>3.04</td>\n",
       "      <td>2.93</td>\n",
       "      <td>3.072</td>\n",
       "      <td>NaN</td>\n",
       "    </tr>\n",
       "    <tr>\n",
       "      <th>142</th>\n",
       "      <td>Sub-Saharan Africa</td>\n",
       "      <td>102</td>\n",
       "      <td>Gambia</td>\n",
       "      <td>Hybrid regime</td>\n",
       "      <td>4.47</td>\n",
       "      <td>4.41</td>\n",
       "      <td>4.49</td>\n",
       "      <td>4.33</td>\n",
       "      <td>4.31</td>\n",
       "      <td>4.06</td>\n",
       "      <td>...</td>\n",
       "      <td>2.97</td>\n",
       "      <td>3.05</td>\n",
       "      <td>3.31</td>\n",
       "      <td>3.31</td>\n",
       "      <td>3.38</td>\n",
       "      <td>3.38</td>\n",
       "      <td>4.19</td>\n",
       "      <td>4.39</td>\n",
       "      <td>4.320</td>\n",
       "      <td>NaN</td>\n",
       "    </tr>\n",
       "  </tbody>\n",
       "</table>\n",
       "<p>12 rows × 21 columns</p>\n",
       "</div>"
      ],
      "text/plain": [
       "                           Region  2022 rank  \\\n",
       "40     Central and Eastern Europe         72   \n",
       "89           Asia and Australasia        166   \n",
       "92           Asia and Australasia        165   \n",
       "97           Asia and Australasia         24   \n",
       "101          Asia and Australasia         44   \n",
       "115  Middle East and North Africa        110   \n",
       "128            Sub-Saharan Africa         35   \n",
       "133            Sub-Saharan Africa        136   \n",
       "134            Sub-Saharan Africa        106   \n",
       "135            Sub-Saharan Africa        162   \n",
       "139            Sub-Saharan Africa        129   \n",
       "142            Sub-Saharan Africa        102   \n",
       "\n",
       "                              COUNTRY       Regime type  2022  2021  2020  \\\n",
       "40                    North Macedonia  Flawed democracy  6.10  6.03  5.89   \n",
       "89                            Myanmar     Authoritarian  0.74  1.02  3.04   \n",
       "92                        North Korea     Authoritarian  1.08  1.08  1.08   \n",
       "97                        South Korea    Full democracy  8.03  8.16  8.01   \n",
       "101                        East Timor  Flawed democracy  7.06  7.06  7.06   \n",
       "115                         Palestine     Authoritarian  3.86  3.94  3.83   \n",
       "128                        Cape Verde  Flawed democracy  7.65  7.65  7.65   \n",
       "133             Republic of the Congo     Authoritarian  2.79  2.79  3.11   \n",
       "134                       Ivory Coast     Hybrid regime  4.22  4.22  4.11   \n",
       "135  Democratic Republic of the Congo     Authoritarian  1.48  1.40  1.13   \n",
       "139                          Eswatini     Authoritarian  3.01  3.08  3.08   \n",
       "142                            Gambia     Hybrid regime  4.47  4.41  4.49   \n",
       "\n",
       "     2019  2018  2017  ...  2015  2014  2013  2012  2011  2010  2008  2006  \\\n",
       "40   5.97  5.87  5.57  ...  6.02  6.25  6.16  6.16  6.16  6.16  6.21  6.33   \n",
       "89   3.55  3.83  3.83  ...  4.14  3.05  2.76  2.35  1.77  1.77  1.77  1.77   \n",
       "92   1.08  1.08  1.08  ...  1.08  1.08  1.08  1.08  1.08  1.08  0.86  1.03   \n",
       "97   8.00  8.00  8.00  ...  7.97  8.06  8.06  8.13  8.06  8.11  8.01  7.88   \n",
       "101  7.19  7.19  7.19  ...  7.24  7.24  7.24  7.16  7.22  7.22  7.22  6.41   \n",
       "115  3.89  4.39  4.46  ...  4.57  4.72  4.80  4.80  4.97  5.44  5.83  6.01   \n",
       "128  7.78  7.88  7.88  ...  7.81  7.81  7.92  7.92  7.92  7.94  7.81  7.43   \n",
       "133  3.11  3.31  3.25  ...  2.91  2.89  2.89  2.89  2.89  2.89  2.94  3.19   \n",
       "134  4.05  4.15  3.93  ...  3.31  3.53  3.25  3.25  3.08  3.02  3.27  3.38   \n",
       "135  1.13  1.49  1.61  ...  2.11  1.75  1.83  1.92  2.15  2.15  2.28  2.76   \n",
       "139  3.14  3.03  3.03  ...  3.09  3.09  3.20  3.20  3.26  2.90  3.04  2.93   \n",
       "142  4.33  4.31  4.06  ...  2.97  3.05  3.31  3.31  3.38  3.38  4.19  4.39   \n",
       "\n",
       "     five_year_mean  CODE  \n",
       "40            5.866   NaN  \n",
       "89            3.054   NaN  \n",
       "92            1.080   NaN  \n",
       "97            8.034   NaN  \n",
       "101           7.138   NaN  \n",
       "115           4.102   NaN  \n",
       "128           7.768   NaN  \n",
       "133           3.114   NaN  \n",
       "134           4.092   NaN  \n",
       "135           1.352   NaN  \n",
       "139           3.072   NaN  \n",
       "142           4.320   NaN  \n",
       "\n",
       "[12 rows x 21 columns]"
      ]
     },
     "execution_count": 3,
     "metadata": {},
     "output_type": "execute_result"
    }
   ],
   "source": [
    "df[df['CODE'].isna()]"
   ]
  },
  {
   "cell_type": "code",
   "execution_count": 15,
   "metadata": {},
   "outputs": [
    {
     "data": {
      "text/html": [
       "<div>\n",
       "<style scoped>\n",
       "    .dataframe tbody tr th:only-of-type {\n",
       "        vertical-align: middle;\n",
       "    }\n",
       "\n",
       "    .dataframe tbody tr th {\n",
       "        vertical-align: top;\n",
       "    }\n",
       "\n",
       "    .dataframe thead th {\n",
       "        text-align: right;\n",
       "    }\n",
       "</style>\n",
       "<table border=\"1\" class=\"dataframe\">\n",
       "  <thead>\n",
       "    <tr style=\"text-align: right;\">\n",
       "      <th></th>\n",
       "      <th>Region</th>\n",
       "      <th>2022 rank</th>\n",
       "      <th>COUNTRY</th>\n",
       "      <th>Regime type</th>\n",
       "      <th>2022</th>\n",
       "      <th>2021</th>\n",
       "      <th>2020</th>\n",
       "      <th>2019</th>\n",
       "      <th>2018</th>\n",
       "      <th>2017</th>\n",
       "      <th>...</th>\n",
       "      <th>2014</th>\n",
       "      <th>2013</th>\n",
       "      <th>2012</th>\n",
       "      <th>2011</th>\n",
       "      <th>2010</th>\n",
       "      <th>2008</th>\n",
       "      <th>2006</th>\n",
       "      <th>five_year_mean</th>\n",
       "      <th>CODE_x</th>\n",
       "      <th>CODE_y</th>\n",
       "    </tr>\n",
       "  </thead>\n",
       "  <tbody>\n",
       "    <tr>\n",
       "      <th>0</th>\n",
       "      <td>Central and Eastern Europe</td>\n",
       "      <td>72</td>\n",
       "      <td>North Macedonia</td>\n",
       "      <td>Flawed democracy</td>\n",
       "      <td>6.10</td>\n",
       "      <td>6.03</td>\n",
       "      <td>5.89</td>\n",
       "      <td>5.97</td>\n",
       "      <td>5.87</td>\n",
       "      <td>5.57</td>\n",
       "      <td>...</td>\n",
       "      <td>6.25</td>\n",
       "      <td>6.16</td>\n",
       "      <td>6.16</td>\n",
       "      <td>6.16</td>\n",
       "      <td>6.16</td>\n",
       "      <td>6.21</td>\n",
       "      <td>6.33</td>\n",
       "      <td>5.866</td>\n",
       "      <td>NaN</td>\n",
       "      <td>MKD</td>\n",
       "    </tr>\n",
       "    <tr>\n",
       "      <th>1</th>\n",
       "      <td>Asia and Australasia</td>\n",
       "      <td>166</td>\n",
       "      <td>Myanmar</td>\n",
       "      <td>Authoritarian</td>\n",
       "      <td>0.74</td>\n",
       "      <td>1.02</td>\n",
       "      <td>3.04</td>\n",
       "      <td>3.55</td>\n",
       "      <td>3.83</td>\n",
       "      <td>3.83</td>\n",
       "      <td>...</td>\n",
       "      <td>3.05</td>\n",
       "      <td>2.76</td>\n",
       "      <td>2.35</td>\n",
       "      <td>1.77</td>\n",
       "      <td>1.77</td>\n",
       "      <td>1.77</td>\n",
       "      <td>1.77</td>\n",
       "      <td>3.054</td>\n",
       "      <td>NaN</td>\n",
       "      <td>MMR</td>\n",
       "    </tr>\n",
       "    <tr>\n",
       "      <th>2</th>\n",
       "      <td>Asia and Australasia</td>\n",
       "      <td>165</td>\n",
       "      <td>North Korea</td>\n",
       "      <td>Authoritarian</td>\n",
       "      <td>1.08</td>\n",
       "      <td>1.08</td>\n",
       "      <td>1.08</td>\n",
       "      <td>1.08</td>\n",
       "      <td>1.08</td>\n",
       "      <td>1.08</td>\n",
       "      <td>...</td>\n",
       "      <td>1.08</td>\n",
       "      <td>1.08</td>\n",
       "      <td>1.08</td>\n",
       "      <td>1.08</td>\n",
       "      <td>1.08</td>\n",
       "      <td>0.86</td>\n",
       "      <td>1.03</td>\n",
       "      <td>1.080</td>\n",
       "      <td>NaN</td>\n",
       "      <td>PRK</td>\n",
       "    </tr>\n",
       "    <tr>\n",
       "      <th>3</th>\n",
       "      <td>Asia and Australasia</td>\n",
       "      <td>24</td>\n",
       "      <td>South Korea</td>\n",
       "      <td>Full democracy</td>\n",
       "      <td>8.03</td>\n",
       "      <td>8.16</td>\n",
       "      <td>8.01</td>\n",
       "      <td>8.00</td>\n",
       "      <td>8.00</td>\n",
       "      <td>8.00</td>\n",
       "      <td>...</td>\n",
       "      <td>8.06</td>\n",
       "      <td>8.06</td>\n",
       "      <td>8.13</td>\n",
       "      <td>8.06</td>\n",
       "      <td>8.11</td>\n",
       "      <td>8.01</td>\n",
       "      <td>7.88</td>\n",
       "      <td>8.034</td>\n",
       "      <td>NaN</td>\n",
       "      <td>KOR</td>\n",
       "    </tr>\n",
       "    <tr>\n",
       "      <th>4</th>\n",
       "      <td>Asia and Australasia</td>\n",
       "      <td>44</td>\n",
       "      <td>East Timor</td>\n",
       "      <td>Flawed democracy</td>\n",
       "      <td>7.06</td>\n",
       "      <td>7.06</td>\n",
       "      <td>7.06</td>\n",
       "      <td>7.19</td>\n",
       "      <td>7.19</td>\n",
       "      <td>7.19</td>\n",
       "      <td>...</td>\n",
       "      <td>7.24</td>\n",
       "      <td>7.24</td>\n",
       "      <td>7.16</td>\n",
       "      <td>7.22</td>\n",
       "      <td>7.22</td>\n",
       "      <td>7.22</td>\n",
       "      <td>6.41</td>\n",
       "      <td>7.138</td>\n",
       "      <td>NaN</td>\n",
       "      <td>TLS</td>\n",
       "    </tr>\n",
       "    <tr>\n",
       "      <th>5</th>\n",
       "      <td>Middle East and North Africa</td>\n",
       "      <td>110</td>\n",
       "      <td>Palestine</td>\n",
       "      <td>Authoritarian</td>\n",
       "      <td>3.86</td>\n",
       "      <td>3.94</td>\n",
       "      <td>3.83</td>\n",
       "      <td>3.89</td>\n",
       "      <td>4.39</td>\n",
       "      <td>4.46</td>\n",
       "      <td>...</td>\n",
       "      <td>4.72</td>\n",
       "      <td>4.80</td>\n",
       "      <td>4.80</td>\n",
       "      <td>4.97</td>\n",
       "      <td>5.44</td>\n",
       "      <td>5.83</td>\n",
       "      <td>6.01</td>\n",
       "      <td>4.102</td>\n",
       "      <td>NaN</td>\n",
       "      <td>PST</td>\n",
       "    </tr>\n",
       "    <tr>\n",
       "      <th>6</th>\n",
       "      <td>Sub-Saharan Africa</td>\n",
       "      <td>35</td>\n",
       "      <td>Cape Verde</td>\n",
       "      <td>Flawed democracy</td>\n",
       "      <td>7.65</td>\n",
       "      <td>7.65</td>\n",
       "      <td>7.65</td>\n",
       "      <td>7.78</td>\n",
       "      <td>7.88</td>\n",
       "      <td>7.88</td>\n",
       "      <td>...</td>\n",
       "      <td>7.81</td>\n",
       "      <td>7.92</td>\n",
       "      <td>7.92</td>\n",
       "      <td>7.92</td>\n",
       "      <td>7.94</td>\n",
       "      <td>7.81</td>\n",
       "      <td>7.43</td>\n",
       "      <td>7.768</td>\n",
       "      <td>NaN</td>\n",
       "      <td>CPV</td>\n",
       "    </tr>\n",
       "    <tr>\n",
       "      <th>7</th>\n",
       "      <td>Sub-Saharan Africa</td>\n",
       "      <td>136</td>\n",
       "      <td>Republic of the Congo</td>\n",
       "      <td>Authoritarian</td>\n",
       "      <td>2.79</td>\n",
       "      <td>2.79</td>\n",
       "      <td>3.11</td>\n",
       "      <td>3.11</td>\n",
       "      <td>3.31</td>\n",
       "      <td>3.25</td>\n",
       "      <td>...</td>\n",
       "      <td>2.89</td>\n",
       "      <td>2.89</td>\n",
       "      <td>2.89</td>\n",
       "      <td>2.89</td>\n",
       "      <td>2.89</td>\n",
       "      <td>2.94</td>\n",
       "      <td>3.19</td>\n",
       "      <td>3.114</td>\n",
       "      <td>NaN</td>\n",
       "      <td>COG</td>\n",
       "    </tr>\n",
       "    <tr>\n",
       "      <th>8</th>\n",
       "      <td>Sub-Saharan Africa</td>\n",
       "      <td>106</td>\n",
       "      <td>Ivory Coast</td>\n",
       "      <td>Hybrid regime</td>\n",
       "      <td>4.22</td>\n",
       "      <td>4.22</td>\n",
       "      <td>4.11</td>\n",
       "      <td>4.05</td>\n",
       "      <td>4.15</td>\n",
       "      <td>3.93</td>\n",
       "      <td>...</td>\n",
       "      <td>3.53</td>\n",
       "      <td>3.25</td>\n",
       "      <td>3.25</td>\n",
       "      <td>3.08</td>\n",
       "      <td>3.02</td>\n",
       "      <td>3.27</td>\n",
       "      <td>3.38</td>\n",
       "      <td>4.092</td>\n",
       "      <td>NaN</td>\n",
       "      <td>CIV</td>\n",
       "    </tr>\n",
       "    <tr>\n",
       "      <th>9</th>\n",
       "      <td>Sub-Saharan Africa</td>\n",
       "      <td>162</td>\n",
       "      <td>Democratic Republic of the Congo</td>\n",
       "      <td>Authoritarian</td>\n",
       "      <td>1.48</td>\n",
       "      <td>1.40</td>\n",
       "      <td>1.13</td>\n",
       "      <td>1.13</td>\n",
       "      <td>1.49</td>\n",
       "      <td>1.61</td>\n",
       "      <td>...</td>\n",
       "      <td>1.75</td>\n",
       "      <td>1.83</td>\n",
       "      <td>1.92</td>\n",
       "      <td>2.15</td>\n",
       "      <td>2.15</td>\n",
       "      <td>2.28</td>\n",
       "      <td>2.76</td>\n",
       "      <td>1.352</td>\n",
       "      <td>NaN</td>\n",
       "      <td>COD</td>\n",
       "    </tr>\n",
       "    <tr>\n",
       "      <th>10</th>\n",
       "      <td>Sub-Saharan Africa</td>\n",
       "      <td>129</td>\n",
       "      <td>Eswatini</td>\n",
       "      <td>Authoritarian</td>\n",
       "      <td>3.01</td>\n",
       "      <td>3.08</td>\n",
       "      <td>3.08</td>\n",
       "      <td>3.14</td>\n",
       "      <td>3.03</td>\n",
       "      <td>3.03</td>\n",
       "      <td>...</td>\n",
       "      <td>3.09</td>\n",
       "      <td>3.20</td>\n",
       "      <td>3.20</td>\n",
       "      <td>3.26</td>\n",
       "      <td>2.90</td>\n",
       "      <td>3.04</td>\n",
       "      <td>2.93</td>\n",
       "      <td>3.072</td>\n",
       "      <td>NaN</td>\n",
       "      <td>SWZ</td>\n",
       "    </tr>\n",
       "    <tr>\n",
       "      <th>11</th>\n",
       "      <td>Sub-Saharan Africa</td>\n",
       "      <td>102</td>\n",
       "      <td>Gambia</td>\n",
       "      <td>Hybrid regime</td>\n",
       "      <td>4.47</td>\n",
       "      <td>4.41</td>\n",
       "      <td>4.49</td>\n",
       "      <td>4.33</td>\n",
       "      <td>4.31</td>\n",
       "      <td>4.06</td>\n",
       "      <td>...</td>\n",
       "      <td>3.05</td>\n",
       "      <td>3.31</td>\n",
       "      <td>3.31</td>\n",
       "      <td>3.38</td>\n",
       "      <td>3.38</td>\n",
       "      <td>4.19</td>\n",
       "      <td>4.39</td>\n",
       "      <td>4.320</td>\n",
       "      <td>NaN</td>\n",
       "      <td>GMB</td>\n",
       "    </tr>\n",
       "  </tbody>\n",
       "</table>\n",
       "<p>12 rows × 22 columns</p>\n",
       "</div>"
      ],
      "text/plain": [
       "                          Region  2022 rank                           COUNTRY  \\\n",
       "0     Central and Eastern Europe         72                   North Macedonia   \n",
       "1           Asia and Australasia        166                           Myanmar   \n",
       "2           Asia and Australasia        165                       North Korea   \n",
       "3           Asia and Australasia         24                       South Korea   \n",
       "4           Asia and Australasia         44                        East Timor   \n",
       "5   Middle East and North Africa        110                         Palestine   \n",
       "6             Sub-Saharan Africa         35                        Cape Verde   \n",
       "7             Sub-Saharan Africa        136             Republic of the Congo   \n",
       "8             Sub-Saharan Africa        106                       Ivory Coast   \n",
       "9             Sub-Saharan Africa        162  Democratic Republic of the Congo   \n",
       "10            Sub-Saharan Africa        129                          Eswatini   \n",
       "11            Sub-Saharan Africa        102                            Gambia   \n",
       "\n",
       "         Regime type  2022  2021  2020  2019  2018  2017  ...  2014  2013  \\\n",
       "0   Flawed democracy  6.10  6.03  5.89  5.97  5.87  5.57  ...  6.25  6.16   \n",
       "1      Authoritarian  0.74  1.02  3.04  3.55  3.83  3.83  ...  3.05  2.76   \n",
       "2      Authoritarian  1.08  1.08  1.08  1.08  1.08  1.08  ...  1.08  1.08   \n",
       "3     Full democracy  8.03  8.16  8.01  8.00  8.00  8.00  ...  8.06  8.06   \n",
       "4   Flawed democracy  7.06  7.06  7.06  7.19  7.19  7.19  ...  7.24  7.24   \n",
       "5      Authoritarian  3.86  3.94  3.83  3.89  4.39  4.46  ...  4.72  4.80   \n",
       "6   Flawed democracy  7.65  7.65  7.65  7.78  7.88  7.88  ...  7.81  7.92   \n",
       "7      Authoritarian  2.79  2.79  3.11  3.11  3.31  3.25  ...  2.89  2.89   \n",
       "8      Hybrid regime  4.22  4.22  4.11  4.05  4.15  3.93  ...  3.53  3.25   \n",
       "9      Authoritarian  1.48  1.40  1.13  1.13  1.49  1.61  ...  1.75  1.83   \n",
       "10     Authoritarian  3.01  3.08  3.08  3.14  3.03  3.03  ...  3.09  3.20   \n",
       "11     Hybrid regime  4.47  4.41  4.49  4.33  4.31  4.06  ...  3.05  3.31   \n",
       "\n",
       "    2012  2011  2010  2008  2006  five_year_mean  CODE_x  CODE_y  \n",
       "0   6.16  6.16  6.16  6.21  6.33           5.866     NaN     MKD  \n",
       "1   2.35  1.77  1.77  1.77  1.77           3.054     NaN     MMR  \n",
       "2   1.08  1.08  1.08  0.86  1.03           1.080     NaN     PRK  \n",
       "3   8.13  8.06  8.11  8.01  7.88           8.034     NaN     KOR  \n",
       "4   7.16  7.22  7.22  7.22  6.41           7.138     NaN     TLS  \n",
       "5   4.80  4.97  5.44  5.83  6.01           4.102     NaN     PST  \n",
       "6   7.92  7.92  7.94  7.81  7.43           7.768     NaN     CPV  \n",
       "7   2.89  2.89  2.89  2.94  3.19           3.114     NaN     COG  \n",
       "8   3.25  3.08  3.02  3.27  3.38           4.092     NaN     CIV  \n",
       "9   1.92  2.15  2.15  2.28  2.76           1.352     NaN     COD  \n",
       "10  3.20  3.26  2.90  3.04  2.93           3.072     NaN     SWZ  \n",
       "11  3.31  3.38  3.38  4.19  4.39           4.320     NaN     GMB  \n",
       "\n",
       "[12 rows x 22 columns]"
      ]
     },
     "execution_count": 15,
     "metadata": {},
     "output_type": "execute_result"
    }
   ],
   "source": [
    "# https://en.wikipedia.org/wiki/List_of_ISO_3166_country_codes\n",
    "\n",
    "missinf_df = df[df['CODE'].isna()]\n",
    "\n",
    "update_codes = { 'COUNTRY': ['North Macedonia','Myanmar','East Timor','South Korea','North Korea','Palestine','Cape Verde','Republic of the Congo','Ivory Coast','Democratic Republic of the Congo','Eswatini','Gambia'] ,\n",
    "                    'CODE':['MKD','MMR', 'TLS', 'KOR', 'PRK', 'PST', 'CPV','COG', 'CIV', 'COD', 'SWZ', 'GMB']}\n",
    "\n",
    "temp_df = pd.DataFrame.from_dict(update_codes)\n",
    "all_codes_df = pd.merge(missinf_df,temp_df, on='COUNTRY', how='left')\n",
    "# all_codes_df = all_codes_df.rename(columns={'CODE_y': 'CODE'}).drop(columns='CODE_x')\n",
    "# all_codes_df\n",
    "all_codes_df"
   ]
  },
  {
   "cell_type": "code",
   "execution_count": 10,
   "metadata": {},
   "outputs": [
    {
     "data": {
      "application/vnd.plotly.v1+json": {
       "config": {
        "plotlyServerURL": "https://plot.ly"
       },
       "data": [
        {
         "autocolorscale": false,
         "colorbar": {
          "title": {
           "text": "Score<br>(1-10)"
          }
         },
         "colorscale": [
          [
           0,
           "rgb(255,255,217)"
          ],
          [
           0.125,
           "rgb(237,248,177)"
          ],
          [
           0.25,
           "rgb(199,233,180)"
          ],
          [
           0.375,
           "rgb(127,205,187)"
          ],
          [
           0.5,
           "rgb(65,182,196)"
          ],
          [
           0.625,
           "rgb(29,145,192)"
          ],
          [
           0.75,
           "rgb(34,94,168)"
          ],
          [
           0.875,
           "rgb(37,52,148)"
          ],
          [
           1,
           "rgb(8,29,88)"
          ]
         ],
         "locations": [
          "MKD",
          "MMR",
          "PRK",
          "KOR",
          "TLS",
          "PST",
          "CPV",
          "COG",
          "CIV",
          "COD",
          "SWZ",
          "GMB"
         ],
         "marker": {
          "line": {
           "color": "seagreen",
           "width": 0.5
          }
         },
         "reversescale": true,
         "text": [
          "North Macedonia",
          "Myanmar",
          "North Korea",
          "South Korea",
          "East Timor",
          "Palestine",
          "Cape Verde",
          "Republic of the Congo",
          "Ivory Coast",
          "Democratic Republic of the Congo",
          "Eswatini",
          "Gambia"
         ],
         "type": "choropleth",
         "z": [
          5.8660000000000005,
          3.0540000000000003,
          1.08,
          8.034,
          7.138,
          4.102,
          7.768000000000001,
          3.114,
          4.0920000000000005,
          1.352,
          3.072,
          4.319999999999999
         ]
        }
       ],
       "layout": {
        "geo": {
         "projection": {
          "type": "equirectangular"
         },
         "showcoastlines": false,
         "showframe": false
        },
        "height": 900,
        "template": {
         "data": {
          "bar": [
           {
            "error_x": {
             "color": "#2a3f5f"
            },
            "error_y": {
             "color": "#2a3f5f"
            },
            "marker": {
             "line": {
              "color": "#E5ECF6",
              "width": 0.5
             },
             "pattern": {
              "fillmode": "overlay",
              "size": 10,
              "solidity": 0.2
             }
            },
            "type": "bar"
           }
          ],
          "barpolar": [
           {
            "marker": {
             "line": {
              "color": "#E5ECF6",
              "width": 0.5
             },
             "pattern": {
              "fillmode": "overlay",
              "size": 10,
              "solidity": 0.2
             }
            },
            "type": "barpolar"
           }
          ],
          "carpet": [
           {
            "aaxis": {
             "endlinecolor": "#2a3f5f",
             "gridcolor": "white",
             "linecolor": "white",
             "minorgridcolor": "white",
             "startlinecolor": "#2a3f5f"
            },
            "baxis": {
             "endlinecolor": "#2a3f5f",
             "gridcolor": "white",
             "linecolor": "white",
             "minorgridcolor": "white",
             "startlinecolor": "#2a3f5f"
            },
            "type": "carpet"
           }
          ],
          "choropleth": [
           {
            "colorbar": {
             "outlinewidth": 0,
             "ticks": ""
            },
            "type": "choropleth"
           }
          ],
          "contour": [
           {
            "colorbar": {
             "outlinewidth": 0,
             "ticks": ""
            },
            "colorscale": [
             [
              0,
              "#0d0887"
             ],
             [
              0.1111111111111111,
              "#46039f"
             ],
             [
              0.2222222222222222,
              "#7201a8"
             ],
             [
              0.3333333333333333,
              "#9c179e"
             ],
             [
              0.4444444444444444,
              "#bd3786"
             ],
             [
              0.5555555555555556,
              "#d8576b"
             ],
             [
              0.6666666666666666,
              "#ed7953"
             ],
             [
              0.7777777777777778,
              "#fb9f3a"
             ],
             [
              0.8888888888888888,
              "#fdca26"
             ],
             [
              1,
              "#f0f921"
             ]
            ],
            "type": "contour"
           }
          ],
          "contourcarpet": [
           {
            "colorbar": {
             "outlinewidth": 0,
             "ticks": ""
            },
            "type": "contourcarpet"
           }
          ],
          "heatmap": [
           {
            "colorbar": {
             "outlinewidth": 0,
             "ticks": ""
            },
            "colorscale": [
             [
              0,
              "#0d0887"
             ],
             [
              0.1111111111111111,
              "#46039f"
             ],
             [
              0.2222222222222222,
              "#7201a8"
             ],
             [
              0.3333333333333333,
              "#9c179e"
             ],
             [
              0.4444444444444444,
              "#bd3786"
             ],
             [
              0.5555555555555556,
              "#d8576b"
             ],
             [
              0.6666666666666666,
              "#ed7953"
             ],
             [
              0.7777777777777778,
              "#fb9f3a"
             ],
             [
              0.8888888888888888,
              "#fdca26"
             ],
             [
              1,
              "#f0f921"
             ]
            ],
            "type": "heatmap"
           }
          ],
          "heatmapgl": [
           {
            "colorbar": {
             "outlinewidth": 0,
             "ticks": ""
            },
            "colorscale": [
             [
              0,
              "#0d0887"
             ],
             [
              0.1111111111111111,
              "#46039f"
             ],
             [
              0.2222222222222222,
              "#7201a8"
             ],
             [
              0.3333333333333333,
              "#9c179e"
             ],
             [
              0.4444444444444444,
              "#bd3786"
             ],
             [
              0.5555555555555556,
              "#d8576b"
             ],
             [
              0.6666666666666666,
              "#ed7953"
             ],
             [
              0.7777777777777778,
              "#fb9f3a"
             ],
             [
              0.8888888888888888,
              "#fdca26"
             ],
             [
              1,
              "#f0f921"
             ]
            ],
            "type": "heatmapgl"
           }
          ],
          "histogram": [
           {
            "marker": {
             "pattern": {
              "fillmode": "overlay",
              "size": 10,
              "solidity": 0.2
             }
            },
            "type": "histogram"
           }
          ],
          "histogram2d": [
           {
            "colorbar": {
             "outlinewidth": 0,
             "ticks": ""
            },
            "colorscale": [
             [
              0,
              "#0d0887"
             ],
             [
              0.1111111111111111,
              "#46039f"
             ],
             [
              0.2222222222222222,
              "#7201a8"
             ],
             [
              0.3333333333333333,
              "#9c179e"
             ],
             [
              0.4444444444444444,
              "#bd3786"
             ],
             [
              0.5555555555555556,
              "#d8576b"
             ],
             [
              0.6666666666666666,
              "#ed7953"
             ],
             [
              0.7777777777777778,
              "#fb9f3a"
             ],
             [
              0.8888888888888888,
              "#fdca26"
             ],
             [
              1,
              "#f0f921"
             ]
            ],
            "type": "histogram2d"
           }
          ],
          "histogram2dcontour": [
           {
            "colorbar": {
             "outlinewidth": 0,
             "ticks": ""
            },
            "colorscale": [
             [
              0,
              "#0d0887"
             ],
             [
              0.1111111111111111,
              "#46039f"
             ],
             [
              0.2222222222222222,
              "#7201a8"
             ],
             [
              0.3333333333333333,
              "#9c179e"
             ],
             [
              0.4444444444444444,
              "#bd3786"
             ],
             [
              0.5555555555555556,
              "#d8576b"
             ],
             [
              0.6666666666666666,
              "#ed7953"
             ],
             [
              0.7777777777777778,
              "#fb9f3a"
             ],
             [
              0.8888888888888888,
              "#fdca26"
             ],
             [
              1,
              "#f0f921"
             ]
            ],
            "type": "histogram2dcontour"
           }
          ],
          "mesh3d": [
           {
            "colorbar": {
             "outlinewidth": 0,
             "ticks": ""
            },
            "type": "mesh3d"
           }
          ],
          "parcoords": [
           {
            "line": {
             "colorbar": {
              "outlinewidth": 0,
              "ticks": ""
             }
            },
            "type": "parcoords"
           }
          ],
          "pie": [
           {
            "automargin": true,
            "type": "pie"
           }
          ],
          "scatter": [
           {
            "fillpattern": {
             "fillmode": "overlay",
             "size": 10,
             "solidity": 0.2
            },
            "type": "scatter"
           }
          ],
          "scatter3d": [
           {
            "line": {
             "colorbar": {
              "outlinewidth": 0,
              "ticks": ""
             }
            },
            "marker": {
             "colorbar": {
              "outlinewidth": 0,
              "ticks": ""
             }
            },
            "type": "scatter3d"
           }
          ],
          "scattercarpet": [
           {
            "marker": {
             "colorbar": {
              "outlinewidth": 0,
              "ticks": ""
             }
            },
            "type": "scattercarpet"
           }
          ],
          "scattergeo": [
           {
            "marker": {
             "colorbar": {
              "outlinewidth": 0,
              "ticks": ""
             }
            },
            "type": "scattergeo"
           }
          ],
          "scattergl": [
           {
            "marker": {
             "colorbar": {
              "outlinewidth": 0,
              "ticks": ""
             }
            },
            "type": "scattergl"
           }
          ],
          "scattermapbox": [
           {
            "marker": {
             "colorbar": {
              "outlinewidth": 0,
              "ticks": ""
             }
            },
            "type": "scattermapbox"
           }
          ],
          "scatterpolar": [
           {
            "marker": {
             "colorbar": {
              "outlinewidth": 0,
              "ticks": ""
             }
            },
            "type": "scatterpolar"
           }
          ],
          "scatterpolargl": [
           {
            "marker": {
             "colorbar": {
              "outlinewidth": 0,
              "ticks": ""
             }
            },
            "type": "scatterpolargl"
           }
          ],
          "scatterternary": [
           {
            "marker": {
             "colorbar": {
              "outlinewidth": 0,
              "ticks": ""
             }
            },
            "type": "scatterternary"
           }
          ],
          "surface": [
           {
            "colorbar": {
             "outlinewidth": 0,
             "ticks": ""
            },
            "colorscale": [
             [
              0,
              "#0d0887"
             ],
             [
              0.1111111111111111,
              "#46039f"
             ],
             [
              0.2222222222222222,
              "#7201a8"
             ],
             [
              0.3333333333333333,
              "#9c179e"
             ],
             [
              0.4444444444444444,
              "#bd3786"
             ],
             [
              0.5555555555555556,
              "#d8576b"
             ],
             [
              0.6666666666666666,
              "#ed7953"
             ],
             [
              0.7777777777777778,
              "#fb9f3a"
             ],
             [
              0.8888888888888888,
              "#fdca26"
             ],
             [
              1,
              "#f0f921"
             ]
            ],
            "type": "surface"
           }
          ],
          "table": [
           {
            "cells": {
             "fill": {
              "color": "#EBF0F8"
             },
             "line": {
              "color": "white"
             }
            },
            "header": {
             "fill": {
              "color": "#C8D4E3"
             },
             "line": {
              "color": "white"
             }
            },
            "type": "table"
           }
          ]
         },
         "layout": {
          "annotationdefaults": {
           "arrowcolor": "#2a3f5f",
           "arrowhead": 0,
           "arrowwidth": 1
          },
          "autotypenumbers": "strict",
          "coloraxis": {
           "colorbar": {
            "outlinewidth": 0,
            "ticks": ""
           }
          },
          "colorscale": {
           "diverging": [
            [
             0,
             "#8e0152"
            ],
            [
             0.1,
             "#c51b7d"
            ],
            [
             0.2,
             "#de77ae"
            ],
            [
             0.3,
             "#f1b6da"
            ],
            [
             0.4,
             "#fde0ef"
            ],
            [
             0.5,
             "#f7f7f7"
            ],
            [
             0.6,
             "#e6f5d0"
            ],
            [
             0.7,
             "#b8e186"
            ],
            [
             0.8,
             "#7fbc41"
            ],
            [
             0.9,
             "#4d9221"
            ],
            [
             1,
             "#276419"
            ]
           ],
           "sequential": [
            [
             0,
             "#0d0887"
            ],
            [
             0.1111111111111111,
             "#46039f"
            ],
            [
             0.2222222222222222,
             "#7201a8"
            ],
            [
             0.3333333333333333,
             "#9c179e"
            ],
            [
             0.4444444444444444,
             "#bd3786"
            ],
            [
             0.5555555555555556,
             "#d8576b"
            ],
            [
             0.6666666666666666,
             "#ed7953"
            ],
            [
             0.7777777777777778,
             "#fb9f3a"
            ],
            [
             0.8888888888888888,
             "#fdca26"
            ],
            [
             1,
             "#f0f921"
            ]
           ],
           "sequentialminus": [
            [
             0,
             "#0d0887"
            ],
            [
             0.1111111111111111,
             "#46039f"
            ],
            [
             0.2222222222222222,
             "#7201a8"
            ],
            [
             0.3333333333333333,
             "#9c179e"
            ],
            [
             0.4444444444444444,
             "#bd3786"
            ],
            [
             0.5555555555555556,
             "#d8576b"
            ],
            [
             0.6666666666666666,
             "#ed7953"
            ],
            [
             0.7777777777777778,
             "#fb9f3a"
            ],
            [
             0.8888888888888888,
             "#fdca26"
            ],
            [
             1,
             "#f0f921"
            ]
           ]
          },
          "colorway": [
           "#636efa",
           "#EF553B",
           "#00cc96",
           "#ab63fa",
           "#FFA15A",
           "#19d3f3",
           "#FF6692",
           "#B6E880",
           "#FF97FF",
           "#FECB52"
          ],
          "font": {
           "color": "#2a3f5f"
          },
          "geo": {
           "bgcolor": "white",
           "lakecolor": "white",
           "landcolor": "#E5ECF6",
           "showlakes": true,
           "showland": true,
           "subunitcolor": "white"
          },
          "hoverlabel": {
           "align": "left"
          },
          "hovermode": "closest",
          "mapbox": {
           "style": "light"
          },
          "paper_bgcolor": "white",
          "plot_bgcolor": "#E5ECF6",
          "polar": {
           "angularaxis": {
            "gridcolor": "white",
            "linecolor": "white",
            "ticks": ""
           },
           "bgcolor": "#E5ECF6",
           "radialaxis": {
            "gridcolor": "white",
            "linecolor": "white",
            "ticks": ""
           }
          },
          "scene": {
           "xaxis": {
            "backgroundcolor": "#E5ECF6",
            "gridcolor": "white",
            "gridwidth": 2,
            "linecolor": "white",
            "showbackground": true,
            "ticks": "",
            "zerolinecolor": "white"
           },
           "yaxis": {
            "backgroundcolor": "#E5ECF6",
            "gridcolor": "white",
            "gridwidth": 2,
            "linecolor": "white",
            "showbackground": true,
            "ticks": "",
            "zerolinecolor": "white"
           },
           "zaxis": {
            "backgroundcolor": "#E5ECF6",
            "gridcolor": "white",
            "gridwidth": 2,
            "linecolor": "white",
            "showbackground": true,
            "ticks": "",
            "zerolinecolor": "white"
           }
          },
          "shapedefaults": {
           "line": {
            "color": "#2a3f5f"
           }
          },
          "ternary": {
           "aaxis": {
            "gridcolor": "white",
            "linecolor": "white",
            "ticks": ""
           },
           "baxis": {
            "gridcolor": "white",
            "linecolor": "white",
            "ticks": ""
           },
           "bgcolor": "#E5ECF6",
           "caxis": {
            "gridcolor": "white",
            "linecolor": "white",
            "ticks": ""
           }
          },
          "title": {
           "x": 0.05
          },
          "xaxis": {
           "automargin": true,
           "gridcolor": "white",
           "linecolor": "white",
           "ticks": "",
           "title": {
            "standoff": 15
           },
           "zerolinecolor": "white",
           "zerolinewidth": 2
          },
          "yaxis": {
           "automargin": true,
           "gridcolor": "white",
           "linecolor": "white",
           "ticks": "",
           "title": {
            "standoff": 15
           },
           "zerolinecolor": "white",
           "zerolinewidth": 2
          }
         }
        },
        "title": {
         "text": "Democracy Index Score Five year Mean"
        }
       }
      }
     },
     "metadata": {},
     "output_type": "display_data"
    }
   ],
   "source": [
    "\n",
    "\n",
    "fig = go.Figure(data=go.Choropleth(\n",
    "    locations = all_codes_df['CODE'],\n",
    "    z = all_codes_df['five_year_mean'],\n",
    "    text = all_codes_df['COUNTRY'],\n",
    "    colorscale = 'YlGnBu',\n",
    "    autocolorscale=False,\n",
    "    reversescale=True,\n",
    "    marker_line_color='seagreen',\n",
    "    marker_line_width=0.5,\n",
    "    colorbar_title = 'Score<br>(1-10)',\n",
    "))\n",
    "\n",
    "fig.update_layout(\n",
    "    title_text='Democracy Index Score Five year Mean',\n",
    "    height=900,\n",
    "    geo=dict(\n",
    "        showframe=False,\n",
    "        showcoastlines=False,\n",
    "        projection_type='equirectangular'\n",
    "    )\n",
    ")\n",
    "\n",
    "\n",
    "\n",
    "fig.show()"
   ]
  },
  {
   "cell_type": "code",
   "execution_count": 13,
   "metadata": {},
   "outputs": [
    {
     "data": {
      "text/html": [
       "<div>\n",
       "<style scoped>\n",
       "    .dataframe tbody tr th:only-of-type {\n",
       "        vertical-align: middle;\n",
       "    }\n",
       "\n",
       "    .dataframe tbody tr th {\n",
       "        vertical-align: top;\n",
       "    }\n",
       "\n",
       "    .dataframe thead th {\n",
       "        text-align: right;\n",
       "    }\n",
       "</style>\n",
       "<table border=\"1\" class=\"dataframe\">\n",
       "  <thead>\n",
       "    <tr style=\"text-align: right;\">\n",
       "      <th></th>\n",
       "      <th>Region</th>\n",
       "      <th>COUNTRY</th>\n",
       "      <th>CODE</th>\n",
       "      <th>five_year_mean</th>\n",
       "      <th>Year</th>\n",
       "      <th>Score</th>\n",
       "    </tr>\n",
       "  </thead>\n",
       "  <tbody>\n",
       "    <tr>\n",
       "      <th>179</th>\n",
       "      <td>Sub-Saharan Africa</td>\n",
       "      <td>Gambia</td>\n",
       "      <td>GMB</td>\n",
       "      <td>4.320</td>\n",
       "      <td>2006</td>\n",
       "      <td>4.39</td>\n",
       "    </tr>\n",
       "    <tr>\n",
       "      <th>168</th>\n",
       "      <td>Central and Eastern Europe</td>\n",
       "      <td>North Macedonia</td>\n",
       "      <td>MKD</td>\n",
       "      <td>5.866</td>\n",
       "      <td>2006</td>\n",
       "      <td>6.33</td>\n",
       "    </tr>\n",
       "    <tr>\n",
       "      <th>169</th>\n",
       "      <td>Asia and Australasia</td>\n",
       "      <td>Myanmar</td>\n",
       "      <td>MMR</td>\n",
       "      <td>3.054</td>\n",
       "      <td>2006</td>\n",
       "      <td>1.77</td>\n",
       "    </tr>\n",
       "    <tr>\n",
       "      <th>170</th>\n",
       "      <td>Asia and Australasia</td>\n",
       "      <td>North Korea</td>\n",
       "      <td>PRK</td>\n",
       "      <td>1.080</td>\n",
       "      <td>2006</td>\n",
       "      <td>1.03</td>\n",
       "    </tr>\n",
       "    <tr>\n",
       "      <th>171</th>\n",
       "      <td>Asia and Australasia</td>\n",
       "      <td>South Korea</td>\n",
       "      <td>KOR</td>\n",
       "      <td>8.034</td>\n",
       "      <td>2006</td>\n",
       "      <td>7.88</td>\n",
       "    </tr>\n",
       "    <tr>\n",
       "      <th>...</th>\n",
       "      <td>...</td>\n",
       "      <td>...</td>\n",
       "      <td>...</td>\n",
       "      <td>...</td>\n",
       "      <td>...</td>\n",
       "      <td>...</td>\n",
       "    </tr>\n",
       "    <tr>\n",
       "      <th>9</th>\n",
       "      <td>Sub-Saharan Africa</td>\n",
       "      <td>Democratic Republic of the Congo</td>\n",
       "      <td>COD</td>\n",
       "      <td>1.352</td>\n",
       "      <td>2022</td>\n",
       "      <td>1.48</td>\n",
       "    </tr>\n",
       "    <tr>\n",
       "      <th>10</th>\n",
       "      <td>Sub-Saharan Africa</td>\n",
       "      <td>Eswatini</td>\n",
       "      <td>SWZ</td>\n",
       "      <td>3.072</td>\n",
       "      <td>2022</td>\n",
       "      <td>3.01</td>\n",
       "    </tr>\n",
       "    <tr>\n",
       "      <th>11</th>\n",
       "      <td>Sub-Saharan Africa</td>\n",
       "      <td>Gambia</td>\n",
       "      <td>GMB</td>\n",
       "      <td>4.320</td>\n",
       "      <td>2022</td>\n",
       "      <td>4.47</td>\n",
       "    </tr>\n",
       "    <tr>\n",
       "      <th>6</th>\n",
       "      <td>Sub-Saharan Africa</td>\n",
       "      <td>Cape Verde</td>\n",
       "      <td>CPV</td>\n",
       "      <td>7.768</td>\n",
       "      <td>2022</td>\n",
       "      <td>7.65</td>\n",
       "    </tr>\n",
       "    <tr>\n",
       "      <th>0</th>\n",
       "      <td>Central and Eastern Europe</td>\n",
       "      <td>North Macedonia</td>\n",
       "      <td>MKD</td>\n",
       "      <td>5.866</td>\n",
       "      <td>2022</td>\n",
       "      <td>6.10</td>\n",
       "    </tr>\n",
       "  </tbody>\n",
       "</table>\n",
       "<p>180 rows × 6 columns</p>\n",
       "</div>"
      ],
      "text/plain": [
       "                         Region                           COUNTRY CODE  \\\n",
       "179          Sub-Saharan Africa                            Gambia  GMB   \n",
       "168  Central and Eastern Europe                   North Macedonia  MKD   \n",
       "169        Asia and Australasia                           Myanmar  MMR   \n",
       "170        Asia and Australasia                       North Korea  PRK   \n",
       "171        Asia and Australasia                       South Korea  KOR   \n",
       "..                          ...                               ...  ...   \n",
       "9            Sub-Saharan Africa  Democratic Republic of the Congo  COD   \n",
       "10           Sub-Saharan Africa                          Eswatini  SWZ   \n",
       "11           Sub-Saharan Africa                            Gambia  GMB   \n",
       "6            Sub-Saharan Africa                        Cape Verde  CPV   \n",
       "0    Central and Eastern Europe                   North Macedonia  MKD   \n",
       "\n",
       "     five_year_mean  Year  Score  \n",
       "179           4.320  2006   4.39  \n",
       "168           5.866  2006   6.33  \n",
       "169           3.054  2006   1.77  \n",
       "170           1.080  2006   1.03  \n",
       "171           8.034  2006   7.88  \n",
       "..              ...   ...    ...  \n",
       "9             1.352  2022   1.48  \n",
       "10            3.072  2022   3.01  \n",
       "11            4.320  2022   4.47  \n",
       "6             7.768  2022   7.65  \n",
       "0             5.866  2022   6.10  \n",
       "\n",
       "[180 rows x 6 columns]"
      ]
     },
     "execution_count": 13,
     "metadata": {},
     "output_type": "execute_result"
    }
   ],
   "source": [
    "import plotly.express as px\n",
    "\n",
    "years = ['2022', '2021', '2020','2019', '2018', '2017', '2016', '2015', '2014', '2013', '2012', '2011','2010', '2008', '2006']\n",
    "melt_df = pd.melt(all_codes_df, id_vars =[\"Region\",\"COUNTRY\",\"CODE\",\"five_year_mean\"], value_vars =years,\n",
    "              var_name ='Year',value_name ='Score')\n",
    "melt_df = melt_df.sort_values('Year')\n",
    "melt_df\n"
   ]
  },
  {
   "cell_type": "code",
   "execution_count": 14,
   "metadata": {},
   "outputs": [
    {
     "data": {
      "application/vnd.plotly.v1+json": {
       "config": {
        "plotlyServerURL": "https://plot.ly"
       },
       "data": [
        {
         "coloraxis": "coloraxis",
         "customdata": [
          [
           "2006",
           4.319999999999999,
           "GMB"
          ],
          [
           "2006",
           5.8660000000000005,
           "MKD"
          ],
          [
           "2006",
           3.0540000000000003,
           "MMR"
          ],
          [
           "2006",
           1.08,
           "PRK"
          ],
          [
           "2006",
           8.034,
           "KOR"
          ],
          [
           "2006",
           7.138,
           "TLS"
          ],
          [
           "2006",
           3.072,
           "SWZ"
          ],
          [
           "2006",
           7.768000000000001,
           "CPV"
          ],
          [
           "2006",
           3.114,
           "COG"
          ],
          [
           "2006",
           4.0920000000000005,
           "CIV"
          ],
          [
           "2006",
           1.352,
           "COD"
          ],
          [
           "2006",
           4.102,
           "PST"
          ]
         ],
         "geo": "geo",
         "hovertemplate": "<b>%{hovertext}</b><br><br>five_year_mean=%{customdata[1]}<br>Score=%{z}<extra></extra>",
         "hovertext": [
          "Gambia",
          "North Macedonia",
          "Myanmar",
          "North Korea",
          "South Korea",
          "East Timor",
          "Eswatini",
          "Cape Verde",
          "Republic of the Congo",
          "Ivory Coast",
          "Democratic Republic of the Congo",
          "Palestine"
         ],
         "locations": [
          "GMB",
          "MKD",
          "MMR",
          "PRK",
          "KOR",
          "TLS",
          "SWZ",
          "CPV",
          "COG",
          "CIV",
          "COD",
          "PST"
         ],
         "name": "",
         "type": "choropleth",
         "z": [
          4.39,
          6.33,
          1.77,
          1.03,
          7.88,
          6.41,
          2.93,
          7.43,
          3.19,
          3.38,
          2.76,
          6.01
         ]
        }
       ],
       "frames": [
        {
         "data": [
          {
           "coloraxis": "coloraxis",
           "customdata": [
            [
             "2006",
             4.319999999999999,
             "GMB"
            ],
            [
             "2006",
             5.8660000000000005,
             "MKD"
            ],
            [
             "2006",
             3.0540000000000003,
             "MMR"
            ],
            [
             "2006",
             1.08,
             "PRK"
            ],
            [
             "2006",
             8.034,
             "KOR"
            ],
            [
             "2006",
             7.138,
             "TLS"
            ],
            [
             "2006",
             3.072,
             "SWZ"
            ],
            [
             "2006",
             7.768000000000001,
             "CPV"
            ],
            [
             "2006",
             3.114,
             "COG"
            ],
            [
             "2006",
             4.0920000000000005,
             "CIV"
            ],
            [
             "2006",
             1.352,
             "COD"
            ],
            [
             "2006",
             4.102,
             "PST"
            ]
           ],
           "geo": "geo",
           "hovertemplate": "<b>%{hovertext}</b><br><br>five_year_mean=%{customdata[1]}<br>Score=%{z}<extra></extra>",
           "hovertext": [
            "Gambia",
            "North Macedonia",
            "Myanmar",
            "North Korea",
            "South Korea",
            "East Timor",
            "Eswatini",
            "Cape Verde",
            "Republic of the Congo",
            "Ivory Coast",
            "Democratic Republic of the Congo",
            "Palestine"
           ],
           "locations": [
            "GMB",
            "MKD",
            "MMR",
            "PRK",
            "KOR",
            "TLS",
            "SWZ",
            "CPV",
            "COG",
            "CIV",
            "COD",
            "PST"
           ],
           "name": "",
           "type": "choropleth",
           "z": [
            4.39,
            6.33,
            1.77,
            1.03,
            7.88,
            6.41,
            2.93,
            7.43,
            3.19,
            3.38,
            2.76,
            6.01
           ]
          }
         ],
         "name": "2006"
        },
        {
         "data": [
          {
           "coloraxis": "coloraxis",
           "customdata": [
            [
             "2008",
             5.8660000000000005,
             "MKD"
            ],
            [
             "2008",
             3.0540000000000003,
             "MMR"
            ],
            [
             "2008",
             1.08,
             "PRK"
            ],
            [
             "2008",
             8.034,
             "KOR"
            ],
            [
             "2008",
             7.138,
             "TLS"
            ],
            [
             "2008",
             4.102,
             "PST"
            ],
            [
             "2008",
             7.768000000000001,
             "CPV"
            ],
            [
             "2008",
             3.114,
             "COG"
            ],
            [
             "2008",
             4.0920000000000005,
             "CIV"
            ],
            [
             "2008",
             1.352,
             "COD"
            ],
            [
             "2008",
             3.072,
             "SWZ"
            ],
            [
             "2008",
             4.319999999999999,
             "GMB"
            ]
           ],
           "geo": "geo",
           "hovertemplate": "<b>%{hovertext}</b><br><br>five_year_mean=%{customdata[1]}<br>Score=%{z}<extra></extra>",
           "hovertext": [
            "North Macedonia",
            "Myanmar",
            "North Korea",
            "South Korea",
            "East Timor",
            "Palestine",
            "Cape Verde",
            "Republic of the Congo",
            "Ivory Coast",
            "Democratic Republic of the Congo",
            "Eswatini",
            "Gambia"
           ],
           "locations": [
            "MKD",
            "MMR",
            "PRK",
            "KOR",
            "TLS",
            "PST",
            "CPV",
            "COG",
            "CIV",
            "COD",
            "SWZ",
            "GMB"
           ],
           "name": "",
           "type": "choropleth",
           "z": [
            6.21,
            1.77,
            0.86,
            8.01,
            7.22,
            5.83,
            7.81,
            2.94,
            3.27,
            2.28,
            3.04,
            4.19
           ]
          }
         ],
         "name": "2008"
        },
        {
         "data": [
          {
           "coloraxis": "coloraxis",
           "customdata": [
            [
             "2010",
             5.8660000000000005,
             "MKD"
            ],
            [
             "2010",
             3.0540000000000003,
             "MMR"
            ],
            [
             "2010",
             1.08,
             "PRK"
            ],
            [
             "2010",
             8.034,
             "KOR"
            ],
            [
             "2010",
             7.138,
             "TLS"
            ],
            [
             "2010",
             4.319999999999999,
             "GMB"
            ],
            [
             "2010",
             7.768000000000001,
             "CPV"
            ],
            [
             "2010",
             3.114,
             "COG"
            ],
            [
             "2010",
             4.0920000000000005,
             "CIV"
            ],
            [
             "2010",
             1.352,
             "COD"
            ],
            [
             "2010",
             3.072,
             "SWZ"
            ],
            [
             "2010",
             4.102,
             "PST"
            ]
           ],
           "geo": "geo",
           "hovertemplate": "<b>%{hovertext}</b><br><br>five_year_mean=%{customdata[1]}<br>Score=%{z}<extra></extra>",
           "hovertext": [
            "North Macedonia",
            "Myanmar",
            "North Korea",
            "South Korea",
            "East Timor",
            "Gambia",
            "Cape Verde",
            "Republic of the Congo",
            "Ivory Coast",
            "Democratic Republic of the Congo",
            "Eswatini",
            "Palestine"
           ],
           "locations": [
            "MKD",
            "MMR",
            "PRK",
            "KOR",
            "TLS",
            "GMB",
            "CPV",
            "COG",
            "CIV",
            "COD",
            "SWZ",
            "PST"
           ],
           "name": "",
           "type": "choropleth",
           "z": [
            6.16,
            1.77,
            1.08,
            8.11,
            7.22,
            3.38,
            7.94,
            2.89,
            3.02,
            2.15,
            2.9,
            5.44
           ]
          }
         ],
         "name": "2010"
        },
        {
         "data": [
          {
           "coloraxis": "coloraxis",
           "customdata": [
            [
             "2011",
             7.138,
             "TLS"
            ],
            [
             "2011",
             5.8660000000000005,
             "MKD"
            ],
            [
             "2011",
             3.0540000000000003,
             "MMR"
            ],
            [
             "2011",
             8.034,
             "KOR"
            ],
            [
             "2011",
             4.102,
             "PST"
            ],
            [
             "2011",
             1.08,
             "PRK"
            ],
            [
             "2011",
             3.114,
             "COG"
            ],
            [
             "2011",
             4.0920000000000005,
             "CIV"
            ],
            [
             "2011",
             7.768000000000001,
             "CPV"
            ],
            [
             "2011",
             1.352,
             "COD"
            ],
            [
             "2011",
             3.072,
             "SWZ"
            ],
            [
             "2011",
             4.319999999999999,
             "GMB"
            ]
           ],
           "geo": "geo",
           "hovertemplate": "<b>%{hovertext}</b><br><br>five_year_mean=%{customdata[1]}<br>Score=%{z}<extra></extra>",
           "hovertext": [
            "East Timor",
            "North Macedonia",
            "Myanmar",
            "South Korea",
            "Palestine",
            "North Korea",
            "Republic of the Congo",
            "Ivory Coast",
            "Cape Verde",
            "Democratic Republic of the Congo",
            "Eswatini",
            "Gambia"
           ],
           "locations": [
            "TLS",
            "MKD",
            "MMR",
            "KOR",
            "PST",
            "PRK",
            "COG",
            "CIV",
            "CPV",
            "COD",
            "SWZ",
            "GMB"
           ],
           "name": "",
           "type": "choropleth",
           "z": [
            7.22,
            6.16,
            1.77,
            8.06,
            4.97,
            1.08,
            2.89,
            3.08,
            7.92,
            2.15,
            3.26,
            3.38
           ]
          }
         ],
         "name": "2011"
        },
        {
         "data": [
          {
           "coloraxis": "coloraxis",
           "customdata": [
            [
             "2012",
             5.8660000000000005,
             "MKD"
            ],
            [
             "2012",
             3.0540000000000003,
             "MMR"
            ],
            [
             "2012",
             1.08,
             "PRK"
            ],
            [
             "2012",
             8.034,
             "KOR"
            ],
            [
             "2012",
             7.138,
             "TLS"
            ],
            [
             "2012",
             3.072,
             "SWZ"
            ],
            [
             "2012",
             7.768000000000001,
             "CPV"
            ],
            [
             "2012",
             3.114,
             "COG"
            ],
            [
             "2012",
             4.0920000000000005,
             "CIV"
            ],
            [
             "2012",
             1.352,
             "COD"
            ],
            [
             "2012",
             4.319999999999999,
             "GMB"
            ],
            [
             "2012",
             4.102,
             "PST"
            ]
           ],
           "geo": "geo",
           "hovertemplate": "<b>%{hovertext}</b><br><br>five_year_mean=%{customdata[1]}<br>Score=%{z}<extra></extra>",
           "hovertext": [
            "North Macedonia",
            "Myanmar",
            "North Korea",
            "South Korea",
            "East Timor",
            "Eswatini",
            "Cape Verde",
            "Republic of the Congo",
            "Ivory Coast",
            "Democratic Republic of the Congo",
            "Gambia",
            "Palestine"
           ],
           "locations": [
            "MKD",
            "MMR",
            "PRK",
            "KOR",
            "TLS",
            "SWZ",
            "CPV",
            "COG",
            "CIV",
            "COD",
            "GMB",
            "PST"
           ],
           "name": "",
           "type": "choropleth",
           "z": [
            6.16,
            2.35,
            1.08,
            8.13,
            7.16,
            3.2,
            7.92,
            2.89,
            3.25,
            1.92,
            3.31,
            4.8
           ]
          }
         ],
         "name": "2012"
        },
        {
         "data": [
          {
           "coloraxis": "coloraxis",
           "customdata": [
            [
             "2013",
             5.8660000000000005,
             "MKD"
            ],
            [
             "2013",
             3.0540000000000003,
             "MMR"
            ],
            [
             "2013",
             1.08,
             "PRK"
            ],
            [
             "2013",
             8.034,
             "KOR"
            ],
            [
             "2013",
             7.138,
             "TLS"
            ],
            [
             "2013",
             4.102,
             "PST"
            ],
            [
             "2013",
             7.768000000000001,
             "CPV"
            ],
            [
             "2013",
             3.114,
             "COG"
            ],
            [
             "2013",
             4.0920000000000005,
             "CIV"
            ],
            [
             "2013",
             1.352,
             "COD"
            ],
            [
             "2013",
             3.072,
             "SWZ"
            ],
            [
             "2013",
             4.319999999999999,
             "GMB"
            ]
           ],
           "geo": "geo",
           "hovertemplate": "<b>%{hovertext}</b><br><br>five_year_mean=%{customdata[1]}<br>Score=%{z}<extra></extra>",
           "hovertext": [
            "North Macedonia",
            "Myanmar",
            "North Korea",
            "South Korea",
            "East Timor",
            "Palestine",
            "Cape Verde",
            "Republic of the Congo",
            "Ivory Coast",
            "Democratic Republic of the Congo",
            "Eswatini",
            "Gambia"
           ],
           "locations": [
            "MKD",
            "MMR",
            "PRK",
            "KOR",
            "TLS",
            "PST",
            "CPV",
            "COG",
            "CIV",
            "COD",
            "SWZ",
            "GMB"
           ],
           "name": "",
           "type": "choropleth",
           "z": [
            6.16,
            2.76,
            1.08,
            8.06,
            7.24,
            4.8,
            7.92,
            2.89,
            3.25,
            1.83,
            3.2,
            3.31
           ]
          }
         ],
         "name": "2013"
        },
        {
         "data": [
          {
           "coloraxis": "coloraxis",
           "customdata": [
            [
             "2014",
             5.8660000000000005,
             "MKD"
            ],
            [
             "2014",
             3.0540000000000003,
             "MMR"
            ],
            [
             "2014",
             1.08,
             "PRK"
            ],
            [
             "2014",
             8.034,
             "KOR"
            ],
            [
             "2014",
             7.138,
             "TLS"
            ],
            [
             "2014",
             4.102,
             "PST"
            ],
            [
             "2014",
             7.768000000000001,
             "CPV"
            ],
            [
             "2014",
             3.114,
             "COG"
            ],
            [
             "2014",
             4.0920000000000005,
             "CIV"
            ],
            [
             "2014",
             1.352,
             "COD"
            ],
            [
             "2014",
             3.072,
             "SWZ"
            ],
            [
             "2014",
             4.319999999999999,
             "GMB"
            ]
           ],
           "geo": "geo",
           "hovertemplate": "<b>%{hovertext}</b><br><br>five_year_mean=%{customdata[1]}<br>Score=%{z}<extra></extra>",
           "hovertext": [
            "North Macedonia",
            "Myanmar",
            "North Korea",
            "South Korea",
            "East Timor",
            "Palestine",
            "Cape Verde",
            "Republic of the Congo",
            "Ivory Coast",
            "Democratic Republic of the Congo",
            "Eswatini",
            "Gambia"
           ],
           "locations": [
            "MKD",
            "MMR",
            "PRK",
            "KOR",
            "TLS",
            "PST",
            "CPV",
            "COG",
            "CIV",
            "COD",
            "SWZ",
            "GMB"
           ],
           "name": "",
           "type": "choropleth",
           "z": [
            6.25,
            3.05,
            1.08,
            8.06,
            7.24,
            4.72,
            7.81,
            2.89,
            3.53,
            1.75,
            3.09,
            3.05
           ]
          }
         ],
         "name": "2014"
        },
        {
         "data": [
          {
           "coloraxis": "coloraxis",
           "customdata": [
            [
             "2015",
             4.319999999999999,
             "GMB"
            ],
            [
             "2015",
             3.072,
             "SWZ"
            ],
            [
             "2015",
             1.352,
             "COD"
            ],
            [
             "2015",
             4.0920000000000005,
             "CIV"
            ],
            [
             "2015",
             3.114,
             "COG"
            ],
            [
             "2015",
             7.768000000000001,
             "CPV"
            ],
            [
             "2015",
             4.102,
             "PST"
            ],
            [
             "2015",
             8.034,
             "KOR"
            ],
            [
             "2015",
             5.8660000000000005,
             "MKD"
            ],
            [
             "2015",
             7.138,
             "TLS"
            ],
            [
             "2015",
             1.08,
             "PRK"
            ],
            [
             "2015",
             3.0540000000000003,
             "MMR"
            ]
           ],
           "geo": "geo",
           "hovertemplate": "<b>%{hovertext}</b><br><br>five_year_mean=%{customdata[1]}<br>Score=%{z}<extra></extra>",
           "hovertext": [
            "Gambia",
            "Eswatini",
            "Democratic Republic of the Congo",
            "Ivory Coast",
            "Republic of the Congo",
            "Cape Verde",
            "Palestine",
            "South Korea",
            "North Macedonia",
            "East Timor",
            "North Korea",
            "Myanmar"
           ],
           "locations": [
            "GMB",
            "SWZ",
            "COD",
            "CIV",
            "COG",
            "CPV",
            "PST",
            "KOR",
            "MKD",
            "TLS",
            "PRK",
            "MMR"
           ],
           "name": "",
           "type": "choropleth",
           "z": [
            2.97,
            3.09,
            2.11,
            3.31,
            2.91,
            7.81,
            4.57,
            7.97,
            6.02,
            7.24,
            1.08,
            4.14
           ]
          }
         ],
         "name": "2015"
        },
        {
         "data": [
          {
           "coloraxis": "coloraxis",
           "customdata": [
            [
             "2016",
             5.8660000000000005,
             "MKD"
            ],
            [
             "2016",
             3.0540000000000003,
             "MMR"
            ],
            [
             "2016",
             1.08,
             "PRK"
            ],
            [
             "2016",
             7.138,
             "TLS"
            ],
            [
             "2016",
             8.034,
             "KOR"
            ],
            [
             "2016",
             3.114,
             "COG"
            ],
            [
             "2016",
             4.0920000000000005,
             "CIV"
            ],
            [
             "2016",
             1.352,
             "COD"
            ],
            [
             "2016",
             3.072,
             "SWZ"
            ],
            [
             "2016",
             4.319999999999999,
             "GMB"
            ],
            [
             "2016",
             7.768000000000001,
             "CPV"
            ],
            [
             "2016",
             4.102,
             "PST"
            ]
           ],
           "geo": "geo",
           "hovertemplate": "<b>%{hovertext}</b><br><br>five_year_mean=%{customdata[1]}<br>Score=%{z}<extra></extra>",
           "hovertext": [
            "North Macedonia",
            "Myanmar",
            "North Korea",
            "East Timor",
            "South Korea",
            "Republic of the Congo",
            "Ivory Coast",
            "Democratic Republic of the Congo",
            "Eswatini",
            "Gambia",
            "Cape Verde",
            "Palestine"
           ],
           "locations": [
            "MKD",
            "MMR",
            "PRK",
            "TLS",
            "KOR",
            "COG",
            "CIV",
            "COD",
            "SWZ",
            "GMB",
            "CPV",
            "PST"
           ],
           "name": "",
           "type": "choropleth",
           "z": [
            5.23,
            4.2,
            1.08,
            7.24,
            7.92,
            2.91,
            3.81,
            1.93,
            3.03,
            2.91,
            7.94,
            4.49
           ]
          }
         ],
         "name": "2016"
        },
        {
         "data": [
          {
           "coloraxis": "coloraxis",
           "customdata": [
            [
             "2017",
             7.138,
             "TLS"
            ],
            [
             "2017",
             5.8660000000000005,
             "MKD"
            ],
            [
             "2017",
             3.0540000000000003,
             "MMR"
            ],
            [
             "2017",
             1.08,
             "PRK"
            ],
            [
             "2017",
             8.034,
             "KOR"
            ],
            [
             "2017",
             4.102,
             "PST"
            ],
            [
             "2017",
             3.114,
             "COG"
            ],
            [
             "2017",
             4.0920000000000005,
             "CIV"
            ],
            [
             "2017",
             1.352,
             "COD"
            ],
            [
             "2017",
             3.072,
             "SWZ"
            ],
            [
             "2017",
             4.319999999999999,
             "GMB"
            ],
            [
             "2017",
             7.768000000000001,
             "CPV"
            ]
           ],
           "geo": "geo",
           "hovertemplate": "<b>%{hovertext}</b><br><br>five_year_mean=%{customdata[1]}<br>Score=%{z}<extra></extra>",
           "hovertext": [
            "East Timor",
            "North Macedonia",
            "Myanmar",
            "North Korea",
            "South Korea",
            "Palestine",
            "Republic of the Congo",
            "Ivory Coast",
            "Democratic Republic of the Congo",
            "Eswatini",
            "Gambia",
            "Cape Verde"
           ],
           "locations": [
            "TLS",
            "MKD",
            "MMR",
            "PRK",
            "KOR",
            "PST",
            "COG",
            "CIV",
            "COD",
            "SWZ",
            "GMB",
            "CPV"
           ],
           "name": "",
           "type": "choropleth",
           "z": [
            7.19,
            5.57,
            3.83,
            1.08,
            8,
            4.46,
            3.25,
            3.93,
            1.61,
            3.03,
            4.06,
            7.88
           ]
          }
         ],
         "name": "2017"
        },
        {
         "data": [
          {
           "coloraxis": "coloraxis",
           "customdata": [
            [
             "2018",
             5.8660000000000005,
             "MKD"
            ],
            [
             "2018",
             3.0540000000000003,
             "MMR"
            ],
            [
             "2018",
             1.08,
             "PRK"
            ],
            [
             "2018",
             8.034,
             "KOR"
            ],
            [
             "2018",
             7.138,
             "TLS"
            ],
            [
             "2018",
             4.102,
             "PST"
            ],
            [
             "2018",
             3.114,
             "COG"
            ],
            [
             "2018",
             4.0920000000000005,
             "CIV"
            ],
            [
             "2018",
             1.352,
             "COD"
            ],
            [
             "2018",
             3.072,
             "SWZ"
            ],
            [
             "2018",
             4.319999999999999,
             "GMB"
            ],
            [
             "2018",
             7.768000000000001,
             "CPV"
            ]
           ],
           "geo": "geo",
           "hovertemplate": "<b>%{hovertext}</b><br><br>five_year_mean=%{customdata[1]}<br>Score=%{z}<extra></extra>",
           "hovertext": [
            "North Macedonia",
            "Myanmar",
            "North Korea",
            "South Korea",
            "East Timor",
            "Palestine",
            "Republic of the Congo",
            "Ivory Coast",
            "Democratic Republic of the Congo",
            "Eswatini",
            "Gambia",
            "Cape Verde"
           ],
           "locations": [
            "MKD",
            "MMR",
            "PRK",
            "KOR",
            "TLS",
            "PST",
            "COG",
            "CIV",
            "COD",
            "SWZ",
            "GMB",
            "CPV"
           ],
           "name": "",
           "type": "choropleth",
           "z": [
            5.87,
            3.83,
            1.08,
            8,
            7.19,
            4.39,
            3.31,
            4.15,
            1.49,
            3.03,
            4.31,
            7.88
           ]
          }
         ],
         "name": "2018"
        },
        {
         "data": [
          {
           "coloraxis": "coloraxis",
           "customdata": [
            [
             "2019",
             5.8660000000000005,
             "MKD"
            ],
            [
             "2019",
             3.0540000000000003,
             "MMR"
            ],
            [
             "2019",
             1.08,
             "PRK"
            ],
            [
             "2019",
             8.034,
             "KOR"
            ],
            [
             "2019",
             7.138,
             "TLS"
            ],
            [
             "2019",
             3.114,
             "COG"
            ],
            [
             "2019",
             7.768000000000001,
             "CPV"
            ],
            [
             "2019",
             4.0920000000000005,
             "CIV"
            ],
            [
             "2019",
             1.352,
             "COD"
            ],
            [
             "2019",
             3.072,
             "SWZ"
            ],
            [
             "2019",
             4.319999999999999,
             "GMB"
            ],
            [
             "2019",
             4.102,
             "PST"
            ]
           ],
           "geo": "geo",
           "hovertemplate": "<b>%{hovertext}</b><br><br>five_year_mean=%{customdata[1]}<br>Score=%{z}<extra></extra>",
           "hovertext": [
            "North Macedonia",
            "Myanmar",
            "North Korea",
            "South Korea",
            "East Timor",
            "Republic of the Congo",
            "Cape Verde",
            "Ivory Coast",
            "Democratic Republic of the Congo",
            "Eswatini",
            "Gambia",
            "Palestine"
           ],
           "locations": [
            "MKD",
            "MMR",
            "PRK",
            "KOR",
            "TLS",
            "COG",
            "CPV",
            "CIV",
            "COD",
            "SWZ",
            "GMB",
            "PST"
           ],
           "name": "",
           "type": "choropleth",
           "z": [
            5.97,
            3.55,
            1.08,
            8,
            7.19,
            3.11,
            7.78,
            4.05,
            1.13,
            3.14,
            4.33,
            3.89
           ]
          }
         ],
         "name": "2019"
        },
        {
         "data": [
          {
           "coloraxis": "coloraxis",
           "customdata": [
            [
             "2020",
             5.8660000000000005,
             "MKD"
            ],
            [
             "2020",
             3.0540000000000003,
             "MMR"
            ],
            [
             "2020",
             1.08,
             "PRK"
            ],
            [
             "2020",
             8.034,
             "KOR"
            ],
            [
             "2020",
             7.138,
             "TLS"
            ],
            [
             "2020",
             4.102,
             "PST"
            ],
            [
             "2020",
             7.768000000000001,
             "CPV"
            ],
            [
             "2020",
             3.114,
             "COG"
            ],
            [
             "2020",
             4.0920000000000005,
             "CIV"
            ],
            [
             "2020",
             1.352,
             "COD"
            ],
            [
             "2020",
             3.072,
             "SWZ"
            ],
            [
             "2020",
             4.319999999999999,
             "GMB"
            ]
           ],
           "geo": "geo",
           "hovertemplate": "<b>%{hovertext}</b><br><br>five_year_mean=%{customdata[1]}<br>Score=%{z}<extra></extra>",
           "hovertext": [
            "North Macedonia",
            "Myanmar",
            "North Korea",
            "South Korea",
            "East Timor",
            "Palestine",
            "Cape Verde",
            "Republic of the Congo",
            "Ivory Coast",
            "Democratic Republic of the Congo",
            "Eswatini",
            "Gambia"
           ],
           "locations": [
            "MKD",
            "MMR",
            "PRK",
            "KOR",
            "TLS",
            "PST",
            "CPV",
            "COG",
            "CIV",
            "COD",
            "SWZ",
            "GMB"
           ],
           "name": "",
           "type": "choropleth",
           "z": [
            5.89,
            3.04,
            1.08,
            8.01,
            7.06,
            3.83,
            7.65,
            3.11,
            4.11,
            1.13,
            3.08,
            4.49
           ]
          }
         ],
         "name": "2020"
        },
        {
         "data": [
          {
           "coloraxis": "coloraxis",
           "customdata": [
            [
             "2021",
             5.8660000000000005,
             "MKD"
            ],
            [
             "2021",
             3.0540000000000003,
             "MMR"
            ],
            [
             "2021",
             1.08,
             "PRK"
            ],
            [
             "2021",
             8.034,
             "KOR"
            ],
            [
             "2021",
             7.138,
             "TLS"
            ],
            [
             "2021",
             4.0920000000000005,
             "CIV"
            ],
            [
             "2021",
             7.768000000000001,
             "CPV"
            ],
            [
             "2021",
             3.114,
             "COG"
            ],
            [
             "2021",
             1.352,
             "COD"
            ],
            [
             "2021",
             3.072,
             "SWZ"
            ],
            [
             "2021",
             4.319999999999999,
             "GMB"
            ],
            [
             "2021",
             4.102,
             "PST"
            ]
           ],
           "geo": "geo",
           "hovertemplate": "<b>%{hovertext}</b><br><br>five_year_mean=%{customdata[1]}<br>Score=%{z}<extra></extra>",
           "hovertext": [
            "North Macedonia",
            "Myanmar",
            "North Korea",
            "South Korea",
            "East Timor",
            "Ivory Coast",
            "Cape Verde",
            "Republic of the Congo",
            "Democratic Republic of the Congo",
            "Eswatini",
            "Gambia",
            "Palestine"
           ],
           "locations": [
            "MKD",
            "MMR",
            "PRK",
            "KOR",
            "TLS",
            "CIV",
            "CPV",
            "COG",
            "COD",
            "SWZ",
            "GMB",
            "PST"
           ],
           "name": "",
           "type": "choropleth",
           "z": [
            6.03,
            1.02,
            1.08,
            8.16,
            7.06,
            4.22,
            7.65,
            2.79,
            1.4,
            3.08,
            4.41,
            3.94
           ]
          }
         ],
         "name": "2021"
        },
        {
         "data": [
          {
           "coloraxis": "coloraxis",
           "customdata": [
            [
             "2022",
             3.0540000000000003,
             "MMR"
            ],
            [
             "2022",
             1.08,
             "PRK"
            ],
            [
             "2022",
             8.034,
             "KOR"
            ],
            [
             "2022",
             7.138,
             "TLS"
            ],
            [
             "2022",
             4.102,
             "PST"
            ],
            [
             "2022",
             4.0920000000000005,
             "CIV"
            ],
            [
             "2022",
             3.114,
             "COG"
            ],
            [
             "2022",
             1.352,
             "COD"
            ],
            [
             "2022",
             3.072,
             "SWZ"
            ],
            [
             "2022",
             4.319999999999999,
             "GMB"
            ],
            [
             "2022",
             7.768000000000001,
             "CPV"
            ],
            [
             "2022",
             5.8660000000000005,
             "MKD"
            ]
           ],
           "geo": "geo",
           "hovertemplate": "<b>%{hovertext}</b><br><br>five_year_mean=%{customdata[1]}<br>Score=%{z}<extra></extra>",
           "hovertext": [
            "Myanmar",
            "North Korea",
            "South Korea",
            "East Timor",
            "Palestine",
            "Ivory Coast",
            "Republic of the Congo",
            "Democratic Republic of the Congo",
            "Eswatini",
            "Gambia",
            "Cape Verde",
            "North Macedonia"
           ],
           "locations": [
            "MMR",
            "PRK",
            "KOR",
            "TLS",
            "PST",
            "CIV",
            "COG",
            "COD",
            "SWZ",
            "GMB",
            "CPV",
            "MKD"
           ],
           "name": "",
           "type": "choropleth",
           "z": [
            0.74,
            1.08,
            8.03,
            7.06,
            3.86,
            4.22,
            2.79,
            1.48,
            3.01,
            4.47,
            7.65,
            6.1
           ]
          }
         ],
         "name": "2022"
        }
       ],
       "layout": {
        "coloraxis": {
         "colorbar": {
          "title": {
           "text": "Score"
          }
         },
         "colorscale": [
          [
           0,
           "#200211"
          ],
          [
           0.1111111111111111,
           "#5d0e1a"
          ],
          [
           0.2222222222222222,
           "#9b3327"
          ],
          [
           0.3333333333333333,
           "#e3754f"
          ],
          [
           0.4444444444444444,
           "#f1b26e"
          ],
          [
           0.5555555555555556,
           "#f9e096"
          ],
          [
           0.6666666666666666,
           "#b2d878"
          ],
          [
           0.7777777777777778,
           "#7bbb6d"
          ],
          [
           0.8888888888888888,
           "#489657"
          ],
          [
           1,
           "#2b6619"
          ]
         ]
        },
        "geo": {
         "center": {},
         "domain": {
          "x": [
           0,
           1
          ],
          "y": [
           0,
           1
          ]
         }
        },
        "height": 900,
        "legend": {
         "tracegroupgap": 0
        },
        "sliders": [
         {
          "active": 0,
          "currentvalue": {
           "prefix": "Year="
          },
          "len": 0.9,
          "pad": {
           "b": 10,
           "t": 60
          },
          "steps": [
           {
            "args": [
             [
              "2006"
             ],
             {
              "frame": {
               "duration": 0,
               "redraw": true
              },
              "fromcurrent": true,
              "mode": "immediate",
              "transition": {
               "duration": 0,
               "easing": "linear"
              }
             }
            ],
            "label": "2006",
            "method": "animate"
           },
           {
            "args": [
             [
              "2008"
             ],
             {
              "frame": {
               "duration": 0,
               "redraw": true
              },
              "fromcurrent": true,
              "mode": "immediate",
              "transition": {
               "duration": 0,
               "easing": "linear"
              }
             }
            ],
            "label": "2008",
            "method": "animate"
           },
           {
            "args": [
             [
              "2010"
             ],
             {
              "frame": {
               "duration": 0,
               "redraw": true
              },
              "fromcurrent": true,
              "mode": "immediate",
              "transition": {
               "duration": 0,
               "easing": "linear"
              }
             }
            ],
            "label": "2010",
            "method": "animate"
           },
           {
            "args": [
             [
              "2011"
             ],
             {
              "frame": {
               "duration": 0,
               "redraw": true
              },
              "fromcurrent": true,
              "mode": "immediate",
              "transition": {
               "duration": 0,
               "easing": "linear"
              }
             }
            ],
            "label": "2011",
            "method": "animate"
           },
           {
            "args": [
             [
              "2012"
             ],
             {
              "frame": {
               "duration": 0,
               "redraw": true
              },
              "fromcurrent": true,
              "mode": "immediate",
              "transition": {
               "duration": 0,
               "easing": "linear"
              }
             }
            ],
            "label": "2012",
            "method": "animate"
           },
           {
            "args": [
             [
              "2013"
             ],
             {
              "frame": {
               "duration": 0,
               "redraw": true
              },
              "fromcurrent": true,
              "mode": "immediate",
              "transition": {
               "duration": 0,
               "easing": "linear"
              }
             }
            ],
            "label": "2013",
            "method": "animate"
           },
           {
            "args": [
             [
              "2014"
             ],
             {
              "frame": {
               "duration": 0,
               "redraw": true
              },
              "fromcurrent": true,
              "mode": "immediate",
              "transition": {
               "duration": 0,
               "easing": "linear"
              }
             }
            ],
            "label": "2014",
            "method": "animate"
           },
           {
            "args": [
             [
              "2015"
             ],
             {
              "frame": {
               "duration": 0,
               "redraw": true
              },
              "fromcurrent": true,
              "mode": "immediate",
              "transition": {
               "duration": 0,
               "easing": "linear"
              }
             }
            ],
            "label": "2015",
            "method": "animate"
           },
           {
            "args": [
             [
              "2016"
             ],
             {
              "frame": {
               "duration": 0,
               "redraw": true
              },
              "fromcurrent": true,
              "mode": "immediate",
              "transition": {
               "duration": 0,
               "easing": "linear"
              }
             }
            ],
            "label": "2016",
            "method": "animate"
           },
           {
            "args": [
             [
              "2017"
             ],
             {
              "frame": {
               "duration": 0,
               "redraw": true
              },
              "fromcurrent": true,
              "mode": "immediate",
              "transition": {
               "duration": 0,
               "easing": "linear"
              }
             }
            ],
            "label": "2017",
            "method": "animate"
           },
           {
            "args": [
             [
              "2018"
             ],
             {
              "frame": {
               "duration": 0,
               "redraw": true
              },
              "fromcurrent": true,
              "mode": "immediate",
              "transition": {
               "duration": 0,
               "easing": "linear"
              }
             }
            ],
            "label": "2018",
            "method": "animate"
           },
           {
            "args": [
             [
              "2019"
             ],
             {
              "frame": {
               "duration": 0,
               "redraw": true
              },
              "fromcurrent": true,
              "mode": "immediate",
              "transition": {
               "duration": 0,
               "easing": "linear"
              }
             }
            ],
            "label": "2019",
            "method": "animate"
           },
           {
            "args": [
             [
              "2020"
             ],
             {
              "frame": {
               "duration": 0,
               "redraw": true
              },
              "fromcurrent": true,
              "mode": "immediate",
              "transition": {
               "duration": 0,
               "easing": "linear"
              }
             }
            ],
            "label": "2020",
            "method": "animate"
           },
           {
            "args": [
             [
              "2021"
             ],
             {
              "frame": {
               "duration": 0,
               "redraw": true
              },
              "fromcurrent": true,
              "mode": "immediate",
              "transition": {
               "duration": 0,
               "easing": "linear"
              }
             }
            ],
            "label": "2021",
            "method": "animate"
           },
           {
            "args": [
             [
              "2022"
             ],
             {
              "frame": {
               "duration": 0,
               "redraw": true
              },
              "fromcurrent": true,
              "mode": "immediate",
              "transition": {
               "duration": 0,
               "easing": "linear"
              }
             }
            ],
            "label": "2022",
            "method": "animate"
           }
          ],
          "x": 0.1,
          "xanchor": "left",
          "y": 0,
          "yanchor": "top"
         }
        ],
        "template": {
         "data": {
          "bar": [
           {
            "error_x": {
             "color": "#2a3f5f"
            },
            "error_y": {
             "color": "#2a3f5f"
            },
            "marker": {
             "line": {
              "color": "#E5ECF6",
              "width": 0.5
             },
             "pattern": {
              "fillmode": "overlay",
              "size": 10,
              "solidity": 0.2
             }
            },
            "type": "bar"
           }
          ],
          "barpolar": [
           {
            "marker": {
             "line": {
              "color": "#E5ECF6",
              "width": 0.5
             },
             "pattern": {
              "fillmode": "overlay",
              "size": 10,
              "solidity": 0.2
             }
            },
            "type": "barpolar"
           }
          ],
          "carpet": [
           {
            "aaxis": {
             "endlinecolor": "#2a3f5f",
             "gridcolor": "white",
             "linecolor": "white",
             "minorgridcolor": "white",
             "startlinecolor": "#2a3f5f"
            },
            "baxis": {
             "endlinecolor": "#2a3f5f",
             "gridcolor": "white",
             "linecolor": "white",
             "minorgridcolor": "white",
             "startlinecolor": "#2a3f5f"
            },
            "type": "carpet"
           }
          ],
          "choropleth": [
           {
            "colorbar": {
             "outlinewidth": 0,
             "ticks": ""
            },
            "type": "choropleth"
           }
          ],
          "contour": [
           {
            "colorbar": {
             "outlinewidth": 0,
             "ticks": ""
            },
            "colorscale": [
             [
              0,
              "#0d0887"
             ],
             [
              0.1111111111111111,
              "#46039f"
             ],
             [
              0.2222222222222222,
              "#7201a8"
             ],
             [
              0.3333333333333333,
              "#9c179e"
             ],
             [
              0.4444444444444444,
              "#bd3786"
             ],
             [
              0.5555555555555556,
              "#d8576b"
             ],
             [
              0.6666666666666666,
              "#ed7953"
             ],
             [
              0.7777777777777778,
              "#fb9f3a"
             ],
             [
              0.8888888888888888,
              "#fdca26"
             ],
             [
              1,
              "#f0f921"
             ]
            ],
            "type": "contour"
           }
          ],
          "contourcarpet": [
           {
            "colorbar": {
             "outlinewidth": 0,
             "ticks": ""
            },
            "type": "contourcarpet"
           }
          ],
          "heatmap": [
           {
            "colorbar": {
             "outlinewidth": 0,
             "ticks": ""
            },
            "colorscale": [
             [
              0,
              "#0d0887"
             ],
             [
              0.1111111111111111,
              "#46039f"
             ],
             [
              0.2222222222222222,
              "#7201a8"
             ],
             [
              0.3333333333333333,
              "#9c179e"
             ],
             [
              0.4444444444444444,
              "#bd3786"
             ],
             [
              0.5555555555555556,
              "#d8576b"
             ],
             [
              0.6666666666666666,
              "#ed7953"
             ],
             [
              0.7777777777777778,
              "#fb9f3a"
             ],
             [
              0.8888888888888888,
              "#fdca26"
             ],
             [
              1,
              "#f0f921"
             ]
            ],
            "type": "heatmap"
           }
          ],
          "heatmapgl": [
           {
            "colorbar": {
             "outlinewidth": 0,
             "ticks": ""
            },
            "colorscale": [
             [
              0,
              "#0d0887"
             ],
             [
              0.1111111111111111,
              "#46039f"
             ],
             [
              0.2222222222222222,
              "#7201a8"
             ],
             [
              0.3333333333333333,
              "#9c179e"
             ],
             [
              0.4444444444444444,
              "#bd3786"
             ],
             [
              0.5555555555555556,
              "#d8576b"
             ],
             [
              0.6666666666666666,
              "#ed7953"
             ],
             [
              0.7777777777777778,
              "#fb9f3a"
             ],
             [
              0.8888888888888888,
              "#fdca26"
             ],
             [
              1,
              "#f0f921"
             ]
            ],
            "type": "heatmapgl"
           }
          ],
          "histogram": [
           {
            "marker": {
             "pattern": {
              "fillmode": "overlay",
              "size": 10,
              "solidity": 0.2
             }
            },
            "type": "histogram"
           }
          ],
          "histogram2d": [
           {
            "colorbar": {
             "outlinewidth": 0,
             "ticks": ""
            },
            "colorscale": [
             [
              0,
              "#0d0887"
             ],
             [
              0.1111111111111111,
              "#46039f"
             ],
             [
              0.2222222222222222,
              "#7201a8"
             ],
             [
              0.3333333333333333,
              "#9c179e"
             ],
             [
              0.4444444444444444,
              "#bd3786"
             ],
             [
              0.5555555555555556,
              "#d8576b"
             ],
             [
              0.6666666666666666,
              "#ed7953"
             ],
             [
              0.7777777777777778,
              "#fb9f3a"
             ],
             [
              0.8888888888888888,
              "#fdca26"
             ],
             [
              1,
              "#f0f921"
             ]
            ],
            "type": "histogram2d"
           }
          ],
          "histogram2dcontour": [
           {
            "colorbar": {
             "outlinewidth": 0,
             "ticks": ""
            },
            "colorscale": [
             [
              0,
              "#0d0887"
             ],
             [
              0.1111111111111111,
              "#46039f"
             ],
             [
              0.2222222222222222,
              "#7201a8"
             ],
             [
              0.3333333333333333,
              "#9c179e"
             ],
             [
              0.4444444444444444,
              "#bd3786"
             ],
             [
              0.5555555555555556,
              "#d8576b"
             ],
             [
              0.6666666666666666,
              "#ed7953"
             ],
             [
              0.7777777777777778,
              "#fb9f3a"
             ],
             [
              0.8888888888888888,
              "#fdca26"
             ],
             [
              1,
              "#f0f921"
             ]
            ],
            "type": "histogram2dcontour"
           }
          ],
          "mesh3d": [
           {
            "colorbar": {
             "outlinewidth": 0,
             "ticks": ""
            },
            "type": "mesh3d"
           }
          ],
          "parcoords": [
           {
            "line": {
             "colorbar": {
              "outlinewidth": 0,
              "ticks": ""
             }
            },
            "type": "parcoords"
           }
          ],
          "pie": [
           {
            "automargin": true,
            "type": "pie"
           }
          ],
          "scatter": [
           {
            "fillpattern": {
             "fillmode": "overlay",
             "size": 10,
             "solidity": 0.2
            },
            "type": "scatter"
           }
          ],
          "scatter3d": [
           {
            "line": {
             "colorbar": {
              "outlinewidth": 0,
              "ticks": ""
             }
            },
            "marker": {
             "colorbar": {
              "outlinewidth": 0,
              "ticks": ""
             }
            },
            "type": "scatter3d"
           }
          ],
          "scattercarpet": [
           {
            "marker": {
             "colorbar": {
              "outlinewidth": 0,
              "ticks": ""
             }
            },
            "type": "scattercarpet"
           }
          ],
          "scattergeo": [
           {
            "marker": {
             "colorbar": {
              "outlinewidth": 0,
              "ticks": ""
             }
            },
            "type": "scattergeo"
           }
          ],
          "scattergl": [
           {
            "marker": {
             "colorbar": {
              "outlinewidth": 0,
              "ticks": ""
             }
            },
            "type": "scattergl"
           }
          ],
          "scattermapbox": [
           {
            "marker": {
             "colorbar": {
              "outlinewidth": 0,
              "ticks": ""
             }
            },
            "type": "scattermapbox"
           }
          ],
          "scatterpolar": [
           {
            "marker": {
             "colorbar": {
              "outlinewidth": 0,
              "ticks": ""
             }
            },
            "type": "scatterpolar"
           }
          ],
          "scatterpolargl": [
           {
            "marker": {
             "colorbar": {
              "outlinewidth": 0,
              "ticks": ""
             }
            },
            "type": "scatterpolargl"
           }
          ],
          "scatterternary": [
           {
            "marker": {
             "colorbar": {
              "outlinewidth": 0,
              "ticks": ""
             }
            },
            "type": "scatterternary"
           }
          ],
          "surface": [
           {
            "colorbar": {
             "outlinewidth": 0,
             "ticks": ""
            },
            "colorscale": [
             [
              0,
              "#0d0887"
             ],
             [
              0.1111111111111111,
              "#46039f"
             ],
             [
              0.2222222222222222,
              "#7201a8"
             ],
             [
              0.3333333333333333,
              "#9c179e"
             ],
             [
              0.4444444444444444,
              "#bd3786"
             ],
             [
              0.5555555555555556,
              "#d8576b"
             ],
             [
              0.6666666666666666,
              "#ed7953"
             ],
             [
              0.7777777777777778,
              "#fb9f3a"
             ],
             [
              0.8888888888888888,
              "#fdca26"
             ],
             [
              1,
              "#f0f921"
             ]
            ],
            "type": "surface"
           }
          ],
          "table": [
           {
            "cells": {
             "fill": {
              "color": "#EBF0F8"
             },
             "line": {
              "color": "white"
             }
            },
            "header": {
             "fill": {
              "color": "#C8D4E3"
             },
             "line": {
              "color": "white"
             }
            },
            "type": "table"
           }
          ]
         },
         "layout": {
          "annotationdefaults": {
           "arrowcolor": "#2a3f5f",
           "arrowhead": 0,
           "arrowwidth": 1
          },
          "autotypenumbers": "strict",
          "coloraxis": {
           "colorbar": {
            "outlinewidth": 0,
            "ticks": ""
           }
          },
          "colorscale": {
           "diverging": [
            [
             0,
             "#8e0152"
            ],
            [
             0.1,
             "#c51b7d"
            ],
            [
             0.2,
             "#de77ae"
            ],
            [
             0.3,
             "#f1b6da"
            ],
            [
             0.4,
             "#fde0ef"
            ],
            [
             0.5,
             "#f7f7f7"
            ],
            [
             0.6,
             "#e6f5d0"
            ],
            [
             0.7,
             "#b8e186"
            ],
            [
             0.8,
             "#7fbc41"
            ],
            [
             0.9,
             "#4d9221"
            ],
            [
             1,
             "#276419"
            ]
           ],
           "sequential": [
            [
             0,
             "#0d0887"
            ],
            [
             0.1111111111111111,
             "#46039f"
            ],
            [
             0.2222222222222222,
             "#7201a8"
            ],
            [
             0.3333333333333333,
             "#9c179e"
            ],
            [
             0.4444444444444444,
             "#bd3786"
            ],
            [
             0.5555555555555556,
             "#d8576b"
            ],
            [
             0.6666666666666666,
             "#ed7953"
            ],
            [
             0.7777777777777778,
             "#fb9f3a"
            ],
            [
             0.8888888888888888,
             "#fdca26"
            ],
            [
             1,
             "#f0f921"
            ]
           ],
           "sequentialminus": [
            [
             0,
             "#0d0887"
            ],
            [
             0.1111111111111111,
             "#46039f"
            ],
            [
             0.2222222222222222,
             "#7201a8"
            ],
            [
             0.3333333333333333,
             "#9c179e"
            ],
            [
             0.4444444444444444,
             "#bd3786"
            ],
            [
             0.5555555555555556,
             "#d8576b"
            ],
            [
             0.6666666666666666,
             "#ed7953"
            ],
            [
             0.7777777777777778,
             "#fb9f3a"
            ],
            [
             0.8888888888888888,
             "#fdca26"
            ],
            [
             1,
             "#f0f921"
            ]
           ]
          },
          "colorway": [
           "#636efa",
           "#EF553B",
           "#00cc96",
           "#ab63fa",
           "#FFA15A",
           "#19d3f3",
           "#FF6692",
           "#B6E880",
           "#FF97FF",
           "#FECB52"
          ],
          "font": {
           "color": "#2a3f5f"
          },
          "geo": {
           "bgcolor": "white",
           "lakecolor": "white",
           "landcolor": "#E5ECF6",
           "showlakes": true,
           "showland": true,
           "subunitcolor": "white"
          },
          "hoverlabel": {
           "align": "left"
          },
          "hovermode": "closest",
          "mapbox": {
           "style": "light"
          },
          "paper_bgcolor": "white",
          "plot_bgcolor": "#E5ECF6",
          "polar": {
           "angularaxis": {
            "gridcolor": "white",
            "linecolor": "white",
            "ticks": ""
           },
           "bgcolor": "#E5ECF6",
           "radialaxis": {
            "gridcolor": "white",
            "linecolor": "white",
            "ticks": ""
           }
          },
          "scene": {
           "xaxis": {
            "backgroundcolor": "#E5ECF6",
            "gridcolor": "white",
            "gridwidth": 2,
            "linecolor": "white",
            "showbackground": true,
            "ticks": "",
            "zerolinecolor": "white"
           },
           "yaxis": {
            "backgroundcolor": "#E5ECF6",
            "gridcolor": "white",
            "gridwidth": 2,
            "linecolor": "white",
            "showbackground": true,
            "ticks": "",
            "zerolinecolor": "white"
           },
           "zaxis": {
            "backgroundcolor": "#E5ECF6",
            "gridcolor": "white",
            "gridwidth": 2,
            "linecolor": "white",
            "showbackground": true,
            "ticks": "",
            "zerolinecolor": "white"
           }
          },
          "shapedefaults": {
           "line": {
            "color": "#2a3f5f"
           }
          },
          "ternary": {
           "aaxis": {
            "gridcolor": "white",
            "linecolor": "white",
            "ticks": ""
           },
           "baxis": {
            "gridcolor": "white",
            "linecolor": "white",
            "ticks": ""
           },
           "bgcolor": "#E5ECF6",
           "caxis": {
            "gridcolor": "white",
            "linecolor": "white",
            "ticks": ""
           }
          },
          "title": {
           "x": 0.05
          },
          "xaxis": {
           "automargin": true,
           "gridcolor": "white",
           "linecolor": "white",
           "ticks": "",
           "title": {
            "standoff": 15
           },
           "zerolinecolor": "white",
           "zerolinewidth": 2
          },
          "yaxis": {
           "automargin": true,
           "gridcolor": "white",
           "linecolor": "white",
           "ticks": "",
           "title": {
            "standoff": 15
           },
           "zerolinecolor": "white",
           "zerolinewidth": 2
          }
         }
        },
        "title": {
         "text": "Democracy Index Score 2006-2022<br>Source: <a href=\"https://en.wikipedia.org/wiki/Democracy_Index\">            Democracy Index</a>"
        },
        "updatemenus": [
         {
          "buttons": [
           {
            "args": [
             null,
             {
              "frame": {
               "duration": 500,
               "redraw": true
              },
              "fromcurrent": true,
              "mode": "immediate",
              "transition": {
               "duration": 500,
               "easing": "linear"
              }
             }
            ],
            "label": "&#9654;",
            "method": "animate"
           },
           {
            "args": [
             [
              null
             ],
             {
              "frame": {
               "duration": 0,
               "redraw": true
              },
              "fromcurrent": true,
              "mode": "immediate",
              "transition": {
               "duration": 0,
               "easing": "linear"
              }
             }
            ],
            "label": "&#9724;",
            "method": "animate"
           }
          ],
          "direction": "left",
          "pad": {
           "r": 10,
           "t": 70
          },
          "showactive": false,
          "type": "buttons",
          "x": 0.1,
          "xanchor": "right",
          "y": 0,
          "yanchor": "top"
         }
        ]
       }
      }
     },
     "metadata": {},
     "output_type": "display_data"
    }
   ],
   "source": [
    "import plotly.express as px\n",
    "index_colors = ['#200211','#5d0e1a','#9b3327','#e3754f','#f1b26e','#f9e096','#b2d878','#7bbb6d','#489657','#2b6619']\n",
    "# px.colors.diverging.Temps[::-1]\n",
    "\n",
    "\n",
    "fig = px.choropleth(melt_df, \n",
    "        locations=\"CODE\",\n",
    "        color=\"Score\", \n",
    "        hover_name=\"COUNTRY\",\n",
    "        color_continuous_scale=index_colors,\n",
    "        hover_data={'Year': False, 'five_year_mean': True, 'CODE': False},\n",
    "        height=900,\n",
    "        animation_frame=\"Year\",\n",
    "        title='Democracy Index Score 2006-2022<br>Source: <a href=\"https://en.wikipedia.org/wiki/Democracy_Index\">\\\n",
    "            Democracy Index</a>')\n",
    "\n",
    "fig.show()"
   ]
  }
 ],
 "metadata": {
  "kernelspec": {
   "display_name": "Python 3",
   "language": "python",
   "name": "python3"
  },
  "language_info": {
   "codemirror_mode": {
    "name": "ipython",
    "version": 3
   },
   "file_extension": ".py",
   "mimetype": "text/x-python",
   "name": "python",
   "nbconvert_exporter": "python",
   "pygments_lexer": "ipython3",
   "version": "3.10.6"
  },
  "orig_nbformat": 4,
  "vscode": {
   "interpreter": {
    "hash": "b0fa6594d8f4cbf19f97940f81e996739fb7646882a419484c72d19e05852a7e"
   }
  }
 },
 "nbformat": 4,
 "nbformat_minor": 2
}
