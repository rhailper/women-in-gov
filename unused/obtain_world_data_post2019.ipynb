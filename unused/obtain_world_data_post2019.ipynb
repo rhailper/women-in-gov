{
 "cells": [
  {
   "cell_type": "code",
   "execution_count": 2,
   "metadata": {},
   "outputs": [],
   "source": [
    "import pandas as pd\n",
    "import time"
   ]
  },
  {
   "cell_type": "code",
   "execution_count": 3,
   "metadata": {},
   "outputs": [],
   "source": [
    "def obtain_data(month,year):\n",
    "    '''Function that uses the ipu api (see url below) to download the data in its raw form'''\n",
    "    df = pd.read_csv('https://data.ipu.org/api/women-ranking.csv?load-entity-refs=taxonomy_term%2Cfield_collection_item&max-depth=2&langcode=en&month={}&year={}'.format(month,year))\n",
    "    return df"
   ]
  },
  {
   "cell_type": "code",
   "execution_count": 4,
   "metadata": {},
   "outputs": [],
   "source": [
    "# loop through months and years 2019-2022 and pull the data, save each file to the data/world_data folder\n",
    "for year in ['2019','2020','2021','2022']:\n",
    "    for month in range(1,13):\n",
    "        try:\n",
    "            df = obtain_data(month,year)\n",
    "            df.to_csv('data/world_data/' + 'wd_' + str(month) + '_' + year + '.csv', index=False)\n",
    "        except:\n",
    "            print(str(month) + ',' + year + ' did not work.' )\n",
    "        time.sleep(15)\n"
   ]
  }
 ],
 "metadata": {
  "kernelspec": {
   "display_name": "Python 3",
   "language": "python",
   "name": "python3"
  },
  "language_info": {
   "codemirror_mode": {
    "name": "ipython",
    "version": 3
   },
   "file_extension": ".py",
   "mimetype": "text/x-python",
   "name": "python",
   "nbconvert_exporter": "python",
   "pygments_lexer": "ipython3",
   "version": "3.10.1 (tags/v3.10.1:2cd268a, Dec  6 2021, 19:10:37) [MSC v.1929 64 bit (AMD64)]"
  },
  "orig_nbformat": 4,
  "vscode": {
   "interpreter": {
    "hash": "c3b289da90590ffb95a2a1aefc0631385fa9737b58ef171b8fb4f3b4265a3e93"
   }
  }
 },
 "nbformat": 4,
 "nbformat_minor": 2
}
