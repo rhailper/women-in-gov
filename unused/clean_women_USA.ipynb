{
 "cells": [
  {
   "cell_type": "code",
   "execution_count": 1,
   "metadata": {},
   "outputs": [],
   "source": [
    "import pandas as pd\n",
    "import numpy as np"
   ]
  },
  {
   "cell_type": "code",
   "execution_count": 2,
   "metadata": {},
   "outputs": [],
   "source": [
    "# read in the data\n",
    "df = pd.read_csv('data/women_in_politics_USA.csv')"
   ]
  },
  {
   "cell_type": "code",
   "execution_count": 3,
   "metadata": {},
   "outputs": [],
   "source": [
    "# lower column names and replace spaces wiht underscores\n",
    "df.columns = [col.lower().replace(' ','_') for col in df.columns]"
   ]
  },
  {
   "cell_type": "code",
   "execution_count": 4,
   "metadata": {},
   "outputs": [],
   "source": [
    "# only include at US Senate and House \n",
    "df = df[(df['position']=='U.S. Representative')|(df['position']=='U.S. Senator')]"
   ]
  },
  {
   "cell_type": "code",
   "execution_count": 5,
   "metadata": {
    "scrolled": true
   },
   "outputs": [],
   "source": [
    "# group the dataframe by position (house vs senate) and by year and get the size (the number of women)\n",
    "women_in_congress = pd.DataFrame(df.groupby(['year','position']).size()).reset_index().rename({0:'num_women'},axis=1)\n",
    "# add in a \n",
    "women_in_congress['seats'] = np.where(women_in_congress['position']=='U.S. Senator', 100, 435)\n",
    "women_in_congress['percent_women'] = women_in_congress['num_women']/women_in_congress['seats']*100"
   ]
  },
  {
   "cell_type": "code",
   "execution_count": 6,
   "metadata": {},
   "outputs": [],
   "source": [
    "# add in a column that is the total number of seats (100 for senate, 435 for house)\n",
    "women_in_congress['seats'] = np.where(women_in_congress['position']=='U.S. Senator', 100, 435)"
   ]
  },
  {
   "cell_type": "code",
   "execution_count": 7,
   "metadata": {},
   "outputs": [],
   "source": [
    "# get the percent of women in congress\n",
    "women_in_congress['percent_women'] = women_in_congress['num_women']/women_in_congress['seats']*100"
   ]
  },
  {
   "cell_type": "code",
   "execution_count": 8,
   "metadata": {},
   "outputs": [],
   "source": [
    "# get the percent change in number of women in congress compared to previous year\n",
    "women_in_congress['percent_change_from_previous_year'] = women_in_congress.groupby('position')['num_women'].pct_change()"
   ]
  },
  {
   "cell_type": "code",
   "execution_count": 10,
   "metadata": {},
   "outputs": [],
   "source": [
    "# save to csv file in data folder\n",
    "women_in_congress.to_csv('data/aggregate_women_in_congress.csv',index=False)"
   ]
  }
 ],
 "metadata": {
  "kernelspec": {
   "display_name": "Python 3 (ipykernel)",
   "language": "python",
   "name": "python3"
  },
  "language_info": {
   "codemirror_mode": {
    "name": "ipython",
    "version": 3
   },
   "file_extension": ".py",
   "mimetype": "text/x-python",
   "name": "python",
   "nbconvert_exporter": "python",
   "pygments_lexer": "ipython3",
   "version": "3.9.15"
  },
  "toc": {
   "base_numbering": 1,
   "nav_menu": {},
   "number_sections": false,
   "sideBar": true,
   "skip_h1_title": false,
   "title_cell": "Table of Contents",
   "title_sidebar": "Contents",
   "toc_cell": true,
   "toc_position": {},
   "toc_section_display": true,
   "toc_window_display": true
  },
  "vscode": {
   "interpreter": {
    "hash": "a23322d535482f71618cbdd3ed8f86a1f1cff9a935422214cedb9783ad801556"
   }
  }
 },
 "nbformat": 4,
 "nbformat_minor": 2
}
