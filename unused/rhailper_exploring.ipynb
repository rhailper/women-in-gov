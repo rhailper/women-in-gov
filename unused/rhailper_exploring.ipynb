{
 "cells": [
  {
   "cell_type": "code",
   "execution_count": 1,
   "metadata": {},
   "outputs": [],
   "source": [
    "import pandas as pd\n",
    "import plotly.express as px\n",
    "import numpy as np"
   ]
  },
  {
   "cell_type": "code",
   "execution_count": 2,
   "metadata": {},
   "outputs": [],
   "source": [
    "def change_countries(x, countries):\n",
    "    '''makes countries consistent across dataframes'''\n",
    "    for country,variations in countries.items():\n",
    "        for variation in variations.values():\n",
    "            if x == variation:\n",
    "                return country \n",
    "    return x"
   ]
  },
  {
   "attachments": {},
   "cell_type": "markdown",
   "metadata": {},
   "source": [
    "### Box Plot of democracy index data"
   ]
  },
  {
   "cell_type": "code",
   "execution_count": 3,
   "metadata": {},
   "outputs": [],
   "source": [
    "# read in democracy data\n",
    "dem_idx = pd.read_csv('../data/democracy_index_data.csv')"
   ]
  },
  {
   "cell_type": "code",
   "execution_count": 4,
   "metadata": {},
   "outputs": [
    {
     "data": {
      "application/vnd.plotly.v1+json": {
       "config": {
        "plotlyServerURL": "https://plot.ly"
       },
       "data": [
        {
         "alignmentgroup": "True",
         "hovertemplate": "region=North America<br>five_year_mean=%{y}<extra></extra>",
         "legendgroup": "North America",
         "marker": {
          "color": "rgb(95, 70, 144)"
         },
         "name": "North America",
         "notched": false,
         "offsetgroup": "North America",
         "orientation": "v",
         "showlegend": true,
         "type": "box",
         "x0": " ",
         "xaxis": "x",
         "y": [
          9.072,
          7.907999999999999
         ],
         "y0": " ",
         "yaxis": "y"
        },
        {
         "alignmentgroup": "True",
         "hovertemplate": "region=Western Europe<br>five_year_mean=%{y}<extra></extra>",
         "legendgroup": "Western Europe",
         "marker": {
          "color": "rgb(29, 105, 150)"
         },
         "name": "Western Europe",
         "notched": false,
         "offsetgroup": "Western Europe",
         "orientation": "v",
         "showlegend": true,
         "type": "box",
         "x0": " ",
         "xaxis": "x",
         "y": [
          8.202,
          7.616,
          7.51,
          9.191999999999998,
          9.23,
          7.994,
          8.7,
          7.528,
          9.446,
          9.114,
          7.667999999999999,
          8.758000000000001,
          7.822,
          8.948,
          9.822,
          7.908000000000001,
          8.1,
          9.338,
          8.986,
          4.328,
          8.394
         ],
         "y0": " ",
         "yaxis": "y"
        },
        {
         "alignmentgroup": "True",
         "hovertemplate": "region=Central and Eastern Europe<br>five_year_mean=%{y}<extra></extra>",
         "legendgroup": "Central and Eastern Europe",
         "marker": {
          "color": "rgb(56, 166, 165)"
         },
         "name": "Central and Eastern Europe",
         "notched": false,
         "offsetgroup": "Central and Eastern Europe",
         "orientation": "v",
         "showlegend": true,
         "type": "box",
         "x0": " ",
         "xaxis": "x",
         "y": [
          6.094,
          5.359999999999999,
          2.726,
          2.5200000000000005,
          4.944,
          6.787999999999999,
          6.5280000000000005,
          7.752000000000001,
          7.901999999999999,
          5.31,
          6.5920000000000005,
          3.036,
          4.29,
          7.358000000000001,
          7.324,
          5.942,
          5.926,
          5.972,
          6.795999999999999,
          6.4300000000000015,
          2.976,
          6.346,
          7.0680000000000005,
          7.566,
          1.936,
          1.6960000000000002,
          5.678000000000001,
          2.076
         ],
         "y0": " ",
         "yaxis": "y"
        },
        {
         "alignmentgroup": "True",
         "hovertemplate": "region=Latin America and the Caribbean<br>five_year_mean=%{y}<extra></extra>",
         "legendgroup": "Latin America and the Caribbean",
         "marker": {
          "color": "rgb(15, 133, 84)"
         },
         "name": "Latin America and the Caribbean",
         "notched": false,
         "offsetgroup": "Latin America and the Caribbean",
         "orientation": "v",
         "showlegend": true,
         "type": "box",
         "x0": " ",
         "xaxis": "x",
         "y": [
          6.93,
          4.956,
          6.878,
          8.094,
          6.866,
          8.144,
          2.784,
          6.448,
          6.026,
          5.758,
          5.026000000000001,
          6.284000000000001,
          3.998,
          5.332,
          7.074000000000001,
          5.8340000000000005,
          3.194,
          7.008,
          6.082000000000001,
          6.348000000000001,
          6.909999999999999,
          7.159999999999999,
          8.626000000000001,
          2.628
         ],
         "y0": " ",
         "yaxis": "y"
        },
        {
         "alignmentgroup": "True",
         "hovertemplate": "region=Asia and Australasia<br>five_year_mean=%{y}<extra></extra>",
         "legendgroup": "Asia and Australasia",
         "marker": {
          "color": "rgb(115, 175, 72)"
         },
         "name": "Asia and Australasia",
         "notched": false,
         "offsetgroup": "Asia and Australasia",
         "orientation": "v",
         "showlegend": true,
         "type": "box",
         "x0": " ",
         "xaxis": "x",
         "y": [
          1.862,
          8.95,
          5.884,
          5.5120000000000005,
          3.26,
          2.4,
          5.715999999999999,
          5.723999999999999,
          6.938,
          6.517999999999999,
          8.118,
          1.964,
          7.154000000000001,
          6.45,
          2.436,
          4.916,
          9.349999999999998,
          1.08,
          4.234,
          6.046000000000001,
          6.651999999999999,
          6.176,
          8.04,
          6.242,
          8.476000000000003,
          5.94,
          7.112,
          2.954
         ],
         "y0": " ",
         "yaxis": "y"
        },
        {
         "alignmentgroup": "True",
         "hovertemplate": "region=Middle East and North Africa<br>five_year_mean=%{y}<extra></extra>",
         "legendgroup": "Middle East and North Africa",
         "marker": {
          "color": "rgb(237, 173, 8)"
         },
         "name": "Middle East and North Africa",
         "notched": false,
         "offsetgroup": "Middle East and North Africa",
         "orientation": "v",
         "showlegend": true,
         "type": "box",
         "x0": " ",
         "xaxis": "x",
         "y": [
          3.742,
          2.558,
          3.0420000000000003,
          2.188,
          3.612,
          7.878,
          3.628,
          3.864,
          4.126,
          2.034,
          5.042,
          3.0440000000000005,
          3.982,
          3.3839999999999995,
          2.02,
          2.466,
          1.43,
          6.244,
          2.804,
          1.95
         ],
         "y0": " ",
         "yaxis": "y"
        },
        {
         "alignmentgroup": "True",
         "hovertemplate": "region=Sub-Saharan Africa<br>five_year_mean=%{y}<extra></extra>",
         "legendgroup": "Sub-Saharan Africa",
         "marker": {
          "color": "rgb(225, 124, 5)"
         },
         "name": "Sub-Saharan Africa",
         "notched": false,
         "offsetgroup": "Sub-Saharan Africa",
         "orientation": "v",
         "showlegend": true,
         "type": "box",
         "x0": " ",
         "xaxis": "x",
         "y": [
          3.666,
          4.776000000000001,
          7.74,
          3.888,
          2.176,
          7.722000000000001,
          2.804,
          1.3880000000000003,
          1.622,
          3.2700000000000005,
          3.022,
          4.15,
          1.326,
          2.7660000000000005,
          1.92,
          2.19,
          3.068,
          3.3280000000000003,
          3.512,
          4.401999999999999,
          6.537999999999999,
          2.7920000000000003,
          2.51,
          5.087999999999999,
          6.394,
          5.395999999999999,
          5.5920000000000005,
          5.676,
          4.194,
          3.944,
          8.16,
          3.606,
          6.447999999999999,
          3.458,
          4.2,
          3.162,
          5.776000000000001,
          4.876,
          7.126,
          5.174,
          2.998,
          4.838,
          5.416,
          3.064
         ],
         "y0": " ",
         "yaxis": "y"
        }
       ],
       "layout": {
        "boxmode": "group",
        "height": 400,
        "legend": {
         "title": {
          "text": "region"
         },
         "tracegroupgap": 0
        },
        "template": {
         "data": {
          "bar": [
           {
            "error_x": {
             "color": "#2a3f5f"
            },
            "error_y": {
             "color": "#2a3f5f"
            },
            "marker": {
             "line": {
              "color": "white",
              "width": 0.5
             },
             "pattern": {
              "fillmode": "overlay",
              "size": 10,
              "solidity": 0.2
             }
            },
            "type": "bar"
           }
          ],
          "barpolar": [
           {
            "marker": {
             "line": {
              "color": "white",
              "width": 0.5
             },
             "pattern": {
              "fillmode": "overlay",
              "size": 10,
              "solidity": 0.2
             }
            },
            "type": "barpolar"
           }
          ],
          "carpet": [
           {
            "aaxis": {
             "endlinecolor": "#2a3f5f",
             "gridcolor": "#C8D4E3",
             "linecolor": "#C8D4E3",
             "minorgridcolor": "#C8D4E3",
             "startlinecolor": "#2a3f5f"
            },
            "baxis": {
             "endlinecolor": "#2a3f5f",
             "gridcolor": "#C8D4E3",
             "linecolor": "#C8D4E3",
             "minorgridcolor": "#C8D4E3",
             "startlinecolor": "#2a3f5f"
            },
            "type": "carpet"
           }
          ],
          "choropleth": [
           {
            "colorbar": {
             "outlinewidth": 0,
             "ticks": ""
            },
            "type": "choropleth"
           }
          ],
          "contour": [
           {
            "colorbar": {
             "outlinewidth": 0,
             "ticks": ""
            },
            "colorscale": [
             [
              0,
              "#0d0887"
             ],
             [
              0.1111111111111111,
              "#46039f"
             ],
             [
              0.2222222222222222,
              "#7201a8"
             ],
             [
              0.3333333333333333,
              "#9c179e"
             ],
             [
              0.4444444444444444,
              "#bd3786"
             ],
             [
              0.5555555555555556,
              "#d8576b"
             ],
             [
              0.6666666666666666,
              "#ed7953"
             ],
             [
              0.7777777777777778,
              "#fb9f3a"
             ],
             [
              0.8888888888888888,
              "#fdca26"
             ],
             [
              1,
              "#f0f921"
             ]
            ],
            "type": "contour"
           }
          ],
          "contourcarpet": [
           {
            "colorbar": {
             "outlinewidth": 0,
             "ticks": ""
            },
            "type": "contourcarpet"
           }
          ],
          "heatmap": [
           {
            "colorbar": {
             "outlinewidth": 0,
             "ticks": ""
            },
            "colorscale": [
             [
              0,
              "#0d0887"
             ],
             [
              0.1111111111111111,
              "#46039f"
             ],
             [
              0.2222222222222222,
              "#7201a8"
             ],
             [
              0.3333333333333333,
              "#9c179e"
             ],
             [
              0.4444444444444444,
              "#bd3786"
             ],
             [
              0.5555555555555556,
              "#d8576b"
             ],
             [
              0.6666666666666666,
              "#ed7953"
             ],
             [
              0.7777777777777778,
              "#fb9f3a"
             ],
             [
              0.8888888888888888,
              "#fdca26"
             ],
             [
              1,
              "#f0f921"
             ]
            ],
            "type": "heatmap"
           }
          ],
          "heatmapgl": [
           {
            "colorbar": {
             "outlinewidth": 0,
             "ticks": ""
            },
            "colorscale": [
             [
              0,
              "#0d0887"
             ],
             [
              0.1111111111111111,
              "#46039f"
             ],
             [
              0.2222222222222222,
              "#7201a8"
             ],
             [
              0.3333333333333333,
              "#9c179e"
             ],
             [
              0.4444444444444444,
              "#bd3786"
             ],
             [
              0.5555555555555556,
              "#d8576b"
             ],
             [
              0.6666666666666666,
              "#ed7953"
             ],
             [
              0.7777777777777778,
              "#fb9f3a"
             ],
             [
              0.8888888888888888,
              "#fdca26"
             ],
             [
              1,
              "#f0f921"
             ]
            ],
            "type": "heatmapgl"
           }
          ],
          "histogram": [
           {
            "marker": {
             "pattern": {
              "fillmode": "overlay",
              "size": 10,
              "solidity": 0.2
             }
            },
            "type": "histogram"
           }
          ],
          "histogram2d": [
           {
            "colorbar": {
             "outlinewidth": 0,
             "ticks": ""
            },
            "colorscale": [
             [
              0,
              "#0d0887"
             ],
             [
              0.1111111111111111,
              "#46039f"
             ],
             [
              0.2222222222222222,
              "#7201a8"
             ],
             [
              0.3333333333333333,
              "#9c179e"
             ],
             [
              0.4444444444444444,
              "#bd3786"
             ],
             [
              0.5555555555555556,
              "#d8576b"
             ],
             [
              0.6666666666666666,
              "#ed7953"
             ],
             [
              0.7777777777777778,
              "#fb9f3a"
             ],
             [
              0.8888888888888888,
              "#fdca26"
             ],
             [
              1,
              "#f0f921"
             ]
            ],
            "type": "histogram2d"
           }
          ],
          "histogram2dcontour": [
           {
            "colorbar": {
             "outlinewidth": 0,
             "ticks": ""
            },
            "colorscale": [
             [
              0,
              "#0d0887"
             ],
             [
              0.1111111111111111,
              "#46039f"
             ],
             [
              0.2222222222222222,
              "#7201a8"
             ],
             [
              0.3333333333333333,
              "#9c179e"
             ],
             [
              0.4444444444444444,
              "#bd3786"
             ],
             [
              0.5555555555555556,
              "#d8576b"
             ],
             [
              0.6666666666666666,
              "#ed7953"
             ],
             [
              0.7777777777777778,
              "#fb9f3a"
             ],
             [
              0.8888888888888888,
              "#fdca26"
             ],
             [
              1,
              "#f0f921"
             ]
            ],
            "type": "histogram2dcontour"
           }
          ],
          "mesh3d": [
           {
            "colorbar": {
             "outlinewidth": 0,
             "ticks": ""
            },
            "type": "mesh3d"
           }
          ],
          "parcoords": [
           {
            "line": {
             "colorbar": {
              "outlinewidth": 0,
              "ticks": ""
             }
            },
            "type": "parcoords"
           }
          ],
          "pie": [
           {
            "automargin": true,
            "type": "pie"
           }
          ],
          "scatter": [
           {
            "fillpattern": {
             "fillmode": "overlay",
             "size": 10,
             "solidity": 0.2
            },
            "type": "scatter"
           }
          ],
          "scatter3d": [
           {
            "line": {
             "colorbar": {
              "outlinewidth": 0,
              "ticks": ""
             }
            },
            "marker": {
             "colorbar": {
              "outlinewidth": 0,
              "ticks": ""
             }
            },
            "type": "scatter3d"
           }
          ],
          "scattercarpet": [
           {
            "marker": {
             "colorbar": {
              "outlinewidth": 0,
              "ticks": ""
             }
            },
            "type": "scattercarpet"
           }
          ],
          "scattergeo": [
           {
            "marker": {
             "colorbar": {
              "outlinewidth": 0,
              "ticks": ""
             }
            },
            "type": "scattergeo"
           }
          ],
          "scattergl": [
           {
            "marker": {
             "colorbar": {
              "outlinewidth": 0,
              "ticks": ""
             }
            },
            "type": "scattergl"
           }
          ],
          "scattermapbox": [
           {
            "marker": {
             "colorbar": {
              "outlinewidth": 0,
              "ticks": ""
             }
            },
            "type": "scattermapbox"
           }
          ],
          "scatterpolar": [
           {
            "marker": {
             "colorbar": {
              "outlinewidth": 0,
              "ticks": ""
             }
            },
            "type": "scatterpolar"
           }
          ],
          "scatterpolargl": [
           {
            "marker": {
             "colorbar": {
              "outlinewidth": 0,
              "ticks": ""
             }
            },
            "type": "scatterpolargl"
           }
          ],
          "scatterternary": [
           {
            "marker": {
             "colorbar": {
              "outlinewidth": 0,
              "ticks": ""
             }
            },
            "type": "scatterternary"
           }
          ],
          "surface": [
           {
            "colorbar": {
             "outlinewidth": 0,
             "ticks": ""
            },
            "colorscale": [
             [
              0,
              "#0d0887"
             ],
             [
              0.1111111111111111,
              "#46039f"
             ],
             [
              0.2222222222222222,
              "#7201a8"
             ],
             [
              0.3333333333333333,
              "#9c179e"
             ],
             [
              0.4444444444444444,
              "#bd3786"
             ],
             [
              0.5555555555555556,
              "#d8576b"
             ],
             [
              0.6666666666666666,
              "#ed7953"
             ],
             [
              0.7777777777777778,
              "#fb9f3a"
             ],
             [
              0.8888888888888888,
              "#fdca26"
             ],
             [
              1,
              "#f0f921"
             ]
            ],
            "type": "surface"
           }
          ],
          "table": [
           {
            "cells": {
             "fill": {
              "color": "#EBF0F8"
             },
             "line": {
              "color": "white"
             }
            },
            "header": {
             "fill": {
              "color": "#C8D4E3"
             },
             "line": {
              "color": "white"
             }
            },
            "type": "table"
           }
          ]
         },
         "layout": {
          "annotationdefaults": {
           "arrowcolor": "#2a3f5f",
           "arrowhead": 0,
           "arrowwidth": 1
          },
          "autotypenumbers": "strict",
          "coloraxis": {
           "colorbar": {
            "outlinewidth": 0,
            "ticks": ""
           }
          },
          "colorscale": {
           "diverging": [
            [
             0,
             "#8e0152"
            ],
            [
             0.1,
             "#c51b7d"
            ],
            [
             0.2,
             "#de77ae"
            ],
            [
             0.3,
             "#f1b6da"
            ],
            [
             0.4,
             "#fde0ef"
            ],
            [
             0.5,
             "#f7f7f7"
            ],
            [
             0.6,
             "#e6f5d0"
            ],
            [
             0.7,
             "#b8e186"
            ],
            [
             0.8,
             "#7fbc41"
            ],
            [
             0.9,
             "#4d9221"
            ],
            [
             1,
             "#276419"
            ]
           ],
           "sequential": [
            [
             0,
             "#0d0887"
            ],
            [
             0.1111111111111111,
             "#46039f"
            ],
            [
             0.2222222222222222,
             "#7201a8"
            ],
            [
             0.3333333333333333,
             "#9c179e"
            ],
            [
             0.4444444444444444,
             "#bd3786"
            ],
            [
             0.5555555555555556,
             "#d8576b"
            ],
            [
             0.6666666666666666,
             "#ed7953"
            ],
            [
             0.7777777777777778,
             "#fb9f3a"
            ],
            [
             0.8888888888888888,
             "#fdca26"
            ],
            [
             1,
             "#f0f921"
            ]
           ],
           "sequentialminus": [
            [
             0,
             "#0d0887"
            ],
            [
             0.1111111111111111,
             "#46039f"
            ],
            [
             0.2222222222222222,
             "#7201a8"
            ],
            [
             0.3333333333333333,
             "#9c179e"
            ],
            [
             0.4444444444444444,
             "#bd3786"
            ],
            [
             0.5555555555555556,
             "#d8576b"
            ],
            [
             0.6666666666666666,
             "#ed7953"
            ],
            [
             0.7777777777777778,
             "#fb9f3a"
            ],
            [
             0.8888888888888888,
             "#fdca26"
            ],
            [
             1,
             "#f0f921"
            ]
           ]
          },
          "colorway": [
           "#636efa",
           "#EF553B",
           "#00cc96",
           "#ab63fa",
           "#FFA15A",
           "#19d3f3",
           "#FF6692",
           "#B6E880",
           "#FF97FF",
           "#FECB52"
          ],
          "font": {
           "color": "#2a3f5f"
          },
          "geo": {
           "bgcolor": "white",
           "lakecolor": "white",
           "landcolor": "white",
           "showlakes": true,
           "showland": true,
           "subunitcolor": "#C8D4E3"
          },
          "hoverlabel": {
           "align": "left"
          },
          "hovermode": "closest",
          "mapbox": {
           "style": "light"
          },
          "paper_bgcolor": "white",
          "plot_bgcolor": "white",
          "polar": {
           "angularaxis": {
            "gridcolor": "#EBF0F8",
            "linecolor": "#EBF0F8",
            "ticks": ""
           },
           "bgcolor": "white",
           "radialaxis": {
            "gridcolor": "#EBF0F8",
            "linecolor": "#EBF0F8",
            "ticks": ""
           }
          },
          "scene": {
           "xaxis": {
            "backgroundcolor": "white",
            "gridcolor": "#DFE8F3",
            "gridwidth": 2,
            "linecolor": "#EBF0F8",
            "showbackground": true,
            "ticks": "",
            "zerolinecolor": "#EBF0F8"
           },
           "yaxis": {
            "backgroundcolor": "white",
            "gridcolor": "#DFE8F3",
            "gridwidth": 2,
            "linecolor": "#EBF0F8",
            "showbackground": true,
            "ticks": "",
            "zerolinecolor": "#EBF0F8"
           },
           "zaxis": {
            "backgroundcolor": "white",
            "gridcolor": "#DFE8F3",
            "gridwidth": 2,
            "linecolor": "#EBF0F8",
            "showbackground": true,
            "ticks": "",
            "zerolinecolor": "#EBF0F8"
           }
          },
          "shapedefaults": {
           "line": {
            "color": "#2a3f5f"
           }
          },
          "ternary": {
           "aaxis": {
            "gridcolor": "#DFE8F3",
            "linecolor": "#A2B1C6",
            "ticks": ""
           },
           "baxis": {
            "gridcolor": "#DFE8F3",
            "linecolor": "#A2B1C6",
            "ticks": ""
           },
           "bgcolor": "white",
           "caxis": {
            "gridcolor": "#DFE8F3",
            "linecolor": "#A2B1C6",
            "ticks": ""
           }
          },
          "title": {
           "x": 0.05
          },
          "xaxis": {
           "automargin": true,
           "gridcolor": "#EBF0F8",
           "linecolor": "#EBF0F8",
           "ticks": "",
           "title": {
            "standoff": 15
           },
           "zerolinecolor": "#EBF0F8",
           "zerolinewidth": 2
          },
          "yaxis": {
           "automargin": true,
           "gridcolor": "#EBF0F8",
           "linecolor": "#EBF0F8",
           "ticks": "",
           "title": {
            "standoff": 15
           },
           "zerolinecolor": "#EBF0F8",
           "zerolinewidth": 2
          }
         }
        },
        "title": {
         "text": "Box Plots of the Democracy Index Score by Region"
        },
        "width": 800,
        "xaxis": {
         "anchor": "y",
         "domain": [
          0,
          1
         ]
        },
        "yaxis": {
         "anchor": "x",
         "domain": [
          0,
          1
         ],
         "title": {
          "text": "Democracy Index Score (5 year mean)"
         }
        }
       }
      }
     },
     "metadata": {},
     "output_type": "display_data"
    }
   ],
   "source": [
    "# create box plot\n",
    "fig = px.box(dem_idx, \n",
    "            y=\"five_year_mean\",\n",
    "            color=\"region\",\n",
    "            template='plotly_white',    \n",
    "            color_discrete_sequence=px.colors.qualitative.Prism,\n",
    "            title= 'Box Plots of the Democracy Index Score by Region',\n",
    "            width=800,\n",
    "            height=400,\n",
    "            )\n",
    "fig.update_yaxes(title_text='Democracy Index Score (5 year mean)')\n",
    "fig.show()"
   ]
  },
  {
   "attachments": {},
   "cell_type": "markdown",
   "metadata": {},
   "source": [
    "### Histogram of women data"
   ]
  },
  {
   "cell_type": "markdown",
   "metadata": {},
   "source": [
    "In addition to having the percent women in parliments for each country for each year, it is helpful to have the data for only 2022. Addtionally, this 2022 dataframe will be converted from wide to long, with a column indicating whether the data is from the lower or upper house.  "
   ]
  },
  {
   "cell_type": "code",
   "execution_count": 5,
   "metadata": {},
   "outputs": [],
   "source": [
    "women = pd.read_csv('../data/world_data_final.csv')"
   ]
  },
  {
   "cell_type": "code",
   "execution_count": 6,
   "metadata": {},
   "outputs": [],
   "source": [
    "# convert to datetime\n",
    "women['lower_single_house_elections'] = pd.to_datetime(women['lower_single_house_elections'])\n",
    "women['upper_house_senate_elections_year'] = pd.to_datetime(women['upper_house_senate_elections'])\n",
    "\n",
    "# get 2022 data\n",
    "women2022 = women[(women['lower_single_house_elections'].dt.year== 2022)|(women['upper_house_senate_elections_year'].dt.year== 2022)]\n",
    "\n",
    "# melt dataframe \n",
    "women_melted = women2022.reset_index().melt(id_vars=['country'],value_vars=['lower_single_house_percent_w','upper_house_senate_percent_w'],value_name='Percent Women',var_name='House')\n",
    "\n",
    "# convert to percents\n",
    "women_melted['Percent Women'] = round(women_melted.loc[:,'Percent Women']*100,2).astype(float)"
   ]
  },
  {
   "cell_type": "code",
   "execution_count": 8,
   "metadata": {},
   "outputs": [
    {
     "data": {
      "application/vnd.plotly.v1+json": {
       "config": {
        "plotlyServerURL": "https://plot.ly"
       },
       "data": [
        {
         "alignmentgroup": "True",
         "bingroup": "x",
         "hovertemplate": "House=lower_single_house_percent_w<br>Percent Women=%{x}<br>count=%{y}<extra></extra>",
         "legendgroup": "",
         "marker": {
          "color": "rgb(29, 105, 150)",
          "pattern": {
           "shape": ""
          }
         },
         "name": "",
         "nbinsx": 10,
         "offsetgroup": "",
         "orientation": "v",
         "showlegend": false,
         "type": "histogram",
         "x": [
          47.37,
          46.13,
          44.24,
          40,
          38.55,
          38.41,
          37.26,
          36.96,
          33.64,
          33.58,
          32.25,
          31.25,
          29.63,
          28.88,
          27.85,
          27.33,
          26.67,
          25.5,
          23.43,
          19.72,
          14.94,
          14.57,
          14.55,
          14.07,
          10.53,
          9.91,
          9.09,
          8.62,
          8.11,
          6.25,
          4,
          1.74,
          46.42,
          38.41,
          37.26,
          36.96,
          36.55,
          31.25,
          30,
          29.63,
          28.88,
          26.67,
          26.45,
          25.5,
          24.17,
          23.43,
          17.74,
          16.67,
          14.94,
          14.57,
          14.07,
          12.31,
          10.53,
          9.91,
          6.25,
          6.25,
          1.92,
          1.74,
          43.58,
          40,
          33.09,
          31,
          30,
          29.63,
          28.88,
          28.7,
          26.67,
          26.45,
          23.33,
          20,
          16.9,
          16.67,
          14.94,
          13.57,
          36.84,
          33.58,
          29.63,
          26.67,
          26.67,
          28.88,
          19.72,
          14.94,
          8.11,
          38.8,
          33.58,
          19.72,
          8.62,
          38.41,
          36.96,
          33.58,
          27.96,
          38.8,
          33.33,
          16.56,
          14.94,
          1.82,
          33.64,
          23.43,
          19.72
         ],
         "xaxis": "x",
         "yaxis": "y"
        },
        {
         "alignmentgroup": "True",
         "bingroup": "x",
         "hovertemplate": "House=upper_house_senate_percent_w<br>Percent Women=%{x}<br>count=%{y}<extra></extra>",
         "legendgroup": "",
         "marker": {
          "color": "rgb(29, 105, 150)",
          "pattern": {
           "shape": ""
          }
         },
         "name": "",
         "nbinsx": 10,
         "offsetgroup": "",
         "orientation": "v",
         "showlegend": false,
         "type": "histogram",
         "x": [
          null,
          null,
          null,
          10,
          null,
          56.58,
          35.06,
          null,
          null,
          37.29,
          34.47,
          30.77,
          null,
          29.63,
          null,
          29.17,
          42.11,
          18.52,
          31.82,
          null,
          13.92,
          18.84,
          null,
          null,
          null,
          25.81,
          null,
          null,
          4.27,
          null,
          null,
          null,
          null,
          56.58,
          35.06,
          null,
          null,
          null,
          null,
          null,
          29.63,
          42.11,
          21.21,
          18.52,
          null,
          31.82,
          16.05,
          20,
          13.92,
          18.84,
          null,
          15.38,
          null,
          25.81,
          null,
          null,
          null,
          null,
          null,
          17.5,
          37.29,
          21.62,
          null,
          null,
          29.63,
          25.25,
          42.11,
          24.24,
          null,
          25,
          null,
          20,
          13.92,
          18.18,
          null,
          37.29,
          null,
          42.86,
          44.44,
          29.63,
          null,
          12.29,
          4.27,
          null,
          37.29,
          null,
          null,
          56.58,
          null,
          37.29,
          29.17,
          null,
          15.38,
          18.84,
          12.29,
          null,
          null,
          30.88,
          null
         ],
         "xaxis": "x2",
         "yaxis": "y2"
        }
       ],
       "layout": {
        "annotations": [
         {
          "font": {},
          "showarrow": false,
          "text": "Lower Houses",
          "x": 0.245,
          "xanchor": "center",
          "xref": "paper",
          "y": 1,
          "yanchor": "bottom",
          "yref": "paper"
         },
         {
          "font": {},
          "showarrow": false,
          "text": "Upper Houses",
          "x": 0.755,
          "xanchor": "center",
          "xref": "paper",
          "y": 1,
          "yanchor": "bottom",
          "yref": "paper"
         }
        ],
        "barmode": "relative",
        "height": 400,
        "legend": {
         "tracegroupgap": 0
        },
        "template": {
         "data": {
          "bar": [
           {
            "error_x": {
             "color": "#2a3f5f"
            },
            "error_y": {
             "color": "#2a3f5f"
            },
            "marker": {
             "line": {
              "color": "white",
              "width": 0.5
             },
             "pattern": {
              "fillmode": "overlay",
              "size": 10,
              "solidity": 0.2
             }
            },
            "type": "bar"
           }
          ],
          "barpolar": [
           {
            "marker": {
             "line": {
              "color": "white",
              "width": 0.5
             },
             "pattern": {
              "fillmode": "overlay",
              "size": 10,
              "solidity": 0.2
             }
            },
            "type": "barpolar"
           }
          ],
          "carpet": [
           {
            "aaxis": {
             "endlinecolor": "#2a3f5f",
             "gridcolor": "#C8D4E3",
             "linecolor": "#C8D4E3",
             "minorgridcolor": "#C8D4E3",
             "startlinecolor": "#2a3f5f"
            },
            "baxis": {
             "endlinecolor": "#2a3f5f",
             "gridcolor": "#C8D4E3",
             "linecolor": "#C8D4E3",
             "minorgridcolor": "#C8D4E3",
             "startlinecolor": "#2a3f5f"
            },
            "type": "carpet"
           }
          ],
          "choropleth": [
           {
            "colorbar": {
             "outlinewidth": 0,
             "ticks": ""
            },
            "type": "choropleth"
           }
          ],
          "contour": [
           {
            "colorbar": {
             "outlinewidth": 0,
             "ticks": ""
            },
            "colorscale": [
             [
              0,
              "#0d0887"
             ],
             [
              0.1111111111111111,
              "#46039f"
             ],
             [
              0.2222222222222222,
              "#7201a8"
             ],
             [
              0.3333333333333333,
              "#9c179e"
             ],
             [
              0.4444444444444444,
              "#bd3786"
             ],
             [
              0.5555555555555556,
              "#d8576b"
             ],
             [
              0.6666666666666666,
              "#ed7953"
             ],
             [
              0.7777777777777778,
              "#fb9f3a"
             ],
             [
              0.8888888888888888,
              "#fdca26"
             ],
             [
              1,
              "#f0f921"
             ]
            ],
            "type": "contour"
           }
          ],
          "contourcarpet": [
           {
            "colorbar": {
             "outlinewidth": 0,
             "ticks": ""
            },
            "type": "contourcarpet"
           }
          ],
          "heatmap": [
           {
            "colorbar": {
             "outlinewidth": 0,
             "ticks": ""
            },
            "colorscale": [
             [
              0,
              "#0d0887"
             ],
             [
              0.1111111111111111,
              "#46039f"
             ],
             [
              0.2222222222222222,
              "#7201a8"
             ],
             [
              0.3333333333333333,
              "#9c179e"
             ],
             [
              0.4444444444444444,
              "#bd3786"
             ],
             [
              0.5555555555555556,
              "#d8576b"
             ],
             [
              0.6666666666666666,
              "#ed7953"
             ],
             [
              0.7777777777777778,
              "#fb9f3a"
             ],
             [
              0.8888888888888888,
              "#fdca26"
             ],
             [
              1,
              "#f0f921"
             ]
            ],
            "type": "heatmap"
           }
          ],
          "heatmapgl": [
           {
            "colorbar": {
             "outlinewidth": 0,
             "ticks": ""
            },
            "colorscale": [
             [
              0,
              "#0d0887"
             ],
             [
              0.1111111111111111,
              "#46039f"
             ],
             [
              0.2222222222222222,
              "#7201a8"
             ],
             [
              0.3333333333333333,
              "#9c179e"
             ],
             [
              0.4444444444444444,
              "#bd3786"
             ],
             [
              0.5555555555555556,
              "#d8576b"
             ],
             [
              0.6666666666666666,
              "#ed7953"
             ],
             [
              0.7777777777777778,
              "#fb9f3a"
             ],
             [
              0.8888888888888888,
              "#fdca26"
             ],
             [
              1,
              "#f0f921"
             ]
            ],
            "type": "heatmapgl"
           }
          ],
          "histogram": [
           {
            "marker": {
             "pattern": {
              "fillmode": "overlay",
              "size": 10,
              "solidity": 0.2
             }
            },
            "type": "histogram"
           }
          ],
          "histogram2d": [
           {
            "colorbar": {
             "outlinewidth": 0,
             "ticks": ""
            },
            "colorscale": [
             [
              0,
              "#0d0887"
             ],
             [
              0.1111111111111111,
              "#46039f"
             ],
             [
              0.2222222222222222,
              "#7201a8"
             ],
             [
              0.3333333333333333,
              "#9c179e"
             ],
             [
              0.4444444444444444,
              "#bd3786"
             ],
             [
              0.5555555555555556,
              "#d8576b"
             ],
             [
              0.6666666666666666,
              "#ed7953"
             ],
             [
              0.7777777777777778,
              "#fb9f3a"
             ],
             [
              0.8888888888888888,
              "#fdca26"
             ],
             [
              1,
              "#f0f921"
             ]
            ],
            "type": "histogram2d"
           }
          ],
          "histogram2dcontour": [
           {
            "colorbar": {
             "outlinewidth": 0,
             "ticks": ""
            },
            "colorscale": [
             [
              0,
              "#0d0887"
             ],
             [
              0.1111111111111111,
              "#46039f"
             ],
             [
              0.2222222222222222,
              "#7201a8"
             ],
             [
              0.3333333333333333,
              "#9c179e"
             ],
             [
              0.4444444444444444,
              "#bd3786"
             ],
             [
              0.5555555555555556,
              "#d8576b"
             ],
             [
              0.6666666666666666,
              "#ed7953"
             ],
             [
              0.7777777777777778,
              "#fb9f3a"
             ],
             [
              0.8888888888888888,
              "#fdca26"
             ],
             [
              1,
              "#f0f921"
             ]
            ],
            "type": "histogram2dcontour"
           }
          ],
          "mesh3d": [
           {
            "colorbar": {
             "outlinewidth": 0,
             "ticks": ""
            },
            "type": "mesh3d"
           }
          ],
          "parcoords": [
           {
            "line": {
             "colorbar": {
              "outlinewidth": 0,
              "ticks": ""
             }
            },
            "type": "parcoords"
           }
          ],
          "pie": [
           {
            "automargin": true,
            "type": "pie"
           }
          ],
          "scatter": [
           {
            "fillpattern": {
             "fillmode": "overlay",
             "size": 10,
             "solidity": 0.2
            },
            "type": "scatter"
           }
          ],
          "scatter3d": [
           {
            "line": {
             "colorbar": {
              "outlinewidth": 0,
              "ticks": ""
             }
            },
            "marker": {
             "colorbar": {
              "outlinewidth": 0,
              "ticks": ""
             }
            },
            "type": "scatter3d"
           }
          ],
          "scattercarpet": [
           {
            "marker": {
             "colorbar": {
              "outlinewidth": 0,
              "ticks": ""
             }
            },
            "type": "scattercarpet"
           }
          ],
          "scattergeo": [
           {
            "marker": {
             "colorbar": {
              "outlinewidth": 0,
              "ticks": ""
             }
            },
            "type": "scattergeo"
           }
          ],
          "scattergl": [
           {
            "marker": {
             "colorbar": {
              "outlinewidth": 0,
              "ticks": ""
             }
            },
            "type": "scattergl"
           }
          ],
          "scattermapbox": [
           {
            "marker": {
             "colorbar": {
              "outlinewidth": 0,
              "ticks": ""
             }
            },
            "type": "scattermapbox"
           }
          ],
          "scatterpolar": [
           {
            "marker": {
             "colorbar": {
              "outlinewidth": 0,
              "ticks": ""
             }
            },
            "type": "scatterpolar"
           }
          ],
          "scatterpolargl": [
           {
            "marker": {
             "colorbar": {
              "outlinewidth": 0,
              "ticks": ""
             }
            },
            "type": "scatterpolargl"
           }
          ],
          "scatterternary": [
           {
            "marker": {
             "colorbar": {
              "outlinewidth": 0,
              "ticks": ""
             }
            },
            "type": "scatterternary"
           }
          ],
          "surface": [
           {
            "colorbar": {
             "outlinewidth": 0,
             "ticks": ""
            },
            "colorscale": [
             [
              0,
              "#0d0887"
             ],
             [
              0.1111111111111111,
              "#46039f"
             ],
             [
              0.2222222222222222,
              "#7201a8"
             ],
             [
              0.3333333333333333,
              "#9c179e"
             ],
             [
              0.4444444444444444,
              "#bd3786"
             ],
             [
              0.5555555555555556,
              "#d8576b"
             ],
             [
              0.6666666666666666,
              "#ed7953"
             ],
             [
              0.7777777777777778,
              "#fb9f3a"
             ],
             [
              0.8888888888888888,
              "#fdca26"
             ],
             [
              1,
              "#f0f921"
             ]
            ],
            "type": "surface"
           }
          ],
          "table": [
           {
            "cells": {
             "fill": {
              "color": "#EBF0F8"
             },
             "line": {
              "color": "white"
             }
            },
            "header": {
             "fill": {
              "color": "#C8D4E3"
             },
             "line": {
              "color": "white"
             }
            },
            "type": "table"
           }
          ]
         },
         "layout": {
          "annotationdefaults": {
           "arrowcolor": "#2a3f5f",
           "arrowhead": 0,
           "arrowwidth": 1
          },
          "autotypenumbers": "strict",
          "coloraxis": {
           "colorbar": {
            "outlinewidth": 0,
            "ticks": ""
           }
          },
          "colorscale": {
           "diverging": [
            [
             0,
             "#8e0152"
            ],
            [
             0.1,
             "#c51b7d"
            ],
            [
             0.2,
             "#de77ae"
            ],
            [
             0.3,
             "#f1b6da"
            ],
            [
             0.4,
             "#fde0ef"
            ],
            [
             0.5,
             "#f7f7f7"
            ],
            [
             0.6,
             "#e6f5d0"
            ],
            [
             0.7,
             "#b8e186"
            ],
            [
             0.8,
             "#7fbc41"
            ],
            [
             0.9,
             "#4d9221"
            ],
            [
             1,
             "#276419"
            ]
           ],
           "sequential": [
            [
             0,
             "#0d0887"
            ],
            [
             0.1111111111111111,
             "#46039f"
            ],
            [
             0.2222222222222222,
             "#7201a8"
            ],
            [
             0.3333333333333333,
             "#9c179e"
            ],
            [
             0.4444444444444444,
             "#bd3786"
            ],
            [
             0.5555555555555556,
             "#d8576b"
            ],
            [
             0.6666666666666666,
             "#ed7953"
            ],
            [
             0.7777777777777778,
             "#fb9f3a"
            ],
            [
             0.8888888888888888,
             "#fdca26"
            ],
            [
             1,
             "#f0f921"
            ]
           ],
           "sequentialminus": [
            [
             0,
             "#0d0887"
            ],
            [
             0.1111111111111111,
             "#46039f"
            ],
            [
             0.2222222222222222,
             "#7201a8"
            ],
            [
             0.3333333333333333,
             "#9c179e"
            ],
            [
             0.4444444444444444,
             "#bd3786"
            ],
            [
             0.5555555555555556,
             "#d8576b"
            ],
            [
             0.6666666666666666,
             "#ed7953"
            ],
            [
             0.7777777777777778,
             "#fb9f3a"
            ],
            [
             0.8888888888888888,
             "#fdca26"
            ],
            [
             1,
             "#f0f921"
            ]
           ]
          },
          "colorway": [
           "#636efa",
           "#EF553B",
           "#00cc96",
           "#ab63fa",
           "#FFA15A",
           "#19d3f3",
           "#FF6692",
           "#B6E880",
           "#FF97FF",
           "#FECB52"
          ],
          "font": {
           "color": "#2a3f5f"
          },
          "geo": {
           "bgcolor": "white",
           "lakecolor": "white",
           "landcolor": "white",
           "showlakes": true,
           "showland": true,
           "subunitcolor": "#C8D4E3"
          },
          "hoverlabel": {
           "align": "left"
          },
          "hovermode": "closest",
          "mapbox": {
           "style": "light"
          },
          "paper_bgcolor": "white",
          "plot_bgcolor": "white",
          "polar": {
           "angularaxis": {
            "gridcolor": "#EBF0F8",
            "linecolor": "#EBF0F8",
            "ticks": ""
           },
           "bgcolor": "white",
           "radialaxis": {
            "gridcolor": "#EBF0F8",
            "linecolor": "#EBF0F8",
            "ticks": ""
           }
          },
          "scene": {
           "xaxis": {
            "backgroundcolor": "white",
            "gridcolor": "#DFE8F3",
            "gridwidth": 2,
            "linecolor": "#EBF0F8",
            "showbackground": true,
            "ticks": "",
            "zerolinecolor": "#EBF0F8"
           },
           "yaxis": {
            "backgroundcolor": "white",
            "gridcolor": "#DFE8F3",
            "gridwidth": 2,
            "linecolor": "#EBF0F8",
            "showbackground": true,
            "ticks": "",
            "zerolinecolor": "#EBF0F8"
           },
           "zaxis": {
            "backgroundcolor": "white",
            "gridcolor": "#DFE8F3",
            "gridwidth": 2,
            "linecolor": "#EBF0F8",
            "showbackground": true,
            "ticks": "",
            "zerolinecolor": "#EBF0F8"
           }
          },
          "shapedefaults": {
           "line": {
            "color": "#2a3f5f"
           }
          },
          "ternary": {
           "aaxis": {
            "gridcolor": "#DFE8F3",
            "linecolor": "#A2B1C6",
            "ticks": ""
           },
           "baxis": {
            "gridcolor": "#DFE8F3",
            "linecolor": "#A2B1C6",
            "ticks": ""
           },
           "bgcolor": "white",
           "caxis": {
            "gridcolor": "#DFE8F3",
            "linecolor": "#A2B1C6",
            "ticks": ""
           }
          },
          "title": {
           "x": 0.05
          },
          "xaxis": {
           "automargin": true,
           "gridcolor": "#EBF0F8",
           "linecolor": "#EBF0F8",
           "ticks": "",
           "title": {
            "standoff": 15
           },
           "zerolinecolor": "#EBF0F8",
           "zerolinewidth": 2
          },
          "yaxis": {
           "automargin": true,
           "gridcolor": "#EBF0F8",
           "linecolor": "#EBF0F8",
           "ticks": "",
           "title": {
            "standoff": 15
           },
           "zerolinecolor": "#EBF0F8",
           "zerolinewidth": 2
          }
         }
        },
        "title": {
         "text": "Histogram of the Percent Women in Parliaments in Countries across the World in 2022"
        },
        "width": 800,
        "xaxis": {
         "anchor": "y",
         "domain": [
          0,
          0.49
         ],
         "title": {
          "text": "Percent Women"
         }
        },
        "xaxis2": {
         "anchor": "y2",
         "domain": [
          0.51,
          1
         ],
         "matches": "x",
         "title": {
          "text": "Percent Women"
         }
        },
        "yaxis": {
         "anchor": "x",
         "domain": [
          0,
          1
         ],
         "title": {
          "text": "count"
         }
        },
        "yaxis2": {
         "anchor": "x2",
         "domain": [
          0,
          1
         ],
         "matches": "y",
         "showticklabels": false
        }
       }
      }
     },
     "metadata": {},
     "output_type": "display_data"
    }
   ],
   "source": [
    "# make histogram\n",
    "fig = px.histogram(women_melted, x='Percent Women',\n",
    "                    facet_col='House',\n",
    "                    nbins=10,\n",
    "                    width=800,\n",
    "                    height=400,\n",
    "                    template='plotly_white',    \n",
    "                    color_discrete_sequence=[px.colors.qualitative.Prism[1],px.colors.qualitative.Prism[2]],\n",
    "                    title= 'Histogram of the Percent Women in Parliaments in Countries across the World in 2022',)\n",
    "\n",
    "facet_titles = ['Lower Houses','Upper Houses']\n",
    "for i, a in enumerate(fig.layout.annotations):\n",
    "    a.text = facet_titles[i]\n",
    "\n",
    "fig.show()"
   ]
  },
  {
   "attachments": {},
   "cell_type": "markdown",
   "metadata": {},
   "source": [
    "### Correlation between percent women in parliaments and democracy index"
   ]
  },
  {
   "attachments": {},
   "cell_type": "markdown",
   "metadata": {},
   "source": [
    "#### Joining the two datasets together"
   ]
  },
  {
   "cell_type": "markdown",
   "metadata": {},
   "source": [
    "In order to run the correlation and produce some of the visualzations, the datasets need to be joined together into one dataframe."
   ]
  },
  {
   "cell_type": "code",
   "execution_count": 9,
   "metadata": {},
   "outputs": [],
   "source": [
    "# read in democracy index data\n",
    "democracy_index = pd.read_csv('../data/democracy_index_data.csv')\n",
    "# read in the percent women in parliments data\n",
    "women_in_parliments =  pd.read_csv('../data/world_data_final.csv')"
   ]
  },
  {
   "cell_type": "code",
   "execution_count": 10,
   "metadata": {},
   "outputs": [],
   "source": [
    "# get a list of years to be used to melt the dataframe\n",
    "years_list = [str(year) for year in range(2010,2023)]\n",
    "years_list.insert(0,'2008')\n",
    "years_list.insert(0,'2006')\n",
    "# melt dataframe from wide to long\n",
    "democracy_index_melted = democracy_index.melt(id_vars=['region','2022_rank','country','regime_type','five_year_mean'],value_vars=years_list,var_name='year',value_name='democracy_index_score')"
   ]
  },
  {
   "attachments": {},
   "cell_type": "markdown",
   "metadata": {},
   "source": [
    "The women in parliments needs to be grouped by year so that each country has one value for each year. "
   ]
  },
  {
   "cell_type": "code",
   "execution_count": 11,
   "metadata": {},
   "outputs": [],
   "source": [
    "# groupby so that there is only one value for each year, get only lower house\n",
    "lower_house = women_in_parliments[['country','lower_single_house_percent_w','lower_single_house_elections_year']].groupby(['country','lower_single_house_elections_year']).apply(lambda x: x['lower_single_house_percent_w'].mean(skipna=False)).dropna().reset_index()\n",
    "lower_house = lower_house.rename({'lower_single_house_elections_year':'year',0:'lower_single_house_percent_w'},axis=1)\n",
    "# take the mean across months so that there is only one value for each year, get only upper house\n",
    "upper_house = women_in_parliments[['country','upper_house_senate_percent_w','upper_house_senate_elections_year']].groupby(['country','upper_house_senate_elections_year']).apply(lambda x: x['upper_house_senate_percent_w'].mean(skipna=False)).dropna().reset_index()\n",
    "upper_house = upper_house.rename({'upper_house_senate_elections_year':'year',0:'upper_house_senate_percent_w'},axis=1)\n",
    "# merge upper and lower back together\n",
    "parliaments = lower_house.merge(upper_house,on=['country','year'], how='outer')"
   ]
  },
  {
   "attachments": {},
   "cell_type": "markdown",
   "metadata": {},
   "source": [
    "##### Changing the countries to match in both datasets"
   ]
  },
  {
   "cell_type": "markdown",
   "metadata": {},
   "source": [
    "In order to join the two datasets together, both datasets must have the same spelling for countries."
   ]
  },
  {
   "cell_type": "code",
   "execution_count": 12,
   "metadata": {},
   "outputs": [],
   "source": [
    "# make sure there is not whitespace in country columns\n",
    "democracy_index_melted['country'] = democracy_index_melted['country'].str.strip()\n",
    "parliaments['country']  = parliaments['country'].str.strip()"
   ]
  },
  {
   "cell_type": "code",
   "execution_count": 13,
   "metadata": {},
   "outputs": [],
   "source": [
    "# read in a list of countries and different spelling variations of those countries\n",
    "countries = pd.read_csv('../data/list_of_countries.csv')\n",
    "countries['Variation1'] = countries['Variation1'].astype(str)\n",
    "countries['Variation2'] = countries['Variation2'].astype(str)\n",
    "countries['Variation3'] = countries['Variation3'].astype(str)\n",
    "countries_dict = countries.set_index('Country')[['Variation1','Variation2','Variation3']].to_dict(orient='index')"
   ]
  },
  {
   "cell_type": "code",
   "execution_count": 14,
   "metadata": {},
   "outputs": [],
   "source": [
    "# make country names consistent \n",
    "parliaments['country'] = parliaments['country'].apply(change_countries,args=(countries_dict,))\n",
    "democracy_index_melted['country'] = democracy_index_melted['country'].apply(change_countries,args=(countries_dict,))"
   ]
  },
  {
   "cell_type": "code",
   "execution_count": 15,
   "metadata": {},
   "outputs": [],
   "source": [
    "# join the two datasets on year and country\n",
    "df = democracy_index_melted.merge(parliaments, on=['country','year'], how='outer')"
   ]
  },
  {
   "cell_type": "markdown",
   "metadata": {},
   "source": [
    "#### Overall correlation"
   ]
  },
  {
   "cell_type": "code",
   "execution_count": 16,
   "metadata": {},
   "outputs": [
    {
     "data": {
      "text/html": [
       "<div>\n",
       "<style scoped>\n",
       "    .dataframe tbody tr th:only-of-type {\n",
       "        vertical-align: middle;\n",
       "    }\n",
       "\n",
       "    .dataframe tbody tr th {\n",
       "        vertical-align: top;\n",
       "    }\n",
       "\n",
       "    .dataframe thead th {\n",
       "        text-align: right;\n",
       "    }\n",
       "</style>\n",
       "<table border=\"1\" class=\"dataframe\">\n",
       "  <thead>\n",
       "    <tr style=\"text-align: right;\">\n",
       "      <th></th>\n",
       "      <th>democracy_index_score</th>\n",
       "      <th>lower_single_house_percent_w</th>\n",
       "      <th>upper_house_senate_percent_w</th>\n",
       "    </tr>\n",
       "  </thead>\n",
       "  <tbody>\n",
       "    <tr>\n",
       "      <th>democracy_index_score</th>\n",
       "      <td>1.000000</td>\n",
       "      <td>0.310565</td>\n",
       "      <td>0.180674</td>\n",
       "    </tr>\n",
       "    <tr>\n",
       "      <th>lower_single_house_percent_w</th>\n",
       "      <td>0.310565</td>\n",
       "      <td>1.000000</td>\n",
       "      <td>0.626076</td>\n",
       "    </tr>\n",
       "    <tr>\n",
       "      <th>upper_house_senate_percent_w</th>\n",
       "      <td>0.180674</td>\n",
       "      <td>0.626076</td>\n",
       "      <td>1.000000</td>\n",
       "    </tr>\n",
       "  </tbody>\n",
       "</table>\n",
       "</div>"
      ],
      "text/plain": [
       "                              democracy_index_score  \\\n",
       "democracy_index_score                      1.000000   \n",
       "lower_single_house_percent_w               0.310565   \n",
       "upper_house_senate_percent_w               0.180674   \n",
       "\n",
       "                              lower_single_house_percent_w  \\\n",
       "democracy_index_score                             0.310565   \n",
       "lower_single_house_percent_w                      1.000000   \n",
       "upper_house_senate_percent_w                      0.626076   \n",
       "\n",
       "                              upper_house_senate_percent_w  \n",
       "democracy_index_score                             0.180674  \n",
       "lower_single_house_percent_w                      0.626076  \n",
       "upper_house_senate_percent_w                      1.000000  "
      ]
     },
     "execution_count": 16,
     "metadata": {},
     "output_type": "execute_result"
    }
   ],
   "source": [
    "corr = df[['democracy_index_score','lower_single_house_percent_w','upper_house_senate_percent_w']].corr()\n",
    "corr"
   ]
  },
  {
   "cell_type": "markdown",
   "metadata": {},
   "source": [
    "#### Correlation by region"
   ]
  },
  {
   "cell_type": "code",
   "execution_count": 17,
   "metadata": {},
   "outputs": [
    {
     "data": {
      "text/html": [
       "<div>\n",
       "<style scoped>\n",
       "    .dataframe tbody tr th:only-of-type {\n",
       "        vertical-align: middle;\n",
       "    }\n",
       "\n",
       "    .dataframe tbody tr th {\n",
       "        vertical-align: top;\n",
       "    }\n",
       "\n",
       "    .dataframe thead th {\n",
       "        text-align: right;\n",
       "    }\n",
       "</style>\n",
       "<table border=\"1\" class=\"dataframe\">\n",
       "  <thead>\n",
       "    <tr style=\"text-align: right;\">\n",
       "      <th></th>\n",
       "      <th></th>\n",
       "      <th>democracy_index_score</th>\n",
       "      <th>lower_single_house_percent_w</th>\n",
       "      <th>upper_house_senate_percent_w</th>\n",
       "    </tr>\n",
       "    <tr>\n",
       "      <th>region</th>\n",
       "      <th></th>\n",
       "      <th></th>\n",
       "      <th></th>\n",
       "      <th></th>\n",
       "    </tr>\n",
       "  </thead>\n",
       "  <tbody>\n",
       "    <tr>\n",
       "      <th rowspan=\"3\" valign=\"top\">Asia and Australasia</th>\n",
       "      <th>democracy_index_score</th>\n",
       "      <td>1.000000</td>\n",
       "      <td>0.128786</td>\n",
       "      <td>0.293848</td>\n",
       "    </tr>\n",
       "    <tr>\n",
       "      <th>lower_single_house_percent_w</th>\n",
       "      <td>0.128786</td>\n",
       "      <td>1.000000</td>\n",
       "      <td>0.885088</td>\n",
       "    </tr>\n",
       "    <tr>\n",
       "      <th>upper_house_senate_percent_w</th>\n",
       "      <td>0.293848</td>\n",
       "      <td>0.885088</td>\n",
       "      <td>1.000000</td>\n",
       "    </tr>\n",
       "    <tr>\n",
       "      <th rowspan=\"3\" valign=\"top\">Central and Eastern Europe</th>\n",
       "      <th>democracy_index_score</th>\n",
       "      <td>1.000000</td>\n",
       "      <td>0.067009</td>\n",
       "      <td>-0.442193</td>\n",
       "    </tr>\n",
       "    <tr>\n",
       "      <th>lower_single_house_percent_w</th>\n",
       "      <td>0.067009</td>\n",
       "      <td>1.000000</td>\n",
       "      <td>0.422929</td>\n",
       "    </tr>\n",
       "    <tr>\n",
       "      <th>upper_house_senate_percent_w</th>\n",
       "      <td>-0.442193</td>\n",
       "      <td>0.422929</td>\n",
       "      <td>1.000000</td>\n",
       "    </tr>\n",
       "    <tr>\n",
       "      <th rowspan=\"3\" valign=\"top\">Latin America and the Caribbean</th>\n",
       "      <th>democracy_index_score</th>\n",
       "      <td>1.000000</td>\n",
       "      <td>-0.217821</td>\n",
       "      <td>0.327432</td>\n",
       "    </tr>\n",
       "    <tr>\n",
       "      <th>lower_single_house_percent_w</th>\n",
       "      <td>-0.217821</td>\n",
       "      <td>1.000000</td>\n",
       "      <td>0.824936</td>\n",
       "    </tr>\n",
       "    <tr>\n",
       "      <th>upper_house_senate_percent_w</th>\n",
       "      <td>0.327432</td>\n",
       "      <td>0.824936</td>\n",
       "      <td>1.000000</td>\n",
       "    </tr>\n",
       "    <tr>\n",
       "      <th rowspan=\"3\" valign=\"top\">Middle East and North Africa</th>\n",
       "      <th>democracy_index_score</th>\n",
       "      <td>1.000000</td>\n",
       "      <td>0.376117</td>\n",
       "      <td>-0.500286</td>\n",
       "    </tr>\n",
       "    <tr>\n",
       "      <th>lower_single_house_percent_w</th>\n",
       "      <td>0.376117</td>\n",
       "      <td>1.000000</td>\n",
       "      <td>0.201189</td>\n",
       "    </tr>\n",
       "    <tr>\n",
       "      <th>upper_house_senate_percent_w</th>\n",
       "      <td>-0.500286</td>\n",
       "      <td>0.201189</td>\n",
       "      <td>1.000000</td>\n",
       "    </tr>\n",
       "    <tr>\n",
       "      <th rowspan=\"3\" valign=\"top\">North America</th>\n",
       "      <th>democracy_index_score</th>\n",
       "      <td>1.000000</td>\n",
       "      <td>0.205076</td>\n",
       "      <td>-0.971636</td>\n",
       "    </tr>\n",
       "    <tr>\n",
       "      <th>lower_single_house_percent_w</th>\n",
       "      <td>0.205076</td>\n",
       "      <td>1.000000</td>\n",
       "      <td>0.914636</td>\n",
       "    </tr>\n",
       "    <tr>\n",
       "      <th>upper_house_senate_percent_w</th>\n",
       "      <td>-0.971636</td>\n",
       "      <td>0.914636</td>\n",
       "      <td>1.000000</td>\n",
       "    </tr>\n",
       "    <tr>\n",
       "      <th rowspan=\"3\" valign=\"top\">Sub-Saharan Africa</th>\n",
       "      <th>democracy_index_score</th>\n",
       "      <td>1.000000</td>\n",
       "      <td>0.113238</td>\n",
       "      <td>-0.066918</td>\n",
       "    </tr>\n",
       "    <tr>\n",
       "      <th>lower_single_house_percent_w</th>\n",
       "      <td>0.113238</td>\n",
       "      <td>1.000000</td>\n",
       "      <td>0.726346</td>\n",
       "    </tr>\n",
       "    <tr>\n",
       "      <th>upper_house_senate_percent_w</th>\n",
       "      <td>-0.066918</td>\n",
       "      <td>0.726346</td>\n",
       "      <td>1.000000</td>\n",
       "    </tr>\n",
       "    <tr>\n",
       "      <th rowspan=\"3\" valign=\"top\">Western Europe</th>\n",
       "      <th>democracy_index_score</th>\n",
       "      <td>1.000000</td>\n",
       "      <td>0.545194</td>\n",
       "      <td>-0.191058</td>\n",
       "    </tr>\n",
       "    <tr>\n",
       "      <th>lower_single_house_percent_w</th>\n",
       "      <td>0.545194</td>\n",
       "      <td>1.000000</td>\n",
       "      <td>0.572877</td>\n",
       "    </tr>\n",
       "    <tr>\n",
       "      <th>upper_house_senate_percent_w</th>\n",
       "      <td>-0.191058</td>\n",
       "      <td>0.572877</td>\n",
       "      <td>1.000000</td>\n",
       "    </tr>\n",
       "  </tbody>\n",
       "</table>\n",
       "</div>"
      ],
      "text/plain": [
       "                                                              democracy_index_score  \\\n",
       "region                                                                                \n",
       "Asia and Australasia            democracy_index_score                      1.000000   \n",
       "                                lower_single_house_percent_w               0.128786   \n",
       "                                upper_house_senate_percent_w               0.293848   \n",
       "Central and Eastern Europe      democracy_index_score                      1.000000   \n",
       "                                lower_single_house_percent_w               0.067009   \n",
       "                                upper_house_senate_percent_w              -0.442193   \n",
       "Latin America and the Caribbean democracy_index_score                      1.000000   \n",
       "                                lower_single_house_percent_w              -0.217821   \n",
       "                                upper_house_senate_percent_w               0.327432   \n",
       "Middle East and North Africa    democracy_index_score                      1.000000   \n",
       "                                lower_single_house_percent_w               0.376117   \n",
       "                                upper_house_senate_percent_w              -0.500286   \n",
       "North America                   democracy_index_score                      1.000000   \n",
       "                                lower_single_house_percent_w               0.205076   \n",
       "                                upper_house_senate_percent_w              -0.971636   \n",
       "Sub-Saharan Africa              democracy_index_score                      1.000000   \n",
       "                                lower_single_house_percent_w               0.113238   \n",
       "                                upper_house_senate_percent_w              -0.066918   \n",
       "Western Europe                  democracy_index_score                      1.000000   \n",
       "                                lower_single_house_percent_w               0.545194   \n",
       "                                upper_house_senate_percent_w              -0.191058   \n",
       "\n",
       "                                                              lower_single_house_percent_w  \\\n",
       "region                                                                                       \n",
       "Asia and Australasia            democracy_index_score                             0.128786   \n",
       "                                lower_single_house_percent_w                      1.000000   \n",
       "                                upper_house_senate_percent_w                      0.885088   \n",
       "Central and Eastern Europe      democracy_index_score                             0.067009   \n",
       "                                lower_single_house_percent_w                      1.000000   \n",
       "                                upper_house_senate_percent_w                      0.422929   \n",
       "Latin America and the Caribbean democracy_index_score                            -0.217821   \n",
       "                                lower_single_house_percent_w                      1.000000   \n",
       "                                upper_house_senate_percent_w                      0.824936   \n",
       "Middle East and North Africa    democracy_index_score                             0.376117   \n",
       "                                lower_single_house_percent_w                      1.000000   \n",
       "                                upper_house_senate_percent_w                      0.201189   \n",
       "North America                   democracy_index_score                             0.205076   \n",
       "                                lower_single_house_percent_w                      1.000000   \n",
       "                                upper_house_senate_percent_w                      0.914636   \n",
       "Sub-Saharan Africa              democracy_index_score                             0.113238   \n",
       "                                lower_single_house_percent_w                      1.000000   \n",
       "                                upper_house_senate_percent_w                      0.726346   \n",
       "Western Europe                  democracy_index_score                             0.545194   \n",
       "                                lower_single_house_percent_w                      1.000000   \n",
       "                                upper_house_senate_percent_w                      0.572877   \n",
       "\n",
       "                                                              upper_house_senate_percent_w  \n",
       "region                                                                                      \n",
       "Asia and Australasia            democracy_index_score                             0.293848  \n",
       "                                lower_single_house_percent_w                      0.885088  \n",
       "                                upper_house_senate_percent_w                      1.000000  \n",
       "Central and Eastern Europe      democracy_index_score                            -0.442193  \n",
       "                                lower_single_house_percent_w                      0.422929  \n",
       "                                upper_house_senate_percent_w                      1.000000  \n",
       "Latin America and the Caribbean democracy_index_score                             0.327432  \n",
       "                                lower_single_house_percent_w                      0.824936  \n",
       "                                upper_house_senate_percent_w                      1.000000  \n",
       "Middle East and North Africa    democracy_index_score                            -0.500286  \n",
       "                                lower_single_house_percent_w                      0.201189  \n",
       "                                upper_house_senate_percent_w                      1.000000  \n",
       "North America                   democracy_index_score                            -0.971636  \n",
       "                                lower_single_house_percent_w                      0.914636  \n",
       "                                upper_house_senate_percent_w                      1.000000  \n",
       "Sub-Saharan Africa              democracy_index_score                            -0.066918  \n",
       "                                lower_single_house_percent_w                      0.726346  \n",
       "                                upper_house_senate_percent_w                      1.000000  \n",
       "Western Europe                  democracy_index_score                            -0.191058  \n",
       "                                lower_single_house_percent_w                      0.572877  \n",
       "                                upper_house_senate_percent_w                      1.000000  "
      ]
     },
     "execution_count": 17,
     "metadata": {},
     "output_type": "execute_result"
    }
   ],
   "source": [
    "corr_by_region = df.groupby('region')[['democracy_index_score','lower_single_house_percent_w','upper_house_senate_percent_w']].corr()\n",
    "corr_by_region"
   ]
  },
  {
   "cell_type": "code",
   "execution_count": 18,
   "metadata": {},
   "outputs": [
    {
     "data": {
      "application/vnd.plotly.v1+json": {
       "config": {
        "plotlyServerURL": "https://plot.ly"
       },
       "data": [
        {
         "hovertemplate": "region=North America<br>year=2006<br>democracy_index_score=%{x}<br>lower_single_house_percent_w=%{marker.size}<extra></extra>",
         "legendgroup": "North America",
         "marker": {
          "color": "rgb(95, 70, 144)",
          "size": [
           0.20956638989425877,
           0.1650669831364287
          ],
          "sizemode": "area",
          "sizeref": 0.00153125,
          "symbol": "circle"
         },
         "mode": "markers",
         "name": "North America",
         "orientation": "v",
         "showlegend": true,
         "type": "scatter",
         "x": [
          9.07,
          8.22
         ],
         "xaxis": "x",
         "y": [
          0.20956638989425877,
          0.1650669831364287
         ],
         "yaxis": "y"
        },
        {
         "hovertemplate": "region=Western Europe<br>year=2006<br>democracy_index_score=%{x}<br>lower_single_house_percent_w=%{marker.size}<extra></extra>",
         "legendgroup": "Western Europe",
         "marker": {
          "color": "rgb(29, 105, 150)",
          "size": [
           0.3245901639344262,
           0.1428571428571428,
           0.1585978835978836,
           0.38476190476190475,
           0.4713467048710601
          ],
          "sizemode": "area",
          "sizeref": 0.00153125,
          "symbol": "circle"
         },
         "mode": "markers",
         "name": "Western Europe",
         "orientation": "v",
         "showlegend": true,
         "type": "scatter",
         "x": [
          8.69,
          7.6,
          7.73,
          9.66,
          9.88
         ],
         "xaxis": "x",
         "y": [
          0.3245901639344262,
          0.1428571428571428,
          0.1585978835978836,
          0.38476190476190475,
          0.4713467048710601
         ],
         "yaxis": "y"
        },
        {
         "hovertemplate": "region=Central and Eastern Europe<br>year=2006<br>democracy_index_score=%{x}<br>lower_single_house_percent_w=%{marker.size}<extra></extra>",
         "legendgroup": "Central and Eastern Europe",
         "marker": {
          "color": "rgb(56, 166, 165)",
          "size": [
           0.12414965986394554,
           0.15499999999999997,
           0.09164507772020722,
           0.19333333333333333,
           0.08916323731138541,
           0.18666666666666668,
           0.06962962962962958
          ],
          "sizemode": "area",
          "sizeref": 0.00153125,
          "symbol": "circle"
         },
         "mode": "markers",
         "name": "Central and Eastern Europe",
         "orientation": "v",
         "showlegend": true,
         "type": "scatter",
         "x": [
          5.78,
          8.17,
          7.53,
          7.37,
          6.57,
          7.4,
          6.94
         ],
         "xaxis": "x",
         "y": [
          0.12414965986394554,
          0.15499999999999997,
          0.09164507772020722,
          0.19333333333333333,
          0.08916323731138541,
          0.18666666666666668,
          0.06962962962962958
         ],
         "yaxis": "y"
        },
        {
         "hovertemplate": "region=Latin America and the Caribbean<br>year=2006<br>democracy_index_score=%{x}<br>lower_single_house_percent_w=%{marker.size}<extra></extra>",
         "legendgroup": "Latin America and the Caribbean",
         "marker": {
          "color": "rgb(15, 133, 84)",
          "size": [
           0.08187134502923972,
           0.07379518072289151,
           0.37134502923976603,
           0.1769662921348314,
           0.2,
           0.15277777777777768,
           0.2548913043478261,
           0.03417732577140238,
           0.18763636363636363,
           0.175889328063241,
           0.2592592592592593
          ],
          "sizemode": "area",
          "sizeref": 0.00153125,
          "symbol": "circle"
         },
         "mode": "markers",
         "name": "Latin America and the Caribbean",
         "orientation": "v",
         "showlegend": true,
         "type": "scatter",
         "x": [
          7.38,
          6.4,
          8.04,
          6.13,
          5.64,
          6.22,
          6.15,
          4.19,
          6.67,
          5.68,
          6.11
         ],
         "xaxis": "x",
         "y": [
          0.08187134502923972,
          0.07379518072289151,
          0.37134502923976603,
          0.1769662921348314,
          0.2,
          0.15277777777777768,
          0.2548913043478261,
          0.03417732577140238,
          0.18763636363636363,
          0.175889328063241,
          0.2592592592592593
         ],
         "yaxis": "y"
        },
        {
         "hovertemplate": "region=Asia and Australasia<br>year=2006<br>democracy_index_score=%{x}<br>lower_single_house_percent_w=%{marker.size}<extra></extra>",
         "legendgroup": "Asia and Australasia",
         "marker": {
          "color": "rgb(115, 175, 72)",
          "size": [
           0.0266666666666666,
           0.11267605633802809,
           0.2521739130434782,
           0.2521739130434782,
           0.2446808510638297,
           0.21176470588235294,
           0.05785123966942147
          ],
          "sizemode": "area",
          "sizeref": 0.00153125,
          "symbol": "circle"
         },
         "mode": "markers",
         "name": "Asia and Australasia",
         "orientation": "v",
         "showlegend": true,
         "type": "scatter",
         "x": [
          2.62,
          5.66,
          2.1,
          2.1,
          5.89,
          5.89,
          5.67
         ],
         "xaxis": "x",
         "y": [
          0.0266666666666666,
          0.11267605633802809,
          0.2521739130434782,
          0.2521739130434782,
          0.2446808510638297,
          0.21176470588235294,
          0.05785123966942147
         ],
         "yaxis": "y"
        },
        {
         "hovertemplate": "region=Middle East and North Africa<br>year=2006<br>democracy_index_score=%{x}<br>lower_single_house_percent_w=%{marker.size}<extra></extra>",
         "legendgroup": "Middle East and North Africa",
         "marker": {
          "color": "rgb(237, 173, 8)",
          "size": [
           0.026515151515151512,
           0.14090909090909085,
           0.0153846153846153,
           0.02393162393162386,
           0,
           0.2
          ],
          "sizemode": "area",
          "sizeref": 0.00153125,
          "symbol": "circle"
         },
         "mode": "markers",
         "name": "Middle East and North Africa",
         "orientation": "v",
         "showlegend": true,
         "type": "scatter",
         "x": [
          3.53,
          7.28,
          3.09,
          3.09,
          2.78,
          2.42
         ],
         "xaxis": "x",
         "y": [
          0.026515151515151512,
          0.14090909090909085,
          0.0153846153846153,
          0.02393162393162386,
          0,
          0.2
         ],
         "yaxis": "y"
        },
        {
         "hovertemplate": "region=Sub-Saharan Africa<br>year=2006<br>democracy_index_score=%{x}<br>lower_single_house_percent_w=%{marker.size}<extra></extra>",
         "legendgroup": "Sub-Saharan Africa",
         "marker": {
          "color": "rgb(225, 124, 5)",
          "size": [
           0.1613247863247863,
           0.07,
           0.084,
           0.125,
           0.19500611995104036,
           0.290922394402278,
           0.13514325712987327
          ],
          "sizemode": "area",
          "sizeref": 0.00153125,
          "symbol": "circle"
         },
         "mode": "markers",
         "name": "Sub-Saharan Africa",
         "orientation": "v",
         "showlegend": true,
         "type": "scatter",
         "x": [
          7.43,
          3.19,
          2.76,
          2.72,
          3.12,
          5.14,
          5.25
         ],
         "xaxis": "x",
         "y": [
          0.1613247863247863,
          0.07,
          0.084,
          0.125,
          0.19500611995104036,
          0.290922394402278,
          0.13514325712987327
         ],
         "yaxis": "y"
        }
       ],
       "frames": [
        {
         "data": [
          {
           "hovertemplate": "region=North America<br>year=2006<br>democracy_index_score=%{x}<br>lower_single_house_percent_w=%{marker.size}<extra></extra>",
           "legendgroup": "North America",
           "marker": {
            "color": "rgb(95, 70, 144)",
            "size": [
             0.20956638989425877,
             0.1650669831364287
            ],
            "sizemode": "area",
            "sizeref": 0.00153125,
            "symbol": "circle"
           },
           "mode": "markers",
           "name": "North America",
           "orientation": "v",
           "showlegend": true,
           "type": "scatter",
           "x": [
            9.07,
            8.22
           ],
           "xaxis": "x",
           "y": [
            0.20956638989425877,
            0.1650669831364287
           ],
           "yaxis": "y"
          },
          {
           "hovertemplate": "region=Western Europe<br>year=2006<br>democracy_index_score=%{x}<br>lower_single_house_percent_w=%{marker.size}<extra></extra>",
           "legendgroup": "Western Europe",
           "marker": {
            "color": "rgb(29, 105, 150)",
            "size": [
             0.3245901639344262,
             0.1428571428571428,
             0.1585978835978836,
             0.38476190476190475,
             0.4713467048710601
            ],
            "sizemode": "area",
            "sizeref": 0.00153125,
            "symbol": "circle"
           },
           "mode": "markers",
           "name": "Western Europe",
           "orientation": "v",
           "showlegend": true,
           "type": "scatter",
           "x": [
            8.69,
            7.6,
            7.73,
            9.66,
            9.88
           ],
           "xaxis": "x",
           "y": [
            0.3245901639344262,
            0.1428571428571428,
            0.1585978835978836,
            0.38476190476190475,
            0.4713467048710601
           ],
           "yaxis": "y"
          },
          {
           "hovertemplate": "region=Central and Eastern Europe<br>year=2006<br>democracy_index_score=%{x}<br>lower_single_house_percent_w=%{marker.size}<extra></extra>",
           "legendgroup": "Central and Eastern Europe",
           "marker": {
            "color": "rgb(56, 166, 165)",
            "size": [
             0.12414965986394554,
             0.15499999999999997,
             0.09164507772020722,
             0.19333333333333333,
             0.08916323731138541,
             0.18666666666666668,
             0.06962962962962958
            ],
            "sizemode": "area",
            "sizeref": 0.00153125,
            "symbol": "circle"
           },
           "mode": "markers",
           "name": "Central and Eastern Europe",
           "orientation": "v",
           "showlegend": true,
           "type": "scatter",
           "x": [
            5.78,
            8.17,
            7.53,
            7.37,
            6.57,
            7.4,
            6.94
           ],
           "xaxis": "x",
           "y": [
            0.12414965986394554,
            0.15499999999999997,
            0.09164507772020722,
            0.19333333333333333,
            0.08916323731138541,
            0.18666666666666668,
            0.06962962962962958
           ],
           "yaxis": "y"
          },
          {
           "hovertemplate": "region=Latin America and the Caribbean<br>year=2006<br>democracy_index_score=%{x}<br>lower_single_house_percent_w=%{marker.size}<extra></extra>",
           "legendgroup": "Latin America and the Caribbean",
           "marker": {
            "color": "rgb(15, 133, 84)",
            "size": [
             0.08187134502923972,
             0.07379518072289151,
             0.37134502923976603,
             0.1769662921348314,
             0.2,
             0.15277777777777768,
             0.2548913043478261,
             0.03417732577140238,
             0.18763636363636363,
             0.175889328063241,
             0.2592592592592593
            ],
            "sizemode": "area",
            "sizeref": 0.00153125,
            "symbol": "circle"
           },
           "mode": "markers",
           "name": "Latin America and the Caribbean",
           "orientation": "v",
           "showlegend": true,
           "type": "scatter",
           "x": [
            7.38,
            6.4,
            8.04,
            6.13,
            5.64,
            6.22,
            6.15,
            4.19,
            6.67,
            5.68,
            6.11
           ],
           "xaxis": "x",
           "y": [
            0.08187134502923972,
            0.07379518072289151,
            0.37134502923976603,
            0.1769662921348314,
            0.2,
            0.15277777777777768,
            0.2548913043478261,
            0.03417732577140238,
            0.18763636363636363,
            0.175889328063241,
            0.2592592592592593
           ],
           "yaxis": "y"
          },
          {
           "hovertemplate": "region=Asia and Australasia<br>year=2006<br>democracy_index_score=%{x}<br>lower_single_house_percent_w=%{marker.size}<extra></extra>",
           "legendgroup": "Asia and Australasia",
           "marker": {
            "color": "rgb(115, 175, 72)",
            "size": [
             0.0266666666666666,
             0.11267605633802809,
             0.2521739130434782,
             0.2521739130434782,
             0.2446808510638297,
             0.21176470588235294,
             0.05785123966942147
            ],
            "sizemode": "area",
            "sizeref": 0.00153125,
            "symbol": "circle"
           },
           "mode": "markers",
           "name": "Asia and Australasia",
           "orientation": "v",
           "showlegend": true,
           "type": "scatter",
           "x": [
            2.62,
            5.66,
            2.1,
            2.1,
            5.89,
            5.89,
            5.67
           ],
           "xaxis": "x",
           "y": [
            0.0266666666666666,
            0.11267605633802809,
            0.2521739130434782,
            0.2521739130434782,
            0.2446808510638297,
            0.21176470588235294,
            0.05785123966942147
           ],
           "yaxis": "y"
          },
          {
           "hovertemplate": "region=Middle East and North Africa<br>year=2006<br>democracy_index_score=%{x}<br>lower_single_house_percent_w=%{marker.size}<extra></extra>",
           "legendgroup": "Middle East and North Africa",
           "marker": {
            "color": "rgb(237, 173, 8)",
            "size": [
             0.026515151515151512,
             0.14090909090909085,
             0.0153846153846153,
             0.02393162393162386,
             0,
             0.2
            ],
            "sizemode": "area",
            "sizeref": 0.00153125,
            "symbol": "circle"
           },
           "mode": "markers",
           "name": "Middle East and North Africa",
           "orientation": "v",
           "showlegend": true,
           "type": "scatter",
           "x": [
            3.53,
            7.28,
            3.09,
            3.09,
            2.78,
            2.42
           ],
           "xaxis": "x",
           "y": [
            0.026515151515151512,
            0.14090909090909085,
            0.0153846153846153,
            0.02393162393162386,
            0,
            0.2
           ],
           "yaxis": "y"
          },
          {
           "hovertemplate": "region=Sub-Saharan Africa<br>year=2006<br>democracy_index_score=%{x}<br>lower_single_house_percent_w=%{marker.size}<extra></extra>",
           "legendgroup": "Sub-Saharan Africa",
           "marker": {
            "color": "rgb(225, 124, 5)",
            "size": [
             0.1613247863247863,
             0.07,
             0.084,
             0.125,
             0.19500611995104036,
             0.290922394402278,
             0.13514325712987327
            ],
            "sizemode": "area",
            "sizeref": 0.00153125,
            "symbol": "circle"
           },
           "mode": "markers",
           "name": "Sub-Saharan Africa",
           "orientation": "v",
           "showlegend": true,
           "type": "scatter",
           "x": [
            7.43,
            3.19,
            2.76,
            2.72,
            3.12,
            5.14,
            5.25
           ],
           "xaxis": "x",
           "y": [
            0.1613247863247863,
            0.07,
            0.084,
            0.125,
            0.19500611995104036,
            0.290922394402278,
            0.13514325712987327
           ],
           "yaxis": "y"
          }
         ],
         "name": "2006"
        },
        {
         "data": [
          {
           "hovertemplate": "region=North America<br>year=2008<br>democracy_index_score=%{x}<br>lower_single_house_percent_w=%{marker.size}<extra></extra>",
           "legendgroup": "North America",
           "marker": {
            "color": "rgb(95, 70, 144)",
            "size": [
             0.2207792207792207,
             0.1740139211136891,
             0.1701149425287356
            ],
            "sizemode": "area",
            "sizeref": 0.00153125,
            "symbol": "circle"
           },
           "mode": "markers",
           "name": "North America",
           "orientation": "v",
           "showlegend": true,
           "type": "scatter",
           "x": [
            9.07,
            8.22,
            8.22
           ],
           "xaxis": "x",
           "y": [
            0.2207792207792207,
            0.1740139211136891,
            0.1701149425287356
           ],
           "yaxis": "y"
          },
          {
           "hovertemplate": "region=Western Europe<br>year=2008<br>democracy_index_score=%{x}<br>lower_single_house_percent_w=%{marker.size}<extra></extra>",
           "legendgroup": "Western Europe",
           "marker": {
            "color": "rgb(29, 105, 150)",
            "size": [
             0.1366120218579235,
             0.15921089156383272,
             0.0869565217391304,
             0.3628571428571429
            ],
            "sizemode": "area",
            "sizeref": 0.00153125,
            "symbol": "circle"
           },
           "mode": "markers",
           "name": "Western Europe",
           "orientation": "v",
           "showlegend": true,
           "type": "scatter",
           "x": [
            8.49,
            7.98,
            8.39,
            8.45
           ],
           "xaxis": "x",
           "y": [
            0.1366120218579235,
            0.15921089156383272,
            0.0869565217391304,
            0.3628571428571429
           ],
           "yaxis": "y"
          },
          {
           "hovertemplate": "region=Central and Eastern Europe<br>year=2008<br>democracy_index_score=%{x}<br>lower_single_house_percent_w=%{marker.size}<extra></extra>",
           "legendgroup": "Central and Eastern Europe",
           "marker": {
            "color": "rgb(56, 166, 165)",
            "size": [
             0.21212121212121213,
             0.06,
             0.1773049645390071,
             0.1137724550898203,
             0.216,
             0.1333333333333333,
             0
            ],
            "sizemode": "area",
            "sizeref": 0.00153125,
            "symbol": "circle"
           },
           "mode": "markers",
           "name": "Central and Eastern Europe",
           "orientation": "v",
           "showlegend": true,
           "type": "scatter",
           "x": [
            3.34,
            4.62,
            7.36,
            7.06,
            6.49,
            7.96,
            1.72
           ],
           "xaxis": "x",
           "y": [
            0.21212121212121213,
            0.06,
            0.1773049645390071,
            0.1137724550898203,
            0.216,
            0.1333333333333333,
            0
           ],
           "yaxis": "y"
          },
          {
           "hovertemplate": "region=Latin America and the Caribbean<br>year=2008<br>democracy_index_score=%{x}<br>lower_single_house_percent_w=%{marker.size}<extra></extra>",
           "legendgroup": "Latin America and the Caribbean",
           "marker": {
            "color": "rgb(15, 133, 84)",
            "size": [
             0.4315960912052117,
             0.08333333333333333
            ],
            "sizemode": "area",
            "sizeref": 0.00153125,
            "symbol": "circle"
           },
           "mode": "markers",
           "name": "Latin America and the Caribbean",
           "orientation": "v",
           "showlegend": true,
           "type": "scatter",
           "x": [
            3.52,
            6.4
           ],
           "xaxis": "x",
           "y": [
            0.4315960912052117,
            0.08333333333333333
           ],
           "yaxis": "y"
          },
          {
           "hovertemplate": "region=Asia and Australasia<br>year=2008<br>democracy_index_score=%{x}<br>lower_single_house_percent_w=%{marker.size}<extra></extra>",
           "legendgroup": "Asia and Australasia",
           "marker": {
            "color": "rgb(115, 175, 72)",
            "size": [
             0.0633333333333333,
             0.0851063829787234,
             0.1626016260162601,
             0.1421716326302868,
             0.05405405405405405,
             0.040181224004753366,
             0.26547085811281634,
             0.3360655737704918,
             0.2248520710059171,
             0.1371237458193979
            ],
            "sizemode": "area",
            "sizeref": 0.00153125,
            "symbol": "circle"
           },
           "mode": "markers",
           "name": "Asia and Australasia",
           "orientation": "v",
           "showlegend": true,
           "type": "scatter",
           "x": [
            5.52,
            4.3,
            4.87,
            3.04,
            6.36,
            6.6,
            4.05,
            9.19,
            4.46,
            8.01
           ],
           "xaxis": "x",
           "y": [
            0.0633333333333333,
            0.0851063829787234,
            0.1626016260162601,
            0.1421716326302868,
            0.05405405405405405,
            0.040181224004753366,
            0.26547085811281634,
            0.3360655737704918,
            0.2248520710059171,
            0.1371237458193979
           ],
           "yaxis": "y"
          },
          {
           "hovertemplate": "region=Middle East and North Africa<br>year=2008<br>democracy_index_score=%{x}<br>lower_single_house_percent_w=%{marker.size}<extra></extra>",
           "legendgroup": "Middle East and North Africa",
           "marker": {
            "color": "rgb(237, 173, 8)",
            "size": [
             0.024427296841089886,
             0.030769230769230705,
             0
            ],
            "sizemode": "area",
            "sizeref": 0.00153125,
            "symbol": "circle"
           },
           "mode": "markers",
           "name": "Middle East and North Africa",
           "orientation": "v",
           "showlegend": true,
           "type": "scatter",
           "x": [
            2.83,
            3.39,
            2.92
           ],
           "xaxis": "x",
           "y": [
            0.024427296841089886,
            0.030769230769230705,
            0
           ],
           "yaxis": "y"
          },
          {
           "hovertemplate": "region=Sub-Saharan Africa<br>year=2008<br>democracy_index_score=%{x}<br>lower_single_house_percent_w=%{marker.size}<extra></extra>",
           "legendgroup": "Sub-Saharan Africa",
           "marker": {
            "color": "rgb(225, 124, 5)",
            "size": [
             0.3727272727272727,
             0.1384615384615384,
             0.049999999999999996,
             0.0789473684210526,
             0.05,
             0.5625,
             0.12027999605639354
            ],
            "sizemode": "area",
            "sizeref": 0.00153125,
            "symbol": "circle"
           },
           "mode": "markers",
           "name": "Sub-Saharan Africa",
           "orientation": "v",
           "showlegend": true,
           "type": "scatter",
           "x": [
            3.35,
            2.37,
            2.19,
            5.35,
            1.99,
            3.71,
            2.53
           ],
           "xaxis": "x",
           "y": [
            0.3727272727272727,
            0.1384615384615384,
            0.049999999999999996,
            0.0789473684210526,
            0.05,
            0.5625,
            0.12027999605639354
           ],
           "yaxis": "y"
          }
         ],
         "name": "2008"
        },
        {
         "data": [
          {
           "hovertemplate": "region=Sub-Saharan Africa<br>year=2011<br>democracy_index_score=%{x}<br>lower_single_house_percent_w=%{marker.size}<extra></extra>",
           "legendgroup": "Sub-Saharan Africa",
           "marker": {
            "color": "rgb(225, 124, 5)",
            "size": [
             0.15307624474291134
            ],
            "sizemode": "area",
            "sizeref": 0.00153125,
            "symbol": "circle"
           },
           "mode": "markers",
           "name": "Sub-Saharan Africa",
           "orientation": "v",
           "showlegend": true,
           "type": "scatter",
           "x": [
            1.62
           ],
           "xaxis": "x",
           "y": [
            0.15307624474291134
           ],
           "yaxis": "y"
          }
         ],
         "name": "2011"
        },
        {
         "data": [
          {
           "hovertemplate": "region=Middle East and North Africa<br>year=2013<br>democracy_index_score=%{x}<br>lower_single_house_percent_w=%{marker.size}<extra></extra>",
           "legendgroup": "Middle East and North Africa",
           "marker": {
            "color": "rgb(237, 173, 8)",
            "size": [
             0.0975609756097561
            ],
            "sizemode": "area",
            "sizeref": 0.00153125,
            "symbol": "circle"
           },
           "mode": "markers",
           "name": "Middle East and North Africa",
           "orientation": "v",
           "showlegend": true,
           "type": "scatter",
           "x": [
            3.18
           ],
           "xaxis": "x",
           "y": [
            0.0975609756097561
           ],
           "yaxis": "y"
          },
          {
           "hovertemplate": "region=Sub-Saharan Africa<br>year=2013<br>democracy_index_score=%{x}<br>lower_single_house_percent_w=%{marker.size}<extra></extra>",
           "legendgroup": "Sub-Saharan Africa",
           "marker": {
            "color": "rgb(225, 124, 5)",
            "size": [
             0.3111111111111111,
             0.2280701754385964,
             0.1920529801324503,
             0.09135082604470354
            ],
            "sizemode": "area",
            "sizeref": 0.00153125,
            "symbol": "circle"
           },
           "mode": "markers",
           "name": "Sub-Saharan Africa",
           "orientation": "v",
           "showlegend": true,
           "type": "scatter",
           "x": [
            3.41,
            2.84,
            4.32,
            5.9
           ],
           "xaxis": "x",
           "y": [
            0.3111111111111111,
            0.2280701754385964,
            0.1920529801324503,
            0.09135082604470354
           ],
           "yaxis": "y"
          }
         ],
         "name": "2013"
        },
        {
         "data": [
          {
           "hovertemplate": "region=Western Europe<br>year=2014<br>democracy_index_score=%{x}<br>lower_single_house_percent_w=%{marker.size}<extra></extra>",
           "legendgroup": "Western Europe",
           "marker": {
            "color": "rgb(29, 105, 150)",
            "size": [
             0.38
            ],
            "sizemode": "area",
            "sizeref": 0.00153125,
            "symbol": "circle"
           },
           "mode": "markers",
           "name": "Western Europe",
           "orientation": "v",
           "showlegend": true,
           "type": "scatter",
           "x": [
            7.93
           ],
           "xaxis": "x",
           "y": [
            0.38
           ],
           "yaxis": "y"
          },
          {
           "hovertemplate": "region=Central and Eastern Europe<br>year=2014<br>democracy_index_score=%{x}<br>lower_single_house_percent_w=%{marker.size}<extra></extra>",
           "legendgroup": "Central and Eastern Europe",
           "marker": {
            "color": "rgb(56, 166, 165)",
            "size": [
             0.2277227722772277,
             0.1158392434988179,
             0.16
            ],
            "sizemode": "area",
            "sizeref": 0.00153125,
            "symbol": "circle"
           },
           "mode": "markers",
           "name": "Central and Eastern Europe",
           "orientation": "v",
           "showlegend": true,
           "type": "scatter",
           "x": [
            6.32,
            5.42,
            2.45
           ],
           "xaxis": "x",
           "y": [
            0.2277227722772277,
            0.1158392434988179,
            0.16
           ],
           "yaxis": "y"
          },
          {
           "hovertemplate": "region=Latin America and the Caribbean<br>year=2014<br>democracy_index_score=%{x}<br>lower_single_house_percent_w=%{marker.size}<extra></extra>",
           "legendgroup": "Latin America and the Caribbean",
           "marker": {
            "color": "rgb(15, 133, 84)",
            "size": [
             0.5307692307692308,
             0.18309859154929567,
             0.2222222222222222
            ],
            "sizemode": "area",
            "sizeref": 0.00153125,
            "symbol": "circle"
           },
           "mode": "markers",
           "name": "Latin America and the Caribbean",
           "orientation": "v",
           "showlegend": true,
           "type": "scatter",
           "x": [
            5.79,
            7.08,
            8.17
           ],
           "xaxis": "x",
           "y": [
            0.5307692307692308,
            0.18309859154929567,
            0.2222222222222222
           ],
           "yaxis": "y"
          },
          {
           "hovertemplate": "region=Asia and Australasia<br>year=2014<br>democracy_index_score=%{x}<br>lower_single_house_percent_w=%{marker.size}<extra></extra>",
           "legendgroup": "Asia and Australasia",
           "marker": {
            "color": "rgb(115, 175, 72)",
            "size": [
             0.1259541984732824,
             0.1821428571428571,
             0.1630276564774381,
             0.054166666666666606
            ],
            "sizemode": "area",
            "sizeref": 0.00153125,
            "symbol": "circle"
           },
           "mode": "markers",
           "name": "Asia and Australasia",
           "orientation": "v",
           "showlegend": true,
           "type": "scatter",
           "x": [
            7.92,
            6.95,
            1.08,
            5.39
           ],
           "xaxis": "x",
           "y": [
            0.1259541984732824,
            0.1821428571428571,
            0.1630276564774381,
            0.054166666666666606
           ],
           "yaxis": "y"
          },
          {
           "hovertemplate": "region=Middle East and North Africa<br>year=2014<br>democracy_index_score=%{x}<br>lower_single_house_percent_w=%{marker.size}<extra></extra>",
           "legendgroup": "Middle East and North Africa",
           "marker": {
            "color": "rgb(237, 173, 8)",
            "size": [
             0.16085732165206507,
             0.3594470046082949
            ],
            "sizemode": "area",
            "sizeref": 0.00153125,
            "symbol": "circle"
           },
           "mode": "markers",
           "name": "Middle East and North Africa",
           "orientation": "v",
           "showlegend": true,
           "type": "scatter",
           "x": [
            3.8,
            6.31
           ],
           "xaxis": "x",
           "y": [
            0.16085732165206507,
            0.3594470046082949
           ],
           "yaxis": "y"
          },
          {
           "hovertemplate": "region=Sub-Saharan Africa<br>year=2014<br>democracy_index_score=%{x}<br>lower_single_house_percent_w=%{marker.size}<extra></extra>",
           "legendgroup": "Sub-Saharan Africa",
           "marker": {
            "color": "rgb(225, 124, 5)",
            "size": [
             0.0952380952380952,
             0.1372549019607843,
             0.1666666666666666,
             0.1159420289855072,
             0.396,
             0.4615384615384615,
             0.4326071797734365,
             0.4274809160305343
            ],
            "sizemode": "area",
            "sizeref": 0.00153125,
            "symbol": "circle"
           },
           "mode": "markers",
           "name": "Sub-Saharan Africa",
           "orientation": "v",
           "showlegend": true,
           "type": "scatter",
           "x": [
            7.87,
            1.93,
            5.66,
            8.17,
            4.66,
            6.24,
            7.82,
            7.82
           ],
           "xaxis": "x",
           "y": [
            0.0952380952380952,
            0.1372549019607843,
            0.1666666666666666,
            0.1159420289855072,
            0.396,
            0.4615384615384615,
            0.4326071797734365,
            0.4274809160305343
           ],
           "yaxis": "y"
          }
         ],
         "name": "2014"
        },
        {
         "data": [
          {
           "hovertemplate": "region=North America<br>year=2015<br>democracy_index_score=%{x}<br>lower_single_house_percent_w=%{marker.size}<extra></extra>",
           "legendgroup": "North America",
           "marker": {
            "color": "rgb(95, 70, 144)",
            "size": [
             0.2694610778443114
            ],
            "sizemode": "area",
            "sizeref": 0.00153125,
            "symbol": "circle"
           },
           "mode": "markers",
           "name": "North America",
           "orientation": "v",
           "showlegend": true,
           "type": "scatter",
           "x": [
            9.08
           ],
           "xaxis": "x",
           "y": [
            0.2694610778443114
           ],
           "yaxis": "y"
          },
          {
           "hovertemplate": "region=Western Europe<br>year=2015<br>democracy_index_score=%{x}<br>lower_single_house_percent_w=%{marker.size}<extra></extra>",
           "legendgroup": "Western Europe",
           "marker": {
            "color": "rgb(29, 105, 150)",
            "size": [
             0.3743016759776536,
             0.415,
             0.18666666666666662,
             0.3507246376811594,
             0.325
            ],
            "sizemode": "area",
            "sizeref": 0.00153125,
            "symbol": "circle"
           },
           "mode": "markers",
           "name": "Western Europe",
           "orientation": "v",
           "showlegend": true,
           "type": "scatter",
           "x": [
            9.11,
            9.03,
            7.45,
            7.79,
            9.09
           ],
           "xaxis": "x",
           "y": [
            0.3743016759776536,
            0.415,
            0.18666666666666662,
            0.3507246376811594,
            0.325
           ],
           "yaxis": "y"
          },
          {
           "hovertemplate": "region=Central and Eastern Europe<br>year=2015<br>democracy_index_score=%{x}<br>lower_single_house_percent_w=%{marker.size}<extra></extra>",
           "legendgroup": "Central and Eastern Europe",
           "marker": {
            "color": "rgb(56, 166, 165)",
            "size": [
             0.1680672268907563,
             0.2871287128712871,
             0.1916666666666666,
             0.2913043478260869,
             0.1904761904761904
            ],
            "sizemode": "area",
            "sizeref": 0.00153125,
            "symbol": "circle"
           },
           "mode": "markers",
           "name": "Central and Eastern Europe",
           "orientation": "v",
           "showlegend": true,
           "type": "scatter",
           "x": [
            2.71,
            7.85,
            5.33,
            7.09,
            1.95
           ],
           "xaxis": "x",
           "y": [
            0.1680672268907563,
            0.2871287128712871,
            0.1916666666666666,
            0.2913043478260869,
            0.1904761904761904
           ],
           "yaxis": "y"
          },
          {
           "hovertemplate": "region=Latin America and the Caribbean<br>year=2015<br>democracy_index_score=%{x}<br>lower_single_house_percent_w=%{marker.size}<extra></extra>",
           "legendgroup": "Latin America and the Caribbean",
           "marker": {
            "color": "rgb(15, 133, 84)",
            "size": [
             0.189873417721519,
             0.3333333333333333,
             0.30392156862745096,
             0.3095238095238095
            ],
            "sizemode": "area",
            "sizeref": 0.00153125,
            "symbol": "circle"
           },
           "mode": "markers",
           "name": "Latin America and the Caribbean",
           "orientation": "v",
           "showlegend": true,
           "type": "scatter",
           "x": [
            5.92,
            6.05,
            6.77,
            7.1
           ],
           "xaxis": "x",
           "y": [
            0.189873417721519,
            0.3333333333333333,
            0.30392156862745096,
            0.3095238095238095
           ],
           "yaxis": "y"
          },
          {
           "hovertemplate": "region=Asia and Australasia<br>year=2015<br>democracy_index_score=%{x}<br>lower_single_house_percent_w=%{marker.size}<extra></extra>",
           "legendgroup": "Asia and Australasia",
           "marker": {
            "color": "rgb(115, 175, 72)",
            "size": [
             0.1124796852279531,
             0.2333333333333333,
             0.0533333333333333
            ],
            "sizemode": "area",
            "sizeref": 0.00153125,
            "symbol": "circle"
           },
           "mode": "markers",
           "name": "Asia and Australasia",
           "orientation": "v",
           "showlegend": true,
           "type": "scatter",
           "x": [
            4.14,
            6.14,
            6.42
           ],
           "xaxis": "x",
           "y": [
            0.1124796852279531,
            0.2333333333333333,
            0.0533333333333333
           ],
           "yaxis": "y"
          },
          {
           "hovertemplate": "region=Middle East and North Africa<br>year=2015<br>democracy_index_score=%{x}<br>lower_single_house_percent_w=%{marker.size}<extra></extra>",
           "legendgroup": "Middle East and North Africa",
           "marker": {
            "color": "rgb(237, 173, 8)",
            "size": [
             0.15044742729306484,
             0.2916666666666667,
             0.0117647058823529,
             0.2765072765072765,
             0.225
            ],
            "sizemode": "area",
            "sizeref": 0.00153125,
            "symbol": "circle"
           },
           "mode": "markers",
           "name": "Middle East and North Africa",
           "orientation": "v",
           "showlegend": true,
           "type": "scatter",
           "x": [
            3.18,
            7.77,
            3.04,
            2.37,
            2.75
           ],
           "xaxis": "x",
           "y": [
            0.15044742729306484,
            0.2916666666666667,
            0.0117647058823529,
            0.2765072765072765,
            0.225
           ],
           "yaxis": "y"
          },
          {
           "hovertemplate": "region=Sub-Saharan Africa<br>year=2015<br>democracy_index_score=%{x}<br>lower_single_house_percent_w=%{marker.size}<extra></extra>",
           "legendgroup": "Sub-Saharan Africa",
           "marker": {
            "color": "rgb(225, 124, 5)",
            "size": [
             0.072289156626506,
             0.1338582677165354,
             0.36363636363636365,
             0.0606060606060606,
             0.3875685557586837,
             0.0557103064066852,
             0.36895674300254455
            ],
            "sizemode": "area",
            "sizeref": 0.00153125,
            "symbol": "circle"
           },
           "mode": "markers",
           "name": "Sub-Saharan Africa",
           "orientation": "v",
           "showlegend": true,
           "type": "scatter",
           "x": [
            5.72,
            4.7,
            2.49,
            3.71,
            3.83,
            3.85,
            5.58
           ],
           "xaxis": "x",
           "y": [
            0.072289156626506,
            0.1338582677165354,
            0.36363636363636365,
            0.0606060606060606,
            0.3875685557586837,
            0.0557103064066852,
            0.36895674300254455
           ],
           "yaxis": "y"
          }
         ],
         "name": "2015"
        },
        {
         "data": [
          {
           "hovertemplate": "region=Western Europe<br>year=2016<br>democracy_index_score=%{x}<br>lower_single_house_percent_w=%{marker.size}<extra></extra>",
           "legendgroup": "Western Europe",
           "marker": {
            "color": "rgb(29, 105, 150)",
            "size": [
             0.19230769230769224,
             0.21898734177215187,
             0.4114285714285714
            ],
            "sizemode": "area",
            "sizeref": 0.00153125,
            "symbol": "circle"
           },
           "mode": "markers",
           "name": "Western Europe",
           "orientation": "v",
           "showlegend": true,
           "type": "scatter",
           "x": [
            7.65,
            9.15,
            8.3
           ],
           "xaxis": "x",
           "y": [
            0.19230769230769224,
            0.21898734177215187,
            0.4114285714285714
           ],
           "yaxis": "y"
          },
          {
           "hovertemplate": "region=Central and Eastern Europe<br>year=2016<br>democracy_index_score=%{x}<br>lower_single_house_percent_w=%{marker.size}<extra></extra>",
           "legendgroup": "Central and Eastern Europe",
           "marker": {
            "color": "rgb(56, 166, 165)",
            "size": [
             0.3454545454545454,
             0.2008830022075055,
             0.145413870246085,
             0.2710280373831775,
             0.22695035460992907,
             0.26388888888888884,
             0.38787878787878777,
             0.21398176291793308,
             0.15777777777777774,
             0.3765182186234818,
             0.20222222222222222
            ],
            "sizemode": "area",
            "sizeref": 0.00153125,
            "symbol": "circle"
           },
           "mode": "markers",
           "name": "Central and Eastern Europe",
           "orientation": "v",
           "showlegend": true,
           "type": "scatter",
           "x": [
            3.54,
            6.75,
            5.93,
            3.06,
            7.47,
            5.72,
            5.23,
            6.62,
            3.24,
            6.57,
            7.29
           ],
           "xaxis": "x",
           "y": [
            0.3454545454545454,
            0.2008830022075055,
            0.145413870246085,
            0.2710280373831775,
            0.22695035460992907,
            0.26388888888888884,
            0.38787878787878777,
            0.21398176291793308,
            0.15777777777777774,
            0.3765182186234818,
            0.20222222222222222
           ],
           "yaxis": "y"
          },
          {
           "hovertemplate": "region=Latin America and the Caribbean<br>year=2016<br>democracy_index_score=%{x}<br>lower_single_house_percent_w=%{marker.size}<extra></extra>",
           "legendgroup": "Latin America and the Caribbean",
           "marker": {
            "color": "rgb(15, 133, 84)",
            "size": [
             0.2714285714285714,
             0.1746031746031746,
             0.4612249163879598,
             0.3
            ],
            "sizemode": "area",
            "sizeref": 0.00153125,
            "symbol": "circle"
           },
           "mode": "markers",
           "name": "Latin America and the Caribbean",
           "orientation": "v",
           "showlegend": true,
           "type": "scatter",
           "x": [
            6.67,
            7.39,
            4.81,
            6.65
           ],
           "xaxis": "x",
           "y": [
            0.2714285714285714,
            0.1746031746031746,
            0.4612249163879598,
            0.3
           ],
           "yaxis": "y"
          },
          {
           "hovertemplate": "region=Asia and Australasia<br>year=2016<br>democracy_index_score=%{x}<br>lower_single_house_percent_w=%{marker.size}<extra></extra>",
           "legendgroup": "Asia and Australasia",
           "marker": {
            "color": "rgb(115, 175, 72)",
            "size": [
             0.3,
             0.2751677852348993,
             0.1721929824561403,
             0.2945205479452055,
             0.16969931369203345,
             0.26720647773279355
            ],
            "sizemode": "area",
            "sizeref": 0.00153125,
            "symbol": "circle"
           },
           "mode": "markers",
           "name": "Asia and Australasia",
           "orientation": "v",
           "showlegend": true,
           "type": "scatter",
           "x": [
            9.01,
            2.37,
            6.62,
            6.94,
            7.92,
            3.38
           ],
           "xaxis": "x",
           "y": [
            0.3,
            0.2751677852348993,
            0.1721929824561403,
            0.2945205479452055,
            0.16969931369203345,
            0.26720647773279355
           ],
           "yaxis": "y"
          },
          {
           "hovertemplate": "region=Middle East and North Africa<br>year=2016<br>democracy_index_score=%{x}<br>lower_single_house_percent_w=%{marker.size}<extra></extra>",
           "legendgroup": "Middle East and North Africa",
           "marker": {
            "color": "rgb(237, 173, 8)",
            "size": [
             0.0588235294117647,
             0.1538461538461538,
             0.05358451072736781,
             0.2050632911392405,
             0.0975609756097561,
             0.1986754966887417
            ],
            "sizemode": "area",
            "sizeref": 0.00153125,
            "symbol": "circle"
           },
           "mode": "markers",
           "name": "Middle East and North Africa",
           "orientation": "v",
           "showlegend": true,
           "type": "scatter",
           "x": [
            2.34,
            3.96,
            3.85,
            4.77,
            3.18,
            1.93
           ],
           "xaxis": "x",
           "y": [
            0.0588235294117647,
            0.1538461538461538,
            0.05358451072736781,
            0.2050632911392405,
            0.0975609756097561,
            0.1986754966887417
           ],
           "yaxis": "y"
          },
          {
           "hovertemplate": "region=Sub-Saharan Africa<br>year=2016<br>democracy_index_score=%{x}<br>lower_single_house_percent_w=%{marker.size}<extra></extra>",
           "legendgroup": "Sub-Saharan Africa",
           "marker": {
            "color": "rgb(225, 124, 5)",
            "size": [
             0.0857142857142857,
             0.1309090909090909,
             0.1695906432748538,
             0.34858387799564267,
             0.1726546906187624
            ],
            "sizemode": "area",
            "sizeref": 0.00153125,
            "symbol": "circle"
           },
           "mode": "markers",
           "name": "Sub-Saharan Africa",
           "orientation": "v",
           "showlegend": true,
           "type": "scatter",
           "x": [
            1.61,
            6.75,
            3.96,
            5.26,
            5.99
           ],
           "xaxis": "x",
           "y": [
            0.0857142857142857,
            0.1309090909090909,
            0.1695906432748538,
            0.34858387799564267,
            0.1726546906187624
           ],
           "yaxis": "y"
          }
         ],
         "name": "2016"
        },
        {
         "data": [
          {
           "hovertemplate": "region=Western Europe<br>year=2017<br>democracy_index_score=%{x}<br>lower_single_house_percent_w=%{marker.size}<extra></extra>",
           "legendgroup": "Western Europe",
           "marker": {
            "color": "rgb(29, 105, 150)",
            "size": [
             0.3715846994535519,
             0.39582129790102066,
             0.31247595845621234,
             0.38208616780045335,
             0.13219616204690826,
             0.3173333333333333,
             0.4142011834319526,
             0.32
            ],
            "sizemode": "area",
            "sizeref": 0.00153125,
            "symbol": "circle"
           },
           "mode": "markers",
           "name": "Western Europe",
           "orientation": "v",
           "showlegend": true,
           "type": "scatter",
           "x": [
            8.42,
            7.8,
            8.61,
            9.58,
            8.15,
            8.89,
            9.87,
            8.53
           ],
           "xaxis": "x",
           "y": [
            0.3715846994535519,
            0.39582129790102066,
            0.31247595845621234,
            0.38208616780045335,
            0.13219616204690826,
            0.3173333333333333,
            0.4142011834319526,
            0.32
           ],
           "yaxis": "y"
          },
          {
           "hovertemplate": "region=Central and Eastern Europe<br>year=2017<br>democracy_index_score=%{x}<br>lower_single_house_percent_w=%{marker.size}<extra></extra>",
           "legendgroup": "Central and Eastern Europe",
           "marker": {
            "color": "rgb(56, 166, 165)",
            "size": [
             0.29434035909445744,
             0.2424242424242424,
             0.2659090909090909,
             0.22571428571428576
            ],
            "sizemode": "area",
            "sizeref": 0.00153125,
            "symbol": "circle"
           },
           "mode": "markers",
           "name": "Central and Eastern Europe",
           "orientation": "v",
           "showlegend": true,
           "type": "scatter",
           "x": [
            5.98,
            4.11,
            7.03,
            7.62
           ],
           "xaxis": "x",
           "y": [
            0.29434035909445744,
            0.2424242424242424,
            0.2659090909090909,
            0.22571428571428576
           ],
           "yaxis": "y"
          },
          {
           "hovertemplate": "region=Latin America and the Caribbean<br>year=2017<br>democracy_index_score=%{x}<br>lower_single_house_percent_w=%{marker.size}<extra></extra>",
           "legendgroup": "Latin America and the Caribbean",
           "marker": {
            "color": "rgb(15, 133, 84)",
            "size": [
             0.38852521553368424,
             0.2258064516129031,
             0.38394160583941606,
             0.2109375
            ],
            "sizemode": "area",
            "sizeref": 0.00153125,
            "symbol": "circle"
           },
           "mode": "markers",
           "name": "Latin America and the Caribbean",
           "orientation": "v",
           "showlegend": true,
           "type": "scatter",
           "x": [
            6.96,
            7.84,
            6.02,
            5.72
           ],
           "xaxis": "x",
           "y": [
            0.38852521553368424,
            0.2258064516129031,
            0.38394160583941606,
            0.2109375
           ],
           "yaxis": "y"
          },
          {
           "hovertemplate": "region=Asia and Australasia<br>year=2017<br>democracy_index_score=%{x}<br>lower_single_house_percent_w=%{marker.size}<extra></extra>",
           "legendgroup": "Asia and Australasia",
           "marker": {
            "color": "rgb(115, 175, 72)",
            "size": [
             0.10015913209701842,
             0.3296395691229639,
             0.4041666666666667,
             0
            ],
            "sizemode": "area",
            "sizeref": 0.00153125,
            "symbol": "circle"
           },
           "mode": "markers",
           "name": "Asia and Australasia",
           "orientation": "v",
           "showlegend": true,
           "type": "scatter",
           "x": [
            7.88,
            5.18,
            9.26,
            6.03
           ],
           "xaxis": "x",
           "y": [
            0.10015913209701842,
            0.3296395691229639,
            0.4041666666666667,
            0
           ],
           "yaxis": "y"
          },
          {
           "hovertemplate": "region=Middle East and North Africa<br>year=2017<br>democracy_index_score=%{x}<br>lower_single_house_percent_w=%{marker.size}<extra></extra>",
           "legendgroup": "Middle East and North Africa",
           "marker": {
            "color": "rgb(237, 173, 8)",
            "size": [
             0.2580086580086579
            ],
            "sizemode": "area",
            "sizeref": 0.00153125,
            "symbol": "circle"
           },
           "mode": "markers",
           "name": "Middle East and North Africa",
           "orientation": "v",
           "showlegend": true,
           "type": "scatter",
           "x": [
            3.56
           ],
           "xaxis": "x",
           "y": [
            0.2580086580086579
           ],
           "yaxis": "y"
          },
          {
           "hovertemplate": "region=Sub-Saharan Africa<br>year=2017<br>democracy_index_score=%{x}<br>lower_single_house_percent_w=%{marker.size}<extra></extra>",
           "legendgroup": "Sub-Saharan Africa",
           "marker": {
            "color": "rgb(225, 124, 5)",
            "size": [
             0.2971590909090909,
             0.2142105263157895,
             0.1034482758620689,
             0.21701099919666964,
             0.2352355072463768,
             0.1193737769080235,
             0.42510660071635675
            ],
            "sizemode": "area",
            "sizeref": 0.00153125,
            "symbol": "circle"
           },
           "mode": "markers",
           "name": "Sub-Saharan Africa",
           "orientation": "v",
           "showlegend": true,
           "type": "scatter",
           "x": [
            3.62,
            1.81,
            4.06,
            5.11,
            6.64,
            5.23,
            6.15
           ],
           "xaxis": "x",
           "y": [
            0.2971590909090909,
            0.2142105263157895,
            0.1034482758620689,
            0.21701099919666964,
            0.2352355072463768,
            0.1193737769080235,
            0.42510660071635675
           ],
           "yaxis": "y"
          }
         ],
         "name": "2017"
        },
        {
         "data": [
          {
           "hovertemplate": "region=North America<br>year=2018<br>democracy_index_score=%{x}<br>lower_single_house_percent_w=%{marker.size}<extra></extra>",
           "legendgroup": "North America",
           "marker": {
            "color": "rgb(95, 70, 144)",
            "size": [
             0.23514595331817628,
             0.2350230414746544
            ],
            "sizemode": "area",
            "sizeref": 0.00153125,
            "symbol": "circle"
           },
           "mode": "markers",
           "name": "North America",
           "orientation": "v",
           "showlegend": true,
           "type": "scatter",
           "x": [
            7.96,
            7.96
           ],
           "xaxis": "x",
           "y": [
            0.23514595331817628,
            0.2350230414746544
           ],
           "yaxis": "y"
          },
          {
           "hovertemplate": "region=Western Europe<br>year=2018<br>democracy_index_score=%{x}<br>lower_single_house_percent_w=%{marker.size}<extra></extra>",
           "legendgroup": "Western Europe",
           "marker": {
            "color": "rgb(29, 105, 150)",
            "size": [
             0.358884634935055,
             0.32023809523809516,
             0.46919770773638964,
             0.174496644295302,
             0.1735755405055694
            ],
            "sizemode": "area",
            "sizeref": 0.00153125,
            "symbol": "circle"
           },
           "mode": "markers",
           "name": "Western Europe",
           "orientation": "v",
           "showlegend": true,
           "type": "scatter",
           "x": [
            7.71,
            8.81,
            9.39,
            4.37,
            4.37
           ],
           "xaxis": "x",
           "y": [
            0.358884634935055,
            0.32023809523809516,
            0.46919770773638964,
            0.174496644295302,
            0.1735755405055694
           ],
           "yaxis": "y"
          },
          {
           "hovertemplate": "region=Central and Eastern Europe<br>year=2018<br>democracy_index_score=%{x}<br>lower_single_house_percent_w=%{marker.size}<extra></extra>",
           "legendgroup": "Central and Eastern Europe",
           "marker": {
            "color": "rgb(56, 166, 165)",
            "size": [
             0.23611111111111105,
             0.2346938775510204,
             0.12479061976549406,
             0.28923076923076924,
             0.26666666666666666,
             0.2517241379310345
            ],
            "sizemode": "area",
            "sizeref": 0.00153125,
            "symbol": "circle"
           },
           "mode": "markers",
           "name": "Central and Eastern Europe",
           "orientation": "v",
           "showlegend": true,
           "type": "scatter",
           "x": [
            4.79,
            4.98,
            6.63,
            7.38,
            7.5,
            1.72
           ],
           "xaxis": "x",
           "y": [
            0.23611111111111105,
            0.2346938775510204,
            0.12479061976549406,
            0.28923076923076924,
            0.26666666666666666,
            0.2517241379310345
           ],
           "yaxis": "y"
          },
          {
           "hovertemplate": "region=Latin America and the Caribbean<br>year=2018<br>democracy_index_score=%{x}<br>lower_single_house_percent_w=%{marker.size}<extra></extra>",
           "legendgroup": "Latin America and the Caribbean",
           "marker": {
            "color": "rgb(15, 133, 84)",
            "size": [
             0.14840805717998692,
             0.18563013718899848,
             0.45394736842105254,
             0.5328641675833733,
             0.319047619047619,
             0.482,
             0.1625
            ],
            "sizemode": "area",
            "sizeref": 0.00153125,
            "symbol": "circle"
           },
           "mode": "markers",
           "name": "Latin America and the Caribbean",
           "orientation": "v",
           "showlegend": true,
           "type": "scatter",
           "x": [
            6.97,
            6.96,
            8.07,
            3,
            5.96,
            6.19,
            6.24
           ],
           "xaxis": "x",
           "y": [
            0.14840805717998692,
            0.18563013718899848,
            0.45394736842105254,
            0.5328641675833733,
            0.319047619047619,
            0.482,
            0.1625
           ],
           "yaxis": "y"
          },
          {
           "hovertemplate": "region=Asia and Australasia<br>year=2018<br>democracy_index_score=%{x}<br>lower_single_house_percent_w=%{marker.size}<extra></extra>",
           "legendgroup": "Asia and Australasia",
           "marker": {
            "color": "rgb(115, 175, 72)",
            "size": [
             0.2702619738630563,
             0.2730923694779116,
             0.208220564779612,
             0.2057142857142857,
             0.15546304861753513,
             0.20872727272727276,
             0.24941176470588228,
             0.1975867269984917,
             0.14688438438438434,
             0.2021076640771037,
             0.3837606837606838
            ],
            "sizemode": "area",
            "sizeref": 0.00153125,
            "symbol": "circle"
           },
           "mode": "markers",
           "name": "Asia and Australasia",
           "orientation": "v",
           "showlegend": true,
           "type": "scatter",
           "x": [
            2.97,
            2.97,
            5.57,
            5.57,
            5.3,
            3.59,
            3.32,
            5.85,
            6.88,
            4.17,
            7.19
           ],
           "xaxis": "x",
           "y": [
            0.2702619738630563,
            0.2730923694779116,
            0.208220564779612,
            0.2057142857142857,
            0.15546304861753513,
            0.20872727272727276,
            0.24941176470588228,
            0.1975867269984917,
            0.14688438438438434,
            0.2021076640771037,
            0.3837606837606838
           ],
           "yaxis": "y"
          },
          {
           "hovertemplate": "region=Middle East and North Africa<br>year=2018<br>democracy_index_score=%{x}<br>lower_single_house_percent_w=%{marker.size}<extra></extra>",
           "legendgroup": "Middle East and North Africa",
           "marker": {
            "color": "rgb(237, 173, 8)",
            "size": [
             0.14999999999999997,
             0.2606382978723404,
             0.04604111986001749
            ],
            "sizemode": "area",
            "sizeref": 0.00153125,
            "symbol": "circle"
           },
           "mode": "markers",
           "name": "Middle East and North Africa",
           "orientation": "v",
           "showlegend": true,
           "type": "scatter",
           "x": [
            2.71,
            4.06,
            4.63
           ],
           "xaxis": "x",
           "y": [
            0.14999999999999997,
            0.2606382978723404,
            0.04604111986001749
           ],
           "yaxis": "y"
          },
          {
           "hovertemplate": "region=Sub-Saharan Africa<br>year=2018<br>democracy_index_score=%{x}<br>lower_single_house_percent_w=%{marker.size}<extra></extra>",
           "legendgroup": "Sub-Saharan Africa",
           "marker": {
            "color": "rgb(225, 124, 5)",
            "size": [
             0.11363679619349726,
             0.2615384615384615,
             0.10199063608831326,
             0.1571045099529438,
             0.2026143790849673,
             0.6125,
             0.12328767123287672,
             0.17948717948717943,
             0.31508968087584444
            ],
            "sizemode": "area",
            "sizeref": 0.00153125,
            "symbol": "circle"
           },
           "mode": "markers",
           "name": "Sub-Saharan Africa",
           "orientation": "v",
           "showlegend": true,
           "type": "scatter",
           "x": [
            1.49,
            2.87,
            3.03,
            3.61,
            3.82,
            3.35,
            4.66,
            3.1,
            3.16
           ],
           "xaxis": "x",
           "y": [
            0.11363679619349726,
            0.2615384615384615,
            0.10199063608831326,
            0.1571045099529438,
            0.2026143790849673,
            0.6125,
            0.12328767123287672,
            0.17948717948717943,
            0.31508968087584444
           ],
           "yaxis": "y"
          }
         ],
         "name": "2018"
        },
        {
         "data": [
          {
           "hovertemplate": "region=North America<br>year=2019<br>democracy_index_score=%{x}<br>lower_single_house_percent_w=%{marker.size}<extra></extra>",
           "legendgroup": "North America",
           "marker": {
            "color": "rgb(95, 70, 144)",
            "size": [
             0.2921597633136094
            ],
            "sizemode": "area",
            "sizeref": 0.00153125,
            "symbol": "circle"
           },
           "mode": "markers",
           "name": "North America",
           "orientation": "v",
           "showlegend": true,
           "type": "scatter",
           "x": [
            9.22
           ],
           "xaxis": "x",
           "y": [
            0.2921597633136094
           ],
           "yaxis": "y"
          },
          {
           "hovertemplate": "region=Western Europe<br>year=2019<br>democracy_index_score=%{x}<br>lower_single_house_percent_w=%{marker.size}<extra></extra>",
           "legendgroup": "Western Europe",
           "marker": {
            "color": "rgb(29, 105, 150)",
            "size": [
             0.4006147540983606,
             0.42095238095238097,
             0.3946528332003192,
             0.46142857142857147,
             0.21274509803921565,
             0.3913043478260869,
             0.4479260472097148,
             0.41874999999999996,
             0.3426302972503537
            ],
            "sizemode": "area",
            "sizeref": 0.00153125,
            "symbol": "circle"
           },
           "mode": "markers",
           "name": "Western Europe",
           "orientation": "v",
           "showlegend": true,
           "type": "scatter",
           "x": [
            8.29,
            7.64,
            9.22,
            9.25,
            7.43,
            8.03,
            8.29,
            9.03,
            8.52
           ],
           "xaxis": "x",
           "y": [
            0.4006147540983606,
            0.42095238095238097,
            0.3946528332003192,
            0.46142857142857147,
            0.21274509803921565,
            0.3913043478260869,
            0.4479260472097148,
            0.41874999999999996,
            0.3426302972503537
           ],
           "yaxis": "y"
          },
          {
           "hovertemplate": "region=Central and Eastern Europe<br>year=2019<br>democracy_index_score=%{x}<br>lower_single_house_percent_w=%{marker.size}<extra></extra>",
           "legendgroup": "Central and Eastern Europe",
           "marker": {
            "color": "rgb(56, 166, 165)",
            "size": [
             0.4,
             0.26996699669966984,
             0.25022502250225015,
             0.28351440167296943,
             0.20745495750513807,
             0.3233106575963719
            ],
            "sizemode": "area",
            "sizeref": 0.00153125,
            "symbol": "circle"
           },
           "mode": "markers",
           "name": "Central and Eastern Europe",
           "orientation": "v",
           "showlegend": true,
           "type": "scatter",
           "x": [
            2.48,
            7.9,
            5.75,
            6.62,
            5.9,
            2.01
           ],
           "xaxis": "x",
           "y": [
            0.4,
            0.26996699669966984,
            0.25022502250225015,
            0.28351440167296943,
            0.20745495750513807,
            0.3233106575963719
           ],
           "yaxis": "y"
          },
          {
           "hovertemplate": "region=Latin America and the Caribbean<br>year=2019<br>democracy_index_score=%{x}<br>lower_single_house_percent_w=%{marker.size}<extra></extra>",
           "legendgroup": "Latin America and the Caribbean",
           "marker": {
            "color": "rgb(15, 133, 84)",
            "size": [
             0.4114198760174433,
             0.19342695147679326,
             0.2218309859154929,
             0.23698523698523694
            ],
            "sizemode": "area",
            "sizeref": 0.00153125,
            "symbol": "circle"
           },
           "mode": "markers",
           "name": "Latin America and the Caribbean",
           "orientation": "v",
           "showlegend": true,
           "type": "scatter",
           "x": [
            7.02,
            5.26,
            7.05,
            8.38
           ],
           "xaxis": "x",
           "y": [
            0.4114198760174433,
            0.19342695147679326,
            0.2218309859154929,
            0.23698523698523694
           ],
           "yaxis": "y"
          },
          {
           "hovertemplate": "region=Asia and Australasia<br>year=2019<br>democracy_index_score=%{x}<br>lower_single_house_percent_w=%{marker.size}<extra></extra>",
           "legendgroup": "Asia and Australasia",
           "marker": {
            "color": "rgb(115, 175, 72)",
            "size": [
             0.30850738665308197,
             0.14563123051360224,
             0.20315217391304344,
             0.17612809315866076,
             0.2792149347309642,
             0.14300912380053482
            ],
            "sizemode": "area",
            "sizeref": 0.00153125,
            "symbol": "circle"
           },
           "mode": "markers",
           "name": "Asia and Australasia",
           "orientation": "v",
           "showlegend": true,
           "type": "scatter",
           "x": [
            9.09,
            6.9,
            6.48,
            1.08,
            6.64,
            6.32
           ],
           "xaxis": "x",
           "y": [
            0.30850738665308197,
            0.14563123051360224,
            0.20315217391304344,
            0.17612809315866076,
            0.2792149347309642,
            0.14300912380053482
           ],
           "yaxis": "y"
          },
          {
           "hovertemplate": "region=Middle East and North Africa<br>year=2019<br>democracy_index_score=%{x}<br>lower_single_house_percent_w=%{marker.size}<extra></extra>",
           "legendgroup": "Middle East and North Africa",
           "marker": {
            "color": "rgb(237, 173, 8)",
            "size": [
             0.23541666666666664,
             0.0232558139534883,
             0.2584485407066052,
             0.4625
            ],
            "sizemode": "area",
            "sizeref": 0.00153125,
            "symbol": "circle"
           },
           "mode": "markers",
           "name": "Middle East and North Africa",
           "orientation": "v",
           "showlegend": true,
           "type": "scatter",
           "x": [
            7.86,
            3.06,
            6.72,
            2.76
           ],
           "xaxis": "x",
           "y": [
            0.23541666666666664,
            0.0232558139534883,
            0.2584485407066052,
            0.4625
           ],
           "yaxis": "y"
          },
          {
           "hovertemplate": "region=Sub-Saharan Africa<br>year=2019<br>democracy_index_score=%{x}<br>lower_single_house_percent_w=%{marker.size}<extra></extra>",
           "legendgroup": "Sub-Saharan Africa",
           "marker": {
            "color": "rgb(225, 124, 5)",
            "size": [
             0.07867023650156174,
             0.10854700854700855,
             0.1372549019607843,
             0.17508278145695355,
             0.22916666666666657,
             0.2,
             0.42057142857142854,
             0.43521062271062266,
             0.03554940354193973,
             0.4634251123758102
            ],
            "sizemode": "area",
            "sizeref": 0.00153125,
            "symbol": "circle"
           },
           "mode": "markers",
           "name": "Sub-Saharan Africa",
           "orientation": "v",
           "showlegend": true,
           "type": "scatter",
           "x": [
            5.09,
            7.81,
            2.63,
            5.64,
            5.5,
            8.22,
            3.65,
            6.43,
            4.12,
            7.24
           ],
           "xaxis": "x",
           "y": [
            0.07867023650156174,
            0.10854700854700855,
            0.1372549019607843,
            0.17508278145695355,
            0.22916666666666657,
            0.2,
            0.42057142857142854,
            0.43521062271062266,
            0.03554940354193973,
            0.4634251123758102
           ],
           "yaxis": "y"
          }
         ],
         "name": "2019"
        },
        {
         "data": [
          {
           "hovertemplate": "region=North America<br>year=2020<br>democracy_index_score=%{x}<br>lower_single_house_percent_w=%{marker.size}<extra></extra>",
           "legendgroup": "North America",
           "marker": {
            "color": "rgb(95, 70, 144)",
            "size": [
             0.2779675094710415
            ],
            "sizemode": "area",
            "sizeref": 0.00153125,
            "symbol": "circle"
           },
           "mode": "markers",
           "name": "North America",
           "orientation": "v",
           "showlegend": true,
           "type": "scatter",
           "x": [
            7.92
           ],
           "xaxis": "x",
           "y": [
            0.2779675094710415
           ],
           "yaxis": "y"
          },
          {
           "hovertemplate": "region=Western Europe<br>year=2020<br>democracy_index_score=%{x}<br>lower_single_house_percent_w=%{marker.size}<extra></extra>",
           "legendgroup": "Western Europe",
           "marker": {
            "color": "rgb(29, 105, 150)",
            "size": [
             0.22727272727272732
            ],
            "sizemode": "area",
            "sizeref": 0.00153125,
            "symbol": "circle"
           },
           "mode": "markers",
           "name": "Western Europe",
           "orientation": "v",
           "showlegend": true,
           "type": "scatter",
           "x": [
            9.05
           ],
           "xaxis": "x",
           "y": [
            0.22727272727272732
           ],
           "yaxis": "y"
          },
          {
           "hovertemplate": "region=Central and Eastern Europe<br>year=2020<br>democracy_index_score=%{x}<br>lower_single_house_percent_w=%{marker.size}<extra></extra>",
           "legendgroup": "Central and Eastern Europe",
           "marker": {
            "color": "rgb(56, 166, 165)",
            "size": [
             0.17847483095416974,
             0.3103122043519394,
             0.19714285714285706,
             0.16865105908584163,
             0.2794326241134752,
             0.2507122507122506,
             0.39583333333333337,
             0.1867850234871511,
             0.393,
             0.21948717948717944,
             0.24542124542124538
            ],
            "sizemode": "area",
            "sizeref": 0.00153125,
            "symbol": "circle"
           },
           "mode": "markers",
           "name": "Central and Eastern Europe",
           "orientation": "v",
           "showlegend": true,
           "type": "scatter",
           "x": [
            2.68,
            6.5,
            5.31,
            4.21,
            7.13,
            5.77,
            5.89,
            6.4,
            6.22,
            6.97,
            1.94
           ],
           "xaxis": "x",
           "y": [
            0.17847483095416974,
            0.3103122043519394,
            0.19714285714285706,
            0.16865105908584163,
            0.2794326241134752,
            0.2507122507122506,
            0.39583333333333337,
            0.1867850234871511,
            0.393,
            0.21948717948717944,
            0.24542124542124538
           ],
           "yaxis": "y"
          },
          {
           "hovertemplate": "region=Latin America and the Caribbean<br>year=2020<br>democracy_index_score=%{x}<br>lower_single_house_percent_w=%{marker.size}<extra></extra>",
           "legendgroup": "Latin America and the Caribbean",
           "marker": {
            "color": "rgb(15, 133, 84)",
            "size": [
             0.2789473684210525,
             0.35417582417582416,
             0.28571428571428564,
             0.2615384615384615,
             0.30196078431372536,
             0.2619047619047619
            ],
            "sizemode": "area",
            "sizeref": 0.00153125,
            "symbol": "circle"
           },
           "mode": "markers",
           "name": "Latin America and the Caribbean",
           "orientation": "v",
           "showlegend": true,
           "type": "scatter",
           "x": [
            6.32,
            6.01,
            7.13,
            6.53,
            6.82,
            7.16
           ],
           "xaxis": "x",
           "y": [
            0.2789473684210525,
            0.35417582417582416,
            0.28571428571428564,
            0.2615384615384615,
            0.30196078431372536,
            0.2619047619047619
           ],
           "yaxis": "y"
          },
          {
           "hovertemplate": "region=Asia and Australasia<br>year=2020<br>democracy_index_score=%{x}<br>lower_single_house_percent_w=%{marker.size}<extra></extra>",
           "legendgroup": "Asia and Australasia",
           "marker": {
            "color": "rgb(115, 175, 72)",
            "size": [
             0.1724210526315789,
             0.15600373482726418,
             0.4908403361344537,
             0.29558265529394806,
             0.18822033898305085,
             0.05360666239590004
            ],
            "sizemode": "area",
            "sizeref": 0.00153125,
            "symbol": "circle"
           },
           "mode": "markers",
           "name": "Asia and Australasia",
           "orientation": "v",
           "showlegend": true,
           "type": "scatter",
           "x": [
            6.48,
            3.04,
            9.25,
            6.03,
            8.01,
            6.14
           ],
           "xaxis": "x",
           "y": [
            0.1724210526315789,
            0.15600373482726418,
            0.4908403361344537,
            0.29558265529394806,
            0.18822033898305085,
            0.05360666239590004
           ],
           "yaxis": "y"
          },
          {
           "hovertemplate": "region=Middle East and North Africa<br>year=2020<br>democracy_index_score=%{x}<br>lower_single_house_percent_w=%{marker.size}<extra></extra>",
           "legendgroup": "Middle East and North Africa",
           "marker": {
            "color": "rgb(237, 173, 8)",
            "size": [
             0.27589213579061295,
             0.056820906224833254,
             0.26388888888888884,
             0.11923076923076914,
             0.01583126550868482,
             0.1986754966887417
            ],
            "sizemode": "area",
            "sizeref": 0.00153125,
            "symbol": "circle"
           },
           "mode": "markers",
           "name": "Middle East and North Africa",
           "orientation": "v",
           "showlegend": true,
           "type": "scatter",
           "x": [
            2.93,
            2.2,
            7.84,
            3.62,
            3.8,
            2.08
           ],
           "xaxis": "x",
           "y": [
            0.27589213579061295,
            0.056820906224833254,
            0.26388888888888884,
            0.11923076923076914,
            0.01583126550868482,
            0.1986754966887417
           ],
           "yaxis": "y"
          },
          {
           "hovertemplate": "region=Sub-Saharan Africa<br>year=2020<br>democracy_index_score=%{x}<br>lower_single_house_percent_w=%{marker.size}<extra></extra>",
           "legendgroup": "Sub-Saharan Africa",
           "marker": {
            "color": "rgb(225, 124, 5)",
            "size": [
             0.0629921259842519,
             0.38211382113821146,
             0.3395902639166113,
             0.12093776106933996,
             0.1666666666666666,
             0.1454545454545454,
             0.27235246715766187,
             0.25903614457831325,
             0.36832850085910657
            ],
            "sizemode": "area",
            "sizeref": 0.00153125,
            "symbol": "circle"
           },
           "mode": "markers",
           "name": "Sub-Saharan Africa",
           "orientation": "v",
           "showlegend": true,
           "type": "scatter",
           "x": [
            3.73,
            2.14,
            2.77,
            1.32,
            3.09,
            6.5,
            3.93,
            3.29,
            5.1
           ],
           "xaxis": "x",
           "y": [
            0.0629921259842519,
            0.38211382113821146,
            0.3395902639166113,
            0.12093776106933996,
            0.1666666666666666,
            0.1454545454545454,
            0.27235246715766187,
            0.25903614457831325,
            0.36832850085910657
           ],
           "yaxis": "y"
          }
         ],
         "name": "2020"
        },
        {
         "data": [
          {
           "hovertemplate": "region=North America<br>year=2021<br>democracy_index_score=%{x}<br>lower_single_house_percent_w=%{marker.size}<extra></extra>",
           "legendgroup": "North America",
           "marker": {
            "color": "rgb(95, 70, 144)",
            "size": [
             0.3047337278106509
            ],
            "sizemode": "area",
            "sizeref": 0.00153125,
            "symbol": "circle"
           },
           "mode": "markers",
           "name": "North America",
           "orientation": "v",
           "showlegend": true,
           "type": "scatter",
           "x": [
            8.87
           ],
           "xaxis": "x",
           "y": [
            0.3047337278106509
           ],
           "yaxis": "y"
          },
          {
           "hovertemplate": "region=Western Europe<br>year=2021<br>democracy_index_score=%{x}<br>lower_single_house_percent_w=%{marker.size}<extra></extra>",
           "legendgroup": "Western Europe",
           "marker": {
            "color": "rgb(29, 105, 150)",
            "size": [
             0.1428571428571428,
             0.34918478260869573,
             0.4761904761904761,
             0.4,
             0.4497041420118343
            ],
            "sizemode": "area",
            "sizeref": 0.00153125,
            "symbol": "circle"
           },
           "mode": "markers",
           "name": "Western Europe",
           "orientation": "v",
           "showlegend": true,
           "type": "scatter",
           "x": [
            7.43,
            8.67,
            9.18,
            8.88,
            9.75
           ],
           "xaxis": "x",
           "y": [
            0.1428571428571428,
            0.34918478260869573,
            0.4761904761904761,
            0.4,
            0.4497041420118343
           ],
           "yaxis": "y"
          },
          {
           "hovertemplate": "region=Central and Eastern Europe<br>year=2021<br>democracy_index_score=%{x}<br>lower_single_house_percent_w=%{marker.size}<extra></extra>",
           "legendgroup": "Central and Eastern Europe",
           "marker": {
            "color": "rgb(56, 166, 165)",
            "size": [
             0.34523809523809523,
             0.34579439252336447,
             0.2347222222222222,
             0.25357142857142856,
             0.2713121338584219,
             0.2045454545454545,
             0.40099009900990096,
             0.1625925925925926
            ],
            "sizemode": "area",
            "sizeref": 0.00153125,
            "symbol": "circle"
           },
           "mode": "markers",
           "name": "Central and Eastern Europe",
           "orientation": "v",
           "showlegend": true,
           "type": "scatter",
           "x": [
            6.11,
            5.49,
            6.64,
            7.74,
            3.08,
            3.62,
            6.1,
            3.24
           ],
           "xaxis": "x",
           "y": [
            0.34523809523809523,
            0.34579439252336447,
            0.2347222222222222,
            0.25357142857142856,
            0.2713121338584219,
            0.2045454545454545,
            0.40099009900990096,
            0.1625925925925926
           ],
           "yaxis": "y"
          },
          {
           "hovertemplate": "region=Latin America and the Caribbean<br>year=2021<br>democracy_index_score=%{x}<br>lower_single_house_percent_w=%{marker.size}<extra></extra>",
           "legendgroup": "Latin America and the Caribbean",
           "marker": {
            "color": "rgb(15, 133, 84)",
            "size": [
             0.4474708171206226,
             0.3548387096774194,
             0.3861977438619774,
             0.2738095238095238,
             0.2734375,
             0.5,
             0.510989010989011,
             0.4
            ],
            "sizemode": "area",
            "sizeref": 0.00153125,
            "symbol": "circle"
           },
           "mode": "markers",
           "name": "Latin America and the Caribbean",
           "orientation": "v",
           "showlegend": true,
           "type": "scatter",
           "x": [
            6.81,
            7.92,
            5.71,
            5.72,
            5.1,
            5.57,
            2.69,
            6.09
           ],
           "xaxis": "x",
           "y": [
            0.4474708171206226,
            0.3548387096774194,
            0.3861977438619774,
            0.2738095238095238,
            0.2734375,
            0.5,
            0.510989010989011,
            0.4
           ],
           "yaxis": "y"
          },
          {
           "hovertemplate": "region=Asia and Australasia<br>year=2021<br>democracy_index_score=%{x}<br>lower_single_house_percent_w=%{marker.size}<extra></extra>",
           "legendgroup": "Asia and Australasia",
           "marker": {
            "color": "rgb(115, 175, 72)",
            "size": [
             0.09775676677790136,
             0.2195121951219512,
             0.3026052104208417
            ],
            "sizemode": "area",
            "sizeref": 0.00153125,
            "symbol": "circle"
           },
           "mode": "markers",
           "name": "Asia and Australasia",
           "orientation": "v",
           "showlegend": true,
           "type": "scatter",
           "x": [
            8.15,
            1.77,
            2.94
           ],
           "xaxis": "x",
           "y": [
            0.09775676677790136,
            0.2195121951219512,
            0.3026052104208417
           ],
           "yaxis": "y"
          },
          {
           "hovertemplate": "region=Middle East and North Africa<br>year=2021<br>democracy_index_score=%{x}<br>lower_single_house_percent_w=%{marker.size}<extra></extra>",
           "legendgroup": "Middle East and North Africa",
           "marker": {
            "color": "rgb(237, 173, 8)",
            "size": [
             0.081081081081081,
             0.2887537993920973,
             0.28181818181818175,
             0.23508137432188056,
             0.0444444444444444
            ],
            "sizemode": "area",
            "sizeref": 0.00153125,
            "symbol": "circle"
           },
           "mode": "markers",
           "name": "Middle East and North Africa",
           "orientation": "v",
           "showlegend": true,
           "type": "scatter",
           "x": [
            3.77,
            3.51,
            7.97,
            5.04,
            3.65
           ],
           "xaxis": "x",
           "y": [
            0.081081081081081,
            0.2887537993920973,
            0.28181818181818175,
            0.23508137432188056,
            0.0444444444444444
           ],
           "yaxis": "y"
          },
          {
           "hovertemplate": "region=Sub-Saharan Africa<br>year=2021<br>democracy_index_score=%{x}<br>lower_single_house_percent_w=%{marker.size}<extra></extra>",
           "legendgroup": "Sub-Saharan Africa",
           "marker": {
            "color": "rgb(225, 124, 5)",
            "size": [
             0.3078980404999727,
             0.4214868585732165,
             0.3331074957871819,
             0.14628837932374658
            ],
            "sizemode": "area",
            "sizeref": 0.00153125,
            "symbol": "circle"
           },
           "mode": "markers",
           "name": "Sub-Saharan Africa",
           "orientation": "v",
           "showlegend": true,
           "type": "scatter",
           "x": [
            1.67,
            3.3,
            4.48,
            5.72
           ],
           "xaxis": "x",
           "y": [
            0.3078980404999727,
            0.4214868585732165,
            0.3331074957871819,
            0.14628837932374658
           ],
           "yaxis": "y"
          }
         ],
         "name": "2021"
        },
        {
         "data": [
          {
           "hovertemplate": "region=North America<br>year=2022<br>democracy_index_score=%{x}<br>lower_single_house_percent_w=%{marker.size}<extra></extra>",
           "legendgroup": "North America",
           "marker": {
            "color": "rgb(95, 70, 144)",
            "size": [
             0.287037037037037
            ],
            "sizemode": "area",
            "sizeref": 0.00153125,
            "symbol": "circle"
           },
           "mode": "markers",
           "name": "North America",
           "orientation": "v",
           "showlegend": true,
           "type": "scatter",
           "x": [
            7.85
           ],
           "xaxis": "x",
           "y": [
            0.287037037037037
           ],
           "yaxis": "y"
          },
          {
           "hovertemplate": "region=Western Europe<br>year=2022<br>democracy_index_score=%{x}<br>lower_single_house_percent_w=%{marker.size}<extra></extra>",
           "legendgroup": "Western Europe",
           "marker": {
            "color": "rgb(29, 105, 150)",
            "size": [
             0.435754189944134,
             0.3726169844020797,
             0.3225,
             0.2784810126582278,
             0.36927917620137296,
             0.4627507163323782
            ],
            "sizemode": "area",
            "sizeref": 0.00153125,
            "symbol": "circle"
           },
           "mode": "markers",
           "name": "Western Europe",
           "orientation": "v",
           "showlegend": true,
           "type": "scatter",
           "x": [
            9.28,
            8.07,
            7.69,
            7.7,
            7.95,
            9.39
           ],
           "xaxis": "x",
           "y": [
            0.435754189944134,
            0.3726169844020797,
            0.3225,
            0.2784810126582278,
            0.36927917620137296,
            0.4627507163323782
           ],
           "yaxis": "y"
          },
          {
           "hovertemplate": "region=Central and Eastern Europe<br>year=2022<br>democracy_index_score=%{x}<br>lower_single_house_percent_w=%{marker.size}<extra></extra>",
           "legendgroup": "Central and Eastern Europe",
           "marker": {
            "color": "rgb(56, 166, 165)",
            "size": [
             0.1666666666666666,
             0.2416666666666666,
             0.1407035175879397,
             0.3,
             0.3817720967905234,
             0.4
            ],
            "sizemode": "area",
            "sizeref": 0.00153125,
            "symbol": "circle"
           },
           "mode": "markers",
           "name": "Central and Eastern Europe",
           "orientation": "v",
           "showlegend": true,
           "type": "scatter",
           "x": [
            5,
            6.53,
            6.64,
            7.37,
            6.33,
            7.75
           ],
           "xaxis": "x",
           "y": [
            0.1666666666666666,
            0.2416666666666666,
            0.1407035175879397,
            0.3,
            0.3817720967905234,
            0.4
           ],
           "yaxis": "y"
          },
          {
           "hovertemplate": "region=Latin America and the Caribbean<br>year=2022<br>democracy_index_score=%{x}<br>lower_single_house_percent_w=%{marker.size}<extra></extra>",
           "legendgroup": "Latin America and the Caribbean",
           "marker": {
            "color": "rgb(15, 133, 84)",
            "size": [
             0.1773879142300194,
             0.2887700534759358,
             0.4736842105263157
            ],
            "sizemode": "area",
            "sizeref": 0.00153125,
            "symbol": "circle"
           },
           "mode": "markers",
           "name": "Latin America and the Caribbean",
           "orientation": "v",
           "showlegend": true,
           "type": "scatter",
           "x": [
            6.78,
            6.72,
            8.29
           ],
           "xaxis": "x",
           "y": [
            0.1773879142300194,
            0.2887700534759358,
            0.4736842105263157
           ],
           "yaxis": "y"
          },
          {
           "hovertemplate": "region=Asia and Australasia<br>year=2022<br>democracy_index_score=%{x}<br>lower_single_house_percent_w=%{marker.size}<extra></extra>",
           "legendgroup": "Asia and Australasia",
           "marker": {
            "color": "rgb(115, 175, 72)",
            "size": [
             0.3841059602649007,
             0.1357466063348416,
             0.3309090909090909,
             0.017654808959156703,
             0.276458580132002
            ],
            "sizemode": "area",
            "sizeref": 0.00153125,
            "symbol": "circle"
           },
           "mode": "markers",
           "name": "Asia and Australasia",
           "orientation": "v",
           "showlegend": true,
           "type": "scatter",
           "x": [
            8.71,
            7.3,
            4.49,
            5.97,
            6.73
           ],
           "xaxis": "x",
           "y": [
            0.3841059602649007,
            0.1357466063348416,
            0.3309090909090909,
            0.017654808959156703,
            0.276458580132002
           ],
           "yaxis": "y"
          },
          {
           "hovertemplate": "region=Middle East and North Africa<br>year=2022<br>democracy_index_score=%{x}<br>lower_single_house_percent_w=%{marker.size}<extra></extra>",
           "legendgroup": "Middle East and North Africa",
           "marker": {
            "color": "rgb(237, 173, 8)",
            "size": [
             0.2,
             0.2333333333333333,
             0.051250000000000004,
             0.0625
            ],
            "sizemode": "area",
            "sizeref": 0.00153125,
            "symbol": "circle"
           },
           "mode": "markers",
           "name": "Middle East and North Africa",
           "orientation": "v",
           "showlegend": true,
           "type": "scatter",
           "x": [
            2.52,
            7.93,
            3.83,
            3.64
           ],
           "xaxis": "x",
           "y": [
            0.2,
            0.2333333333333333,
            0.051250000000000004,
            0.0625
           ],
           "yaxis": "y"
          },
          {
           "hovertemplate": "region=Sub-Saharan Africa<br>year=2022<br>democracy_index_score=%{x}<br>lower_single_house_percent_w=%{marker.size}<extra></extra>",
           "legendgroup": "Sub-Saharan Africa",
           "marker": {
            "color": "rgb(225, 124, 5)",
            "size": [
             0.3363636363636363,
             0.1915492957746478,
             0.31,
             0.2962962962962963,
             0.2342857142857143,
             0.2644628099173554,
             0.4424242424242424
            ],
            "sizemode": "area",
            "sizeref": 0.00153125,
            "symbol": "circle"
           },
           "mode": "markers",
           "name": "Sub-Saharan Africa",
           "orientation": "v",
           "showlegend": true,
           "type": "scatter",
           "x": [
            3.96,
            3.08,
            1.92,
            2.32,
            5.05,
            6.19,
            5.72
           ],
           "xaxis": "x",
           "y": [
            0.3363636363636363,
            0.1915492957746478,
            0.31,
            0.2962962962962963,
            0.2342857142857143,
            0.2644628099173554,
            0.4424242424242424
           ],
           "yaxis": "y"
          }
         ],
         "name": "2022"
        }
       ],
       "layout": {
        "height": 800,
        "legend": {
         "itemsizing": "constant",
         "title": {
          "text": "region"
         },
         "tracegroupgap": 0
        },
        "sliders": [
         {
          "active": 0,
          "currentvalue": {
           "prefix": "year="
          },
          "len": 0.9,
          "pad": {
           "b": 10,
           "t": 60
          },
          "steps": [
           {
            "args": [
             [
              "2006"
             ],
             {
              "frame": {
               "duration": 0,
               "redraw": false
              },
              "fromcurrent": true,
              "mode": "immediate",
              "transition": {
               "duration": 0,
               "easing": "linear"
              }
             }
            ],
            "label": "2006",
            "method": "animate"
           },
           {
            "args": [
             [
              "2008"
             ],
             {
              "frame": {
               "duration": 0,
               "redraw": false
              },
              "fromcurrent": true,
              "mode": "immediate",
              "transition": {
               "duration": 0,
               "easing": "linear"
              }
             }
            ],
            "label": "2008",
            "method": "animate"
           },
           {
            "args": [
             [
              "2011"
             ],
             {
              "frame": {
               "duration": 0,
               "redraw": false
              },
              "fromcurrent": true,
              "mode": "immediate",
              "transition": {
               "duration": 0,
               "easing": "linear"
              }
             }
            ],
            "label": "2011",
            "method": "animate"
           },
           {
            "args": [
             [
              "2013"
             ],
             {
              "frame": {
               "duration": 0,
               "redraw": false
              },
              "fromcurrent": true,
              "mode": "immediate",
              "transition": {
               "duration": 0,
               "easing": "linear"
              }
             }
            ],
            "label": "2013",
            "method": "animate"
           },
           {
            "args": [
             [
              "2014"
             ],
             {
              "frame": {
               "duration": 0,
               "redraw": false
              },
              "fromcurrent": true,
              "mode": "immediate",
              "transition": {
               "duration": 0,
               "easing": "linear"
              }
             }
            ],
            "label": "2014",
            "method": "animate"
           },
           {
            "args": [
             [
              "2015"
             ],
             {
              "frame": {
               "duration": 0,
               "redraw": false
              },
              "fromcurrent": true,
              "mode": "immediate",
              "transition": {
               "duration": 0,
               "easing": "linear"
              }
             }
            ],
            "label": "2015",
            "method": "animate"
           },
           {
            "args": [
             [
              "2016"
             ],
             {
              "frame": {
               "duration": 0,
               "redraw": false
              },
              "fromcurrent": true,
              "mode": "immediate",
              "transition": {
               "duration": 0,
               "easing": "linear"
              }
             }
            ],
            "label": "2016",
            "method": "animate"
           },
           {
            "args": [
             [
              "2017"
             ],
             {
              "frame": {
               "duration": 0,
               "redraw": false
              },
              "fromcurrent": true,
              "mode": "immediate",
              "transition": {
               "duration": 0,
               "easing": "linear"
              }
             }
            ],
            "label": "2017",
            "method": "animate"
           },
           {
            "args": [
             [
              "2018"
             ],
             {
              "frame": {
               "duration": 0,
               "redraw": false
              },
              "fromcurrent": true,
              "mode": "immediate",
              "transition": {
               "duration": 0,
               "easing": "linear"
              }
             }
            ],
            "label": "2018",
            "method": "animate"
           },
           {
            "args": [
             [
              "2019"
             ],
             {
              "frame": {
               "duration": 0,
               "redraw": false
              },
              "fromcurrent": true,
              "mode": "immediate",
              "transition": {
               "duration": 0,
               "easing": "linear"
              }
             }
            ],
            "label": "2019",
            "method": "animate"
           },
           {
            "args": [
             [
              "2020"
             ],
             {
              "frame": {
               "duration": 0,
               "redraw": false
              },
              "fromcurrent": true,
              "mode": "immediate",
              "transition": {
               "duration": 0,
               "easing": "linear"
              }
             }
            ],
            "label": "2020",
            "method": "animate"
           },
           {
            "args": [
             [
              "2021"
             ],
             {
              "frame": {
               "duration": 0,
               "redraw": false
              },
              "fromcurrent": true,
              "mode": "immediate",
              "transition": {
               "duration": 0,
               "easing": "linear"
              }
             }
            ],
            "label": "2021",
            "method": "animate"
           },
           {
            "args": [
             [
              "2022"
             ],
             {
              "frame": {
               "duration": 0,
               "redraw": false
              },
              "fromcurrent": true,
              "mode": "immediate",
              "transition": {
               "duration": 0,
               "easing": "linear"
              }
             }
            ],
            "label": "2022",
            "method": "animate"
           }
          ],
          "x": 0.1,
          "xanchor": "left",
          "y": 0,
          "yanchor": "top"
         }
        ],
        "template": {
         "data": {
          "bar": [
           {
            "error_x": {
             "color": "#2a3f5f"
            },
            "error_y": {
             "color": "#2a3f5f"
            },
            "marker": {
             "line": {
              "color": "white",
              "width": 0.5
             },
             "pattern": {
              "fillmode": "overlay",
              "size": 10,
              "solidity": 0.2
             }
            },
            "type": "bar"
           }
          ],
          "barpolar": [
           {
            "marker": {
             "line": {
              "color": "white",
              "width": 0.5
             },
             "pattern": {
              "fillmode": "overlay",
              "size": 10,
              "solidity": 0.2
             }
            },
            "type": "barpolar"
           }
          ],
          "carpet": [
           {
            "aaxis": {
             "endlinecolor": "#2a3f5f",
             "gridcolor": "#C8D4E3",
             "linecolor": "#C8D4E3",
             "minorgridcolor": "#C8D4E3",
             "startlinecolor": "#2a3f5f"
            },
            "baxis": {
             "endlinecolor": "#2a3f5f",
             "gridcolor": "#C8D4E3",
             "linecolor": "#C8D4E3",
             "minorgridcolor": "#C8D4E3",
             "startlinecolor": "#2a3f5f"
            },
            "type": "carpet"
           }
          ],
          "choropleth": [
           {
            "colorbar": {
             "outlinewidth": 0,
             "ticks": ""
            },
            "type": "choropleth"
           }
          ],
          "contour": [
           {
            "colorbar": {
             "outlinewidth": 0,
             "ticks": ""
            },
            "colorscale": [
             [
              0,
              "#0d0887"
             ],
             [
              0.1111111111111111,
              "#46039f"
             ],
             [
              0.2222222222222222,
              "#7201a8"
             ],
             [
              0.3333333333333333,
              "#9c179e"
             ],
             [
              0.4444444444444444,
              "#bd3786"
             ],
             [
              0.5555555555555556,
              "#d8576b"
             ],
             [
              0.6666666666666666,
              "#ed7953"
             ],
             [
              0.7777777777777778,
              "#fb9f3a"
             ],
             [
              0.8888888888888888,
              "#fdca26"
             ],
             [
              1,
              "#f0f921"
             ]
            ],
            "type": "contour"
           }
          ],
          "contourcarpet": [
           {
            "colorbar": {
             "outlinewidth": 0,
             "ticks": ""
            },
            "type": "contourcarpet"
           }
          ],
          "heatmap": [
           {
            "colorbar": {
             "outlinewidth": 0,
             "ticks": ""
            },
            "colorscale": [
             [
              0,
              "#0d0887"
             ],
             [
              0.1111111111111111,
              "#46039f"
             ],
             [
              0.2222222222222222,
              "#7201a8"
             ],
             [
              0.3333333333333333,
              "#9c179e"
             ],
             [
              0.4444444444444444,
              "#bd3786"
             ],
             [
              0.5555555555555556,
              "#d8576b"
             ],
             [
              0.6666666666666666,
              "#ed7953"
             ],
             [
              0.7777777777777778,
              "#fb9f3a"
             ],
             [
              0.8888888888888888,
              "#fdca26"
             ],
             [
              1,
              "#f0f921"
             ]
            ],
            "type": "heatmap"
           }
          ],
          "heatmapgl": [
           {
            "colorbar": {
             "outlinewidth": 0,
             "ticks": ""
            },
            "colorscale": [
             [
              0,
              "#0d0887"
             ],
             [
              0.1111111111111111,
              "#46039f"
             ],
             [
              0.2222222222222222,
              "#7201a8"
             ],
             [
              0.3333333333333333,
              "#9c179e"
             ],
             [
              0.4444444444444444,
              "#bd3786"
             ],
             [
              0.5555555555555556,
              "#d8576b"
             ],
             [
              0.6666666666666666,
              "#ed7953"
             ],
             [
              0.7777777777777778,
              "#fb9f3a"
             ],
             [
              0.8888888888888888,
              "#fdca26"
             ],
             [
              1,
              "#f0f921"
             ]
            ],
            "type": "heatmapgl"
           }
          ],
          "histogram": [
           {
            "marker": {
             "pattern": {
              "fillmode": "overlay",
              "size": 10,
              "solidity": 0.2
             }
            },
            "type": "histogram"
           }
          ],
          "histogram2d": [
           {
            "colorbar": {
             "outlinewidth": 0,
             "ticks": ""
            },
            "colorscale": [
             [
              0,
              "#0d0887"
             ],
             [
              0.1111111111111111,
              "#46039f"
             ],
             [
              0.2222222222222222,
              "#7201a8"
             ],
             [
              0.3333333333333333,
              "#9c179e"
             ],
             [
              0.4444444444444444,
              "#bd3786"
             ],
             [
              0.5555555555555556,
              "#d8576b"
             ],
             [
              0.6666666666666666,
              "#ed7953"
             ],
             [
              0.7777777777777778,
              "#fb9f3a"
             ],
             [
              0.8888888888888888,
              "#fdca26"
             ],
             [
              1,
              "#f0f921"
             ]
            ],
            "type": "histogram2d"
           }
          ],
          "histogram2dcontour": [
           {
            "colorbar": {
             "outlinewidth": 0,
             "ticks": ""
            },
            "colorscale": [
             [
              0,
              "#0d0887"
             ],
             [
              0.1111111111111111,
              "#46039f"
             ],
             [
              0.2222222222222222,
              "#7201a8"
             ],
             [
              0.3333333333333333,
              "#9c179e"
             ],
             [
              0.4444444444444444,
              "#bd3786"
             ],
             [
              0.5555555555555556,
              "#d8576b"
             ],
             [
              0.6666666666666666,
              "#ed7953"
             ],
             [
              0.7777777777777778,
              "#fb9f3a"
             ],
             [
              0.8888888888888888,
              "#fdca26"
             ],
             [
              1,
              "#f0f921"
             ]
            ],
            "type": "histogram2dcontour"
           }
          ],
          "mesh3d": [
           {
            "colorbar": {
             "outlinewidth": 0,
             "ticks": ""
            },
            "type": "mesh3d"
           }
          ],
          "parcoords": [
           {
            "line": {
             "colorbar": {
              "outlinewidth": 0,
              "ticks": ""
             }
            },
            "type": "parcoords"
           }
          ],
          "pie": [
           {
            "automargin": true,
            "type": "pie"
           }
          ],
          "scatter": [
           {
            "fillpattern": {
             "fillmode": "overlay",
             "size": 10,
             "solidity": 0.2
            },
            "type": "scatter"
           }
          ],
          "scatter3d": [
           {
            "line": {
             "colorbar": {
              "outlinewidth": 0,
              "ticks": ""
             }
            },
            "marker": {
             "colorbar": {
              "outlinewidth": 0,
              "ticks": ""
             }
            },
            "type": "scatter3d"
           }
          ],
          "scattercarpet": [
           {
            "marker": {
             "colorbar": {
              "outlinewidth": 0,
              "ticks": ""
             }
            },
            "type": "scattercarpet"
           }
          ],
          "scattergeo": [
           {
            "marker": {
             "colorbar": {
              "outlinewidth": 0,
              "ticks": ""
             }
            },
            "type": "scattergeo"
           }
          ],
          "scattergl": [
           {
            "marker": {
             "colorbar": {
              "outlinewidth": 0,
              "ticks": ""
             }
            },
            "type": "scattergl"
           }
          ],
          "scattermapbox": [
           {
            "marker": {
             "colorbar": {
              "outlinewidth": 0,
              "ticks": ""
             }
            },
            "type": "scattermapbox"
           }
          ],
          "scatterpolar": [
           {
            "marker": {
             "colorbar": {
              "outlinewidth": 0,
              "ticks": ""
             }
            },
            "type": "scatterpolar"
           }
          ],
          "scatterpolargl": [
           {
            "marker": {
             "colorbar": {
              "outlinewidth": 0,
              "ticks": ""
             }
            },
            "type": "scatterpolargl"
           }
          ],
          "scatterternary": [
           {
            "marker": {
             "colorbar": {
              "outlinewidth": 0,
              "ticks": ""
             }
            },
            "type": "scatterternary"
           }
          ],
          "surface": [
           {
            "colorbar": {
             "outlinewidth": 0,
             "ticks": ""
            },
            "colorscale": [
             [
              0,
              "#0d0887"
             ],
             [
              0.1111111111111111,
              "#46039f"
             ],
             [
              0.2222222222222222,
              "#7201a8"
             ],
             [
              0.3333333333333333,
              "#9c179e"
             ],
             [
              0.4444444444444444,
              "#bd3786"
             ],
             [
              0.5555555555555556,
              "#d8576b"
             ],
             [
              0.6666666666666666,
              "#ed7953"
             ],
             [
              0.7777777777777778,
              "#fb9f3a"
             ],
             [
              0.8888888888888888,
              "#fdca26"
             ],
             [
              1,
              "#f0f921"
             ]
            ],
            "type": "surface"
           }
          ],
          "table": [
           {
            "cells": {
             "fill": {
              "color": "#EBF0F8"
             },
             "line": {
              "color": "white"
             }
            },
            "header": {
             "fill": {
              "color": "#C8D4E3"
             },
             "line": {
              "color": "white"
             }
            },
            "type": "table"
           }
          ]
         },
         "layout": {
          "annotationdefaults": {
           "arrowcolor": "#2a3f5f",
           "arrowhead": 0,
           "arrowwidth": 1
          },
          "autotypenumbers": "strict",
          "coloraxis": {
           "colorbar": {
            "outlinewidth": 0,
            "ticks": ""
           }
          },
          "colorscale": {
           "diverging": [
            [
             0,
             "#8e0152"
            ],
            [
             0.1,
             "#c51b7d"
            ],
            [
             0.2,
             "#de77ae"
            ],
            [
             0.3,
             "#f1b6da"
            ],
            [
             0.4,
             "#fde0ef"
            ],
            [
             0.5,
             "#f7f7f7"
            ],
            [
             0.6,
             "#e6f5d0"
            ],
            [
             0.7,
             "#b8e186"
            ],
            [
             0.8,
             "#7fbc41"
            ],
            [
             0.9,
             "#4d9221"
            ],
            [
             1,
             "#276419"
            ]
           ],
           "sequential": [
            [
             0,
             "#0d0887"
            ],
            [
             0.1111111111111111,
             "#46039f"
            ],
            [
             0.2222222222222222,
             "#7201a8"
            ],
            [
             0.3333333333333333,
             "#9c179e"
            ],
            [
             0.4444444444444444,
             "#bd3786"
            ],
            [
             0.5555555555555556,
             "#d8576b"
            ],
            [
             0.6666666666666666,
             "#ed7953"
            ],
            [
             0.7777777777777778,
             "#fb9f3a"
            ],
            [
             0.8888888888888888,
             "#fdca26"
            ],
            [
             1,
             "#f0f921"
            ]
           ],
           "sequentialminus": [
            [
             0,
             "#0d0887"
            ],
            [
             0.1111111111111111,
             "#46039f"
            ],
            [
             0.2222222222222222,
             "#7201a8"
            ],
            [
             0.3333333333333333,
             "#9c179e"
            ],
            [
             0.4444444444444444,
             "#bd3786"
            ],
            [
             0.5555555555555556,
             "#d8576b"
            ],
            [
             0.6666666666666666,
             "#ed7953"
            ],
            [
             0.7777777777777778,
             "#fb9f3a"
            ],
            [
             0.8888888888888888,
             "#fdca26"
            ],
            [
             1,
             "#f0f921"
            ]
           ]
          },
          "colorway": [
           "#636efa",
           "#EF553B",
           "#00cc96",
           "#ab63fa",
           "#FFA15A",
           "#19d3f3",
           "#FF6692",
           "#B6E880",
           "#FF97FF",
           "#FECB52"
          ],
          "font": {
           "color": "#2a3f5f"
          },
          "geo": {
           "bgcolor": "white",
           "lakecolor": "white",
           "landcolor": "white",
           "showlakes": true,
           "showland": true,
           "subunitcolor": "#C8D4E3"
          },
          "hoverlabel": {
           "align": "left"
          },
          "hovermode": "closest",
          "mapbox": {
           "style": "light"
          },
          "paper_bgcolor": "white",
          "plot_bgcolor": "white",
          "polar": {
           "angularaxis": {
            "gridcolor": "#EBF0F8",
            "linecolor": "#EBF0F8",
            "ticks": ""
           },
           "bgcolor": "white",
           "radialaxis": {
            "gridcolor": "#EBF0F8",
            "linecolor": "#EBF0F8",
            "ticks": ""
           }
          },
          "scene": {
           "xaxis": {
            "backgroundcolor": "white",
            "gridcolor": "#DFE8F3",
            "gridwidth": 2,
            "linecolor": "#EBF0F8",
            "showbackground": true,
            "ticks": "",
            "zerolinecolor": "#EBF0F8"
           },
           "yaxis": {
            "backgroundcolor": "white",
            "gridcolor": "#DFE8F3",
            "gridwidth": 2,
            "linecolor": "#EBF0F8",
            "showbackground": true,
            "ticks": "",
            "zerolinecolor": "#EBF0F8"
           },
           "zaxis": {
            "backgroundcolor": "white",
            "gridcolor": "#DFE8F3",
            "gridwidth": 2,
            "linecolor": "#EBF0F8",
            "showbackground": true,
            "ticks": "",
            "zerolinecolor": "#EBF0F8"
           }
          },
          "shapedefaults": {
           "line": {
            "color": "#2a3f5f"
           }
          },
          "ternary": {
           "aaxis": {
            "gridcolor": "#DFE8F3",
            "linecolor": "#A2B1C6",
            "ticks": ""
           },
           "baxis": {
            "gridcolor": "#DFE8F3",
            "linecolor": "#A2B1C6",
            "ticks": ""
           },
           "bgcolor": "white",
           "caxis": {
            "gridcolor": "#DFE8F3",
            "linecolor": "#A2B1C6",
            "ticks": ""
           }
          },
          "title": {
           "x": 0.05
          },
          "xaxis": {
           "automargin": true,
           "gridcolor": "#EBF0F8",
           "linecolor": "#EBF0F8",
           "ticks": "",
           "title": {
            "standoff": 15
           },
           "zerolinecolor": "#EBF0F8",
           "zerolinewidth": 2
          },
          "yaxis": {
           "automargin": true,
           "gridcolor": "#EBF0F8",
           "linecolor": "#EBF0F8",
           "ticks": "",
           "title": {
            "standoff": 15
           },
           "zerolinecolor": "#EBF0F8",
           "zerolinewidth": 2
          }
         }
        },
        "title": {
         "text": "Democracy Index vs Percent Women in Lower Parliaments across Time"
        },
        "updatemenus": [
         {
          "buttons": [
           {
            "args": [
             null,
             {
              "frame": {
               "duration": 500,
               "redraw": false
              },
              "fromcurrent": true,
              "mode": "immediate",
              "transition": {
               "duration": 500,
               "easing": "linear"
              }
             }
            ],
            "label": "&#9654;",
            "method": "animate"
           },
           {
            "args": [
             [
              null
             ],
             {
              "frame": {
               "duration": 0,
               "redraw": false
              },
              "fromcurrent": true,
              "mode": "immediate",
              "transition": {
               "duration": 0,
               "easing": "linear"
              }
             }
            ],
            "label": "&#9724;",
            "method": "animate"
           }
          ],
          "direction": "left",
          "pad": {
           "r": 10,
           "t": 70
          },
          "showactive": false,
          "type": "buttons",
          "x": 0.1,
          "xanchor": "right",
          "y": 0,
          "yanchor": "top"
         }
        ],
        "width": 1200,
        "xaxis": {
         "anchor": "y",
         "domain": [
          0,
          1
         ],
         "title": {
          "text": "Democracy Index Score"
         }
        },
        "yaxis": {
         "anchor": "x",
         "domain": [
          0,
          1
         ],
         "title": {
          "text": "Percent Women in Lower Legislative Branches"
         }
        }
       }
      }
     },
     "metadata": {},
     "output_type": "display_data"
    }
   ],
   "source": [
    "# drop nas so that the plot works\n",
    "scatter_df = df.drop('upper_house_senate_percent_w',axis=1).dropna()\n",
    "# make figure\n",
    "fig = px.scatter(scatter_df, \n",
    "            x='democracy_index_score',\n",
    "            y='lower_single_house_percent_w',\n",
    "            template='plotly_white',    \n",
    "            #hover_data=['country','year'],\n",
    "            color='region',\n",
    "            color_discrete_sequence=px.colors.qualitative.Prism,\n",
    "            animation_frame='year',\n",
    "            title= 'Democracy Index vs Percent Women in Lower Parliaments across Time',\n",
    "            size='lower_single_house_percent_w',\n",
    "            width=1200,\n",
    "            height=800\n",
    "        )\n",
    "\n",
    "fig.update_xaxes(title_text='Democracy Index Score')\n",
    "fig.update_yaxes(title_text='Percent Women in Lower Legislative Branches')\n",
    "\n",
    "fig.show()"
   ]
  },
  {
   "cell_type": "code",
   "execution_count": 19,
   "metadata": {},
   "outputs": [],
   "source": [
    "# This is other things I explored but that we are no longer using "
   ]
  },
  {
   "cell_type": "code",
   "execution_count": 20,
   "metadata": {},
   "outputs": [],
   "source": [
    "country_codes = pd.read_html('https://www.iban.com/country-codes')"
   ]
  },
  {
   "cell_type": "code",
   "execution_count": 21,
   "metadata": {},
   "outputs": [],
   "source": [
    "# helper function to get  each women's time mandate_end as a column\n",
    "#def get_last_year_in_office(df):\n",
    "#    functions = {'hrllo': (' (assassinated)','',regex=False), \n",
    "#                    'test': ('Incumbent',np.NaNm),\n",
    "#                     fillna: df['Mandate start']}\n"
   ]
  },
  {
   "cell_type": "code",
   "execution_count": 22,
   "metadata": {},
   "outputs": [
    {
     "ename": "FileNotFoundError",
     "evalue": "[Errno 2] No such file or directory: 'data/female_heads_of_state.csv'",
     "output_type": "error",
     "traceback": [
      "\u001b[1;31m---------------------------------------------------------------------------\u001b[0m",
      "\u001b[1;31mFileNotFoundError\u001b[0m                         Traceback (most recent call last)",
      "Cell \u001b[1;32mIn[22], line 2\u001b[0m\n\u001b[0;32m      1\u001b[0m \u001b[39m# read in female heads of state dataset\u001b[39;00m\n\u001b[1;32m----> 2\u001b[0m df \u001b[39m=\u001b[39m pd\u001b[39m.\u001b[39;49mread_csv(\u001b[39m'\u001b[39;49m\u001b[39mdata/female_heads_of_state.csv\u001b[39;49m\u001b[39m'\u001b[39;49m)\n\u001b[0;32m      3\u001b[0m countries \u001b[39m=\u001b[39m pd\u001b[39m.\u001b[39mread_csv(\u001b[39m'\u001b[39m\u001b[39mdata/list_of_countries.csv\u001b[39m\u001b[39m'\u001b[39m)\n",
      "File \u001b[1;32mc:\\Users\\Rebecca\\.conda\\envs\\milestone1\\lib\\site-packages\\pandas\\util\\_decorators.py:211\u001b[0m, in \u001b[0;36mdeprecate_kwarg.<locals>._deprecate_kwarg.<locals>.wrapper\u001b[1;34m(*args, **kwargs)\u001b[0m\n\u001b[0;32m    209\u001b[0m     \u001b[39melse\u001b[39;00m:\n\u001b[0;32m    210\u001b[0m         kwargs[new_arg_name] \u001b[39m=\u001b[39m new_arg_value\n\u001b[1;32m--> 211\u001b[0m \u001b[39mreturn\u001b[39;00m func(\u001b[39m*\u001b[39margs, \u001b[39m*\u001b[39m\u001b[39m*\u001b[39mkwargs)\n",
      "File \u001b[1;32mc:\\Users\\Rebecca\\.conda\\envs\\milestone1\\lib\\site-packages\\pandas\\util\\_decorators.py:331\u001b[0m, in \u001b[0;36mdeprecate_nonkeyword_arguments.<locals>.decorate.<locals>.wrapper\u001b[1;34m(*args, **kwargs)\u001b[0m\n\u001b[0;32m    325\u001b[0m \u001b[39mif\u001b[39;00m \u001b[39mlen\u001b[39m(args) \u001b[39m>\u001b[39m num_allow_args:\n\u001b[0;32m    326\u001b[0m     warnings\u001b[39m.\u001b[39mwarn(\n\u001b[0;32m    327\u001b[0m         msg\u001b[39m.\u001b[39mformat(arguments\u001b[39m=\u001b[39m_format_argument_list(allow_args)),\n\u001b[0;32m    328\u001b[0m         \u001b[39mFutureWarning\u001b[39;00m,\n\u001b[0;32m    329\u001b[0m         stacklevel\u001b[39m=\u001b[39mfind_stack_level(),\n\u001b[0;32m    330\u001b[0m     )\n\u001b[1;32m--> 331\u001b[0m \u001b[39mreturn\u001b[39;00m func(\u001b[39m*\u001b[39margs, \u001b[39m*\u001b[39m\u001b[39m*\u001b[39mkwargs)\n",
      "File \u001b[1;32mc:\\Users\\Rebecca\\.conda\\envs\\milestone1\\lib\\site-packages\\pandas\\io\\parsers\\readers.py:950\u001b[0m, in \u001b[0;36mread_csv\u001b[1;34m(filepath_or_buffer, sep, delimiter, header, names, index_col, usecols, squeeze, prefix, mangle_dupe_cols, dtype, engine, converters, true_values, false_values, skipinitialspace, skiprows, skipfooter, nrows, na_values, keep_default_na, na_filter, verbose, skip_blank_lines, parse_dates, infer_datetime_format, keep_date_col, date_parser, dayfirst, cache_dates, iterator, chunksize, compression, thousands, decimal, lineterminator, quotechar, quoting, doublequote, escapechar, comment, encoding, encoding_errors, dialect, error_bad_lines, warn_bad_lines, on_bad_lines, delim_whitespace, low_memory, memory_map, float_precision, storage_options)\u001b[0m\n\u001b[0;32m    935\u001b[0m kwds_defaults \u001b[39m=\u001b[39m _refine_defaults_read(\n\u001b[0;32m    936\u001b[0m     dialect,\n\u001b[0;32m    937\u001b[0m     delimiter,\n\u001b[1;32m   (...)\u001b[0m\n\u001b[0;32m    946\u001b[0m     defaults\u001b[39m=\u001b[39m{\u001b[39m\"\u001b[39m\u001b[39mdelimiter\u001b[39m\u001b[39m\"\u001b[39m: \u001b[39m\"\u001b[39m\u001b[39m,\u001b[39m\u001b[39m\"\u001b[39m},\n\u001b[0;32m    947\u001b[0m )\n\u001b[0;32m    948\u001b[0m kwds\u001b[39m.\u001b[39mupdate(kwds_defaults)\n\u001b[1;32m--> 950\u001b[0m \u001b[39mreturn\u001b[39;00m _read(filepath_or_buffer, kwds)\n",
      "File \u001b[1;32mc:\\Users\\Rebecca\\.conda\\envs\\milestone1\\lib\\site-packages\\pandas\\io\\parsers\\readers.py:605\u001b[0m, in \u001b[0;36m_read\u001b[1;34m(filepath_or_buffer, kwds)\u001b[0m\n\u001b[0;32m    602\u001b[0m _validate_names(kwds\u001b[39m.\u001b[39mget(\u001b[39m\"\u001b[39m\u001b[39mnames\u001b[39m\u001b[39m\"\u001b[39m, \u001b[39mNone\u001b[39;00m))\n\u001b[0;32m    604\u001b[0m \u001b[39m# Create the parser.\u001b[39;00m\n\u001b[1;32m--> 605\u001b[0m parser \u001b[39m=\u001b[39m TextFileReader(filepath_or_buffer, \u001b[39m*\u001b[39m\u001b[39m*\u001b[39mkwds)\n\u001b[0;32m    607\u001b[0m \u001b[39mif\u001b[39;00m chunksize \u001b[39mor\u001b[39;00m iterator:\n\u001b[0;32m    608\u001b[0m     \u001b[39mreturn\u001b[39;00m parser\n",
      "File \u001b[1;32mc:\\Users\\Rebecca\\.conda\\envs\\milestone1\\lib\\site-packages\\pandas\\io\\parsers\\readers.py:1442\u001b[0m, in \u001b[0;36mTextFileReader.__init__\u001b[1;34m(self, f, engine, **kwds)\u001b[0m\n\u001b[0;32m   1439\u001b[0m     \u001b[39mself\u001b[39m\u001b[39m.\u001b[39moptions[\u001b[39m\"\u001b[39m\u001b[39mhas_index_names\u001b[39m\u001b[39m\"\u001b[39m] \u001b[39m=\u001b[39m kwds[\u001b[39m\"\u001b[39m\u001b[39mhas_index_names\u001b[39m\u001b[39m\"\u001b[39m]\n\u001b[0;32m   1441\u001b[0m \u001b[39mself\u001b[39m\u001b[39m.\u001b[39mhandles: IOHandles \u001b[39m|\u001b[39m \u001b[39mNone\u001b[39;00m \u001b[39m=\u001b[39m \u001b[39mNone\u001b[39;00m\n\u001b[1;32m-> 1442\u001b[0m \u001b[39mself\u001b[39m\u001b[39m.\u001b[39m_engine \u001b[39m=\u001b[39m \u001b[39mself\u001b[39;49m\u001b[39m.\u001b[39;49m_make_engine(f, \u001b[39mself\u001b[39;49m\u001b[39m.\u001b[39;49mengine)\n",
      "File \u001b[1;32mc:\\Users\\Rebecca\\.conda\\envs\\milestone1\\lib\\site-packages\\pandas\\io\\parsers\\readers.py:1735\u001b[0m, in \u001b[0;36mTextFileReader._make_engine\u001b[1;34m(self, f, engine)\u001b[0m\n\u001b[0;32m   1733\u001b[0m     \u001b[39mif\u001b[39;00m \u001b[39m\"\u001b[39m\u001b[39mb\u001b[39m\u001b[39m\"\u001b[39m \u001b[39mnot\u001b[39;00m \u001b[39min\u001b[39;00m mode:\n\u001b[0;32m   1734\u001b[0m         mode \u001b[39m+\u001b[39m\u001b[39m=\u001b[39m \u001b[39m\"\u001b[39m\u001b[39mb\u001b[39m\u001b[39m\"\u001b[39m\n\u001b[1;32m-> 1735\u001b[0m \u001b[39mself\u001b[39m\u001b[39m.\u001b[39mhandles \u001b[39m=\u001b[39m get_handle(\n\u001b[0;32m   1736\u001b[0m     f,\n\u001b[0;32m   1737\u001b[0m     mode,\n\u001b[0;32m   1738\u001b[0m     encoding\u001b[39m=\u001b[39;49m\u001b[39mself\u001b[39;49m\u001b[39m.\u001b[39;49moptions\u001b[39m.\u001b[39;49mget(\u001b[39m\"\u001b[39;49m\u001b[39mencoding\u001b[39;49m\u001b[39m\"\u001b[39;49m, \u001b[39mNone\u001b[39;49;00m),\n\u001b[0;32m   1739\u001b[0m     compression\u001b[39m=\u001b[39;49m\u001b[39mself\u001b[39;49m\u001b[39m.\u001b[39;49moptions\u001b[39m.\u001b[39;49mget(\u001b[39m\"\u001b[39;49m\u001b[39mcompression\u001b[39;49m\u001b[39m\"\u001b[39;49m, \u001b[39mNone\u001b[39;49;00m),\n\u001b[0;32m   1740\u001b[0m     memory_map\u001b[39m=\u001b[39;49m\u001b[39mself\u001b[39;49m\u001b[39m.\u001b[39;49moptions\u001b[39m.\u001b[39;49mget(\u001b[39m\"\u001b[39;49m\u001b[39mmemory_map\u001b[39;49m\u001b[39m\"\u001b[39;49m, \u001b[39mFalse\u001b[39;49;00m),\n\u001b[0;32m   1741\u001b[0m     is_text\u001b[39m=\u001b[39;49mis_text,\n\u001b[0;32m   1742\u001b[0m     errors\u001b[39m=\u001b[39;49m\u001b[39mself\u001b[39;49m\u001b[39m.\u001b[39;49moptions\u001b[39m.\u001b[39;49mget(\u001b[39m\"\u001b[39;49m\u001b[39mencoding_errors\u001b[39;49m\u001b[39m\"\u001b[39;49m, \u001b[39m\"\u001b[39;49m\u001b[39mstrict\u001b[39;49m\u001b[39m\"\u001b[39;49m),\n\u001b[0;32m   1743\u001b[0m     storage_options\u001b[39m=\u001b[39;49m\u001b[39mself\u001b[39;49m\u001b[39m.\u001b[39;49moptions\u001b[39m.\u001b[39;49mget(\u001b[39m\"\u001b[39;49m\u001b[39mstorage_options\u001b[39;49m\u001b[39m\"\u001b[39;49m, \u001b[39mNone\u001b[39;49;00m),\n\u001b[0;32m   1744\u001b[0m )\n\u001b[0;32m   1745\u001b[0m \u001b[39massert\u001b[39;00m \u001b[39mself\u001b[39m\u001b[39m.\u001b[39mhandles \u001b[39mis\u001b[39;00m \u001b[39mnot\u001b[39;00m \u001b[39mNone\u001b[39;00m\n\u001b[0;32m   1746\u001b[0m f \u001b[39m=\u001b[39m \u001b[39mself\u001b[39m\u001b[39m.\u001b[39mhandles\u001b[39m.\u001b[39mhandle\n",
      "File \u001b[1;32mc:\\Users\\Rebecca\\.conda\\envs\\milestone1\\lib\\site-packages\\pandas\\io\\common.py:856\u001b[0m, in \u001b[0;36mget_handle\u001b[1;34m(path_or_buf, mode, encoding, compression, memory_map, is_text, errors, storage_options)\u001b[0m\n\u001b[0;32m    851\u001b[0m \u001b[39melif\u001b[39;00m \u001b[39misinstance\u001b[39m(handle, \u001b[39mstr\u001b[39m):\n\u001b[0;32m    852\u001b[0m     \u001b[39m# Check whether the filename is to be opened in binary mode.\u001b[39;00m\n\u001b[0;32m    853\u001b[0m     \u001b[39m# Binary mode does not support 'encoding' and 'newline'.\u001b[39;00m\n\u001b[0;32m    854\u001b[0m     \u001b[39mif\u001b[39;00m ioargs\u001b[39m.\u001b[39mencoding \u001b[39mand\u001b[39;00m \u001b[39m\"\u001b[39m\u001b[39mb\u001b[39m\u001b[39m\"\u001b[39m \u001b[39mnot\u001b[39;00m \u001b[39min\u001b[39;00m ioargs\u001b[39m.\u001b[39mmode:\n\u001b[0;32m    855\u001b[0m         \u001b[39m# Encoding\u001b[39;00m\n\u001b[1;32m--> 856\u001b[0m         handle \u001b[39m=\u001b[39m \u001b[39mopen\u001b[39;49m(\n\u001b[0;32m    857\u001b[0m             handle,\n\u001b[0;32m    858\u001b[0m             ioargs\u001b[39m.\u001b[39;49mmode,\n\u001b[0;32m    859\u001b[0m             encoding\u001b[39m=\u001b[39;49mioargs\u001b[39m.\u001b[39;49mencoding,\n\u001b[0;32m    860\u001b[0m             errors\u001b[39m=\u001b[39;49merrors,\n\u001b[0;32m    861\u001b[0m             newline\u001b[39m=\u001b[39;49m\u001b[39m\"\u001b[39;49m\u001b[39m\"\u001b[39;49m,\n\u001b[0;32m    862\u001b[0m         )\n\u001b[0;32m    863\u001b[0m     \u001b[39melse\u001b[39;00m:\n\u001b[0;32m    864\u001b[0m         \u001b[39m# Binary mode\u001b[39;00m\n\u001b[0;32m    865\u001b[0m         handle \u001b[39m=\u001b[39m \u001b[39mopen\u001b[39m(handle, ioargs\u001b[39m.\u001b[39mmode)\n",
      "\u001b[1;31mFileNotFoundError\u001b[0m: [Errno 2] No such file or directory: 'data/female_heads_of_state.csv'"
     ]
    }
   ],
   "source": [
    "# read in female heads of state dataset\n",
    "df = pd.read_csv('data/female_heads_of_state.csv')\n",
    "countries = pd.read_csv('data/list_of_countries.csv')"
   ]
  },
  {
   "cell_type": "code",
   "execution_count": null,
   "metadata": {},
   "outputs": [],
   "source": [
    "# add in the Alpha-3 code\n",
    "df = df.merge(countries[['Country','Alpha-3 code']],on='Country')\n",
    "\n",
    "# add colunms that have the start and end years of their terms\n",
    "df['start_year'] = df['Mandate start'].apply(lambda x: f'19{x[-2:]}' if int(x[-2:]) > 39 else f'20{x[-2:]}')\n",
    "df['Mandate end'] = df['Mandate end'].str.replace(' (assassinated)','',regex=False)\n",
    "df['Mandate end'] = df['Mandate end'].replace('Incumbent',np.NaN)\n",
    "df['Mandate end'] = df['Mandate end'].fillna(df['Mandate start'])\n",
    "df['end_year'] = df['Mandate end'].apply(lambda x: f'19{x[-2:]}' if int(x[-2:]) > 39 else f'20{x[-2:]}')"
   ]
  },
  {
   "cell_type": "code",
   "execution_count": null,
   "metadata": {},
   "outputs": [],
   "source": [
    "# make it so that each year of each leader's term is a row\n",
    "df['Year'] = [pd.date_range(x, y,freq='YS',inclusive='both') for x, y in zip(df.start_year, df.end_year)]\n",
    "df = df.explode('Year')\n",
    "df['Year'] = df['Year'].astype(str).apply(lambda x:x[:4])"
   ]
  },
  {
   "cell_type": "code",
   "execution_count": null,
   "metadata": {},
   "outputs": [],
   "source": [
    "# read in geojson for choropleth \n",
    "with open('data/countries.geojson') as f:\n",
    "    gj = geojson.load(f)\n",
    "\n",
    "# add in the 'id' which allows plotly to associate the cordinates to a teh countries in my dataframe\n",
    "for feature in gj['features']:\n",
    "    feature['id'] = feature['properties']['ISO_A3']"
   ]
  },
  {
   "cell_type": "code",
   "execution_count": null,
   "metadata": {},
   "outputs": [],
   "source": [
    "# only do three years to save memory b/c choropleth is to large otherwise\n",
    "df_less = df[['Name','Country','Office','Head of state or government','Alpha-3 code','Year']].sort_values('Year')\n",
    "df_less = df_less[df_less['Year'].isin([str(year) for year in range(2020,2023)])]"
   ]
  },
  {
   "cell_type": "markdown",
   "metadata": {},
   "source": [
    "### Choropleth visualzation"
   ]
  },
  {
   "cell_type": "code",
   "execution_count": null,
   "metadata": {},
   "outputs": [],
   "source": [
    "# without animation (only 2022)\n",
    "#fig = px.choropleth_mapbox(df[[df_less]==2022], geojson=gj, locations='Alpha-3 code', \n",
    "#                    color='Head of state or government', mapbox_style='carto-positron', zoom=1,\n",
    "#                           color_discrete_sequence=px.colors.qualitative.Prism,\n",
    "#                          hover_data=['Name','Country','Office'])\n",
    "\n",
    "#fig.show()"
   ]
  },
  {
   "cell_type": "code",
   "execution_count": null,
   "metadata": {},
   "outputs": [],
   "source": [
    "# with animation (2020 - 2023)\n",
    "#fig = px.choropleth_mapbox(df_less, geojson=gj, locations='Alpha-3 code', \n",
    "#                    color='Head of state or government', mapbox_style='carto-positron', zoom=1,\n",
    "#                           color_discrete_sequence=px.colors.qualitative.Prism,\n",
    "#                          hover_data=['Name','Country','Office'],animation_frame='Year')\n",
    "\n",
    "#fig.show()"
   ]
  },
  {
   "cell_type": "code",
   "execution_count": null,
   "metadata": {},
   "outputs": [],
   "source": [
    "import plotly.graph_objects as go"
   ]
  },
  {
   "cell_type": "code",
   "execution_count": null,
   "metadata": {},
   "outputs": [],
   "source": [
    "fig = px.scatter(df, \n",
    "            x='democracy_indx_score',\n",
    "            y='percent_W',\n",
    "            template='plotly_white',    \n",
    "            hover_data=['Country','year'],\n",
    "            facet_row='Region',\n",
    "            color='Region',\n",
    "            color_discrete_sequence=px.colors.qualitative.Prism,\n",
    "            animation_frame='year',\n",
    "            title= 'Democracy Index vs Percent Women in Parliment across time',\n",
    "            size='percent_W',\n",
    "            height=800\n",
    "        )\n",
    "for axis in fig.layout:\n",
    "    if type(fig.layout[axis]) == go.layout.YAxis:\n",
    "        fig.layout[axis].title.text = ''\n",
    "    if type(fig.layout[axis]) == go.layout.XAxis:\n",
    "        fig.layout[axis].title.text = ''\n",
    " \n",
    "# ensure that each chart has its own y range and tick labels\n",
    "fig.update_yaxes(matches=None, showticklabels=True, visible=True)\n",
    "#fig.update_xaxes(title_text='Democracy Index Score')\n",
    "#fig.update_yaxes(title_text='Percent Women in Lower Legislative Branches')\n",
    "\n",
    "fig.show()"
   ]
  }
 ],
 "metadata": {
  "kernelspec": {
   "display_name": "Python 3 (ipykernel)",
   "language": "python",
   "name": "python3"
  },
  "language_info": {
   "codemirror_mode": {
    "name": "ipython",
    "version": 3
   },
   "file_extension": ".py",
   "mimetype": "text/x-python",
   "name": "python",
   "nbconvert_exporter": "python",
   "pygments_lexer": "ipython3",
   "version": "3.9.15"
  },
  "toc": {
   "base_numbering": 1,
   "nav_menu": {},
   "number_sections": false,
   "sideBar": true,
   "skip_h1_title": false,
   "title_cell": "Table of Contents",
   "title_sidebar": "Contents",
   "toc_cell": true,
   "toc_position": {},
   "toc_section_display": true,
   "toc_window_display": false
  },
  "vscode": {
   "interpreter": {
    "hash": "a23322d535482f71618cbdd3ed8f86a1f1cff9a935422214cedb9783ad801556"
   }
  }
 },
 "nbformat": 4,
 "nbformat_minor": 2
}
