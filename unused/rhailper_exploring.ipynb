{
 "cells": [
  {
   "cell_type": "code",
   "execution_count": 5,
   "metadata": {},
   "outputs": [],
   "source": [
    "import pandas as pd\n",
    "import plotly.express as px\n",
    "import numpy as np\n",
    "import geojson\n",
    "import dataframe_image as dfi\n",
    "import warnings"
   ]
  },
  {
   "attachments": {},
   "cell_type": "markdown",
   "metadata": {},
   "source": [
    "### Box Plot of democracy index data"
   ]
  },
  {
   "cell_type": "code",
   "execution_count": 25,
   "metadata": {},
   "outputs": [],
   "source": [
    "# read in democracy data\n",
    "dem_idx = pd.read_csv('../data/democracy_index_data.csv')"
   ]
  },
  {
   "cell_type": "code",
   "execution_count": 55,
   "metadata": {},
   "outputs": [
    {
     "data": {
      "application/vnd.plotly.v1+json": {
       "config": {
        "plotlyServerURL": "https://plot.ly"
       },
       "data": [
        {
         "alignmentgroup": "True",
         "hovertemplate": "region=North America<br>five_year_mean=%{y}<extra></extra>",
         "legendgroup": "North America",
         "marker": {
          "color": "rgb(95, 70, 144)"
         },
         "name": "North America",
         "notched": false,
         "offsetgroup": "North America",
         "orientation": "v",
         "showlegend": true,
         "type": "box",
         "x0": " ",
         "xaxis": "x",
         "y": [
          9.072,
          7.907999999999999
         ],
         "y0": " ",
         "yaxis": "y"
        },
        {
         "alignmentgroup": "True",
         "hovertemplate": "region=Western Europe<br>five_year_mean=%{y}<extra></extra>",
         "legendgroup": "Western Europe",
         "marker": {
          "color": "rgb(29, 105, 150)"
         },
         "name": "Western Europe",
         "notched": false,
         "offsetgroup": "Western Europe",
         "orientation": "v",
         "showlegend": true,
         "type": "box",
         "x0": " ",
         "xaxis": "x",
         "y": [
          8.202,
          7.616,
          7.51,
          9.191999999999998,
          9.23,
          7.994,
          8.7,
          7.528,
          9.446,
          9.114,
          7.667999999999999,
          8.758000000000001,
          7.822,
          8.948,
          9.822,
          7.908000000000001,
          8.1,
          9.338,
          8.986,
          4.328,
          8.394
         ],
         "y0": " ",
         "yaxis": "y"
        },
        {
         "alignmentgroup": "True",
         "hovertemplate": "region=Central and Eastern Europe<br>five_year_mean=%{y}<extra></extra>",
         "legendgroup": "Central and Eastern Europe",
         "marker": {
          "color": "rgb(56, 166, 165)"
         },
         "name": "Central and Eastern Europe",
         "notched": false,
         "offsetgroup": "Central and Eastern Europe",
         "orientation": "v",
         "showlegend": true,
         "type": "box",
         "x0": " ",
         "xaxis": "x",
         "y": [
          6.094,
          5.359999999999999,
          2.726,
          2.5200000000000005,
          4.944,
          6.787999999999999,
          6.5280000000000005,
          7.752000000000001,
          7.901999999999999,
          5.31,
          6.5920000000000005,
          3.036,
          4.29,
          7.358000000000001,
          7.324,
          5.942,
          5.926,
          5.972,
          6.795999999999999,
          6.4300000000000015,
          2.976,
          6.346,
          7.0680000000000005,
          7.566,
          1.936,
          1.6960000000000002,
          5.678000000000001,
          2.076
         ],
         "y0": " ",
         "yaxis": "y"
        },
        {
         "alignmentgroup": "True",
         "hovertemplate": "region=Latin America and the Caribbean<br>five_year_mean=%{y}<extra></extra>",
         "legendgroup": "Latin America and the Caribbean",
         "marker": {
          "color": "rgb(15, 133, 84)"
         },
         "name": "Latin America and the Caribbean",
         "notched": false,
         "offsetgroup": "Latin America and the Caribbean",
         "orientation": "v",
         "showlegend": true,
         "type": "box",
         "x0": " ",
         "xaxis": "x",
         "y": [
          6.93,
          4.956,
          6.878,
          8.094,
          6.866,
          8.144,
          2.784,
          6.448,
          6.026,
          5.758,
          5.026000000000001,
          6.284000000000001,
          3.998,
          5.332,
          7.074000000000001,
          5.8340000000000005,
          3.194,
          7.008,
          6.082000000000001,
          6.348000000000001,
          6.909999999999999,
          7.159999999999999,
          8.626000000000001,
          2.628
         ],
         "y0": " ",
         "yaxis": "y"
        },
        {
         "alignmentgroup": "True",
         "hovertemplate": "region=Asia and Australasia<br>five_year_mean=%{y}<extra></extra>",
         "legendgroup": "Asia and Australasia",
         "marker": {
          "color": "rgb(115, 175, 72)"
         },
         "name": "Asia and Australasia",
         "notched": false,
         "offsetgroup": "Asia and Australasia",
         "orientation": "v",
         "showlegend": true,
         "type": "box",
         "x0": " ",
         "xaxis": "x",
         "y": [
          1.862,
          8.95,
          5.884,
          5.5120000000000005,
          3.26,
          2.4,
          5.715999999999999,
          5.723999999999999,
          6.938,
          6.517999999999999,
          8.118,
          1.964,
          7.154000000000001,
          6.45,
          2.436,
          4.916,
          9.349999999999998,
          1.08,
          4.234,
          6.046000000000001,
          6.651999999999999,
          6.176,
          8.04,
          6.242,
          8.476000000000003,
          5.94,
          7.112,
          2.954
         ],
         "y0": " ",
         "yaxis": "y"
        },
        {
         "alignmentgroup": "True",
         "hovertemplate": "region=Middle East and North Africa<br>five_year_mean=%{y}<extra></extra>",
         "legendgroup": "Middle East and North Africa",
         "marker": {
          "color": "rgb(237, 173, 8)"
         },
         "name": "Middle East and North Africa",
         "notched": false,
         "offsetgroup": "Middle East and North Africa",
         "orientation": "v",
         "showlegend": true,
         "type": "box",
         "x0": " ",
         "xaxis": "x",
         "y": [
          3.742,
          2.558,
          3.0420000000000003,
          2.188,
          3.612,
          7.878,
          3.628,
          3.864,
          4.126,
          2.034,
          5.042,
          3.0440000000000005,
          3.982,
          3.3839999999999995,
          2.02,
          2.466,
          1.43,
          6.244,
          2.804,
          1.95
         ],
         "y0": " ",
         "yaxis": "y"
        },
        {
         "alignmentgroup": "True",
         "hovertemplate": "region=Sub-Saharan Africa<br>five_year_mean=%{y}<extra></extra>",
         "legendgroup": "Sub-Saharan Africa",
         "marker": {
          "color": "rgb(225, 124, 5)"
         },
         "name": "Sub-Saharan Africa",
         "notched": false,
         "offsetgroup": "Sub-Saharan Africa",
         "orientation": "v",
         "showlegend": true,
         "type": "box",
         "x0": " ",
         "xaxis": "x",
         "y": [
          3.666,
          4.776000000000001,
          7.74,
          3.888,
          2.176,
          7.722000000000001,
          2.804,
          1.3880000000000003,
          1.622,
          3.2700000000000005,
          3.022,
          4.15,
          1.326,
          2.7660000000000005,
          1.92,
          2.19,
          3.068,
          3.3280000000000003,
          3.512,
          4.401999999999999,
          6.537999999999999,
          2.7920000000000003,
          2.51,
          5.087999999999999,
          6.394,
          5.395999999999999,
          5.5920000000000005,
          5.676,
          4.194,
          3.944,
          8.16,
          3.606,
          6.447999999999999,
          3.458,
          4.2,
          3.162,
          5.776000000000001,
          4.876,
          7.126,
          5.174,
          2.998,
          4.838,
          5.416,
          3.064
         ],
         "y0": " ",
         "yaxis": "y"
        }
       ],
       "layout": {
        "boxmode": "group",
        "height": 400,
        "legend": {
         "title": {
          "text": "region"
         },
         "tracegroupgap": 0
        },
        "template": {
         "data": {
          "bar": [
           {
            "error_x": {
             "color": "#2a3f5f"
            },
            "error_y": {
             "color": "#2a3f5f"
            },
            "marker": {
             "line": {
              "color": "white",
              "width": 0.5
             },
             "pattern": {
              "fillmode": "overlay",
              "size": 10,
              "solidity": 0.2
             }
            },
            "type": "bar"
           }
          ],
          "barpolar": [
           {
            "marker": {
             "line": {
              "color": "white",
              "width": 0.5
             },
             "pattern": {
              "fillmode": "overlay",
              "size": 10,
              "solidity": 0.2
             }
            },
            "type": "barpolar"
           }
          ],
          "carpet": [
           {
            "aaxis": {
             "endlinecolor": "#2a3f5f",
             "gridcolor": "#C8D4E3",
             "linecolor": "#C8D4E3",
             "minorgridcolor": "#C8D4E3",
             "startlinecolor": "#2a3f5f"
            },
            "baxis": {
             "endlinecolor": "#2a3f5f",
             "gridcolor": "#C8D4E3",
             "linecolor": "#C8D4E3",
             "minorgridcolor": "#C8D4E3",
             "startlinecolor": "#2a3f5f"
            },
            "type": "carpet"
           }
          ],
          "choropleth": [
           {
            "colorbar": {
             "outlinewidth": 0,
             "ticks": ""
            },
            "type": "choropleth"
           }
          ],
          "contour": [
           {
            "colorbar": {
             "outlinewidth": 0,
             "ticks": ""
            },
            "colorscale": [
             [
              0,
              "#0d0887"
             ],
             [
              0.1111111111111111,
              "#46039f"
             ],
             [
              0.2222222222222222,
              "#7201a8"
             ],
             [
              0.3333333333333333,
              "#9c179e"
             ],
             [
              0.4444444444444444,
              "#bd3786"
             ],
             [
              0.5555555555555556,
              "#d8576b"
             ],
             [
              0.6666666666666666,
              "#ed7953"
             ],
             [
              0.7777777777777778,
              "#fb9f3a"
             ],
             [
              0.8888888888888888,
              "#fdca26"
             ],
             [
              1,
              "#f0f921"
             ]
            ],
            "type": "contour"
           }
          ],
          "contourcarpet": [
           {
            "colorbar": {
             "outlinewidth": 0,
             "ticks": ""
            },
            "type": "contourcarpet"
           }
          ],
          "heatmap": [
           {
            "colorbar": {
             "outlinewidth": 0,
             "ticks": ""
            },
            "colorscale": [
             [
              0,
              "#0d0887"
             ],
             [
              0.1111111111111111,
              "#46039f"
             ],
             [
              0.2222222222222222,
              "#7201a8"
             ],
             [
              0.3333333333333333,
              "#9c179e"
             ],
             [
              0.4444444444444444,
              "#bd3786"
             ],
             [
              0.5555555555555556,
              "#d8576b"
             ],
             [
              0.6666666666666666,
              "#ed7953"
             ],
             [
              0.7777777777777778,
              "#fb9f3a"
             ],
             [
              0.8888888888888888,
              "#fdca26"
             ],
             [
              1,
              "#f0f921"
             ]
            ],
            "type": "heatmap"
           }
          ],
          "heatmapgl": [
           {
            "colorbar": {
             "outlinewidth": 0,
             "ticks": ""
            },
            "colorscale": [
             [
              0,
              "#0d0887"
             ],
             [
              0.1111111111111111,
              "#46039f"
             ],
             [
              0.2222222222222222,
              "#7201a8"
             ],
             [
              0.3333333333333333,
              "#9c179e"
             ],
             [
              0.4444444444444444,
              "#bd3786"
             ],
             [
              0.5555555555555556,
              "#d8576b"
             ],
             [
              0.6666666666666666,
              "#ed7953"
             ],
             [
              0.7777777777777778,
              "#fb9f3a"
             ],
             [
              0.8888888888888888,
              "#fdca26"
             ],
             [
              1,
              "#f0f921"
             ]
            ],
            "type": "heatmapgl"
           }
          ],
          "histogram": [
           {
            "marker": {
             "pattern": {
              "fillmode": "overlay",
              "size": 10,
              "solidity": 0.2
             }
            },
            "type": "histogram"
           }
          ],
          "histogram2d": [
           {
            "colorbar": {
             "outlinewidth": 0,
             "ticks": ""
            },
            "colorscale": [
             [
              0,
              "#0d0887"
             ],
             [
              0.1111111111111111,
              "#46039f"
             ],
             [
              0.2222222222222222,
              "#7201a8"
             ],
             [
              0.3333333333333333,
              "#9c179e"
             ],
             [
              0.4444444444444444,
              "#bd3786"
             ],
             [
              0.5555555555555556,
              "#d8576b"
             ],
             [
              0.6666666666666666,
              "#ed7953"
             ],
             [
              0.7777777777777778,
              "#fb9f3a"
             ],
             [
              0.8888888888888888,
              "#fdca26"
             ],
             [
              1,
              "#f0f921"
             ]
            ],
            "type": "histogram2d"
           }
          ],
          "histogram2dcontour": [
           {
            "colorbar": {
             "outlinewidth": 0,
             "ticks": ""
            },
            "colorscale": [
             [
              0,
              "#0d0887"
             ],
             [
              0.1111111111111111,
              "#46039f"
             ],
             [
              0.2222222222222222,
              "#7201a8"
             ],
             [
              0.3333333333333333,
              "#9c179e"
             ],
             [
              0.4444444444444444,
              "#bd3786"
             ],
             [
              0.5555555555555556,
              "#d8576b"
             ],
             [
              0.6666666666666666,
              "#ed7953"
             ],
             [
              0.7777777777777778,
              "#fb9f3a"
             ],
             [
              0.8888888888888888,
              "#fdca26"
             ],
             [
              1,
              "#f0f921"
             ]
            ],
            "type": "histogram2dcontour"
           }
          ],
          "mesh3d": [
           {
            "colorbar": {
             "outlinewidth": 0,
             "ticks": ""
            },
            "type": "mesh3d"
           }
          ],
          "parcoords": [
           {
            "line": {
             "colorbar": {
              "outlinewidth": 0,
              "ticks": ""
             }
            },
            "type": "parcoords"
           }
          ],
          "pie": [
           {
            "automargin": true,
            "type": "pie"
           }
          ],
          "scatter": [
           {
            "fillpattern": {
             "fillmode": "overlay",
             "size": 10,
             "solidity": 0.2
            },
            "type": "scatter"
           }
          ],
          "scatter3d": [
           {
            "line": {
             "colorbar": {
              "outlinewidth": 0,
              "ticks": ""
             }
            },
            "marker": {
             "colorbar": {
              "outlinewidth": 0,
              "ticks": ""
             }
            },
            "type": "scatter3d"
           }
          ],
          "scattercarpet": [
           {
            "marker": {
             "colorbar": {
              "outlinewidth": 0,
              "ticks": ""
             }
            },
            "type": "scattercarpet"
           }
          ],
          "scattergeo": [
           {
            "marker": {
             "colorbar": {
              "outlinewidth": 0,
              "ticks": ""
             }
            },
            "type": "scattergeo"
           }
          ],
          "scattergl": [
           {
            "marker": {
             "colorbar": {
              "outlinewidth": 0,
              "ticks": ""
             }
            },
            "type": "scattergl"
           }
          ],
          "scattermapbox": [
           {
            "marker": {
             "colorbar": {
              "outlinewidth": 0,
              "ticks": ""
             }
            },
            "type": "scattermapbox"
           }
          ],
          "scatterpolar": [
           {
            "marker": {
             "colorbar": {
              "outlinewidth": 0,
              "ticks": ""
             }
            },
            "type": "scatterpolar"
           }
          ],
          "scatterpolargl": [
           {
            "marker": {
             "colorbar": {
              "outlinewidth": 0,
              "ticks": ""
             }
            },
            "type": "scatterpolargl"
           }
          ],
          "scatterternary": [
           {
            "marker": {
             "colorbar": {
              "outlinewidth": 0,
              "ticks": ""
             }
            },
            "type": "scatterternary"
           }
          ],
          "surface": [
           {
            "colorbar": {
             "outlinewidth": 0,
             "ticks": ""
            },
            "colorscale": [
             [
              0,
              "#0d0887"
             ],
             [
              0.1111111111111111,
              "#46039f"
             ],
             [
              0.2222222222222222,
              "#7201a8"
             ],
             [
              0.3333333333333333,
              "#9c179e"
             ],
             [
              0.4444444444444444,
              "#bd3786"
             ],
             [
              0.5555555555555556,
              "#d8576b"
             ],
             [
              0.6666666666666666,
              "#ed7953"
             ],
             [
              0.7777777777777778,
              "#fb9f3a"
             ],
             [
              0.8888888888888888,
              "#fdca26"
             ],
             [
              1,
              "#f0f921"
             ]
            ],
            "type": "surface"
           }
          ],
          "table": [
           {
            "cells": {
             "fill": {
              "color": "#EBF0F8"
             },
             "line": {
              "color": "white"
             }
            },
            "header": {
             "fill": {
              "color": "#C8D4E3"
             },
             "line": {
              "color": "white"
             }
            },
            "type": "table"
           }
          ]
         },
         "layout": {
          "annotationdefaults": {
           "arrowcolor": "#2a3f5f",
           "arrowhead": 0,
           "arrowwidth": 1
          },
          "autotypenumbers": "strict",
          "coloraxis": {
           "colorbar": {
            "outlinewidth": 0,
            "ticks": ""
           }
          },
          "colorscale": {
           "diverging": [
            [
             0,
             "#8e0152"
            ],
            [
             0.1,
             "#c51b7d"
            ],
            [
             0.2,
             "#de77ae"
            ],
            [
             0.3,
             "#f1b6da"
            ],
            [
             0.4,
             "#fde0ef"
            ],
            [
             0.5,
             "#f7f7f7"
            ],
            [
             0.6,
             "#e6f5d0"
            ],
            [
             0.7,
             "#b8e186"
            ],
            [
             0.8,
             "#7fbc41"
            ],
            [
             0.9,
             "#4d9221"
            ],
            [
             1,
             "#276419"
            ]
           ],
           "sequential": [
            [
             0,
             "#0d0887"
            ],
            [
             0.1111111111111111,
             "#46039f"
            ],
            [
             0.2222222222222222,
             "#7201a8"
            ],
            [
             0.3333333333333333,
             "#9c179e"
            ],
            [
             0.4444444444444444,
             "#bd3786"
            ],
            [
             0.5555555555555556,
             "#d8576b"
            ],
            [
             0.6666666666666666,
             "#ed7953"
            ],
            [
             0.7777777777777778,
             "#fb9f3a"
            ],
            [
             0.8888888888888888,
             "#fdca26"
            ],
            [
             1,
             "#f0f921"
            ]
           ],
           "sequentialminus": [
            [
             0,
             "#0d0887"
            ],
            [
             0.1111111111111111,
             "#46039f"
            ],
            [
             0.2222222222222222,
             "#7201a8"
            ],
            [
             0.3333333333333333,
             "#9c179e"
            ],
            [
             0.4444444444444444,
             "#bd3786"
            ],
            [
             0.5555555555555556,
             "#d8576b"
            ],
            [
             0.6666666666666666,
             "#ed7953"
            ],
            [
             0.7777777777777778,
             "#fb9f3a"
            ],
            [
             0.8888888888888888,
             "#fdca26"
            ],
            [
             1,
             "#f0f921"
            ]
           ]
          },
          "colorway": [
           "#636efa",
           "#EF553B",
           "#00cc96",
           "#ab63fa",
           "#FFA15A",
           "#19d3f3",
           "#FF6692",
           "#B6E880",
           "#FF97FF",
           "#FECB52"
          ],
          "font": {
           "color": "#2a3f5f"
          },
          "geo": {
           "bgcolor": "white",
           "lakecolor": "white",
           "landcolor": "white",
           "showlakes": true,
           "showland": true,
           "subunitcolor": "#C8D4E3"
          },
          "hoverlabel": {
           "align": "left"
          },
          "hovermode": "closest",
          "mapbox": {
           "style": "light"
          },
          "paper_bgcolor": "white",
          "plot_bgcolor": "white",
          "polar": {
           "angularaxis": {
            "gridcolor": "#EBF0F8",
            "linecolor": "#EBF0F8",
            "ticks": ""
           },
           "bgcolor": "white",
           "radialaxis": {
            "gridcolor": "#EBF0F8",
            "linecolor": "#EBF0F8",
            "ticks": ""
           }
          },
          "scene": {
           "xaxis": {
            "backgroundcolor": "white",
            "gridcolor": "#DFE8F3",
            "gridwidth": 2,
            "linecolor": "#EBF0F8",
            "showbackground": true,
            "ticks": "",
            "zerolinecolor": "#EBF0F8"
           },
           "yaxis": {
            "backgroundcolor": "white",
            "gridcolor": "#DFE8F3",
            "gridwidth": 2,
            "linecolor": "#EBF0F8",
            "showbackground": true,
            "ticks": "",
            "zerolinecolor": "#EBF0F8"
           },
           "zaxis": {
            "backgroundcolor": "white",
            "gridcolor": "#DFE8F3",
            "gridwidth": 2,
            "linecolor": "#EBF0F8",
            "showbackground": true,
            "ticks": "",
            "zerolinecolor": "#EBF0F8"
           }
          },
          "shapedefaults": {
           "line": {
            "color": "#2a3f5f"
           }
          },
          "ternary": {
           "aaxis": {
            "gridcolor": "#DFE8F3",
            "linecolor": "#A2B1C6",
            "ticks": ""
           },
           "baxis": {
            "gridcolor": "#DFE8F3",
            "linecolor": "#A2B1C6",
            "ticks": ""
           },
           "bgcolor": "white",
           "caxis": {
            "gridcolor": "#DFE8F3",
            "linecolor": "#A2B1C6",
            "ticks": ""
           }
          },
          "title": {
           "x": 0.05
          },
          "xaxis": {
           "automargin": true,
           "gridcolor": "#EBF0F8",
           "linecolor": "#EBF0F8",
           "ticks": "",
           "title": {
            "standoff": 15
           },
           "zerolinecolor": "#EBF0F8",
           "zerolinewidth": 2
          },
          "yaxis": {
           "automargin": true,
           "gridcolor": "#EBF0F8",
           "linecolor": "#EBF0F8",
           "ticks": "",
           "title": {
            "standoff": 15
           },
           "zerolinecolor": "#EBF0F8",
           "zerolinewidth": 2
          }
         }
        },
        "title": {
         "text": "Box Plots of the Democracy Index Score by Region"
        },
        "width": 800,
        "xaxis": {
         "anchor": "y",
         "domain": [
          0,
          1
         ]
        },
        "yaxis": {
         "anchor": "x",
         "domain": [
          0,
          1
         ],
         "title": {
          "text": "Democracy Index Score (5 year mean)"
         }
        }
       }
      }
     },
     "metadata": {},
     "output_type": "display_data"
    }
   ],
   "source": [
    "# \n",
    "fig = px.box(dem_idx, \n",
    "            y=\"five_year_mean\",\n",
    "            color=\"region\",\n",
    "            template='plotly_white',    \n",
    "            color_discrete_sequence=px.colors.qualitative.Prism,\n",
    "            title= 'Box Plots of the Democracy Index Score by Region',\n",
    "            width=800,\n",
    "            height=400,\n",
    "            )\n",
    "fig.update_yaxes(title_text='Democracy Index Score (5 year mean)')\n",
    "fig.show()"
   ]
  },
  {
   "attachments": {},
   "cell_type": "markdown",
   "metadata": {},
   "source": [
    "### Histogram of women data"
   ]
  },
  {
   "cell_type": "code",
   "execution_count": 54,
   "metadata": {},
   "outputs": [],
   "source": [
    "women = pd.read_csv('../data/world_data_2022.csv')"
   ]
  },
  {
   "cell_type": "code",
   "execution_count": 55,
   "metadata": {},
   "outputs": [
    {
     "data": {
      "application/vnd.plotly.v1+json": {
       "config": {
        "plotlyServerURL": "https://plot.ly"
       },
       "data": [
        {
         "alignmentgroup": "True",
         "bingroup": "x",
         "hovertemplate": "House=lower_single_house_percent_w<br>Percent Women=%{x}<br>count=%{y}<extra></extra>",
         "legendgroup": "",
         "marker": {
          "color": "rgb(29, 105, 150)",
          "pattern": {
           "shape": ""
          }
         },
         "name": "",
         "nbinsx": 10,
         "offsetgroup": "",
         "orientation": "v",
         "showlegend": false,
         "type": "histogram",
         "x": [
          47.37,
          46.13,
          44.24,
          40,
          38.55,
          38.41,
          37.26,
          36.96,
          33.64,
          33.58,
          32.25,
          31.25,
          29.63,
          28.88,
          27.85,
          27.33,
          26.67,
          25.5,
          23.43,
          19.72,
          14.94,
          14.57,
          14.55,
          14.07,
          10.53,
          9.91,
          9.09,
          8.62,
          8.11,
          6.25,
          4,
          1.74,
          46.42,
          38.41,
          37.26,
          36.96,
          36.55,
          31.25,
          30,
          29.63,
          28.88,
          26.67,
          26.45,
          25.5,
          24.17,
          23.43,
          17.74,
          16.67,
          14.94,
          14.57,
          14.07,
          12.31,
          10.53,
          9.91,
          6.25,
          6.25,
          1.92,
          1.74,
          43.58,
          40,
          33.09,
          31,
          30,
          29.63,
          28.88,
          28.7,
          26.67,
          26.45,
          23.33,
          20,
          16.9,
          16.67,
          14.94,
          13.57,
          36.84,
          33.58,
          29.63,
          26.67,
          26.67,
          28.88,
          19.72,
          14.94,
          8.11,
          38.8,
          33.58,
          19.72,
          8.62,
          38.41,
          36.96,
          33.58,
          27.96,
          38.8,
          33.33,
          16.56,
          14.94,
          1.82,
          33.64,
          23.43,
          19.72
         ],
         "xaxis": "x",
         "yaxis": "y"
        },
        {
         "alignmentgroup": "True",
         "bingroup": "x",
         "hovertemplate": "House=upper_single_house_percent_w<br>Percent Women=%{x}<br>count=%{y}<extra></extra>",
         "legendgroup": "",
         "marker": {
          "color": "rgb(29, 105, 150)",
          "pattern": {
           "shape": ""
          }
         },
         "name": "",
         "nbinsx": 10,
         "offsetgroup": "",
         "orientation": "v",
         "showlegend": false,
         "type": "histogram",
         "x": [
          null,
          null,
          null,
          10,
          null,
          56.58,
          35.06,
          null,
          null,
          37.29,
          34.47,
          30.77,
          null,
          29.63,
          null,
          29.17,
          42.11,
          18.52,
          31.82,
          null,
          13.92,
          18.84,
          null,
          null,
          null,
          25.81,
          null,
          null,
          4.27,
          null,
          null,
          null,
          null,
          56.58,
          35.06,
          null,
          null,
          null,
          null,
          null,
          29.63,
          42.11,
          21.21,
          18.52,
          null,
          31.82,
          16.05,
          20,
          13.92,
          18.84,
          null,
          15.38,
          null,
          25.81,
          null,
          null,
          null,
          null,
          null,
          17.5,
          37.29,
          21.62,
          null,
          null,
          29.63,
          25.25,
          42.11,
          24.24,
          null,
          25,
          null,
          20,
          13.92,
          18.18,
          null,
          37.29,
          null,
          42.86,
          44.44,
          29.63,
          null,
          12.29,
          4.27,
          null,
          37.29,
          null,
          null,
          56.58,
          null,
          37.29,
          29.17,
          null,
          15.38,
          18.84,
          12.29,
          null,
          null,
          30.88,
          null
         ],
         "xaxis": "x2",
         "yaxis": "y2"
        }
       ],
       "layout": {
        "annotations": [
         {
          "font": {},
          "showarrow": false,
          "text": "Lower Houses",
          "x": 0.245,
          "xanchor": "center",
          "xref": "paper",
          "y": 1,
          "yanchor": "bottom",
          "yref": "paper"
         },
         {
          "font": {},
          "showarrow": false,
          "text": "Upper Houses",
          "x": 0.755,
          "xanchor": "center",
          "xref": "paper",
          "y": 1,
          "yanchor": "bottom",
          "yref": "paper"
         }
        ],
        "barmode": "relative",
        "height": 400,
        "legend": {
         "tracegroupgap": 0
        },
        "template": {
         "data": {
          "bar": [
           {
            "error_x": {
             "color": "#2a3f5f"
            },
            "error_y": {
             "color": "#2a3f5f"
            },
            "marker": {
             "line": {
              "color": "white",
              "width": 0.5
             },
             "pattern": {
              "fillmode": "overlay",
              "size": 10,
              "solidity": 0.2
             }
            },
            "type": "bar"
           }
          ],
          "barpolar": [
           {
            "marker": {
             "line": {
              "color": "white",
              "width": 0.5
             },
             "pattern": {
              "fillmode": "overlay",
              "size": 10,
              "solidity": 0.2
             }
            },
            "type": "barpolar"
           }
          ],
          "carpet": [
           {
            "aaxis": {
             "endlinecolor": "#2a3f5f",
             "gridcolor": "#C8D4E3",
             "linecolor": "#C8D4E3",
             "minorgridcolor": "#C8D4E3",
             "startlinecolor": "#2a3f5f"
            },
            "baxis": {
             "endlinecolor": "#2a3f5f",
             "gridcolor": "#C8D4E3",
             "linecolor": "#C8D4E3",
             "minorgridcolor": "#C8D4E3",
             "startlinecolor": "#2a3f5f"
            },
            "type": "carpet"
           }
          ],
          "choropleth": [
           {
            "colorbar": {
             "outlinewidth": 0,
             "ticks": ""
            },
            "type": "choropleth"
           }
          ],
          "contour": [
           {
            "colorbar": {
             "outlinewidth": 0,
             "ticks": ""
            },
            "colorscale": [
             [
              0,
              "#0d0887"
             ],
             [
              0.1111111111111111,
              "#46039f"
             ],
             [
              0.2222222222222222,
              "#7201a8"
             ],
             [
              0.3333333333333333,
              "#9c179e"
             ],
             [
              0.4444444444444444,
              "#bd3786"
             ],
             [
              0.5555555555555556,
              "#d8576b"
             ],
             [
              0.6666666666666666,
              "#ed7953"
             ],
             [
              0.7777777777777778,
              "#fb9f3a"
             ],
             [
              0.8888888888888888,
              "#fdca26"
             ],
             [
              1,
              "#f0f921"
             ]
            ],
            "type": "contour"
           }
          ],
          "contourcarpet": [
           {
            "colorbar": {
             "outlinewidth": 0,
             "ticks": ""
            },
            "type": "contourcarpet"
           }
          ],
          "heatmap": [
           {
            "colorbar": {
             "outlinewidth": 0,
             "ticks": ""
            },
            "colorscale": [
             [
              0,
              "#0d0887"
             ],
             [
              0.1111111111111111,
              "#46039f"
             ],
             [
              0.2222222222222222,
              "#7201a8"
             ],
             [
              0.3333333333333333,
              "#9c179e"
             ],
             [
              0.4444444444444444,
              "#bd3786"
             ],
             [
              0.5555555555555556,
              "#d8576b"
             ],
             [
              0.6666666666666666,
              "#ed7953"
             ],
             [
              0.7777777777777778,
              "#fb9f3a"
             ],
             [
              0.8888888888888888,
              "#fdca26"
             ],
             [
              1,
              "#f0f921"
             ]
            ],
            "type": "heatmap"
           }
          ],
          "heatmapgl": [
           {
            "colorbar": {
             "outlinewidth": 0,
             "ticks": ""
            },
            "colorscale": [
             [
              0,
              "#0d0887"
             ],
             [
              0.1111111111111111,
              "#46039f"
             ],
             [
              0.2222222222222222,
              "#7201a8"
             ],
             [
              0.3333333333333333,
              "#9c179e"
             ],
             [
              0.4444444444444444,
              "#bd3786"
             ],
             [
              0.5555555555555556,
              "#d8576b"
             ],
             [
              0.6666666666666666,
              "#ed7953"
             ],
             [
              0.7777777777777778,
              "#fb9f3a"
             ],
             [
              0.8888888888888888,
              "#fdca26"
             ],
             [
              1,
              "#f0f921"
             ]
            ],
            "type": "heatmapgl"
           }
          ],
          "histogram": [
           {
            "marker": {
             "pattern": {
              "fillmode": "overlay",
              "size": 10,
              "solidity": 0.2
             }
            },
            "type": "histogram"
           }
          ],
          "histogram2d": [
           {
            "colorbar": {
             "outlinewidth": 0,
             "ticks": ""
            },
            "colorscale": [
             [
              0,
              "#0d0887"
             ],
             [
              0.1111111111111111,
              "#46039f"
             ],
             [
              0.2222222222222222,
              "#7201a8"
             ],
             [
              0.3333333333333333,
              "#9c179e"
             ],
             [
              0.4444444444444444,
              "#bd3786"
             ],
             [
              0.5555555555555556,
              "#d8576b"
             ],
             [
              0.6666666666666666,
              "#ed7953"
             ],
             [
              0.7777777777777778,
              "#fb9f3a"
             ],
             [
              0.8888888888888888,
              "#fdca26"
             ],
             [
              1,
              "#f0f921"
             ]
            ],
            "type": "histogram2d"
           }
          ],
          "histogram2dcontour": [
           {
            "colorbar": {
             "outlinewidth": 0,
             "ticks": ""
            },
            "colorscale": [
             [
              0,
              "#0d0887"
             ],
             [
              0.1111111111111111,
              "#46039f"
             ],
             [
              0.2222222222222222,
              "#7201a8"
             ],
             [
              0.3333333333333333,
              "#9c179e"
             ],
             [
              0.4444444444444444,
              "#bd3786"
             ],
             [
              0.5555555555555556,
              "#d8576b"
             ],
             [
              0.6666666666666666,
              "#ed7953"
             ],
             [
              0.7777777777777778,
              "#fb9f3a"
             ],
             [
              0.8888888888888888,
              "#fdca26"
             ],
             [
              1,
              "#f0f921"
             ]
            ],
            "type": "histogram2dcontour"
           }
          ],
          "mesh3d": [
           {
            "colorbar": {
             "outlinewidth": 0,
             "ticks": ""
            },
            "type": "mesh3d"
           }
          ],
          "parcoords": [
           {
            "line": {
             "colorbar": {
              "outlinewidth": 0,
              "ticks": ""
             }
            },
            "type": "parcoords"
           }
          ],
          "pie": [
           {
            "automargin": true,
            "type": "pie"
           }
          ],
          "scatter": [
           {
            "fillpattern": {
             "fillmode": "overlay",
             "size": 10,
             "solidity": 0.2
            },
            "type": "scatter"
           }
          ],
          "scatter3d": [
           {
            "line": {
             "colorbar": {
              "outlinewidth": 0,
              "ticks": ""
             }
            },
            "marker": {
             "colorbar": {
              "outlinewidth": 0,
              "ticks": ""
             }
            },
            "type": "scatter3d"
           }
          ],
          "scattercarpet": [
           {
            "marker": {
             "colorbar": {
              "outlinewidth": 0,
              "ticks": ""
             }
            },
            "type": "scattercarpet"
           }
          ],
          "scattergeo": [
           {
            "marker": {
             "colorbar": {
              "outlinewidth": 0,
              "ticks": ""
             }
            },
            "type": "scattergeo"
           }
          ],
          "scattergl": [
           {
            "marker": {
             "colorbar": {
              "outlinewidth": 0,
              "ticks": ""
             }
            },
            "type": "scattergl"
           }
          ],
          "scattermapbox": [
           {
            "marker": {
             "colorbar": {
              "outlinewidth": 0,
              "ticks": ""
             }
            },
            "type": "scattermapbox"
           }
          ],
          "scatterpolar": [
           {
            "marker": {
             "colorbar": {
              "outlinewidth": 0,
              "ticks": ""
             }
            },
            "type": "scatterpolar"
           }
          ],
          "scatterpolargl": [
           {
            "marker": {
             "colorbar": {
              "outlinewidth": 0,
              "ticks": ""
             }
            },
            "type": "scatterpolargl"
           }
          ],
          "scatterternary": [
           {
            "marker": {
             "colorbar": {
              "outlinewidth": 0,
              "ticks": ""
             }
            },
            "type": "scatterternary"
           }
          ],
          "surface": [
           {
            "colorbar": {
             "outlinewidth": 0,
             "ticks": ""
            },
            "colorscale": [
             [
              0,
              "#0d0887"
             ],
             [
              0.1111111111111111,
              "#46039f"
             ],
             [
              0.2222222222222222,
              "#7201a8"
             ],
             [
              0.3333333333333333,
              "#9c179e"
             ],
             [
              0.4444444444444444,
              "#bd3786"
             ],
             [
              0.5555555555555556,
              "#d8576b"
             ],
             [
              0.6666666666666666,
              "#ed7953"
             ],
             [
              0.7777777777777778,
              "#fb9f3a"
             ],
             [
              0.8888888888888888,
              "#fdca26"
             ],
             [
              1,
              "#f0f921"
             ]
            ],
            "type": "surface"
           }
          ],
          "table": [
           {
            "cells": {
             "fill": {
              "color": "#EBF0F8"
             },
             "line": {
              "color": "white"
             }
            },
            "header": {
             "fill": {
              "color": "#C8D4E3"
             },
             "line": {
              "color": "white"
             }
            },
            "type": "table"
           }
          ]
         },
         "layout": {
          "annotationdefaults": {
           "arrowcolor": "#2a3f5f",
           "arrowhead": 0,
           "arrowwidth": 1
          },
          "autotypenumbers": "strict",
          "coloraxis": {
           "colorbar": {
            "outlinewidth": 0,
            "ticks": ""
           }
          },
          "colorscale": {
           "diverging": [
            [
             0,
             "#8e0152"
            ],
            [
             0.1,
             "#c51b7d"
            ],
            [
             0.2,
             "#de77ae"
            ],
            [
             0.3,
             "#f1b6da"
            ],
            [
             0.4,
             "#fde0ef"
            ],
            [
             0.5,
             "#f7f7f7"
            ],
            [
             0.6,
             "#e6f5d0"
            ],
            [
             0.7,
             "#b8e186"
            ],
            [
             0.8,
             "#7fbc41"
            ],
            [
             0.9,
             "#4d9221"
            ],
            [
             1,
             "#276419"
            ]
           ],
           "sequential": [
            [
             0,
             "#0d0887"
            ],
            [
             0.1111111111111111,
             "#46039f"
            ],
            [
             0.2222222222222222,
             "#7201a8"
            ],
            [
             0.3333333333333333,
             "#9c179e"
            ],
            [
             0.4444444444444444,
             "#bd3786"
            ],
            [
             0.5555555555555556,
             "#d8576b"
            ],
            [
             0.6666666666666666,
             "#ed7953"
            ],
            [
             0.7777777777777778,
             "#fb9f3a"
            ],
            [
             0.8888888888888888,
             "#fdca26"
            ],
            [
             1,
             "#f0f921"
            ]
           ],
           "sequentialminus": [
            [
             0,
             "#0d0887"
            ],
            [
             0.1111111111111111,
             "#46039f"
            ],
            [
             0.2222222222222222,
             "#7201a8"
            ],
            [
             0.3333333333333333,
             "#9c179e"
            ],
            [
             0.4444444444444444,
             "#bd3786"
            ],
            [
             0.5555555555555556,
             "#d8576b"
            ],
            [
             0.6666666666666666,
             "#ed7953"
            ],
            [
             0.7777777777777778,
             "#fb9f3a"
            ],
            [
             0.8888888888888888,
             "#fdca26"
            ],
            [
             1,
             "#f0f921"
            ]
           ]
          },
          "colorway": [
           "#636efa",
           "#EF553B",
           "#00cc96",
           "#ab63fa",
           "#FFA15A",
           "#19d3f3",
           "#FF6692",
           "#B6E880",
           "#FF97FF",
           "#FECB52"
          ],
          "font": {
           "color": "#2a3f5f"
          },
          "geo": {
           "bgcolor": "white",
           "lakecolor": "white",
           "landcolor": "white",
           "showlakes": true,
           "showland": true,
           "subunitcolor": "#C8D4E3"
          },
          "hoverlabel": {
           "align": "left"
          },
          "hovermode": "closest",
          "mapbox": {
           "style": "light"
          },
          "paper_bgcolor": "white",
          "plot_bgcolor": "white",
          "polar": {
           "angularaxis": {
            "gridcolor": "#EBF0F8",
            "linecolor": "#EBF0F8",
            "ticks": ""
           },
           "bgcolor": "white",
           "radialaxis": {
            "gridcolor": "#EBF0F8",
            "linecolor": "#EBF0F8",
            "ticks": ""
           }
          },
          "scene": {
           "xaxis": {
            "backgroundcolor": "white",
            "gridcolor": "#DFE8F3",
            "gridwidth": 2,
            "linecolor": "#EBF0F8",
            "showbackground": true,
            "ticks": "",
            "zerolinecolor": "#EBF0F8"
           },
           "yaxis": {
            "backgroundcolor": "white",
            "gridcolor": "#DFE8F3",
            "gridwidth": 2,
            "linecolor": "#EBF0F8",
            "showbackground": true,
            "ticks": "",
            "zerolinecolor": "#EBF0F8"
           },
           "zaxis": {
            "backgroundcolor": "white",
            "gridcolor": "#DFE8F3",
            "gridwidth": 2,
            "linecolor": "#EBF0F8",
            "showbackground": true,
            "ticks": "",
            "zerolinecolor": "#EBF0F8"
           }
          },
          "shapedefaults": {
           "line": {
            "color": "#2a3f5f"
           }
          },
          "ternary": {
           "aaxis": {
            "gridcolor": "#DFE8F3",
            "linecolor": "#A2B1C6",
            "ticks": ""
           },
           "baxis": {
            "gridcolor": "#DFE8F3",
            "linecolor": "#A2B1C6",
            "ticks": ""
           },
           "bgcolor": "white",
           "caxis": {
            "gridcolor": "#DFE8F3",
            "linecolor": "#A2B1C6",
            "ticks": ""
           }
          },
          "title": {
           "x": 0.05
          },
          "xaxis": {
           "automargin": true,
           "gridcolor": "#EBF0F8",
           "linecolor": "#EBF0F8",
           "ticks": "",
           "title": {
            "standoff": 15
           },
           "zerolinecolor": "#EBF0F8",
           "zerolinewidth": 2
          },
          "yaxis": {
           "automargin": true,
           "gridcolor": "#EBF0F8",
           "linecolor": "#EBF0F8",
           "ticks": "",
           "title": {
            "standoff": 15
           },
           "zerolinecolor": "#EBF0F8",
           "zerolinewidth": 2
          }
         }
        },
        "title": {
         "text": "Histogram of the Percent Women in Parliaments in Countries across the World in 2022"
        },
        "width": 800,
        "xaxis": {
         "anchor": "y",
         "domain": [
          0,
          0.49
         ],
         "title": {
          "text": "Percent Women"
         }
        },
        "xaxis2": {
         "anchor": "y2",
         "domain": [
          0.51,
          1
         ],
         "matches": "x",
         "title": {
          "text": "Percent Women"
         }
        },
        "yaxis": {
         "anchor": "x",
         "domain": [
          0,
          1
         ],
         "title": {
          "text": "count"
         }
        },
        "yaxis2": {
         "anchor": "x2",
         "domain": [
          0,
          1
         ],
         "matches": "y",
         "showticklabels": false
        }
       }
      }
     },
     "metadata": {},
     "output_type": "display_data"
    }
   ],
   "source": [
    "fig = px.histogram(women, x='Percent Women',\n",
    "                    facet_col='House',\n",
    "                    nbins=10,\n",
    "                    width=800,\n",
    "                    height=400,\n",
    "                    template='plotly_white',    \n",
    "                    color_discrete_sequence=[px.colors.qualitative.Prism[1],px.colors.qualitative.Prism[2]],\n",
    "                    title= 'Histogram of the Percent Women in Parliaments in Countries across the World in 2022',)\n",
    "\n",
    "facet_titles = ['Lower Houses','Upper Houses']\n",
    "for i, a in enumerate(fig.layout.annotations):\n",
    "    a.text = facet_titles[i]\n",
    "\n",
    "fig.show()"
   ]
  },
  {
   "cell_type": "markdown",
   "metadata": {},
   "source": [
    "### Correlation between percent women in congress and democracy index"
   ]
  },
  {
   "cell_type": "code",
   "execution_count": 12,
   "metadata": {},
   "outputs": [],
   "source": [
    "# read in joined dataset\n",
    "df = pd.read_csv('../data/joined_dataset.csv')\n",
    "df = df.dropna()"
   ]
  },
  {
   "cell_type": "markdown",
   "metadata": {},
   "source": [
    "#### Overall correlation"
   ]
  },
  {
   "cell_type": "code",
   "execution_count": 15,
   "metadata": {},
   "outputs": [
    {
     "data": {
      "text/html": [
       "<div>\n",
       "<style scoped>\n",
       "    .dataframe tbody tr th:only-of-type {\n",
       "        vertical-align: middle;\n",
       "    }\n",
       "\n",
       "    .dataframe tbody tr th {\n",
       "        vertical-align: top;\n",
       "    }\n",
       "\n",
       "    .dataframe thead th {\n",
       "        text-align: right;\n",
       "    }\n",
       "</style>\n",
       "<table border=\"1\" class=\"dataframe\">\n",
       "  <thead>\n",
       "    <tr style=\"text-align: right;\">\n",
       "      <th></th>\n",
       "      <th>democracy_index_score</th>\n",
       "      <th>percent_W</th>\n",
       "    </tr>\n",
       "  </thead>\n",
       "  <tbody>\n",
       "    <tr>\n",
       "      <th>democracy_index_score</th>\n",
       "      <td>1.000000</td>\n",
       "      <td>0.284065</td>\n",
       "    </tr>\n",
       "    <tr>\n",
       "      <th>percent_W</th>\n",
       "      <td>0.284065</td>\n",
       "      <td>1.000000</td>\n",
       "    </tr>\n",
       "  </tbody>\n",
       "</table>\n",
       "</div>"
      ],
      "text/plain": [
       "                       democracy_index_score  percent_W\n",
       "democracy_index_score               1.000000   0.284065\n",
       "percent_W                           0.284065   1.000000"
      ]
     },
     "execution_count": 15,
     "metadata": {},
     "output_type": "execute_result"
    }
   ],
   "source": [
    "df[['democracy_index_score','percent_W']].corr()"
   ]
  },
  {
   "cell_type": "markdown",
   "metadata": {},
   "source": [
    "#### Correlation by region"
   ]
  },
  {
   "cell_type": "code",
   "execution_count": 17,
   "metadata": {},
   "outputs": [
    {
     "data": {
      "text/html": [
       "<div>\n",
       "<style scoped>\n",
       "    .dataframe tbody tr th:only-of-type {\n",
       "        vertical-align: middle;\n",
       "    }\n",
       "\n",
       "    .dataframe tbody tr th {\n",
       "        vertical-align: top;\n",
       "    }\n",
       "\n",
       "    .dataframe thead th {\n",
       "        text-align: right;\n",
       "    }\n",
       "</style>\n",
       "<table border=\"1\" class=\"dataframe\">\n",
       "  <thead>\n",
       "    <tr style=\"text-align: right;\">\n",
       "      <th></th>\n",
       "      <th></th>\n",
       "      <th>democracy_index_score</th>\n",
       "      <th>percent_W</th>\n",
       "    </tr>\n",
       "    <tr>\n",
       "      <th>region</th>\n",
       "      <th></th>\n",
       "      <th></th>\n",
       "      <th></th>\n",
       "    </tr>\n",
       "  </thead>\n",
       "  <tbody>\n",
       "    <tr>\n",
       "      <th rowspan=\"2\" valign=\"top\">Asia and Australasia</th>\n",
       "      <th>democracy_index_score</th>\n",
       "      <td>1.000000</td>\n",
       "      <td>0.098991</td>\n",
       "    </tr>\n",
       "    <tr>\n",
       "      <th>percent_W</th>\n",
       "      <td>0.098991</td>\n",
       "      <td>1.000000</td>\n",
       "    </tr>\n",
       "    <tr>\n",
       "      <th rowspan=\"2\" valign=\"top\">Central and Eastern Europe</th>\n",
       "      <th>democracy_index_score</th>\n",
       "      <td>1.000000</td>\n",
       "      <td>-0.102758</td>\n",
       "    </tr>\n",
       "    <tr>\n",
       "      <th>percent_W</th>\n",
       "      <td>-0.102758</td>\n",
       "      <td>1.000000</td>\n",
       "    </tr>\n",
       "    <tr>\n",
       "      <th rowspan=\"2\" valign=\"top\">Latin America and the Caribbean</th>\n",
       "      <th>democracy_index_score</th>\n",
       "      <td>1.000000</td>\n",
       "      <td>0.096640</td>\n",
       "    </tr>\n",
       "    <tr>\n",
       "      <th>percent_W</th>\n",
       "      <td>0.096640</td>\n",
       "      <td>1.000000</td>\n",
       "    </tr>\n",
       "    <tr>\n",
       "      <th rowspan=\"2\" valign=\"top\">Middle East and North Africa</th>\n",
       "      <th>democracy_index_score</th>\n",
       "      <td>1.000000</td>\n",
       "      <td>0.271621</td>\n",
       "    </tr>\n",
       "    <tr>\n",
       "      <th>percent_W</th>\n",
       "      <td>0.271621</td>\n",
       "      <td>1.000000</td>\n",
       "    </tr>\n",
       "    <tr>\n",
       "      <th rowspan=\"2\" valign=\"top\">North America</th>\n",
       "      <th>democracy_index_score</th>\n",
       "      <td>1.000000</td>\n",
       "      <td>-0.144188</td>\n",
       "    </tr>\n",
       "    <tr>\n",
       "      <th>percent_W</th>\n",
       "      <td>-0.144188</td>\n",
       "      <td>1.000000</td>\n",
       "    </tr>\n",
       "    <tr>\n",
       "      <th rowspan=\"2\" valign=\"top\">Sub-Saharan Africa</th>\n",
       "      <th>democracy_index_score</th>\n",
       "      <td>1.000000</td>\n",
       "      <td>0.186916</td>\n",
       "    </tr>\n",
       "    <tr>\n",
       "      <th>percent_W</th>\n",
       "      <td>0.186916</td>\n",
       "      <td>1.000000</td>\n",
       "    </tr>\n",
       "    <tr>\n",
       "      <th rowspan=\"2\" valign=\"top\">Western Europe</th>\n",
       "      <th>democracy_index_score</th>\n",
       "      <td>1.000000</td>\n",
       "      <td>0.455608</td>\n",
       "    </tr>\n",
       "    <tr>\n",
       "      <th>percent_W</th>\n",
       "      <td>0.455608</td>\n",
       "      <td>1.000000</td>\n",
       "    </tr>\n",
       "  </tbody>\n",
       "</table>\n",
       "</div>"
      ],
      "text/plain": [
       "                                                       democracy_index_score  \\\n",
       "region                                                                         \n",
       "Asia and Australasia            democracy_index_score               1.000000   \n",
       "                                percent_W                           0.098991   \n",
       "Central and Eastern Europe      democracy_index_score               1.000000   \n",
       "                                percent_W                          -0.102758   \n",
       "Latin America and the Caribbean democracy_index_score               1.000000   \n",
       "                                percent_W                           0.096640   \n",
       "Middle East and North Africa    democracy_index_score               1.000000   \n",
       "                                percent_W                           0.271621   \n",
       "North America                   democracy_index_score               1.000000   \n",
       "                                percent_W                          -0.144188   \n",
       "Sub-Saharan Africa              democracy_index_score               1.000000   \n",
       "                                percent_W                           0.186916   \n",
       "Western Europe                  democracy_index_score               1.000000   \n",
       "                                percent_W                           0.455608   \n",
       "\n",
       "                                                       percent_W  \n",
       "region                                                            \n",
       "Asia and Australasia            democracy_index_score   0.098991  \n",
       "                                percent_W               1.000000  \n",
       "Central and Eastern Europe      democracy_index_score  -0.102758  \n",
       "                                percent_W               1.000000  \n",
       "Latin America and the Caribbean democracy_index_score   0.096640  \n",
       "                                percent_W               1.000000  \n",
       "Middle East and North Africa    democracy_index_score   0.271621  \n",
       "                                percent_W               1.000000  \n",
       "North America                   democracy_index_score  -0.144188  \n",
       "                                percent_W               1.000000  \n",
       "Sub-Saharan Africa              democracy_index_score   0.186916  \n",
       "                                percent_W               1.000000  \n",
       "Western Europe                  democracy_index_score   0.455608  \n",
       "                                percent_W               1.000000  "
      ]
     },
     "execution_count": 17,
     "metadata": {},
     "output_type": "execute_result"
    }
   ],
   "source": [
    "df.groupby('region')[['democracy_index_score','percent_W']].corr()"
   ]
  },
  {
   "cell_type": "code",
   "execution_count": 23,
   "metadata": {},
   "outputs": [
    {
     "data": {
      "application/vnd.plotly.v1+json": {
       "config": {
        "plotlyServerURL": "https://plot.ly"
       },
       "data": [
        {
         "customdata": [
          [
           "Canada",
           2006
          ],
          [
           "Canada",
           2006
          ],
          [
           "Canada",
           2006
          ],
          [
           "Canada",
           2006
          ],
          [
           "Canada",
           2006
          ],
          [
           "Canada",
           2006
          ],
          [
           "Canada",
           2006
          ],
          [
           "Canada",
           2006
          ],
          [
           "Canada",
           2006
          ],
          [
           "Canada",
           2006
          ],
          [
           "Canada",
           2006
          ],
          [
           "Canada",
           2006
          ],
          [
           "Canada",
           2006
          ],
          [
           "Canada",
           2006
          ],
          [
           "Canada",
           2006
          ]
         ],
         "hovertemplate": "region=North America<br>year=%{customdata[1]}<br>democracy_index_score=%{x}<br>percent_W=%{marker.size}<br>country=%{customdata[0]}<extra></extra>",
         "legendgroup": "North America",
         "marker": {
          "color": "rgb(95, 70, 144)",
          "size": [
           0.2077922077922078,
           0.2077922077922078,
           0.2077922077922078,
           0.2077922077922078,
           0.2131147540983606,
           0.2077922077922078,
           0.2131147540983606,
           0.2077922077922078,
           0.2131147540983606,
           0.2131147540983606,
           0.2077922077922078,
           0.2077922077922078,
           0.2131147540983606,
           0.2131147540983606,
           0.2077922077922078
          ],
          "sizemode": "area",
          "sizeref": 0.00153125,
          "symbol": "circle"
         },
         "mode": "markers",
         "name": "North America",
         "orientation": "v",
         "showlegend": true,
         "type": "scatter",
         "x": [
          9.07,
          9.07,
          9.07,
          9.07,
          9.07,
          9.07,
          9.07,
          9.07,
          9.07,
          9.07,
          9.07,
          9.07,
          9.07,
          9.07,
          9.07
         ],
         "xaxis": "x",
         "y": [
          0.2077922077922078,
          0.2077922077922078,
          0.2077922077922078,
          0.2077922077922078,
          0.2131147540983606,
          0.2077922077922078,
          0.2131147540983606,
          0.2077922077922078,
          0.2131147540983606,
          0.2131147540983606,
          0.2077922077922078,
          0.2077922077922078,
          0.2131147540983606,
          0.2131147540983606,
          0.2077922077922078
         ],
         "yaxis": "y"
        },
        {
         "customdata": [
          [
           "Austria",
           2006
          ],
          [
           "Austria",
           2006
          ],
          [
           "Austria",
           2006
          ],
          [
           "Austria",
           2006
          ],
          [
           "Austria",
           2006
          ],
          [
           "Austria",
           2006
          ],
          [
           "Austria",
           2006
          ],
          [
           "Cyprus",
           2006
          ],
          [
           "Cyprus",
           2006
          ],
          [
           "Cyprus",
           2006
          ],
          [
           "Cyprus",
           2006
          ],
          [
           "Cyprus",
           2006
          ],
          [
           "Cyprus",
           2006
          ],
          [
           "Cyprus",
           2006
          ],
          [
           "Cyprus",
           2006
          ],
          [
           "Italy",
           2006
          ],
          [
           "Italy",
           2006
          ],
          [
           "Italy",
           2006
          ],
          [
           "Italy",
           2006
          ],
          [
           "Italy",
           2006
          ],
          [
           "Italy",
           2006
          ],
          [
           "Italy",
           2006
          ],
          [
           "Italy",
           2006
          ],
          [
           "Italy",
           2006
          ],
          [
           "Italy",
           2006
          ],
          [
           "Italy",
           2006
          ],
          [
           "Italy",
           2006
          ],
          [
           "Italy",
           2006
          ],
          [
           "Netherlands",
           2006
          ],
          [
           "Netherlands",
           2006
          ],
          [
           "Netherlands",
           2006
          ],
          [
           "Netherlands",
           2006
          ],
          [
           "Netherlands",
           2006
          ],
          [
           "Netherlands",
           2006
          ],
          [
           "Netherlands",
           2006
          ],
          [
           "Netherlands",
           2006
          ],
          [
           "Netherlands",
           2006
          ],
          [
           "Sweden",
           2006
          ],
          [
           "Sweden",
           2006
          ]
         ],
         "hovertemplate": "region=Western Europe<br>year=%{customdata[1]}<br>democracy_index_score=%{x}<br>percent_W=%{marker.size}<br>country=%{customdata[0]}<extra></extra>",
         "legendgroup": "Western Europe",
         "marker": {
          "color": "rgb(29, 105, 150)",
          "size": [
           0.3224043715846995,
           0.3224043715846995,
           0.3278688524590163,
           0.3278688524590163,
           0.3278688524590163,
           0.3224043715846995,
           0.3278688524590163,
           0.1428571428571428,
           0.1428571428571428,
           0.1428571428571428,
           0.1428571428571428,
           0.1428571428571428,
           0.1428571428571428,
           0.1428571428571428,
           0.1428571428571428,
           0.173015873015873,
           0.173015873015873,
           0.173015873015873,
           0.173015873015873,
           0.173015873015873,
           0.173015873015873,
           0.173015873015873,
           0.173015873015873,
           0.173015873015873,
           0.173015873015873,
           0,
           0.173015873015873,
           0.173015873015873,
           0.3666666666666666,
           0.3933333333333333,
           0.3666666666666666,
           0.4133333333333333,
           0.3933333333333333,
           0.3933333333333333,
           0.3933333333333333,
           0.3666666666666666,
           0.3933333333333333,
           0.4727793696275071,
           0.4699140401146132
          ],
          "sizemode": "area",
          "sizeref": 0.00153125,
          "symbol": "circle"
         },
         "mode": "markers",
         "name": "Western Europe",
         "orientation": "v",
         "showlegend": true,
         "type": "scatter",
         "x": [
          8.69,
          8.69,
          8.69,
          8.69,
          8.69,
          8.69,
          8.69,
          7.6,
          7.6,
          7.6,
          7.6,
          7.6,
          7.6,
          7.6,
          7.6,
          7.73,
          7.73,
          7.73,
          7.73,
          7.73,
          7.73,
          7.73,
          7.73,
          7.73,
          7.73,
          7.73,
          7.73,
          7.73,
          9.66,
          9.66,
          9.66,
          9.66,
          9.66,
          9.66,
          9.66,
          9.66,
          9.66,
          9.88,
          9.88
         ],
         "xaxis": "x",
         "y": [
          0.3224043715846995,
          0.3224043715846995,
          0.3278688524590163,
          0.3278688524590163,
          0.3278688524590163,
          0.3224043715846995,
          0.3278688524590163,
          0.1428571428571428,
          0.1428571428571428,
          0.1428571428571428,
          0.1428571428571428,
          0.1428571428571428,
          0.1428571428571428,
          0.1428571428571428,
          0.1428571428571428,
          0.173015873015873,
          0.173015873015873,
          0.173015873015873,
          0.173015873015873,
          0.173015873015873,
          0.173015873015873,
          0.173015873015873,
          0.173015873015873,
          0.173015873015873,
          0.173015873015873,
          0,
          0.173015873015873,
          0.173015873015873,
          0.3666666666666666,
          0.3933333333333333,
          0.3666666666666666,
          0.4133333333333333,
          0.3933333333333333,
          0.3933333333333333,
          0.3933333333333333,
          0.3666666666666666,
          0.3933333333333333,
          0.4727793696275071,
          0.4699140401146132
         ],
         "yaxis": "y"
        },
        {
         "customdata": [
          [
           "Bosnia and Herzegovina",
           2006
          ],
          [
           "Bosnia and Herzegovina",
           2006
          ],
          [
           "Bosnia and Herzegovina",
           2006
          ],
          [
           "Bosnia and Herzegovina",
           2006
          ],
          [
           "Bosnia and Herzegovina",
           2006
          ],
          [
           "Bosnia and Herzegovina",
           2006
          ],
          [
           "Bosnia and Herzegovina",
           2006
          ],
          [
           "Bosnia and Herzegovina",
           2006
          ],
          [
           "Bosnia and Herzegovina",
           2006
          ],
          [
           "Bosnia and Herzegovina",
           2006
          ],
          [
           "Bosnia and Herzegovina",
           2006
          ],
          [
           "Bosnia and Herzegovina",
           2006
          ],
          [
           "Bosnia and Herzegovina",
           2006
          ],
          [
           "Bosnia and Herzegovina",
           2006
          ],
          [
           "Bosnia and Herzegovina",
           2006
          ],
          [
           "Bosnia and Herzegovina",
           2006
          ],
          [
           "Czech Republic",
           2006
          ],
          [
           "Czech Republic",
           2006
          ],
          [
           "Czech Republic",
           2006
          ],
          [
           "Czech Republic",
           2006
          ],
          [
           "Czech Republic",
           2006
          ],
          [
           "Czech Republic",
           2006
          ],
          [
           "Czech Republic",
           2006
          ],
          [
           "Czech Republic",
           2006
          ],
          [
           "Czech Republic",
           2006
          ],
          [
           "Czech Republic",
           2006
          ],
          [
           "Czech Republic",
           2006
          ],
          [
           "Czech Republic",
           2006
          ],
          [
           "Czech Republic",
           2006
          ],
          [
           "Czech Republic",
           2006
          ],
          [
           "Czech Republic",
           2006
          ],
          [
           "Czech Republic",
           2006
          ],
          [
           "Czech Republic",
           2006
          ],
          [
           "Czech Republic",
           2006
          ],
          [
           "Hungary",
           2006
          ],
          [
           "Hungary",
           2006
          ],
          [
           "Hungary",
           2006
          ],
          [
           "Hungary",
           2006
          ],
          [
           "Hungary",
           2006
          ],
          [
           "Hungary",
           2006
          ],
          [
           "Hungary",
           2006
          ],
          [
           "Hungary",
           2006
          ],
          [
           "Latvia",
           2006
          ],
          [
           "Latvia",
           2006
          ],
          [
           "Latvia",
           2006
          ],
          [
           "Latvia",
           2006
          ],
          [
           "Latvia",
           2006
          ],
          [
           "Latvia",
           2006
          ],
          [
           "Latvia",
           2006
          ],
          [
           "Latvia",
           2006
          ],
          [
           "Latvia",
           2006
          ],
          [
           "Montenegro",
           2006
          ],
          [
           "Montenegro",
           2006
          ],
          [
           "Montenegro",
           2006
          ],
          [
           "Montenegro",
           2006
          ],
          [
           "Montenegro",
           2006
          ],
          [
           "Montenegro",
           2006
          ],
          [
           "Montenegro",
           2006
          ],
          [
           "Montenegro",
           2006
          ],
          [
           "Montenegro",
           2006
          ],
          [
           "Slovakia",
           2006
          ],
          [
           "Slovakia",
           2006
          ],
          [
           "Slovakia",
           2006
          ],
          [
           "Slovakia",
           2006
          ],
          [
           "Ukraine",
           2006
          ],
          [
           "Ukraine",
           2006
          ],
          [
           "Ukraine",
           2006
          ],
          [
           "Ukraine",
           2006
          ],
          [
           "Ukraine",
           2006
          ],
          [
           "Ukraine",
           2006
          ]
         ],
         "hovertemplate": "region=Central and Eastern Europe<br>year=%{customdata[1]}<br>democracy_index_score=%{x}<br>percent_W=%{marker.size}<br>country=%{customdata[0]}<extra></extra>",
         "legendgroup": "Central and Eastern Europe",
         "marker": {
          "color": "rgb(56, 166, 165)",
          "size": [
           0,
           0.1428571428571428,
           0.119047619047619,
           0.1428571428571428,
           0.1428571428571428,
           0.119047619047619,
           0.119047619047619,
           0.1428571428571428,
           0.1428571428571428,
           0.119047619047619,
           0.1428571428571428,
           0.119047619047619,
           0.1428571428571428,
           0.1428571428571428,
           0.119047619047619,
           0.119047619047619,
           0.155,
           0.155,
           0.155,
           0.155,
           0.155,
           0.155,
           0.155,
           0.155,
           0.155,
           0.155,
           0.155,
           0.155,
           0.155,
           0.155,
           0.155,
           0.155,
           0.155,
           0.155,
           0.1036269430051813,
           0.1036269430051813,
           0.1113989637305699,
           0.1036269430051813,
           0.1036269430051813,
           0.1036269430051813,
           0,
           0.1036269430051813,
           0.19,
           0.19,
           0.2,
           0.19,
           0.19,
           0.2,
           0.19,
           0.19,
           0.2,
           0.0864197530864197,
           0.0864197530864197,
           0.1111111111111111,
           0.0864197530864197,
           0.0864197530864197,
           0.0864197530864197,
           0.0864197530864197,
           0.0864197530864197,
           0.0864197530864197,
           0.2,
           0.1933333333333333,
           0.1933333333333333,
           0.16,
           0.0866666666666666,
           0.0866666666666666,
           0.0866666666666666,
           0,
           0.0711111111111111,
           0.0866666666666666
          ],
          "sizemode": "area",
          "sizeref": 0.00153125,
          "symbol": "circle"
         },
         "mode": "markers",
         "name": "Central and Eastern Europe",
         "orientation": "v",
         "showlegend": true,
         "type": "scatter",
         "x": [
          5.78,
          5.78,
          5.78,
          5.78,
          5.78,
          5.78,
          5.78,
          5.78,
          5.78,
          5.78,
          5.78,
          5.78,
          5.78,
          5.78,
          5.78,
          5.78,
          8.17,
          8.17,
          8.17,
          8.17,
          8.17,
          8.17,
          8.17,
          8.17,
          8.17,
          8.17,
          8.17,
          8.17,
          8.17,
          8.17,
          8.17,
          8.17,
          8.17,
          8.17,
          7.53,
          7.53,
          7.53,
          7.53,
          7.53,
          7.53,
          7.53,
          7.53,
          7.37,
          7.37,
          7.37,
          7.37,
          7.37,
          7.37,
          7.37,
          7.37,
          7.37,
          6.57,
          6.57,
          6.57,
          6.57,
          6.57,
          6.57,
          6.57,
          6.57,
          6.57,
          7.4,
          7.4,
          7.4,
          7.4,
          6.94,
          6.94,
          6.94,
          6.94,
          6.94,
          6.94
         ],
         "xaxis": "x",
         "y": [
          0,
          0.1428571428571428,
          0.119047619047619,
          0.1428571428571428,
          0.1428571428571428,
          0.119047619047619,
          0.119047619047619,
          0.1428571428571428,
          0.1428571428571428,
          0.119047619047619,
          0.1428571428571428,
          0.119047619047619,
          0.1428571428571428,
          0.1428571428571428,
          0.119047619047619,
          0.119047619047619,
          0.155,
          0.155,
          0.155,
          0.155,
          0.155,
          0.155,
          0.155,
          0.155,
          0.155,
          0.155,
          0.155,
          0.155,
          0.155,
          0.155,
          0.155,
          0.155,
          0.155,
          0.155,
          0.1036269430051813,
          0.1036269430051813,
          0.1113989637305699,
          0.1036269430051813,
          0.1036269430051813,
          0.1036269430051813,
          0,
          0.1036269430051813,
          0.19,
          0.19,
          0.2,
          0.19,
          0.19,
          0.2,
          0.19,
          0.19,
          0.2,
          0.0864197530864197,
          0.0864197530864197,
          0.1111111111111111,
          0.0864197530864197,
          0.0864197530864197,
          0.0864197530864197,
          0.0864197530864197,
          0.0864197530864197,
          0.0864197530864197,
          0.2,
          0.1933333333333333,
          0.1933333333333333,
          0.16,
          0.0866666666666666,
          0.0866666666666666,
          0.0866666666666666,
          0,
          0.0711111111111111,
          0.0866666666666666
         ],
         "yaxis": "y"
        },
        {
         "customdata": [
          [
           "Brazil",
           2006
          ],
          [
           "Brazil",
           2006
          ],
          [
           "Brazil",
           2006
          ],
          [
           "Brazil",
           2006
          ],
          [
           "Brazil",
           2006
          ],
          [
           "Brazil",
           2006
          ],
          [
           "Brazil",
           2006
          ],
          [
           "Brazil",
           2006
          ],
          [
           "Brazil",
           2006
          ],
          [
           "Brazil",
           2006
          ],
          [
           "Brazil",
           2006
          ],
          [
           "Brazil",
           2006
          ],
          [
           "Brazil",
           2006
          ],
          [
           "Brazil",
           2006
          ],
          [
           "Brazil",
           2006
          ],
          [
           "Colombia",
           2006
          ],
          [
           "Colombia",
           2006
          ],
          [
           "Colombia",
           2006
          ],
          [
           "Colombia",
           2006
          ],
          [
           "Colombia",
           2006
          ],
          [
           "Colombia",
           2006
          ],
          [
           "Colombia",
           2006
          ],
          [
           "Colombia",
           2006
          ],
          [
           "Colombia",
           2006
          ],
          [
           "Colombia",
           2006
          ],
          [
           "Colombia",
           2006
          ],
          [
           "Colombia",
           2006
          ],
          [
           "Costa Rica",
           2006
          ],
          [
           "Costa Rica",
           2006
          ],
          [
           "Costa Rica",
           2006
          ],
          [
           "Costa Rica",
           2006
          ],
          [
           "Costa Rica",
           2006
          ],
          [
           "Costa Rica",
           2006
          ],
          [
           "Dominican Republic",
           2006
          ],
          [
           "Dominican Republic",
           2006
          ],
          [
           "Dominican Republic",
           2006
          ],
          [
           "Dominican Republic",
           2006
          ],
          [
           "Dominican Republic",
           2006
          ],
          [
           "Dominican Republic",
           2006
          ],
          [
           "Dominican Republic",
           2006
          ],
          [
           "Dominican Republic",
           2006
          ],
          [
           "Dominican Republic",
           2006
          ],
          [
           "Dominican Republic",
           2006
          ],
          [
           "Dominican Republic",
           2006
          ],
          [
           "Dominican Republic",
           2006
          ],
          [
           "Ecuador",
           2006
          ],
          [
           "Ecuador",
           2006
          ],
          [
           "Ecuador",
           2006
          ],
          [
           "Ecuador",
           2006
          ],
          [
           "Ecuador",
           2006
          ],
          [
           "El Salvador",
           2006
          ],
          [
           "El Salvador",
           2006
          ],
          [
           "El Salvador",
           2006
          ],
          [
           "El Salvador",
           2006
          ],
          [
           "El Salvador",
           2006
          ],
          [
           "El Salvador",
           2006
          ],
          [
           "El Salvador",
           2006
          ],
          [
           "El Salvador",
           2006
          ],
          [
           "El Salvador",
           2006
          ],
          [
           "El Salvador",
           2006
          ],
          [
           "El Salvador",
           2006
          ],
          [
           "El Salvador",
           2006
          ],
          [
           "Guyana",
           2006
          ],
          [
           "Guyana",
           2006
          ],
          [
           "Guyana",
           2006
          ],
          [
           "Guyana",
           2006
          ],
          [
           "Guyana",
           2006
          ],
          [
           "Guyana",
           2006
          ],
          [
           "Guyana",
           2006
          ],
          [
           "Guyana",
           2006
          ],
          [
           "Haiti",
           2006
          ],
          [
           "Haiti",
           2006
          ],
          [
           "Haiti",
           2006
          ],
          [
           "Haiti",
           2006
          ],
          [
           "Haiti",
           2006
          ],
          [
           "Haiti",
           2006
          ],
          [
           "Haiti",
           2006
          ],
          [
           "Haiti",
           2006
          ],
          [
           "Haiti",
           2006
          ],
          [
           "Haiti",
           2006
          ],
          [
           "Haiti",
           2006
          ],
          [
           "Haiti",
           2006
          ],
          [
           "Haiti",
           2006
          ],
          [
           "Haiti",
           2006
          ],
          [
           "Haiti",
           2006
          ],
          [
           "Haiti",
           2006
          ],
          [
           "Haiti",
           2006
          ],
          [
           "Haiti",
           2006
          ],
          [
           "Haiti",
           2006
          ],
          [
           "Haiti",
           2006
          ],
          [
           "Haiti",
           2006
          ],
          [
           "Haiti",
           2006
          ],
          [
           "Haiti",
           2006
          ],
          [
           "Mexico",
           2006
          ],
          [
           "Mexico",
           2006
          ],
          [
           "Mexico",
           2006
          ],
          [
           "Mexico",
           2006
          ],
          [
           "Mexico",
           2006
          ],
          [
           "Mexico",
           2006
          ],
          [
           "Mexico",
           2006
          ],
          [
           "Mexico",
           2006
          ],
          [
           "Mexico",
           2006
          ],
          [
           "Mexico",
           2006
          ],
          [
           "Mexico",
           2006
          ],
          [
           "Mexico",
           2006
          ],
          [
           "Mexico",
           2006
          ],
          [
           "Mexico",
           2006
          ],
          [
           "Nicaragua",
           2006
          ],
          [
           "Nicaragua",
           2006
          ],
          [
           "Nicaragua",
           2006
          ],
          [
           "Nicaragua",
           2006
          ],
          [
           "Nicaragua",
           2006
          ],
          [
           "Nicaragua",
           2006
          ],
          [
           "Nicaragua",
           2006
          ],
          [
           "Nicaragua",
           2006
          ],
          [
           "Nicaragua",
           2006
          ],
          [
           "Nicaragua",
           2006
          ],
          [
           "Nicaragua",
           2006
          ],
          [
           "Peru",
           2006
          ],
          [
           "Peru",
           2006
          ],
          [
           "Peru",
           2006
          ],
          [
           "Peru",
           2006
          ],
          [
           "Peru",
           2006
          ],
          [
           "Peru",
           2006
          ],
          [
           "Peru",
           2006
          ],
          [
           "Peru",
           2006
          ],
          [
           "Peru",
           2006
          ]
         ],
         "hovertemplate": "region=Latin America and the Caribbean<br>year=%{customdata[1]}<br>democracy_index_score=%{x}<br>percent_W=%{marker.size}<br>country=%{customdata[0]}<extra></extra>",
         "legendgroup": "Latin America and the Caribbean",
         "marker": {
          "color": "rgb(15, 133, 84)",
          "size": [
           0,
           0.087719298245614,
           0.0896686159844054,
           0.087719298245614,
           0.0896686159844054,
           0.087719298245614,
           0.0896686159844054,
           0.0896686159844054,
           0.087719298245614,
           0.0896686159844054,
           0.087719298245614,
           0.0896686159844054,
           0.087719298245614,
           0.0896686159844054,
           0.0896686159844054,
           0,
           0.0843373493975903,
           0.0843373493975903,
           0.0843373493975903,
           0.0843373493975903,
           0.0843373493975903,
           0.0843373493975903,
           0.0843373493975903,
           0.0843373493975903,
           0.0843373493975903,
           0.0843373493975903,
           0.0843373493975903,
           0.3859649122807017,
           0.3859649122807017,
           0.3684210526315789,
           0.3684210526315789,
           0.3684210526315789,
           0.3508771929824561,
           0.196629213483146,
           0.196629213483146,
           0.196629213483146,
           0.196629213483146,
           0.196629213483146,
           0.196629213483146,
           0.196629213483146,
           0.196629213483146,
           0.196629213483146,
           0.196629213483146,
           0,
           0.196629213483146,
           0,
           0.25,
           0.25,
           0.25,
           0.25,
           0.1666666666666666,
           0.1666666666666666,
           0.1666666666666666,
           0.1666666666666666,
           0.1666666666666666,
           0.1666666666666666,
           0.1666666666666666,
           0,
           0.1666666666666666,
           0.1666666666666666,
           0.1666666666666666,
           0.1666666666666666,
           0.2898550724637681,
           0.2898550724637681,
           0.2898550724637681,
           0.2898550724637681,
           0.3,
           0.2898550724637681,
           0.2898550724637681,
           0,
           0.024390243902439,
           0.0408163265306122,
           0.0408163265306122,
           0.0227272727272727,
           0.0408163265306122,
           0.0408163265306122,
           0.0204081632653061,
           0.0408163265306122,
           0.0408163265306122,
           0.0408163265306122,
           0.0408163265306122,
           0.0408163265306122,
           0.0408163265306122,
           0.0408163265306122,
           0,
           0.0202020202020202,
           0.0408163265306122,
           0.0408163265306122,
           0.0408163265306122,
           0.024390243902439,
           0.0408163265306122,
           0.0408163265306122,
           0.0408163265306122,
           0,
           0.226,
           0.232,
           0.226,
           0.232,
           0.232,
           0.226,
           0.232,
           0.232,
           0.226,
           0.232,
           0.232,
           0,
           0.232,
           0.1847826086956521,
           0.1847826086956521,
           0.1521739130434782,
           0.1847826086956521,
           0.1521739130434782,
           0.1847826086956521,
           0.1521739130434782,
           0.1847826086956521,
           0.1847826086956521,
           0.1847826086956521,
           0.1847826086956521,
           0.2916666666666667,
           0.2916666666666667,
           0.2916666666666667,
           0.2916666666666667,
           0.2916666666666667,
           0.2916666666666667,
           0,
           0.2916666666666667,
           0.2916666666666667
          ],
          "sizemode": "area",
          "sizeref": 0.00153125,
          "symbol": "circle"
         },
         "mode": "markers",
         "name": "Latin America and the Caribbean",
         "orientation": "v",
         "showlegend": true,
         "type": "scatter",
         "x": [
          7.38,
          7.38,
          7.38,
          7.38,
          7.38,
          7.38,
          7.38,
          7.38,
          7.38,
          7.38,
          7.38,
          7.38,
          7.38,
          7.38,
          7.38,
          6.4,
          6.4,
          6.4,
          6.4,
          6.4,
          6.4,
          6.4,
          6.4,
          6.4,
          6.4,
          6.4,
          6.4,
          8.04,
          8.04,
          8.04,
          8.04,
          8.04,
          8.04,
          6.13,
          6.13,
          6.13,
          6.13,
          6.13,
          6.13,
          6.13,
          6.13,
          6.13,
          6.13,
          6.13,
          6.13,
          5.64,
          5.64,
          5.64,
          5.64,
          5.64,
          6.22,
          6.22,
          6.22,
          6.22,
          6.22,
          6.22,
          6.22,
          6.22,
          6.22,
          6.22,
          6.22,
          6.22,
          6.15,
          6.15,
          6.15,
          6.15,
          6.15,
          6.15,
          6.15,
          6.15,
          4.19,
          4.19,
          4.19,
          4.19,
          4.19,
          4.19,
          4.19,
          4.19,
          4.19,
          4.19,
          4.19,
          4.19,
          4.19,
          4.19,
          4.19,
          4.19,
          4.19,
          4.19,
          4.19,
          4.19,
          4.19,
          4.19,
          4.19,
          6.67,
          6.67,
          6.67,
          6.67,
          6.67,
          6.67,
          6.67,
          6.67,
          6.67,
          6.67,
          6.67,
          6.67,
          6.67,
          6.67,
          5.68,
          5.68,
          5.68,
          5.68,
          5.68,
          5.68,
          5.68,
          5.68,
          5.68,
          5.68,
          5.68,
          6.11,
          6.11,
          6.11,
          6.11,
          6.11,
          6.11,
          6.11,
          6.11,
          6.11
         ],
         "xaxis": "x",
         "y": [
          0,
          0.087719298245614,
          0.0896686159844054,
          0.087719298245614,
          0.0896686159844054,
          0.087719298245614,
          0.0896686159844054,
          0.0896686159844054,
          0.087719298245614,
          0.0896686159844054,
          0.087719298245614,
          0.0896686159844054,
          0.087719298245614,
          0.0896686159844054,
          0.0896686159844054,
          0,
          0.0843373493975903,
          0.0843373493975903,
          0.0843373493975903,
          0.0843373493975903,
          0.0843373493975903,
          0.0843373493975903,
          0.0843373493975903,
          0.0843373493975903,
          0.0843373493975903,
          0.0843373493975903,
          0.0843373493975903,
          0.3859649122807017,
          0.3859649122807017,
          0.3684210526315789,
          0.3684210526315789,
          0.3684210526315789,
          0.3508771929824561,
          0.196629213483146,
          0.196629213483146,
          0.196629213483146,
          0.196629213483146,
          0.196629213483146,
          0.196629213483146,
          0.196629213483146,
          0.196629213483146,
          0.196629213483146,
          0.196629213483146,
          0,
          0.196629213483146,
          0,
          0.25,
          0.25,
          0.25,
          0.25,
          0.1666666666666666,
          0.1666666666666666,
          0.1666666666666666,
          0.1666666666666666,
          0.1666666666666666,
          0.1666666666666666,
          0.1666666666666666,
          0,
          0.1666666666666666,
          0.1666666666666666,
          0.1666666666666666,
          0.1666666666666666,
          0.2898550724637681,
          0.2898550724637681,
          0.2898550724637681,
          0.2898550724637681,
          0.3,
          0.2898550724637681,
          0.2898550724637681,
          0,
          0.024390243902439,
          0.0408163265306122,
          0.0408163265306122,
          0.0227272727272727,
          0.0408163265306122,
          0.0408163265306122,
          0.0204081632653061,
          0.0408163265306122,
          0.0408163265306122,
          0.0408163265306122,
          0.0408163265306122,
          0.0408163265306122,
          0.0408163265306122,
          0.0408163265306122,
          0,
          0.0202020202020202,
          0.0408163265306122,
          0.0408163265306122,
          0.0408163265306122,
          0.024390243902439,
          0.0408163265306122,
          0.0408163265306122,
          0.0408163265306122,
          0,
          0.226,
          0.232,
          0.226,
          0.232,
          0.232,
          0.226,
          0.232,
          0.232,
          0.226,
          0.232,
          0.232,
          0,
          0.232,
          0.1847826086956521,
          0.1847826086956521,
          0.1521739130434782,
          0.1847826086956521,
          0.1521739130434782,
          0.1847826086956521,
          0.1521739130434782,
          0.1847826086956521,
          0.1847826086956521,
          0.1847826086956521,
          0.1847826086956521,
          0.2916666666666667,
          0.2916666666666667,
          0.2916666666666667,
          0.2916666666666667,
          0.2916666666666667,
          0.2916666666666667,
          0,
          0.2916666666666667,
          0.2916666666666667
         ],
         "yaxis": "y"
        },
        {
         "customdata": [
          [
           "Bhutan",
           2006
          ],
          [
           "Bhutan",
           2006
          ],
          [
           "Bhutan",
           2006
          ],
          [
           "Fiji",
           2006
          ],
          [
           "Fiji",
           2006
          ],
          [
           "Fiji",
           2006
          ],
          [
           "Singapore",
           2006
          ],
          [
           "Singapore",
           2006
          ],
          [
           "Singapore",
           2006
          ],
          [
           "Singapore",
           2006
          ],
          [
           "Singapore",
           2006
          ],
          [
           "Thailand",
           2006
          ],
          [
           "Thailand",
           2006
          ],
          [
           "Thailand",
           2006
          ],
          [
           "Thailand",
           2006
          ],
          [
           "Thailand",
           2006
          ],
          [
           "Thailand",
           2006
          ],
          [
           "Thailand",
           2006
          ],
          [
           "Thailand",
           2006
          ],
          [
           "Thailand",
           2006
          ]
         ],
         "hovertemplate": "region=Asia and Australasia<br>year=%{customdata[1]}<br>democracy_index_score=%{x}<br>percent_W=%{marker.size}<br>country=%{customdata[0]}<extra></extra>",
         "legendgroup": "Asia and Australasia",
         "marker": {
          "color": "rgb(115, 175, 72)",
          "size": [
           0.0266666666666666,
           0.0266666666666666,
           0.0266666666666666,
           0.1126760563380281,
           0.1126760563380281,
           0.1126760563380281,
           0.2446808510638297,
           0.2446808510638297,
           0.2446808510638297,
           0.2446808510638297,
           0.2446808510638297,
           0,
           0.0867768595041322,
           0,
           0.0867768595041322,
           0.0867768595041322,
           0.0867768595041322,
           0.0867768595041322,
           0,
           0.0867768595041322
          ],
          "sizemode": "area",
          "sizeref": 0.00153125,
          "symbol": "circle"
         },
         "mode": "markers",
         "name": "Asia and Australasia",
         "orientation": "v",
         "showlegend": true,
         "type": "scatter",
         "x": [
          2.62,
          2.62,
          2.62,
          5.66,
          5.66,
          5.66,
          5.89,
          5.89,
          5.89,
          5.89,
          5.89,
          5.67,
          5.67,
          5.67,
          5.67,
          5.67,
          5.67,
          5.67,
          5.67,
          5.67
         ],
         "xaxis": "x",
         "y": [
          0.0266666666666666,
          0.0266666666666666,
          0.0266666666666666,
          0.1126760563380281,
          0.1126760563380281,
          0.1126760563380281,
          0.2446808510638297,
          0.2446808510638297,
          0.2446808510638297,
          0.2446808510638297,
          0.2446808510638297,
          0,
          0.0867768595041322,
          0,
          0.0867768595041322,
          0.0867768595041322,
          0.0867768595041322,
          0.0867768595041322,
          0,
          0.0867768595041322
         ],
         "yaxis": "y"
        },
        {
         "customdata": [
          [
           "Bahrain",
           2006
          ],
          [
           "Bahrain",
           2006
          ],
          [
           "Bahrain",
           2006
          ],
          [
           "Bahrain",
           2006
          ],
          [
           "Bahrain",
           2006
          ],
          [
           "Bahrain",
           2006
          ],
          [
           "Bahrain",
           2006
          ],
          [
           "Bahrain",
           2006
          ],
          [
           "Bahrain",
           2006
          ],
          [
           "Bahrain",
           2006
          ],
          [
           "Bahrain",
           2006
          ],
          [
           "Bahrain",
           2006
          ],
          [
           "Bahrain",
           2006
          ],
          [
           "Bahrain",
           2006
          ],
          [
           "Bahrain",
           2006
          ],
          [
           "Bahrain",
           2006
          ],
          [
           "Bahrain",
           2006
          ],
          [
           "Bahrain",
           2006
          ],
          [
           "Israel",
           2006
          ],
          [
           "Israel",
           2006
          ],
          [
           "Israel",
           2006
          ],
          [
           "Israel",
           2006
          ],
          [
           "Israel",
           2006
          ],
          [
           "Israel",
           2006
          ],
          [
           "Israel",
           2006
          ],
          [
           "Israel",
           2006
          ],
          [
           "Israel",
           2006
          ],
          [
           "Israel",
           2006
          ],
          [
           "Israel",
           2006
          ],
          [
           "Kuwait",
           2006
          ],
          [
           "Kuwait",
           2006
          ],
          [
           "Qatar",
           2006
          ],
          [
           "United Arab Emirates",
           2006
          ],
          [
           "United Arab Emirates",
           2006
          ],
          [
           "United Arab Emirates",
           2006
          ],
          [
           "United Arab Emirates",
           2006
          ],
          [
           "United Arab Emirates",
           2006
          ],
          [
           "United Arab Emirates",
           2006
          ],
          [
           "United Arab Emirates",
           2006
          ]
         ],
         "hovertemplate": "region=Middle East and North Africa<br>year=%{customdata[1]}<br>democracy_index_score=%{x}<br>percent_W=%{marker.size}<br>country=%{customdata[0]}<extra></extra>",
         "legendgroup": "Middle East and North Africa",
         "marker": {
          "color": "rgb(237, 173, 8)",
          "size": [
           0.025,
           0.025,
           0.0416666666666666,
           0.025,
           0.025,
           0.025,
           0.025,
           0.025,
           0.025,
           0.025,
           0.025,
           0.025,
           0.025,
           0.025,
           0.025,
           0.025,
           0.025,
           0.025,
           0.1416666666666666,
           0.1416666666666666,
           0.1416666666666666,
           0.1416666666666666,
           0.1416666666666666,
           0.1416666666666666,
           0.1416666666666666,
           0.1333333333333333,
           0.1416666666666666,
           0.1416666666666666,
           0.1416666666666666,
           0.0153846153846153,
           0.0153846153846153,
           0,
           0.225,
           0.225,
           0.05,
           0.225,
           0.225,
           0.225,
           0.225
          ],
          "sizemode": "area",
          "sizeref": 0.00153125,
          "symbol": "circle"
         },
         "mode": "markers",
         "name": "Middle East and North Africa",
         "orientation": "v",
         "showlegend": true,
         "type": "scatter",
         "x": [
          3.53,
          3.53,
          3.53,
          3.53,
          3.53,
          3.53,
          3.53,
          3.53,
          3.53,
          3.53,
          3.53,
          3.53,
          3.53,
          3.53,
          3.53,
          3.53,
          3.53,
          3.53,
          7.28,
          7.28,
          7.28,
          7.28,
          7.28,
          7.28,
          7.28,
          7.28,
          7.28,
          7.28,
          7.28,
          3.09,
          3.09,
          2.78,
          2.42,
          2.42,
          2.42,
          2.42,
          2.42,
          2.42,
          2.42
         ],
         "xaxis": "x",
         "y": [
          0.025,
          0.025,
          0.0416666666666666,
          0.025,
          0.025,
          0.025,
          0.025,
          0.025,
          0.025,
          0.025,
          0.025,
          0.025,
          0.025,
          0.025,
          0.025,
          0.025,
          0.025,
          0.025,
          0.1416666666666666,
          0.1416666666666666,
          0.1416666666666666,
          0.1416666666666666,
          0.1416666666666666,
          0.1416666666666666,
          0.1416666666666666,
          0.1333333333333333,
          0.1416666666666666,
          0.1416666666666666,
          0.1416666666666666,
          0.0153846153846153,
          0.0153846153846153,
          0,
          0.225,
          0.225,
          0.05,
          0.225,
          0.225,
          0.225,
          0.225
         ],
         "yaxis": "y"
        },
        {
         "customdata": [
          [
           "Cape Verde",
           2006
          ],
          [
           "Cape Verde",
           2006
          ],
          [
           "Cape Verde",
           2006
          ],
          [
           "Cape Verde",
           2006
          ],
          [
           "Cape Verde",
           2006
          ],
          [
           "Cape Verde",
           2006
          ],
          [
           "Cape Verde",
           2006
          ],
          [
           "Cape Verde",
           2006
          ],
          [
           "Cape Verde",
           2006
          ],
          [
           "Cape Verde",
           2006
          ],
          [
           "Cape Verde",
           2006
          ],
          [
           "Cape Verde",
           2006
          ],
          [
           "Cape Verde",
           2006
          ],
          [
           "Democratic Republic of the Congo",
           2006
          ],
          [
           "Democratic Republic of the Congo",
           2006
          ],
          [
           "Democratic Republic of the Congo",
           2006
          ],
          [
           "Democratic Republic of the Congo",
           2006
          ],
          [
           "Gabon",
           2006
          ],
          [
           "Gabon",
           2006
          ],
          [
           "Gabon",
           2006
          ],
          [
           "Gabon",
           2006
          ],
          [
           "Gabon",
           2006
          ],
          [
           "Mauritania",
           2006
          ],
          [
           "Mauritania",
           2006
          ],
          [
           "Mauritania",
           2006
          ],
          [
           "Mauritania",
           2006
          ],
          [
           "Mauritania",
           2006
          ],
          [
           "Mauritania",
           2006
          ],
          [
           "Mauritania",
           2006
          ],
          [
           "Mauritania",
           2006
          ],
          [
           "Mauritania",
           2006
          ],
          [
           "Mauritania",
           2006
          ],
          [
           "Mauritania",
           2006
          ],
          [
           "Mauritania",
           2006
          ],
          [
           "Mauritania",
           2006
          ],
          [
           "Mauritania",
           2006
          ],
          [
           "Mauritania",
           2006
          ],
          [
           "Mauritania",
           2006
          ],
          [
           "Mauritania",
           2006
          ],
          [
           "Mauritania",
           2006
          ],
          [
           "Mauritania",
           2006
          ],
          [
           "Uganda",
           2006
          ],
          [
           "Uganda",
           2006
          ],
          [
           "Uganda",
           2006
          ],
          [
           "Uganda",
           2006
          ],
          [
           "Uganda",
           2006
          ],
          [
           "Uganda",
           2006
          ],
          [
           "Uganda",
           2006
          ],
          [
           "Uganda",
           2006
          ],
          [
           "Uganda",
           2006
          ],
          [
           "Zambia",
           2006
          ],
          [
           "Zambia",
           2006
          ],
          [
           "Zambia",
           2006
          ],
          [
           "Zambia",
           2006
          ],
          [
           "Zambia",
           2006
          ],
          [
           "Zambia",
           2006
          ],
          [
           "Zambia",
           2006
          ],
          [
           "Zambia",
           2006
          ],
          [
           "Zambia",
           2006
          ],
          [
           "Zambia",
           2006
          ],
          [
           "Zambia",
           2006
          ]
         ],
         "hovertemplate": "region=Sub-Saharan Africa<br>year=%{customdata[1]}<br>democracy_index_score=%{x}<br>percent_W=%{marker.size}<br>country=%{customdata[0]}<extra></extra>",
         "legendgroup": "Sub-Saharan Africa",
         "marker": {
          "color": "rgb(225, 124, 5)",
          "size": [
           0.1527777777777778,
           0.1527777777777778,
           0.1805555555555555,
           0.1527777777777778,
           0.1805555555555555,
           0.1527777777777778,
           0.1527777777777778,
           0.1805555555555555,
           0.1527777777777778,
           0.1527777777777778,
           0.1527777777777778,
           0.1805555555555555,
           0.1527777777777778,
           0.084,
           0.084,
           0.084,
           0.084,
           0.125,
           0.125,
           0.125,
           0.125,
           0.125,
           0.1789473684210526,
           0.2210526315789473,
           0.2093023255813953,
           0.1789473684210526,
           0.2210526315789473,
           0.1789473684210526,
           0.2210526315789473,
           0.1789473684210526,
           0.2210526315789473,
           0.1789473684210526,
           0.2210526315789473,
           0.1789473684210526,
           0.2210526315789473,
           0.1789473684210526,
           0.1789473684210526,
           0.1789473684210526,
           0.2210526315789473,
           0.1789473684210526,
           0.2210526315789473,
           0.2981927710843373,
           0.2981927710843373,
           0.3072289156626506,
           0.3072289156626506,
           0.2393442622950819,
           0.2772585669781931,
           0.3072289156626506,
           0.2763975155279503,
           0.3072289156626506,
           0.1464968152866242,
           0.1464968152866242,
           0.1518987341772152,
           0.1464968152866242,
           0.1464968152866242,
           0.1518987341772152,
           0.1464968152866242,
           0.1464968152866242,
           0.1518987341772152,
           0.1518987341772152,
           0
          ],
          "sizemode": "area",
          "sizeref": 0.00153125,
          "symbol": "circle"
         },
         "mode": "markers",
         "name": "Sub-Saharan Africa",
         "orientation": "v",
         "showlegend": true,
         "type": "scatter",
         "x": [
          7.43,
          7.43,
          7.43,
          7.43,
          7.43,
          7.43,
          7.43,
          7.43,
          7.43,
          7.43,
          7.43,
          7.43,
          7.43,
          2.76,
          2.76,
          2.76,
          2.76,
          2.72,
          2.72,
          2.72,
          2.72,
          2.72,
          3.12,
          3.12,
          3.12,
          3.12,
          3.12,
          3.12,
          3.12,
          3.12,
          3.12,
          3.12,
          3.12,
          3.12,
          3.12,
          3.12,
          3.12,
          3.12,
          3.12,
          3.12,
          3.12,
          5.14,
          5.14,
          5.14,
          5.14,
          5.14,
          5.14,
          5.14,
          5.14,
          5.14,
          5.25,
          5.25,
          5.25,
          5.25,
          5.25,
          5.25,
          5.25,
          5.25,
          5.25,
          5.25,
          5.25
         ],
         "xaxis": "x",
         "y": [
          0.1527777777777778,
          0.1527777777777778,
          0.1805555555555555,
          0.1527777777777778,
          0.1805555555555555,
          0.1527777777777778,
          0.1527777777777778,
          0.1805555555555555,
          0.1527777777777778,
          0.1527777777777778,
          0.1527777777777778,
          0.1805555555555555,
          0.1527777777777778,
          0.084,
          0.084,
          0.084,
          0.084,
          0.125,
          0.125,
          0.125,
          0.125,
          0.125,
          0.1789473684210526,
          0.2210526315789473,
          0.2093023255813953,
          0.1789473684210526,
          0.2210526315789473,
          0.1789473684210526,
          0.2210526315789473,
          0.1789473684210526,
          0.2210526315789473,
          0.1789473684210526,
          0.2210526315789473,
          0.1789473684210526,
          0.2210526315789473,
          0.1789473684210526,
          0.1789473684210526,
          0.1789473684210526,
          0.2210526315789473,
          0.1789473684210526,
          0.2210526315789473,
          0.2981927710843373,
          0.2981927710843373,
          0.3072289156626506,
          0.3072289156626506,
          0.2393442622950819,
          0.2772585669781931,
          0.3072289156626506,
          0.2763975155279503,
          0.3072289156626506,
          0.1464968152866242,
          0.1464968152866242,
          0.1518987341772152,
          0.1464968152866242,
          0.1464968152866242,
          0.1518987341772152,
          0.1464968152866242,
          0.1464968152866242,
          0.1518987341772152,
          0.1518987341772152,
          0
         ],
         "yaxis": "y"
        }
       ],
       "frames": [
        {
         "data": [
          {
           "customdata": [
            [
             "Canada",
             2006
            ],
            [
             "Canada",
             2006
            ],
            [
             "Canada",
             2006
            ],
            [
             "Canada",
             2006
            ],
            [
             "Canada",
             2006
            ],
            [
             "Canada",
             2006
            ],
            [
             "Canada",
             2006
            ],
            [
             "Canada",
             2006
            ],
            [
             "Canada",
             2006
            ],
            [
             "Canada",
             2006
            ],
            [
             "Canada",
             2006
            ],
            [
             "Canada",
             2006
            ],
            [
             "Canada",
             2006
            ],
            [
             "Canada",
             2006
            ],
            [
             "Canada",
             2006
            ]
           ],
           "hovertemplate": "region=North America<br>year=%{customdata[1]}<br>democracy_index_score=%{x}<br>percent_W=%{marker.size}<br>country=%{customdata[0]}<extra></extra>",
           "legendgroup": "North America",
           "marker": {
            "color": "rgb(95, 70, 144)",
            "size": [
             0.2077922077922078,
             0.2077922077922078,
             0.2077922077922078,
             0.2077922077922078,
             0.2131147540983606,
             0.2077922077922078,
             0.2131147540983606,
             0.2077922077922078,
             0.2131147540983606,
             0.2131147540983606,
             0.2077922077922078,
             0.2077922077922078,
             0.2131147540983606,
             0.2131147540983606,
             0.2077922077922078
            ],
            "sizemode": "area",
            "sizeref": 0.00153125,
            "symbol": "circle"
           },
           "mode": "markers",
           "name": "North America",
           "orientation": "v",
           "showlegend": true,
           "type": "scatter",
           "x": [
            9.07,
            9.07,
            9.07,
            9.07,
            9.07,
            9.07,
            9.07,
            9.07,
            9.07,
            9.07,
            9.07,
            9.07,
            9.07,
            9.07,
            9.07
           ],
           "xaxis": "x",
           "y": [
            0.2077922077922078,
            0.2077922077922078,
            0.2077922077922078,
            0.2077922077922078,
            0.2131147540983606,
            0.2077922077922078,
            0.2131147540983606,
            0.2077922077922078,
            0.2131147540983606,
            0.2131147540983606,
            0.2077922077922078,
            0.2077922077922078,
            0.2131147540983606,
            0.2131147540983606,
            0.2077922077922078
           ],
           "yaxis": "y"
          },
          {
           "customdata": [
            [
             "Austria",
             2006
            ],
            [
             "Austria",
             2006
            ],
            [
             "Austria",
             2006
            ],
            [
             "Austria",
             2006
            ],
            [
             "Austria",
             2006
            ],
            [
             "Austria",
             2006
            ],
            [
             "Austria",
             2006
            ],
            [
             "Cyprus",
             2006
            ],
            [
             "Cyprus",
             2006
            ],
            [
             "Cyprus",
             2006
            ],
            [
             "Cyprus",
             2006
            ],
            [
             "Cyprus",
             2006
            ],
            [
             "Cyprus",
             2006
            ],
            [
             "Cyprus",
             2006
            ],
            [
             "Cyprus",
             2006
            ],
            [
             "Italy",
             2006
            ],
            [
             "Italy",
             2006
            ],
            [
             "Italy",
             2006
            ],
            [
             "Italy",
             2006
            ],
            [
             "Italy",
             2006
            ],
            [
             "Italy",
             2006
            ],
            [
             "Italy",
             2006
            ],
            [
             "Italy",
             2006
            ],
            [
             "Italy",
             2006
            ],
            [
             "Italy",
             2006
            ],
            [
             "Italy",
             2006
            ],
            [
             "Italy",
             2006
            ],
            [
             "Italy",
             2006
            ],
            [
             "Netherlands",
             2006
            ],
            [
             "Netherlands",
             2006
            ],
            [
             "Netherlands",
             2006
            ],
            [
             "Netherlands",
             2006
            ],
            [
             "Netherlands",
             2006
            ],
            [
             "Netherlands",
             2006
            ],
            [
             "Netherlands",
             2006
            ],
            [
             "Netherlands",
             2006
            ],
            [
             "Netherlands",
             2006
            ],
            [
             "Sweden",
             2006
            ],
            [
             "Sweden",
             2006
            ]
           ],
           "hovertemplate": "region=Western Europe<br>year=%{customdata[1]}<br>democracy_index_score=%{x}<br>percent_W=%{marker.size}<br>country=%{customdata[0]}<extra></extra>",
           "legendgroup": "Western Europe",
           "marker": {
            "color": "rgb(29, 105, 150)",
            "size": [
             0.3224043715846995,
             0.3224043715846995,
             0.3278688524590163,
             0.3278688524590163,
             0.3278688524590163,
             0.3224043715846995,
             0.3278688524590163,
             0.1428571428571428,
             0.1428571428571428,
             0.1428571428571428,
             0.1428571428571428,
             0.1428571428571428,
             0.1428571428571428,
             0.1428571428571428,
             0.1428571428571428,
             0.173015873015873,
             0.173015873015873,
             0.173015873015873,
             0.173015873015873,
             0.173015873015873,
             0.173015873015873,
             0.173015873015873,
             0.173015873015873,
             0.173015873015873,
             0.173015873015873,
             0,
             0.173015873015873,
             0.173015873015873,
             0.3666666666666666,
             0.3933333333333333,
             0.3666666666666666,
             0.4133333333333333,
             0.3933333333333333,
             0.3933333333333333,
             0.3933333333333333,
             0.3666666666666666,
             0.3933333333333333,
             0.4727793696275071,
             0.4699140401146132
            ],
            "sizemode": "area",
            "sizeref": 0.00153125,
            "symbol": "circle"
           },
           "mode": "markers",
           "name": "Western Europe",
           "orientation": "v",
           "showlegend": true,
           "type": "scatter",
           "x": [
            8.69,
            8.69,
            8.69,
            8.69,
            8.69,
            8.69,
            8.69,
            7.6,
            7.6,
            7.6,
            7.6,
            7.6,
            7.6,
            7.6,
            7.6,
            7.73,
            7.73,
            7.73,
            7.73,
            7.73,
            7.73,
            7.73,
            7.73,
            7.73,
            7.73,
            7.73,
            7.73,
            7.73,
            9.66,
            9.66,
            9.66,
            9.66,
            9.66,
            9.66,
            9.66,
            9.66,
            9.66,
            9.88,
            9.88
           ],
           "xaxis": "x",
           "y": [
            0.3224043715846995,
            0.3224043715846995,
            0.3278688524590163,
            0.3278688524590163,
            0.3278688524590163,
            0.3224043715846995,
            0.3278688524590163,
            0.1428571428571428,
            0.1428571428571428,
            0.1428571428571428,
            0.1428571428571428,
            0.1428571428571428,
            0.1428571428571428,
            0.1428571428571428,
            0.1428571428571428,
            0.173015873015873,
            0.173015873015873,
            0.173015873015873,
            0.173015873015873,
            0.173015873015873,
            0.173015873015873,
            0.173015873015873,
            0.173015873015873,
            0.173015873015873,
            0.173015873015873,
            0,
            0.173015873015873,
            0.173015873015873,
            0.3666666666666666,
            0.3933333333333333,
            0.3666666666666666,
            0.4133333333333333,
            0.3933333333333333,
            0.3933333333333333,
            0.3933333333333333,
            0.3666666666666666,
            0.3933333333333333,
            0.4727793696275071,
            0.4699140401146132
           ],
           "yaxis": "y"
          },
          {
           "customdata": [
            [
             "Bosnia and Herzegovina",
             2006
            ],
            [
             "Bosnia and Herzegovina",
             2006
            ],
            [
             "Bosnia and Herzegovina",
             2006
            ],
            [
             "Bosnia and Herzegovina",
             2006
            ],
            [
             "Bosnia and Herzegovina",
             2006
            ],
            [
             "Bosnia and Herzegovina",
             2006
            ],
            [
             "Bosnia and Herzegovina",
             2006
            ],
            [
             "Bosnia and Herzegovina",
             2006
            ],
            [
             "Bosnia and Herzegovina",
             2006
            ],
            [
             "Bosnia and Herzegovina",
             2006
            ],
            [
             "Bosnia and Herzegovina",
             2006
            ],
            [
             "Bosnia and Herzegovina",
             2006
            ],
            [
             "Bosnia and Herzegovina",
             2006
            ],
            [
             "Bosnia and Herzegovina",
             2006
            ],
            [
             "Bosnia and Herzegovina",
             2006
            ],
            [
             "Bosnia and Herzegovina",
             2006
            ],
            [
             "Czech Republic",
             2006
            ],
            [
             "Czech Republic",
             2006
            ],
            [
             "Czech Republic",
             2006
            ],
            [
             "Czech Republic",
             2006
            ],
            [
             "Czech Republic",
             2006
            ],
            [
             "Czech Republic",
             2006
            ],
            [
             "Czech Republic",
             2006
            ],
            [
             "Czech Republic",
             2006
            ],
            [
             "Czech Republic",
             2006
            ],
            [
             "Czech Republic",
             2006
            ],
            [
             "Czech Republic",
             2006
            ],
            [
             "Czech Republic",
             2006
            ],
            [
             "Czech Republic",
             2006
            ],
            [
             "Czech Republic",
             2006
            ],
            [
             "Czech Republic",
             2006
            ],
            [
             "Czech Republic",
             2006
            ],
            [
             "Czech Republic",
             2006
            ],
            [
             "Czech Republic",
             2006
            ],
            [
             "Hungary",
             2006
            ],
            [
             "Hungary",
             2006
            ],
            [
             "Hungary",
             2006
            ],
            [
             "Hungary",
             2006
            ],
            [
             "Hungary",
             2006
            ],
            [
             "Hungary",
             2006
            ],
            [
             "Hungary",
             2006
            ],
            [
             "Hungary",
             2006
            ],
            [
             "Latvia",
             2006
            ],
            [
             "Latvia",
             2006
            ],
            [
             "Latvia",
             2006
            ],
            [
             "Latvia",
             2006
            ],
            [
             "Latvia",
             2006
            ],
            [
             "Latvia",
             2006
            ],
            [
             "Latvia",
             2006
            ],
            [
             "Latvia",
             2006
            ],
            [
             "Latvia",
             2006
            ],
            [
             "Montenegro",
             2006
            ],
            [
             "Montenegro",
             2006
            ],
            [
             "Montenegro",
             2006
            ],
            [
             "Montenegro",
             2006
            ],
            [
             "Montenegro",
             2006
            ],
            [
             "Montenegro",
             2006
            ],
            [
             "Montenegro",
             2006
            ],
            [
             "Montenegro",
             2006
            ],
            [
             "Montenegro",
             2006
            ],
            [
             "Slovakia",
             2006
            ],
            [
             "Slovakia",
             2006
            ],
            [
             "Slovakia",
             2006
            ],
            [
             "Slovakia",
             2006
            ],
            [
             "Ukraine",
             2006
            ],
            [
             "Ukraine",
             2006
            ],
            [
             "Ukraine",
             2006
            ],
            [
             "Ukraine",
             2006
            ],
            [
             "Ukraine",
             2006
            ],
            [
             "Ukraine",
             2006
            ]
           ],
           "hovertemplate": "region=Central and Eastern Europe<br>year=%{customdata[1]}<br>democracy_index_score=%{x}<br>percent_W=%{marker.size}<br>country=%{customdata[0]}<extra></extra>",
           "legendgroup": "Central and Eastern Europe",
           "marker": {
            "color": "rgb(56, 166, 165)",
            "size": [
             0,
             0.1428571428571428,
             0.119047619047619,
             0.1428571428571428,
             0.1428571428571428,
             0.119047619047619,
             0.119047619047619,
             0.1428571428571428,
             0.1428571428571428,
             0.119047619047619,
             0.1428571428571428,
             0.119047619047619,
             0.1428571428571428,
             0.1428571428571428,
             0.119047619047619,
             0.119047619047619,
             0.155,
             0.155,
             0.155,
             0.155,
             0.155,
             0.155,
             0.155,
             0.155,
             0.155,
             0.155,
             0.155,
             0.155,
             0.155,
             0.155,
             0.155,
             0.155,
             0.155,
             0.155,
             0.1036269430051813,
             0.1036269430051813,
             0.1113989637305699,
             0.1036269430051813,
             0.1036269430051813,
             0.1036269430051813,
             0,
             0.1036269430051813,
             0.19,
             0.19,
             0.2,
             0.19,
             0.19,
             0.2,
             0.19,
             0.19,
             0.2,
             0.0864197530864197,
             0.0864197530864197,
             0.1111111111111111,
             0.0864197530864197,
             0.0864197530864197,
             0.0864197530864197,
             0.0864197530864197,
             0.0864197530864197,
             0.0864197530864197,
             0.2,
             0.1933333333333333,
             0.1933333333333333,
             0.16,
             0.0866666666666666,
             0.0866666666666666,
             0.0866666666666666,
             0,
             0.0711111111111111,
             0.0866666666666666
            ],
            "sizemode": "area",
            "sizeref": 0.00153125,
            "symbol": "circle"
           },
           "mode": "markers",
           "name": "Central and Eastern Europe",
           "orientation": "v",
           "showlegend": true,
           "type": "scatter",
           "x": [
            5.78,
            5.78,
            5.78,
            5.78,
            5.78,
            5.78,
            5.78,
            5.78,
            5.78,
            5.78,
            5.78,
            5.78,
            5.78,
            5.78,
            5.78,
            5.78,
            8.17,
            8.17,
            8.17,
            8.17,
            8.17,
            8.17,
            8.17,
            8.17,
            8.17,
            8.17,
            8.17,
            8.17,
            8.17,
            8.17,
            8.17,
            8.17,
            8.17,
            8.17,
            7.53,
            7.53,
            7.53,
            7.53,
            7.53,
            7.53,
            7.53,
            7.53,
            7.37,
            7.37,
            7.37,
            7.37,
            7.37,
            7.37,
            7.37,
            7.37,
            7.37,
            6.57,
            6.57,
            6.57,
            6.57,
            6.57,
            6.57,
            6.57,
            6.57,
            6.57,
            7.4,
            7.4,
            7.4,
            7.4,
            6.94,
            6.94,
            6.94,
            6.94,
            6.94,
            6.94
           ],
           "xaxis": "x",
           "y": [
            0,
            0.1428571428571428,
            0.119047619047619,
            0.1428571428571428,
            0.1428571428571428,
            0.119047619047619,
            0.119047619047619,
            0.1428571428571428,
            0.1428571428571428,
            0.119047619047619,
            0.1428571428571428,
            0.119047619047619,
            0.1428571428571428,
            0.1428571428571428,
            0.119047619047619,
            0.119047619047619,
            0.155,
            0.155,
            0.155,
            0.155,
            0.155,
            0.155,
            0.155,
            0.155,
            0.155,
            0.155,
            0.155,
            0.155,
            0.155,
            0.155,
            0.155,
            0.155,
            0.155,
            0.155,
            0.1036269430051813,
            0.1036269430051813,
            0.1113989637305699,
            0.1036269430051813,
            0.1036269430051813,
            0.1036269430051813,
            0,
            0.1036269430051813,
            0.19,
            0.19,
            0.2,
            0.19,
            0.19,
            0.2,
            0.19,
            0.19,
            0.2,
            0.0864197530864197,
            0.0864197530864197,
            0.1111111111111111,
            0.0864197530864197,
            0.0864197530864197,
            0.0864197530864197,
            0.0864197530864197,
            0.0864197530864197,
            0.0864197530864197,
            0.2,
            0.1933333333333333,
            0.1933333333333333,
            0.16,
            0.0866666666666666,
            0.0866666666666666,
            0.0866666666666666,
            0,
            0.0711111111111111,
            0.0866666666666666
           ],
           "yaxis": "y"
          },
          {
           "customdata": [
            [
             "Brazil",
             2006
            ],
            [
             "Brazil",
             2006
            ],
            [
             "Brazil",
             2006
            ],
            [
             "Brazil",
             2006
            ],
            [
             "Brazil",
             2006
            ],
            [
             "Brazil",
             2006
            ],
            [
             "Brazil",
             2006
            ],
            [
             "Brazil",
             2006
            ],
            [
             "Brazil",
             2006
            ],
            [
             "Brazil",
             2006
            ],
            [
             "Brazil",
             2006
            ],
            [
             "Brazil",
             2006
            ],
            [
             "Brazil",
             2006
            ],
            [
             "Brazil",
             2006
            ],
            [
             "Brazil",
             2006
            ],
            [
             "Colombia",
             2006
            ],
            [
             "Colombia",
             2006
            ],
            [
             "Colombia",
             2006
            ],
            [
             "Colombia",
             2006
            ],
            [
             "Colombia",
             2006
            ],
            [
             "Colombia",
             2006
            ],
            [
             "Colombia",
             2006
            ],
            [
             "Colombia",
             2006
            ],
            [
             "Colombia",
             2006
            ],
            [
             "Colombia",
             2006
            ],
            [
             "Colombia",
             2006
            ],
            [
             "Colombia",
             2006
            ],
            [
             "Costa Rica",
             2006
            ],
            [
             "Costa Rica",
             2006
            ],
            [
             "Costa Rica",
             2006
            ],
            [
             "Costa Rica",
             2006
            ],
            [
             "Costa Rica",
             2006
            ],
            [
             "Costa Rica",
             2006
            ],
            [
             "Dominican Republic",
             2006
            ],
            [
             "Dominican Republic",
             2006
            ],
            [
             "Dominican Republic",
             2006
            ],
            [
             "Dominican Republic",
             2006
            ],
            [
             "Dominican Republic",
             2006
            ],
            [
             "Dominican Republic",
             2006
            ],
            [
             "Dominican Republic",
             2006
            ],
            [
             "Dominican Republic",
             2006
            ],
            [
             "Dominican Republic",
             2006
            ],
            [
             "Dominican Republic",
             2006
            ],
            [
             "Dominican Republic",
             2006
            ],
            [
             "Dominican Republic",
             2006
            ],
            [
             "Ecuador",
             2006
            ],
            [
             "Ecuador",
             2006
            ],
            [
             "Ecuador",
             2006
            ],
            [
             "Ecuador",
             2006
            ],
            [
             "Ecuador",
             2006
            ],
            [
             "El Salvador",
             2006
            ],
            [
             "El Salvador",
             2006
            ],
            [
             "El Salvador",
             2006
            ],
            [
             "El Salvador",
             2006
            ],
            [
             "El Salvador",
             2006
            ],
            [
             "El Salvador",
             2006
            ],
            [
             "El Salvador",
             2006
            ],
            [
             "El Salvador",
             2006
            ],
            [
             "El Salvador",
             2006
            ],
            [
             "El Salvador",
             2006
            ],
            [
             "El Salvador",
             2006
            ],
            [
             "El Salvador",
             2006
            ],
            [
             "Guyana",
             2006
            ],
            [
             "Guyana",
             2006
            ],
            [
             "Guyana",
             2006
            ],
            [
             "Guyana",
             2006
            ],
            [
             "Guyana",
             2006
            ],
            [
             "Guyana",
             2006
            ],
            [
             "Guyana",
             2006
            ],
            [
             "Guyana",
             2006
            ],
            [
             "Haiti",
             2006
            ],
            [
             "Haiti",
             2006
            ],
            [
             "Haiti",
             2006
            ],
            [
             "Haiti",
             2006
            ],
            [
             "Haiti",
             2006
            ],
            [
             "Haiti",
             2006
            ],
            [
             "Haiti",
             2006
            ],
            [
             "Haiti",
             2006
            ],
            [
             "Haiti",
             2006
            ],
            [
             "Haiti",
             2006
            ],
            [
             "Haiti",
             2006
            ],
            [
             "Haiti",
             2006
            ],
            [
             "Haiti",
             2006
            ],
            [
             "Haiti",
             2006
            ],
            [
             "Haiti",
             2006
            ],
            [
             "Haiti",
             2006
            ],
            [
             "Haiti",
             2006
            ],
            [
             "Haiti",
             2006
            ],
            [
             "Haiti",
             2006
            ],
            [
             "Haiti",
             2006
            ],
            [
             "Haiti",
             2006
            ],
            [
             "Haiti",
             2006
            ],
            [
             "Haiti",
             2006
            ],
            [
             "Mexico",
             2006
            ],
            [
             "Mexico",
             2006
            ],
            [
             "Mexico",
             2006
            ],
            [
             "Mexico",
             2006
            ],
            [
             "Mexico",
             2006
            ],
            [
             "Mexico",
             2006
            ],
            [
             "Mexico",
             2006
            ],
            [
             "Mexico",
             2006
            ],
            [
             "Mexico",
             2006
            ],
            [
             "Mexico",
             2006
            ],
            [
             "Mexico",
             2006
            ],
            [
             "Mexico",
             2006
            ],
            [
             "Mexico",
             2006
            ],
            [
             "Mexico",
             2006
            ],
            [
             "Nicaragua",
             2006
            ],
            [
             "Nicaragua",
             2006
            ],
            [
             "Nicaragua",
             2006
            ],
            [
             "Nicaragua",
             2006
            ],
            [
             "Nicaragua",
             2006
            ],
            [
             "Nicaragua",
             2006
            ],
            [
             "Nicaragua",
             2006
            ],
            [
             "Nicaragua",
             2006
            ],
            [
             "Nicaragua",
             2006
            ],
            [
             "Nicaragua",
             2006
            ],
            [
             "Nicaragua",
             2006
            ],
            [
             "Peru",
             2006
            ],
            [
             "Peru",
             2006
            ],
            [
             "Peru",
             2006
            ],
            [
             "Peru",
             2006
            ],
            [
             "Peru",
             2006
            ],
            [
             "Peru",
             2006
            ],
            [
             "Peru",
             2006
            ],
            [
             "Peru",
             2006
            ],
            [
             "Peru",
             2006
            ]
           ],
           "hovertemplate": "region=Latin America and the Caribbean<br>year=%{customdata[1]}<br>democracy_index_score=%{x}<br>percent_W=%{marker.size}<br>country=%{customdata[0]}<extra></extra>",
           "legendgroup": "Latin America and the Caribbean",
           "marker": {
            "color": "rgb(15, 133, 84)",
            "size": [
             0,
             0.087719298245614,
             0.0896686159844054,
             0.087719298245614,
             0.0896686159844054,
             0.087719298245614,
             0.0896686159844054,
             0.0896686159844054,
             0.087719298245614,
             0.0896686159844054,
             0.087719298245614,
             0.0896686159844054,
             0.087719298245614,
             0.0896686159844054,
             0.0896686159844054,
             0,
             0.0843373493975903,
             0.0843373493975903,
             0.0843373493975903,
             0.0843373493975903,
             0.0843373493975903,
             0.0843373493975903,
             0.0843373493975903,
             0.0843373493975903,
             0.0843373493975903,
             0.0843373493975903,
             0.0843373493975903,
             0.3859649122807017,
             0.3859649122807017,
             0.3684210526315789,
             0.3684210526315789,
             0.3684210526315789,
             0.3508771929824561,
             0.196629213483146,
             0.196629213483146,
             0.196629213483146,
             0.196629213483146,
             0.196629213483146,
             0.196629213483146,
             0.196629213483146,
             0.196629213483146,
             0.196629213483146,
             0.196629213483146,
             0,
             0.196629213483146,
             0,
             0.25,
             0.25,
             0.25,
             0.25,
             0.1666666666666666,
             0.1666666666666666,
             0.1666666666666666,
             0.1666666666666666,
             0.1666666666666666,
             0.1666666666666666,
             0.1666666666666666,
             0,
             0.1666666666666666,
             0.1666666666666666,
             0.1666666666666666,
             0.1666666666666666,
             0.2898550724637681,
             0.2898550724637681,
             0.2898550724637681,
             0.2898550724637681,
             0.3,
             0.2898550724637681,
             0.2898550724637681,
             0,
             0.024390243902439,
             0.0408163265306122,
             0.0408163265306122,
             0.0227272727272727,
             0.0408163265306122,
             0.0408163265306122,
             0.0204081632653061,
             0.0408163265306122,
             0.0408163265306122,
             0.0408163265306122,
             0.0408163265306122,
             0.0408163265306122,
             0.0408163265306122,
             0.0408163265306122,
             0,
             0.0202020202020202,
             0.0408163265306122,
             0.0408163265306122,
             0.0408163265306122,
             0.024390243902439,
             0.0408163265306122,
             0.0408163265306122,
             0.0408163265306122,
             0,
             0.226,
             0.232,
             0.226,
             0.232,
             0.232,
             0.226,
             0.232,
             0.232,
             0.226,
             0.232,
             0.232,
             0,
             0.232,
             0.1847826086956521,
             0.1847826086956521,
             0.1521739130434782,
             0.1847826086956521,
             0.1521739130434782,
             0.1847826086956521,
             0.1521739130434782,
             0.1847826086956521,
             0.1847826086956521,
             0.1847826086956521,
             0.1847826086956521,
             0.2916666666666667,
             0.2916666666666667,
             0.2916666666666667,
             0.2916666666666667,
             0.2916666666666667,
             0.2916666666666667,
             0,
             0.2916666666666667,
             0.2916666666666667
            ],
            "sizemode": "area",
            "sizeref": 0.00153125,
            "symbol": "circle"
           },
           "mode": "markers",
           "name": "Latin America and the Caribbean",
           "orientation": "v",
           "showlegend": true,
           "type": "scatter",
           "x": [
            7.38,
            7.38,
            7.38,
            7.38,
            7.38,
            7.38,
            7.38,
            7.38,
            7.38,
            7.38,
            7.38,
            7.38,
            7.38,
            7.38,
            7.38,
            6.4,
            6.4,
            6.4,
            6.4,
            6.4,
            6.4,
            6.4,
            6.4,
            6.4,
            6.4,
            6.4,
            6.4,
            8.04,
            8.04,
            8.04,
            8.04,
            8.04,
            8.04,
            6.13,
            6.13,
            6.13,
            6.13,
            6.13,
            6.13,
            6.13,
            6.13,
            6.13,
            6.13,
            6.13,
            6.13,
            5.64,
            5.64,
            5.64,
            5.64,
            5.64,
            6.22,
            6.22,
            6.22,
            6.22,
            6.22,
            6.22,
            6.22,
            6.22,
            6.22,
            6.22,
            6.22,
            6.22,
            6.15,
            6.15,
            6.15,
            6.15,
            6.15,
            6.15,
            6.15,
            6.15,
            4.19,
            4.19,
            4.19,
            4.19,
            4.19,
            4.19,
            4.19,
            4.19,
            4.19,
            4.19,
            4.19,
            4.19,
            4.19,
            4.19,
            4.19,
            4.19,
            4.19,
            4.19,
            4.19,
            4.19,
            4.19,
            4.19,
            4.19,
            6.67,
            6.67,
            6.67,
            6.67,
            6.67,
            6.67,
            6.67,
            6.67,
            6.67,
            6.67,
            6.67,
            6.67,
            6.67,
            6.67,
            5.68,
            5.68,
            5.68,
            5.68,
            5.68,
            5.68,
            5.68,
            5.68,
            5.68,
            5.68,
            5.68,
            6.11,
            6.11,
            6.11,
            6.11,
            6.11,
            6.11,
            6.11,
            6.11,
            6.11
           ],
           "xaxis": "x",
           "y": [
            0,
            0.087719298245614,
            0.0896686159844054,
            0.087719298245614,
            0.0896686159844054,
            0.087719298245614,
            0.0896686159844054,
            0.0896686159844054,
            0.087719298245614,
            0.0896686159844054,
            0.087719298245614,
            0.0896686159844054,
            0.087719298245614,
            0.0896686159844054,
            0.0896686159844054,
            0,
            0.0843373493975903,
            0.0843373493975903,
            0.0843373493975903,
            0.0843373493975903,
            0.0843373493975903,
            0.0843373493975903,
            0.0843373493975903,
            0.0843373493975903,
            0.0843373493975903,
            0.0843373493975903,
            0.0843373493975903,
            0.3859649122807017,
            0.3859649122807017,
            0.3684210526315789,
            0.3684210526315789,
            0.3684210526315789,
            0.3508771929824561,
            0.196629213483146,
            0.196629213483146,
            0.196629213483146,
            0.196629213483146,
            0.196629213483146,
            0.196629213483146,
            0.196629213483146,
            0.196629213483146,
            0.196629213483146,
            0.196629213483146,
            0,
            0.196629213483146,
            0,
            0.25,
            0.25,
            0.25,
            0.25,
            0.1666666666666666,
            0.1666666666666666,
            0.1666666666666666,
            0.1666666666666666,
            0.1666666666666666,
            0.1666666666666666,
            0.1666666666666666,
            0,
            0.1666666666666666,
            0.1666666666666666,
            0.1666666666666666,
            0.1666666666666666,
            0.2898550724637681,
            0.2898550724637681,
            0.2898550724637681,
            0.2898550724637681,
            0.3,
            0.2898550724637681,
            0.2898550724637681,
            0,
            0.024390243902439,
            0.0408163265306122,
            0.0408163265306122,
            0.0227272727272727,
            0.0408163265306122,
            0.0408163265306122,
            0.0204081632653061,
            0.0408163265306122,
            0.0408163265306122,
            0.0408163265306122,
            0.0408163265306122,
            0.0408163265306122,
            0.0408163265306122,
            0.0408163265306122,
            0,
            0.0202020202020202,
            0.0408163265306122,
            0.0408163265306122,
            0.0408163265306122,
            0.024390243902439,
            0.0408163265306122,
            0.0408163265306122,
            0.0408163265306122,
            0,
            0.226,
            0.232,
            0.226,
            0.232,
            0.232,
            0.226,
            0.232,
            0.232,
            0.226,
            0.232,
            0.232,
            0,
            0.232,
            0.1847826086956521,
            0.1847826086956521,
            0.1521739130434782,
            0.1847826086956521,
            0.1521739130434782,
            0.1847826086956521,
            0.1521739130434782,
            0.1847826086956521,
            0.1847826086956521,
            0.1847826086956521,
            0.1847826086956521,
            0.2916666666666667,
            0.2916666666666667,
            0.2916666666666667,
            0.2916666666666667,
            0.2916666666666667,
            0.2916666666666667,
            0,
            0.2916666666666667,
            0.2916666666666667
           ],
           "yaxis": "y"
          },
          {
           "customdata": [
            [
             "Bhutan",
             2006
            ],
            [
             "Bhutan",
             2006
            ],
            [
             "Bhutan",
             2006
            ],
            [
             "Fiji",
             2006
            ],
            [
             "Fiji",
             2006
            ],
            [
             "Fiji",
             2006
            ],
            [
             "Singapore",
             2006
            ],
            [
             "Singapore",
             2006
            ],
            [
             "Singapore",
             2006
            ],
            [
             "Singapore",
             2006
            ],
            [
             "Singapore",
             2006
            ],
            [
             "Thailand",
             2006
            ],
            [
             "Thailand",
             2006
            ],
            [
             "Thailand",
             2006
            ],
            [
             "Thailand",
             2006
            ],
            [
             "Thailand",
             2006
            ],
            [
             "Thailand",
             2006
            ],
            [
             "Thailand",
             2006
            ],
            [
             "Thailand",
             2006
            ],
            [
             "Thailand",
             2006
            ]
           ],
           "hovertemplate": "region=Asia and Australasia<br>year=%{customdata[1]}<br>democracy_index_score=%{x}<br>percent_W=%{marker.size}<br>country=%{customdata[0]}<extra></extra>",
           "legendgroup": "Asia and Australasia",
           "marker": {
            "color": "rgb(115, 175, 72)",
            "size": [
             0.0266666666666666,
             0.0266666666666666,
             0.0266666666666666,
             0.1126760563380281,
             0.1126760563380281,
             0.1126760563380281,
             0.2446808510638297,
             0.2446808510638297,
             0.2446808510638297,
             0.2446808510638297,
             0.2446808510638297,
             0,
             0.0867768595041322,
             0,
             0.0867768595041322,
             0.0867768595041322,
             0.0867768595041322,
             0.0867768595041322,
             0,
             0.0867768595041322
            ],
            "sizemode": "area",
            "sizeref": 0.00153125,
            "symbol": "circle"
           },
           "mode": "markers",
           "name": "Asia and Australasia",
           "orientation": "v",
           "showlegend": true,
           "type": "scatter",
           "x": [
            2.62,
            2.62,
            2.62,
            5.66,
            5.66,
            5.66,
            5.89,
            5.89,
            5.89,
            5.89,
            5.89,
            5.67,
            5.67,
            5.67,
            5.67,
            5.67,
            5.67,
            5.67,
            5.67,
            5.67
           ],
           "xaxis": "x",
           "y": [
            0.0266666666666666,
            0.0266666666666666,
            0.0266666666666666,
            0.1126760563380281,
            0.1126760563380281,
            0.1126760563380281,
            0.2446808510638297,
            0.2446808510638297,
            0.2446808510638297,
            0.2446808510638297,
            0.2446808510638297,
            0,
            0.0867768595041322,
            0,
            0.0867768595041322,
            0.0867768595041322,
            0.0867768595041322,
            0.0867768595041322,
            0,
            0.0867768595041322
           ],
           "yaxis": "y"
          },
          {
           "customdata": [
            [
             "Bahrain",
             2006
            ],
            [
             "Bahrain",
             2006
            ],
            [
             "Bahrain",
             2006
            ],
            [
             "Bahrain",
             2006
            ],
            [
             "Bahrain",
             2006
            ],
            [
             "Bahrain",
             2006
            ],
            [
             "Bahrain",
             2006
            ],
            [
             "Bahrain",
             2006
            ],
            [
             "Bahrain",
             2006
            ],
            [
             "Bahrain",
             2006
            ],
            [
             "Bahrain",
             2006
            ],
            [
             "Bahrain",
             2006
            ],
            [
             "Bahrain",
             2006
            ],
            [
             "Bahrain",
             2006
            ],
            [
             "Bahrain",
             2006
            ],
            [
             "Bahrain",
             2006
            ],
            [
             "Bahrain",
             2006
            ],
            [
             "Bahrain",
             2006
            ],
            [
             "Israel",
             2006
            ],
            [
             "Israel",
             2006
            ],
            [
             "Israel",
             2006
            ],
            [
             "Israel",
             2006
            ],
            [
             "Israel",
             2006
            ],
            [
             "Israel",
             2006
            ],
            [
             "Israel",
             2006
            ],
            [
             "Israel",
             2006
            ],
            [
             "Israel",
             2006
            ],
            [
             "Israel",
             2006
            ],
            [
             "Israel",
             2006
            ],
            [
             "Kuwait",
             2006
            ],
            [
             "Kuwait",
             2006
            ],
            [
             "Qatar",
             2006
            ],
            [
             "United Arab Emirates",
             2006
            ],
            [
             "United Arab Emirates",
             2006
            ],
            [
             "United Arab Emirates",
             2006
            ],
            [
             "United Arab Emirates",
             2006
            ],
            [
             "United Arab Emirates",
             2006
            ],
            [
             "United Arab Emirates",
             2006
            ],
            [
             "United Arab Emirates",
             2006
            ]
           ],
           "hovertemplate": "region=Middle East and North Africa<br>year=%{customdata[1]}<br>democracy_index_score=%{x}<br>percent_W=%{marker.size}<br>country=%{customdata[0]}<extra></extra>",
           "legendgroup": "Middle East and North Africa",
           "marker": {
            "color": "rgb(237, 173, 8)",
            "size": [
             0.025,
             0.025,
             0.0416666666666666,
             0.025,
             0.025,
             0.025,
             0.025,
             0.025,
             0.025,
             0.025,
             0.025,
             0.025,
             0.025,
             0.025,
             0.025,
             0.025,
             0.025,
             0.025,
             0.1416666666666666,
             0.1416666666666666,
             0.1416666666666666,
             0.1416666666666666,
             0.1416666666666666,
             0.1416666666666666,
             0.1416666666666666,
             0.1333333333333333,
             0.1416666666666666,
             0.1416666666666666,
             0.1416666666666666,
             0.0153846153846153,
             0.0153846153846153,
             0,
             0.225,
             0.225,
             0.05,
             0.225,
             0.225,
             0.225,
             0.225
            ],
            "sizemode": "area",
            "sizeref": 0.00153125,
            "symbol": "circle"
           },
           "mode": "markers",
           "name": "Middle East and North Africa",
           "orientation": "v",
           "showlegend": true,
           "type": "scatter",
           "x": [
            3.53,
            3.53,
            3.53,
            3.53,
            3.53,
            3.53,
            3.53,
            3.53,
            3.53,
            3.53,
            3.53,
            3.53,
            3.53,
            3.53,
            3.53,
            3.53,
            3.53,
            3.53,
            7.28,
            7.28,
            7.28,
            7.28,
            7.28,
            7.28,
            7.28,
            7.28,
            7.28,
            7.28,
            7.28,
            3.09,
            3.09,
            2.78,
            2.42,
            2.42,
            2.42,
            2.42,
            2.42,
            2.42,
            2.42
           ],
           "xaxis": "x",
           "y": [
            0.025,
            0.025,
            0.0416666666666666,
            0.025,
            0.025,
            0.025,
            0.025,
            0.025,
            0.025,
            0.025,
            0.025,
            0.025,
            0.025,
            0.025,
            0.025,
            0.025,
            0.025,
            0.025,
            0.1416666666666666,
            0.1416666666666666,
            0.1416666666666666,
            0.1416666666666666,
            0.1416666666666666,
            0.1416666666666666,
            0.1416666666666666,
            0.1333333333333333,
            0.1416666666666666,
            0.1416666666666666,
            0.1416666666666666,
            0.0153846153846153,
            0.0153846153846153,
            0,
            0.225,
            0.225,
            0.05,
            0.225,
            0.225,
            0.225,
            0.225
           ],
           "yaxis": "y"
          },
          {
           "customdata": [
            [
             "Cape Verde",
             2006
            ],
            [
             "Cape Verde",
             2006
            ],
            [
             "Cape Verde",
             2006
            ],
            [
             "Cape Verde",
             2006
            ],
            [
             "Cape Verde",
             2006
            ],
            [
             "Cape Verde",
             2006
            ],
            [
             "Cape Verde",
             2006
            ],
            [
             "Cape Verde",
             2006
            ],
            [
             "Cape Verde",
             2006
            ],
            [
             "Cape Verde",
             2006
            ],
            [
             "Cape Verde",
             2006
            ],
            [
             "Cape Verde",
             2006
            ],
            [
             "Cape Verde",
             2006
            ],
            [
             "Democratic Republic of the Congo",
             2006
            ],
            [
             "Democratic Republic of the Congo",
             2006
            ],
            [
             "Democratic Republic of the Congo",
             2006
            ],
            [
             "Democratic Republic of the Congo",
             2006
            ],
            [
             "Gabon",
             2006
            ],
            [
             "Gabon",
             2006
            ],
            [
             "Gabon",
             2006
            ],
            [
             "Gabon",
             2006
            ],
            [
             "Gabon",
             2006
            ],
            [
             "Mauritania",
             2006
            ],
            [
             "Mauritania",
             2006
            ],
            [
             "Mauritania",
             2006
            ],
            [
             "Mauritania",
             2006
            ],
            [
             "Mauritania",
             2006
            ],
            [
             "Mauritania",
             2006
            ],
            [
             "Mauritania",
             2006
            ],
            [
             "Mauritania",
             2006
            ],
            [
             "Mauritania",
             2006
            ],
            [
             "Mauritania",
             2006
            ],
            [
             "Mauritania",
             2006
            ],
            [
             "Mauritania",
             2006
            ],
            [
             "Mauritania",
             2006
            ],
            [
             "Mauritania",
             2006
            ],
            [
             "Mauritania",
             2006
            ],
            [
             "Mauritania",
             2006
            ],
            [
             "Mauritania",
             2006
            ],
            [
             "Mauritania",
             2006
            ],
            [
             "Mauritania",
             2006
            ],
            [
             "Uganda",
             2006
            ],
            [
             "Uganda",
             2006
            ],
            [
             "Uganda",
             2006
            ],
            [
             "Uganda",
             2006
            ],
            [
             "Uganda",
             2006
            ],
            [
             "Uganda",
             2006
            ],
            [
             "Uganda",
             2006
            ],
            [
             "Uganda",
             2006
            ],
            [
             "Uganda",
             2006
            ],
            [
             "Zambia",
             2006
            ],
            [
             "Zambia",
             2006
            ],
            [
             "Zambia",
             2006
            ],
            [
             "Zambia",
             2006
            ],
            [
             "Zambia",
             2006
            ],
            [
             "Zambia",
             2006
            ],
            [
             "Zambia",
             2006
            ],
            [
             "Zambia",
             2006
            ],
            [
             "Zambia",
             2006
            ],
            [
             "Zambia",
             2006
            ],
            [
             "Zambia",
             2006
            ]
           ],
           "hovertemplate": "region=Sub-Saharan Africa<br>year=%{customdata[1]}<br>democracy_index_score=%{x}<br>percent_W=%{marker.size}<br>country=%{customdata[0]}<extra></extra>",
           "legendgroup": "Sub-Saharan Africa",
           "marker": {
            "color": "rgb(225, 124, 5)",
            "size": [
             0.1527777777777778,
             0.1527777777777778,
             0.1805555555555555,
             0.1527777777777778,
             0.1805555555555555,
             0.1527777777777778,
             0.1527777777777778,
             0.1805555555555555,
             0.1527777777777778,
             0.1527777777777778,
             0.1527777777777778,
             0.1805555555555555,
             0.1527777777777778,
             0.084,
             0.084,
             0.084,
             0.084,
             0.125,
             0.125,
             0.125,
             0.125,
             0.125,
             0.1789473684210526,
             0.2210526315789473,
             0.2093023255813953,
             0.1789473684210526,
             0.2210526315789473,
             0.1789473684210526,
             0.2210526315789473,
             0.1789473684210526,
             0.2210526315789473,
             0.1789473684210526,
             0.2210526315789473,
             0.1789473684210526,
             0.2210526315789473,
             0.1789473684210526,
             0.1789473684210526,
             0.1789473684210526,
             0.2210526315789473,
             0.1789473684210526,
             0.2210526315789473,
             0.2981927710843373,
             0.2981927710843373,
             0.3072289156626506,
             0.3072289156626506,
             0.2393442622950819,
             0.2772585669781931,
             0.3072289156626506,
             0.2763975155279503,
             0.3072289156626506,
             0.1464968152866242,
             0.1464968152866242,
             0.1518987341772152,
             0.1464968152866242,
             0.1464968152866242,
             0.1518987341772152,
             0.1464968152866242,
             0.1464968152866242,
             0.1518987341772152,
             0.1518987341772152,
             0
            ],
            "sizemode": "area",
            "sizeref": 0.00153125,
            "symbol": "circle"
           },
           "mode": "markers",
           "name": "Sub-Saharan Africa",
           "orientation": "v",
           "showlegend": true,
           "type": "scatter",
           "x": [
            7.43,
            7.43,
            7.43,
            7.43,
            7.43,
            7.43,
            7.43,
            7.43,
            7.43,
            7.43,
            7.43,
            7.43,
            7.43,
            2.76,
            2.76,
            2.76,
            2.76,
            2.72,
            2.72,
            2.72,
            2.72,
            2.72,
            3.12,
            3.12,
            3.12,
            3.12,
            3.12,
            3.12,
            3.12,
            3.12,
            3.12,
            3.12,
            3.12,
            3.12,
            3.12,
            3.12,
            3.12,
            3.12,
            3.12,
            3.12,
            3.12,
            5.14,
            5.14,
            5.14,
            5.14,
            5.14,
            5.14,
            5.14,
            5.14,
            5.14,
            5.25,
            5.25,
            5.25,
            5.25,
            5.25,
            5.25,
            5.25,
            5.25,
            5.25,
            5.25,
            5.25
           ],
           "xaxis": "x",
           "y": [
            0.1527777777777778,
            0.1527777777777778,
            0.1805555555555555,
            0.1527777777777778,
            0.1805555555555555,
            0.1527777777777778,
            0.1527777777777778,
            0.1805555555555555,
            0.1527777777777778,
            0.1527777777777778,
            0.1527777777777778,
            0.1805555555555555,
            0.1527777777777778,
            0.084,
            0.084,
            0.084,
            0.084,
            0.125,
            0.125,
            0.125,
            0.125,
            0.125,
            0.1789473684210526,
            0.2210526315789473,
            0.2093023255813953,
            0.1789473684210526,
            0.2210526315789473,
            0.1789473684210526,
            0.2210526315789473,
            0.1789473684210526,
            0.2210526315789473,
            0.1789473684210526,
            0.2210526315789473,
            0.1789473684210526,
            0.2210526315789473,
            0.1789473684210526,
            0.1789473684210526,
            0.1789473684210526,
            0.2210526315789473,
            0.1789473684210526,
            0.2210526315789473,
            0.2981927710843373,
            0.2981927710843373,
            0.3072289156626506,
            0.3072289156626506,
            0.2393442622950819,
            0.2772585669781931,
            0.3072289156626506,
            0.2763975155279503,
            0.3072289156626506,
            0.1464968152866242,
            0.1464968152866242,
            0.1518987341772152,
            0.1464968152866242,
            0.1464968152866242,
            0.1518987341772152,
            0.1464968152866242,
            0.1464968152866242,
            0.1518987341772152,
            0.1518987341772152,
            0
           ],
           "yaxis": "y"
          }
         ],
         "name": "2006"
        },
        {
         "data": [
          {
           "customdata": [
            [
             "Canada",
             2008
            ],
            [
             "Canada",
             2008
            ]
           ],
           "hovertemplate": "region=North America<br>year=%{customdata[1]}<br>democracy_index_score=%{x}<br>percent_W=%{marker.size}<br>country=%{customdata[0]}<extra></extra>",
           "legendgroup": "North America",
           "marker": {
            "color": "rgb(95, 70, 144)",
            "size": [
             0.2207792207792207,
             0.2207792207792207
            ],
            "sizemode": "area",
            "sizeref": 0.00153125,
            "symbol": "circle"
           },
           "mode": "markers",
           "name": "North America",
           "orientation": "v",
           "showlegend": true,
           "type": "scatter",
           "x": [
            9.07,
            9.07
           ],
           "xaxis": "x",
           "y": [
            0.2207792207792207,
            0.2207792207792207
           ],
           "yaxis": "y"
          },
          {
           "customdata": [
            [
             "Austria",
             2008
            ],
            [
             "Austria",
             2008
            ],
            [
             "Austria",
             2008
            ],
            [
             "Italy",
             2008
            ],
            [
             "Italy",
             2008
            ],
            [
             "Italy",
             2008
            ],
            [
             "Italy",
             2008
            ],
            [
             "Italy",
             2008
            ],
            [
             "Malta",
             2008
            ],
            [
             "Malta",
             2008
            ],
            [
             "Malta",
             2008
            ],
            [
             "Malta",
             2008
            ],
            [
             "Malta",
             2008
            ],
            [
             "Spain",
             2008
            ],
            [
             "Spain",
             2008
            ],
            [
             "Spain",
             2008
            ],
            [
             "Spain",
             2008
            ],
            [
             "Spain",
             2008
            ],
            [
             "Spain",
             2008
            ],
            [
             "Spain",
             2008
            ]
           ],
           "hovertemplate": "region=Western Europe<br>year=%{customdata[1]}<br>democracy_index_score=%{x}<br>percent_W=%{marker.size}<br>country=%{customdata[0]}<extra></extra>",
           "legendgroup": "Western Europe",
           "marker": {
            "color": "rgb(29, 105, 150)",
            "size": [
             0.273224043715847,
             0.273224043715847,
             0,
             0.2126984126984127,
             0.2126984126984127,
             0,
             0.2114467408585055,
             0.2126984126984127,
             0.0869565217391304,
             0.0869565217391304,
             0.0869565217391304,
             0.0869565217391304,
             0.0869565217391304,
             0.3628571428571429,
             0.3628571428571429,
             0.3628571428571429,
             0.3628571428571429,
             0.3628571428571429,
             0.3628571428571429,
             0.3628571428571429
            ],
            "sizemode": "area",
            "sizeref": 0.00153125,
            "symbol": "circle"
           },
           "mode": "markers",
           "name": "Western Europe",
           "orientation": "v",
           "showlegend": true,
           "type": "scatter",
           "x": [
            8.49,
            8.49,
            8.49,
            7.98,
            7.98,
            7.98,
            7.98,
            7.98,
            8.39,
            8.39,
            8.39,
            8.39,
            8.39,
            8.45,
            8.45,
            8.45,
            8.45,
            8.45,
            8.45,
            8.45
           ],
           "xaxis": "x",
           "y": [
            0.273224043715847,
            0.273224043715847,
            0,
            0.2126984126984127,
            0.2126984126984127,
            0,
            0.2114467408585055,
            0.2126984126984127,
            0.0869565217391304,
            0.0869565217391304,
            0.0869565217391304,
            0.0869565217391304,
            0.0869565217391304,
            0.3628571428571429,
            0.3628571428571429,
            0.3628571428571429,
            0.3628571428571429,
            0.3628571428571429,
            0.3628571428571429,
            0.3628571428571429
           ],
           "yaxis": "y"
          },
          {
           "customdata": [
            [
             "Belarus",
             2008
            ],
            [
             "Belarus",
             2008
            ],
            [
             "Belarus",
             2008
            ],
            [
             "Georgia",
             2008
            ],
            [
             "Georgia",
             2008
            ],
            [
             "Lithuania",
             2008
            ],
            [
             "Romania",
             2008
            ],
            [
             "Serbia",
             2008
            ],
            [
             "Serbia",
             2008
            ],
            [
             "Slovenia",
             2008
            ],
            [
             "Slovenia",
             2008
            ],
            [
             "Turkmenistan",
             2008
            ]
           ],
           "hovertemplate": "region=Central and Eastern Europe<br>year=%{customdata[1]}<br>democracy_index_score=%{x}<br>percent_W=%{marker.size}<br>country=%{customdata[0]}<extra></extra>",
           "legendgroup": "Central and Eastern Europe",
           "marker": {
            "color": "rgb(56, 166, 165)",
            "size": [
             0.3181818181818182,
             0.3181818181818182,
             0,
             0.06,
             0.06,
             0.1773049645390071,
             0.1137724550898203,
             0.216,
             0.216,
             0.1333333333333333,
             0.1333333333333333,
             0
            ],
            "sizemode": "area",
            "sizeref": 0.00153125,
            "symbol": "circle"
           },
           "mode": "markers",
           "name": "Central and Eastern Europe",
           "orientation": "v",
           "showlegend": true,
           "type": "scatter",
           "x": [
            3.34,
            3.34,
            3.34,
            4.62,
            4.62,
            7.36,
            7.06,
            6.49,
            6.49,
            7.96,
            7.96,
            1.72
           ],
           "xaxis": "x",
           "y": [
            0.3181818181818182,
            0.3181818181818182,
            0,
            0.06,
            0.06,
            0.1773049645390071,
            0.1137724550898203,
            0.216,
            0.216,
            0.1333333333333333,
            0.1333333333333333,
            0
           ],
           "yaxis": "y"
          },
          {
           "customdata": [
            [
             "Cuba",
             2008
            ],
            [
             "Paraguay",
             2008
            ],
            [
             "Paraguay",
             2008
            ],
            [
             "Paraguay",
             2008
            ],
            [
             "Paraguay",
             2008
            ]
           ],
           "hovertemplate": "region=Latin America and the Caribbean<br>year=%{customdata[1]}<br>democracy_index_score=%{x}<br>percent_W=%{marker.size}<br>country=%{customdata[0]}<extra></extra>",
           "legendgroup": "Latin America and the Caribbean",
           "marker": {
            "color": "rgb(15, 133, 84)",
            "size": [
             0.4315960912052117,
             0.125,
             0.125,
             0,
             0.125
            ],
            "sizemode": "area",
            "sizeref": 0.00153125,
            "symbol": "circle"
           },
           "mode": "markers",
           "name": "Latin America and the Caribbean",
           "orientation": "v",
           "showlegend": true,
           "type": "scatter",
           "x": [
            3.52,
            6.4,
            6.4,
            6.4,
            6.4
           ],
           "xaxis": "x",
           "y": [
            0.4315960912052117,
            0.125,
            0.125,
            0,
            0.125
           ],
           "yaxis": "y"
          },
          {
           "customdata": [
            [
             "Bhutan",
             2008
            ],
            [
             "Bhutan",
             2008
            ],
            [
             "Bhutan",
             2008
            ],
            [
             "Bhutan",
             2008
            ],
            [
             "Bhutan",
             2008
            ],
            [
             "Bhutan",
             2008
            ],
            [
             "Bhutan",
             2008
            ],
            [
             "Bhutan",
             2008
            ],
            [
             "Cambodia",
             2008
            ],
            [
             "Cambodia",
             2008
            ],
            [
             "Cambodia",
             2008
            ],
            [
             "China",
             2008
            ],
            [
             "China",
             2008
            ],
            [
             "China",
             2008
            ],
            [
             "Malaysia",
             2008
            ],
            [
             "Malaysia",
             2008
            ],
            [
             "Malaysia",
             2008
            ],
            [
             "Malaysia",
             2008
            ],
            [
             "Mongolia",
             2008
            ],
            [
             "Mongolia",
             2008
            ],
            [
             "Mongolia",
             2008
            ],
            [
             "Mongolia",
             2008
            ],
            [
             "Mongolia",
             2008
            ],
            [
             "Mongolia",
             2008
            ],
            [
             "Nepal",
             2008
            ],
            [
             "Nepal",
             2008
            ],
            [
             "Nepal",
             2008
            ],
            [
             "Nepal",
             2008
            ],
            [
             "Nepal",
             2008
            ],
            [
             "New Zealand",
             2008
            ],
            [
             "Pakistan",
             2008
            ],
            [
             "Pakistan",
             2008
            ],
            [
             "Pakistan",
             2008
            ],
            [
             "Pakistan",
             2008
            ],
            [
             "Pakistan",
             2008
            ],
            [
             "Pakistan",
             2008
            ]
           ],
           "hovertemplate": "region=Asia and Australasia<br>year=%{customdata[1]}<br>democracy_index_score=%{x}<br>percent_W=%{marker.size}<br>country=%{customdata[0]}<extra></extra>",
           "legendgroup": "Asia and Australasia",
           "marker": {
            "color": "rgb(115, 175, 72)",
            "size": [
             0.0851063829787234,
             0.0851063829787234,
             0.0851063829787234,
             0.0851063829787234,
             0.0851063829787234,
             0.0851063829787234,
             0.0851063829787234,
             0.0851063829787234,
             0.1626016260162601,
             0.1626016260162601,
             0.1626016260162601,
             0.2132574489454302,
             0,
             0.2132574489454302,
             0.1081081081081081,
             0.1081081081081081,
             0,
             0.1081081081081081,
             0.0416666666666666,
             0.0416666666666666,
             0.0416666666666666,
             0.0303030303030303,
             0.0441176470588235,
             0.0416666666666666,
             0.3316498316498316,
             0.3316498316498316,
             0,
             0.3362676056338028,
             0.3277870216306156,
             0.3360655737704918,
             0.2248520710059171,
             0.2248520710059171,
             0.2248520710059171,
             0.2248520710059171,
             0.2248520710059171,
             0.2248520710059171
            ],
            "sizemode": "area",
            "sizeref": 0.00153125,
            "symbol": "circle"
           },
           "mode": "markers",
           "name": "Asia and Australasia",
           "orientation": "v",
           "showlegend": true,
           "type": "scatter",
           "x": [
            4.3,
            4.3,
            4.3,
            4.3,
            4.3,
            4.3,
            4.3,
            4.3,
            4.87,
            4.87,
            4.87,
            3.04,
            3.04,
            3.04,
            6.36,
            6.36,
            6.36,
            6.36,
            6.6,
            6.6,
            6.6,
            6.6,
            6.6,
            6.6,
            4.05,
            4.05,
            4.05,
            4.05,
            4.05,
            9.19,
            4.46,
            4.46,
            4.46,
            4.46,
            4.46,
            4.46
           ],
           "xaxis": "x",
           "y": [
            0.0851063829787234,
            0.0851063829787234,
            0.0851063829787234,
            0.0851063829787234,
            0.0851063829787234,
            0.0851063829787234,
            0.0851063829787234,
            0.0851063829787234,
            0.1626016260162601,
            0.1626016260162601,
            0.1626016260162601,
            0.2132574489454302,
            0,
            0.2132574489454302,
            0.1081081081081081,
            0.1081081081081081,
            0,
            0.1081081081081081,
            0.0416666666666666,
            0.0416666666666666,
            0.0416666666666666,
            0.0303030303030303,
            0.0441176470588235,
            0.0416666666666666,
            0.3316498316498316,
            0.3316498316498316,
            0,
            0.3362676056338028,
            0.3277870216306156,
            0.3360655737704918,
            0.2248520710059171,
            0.2248520710059171,
            0.2248520710059171,
            0.2248520710059171,
            0.2248520710059171,
            0.2248520710059171
           ],
           "yaxis": "y"
          },
          {
           "customdata": [
            [
             "Qatar",
             2008
            ]
           ],
           "hovertemplate": "region=Middle East and North Africa<br>year=%{customdata[1]}<br>democracy_index_score=%{x}<br>percent_W=%{marker.size}<br>country=%{customdata[0]}<extra></extra>",
           "legendgroup": "Middle East and North Africa",
           "marker": {
            "color": "rgb(237, 173, 8)",
            "size": [
             0
            ],
            "sizemode": "area",
            "sizeref": 0.00153125,
            "symbol": "circle"
           },
           "mode": "markers",
           "name": "Middle East and North Africa",
           "orientation": "v",
           "showlegend": true,
           "type": "scatter",
           "x": [
            2.92
           ],
           "xaxis": "x",
           "y": [
            0
           ],
           "yaxis": "y"
          },
          {
           "customdata": [
            [
             "Angola",
             2008
            ],
            [
             "Djibouti",
             2008
            ],
            [
             "Djibouti",
             2008
            ],
            [
             "Djibouti",
             2008
            ],
            [
             "Djibouti",
             2008
            ],
            [
             "Equatorial Guinea",
             2008
            ],
            [
             "Equatorial Guinea",
             2008
            ],
            [
             "Equatorial Guinea",
             2008
            ],
            [
             "Equatorial Guinea",
             2008
            ],
            [
             "Equatorial Guinea",
             2008
            ],
            [
             "Equatorial Guinea",
             2008
            ],
            [
             "Ghana",
             2008
            ],
            [
             "Guinea-Bissau",
             2008
            ],
            [
             "Guinea-Bissau",
             2008
            ],
            [
             "Rwanda",
             2008
            ],
            [
             "Rwanda",
             2008
            ],
            [
             "Zimbabwe",
             2008
            ],
            [
             "Zimbabwe",
             2008
            ],
            [
             "Zimbabwe",
             2008
            ],
            [
             "Zimbabwe",
             2008
            ],
            [
             "Zimbabwe",
             2008
            ],
            [
             "Zimbabwe",
             2008
            ],
            [
             "Zimbabwe",
             2008
            ],
            [
             "Zimbabwe",
             2008
            ]
           ],
           "hovertemplate": "region=Sub-Saharan Africa<br>year=%{customdata[1]}<br>democracy_index_score=%{x}<br>percent_W=%{marker.size}<br>country=%{customdata[0]}<extra></extra>",
           "legendgroup": "Sub-Saharan Africa",
           "marker": {
            "color": "rgb(225, 124, 5)",
            "size": [
             0.3727272727272727,
             0.1384615384615384,
             0.1384615384615384,
             0.1384615384615384,
             0.1384615384615384,
             0.06,
             0.06,
             0.06,
             0,
             0.06,
             0.06,
             0.0789473684210526,
             0,
             0.1,
             0.5625,
             0.5625,
             0.1523809523809524,
             0.1523809523809524,
             0,
             0.1352657004830917,
             0.1352657004830917,
             0.1333333333333333,
             0.1333333333333333,
             0.1523809523809524
            ],
            "sizemode": "area",
            "sizeref": 0.00153125,
            "symbol": "circle"
           },
           "mode": "markers",
           "name": "Sub-Saharan Africa",
           "orientation": "v",
           "showlegend": true,
           "type": "scatter",
           "x": [
            3.35,
            2.37,
            2.37,
            2.37,
            2.37,
            2.19,
            2.19,
            2.19,
            2.19,
            2.19,
            2.19,
            5.35,
            1.99,
            1.99,
            3.71,
            3.71,
            2.53,
            2.53,
            2.53,
            2.53,
            2.53,
            2.53,
            2.53,
            2.53
           ],
           "xaxis": "x",
           "y": [
            0.3727272727272727,
            0.1384615384615384,
            0.1384615384615384,
            0.1384615384615384,
            0.1384615384615384,
            0.06,
            0.06,
            0.06,
            0,
            0.06,
            0.06,
            0.0789473684210526,
            0,
            0.1,
            0.5625,
            0.5625,
            0.1523809523809524,
            0.1523809523809524,
            0,
            0.1352657004830917,
            0.1352657004830917,
            0.1333333333333333,
            0.1333333333333333,
            0.1523809523809524
           ],
           "yaxis": "y"
          }
         ],
         "name": "2008"
        },
        {
         "data": [
          {
           "customdata": [
            [
             "Chad",
             2011
            ],
            [
             "Chad",
             2011
            ],
            [
             "Chad",
             2011
            ],
            [
             "Chad",
             2011
            ],
            [
             "Chad",
             2011
            ],
            [
             "Chad",
             2011
            ],
            [
             "Chad",
             2011
            ],
            [
             "Chad",
             2011
            ],
            [
             "Chad",
             2011
            ],
            [
             "Chad",
             2011
            ]
           ],
           "hovertemplate": "region=Sub-Saharan Africa<br>year=%{customdata[1]}<br>democracy_index_score=%{x}<br>percent_W=%{marker.size}<br>country=%{customdata[0]}<extra></extra>",
           "legendgroup": "Sub-Saharan Africa",
           "marker": {
            "color": "rgb(225, 124, 5)",
            "size": [
             0.1488095238095238,
             0.1543209876543209,
             0.1543209876543209,
             0.1543209876543209,
             0.1488095238095238,
             0.1543209876543209,
             0.1538461538461538,
             0.1543209876543209,
             0.1538461538461538,
             0.1538461538461538
            ],
            "sizemode": "area",
            "sizeref": 0.00153125,
            "symbol": "circle"
           },
           "mode": "markers",
           "name": "Sub-Saharan Africa",
           "orientation": "v",
           "showlegend": true,
           "type": "scatter",
           "x": [
            1.62,
            1.62,
            1.62,
            1.62,
            1.62,
            1.62,
            1.62,
            1.62,
            1.62,
            1.62
           ],
           "xaxis": "x",
           "y": [
            0.1488095238095238,
            0.1543209876543209,
            0.1543209876543209,
            0.1543209876543209,
            0.1488095238095238,
            0.1543209876543209,
            0.1538461538461538,
            0.1543209876543209,
            0.1538461538461538,
            0.1538461538461538
           ],
           "yaxis": "y"
          }
         ],
         "name": "2011"
        },
        {
         "data": [
          {
           "customdata": [
            [
             "Qatar",
             2013
            ],
            [
             "Qatar",
             2013
            ]
           ],
           "hovertemplate": "region=Middle East and North Africa<br>year=%{customdata[1]}<br>democracy_index_score=%{x}<br>percent_W=%{marker.size}<br>country=%{customdata[0]}<extra></extra>",
           "legendgroup": "Middle East and North Africa",
           "marker": {
            "color": "rgb(237, 173, 8)",
            "size": [
             0.0975609756097561,
             0.0975609756097561
            ],
            "sizemode": "area",
            "sizeref": 0.00153125,
            "symbol": "circle"
           },
           "mode": "markers",
           "name": "Middle East and North Africa",
           "orientation": "v",
           "showlegend": true,
           "type": "scatter",
           "x": [
            3.18,
            3.18
           ],
           "xaxis": "x",
           "y": [
            0.0975609756097561,
            0.0975609756097561
           ],
           "yaxis": "y"
          },
          {
           "customdata": [
            [
             "Cameroon",
             2013
            ],
            [
             "Cameroon",
             2013
            ],
            [
             "Cameroon",
             2013
            ],
            [
             "Cameroon",
             2013
            ],
            [
             "Guinea",
             2013
            ],
            [
             "Guinea",
             2013
            ],
            [
             "Guinea",
             2013
            ],
            [
             "Guinea",
             2013
            ],
            [
             "Guinea",
             2013
            ],
            [
             "Guinea",
             2013
            ],
            [
             "Madagascar",
             2013
            ],
            [
             "Madagascar",
             2013
            ],
            [
             "Mali",
             2013
            ],
            [
             "Mali",
             2013
            ],
            [
             "Mali",
             2013
            ],
            [
             "Mali",
             2013
            ],
            [
             "Mali",
             2013
            ],
            [
             "Mali",
             2013
            ],
            [
             "Mali",
             2013
            ]
           ],
           "hovertemplate": "region=Sub-Saharan Africa<br>year=%{customdata[1]}<br>democracy_index_score=%{x}<br>percent_W=%{marker.size}<br>country=%{customdata[0]}<extra></extra>",
           "legendgroup": "Sub-Saharan Africa",
           "marker": {
            "color": "rgb(225, 124, 5)",
            "size": [
             0.3111111111111111,
             0.3111111111111111,
             0.3111111111111111,
             0.3111111111111111,
             0.2280701754385964,
             0.2280701754385964,
             0.2280701754385964,
             0.2280701754385964,
             0.2280701754385964,
             0.2280701754385964,
             0.1920529801324503,
             0.1920529801324503,
             0.0952380952380952,
             0.0952380952380952,
             0.0884353741496598,
             0.0952380952380952,
             0.0884353741496598,
             0.0884353741496598,
             0.0884353741496598
            ],
            "sizemode": "area",
            "sizeref": 0.00153125,
            "symbol": "circle"
           },
           "mode": "markers",
           "name": "Sub-Saharan Africa",
           "orientation": "v",
           "showlegend": true,
           "type": "scatter",
           "x": [
            3.41,
            3.41,
            3.41,
            3.41,
            2.84,
            2.84,
            2.84,
            2.84,
            2.84,
            2.84,
            4.32,
            4.32,
            5.9,
            5.9,
            5.9,
            5.9,
            5.9,
            5.9,
            5.9
           ],
           "xaxis": "x",
           "y": [
            0.3111111111111111,
            0.3111111111111111,
            0.3111111111111111,
            0.3111111111111111,
            0.2280701754385964,
            0.2280701754385964,
            0.2280701754385964,
            0.2280701754385964,
            0.2280701754385964,
            0.2280701754385964,
            0.1920529801324503,
            0.1920529801324503,
            0.0952380952380952,
            0.0952380952380952,
            0.0884353741496598,
            0.0952380952380952,
            0.0884353741496598,
            0.0884353741496598,
            0.0884353741496598
           ],
           "yaxis": "y"
          }
         ],
         "name": "2013"
        },
        {
         "data": [
          {
           "customdata": [
            [
             "Belgium",
             2014
            ],
            [
             "Belgium",
             2014
            ],
            [
             "Belgium",
             2014
            ],
            [
             "Belgium",
             2014
            ]
           ],
           "hovertemplate": "region=Western Europe<br>year=%{customdata[1]}<br>democracy_index_score=%{x}<br>percent_W=%{marker.size}<br>country=%{customdata[0]}<extra></extra>",
           "legendgroup": "Western Europe",
           "marker": {
            "color": "rgb(29, 105, 150)",
            "size": [
             0.38,
             0.38,
             0.38,
             0.38
            ],
            "sizemode": "area",
            "sizeref": 0.00153125,
            "symbol": "circle"
           },
           "mode": "markers",
           "name": "Western Europe",
           "orientation": "v",
           "showlegend": true,
           "type": "scatter",
           "x": [
            7.93,
            7.93,
            7.93,
            7.93
           ],
           "xaxis": "x",
           "y": [
            0.38,
            0.38,
            0.38,
            0.38
           ],
           "yaxis": "y"
          },
          {
           "customdata": [
            [
             "Ukraine",
             2014
            ],
            [
             "Ukraine",
             2014
            ],
            [
             "Uzbekistan",
             2014
            ],
            [
             "Uzbekistan",
             2014
            ]
           ],
           "hovertemplate": "region=Central and Eastern Europe<br>year=%{customdata[1]}<br>democracy_index_score=%{x}<br>percent_W=%{marker.size}<br>country=%{customdata[0]}<extra></extra>",
           "legendgroup": "Central and Eastern Europe",
           "marker": {
            "color": "rgb(56, 166, 165)",
            "size": [
             0.1158392434988179,
             0.1158392434988179,
             0.16,
             0.16
            ],
            "sizemode": "area",
            "sizeref": 0.00153125,
            "symbol": "circle"
           },
           "mode": "markers",
           "name": "Central and Eastern Europe",
           "orientation": "v",
           "showlegend": true,
           "type": "scatter",
           "x": [
            5.42,
            5.42,
            2.45,
            2.45
           ],
           "xaxis": "x",
           "y": [
            0.1158392434988179,
            0.1158392434988179,
            0.16,
            0.16
           ],
           "yaxis": "y"
          },
          {
           "customdata": [
            [
             "Bolivia",
             2014
            ],
            [
             "Panama",
             2014
            ],
            [
             "Panama",
             2014
            ],
            [
             "Panama",
             2014
            ],
            [
             "Uruguay",
             2014
            ],
            [
             "Uruguay",
             2014
            ]
           ],
           "hovertemplate": "region=Latin America and the Caribbean<br>year=%{customdata[1]}<br>democracy_index_score=%{x}<br>percent_W=%{marker.size}<br>country=%{customdata[0]}<extra></extra>",
           "legendgroup": "Latin America and the Caribbean",
           "marker": {
            "color": "rgb(15, 133, 84)",
            "size": [
             0.5307692307692308,
             0.1830985915492957,
             0.1830985915492957,
             0.1830985915492957,
             0.2222222222222222,
             0.2222222222222222
            ],
            "sizemode": "area",
            "sizeref": 0.00153125,
            "symbol": "circle"
           },
           "mode": "markers",
           "name": "Latin America and the Caribbean",
           "orientation": "v",
           "showlegend": true,
           "type": "scatter",
           "x": [
            5.79,
            7.08,
            7.08,
            7.08,
            8.17,
            8.17
           ],
           "xaxis": "x",
           "y": [
            0.5307692307692308,
            0.1830985915492957,
            0.1830985915492957,
            0.1830985915492957,
            0.2222222222222222,
            0.2222222222222222
           ],
           "yaxis": "y"
          },
          {
           "customdata": [
            [
             "India",
             2014
            ],
            [
             "India",
             2014
            ],
            [
             "Indonesia",
             2014
            ],
            [
             "Indonesia",
             2014
            ],
            [
             "Thailand",
             2014
            ],
            [
             "Thailand",
             2014
            ],
            [
             "Thailand",
             2014
            ]
           ],
           "hovertemplate": "region=Asia and Australasia<br>year=%{customdata[1]}<br>democracy_index_score=%{x}<br>percent_W=%{marker.size}<br>country=%{customdata[0]}<extra></extra>",
           "legendgroup": "Asia and Australasia",
           "marker": {
            "color": "rgb(115, 175, 72)",
            "size": [
             0.1259541984732824,
             0.1259541984732824,
             0.1821428571428571,
             0.1821428571428571,
             0.0541666666666666,
             0.0541666666666666,
             0.0541666666666666
            ],
            "sizemode": "area",
            "sizeref": 0.00153125,
            "symbol": "circle"
           },
           "mode": "markers",
           "name": "Asia and Australasia",
           "orientation": "v",
           "showlegend": true,
           "type": "scatter",
           "x": [
            7.92,
            7.92,
            6.95,
            6.95,
            5.39,
            5.39,
            5.39
           ],
           "xaxis": "x",
           "y": [
            0.1259541984732824,
            0.1259541984732824,
            0.1821428571428571,
            0.1821428571428571,
            0.0541666666666666,
            0.0541666666666666,
            0.0541666666666666
           ],
           "yaxis": "y"
          },
          {
           "customdata": [
            [
             "Libya",
             2014
            ],
            [
             "Libya",
             2014
            ],
            [
             "Libya",
             2014
            ],
            [
             "Libya",
             2014
            ],
            [
             "Libya",
             2014
            ],
            [
             "Libya",
             2014
            ],
            [
             "Libya",
             2014
            ],
            [
             "Libya",
             2014
            ],
            [
             "Libya",
             2014
            ],
            [
             "Libya",
             2014
            ],
            [
             "Libya",
             2014
            ],
            [
             "Libya",
             2014
            ],
            [
             "Libya",
             2014
            ],
            [
             "Libya",
             2014
            ],
            [
             "Libya",
             2014
            ],
            [
             "Libya",
             2014
            ],
            [
             "Tunisia",
             2014
            ],
            [
             "Tunisia",
             2014
            ],
            [
             "Tunisia",
             2014
            ],
            [
             "Tunisia",
             2014
            ]
           ],
           "hovertemplate": "region=Middle East and North Africa<br>year=%{customdata[1]}<br>democracy_index_score=%{x}<br>percent_W=%{marker.size}<br>country=%{customdata[0]}<extra></extra>",
           "legendgroup": "Middle East and North Africa",
           "marker": {
            "color": "rgb(237, 173, 8)",
            "size": [
             0.1595744680851064,
             0.1595744680851064,
             0.1595744680851064,
             0.1647058823529411,
             0.1595744680851064,
             0.1647058823529411,
             0.1595744680851064,
             0.1595744680851064,
             0.1595744680851064,
             0.1595744680851064,
             0.1595744680851064,
             0.1595744680851064,
             0.1647058823529411,
             0.1595744680851064,
             0.1595744680851064,
             0.1647058823529411,
             0.3594470046082949,
             0.3594470046082949,
             0.3594470046082949,
             0.3594470046082949
            ],
            "sizemode": "area",
            "sizeref": 0.00153125,
            "symbol": "circle"
           },
           "mode": "markers",
           "name": "Middle East and North Africa",
           "orientation": "v",
           "showlegend": true,
           "type": "scatter",
           "x": [
            3.8,
            3.8,
            3.8,
            3.8,
            3.8,
            3.8,
            3.8,
            3.8,
            3.8,
            3.8,
            3.8,
            3.8,
            3.8,
            3.8,
            3.8,
            3.8,
            6.31,
            6.31,
            6.31,
            6.31
           ],
           "xaxis": "x",
           "y": [
            0.1595744680851064,
            0.1595744680851064,
            0.1595744680851064,
            0.1647058823529411,
            0.1595744680851064,
            0.1647058823529411,
            0.1595744680851064,
            0.1595744680851064,
            0.1595744680851064,
            0.1595744680851064,
            0.1595744680851064,
            0.1595744680851064,
            0.1647058823529411,
            0.1595744680851064,
            0.1595744680851064,
            0.1647058823529411,
            0.3594470046082949,
            0.3594470046082949,
            0.3594470046082949,
            0.3594470046082949
           ],
           "yaxis": "y"
          },
          {
           "customdata": [
            [
             "Botswana",
             2014
            ],
            [
             "Botswana",
             2014
            ],
            [
             "Botswana",
             2014
            ],
            [
             "Botswana",
             2014
            ],
            [
             "Guinea-Bissau",
             2014
            ],
            [
             "Guinea-Bissau",
             2014
            ],
            [
             "Guinea-Bissau",
             2014
            ],
            [
             "Malawi",
             2014
            ],
            [
             "Malawi",
             2014
            ],
            [
             "Malawi",
             2014
            ],
            [
             "Malawi",
             2014
            ],
            [
             "Mauritius",
             2014
            ],
            [
             "Mauritius",
             2014
            ],
            [
             "Mauritius",
             2014
            ],
            [
             "Mauritius",
             2014
            ],
            [
             "Mauritius",
             2014
            ],
            [
             "Mozambique",
             2014
            ],
            [
             "Mozambique",
             2014
            ],
            [
             "Mozambique",
             2014
            ],
            [
             "Mozambique",
             2014
            ],
            [
             "Mozambique",
             2014
            ],
            [
             "Namibia",
             2014
            ],
            [
             "Namibia",
             2014
            ],
            [
             "Namibia",
             2014
            ],
            [
             "Namibia",
             2014
            ],
            [
             "South Africa",
             2014
            ],
            [
             "South Africa",
             2014
            ],
            [
             "South Africa",
             2014
            ]
           ],
           "hovertemplate": "region=Sub-Saharan Africa<br>year=%{customdata[1]}<br>democracy_index_score=%{x}<br>percent_W=%{marker.size}<br>country=%{customdata[0]}<extra></extra>",
           "legendgroup": "Sub-Saharan Africa",
           "marker": {
            "color": "rgb(225, 124, 5)",
            "size": [
             0.0952380952380952,
             0.0952380952380952,
             0.0952380952380952,
             0.0952380952380952,
             0.1372549019607843,
             0.1372549019607843,
             0.1372549019607843,
             0.1666666666666666,
             0.1666666666666666,
             0.1666666666666666,
             0.1666666666666666,
             0.1159420289855072,
             0.1159420289855072,
             0.1159420289855072,
             0.1159420289855072,
             0.1159420289855072,
             0.396,
             0.396,
             0.396,
             0.396,
             0.396,
             0.4615384615384615,
             0.4615384615384615,
             0.4615384615384615,
             0.4615384615384615,
             0.4282051282051282,
             0.4314720812182741,
             0.4381443298969072
            ],
            "sizemode": "area",
            "sizeref": 0.00153125,
            "symbol": "circle"
           },
           "mode": "markers",
           "name": "Sub-Saharan Africa",
           "orientation": "v",
           "showlegend": true,
           "type": "scatter",
           "x": [
            7.87,
            7.87,
            7.87,
            7.87,
            1.93,
            1.93,
            1.93,
            5.66,
            5.66,
            5.66,
            5.66,
            8.17,
            8.17,
            8.17,
            8.17,
            8.17,
            4.66,
            4.66,
            4.66,
            4.66,
            4.66,
            6.24,
            6.24,
            6.24,
            6.24,
            7.82,
            7.82,
            7.82
           ],
           "xaxis": "x",
           "y": [
            0.0952380952380952,
            0.0952380952380952,
            0.0952380952380952,
            0.0952380952380952,
            0.1372549019607843,
            0.1372549019607843,
            0.1372549019607843,
            0.1666666666666666,
            0.1666666666666666,
            0.1666666666666666,
            0.1666666666666666,
            0.1159420289855072,
            0.1159420289855072,
            0.1159420289855072,
            0.1159420289855072,
            0.1159420289855072,
            0.396,
            0.396,
            0.396,
            0.396,
            0.396,
            0.4615384615384615,
            0.4615384615384615,
            0.4615384615384615,
            0.4615384615384615,
            0.4282051282051282,
            0.4314720812182741,
            0.4381443298969072
           ],
           "yaxis": "y"
          }
         ],
         "name": "2014"
        },
        {
         "data": [
          {
           "customdata": [
            [
             "Canada",
             2015
            ],
            [
             "Canada",
             2015
            ],
            [
             "Canada",
             2015
            ],
            [
             "Canada",
             2015
            ],
            [
             "Canada",
             2015
            ]
           ],
           "hovertemplate": "region=North America<br>year=%{customdata[1]}<br>democracy_index_score=%{x}<br>percent_W=%{marker.size}<br>country=%{customdata[0]}<extra></extra>",
           "legendgroup": "North America",
           "marker": {
            "color": "rgb(95, 70, 144)",
            "size": [
             0.2694610778443114,
             0.2694610778443114,
             0.2694610778443114,
             0.2694610778443114,
             0.2694610778443114
            ],
            "sizemode": "area",
            "sizeref": 0.00153125,
            "symbol": "circle"
           },
           "mode": "markers",
           "name": "North America",
           "orientation": "v",
           "showlegend": true,
           "type": "scatter",
           "x": [
            9.08,
            9.08,
            9.08,
            9.08,
            9.08
           ],
           "xaxis": "x",
           "y": [
            0.2694610778443114,
            0.2694610778443114,
            0.2694610778443114,
            0.2694610778443114,
            0.2694610778443114
           ],
           "yaxis": "y"
          },
          {
           "customdata": [
            [
             "Denmark",
             2015
            ],
            [
             "Denmark",
             2015
            ],
            [
             "Denmark",
             2015
            ],
            [
             "Denmark",
             2015
            ],
            [
             "Finland",
             2015
            ],
            [
             "Finland",
             2015
            ],
            [
             "Greece",
             2015
            ],
            [
             "Greece",
             2015
            ],
            [
             "Greece",
             2015
            ],
            [
             "Portugal",
             2015
            ],
            [
             "Portugal",
             2015
            ],
            [
             "Portugal",
             2015
            ],
            [
             "Switzerland",
             2015
            ],
            [
             "Switzerland",
             2015
            ],
            [
             "Switzerland",
             2015
            ],
            [
             "Switzerland",
             2015
            ]
           ],
           "hovertemplate": "region=Western Europe<br>year=%{customdata[1]}<br>democracy_index_score=%{x}<br>percent_W=%{marker.size}<br>country=%{customdata[0]}<extra></extra>",
           "legendgroup": "Western Europe",
           "marker": {
            "color": "rgb(29, 105, 150)",
            "size": [
             0.3743016759776536,
             0.3743016759776536,
             0.3743016759776536,
             0.3743016759776536,
             0.415,
             0.415,
             0.1866666666666666,
             0.1866666666666666,
             0.1866666666666666,
             0.3478260869565217,
             0.3565217391304348,
             0.3478260869565217,
             0.325,
             0.325,
             0.325,
             0.325
            ],
            "sizemode": "area",
            "sizeref": 0.00153125,
            "symbol": "circle"
           },
           "mode": "markers",
           "name": "Western Europe",
           "orientation": "v",
           "showlegend": true,
           "type": "scatter",
           "x": [
            9.11,
            9.11,
            9.11,
            9.11,
            9.03,
            9.03,
            7.45,
            7.45,
            7.45,
            7.79,
            7.79,
            7.79,
            9.09,
            9.09,
            9.09,
            9.09
           ],
           "xaxis": "x",
           "y": [
            0.3743016759776536,
            0.3743016759776536,
            0.3743016759776536,
            0.3743016759776536,
            0.415,
            0.415,
            0.1866666666666666,
            0.1866666666666666,
            0.1866666666666666,
            0.3478260869565217,
            0.3565217391304348,
            0.3478260869565217,
            0.325,
            0.325,
            0.325,
            0.325
           ],
           "yaxis": "y"
          },
          {
           "customdata": [
            [
             "Azerbaijan",
             2015
            ],
            [
             "Azerbaijan",
             2015
            ],
            [
             "Azerbaijan",
             2015
            ],
            [
             "Azerbaijan",
             2015
            ],
            [
             "Azerbaijan",
             2015
            ],
            [
             "Azerbaijan",
             2015
            ],
            [
             "Estonia",
             2015
            ],
            [
             "Estonia",
             2015
            ],
            [
             "Kyrgyzstan",
             2015
            ],
            [
             "Kyrgyzstan",
             2015
            ],
            [
             "Kyrgyzstan",
             2015
            ],
            [
             "Kyrgyzstan",
             2015
            ],
            [
             "Kyrgyzstan",
             2015
            ],
            [
             "Kyrgyzstan",
             2015
            ],
            [
             "Kyrgyzstan",
             2015
            ],
            [
             "Kyrgyzstan",
             2015
            ],
            [
             "Kyrgyzstan",
             2015
            ],
            [
             "Kyrgyzstan",
             2015
            ],
            [
             "Kyrgyzstan",
             2015
            ],
            [
             "Poland",
             2015
            ],
            [
             "Poland",
             2015
            ],
            [
             "Poland",
             2015
            ],
            [
             "Poland",
             2015
            ],
            [
             "Tajikistan",
             2015
            ],
            [
             "Tajikistan",
             2015
            ],
            [
             "Tajikistan",
             2015
            ],
            [
             "Tajikistan",
             2015
            ],
            [
             "Tajikistan",
             2015
            ],
            [
             "Tajikistan",
             2015
            ],
            [
             "Tajikistan",
             2015
            ],
            [
             "Tajikistan",
             2015
            ]
           ],
           "hovertemplate": "region=Central and Eastern Europe<br>year=%{customdata[1]}<br>democracy_index_score=%{x}<br>percent_W=%{marker.size}<br>country=%{customdata[0]}<extra></extra>",
           "legendgroup": "Central and Eastern Europe",
           "marker": {
            "color": "rgb(56, 166, 165)",
            "size": [
             0.1680672268907563,
             0.1680672268907563,
             0.1680672268907563,
             0.1680672268907563,
             0.1680672268907563,
             0.1680672268907563,
             0.2871287128712871,
             0.2871287128712871,
             0.1916666666666666,
             0.1916666666666666,
             0.1916666666666666,
             0.1916666666666666,
             0.1916666666666666,
             0.1916666666666666,
             0.1916666666666666,
             0.1916666666666666,
             0.1916666666666666,
             0.1916666666666666,
             0.1916666666666666,
             0.2913043478260869,
             0.2913043478260869,
             0.2913043478260869,
             0.2913043478260869,
             0.1904761904761904,
             0.1904761904761904,
             0.1904761904761904,
             0.1904761904761904,
             0.1904761904761904,
             0.1904761904761904,
             0.1904761904761904,
             0.1904761904761904
            ],
            "sizemode": "area",
            "sizeref": 0.00153125,
            "symbol": "circle"
           },
           "mode": "markers",
           "name": "Central and Eastern Europe",
           "orientation": "v",
           "showlegend": true,
           "type": "scatter",
           "x": [
            2.71,
            2.71,
            2.71,
            2.71,
            2.71,
            2.71,
            7.85,
            7.85,
            5.33,
            5.33,
            5.33,
            5.33,
            5.33,
            5.33,
            5.33,
            5.33,
            5.33,
            5.33,
            5.33,
            7.09,
            7.09,
            7.09,
            7.09,
            1.95,
            1.95,
            1.95,
            1.95,
            1.95,
            1.95,
            1.95,
            1.95
           ],
           "xaxis": "x",
           "y": [
            0.1680672268907563,
            0.1680672268907563,
            0.1680672268907563,
            0.1680672268907563,
            0.1680672268907563,
            0.1680672268907563,
            0.2871287128712871,
            0.2871287128712871,
            0.1916666666666666,
            0.1916666666666666,
            0.1916666666666666,
            0.1916666666666666,
            0.1916666666666666,
            0.1916666666666666,
            0.1916666666666666,
            0.1916666666666666,
            0.1916666666666666,
            0.1916666666666666,
            0.1916666666666666,
            0.2913043478260869,
            0.2913043478260869,
            0.2913043478260869,
            0.2913043478260869,
            0.1904761904761904,
            0.1904761904761904,
            0.1904761904761904,
            0.1904761904761904,
            0.1904761904761904,
            0.1904761904761904,
            0.1904761904761904,
            0.1904761904761904
           ],
           "yaxis": "y"
          },
          {
           "customdata": [
            [
             "Guatemala",
             2015
            ],
            [
             "Guatemala",
             2015
            ],
            [
             "Guatemala",
             2015
            ],
            [
             "Guatemala",
             2015
            ],
            [
             "Guyana",
             2015
            ],
            [
             "Guyana",
             2015
            ],
            [
             "Guyana",
             2015
            ],
            [
             "Guyana",
             2015
            ],
            [
             "Haiti",
             2015
            ],
            [
             "Haiti",
             2015
            ],
            [
             "Haiti",
             2015
            ],
            [
             "Haiti",
             2015
            ],
            [
             "Suriname",
             2015
            ],
            [
             "Suriname",
             2015
            ],
            [
             "Suriname",
             2015
            ],
            [
             "Suriname",
             2015
            ],
            [
             "Suriname",
             2015
            ],
            [
             "Suriname",
             2015
            ],
            [
             "Trinidad and Tobago",
             2015
            ],
            [
             "Trinidad and Tobago",
             2015
            ],
            [
             "Trinidad and Tobago",
             2015
            ],
            [
             "Trinidad and Tobago",
             2015
            ]
           ],
           "hovertemplate": "region=Latin America and the Caribbean<br>year=%{customdata[1]}<br>democracy_index_score=%{x}<br>percent_W=%{marker.size}<br>country=%{customdata[0]}<extra></extra>",
           "legendgroup": "Latin America and the Caribbean",
           "marker": {
            "color": "rgb(15, 133, 84)",
            "size": [
             0.189873417721519,
             0.189873417721519,
             0.189873417721519,
             0.189873417721519,
             0.3188405797101449,
             0.3188405797101449,
             0.3478260869565217,
             0.3478260869565217,
             0.0254237288135593,
             0.0254237288135593,
             0.0254237288135593,
             0.0254237288135593,
             0.2941176470588235,
             0.3137254901960784,
             0.2941176470588235,
             0.3137254901960784,
             0.2941176470588235,
             0.3137254901960784,
             0.3095238095238095,
             0.3095238095238095,
             0.3095238095238095,
             0.3095238095238095
            ],
            "sizemode": "area",
            "sizeref": 0.00153125,
            "symbol": "circle"
           },
           "mode": "markers",
           "name": "Latin America and the Caribbean",
           "orientation": "v",
           "showlegend": true,
           "type": "scatter",
           "x": [
            5.92,
            5.92,
            5.92,
            5.92,
            6.05,
            6.05,
            6.05,
            6.05,
            3.94,
            3.94,
            3.94,
            3.94,
            6.77,
            6.77,
            6.77,
            6.77,
            6.77,
            6.77,
            7.1,
            7.1,
            7.1,
            7.1
           ],
           "xaxis": "x",
           "y": [
            0.189873417721519,
            0.189873417721519,
            0.189873417721519,
            0.189873417721519,
            0.3188405797101449,
            0.3188405797101449,
            0.3478260869565217,
            0.3478260869565217,
            0.0254237288135593,
            0.0254237288135593,
            0.0254237288135593,
            0.0254237288135593,
            0.2941176470588235,
            0.3137254901960784,
            0.2941176470588235,
            0.3137254901960784,
            0.2941176470588235,
            0.3137254901960784,
            0.3095238095238095,
            0.3095238095238095,
            0.3095238095238095,
            0.3095238095238095
           ],
           "yaxis": "y"
          },
          {
           "customdata": [
            [
             "Myanmar",
             2015
            ],
            [
             "Myanmar",
             2015
            ],
            [
             "Myanmar",
             2015
            ],
            [
             "Singapore",
             2015
            ],
            [
             "Singapore",
             2015
            ],
            [
             "Singapore",
             2015
            ],
            [
             "Singapore",
             2015
            ],
            [
             "Singapore",
             2015
            ],
            [
             "Singapore",
             2015
            ],
            [
             "Sri Lanka",
             2015
            ],
            [
             "Sri Lanka",
             2015
            ],
            [
             "Sri Lanka",
             2015
            ],
            [
             "Sri Lanka",
             2015
            ]
           ],
           "hovertemplate": "region=Asia and Australasia<br>year=%{customdata[1]}<br>democracy_index_score=%{x}<br>percent_W=%{marker.size}<br>country=%{customdata[0]}<extra></extra>",
           "legendgroup": "Asia and Australasia",
           "marker": {
            "color": "rgb(115, 175, 72)",
            "size": [
             0.1131639722863741,
             0.1111111111111111,
             0.1131639722863741,
             0.23,
             0.23,
             0.24,
             0.23,
             0.23,
             0.24,
             0.0533333333333333,
             0.0533333333333333,
             0.0533333333333333,
             0.0533333333333333
            ],
            "sizemode": "area",
            "sizeref": 0.00153125,
            "symbol": "circle"
           },
           "mode": "markers",
           "name": "Asia and Australasia",
           "orientation": "v",
           "showlegend": true,
           "type": "scatter",
           "x": [
            4.14,
            4.14,
            4.14,
            6.14,
            6.14,
            6.14,
            6.14,
            6.14,
            6.14,
            6.42,
            6.42,
            6.42,
            6.42
           ],
           "xaxis": "x",
           "y": [
            0.1131639722863741,
            0.1111111111111111,
            0.1131639722863741,
            0.23,
            0.23,
            0.24,
            0.23,
            0.23,
            0.24,
            0.0533333333333333,
            0.0533333333333333,
            0.0533333333333333,
            0.0533333333333333
           ],
           "yaxis": "y"
          },
          {
           "customdata": [
            [
             "Egypt",
             2015
            ],
            [
             "Egypt",
             2015
            ],
            [
             "Egypt",
             2015
            ],
            [
             "Egypt",
             2015
            ],
            [
             "Egypt",
             2015
            ],
            [
             "Egypt",
             2015
            ],
            [
             "Israel",
             2015
            ],
            [
             "Israel",
             2015
            ],
            [
             "Israel",
             2015
            ],
            [
             "Oman",
             2015
            ],
            [
             "Oman",
             2015
            ],
            [
             "Oman",
             2015
            ],
            [
             "Oman",
             2015
            ],
            [
             "Sudan",
             2015
            ],
            [
             "Sudan",
             2015
            ],
            [
             "United Arab Emirates",
             2015
            ],
            [
             "United Arab Emirates",
             2015
            ]
           ],
           "hovertemplate": "region=Middle East and North Africa<br>year=%{customdata[1]}<br>democracy_index_score=%{x}<br>percent_W=%{marker.size}<br>country=%{customdata[0]}<extra></extra>",
           "legendgroup": "Middle East and North Africa",
           "marker": {
            "color": "rgb(237, 173, 8)",
            "size": [
             0.1493288590604027,
             0.1510067114093959,
             0.1493288590604027,
             0.1510067114093959,
             0.1510067114093959,
             0.1510067114093959,
             0.2916666666666667,
             0.2916666666666667,
             0.2916666666666667,
             0.0117647058823529,
             0.0117647058823529,
             0.0117647058823529,
             0.0117647058823529,
             0.2765072765072765,
             0.2765072765072765,
             0.225,
             0.225
            ],
            "sizemode": "area",
            "sizeref": 0.00153125,
            "symbol": "circle"
           },
           "mode": "markers",
           "name": "Middle East and North Africa",
           "orientation": "v",
           "showlegend": true,
           "type": "scatter",
           "x": [
            3.18,
            3.18,
            3.18,
            3.18,
            3.18,
            3.18,
            7.77,
            7.77,
            7.77,
            3.04,
            3.04,
            3.04,
            3.04,
            2.37,
            2.37,
            2.75,
            2.75
           ],
           "xaxis": "x",
           "y": [
            0.1493288590604027,
            0.1510067114093959,
            0.1493288590604027,
            0.1510067114093959,
            0.1510067114093959,
            0.1510067114093959,
            0.2916666666666667,
            0.2916666666666667,
            0.2916666666666667,
            0.0117647058823529,
            0.0117647058823529,
            0.0117647058823529,
            0.0117647058823529,
            0.2765072765072765,
            0.2765072765072765,
            0.225,
            0.225
           ],
           "yaxis": "y"
          },
          {
           "customdata": [
            [
             "Benin",
             2015
            ],
            [
             "Benin",
             2015
            ],
            [
             "Benin",
             2015
            ],
            [
             "Burkina Faso",
             2015
            ],
            [
             "Burkina Faso",
             2015
            ],
            [
             "Burkina Faso",
             2015
            ],
            [
             "Burkina Faso",
             2015
            ],
            [
             "Burkina Faso",
             2015
            ],
            [
             "Burkina Faso",
             2015
            ],
            [
             "Burkina Faso",
             2015
            ],
            [
             "Burundi",
             2015
            ],
            [
             "Burundi",
             2015
            ],
            [
             "Burundi",
             2015
            ],
            [
             "Burundi",
             2015
            ],
            [
             "Burundi",
             2015
            ],
            [
             "Burundi",
             2015
            ],
            [
             "Burundi",
             2015
            ],
            [
             "Comoros",
             2015
            ],
            [
             "Comoros",
             2015
            ],
            [
             "Comoros",
             2015
            ],
            [
             "Comoros",
             2015
            ],
            [
             "Ethiopia",
             2015
            ],
            [
             "Ethiopia",
             2015
            ],
            [
             "Ethiopia",
             2015
            ],
            [
             "Ethiopia",
             2015
            ],
            [
             "Ethiopia",
             2015
            ],
            [
             "Ethiopia",
             2015
            ],
            [
             "Ethiopia",
             2015
            ],
            [
             "Ethiopia",
             2015
            ],
            [
             "Ethiopia",
             2015
            ],
            [
             "Ethiopia",
             2015
            ],
            [
             "Ethiopia",
             2015
            ],
            [
             "Ethiopia",
             2015
            ],
            [
             "Ethiopia",
             2015
            ],
            [
             "Nigeria",
             2015
            ],
            [
             "Nigeria",
             2015
            ]
           ],
           "hovertemplate": "region=Sub-Saharan Africa<br>year=%{customdata[1]}<br>democracy_index_score=%{x}<br>percent_W=%{marker.size}<br>country=%{customdata[0]}<extra></extra>",
           "legendgroup": "Sub-Saharan Africa",
           "marker": {
            "color": "rgb(225, 124, 5)",
            "size": [
             0.072289156626506,
             0.072289156626506,
             0.072289156626506,
             0.1338582677165354,
             0.1338582677165354,
             0.1338582677165354,
             0.1338582677165354,
             0.1338582677165354,
             0.1338582677165354,
             0.1338582677165354,
             0.3636363636363636,
             0.3636363636363636,
             0.3636363636363636,
             0.3636363636363636,
             0.3636363636363636,
             0.3636363636363636,
             0.3636363636363636,
             0.0606060606060606,
             0.0606060606060606,
             0.0606060606060606,
             0.0606060606060606,
             0.3875685557586837,
             0.3875685557586837,
             0.3875685557586837,
             0.3875685557586837,
             0.3875685557586837,
             0.3875685557586837,
             0.3875685557586837,
             0.3875685557586837,
             0.3875685557586837,
             0.3875685557586837,
             0.3875685557586837,
             0.3875685557586837,
             0.3875685557586837,
             0.0557103064066852,
             0.0557103064066852
            ],
            "sizemode": "area",
            "sizeref": 0.00153125,
            "symbol": "circle"
           },
           "mode": "markers",
           "name": "Sub-Saharan Africa",
           "orientation": "v",
           "showlegend": true,
           "type": "scatter",
           "x": [
            5.72,
            5.72,
            5.72,
            4.7,
            4.7,
            4.7,
            4.7,
            4.7,
            4.7,
            4.7,
            2.49,
            2.49,
            2.49,
            2.49,
            2.49,
            2.49,
            2.49,
            3.71,
            3.71,
            3.71,
            3.71,
            3.83,
            3.83,
            3.83,
            3.83,
            3.83,
            3.83,
            3.83,
            3.83,
            3.83,
            3.83,
            3.83,
            3.83,
            3.83,
            3.85,
            3.85
           ],
           "xaxis": "x",
           "y": [
            0.072289156626506,
            0.072289156626506,
            0.072289156626506,
            0.1338582677165354,
            0.1338582677165354,
            0.1338582677165354,
            0.1338582677165354,
            0.1338582677165354,
            0.1338582677165354,
            0.1338582677165354,
            0.3636363636363636,
            0.3636363636363636,
            0.3636363636363636,
            0.3636363636363636,
            0.3636363636363636,
            0.3636363636363636,
            0.3636363636363636,
            0.0606060606060606,
            0.0606060606060606,
            0.0606060606060606,
            0.0606060606060606,
            0.3875685557586837,
            0.3875685557586837,
            0.3875685557586837,
            0.3875685557586837,
            0.3875685557586837,
            0.3875685557586837,
            0.3875685557586837,
            0.3875685557586837,
            0.3875685557586837,
            0.3875685557586837,
            0.3875685557586837,
            0.3875685557586837,
            0.3875685557586837,
            0.0557103064066852,
            0.0557103064066852
           ],
           "yaxis": "y"
          }
         ],
         "name": "2015"
        },
        {
         "data": [
          {
           "customdata": [
            [
             "Cyprus",
             2016
            ],
            [
             "Cyprus",
             2016
            ],
            [
             "Cyprus",
             2016
            ],
            [
             "Cyprus",
             2016
            ],
            [
             "Cyprus",
             2016
            ],
            [
             "Cyprus",
             2016
            ],
            [
             "Cyprus",
             2016
            ],
            [
             "Cyprus",
             2016
            ],
            [
             "Cyprus",
             2016
            ],
            [
             "Cyprus",
             2016
            ],
            [
             "Cyprus",
             2016
            ],
            [
             "Cyprus",
             2016
            ],
            [
             "Cyprus",
             2016
            ],
            [
             "Ireland",
             2016
            ],
            [
             "Ireland",
             2016
            ],
            [
             "Ireland",
             2016
            ],
            [
             "Ireland",
             2016
            ],
            [
             "Ireland",
             2016
            ],
            [
             "Spain",
             2016
            ],
            [
             "Spain",
             2016
            ]
           ],
           "hovertemplate": "region=Western Europe<br>year=%{customdata[1]}<br>democracy_index_score=%{x}<br>percent_W=%{marker.size}<br>country=%{customdata[0]}<extra></extra>",
           "legendgroup": "Western Europe",
           "marker": {
            "color": "rgb(29, 105, 150)",
            "size": [
             0.1785714285714285,
             0.1964285714285714,
             0.1964285714285714,
             0.1785714285714285,
             0.1785714285714285,
             0.1964285714285714,
             0.2142857142857142,
             0.1785714285714285,
             0.1964285714285714,
             0.2142857142857142,
             0.1964285714285714,
             0.1785714285714285,
             0.1964285714285714,
             0.2215189873417721,
             0.2215189873417721,
             0.2088607594936709,
             0.2215189873417721,
             0.2215189873417721,
             0.4114285714285714,
             0.4114285714285714
            ],
            "sizemode": "area",
            "sizeref": 0.00153125,
            "symbol": "circle"
           },
           "mode": "markers",
           "name": "Western Europe",
           "orientation": "v",
           "showlegend": true,
           "type": "scatter",
           "x": [
            7.65,
            7.65,
            7.65,
            7.65,
            7.65,
            7.65,
            7.65,
            7.65,
            7.65,
            7.65,
            7.65,
            7.65,
            7.65,
            9.15,
            9.15,
            9.15,
            9.15,
            9.15,
            8.3,
            8.3
           ],
           "xaxis": "x",
           "y": [
            0.1785714285714285,
            0.1964285714285714,
            0.1964285714285714,
            0.1785714285714285,
            0.1785714285714285,
            0.1964285714285714,
            0.2142857142857142,
            0.1785714285714285,
            0.1964285714285714,
            0.2142857142857142,
            0.1964285714285714,
            0.1785714285714285,
            0.1964285714285714,
            0.2215189873417721,
            0.2215189873417721,
            0.2088607594936709,
            0.2215189873417721,
            0.2215189873417721,
            0.4114285714285714,
            0.4114285714285714
           ],
           "yaxis": "y"
          },
          {
           "customdata": [
            [
             "Belarus",
             2016
            ],
            [
             "Belarus",
             2016
            ],
            [
             "Belarus",
             2016
            ],
            [
             "Belarus",
             2016
            ],
            [
             "Belarus",
             2016
            ],
            [
             "Croatia",
             2016
            ],
            [
             "Croatia",
             2016
            ],
            [
             "Croatia",
             2016
            ],
            [
             "Croatia",
             2016
            ],
            [
             "Croatia",
             2016
            ],
            [
             "Croatia",
             2016
            ],
            [
             "Croatia",
             2016
            ],
            [
             "Croatia",
             2016
            ],
            [
             "Croatia",
             2016
            ],
            [
             "Georgia",
             2016
            ],
            [
             "Georgia",
             2016
            ],
            [
             "Georgia",
             2016
            ],
            [
             "Georgia",
             2016
            ],
            [
             "Georgia",
             2016
            ],
            [
             "Georgia",
             2016
            ],
            [
             "Georgia",
             2016
            ],
            [
             "Georgia",
             2016
            ],
            [
             "Georgia",
             2016
            ],
            [
             "Kazakhstan",
             2016
            ],
            [
             "Kazakhstan",
             2016
            ],
            [
             "Kazakhstan",
             2016
            ],
            [
             "Kazakhstan",
             2016
            ],
            [
             "Kazakhstan",
             2016
            ],
            [
             "Kazakhstan",
             2016
            ],
            [
             "Kazakhstan",
             2016
            ],
            [
             "Kazakhstan",
             2016
            ],
            [
             "Kazakhstan",
             2016
            ],
            [
             "Kazakhstan",
             2016
            ],
            [
             "Kazakhstan",
             2016
            ],
            [
             "Kazakhstan",
             2016
            ],
            [
             "Kazakhstan",
             2016
            ],
            [
             "Kazakhstan",
             2016
            ],
            [
             "Kazakhstan",
             2016
            ],
            [
             "Kazakhstan",
             2016
            ],
            [
             "Lithuania",
             2016
            ],
            [
             "Lithuania",
             2016
            ],
            [
             "Lithuania",
             2016
            ],
            [
             "Lithuania",
             2016
            ],
            [
             "Lithuania",
             2016
            ],
            [
             "Lithuania",
             2016
            ],
            [
             "Lithuania",
             2016
            ],
            [
             "Lithuania",
             2016
            ],
            [
             "Montenegro",
             2016
            ],
            [
             "Montenegro",
             2016
            ],
            [
             "Montenegro",
             2016
            ],
            [
             "Montenegro",
             2016
            ],
            [
             "Montenegro",
             2016
            ],
            [
             "Montenegro",
             2016
            ],
            [
             "Montenegro",
             2016
            ],
            [
             "Montenegro",
             2016
            ],
            [
             "North Macedonia",
             2016
            ],
            [
             "North Macedonia",
             2016
            ],
            [
             "North Macedonia",
             2016
            ],
            [
             "North Macedonia",
             2016
            ],
            [
             "North Macedonia",
             2016
            ],
            [
             "North Macedonia",
             2016
            ],
            [
             "North Macedonia",
             2016
            ],
            [
             "North Macedonia",
             2016
            ],
            [
             "North Macedonia",
             2016
            ],
            [
             "North Macedonia",
             2016
            ],
            [
             "North Macedonia",
             2016
            ],
            [
             "Romania",
             2016
            ],
            [
             "Romania",
             2016
            ],
            [
             "Romania",
             2016
            ],
            [
             "Romania",
             2016
            ],
            [
             "Romania",
             2016
            ],
            [
             "Romania",
             2016
            ],
            [
             "Romania",
             2016
            ],
            [
             "Romania",
             2016
            ],
            [
             "Romania",
             2016
            ],
            [
             "Romania",
             2016
            ],
            [
             "Romania",
             2016
            ],
            [
             "Romania",
             2016
            ],
            [
             "Romania",
             2016
            ],
            [
             "Romania",
             2016
            ],
            [
             "Romania",
             2016
            ],
            [
             "Serbia",
             2016
            ],
            [
             "Serbia",
             2016
            ],
            [
             "Serbia",
             2016
            ],
            [
             "Serbia",
             2016
            ],
            [
             "Serbia",
             2016
            ],
            [
             "Serbia",
             2016
            ],
            [
             "Serbia",
             2016
            ],
            [
             "Serbia",
             2016
            ],
            [
             "Serbia",
             2016
            ],
            [
             "Slovakia",
             2016
            ],
            [
             "Slovakia",
             2016
            ],
            [
             "Slovakia",
             2016
            ]
           ],
           "hovertemplate": "region=Central and Eastern Europe<br>year=%{customdata[1]}<br>democracy_index_score=%{x}<br>percent_W=%{marker.size}<br>country=%{customdata[0]}<extra></extra>",
           "legendgroup": "Central and Eastern Europe",
           "marker": {
            "color": "rgb(56, 166, 165)",
            "size": [
             0.3454545454545454,
             0.3454545454545454,
             0.3454545454545454,
             0.3454545454545454,
             0.3454545454545454,
             0.2052980132450331,
             0.2052980132450331,
             0.2052980132450331,
             0.1920529801324503,
             0.2052980132450331,
             0.1920529801324503,
             0.2052980132450331,
             0.2052980132450331,
             0.1920529801324503,
             0.1476510067114094,
             0.1409395973154362,
             0.1476510067114094,
             0.1476510067114094,
             0.1409395973154362,
             0.1476510067114094,
             0.1409395973154362,
             0.1476510067114094,
             0.1476510067114094,
             0.2710280373831775,
             0.2710280373831775,
             0.2710280373831775,
             0.2710280373831775,
             0.2710280373831775,
             0.2710280373831775,
             0.2710280373831775,
             0.2710280373831775,
             0.2710280373831775,
             0.2710280373831775,
             0.2710280373831775,
             0.2710280373831775,
             0.2710280373831775,
             0.2710280373831775,
             0.2710280373831775,
             0.2710280373831775,
             0.2127659574468085,
             0.2411347517730496,
             0.2127659574468085,
             0.2411347517730496,
             0.2127659574468085,
             0.2411347517730496,
             0.2127659574468085,
             0.2411347517730496,
             0.2345679012345679,
             0.2839506172839506,
             0.2345679012345679,
             0.2962962962962963,
             0.2962962962962963,
             0.2345679012345679,
             0.2345679012345679,
             0.2962962962962963,
             0.3916666666666666,
             0.3916666666666666,
             0.3916666666666666,
             0.3833333333333333,
             0.4,
             0.3833333333333333,
             0.3833333333333333,
             0.3833333333333333,
             0.3833333333333333,
             0.3833333333333333,
             0.3916666666666666,
             0.2066869300911854,
             0.2188449848024316,
             0.2188449848024316,
             0.2188449848024316,
             0.2066869300911854,
             0.2188449848024316,
             0.2066869300911854,
             0.2188449848024316,
             0.2066869300911854,
             0.2188449848024316,
             0.2066869300911854,
             0.2188449848024316,
             0.2066869300911854,
             0.2188449848024316,
             0.2188449848024316,
             0.3765182186234818,
             0.3765182186234818,
             0.3765182186234818,
             0.3765182186234818,
             0.3765182186234818,
             0.3765182186234818,
             0.3765182186234818,
             0.3765182186234818,
             0.3765182186234818,
             0.2,
             0.2,
             0.2066666666666666
            ],
            "sizemode": "area",
            "sizeref": 0.00153125,
            "symbol": "circle"
           },
           "mode": "markers",
           "name": "Central and Eastern Europe",
           "orientation": "v",
           "showlegend": true,
           "type": "scatter",
           "x": [
            3.54,
            3.54,
            3.54,
            3.54,
            3.54,
            6.75,
            6.75,
            6.75,
            6.75,
            6.75,
            6.75,
            6.75,
            6.75,
            6.75,
            5.93,
            5.93,
            5.93,
            5.93,
            5.93,
            5.93,
            5.93,
            5.93,
            5.93,
            3.06,
            3.06,
            3.06,
            3.06,
            3.06,
            3.06,
            3.06,
            3.06,
            3.06,
            3.06,
            3.06,
            3.06,
            3.06,
            3.06,
            3.06,
            3.06,
            7.47,
            7.47,
            7.47,
            7.47,
            7.47,
            7.47,
            7.47,
            7.47,
            5.72,
            5.72,
            5.72,
            5.72,
            5.72,
            5.72,
            5.72,
            5.72,
            5.23,
            5.23,
            5.23,
            5.23,
            5.23,
            5.23,
            5.23,
            5.23,
            5.23,
            5.23,
            5.23,
            6.62,
            6.62,
            6.62,
            6.62,
            6.62,
            6.62,
            6.62,
            6.62,
            6.62,
            6.62,
            6.62,
            6.62,
            6.62,
            6.62,
            6.62,
            6.57,
            6.57,
            6.57,
            6.57,
            6.57,
            6.57,
            6.57,
            6.57,
            6.57,
            7.29,
            7.29,
            7.29
           ],
           "xaxis": "x",
           "y": [
            0.3454545454545454,
            0.3454545454545454,
            0.3454545454545454,
            0.3454545454545454,
            0.3454545454545454,
            0.2052980132450331,
            0.2052980132450331,
            0.2052980132450331,
            0.1920529801324503,
            0.2052980132450331,
            0.1920529801324503,
            0.2052980132450331,
            0.2052980132450331,
            0.1920529801324503,
            0.1476510067114094,
            0.1409395973154362,
            0.1476510067114094,
            0.1476510067114094,
            0.1409395973154362,
            0.1476510067114094,
            0.1409395973154362,
            0.1476510067114094,
            0.1476510067114094,
            0.2710280373831775,
            0.2710280373831775,
            0.2710280373831775,
            0.2710280373831775,
            0.2710280373831775,
            0.2710280373831775,
            0.2710280373831775,
            0.2710280373831775,
            0.2710280373831775,
            0.2710280373831775,
            0.2710280373831775,
            0.2710280373831775,
            0.2710280373831775,
            0.2710280373831775,
            0.2710280373831775,
            0.2710280373831775,
            0.2127659574468085,
            0.2411347517730496,
            0.2127659574468085,
            0.2411347517730496,
            0.2127659574468085,
            0.2411347517730496,
            0.2127659574468085,
            0.2411347517730496,
            0.2345679012345679,
            0.2839506172839506,
            0.2345679012345679,
            0.2962962962962963,
            0.2962962962962963,
            0.2345679012345679,
            0.2345679012345679,
            0.2962962962962963,
            0.3916666666666666,
            0.3916666666666666,
            0.3916666666666666,
            0.3833333333333333,
            0.4,
            0.3833333333333333,
            0.3833333333333333,
            0.3833333333333333,
            0.3833333333333333,
            0.3833333333333333,
            0.3916666666666666,
            0.2066869300911854,
            0.2188449848024316,
            0.2188449848024316,
            0.2188449848024316,
            0.2066869300911854,
            0.2188449848024316,
            0.2066869300911854,
            0.2188449848024316,
            0.2066869300911854,
            0.2188449848024316,
            0.2066869300911854,
            0.2188449848024316,
            0.2066869300911854,
            0.2188449848024316,
            0.2188449848024316,
            0.3765182186234818,
            0.3765182186234818,
            0.3765182186234818,
            0.3765182186234818,
            0.3765182186234818,
            0.3765182186234818,
            0.3765182186234818,
            0.3765182186234818,
            0.3765182186234818,
            0.2,
            0.2,
            0.2066666666666666
           ],
           "yaxis": "y"
          },
          {
           "customdata": [
            [
             "Dominican Republic",
             2016
            ],
            [
             "Dominican Republic",
             2016
            ],
            [
             "Dominican Republic",
             2016
            ],
            [
             "Dominican Republic",
             2016
            ],
            [
             "Dominican Republic",
             2016
            ],
            [
             "Dominican Republic",
             2016
            ],
            [
             "Dominican Republic",
             2016
            ],
            [
             "Jamaica",
             2016
            ],
            [
             "Jamaica",
             2016
            ],
            [
             "Jamaica",
             2016
            ],
            [
             "Jamaica",
             2016
            ],
            [
             "Jamaica",
             2016
            ],
            [
             "Jamaica",
             2016
            ],
            [
             "Jamaica",
             2016
            ],
            [
             "Jamaica",
             2016
            ],
            [
             "Jamaica",
             2016
            ],
            [
             "Nicaragua",
             2016
            ],
            [
             "Nicaragua",
             2016
            ],
            [
             "Nicaragua",
             2016
            ],
            [
             "Nicaragua",
             2016
            ],
            [
             "Nicaragua",
             2016
            ],
            [
             "Nicaragua",
             2016
            ],
            [
             "Nicaragua",
             2016
            ],
            [
             "Nicaragua",
             2016
            ],
            [
             "Peru",
             2016
            ],
            [
             "Peru",
             2016
            ]
           ],
           "hovertemplate": "region=Latin America and the Caribbean<br>year=%{customdata[1]}<br>democracy_index_score=%{x}<br>percent_W=%{marker.size}<br>country=%{customdata[0]}<extra></extra>",
           "legendgroup": "Latin America and the Caribbean",
           "marker": {
            "color": "rgb(15, 133, 84)",
            "size": [
             0.2684210526315789,
             0.2684210526315789,
             0.2684210526315789,
             0.2789473684210526,
             0.2684210526315789,
             0.2789473684210526,
             0.2684210526315789,
             0.1746031746031746,
             0.1746031746031746,
             0.1746031746031746,
             0.1746031746031746,
             0.1746031746031746,
             0.1746031746031746,
             0.1746031746031746,
             0.1746031746031746,
             0.1746031746031746,
             0.4456521739130434,
             0.4725274725274725,
             0.5054945054945055,
             0.4456521739130434,
             0.4456521739130434,
             0.4835164835164835,
             0.4456521739130434,
             0.4456521739130434,
             0.3,
             0.3
            ],
            "sizemode": "area",
            "sizeref": 0.00153125,
            "symbol": "circle"
           },
           "mode": "markers",
           "name": "Latin America and the Caribbean",
           "orientation": "v",
           "showlegend": true,
           "type": "scatter",
           "x": [
            6.67,
            6.67,
            6.67,
            6.67,
            6.67,
            6.67,
            6.67,
            7.39,
            7.39,
            7.39,
            7.39,
            7.39,
            7.39,
            7.39,
            7.39,
            7.39,
            4.81,
            4.81,
            4.81,
            4.81,
            4.81,
            4.81,
            4.81,
            4.81,
            6.65,
            6.65
           ],
           "xaxis": "x",
           "y": [
            0.2684210526315789,
            0.2684210526315789,
            0.2684210526315789,
            0.2789473684210526,
            0.2684210526315789,
            0.2789473684210526,
            0.2684210526315789,
            0.1746031746031746,
            0.1746031746031746,
            0.1746031746031746,
            0.1746031746031746,
            0.1746031746031746,
            0.1746031746031746,
            0.1746031746031746,
            0.1746031746031746,
            0.1746031746031746,
            0.4456521739130434,
            0.4725274725274725,
            0.5054945054945055,
            0.4456521739130434,
            0.4456521739130434,
            0.4835164835164835,
            0.4456521739130434,
            0.4456521739130434,
            0.3,
            0.3
           ],
           "yaxis": "y"
          },
          {
           "customdata": [
            [
             "Australia",
             2016
            ],
            [
             "Australia",
             2016
            ],
            [
             "Mongolia",
             2016
            ],
            [
             "Mongolia",
             2016
            ],
            [
             "Mongolia",
             2016
            ],
            [
             "Mongolia",
             2016
            ],
            [
             "Mongolia",
             2016
            ],
            [
             "Mongolia",
             2016
            ],
            [
             "Mongolia",
             2016
            ],
            [
             "Mongolia",
             2016
            ],
            [
             "Philippines",
             2016
            ],
            [
             "Philippines",
             2016
            ],
            [
             "Philippines",
             2016
            ]
           ],
           "hovertemplate": "region=Asia and Australasia<br>year=%{customdata[1]}<br>democracy_index_score=%{x}<br>percent_W=%{marker.size}<br>country=%{customdata[0]}<extra></extra>",
           "legendgroup": "Asia and Australasia",
           "marker": {
            "color": "rgb(115, 175, 72)",
            "size": [
             0.3,
             0.3,
             0.1710526315789473,
             0.1733333333333333,
             0.1733333333333333,
             0.1710526315789473,
             0.1710526315789473,
             0.1710526315789473,
             0.1733333333333333,
             0.1733333333333333,
             0.2945205479452055,
             0.2945205479452055,
             0.2945205479452055
            ],
            "sizemode": "area",
            "sizeref": 0.00153125,
            "symbol": "circle"
           },
           "mode": "markers",
           "name": "Asia and Australasia",
           "orientation": "v",
           "showlegend": true,
           "type": "scatter",
           "x": [
            9.01,
            9.01,
            6.62,
            6.62,
            6.62,
            6.62,
            6.62,
            6.62,
            6.62,
            6.62,
            6.94,
            6.94,
            6.94
           ],
           "xaxis": "x",
           "y": [
            0.3,
            0.3,
            0.1710526315789473,
            0.1733333333333333,
            0.1733333333333333,
            0.1710526315789473,
            0.1710526315789473,
            0.1710526315789473,
            0.1733333333333333,
            0.1733333333333333,
            0.2945205479452055,
            0.2945205479452055,
            0.2945205479452055
           ],
           "yaxis": "y"
          },
          {
           "customdata": [
            [
             "Jordan",
             2016
            ],
            [
             "Jordan",
             2016
            ],
            [
             "Jordan",
             2016
            ],
            [
             "Jordan",
             2016
            ],
            [
             "Jordan",
             2016
            ],
            [
             "Jordan",
             2016
            ],
            [
             "Jordan",
             2016
            ],
            [
             "Jordan",
             2016
            ],
            [
             "Kuwait",
             2016
            ],
            [
             "Kuwait",
             2016
            ],
            [
             "Kuwait",
             2016
            ],
            [
             "Kuwait",
             2016
            ],
            [
             "Kuwait",
             2016
            ],
            [
             "Kuwait",
             2016
            ],
            [
             "Kuwait",
             2016
            ],
            [
             "Morocco",
             2016
            ],
            [
             "Morocco",
             2016
            ],
            [
             "Morocco",
             2016
            ],
            [
             "Morocco",
             2016
            ],
            [
             "Morocco",
             2016
            ],
            [
             "Morocco",
             2016
            ],
            [
             "Morocco",
             2016
            ],
            [
             "Morocco",
             2016
            ],
            [
             "Morocco",
             2016
            ],
            [
             "Morocco",
             2016
            ],
            [
             "Morocco",
             2016
            ],
            [
             "Morocco",
             2016
            ],
            [
             "Qatar",
             2016
            ],
            [
             "Qatar",
             2016
            ],
            [
             "Qatar",
             2016
            ],
            [
             "Qatar",
             2016
            ],
            [
             "Saudi Arabia",
             2016
            ],
            [
             "Saudi Arabia",
             2016
            ],
            [
             "Saudi Arabia",
             2016
            ],
            [
             "Saudi Arabia",
             2016
            ],
            [
             "Saudi Arabia",
             2016
            ],
            [
             "Saudi Arabia",
             2016
            ],
            [
             "Saudi Arabia",
             2016
            ],
            [
             "Saudi Arabia",
             2016
            ],
            [
             "Saudi Arabia",
             2016
            ],
            [
             "Saudi Arabia",
             2016
            ],
            [
             "Saudi Arabia",
             2016
            ],
            [
             "Saudi Arabia",
             2016
            ]
           ],
           "hovertemplate": "region=Middle East and North Africa<br>year=%{customdata[1]}<br>democracy_index_score=%{x}<br>percent_W=%{marker.size}<br>country=%{customdata[0]}<extra></extra>",
           "legendgroup": "Middle East and North Africa",
           "marker": {
            "color": "rgb(237, 173, 8)",
            "size": [
             0.1538461538461538,
             0.1538461538461538,
             0.1538461538461538,
             0.1538461538461538,
             0.1538461538461538,
             0.1538461538461538,
             0.1538461538461538,
             0.1538461538461538,
             0.0461538461538461,
             0.0634920634920634,
             0.0634920634920634,
             0.0461538461538461,
             0.0634920634920634,
             0.0461538461538461,
             0.0461538461538461,
             0.2050632911392405,
             0.2050632911392405,
             0.2050632911392405,
             0.2050632911392405,
             0.2050632911392405,
             0.2050632911392405,
             0.2050632911392405,
             0.2050632911392405,
             0.2050632911392405,
             0.2050632911392405,
             0.2050632911392405,
             0.2050632911392405,
             0.0975609756097561,
             0.0975609756097561,
             0.0975609756097561,
             0.0975609756097561,
             0.1986754966887417,
             0.1986754966887417,
             0.1986754966887417,
             0.1986754966887417,
             0.1986754966887417,
             0.1986754966887417,
             0.1986754966887417,
             0.1986754966887417,
             0.1986754966887417,
             0.1986754966887417,
             0.1986754966887417,
             0.1986754966887417
            ],
            "sizemode": "area",
            "sizeref": 0.00153125,
            "symbol": "circle"
           },
           "mode": "markers",
           "name": "Middle East and North Africa",
           "orientation": "v",
           "showlegend": true,
           "type": "scatter",
           "x": [
            3.96,
            3.96,
            3.96,
            3.96,
            3.96,
            3.96,
            3.96,
            3.96,
            3.85,
            3.85,
            3.85,
            3.85,
            3.85,
            3.85,
            3.85,
            4.77,
            4.77,
            4.77,
            4.77,
            4.77,
            4.77,
            4.77,
            4.77,
            4.77,
            4.77,
            4.77,
            4.77,
            3.18,
            3.18,
            3.18,
            3.18,
            1.93,
            1.93,
            1.93,
            1.93,
            1.93,
            1.93,
            1.93,
            1.93,
            1.93,
            1.93,
            1.93,
            1.93
           ],
           "xaxis": "x",
           "y": [
            0.1538461538461538,
            0.1538461538461538,
            0.1538461538461538,
            0.1538461538461538,
            0.1538461538461538,
            0.1538461538461538,
            0.1538461538461538,
            0.1538461538461538,
            0.0461538461538461,
            0.0634920634920634,
            0.0634920634920634,
            0.0461538461538461,
            0.0634920634920634,
            0.0461538461538461,
            0.0461538461538461,
            0.2050632911392405,
            0.2050632911392405,
            0.2050632911392405,
            0.2050632911392405,
            0.2050632911392405,
            0.2050632911392405,
            0.2050632911392405,
            0.2050632911392405,
            0.2050632911392405,
            0.2050632911392405,
            0.2050632911392405,
            0.2050632911392405,
            0.0975609756097561,
            0.0975609756097561,
            0.0975609756097561,
            0.0975609756097561,
            0.1986754966887417,
            0.1986754966887417,
            0.1986754966887417,
            0.1986754966887417,
            0.1986754966887417,
            0.1986754966887417,
            0.1986754966887417,
            0.1986754966887417,
            0.1986754966887417,
            0.1986754966887417,
            0.1986754966887417,
            0.1986754966887417
           ],
           "yaxis": "y"
          },
          {
           "customdata": [
            [
             "Central African Republic",
             2016
            ],
            [
             "Central African Republic",
             2016
            ],
            [
             "Central African Republic",
             2016
            ],
            [
             "Central African Republic",
             2016
            ],
            [
             "Central African Republic",
             2016
            ],
            [
             "Ghana",
             2016
            ],
            [
             "Ghana",
             2016
            ],
            [
             "Ghana",
             2016
            ],
            [
             "Ghana",
             2016
            ],
            [
             "Ghana",
             2016
            ],
            [
             "Ghana",
             2016
            ],
            [
             "Niger",
             2016
            ],
            [
             "Niger",
             2016
            ],
            [
             "Niger",
             2016
            ],
            [
             "Niger",
             2016
            ],
            [
             "Niger",
             2016
            ],
            [
             "Niger",
             2016
            ],
            [
             "Niger",
             2016
            ],
            [
             "Niger",
             2016
            ],
            [
             "Niger",
             2016
            ],
            [
             "Niger",
             2016
            ],
            [
             "Uganda",
             2016
            ],
            [
             "Uganda",
             2016
            ],
            [
             "Uganda",
             2016
            ],
            [
             "Uganda",
             2016
            ],
            [
             "Uganda",
             2016
            ],
            [
             "Uganda",
             2016
            ],
            [
             "Uganda",
             2016
            ],
            [
             "Zambia",
             2016
            ],
            [
             "Zambia",
             2016
            ],
            [
             "Zambia",
             2016
            ],
            [
             "Zambia",
             2016
            ],
            [
             "Zambia",
             2016
            ],
            [
             "Zambia",
             2016
            ],
            [
             "Zambia",
             2016
            ],
            [
             "Zambia",
             2016
            ],
            [
             "Zambia",
             2016
            ],
            [
             "Zambia",
             2016
            ],
            [
             "Zambia",
             2016
            ],
            [
             "Zambia",
             2016
            ]
           ],
           "hovertemplate": "region=Sub-Saharan Africa<br>year=%{customdata[1]}<br>democracy_index_score=%{x}<br>percent_W=%{marker.size}<br>country=%{customdata[0]}<extra></extra>",
           "legendgroup": "Sub-Saharan Africa",
           "marker": {
            "color": "rgb(225, 124, 5)",
            "size": [
             0.0857142857142857,
             0.0857142857142857,
             0.0857142857142857,
             0.0857142857142857,
             0.0857142857142857,
             0.1309090909090909,
             0.1309090909090909,
             0.1309090909090909,
             0.1309090909090909,
             0.1309090909090909,
             0.1309090909090909,
             0.1695906432748538,
             0.1695906432748538,
             0.1695906432748538,
             0.1695906432748538,
             0.1695906432748538,
             0.1695906432748538,
             0.1695906432748538,
             0.1695906432748538,
             0.1695906432748538,
             0.1695906432748538,
             0.3485838779956427,
             0.3485838779956427,
             0.3485838779956427,
             0.3485838779956427,
             0.3485838779956427,
             0.3485838779956427,
             0.3485838779956427,
             0.1796407185628742,
             0.1676646706586826,
             0.1676646706586826,
             0.1796407185628742,
             0.1676646706586826,
             0.1796407185628742,
             0.1676646706586826,
             0.1796407185628742,
             0.1676646706586826,
             0.1676646706586826,
             0.1796407185628742,
             0.1676646706586826
            ],
            "sizemode": "area",
            "sizeref": 0.00153125,
            "symbol": "circle"
           },
           "mode": "markers",
           "name": "Sub-Saharan Africa",
           "orientation": "v",
           "showlegend": true,
           "type": "scatter",
           "x": [
            1.61,
            1.61,
            1.61,
            1.61,
            1.61,
            6.75,
            6.75,
            6.75,
            6.75,
            6.75,
            6.75,
            3.96,
            3.96,
            3.96,
            3.96,
            3.96,
            3.96,
            3.96,
            3.96,
            3.96,
            3.96,
            5.26,
            5.26,
            5.26,
            5.26,
            5.26,
            5.26,
            5.26,
            5.99,
            5.99,
            5.99,
            5.99,
            5.99,
            5.99,
            5.99,
            5.99,
            5.99,
            5.99,
            5.99,
            5.99
           ],
           "xaxis": "x",
           "y": [
            0.0857142857142857,
            0.0857142857142857,
            0.0857142857142857,
            0.0857142857142857,
            0.0857142857142857,
            0.1309090909090909,
            0.1309090909090909,
            0.1309090909090909,
            0.1309090909090909,
            0.1309090909090909,
            0.1309090909090909,
            0.1695906432748538,
            0.1695906432748538,
            0.1695906432748538,
            0.1695906432748538,
            0.1695906432748538,
            0.1695906432748538,
            0.1695906432748538,
            0.1695906432748538,
            0.1695906432748538,
            0.1695906432748538,
            0.3485838779956427,
            0.3485838779956427,
            0.3485838779956427,
            0.3485838779956427,
            0.3485838779956427,
            0.3485838779956427,
            0.3485838779956427,
            0.1796407185628742,
            0.1676646706586826,
            0.1676646706586826,
            0.1796407185628742,
            0.1676646706586826,
            0.1796407185628742,
            0.1676646706586826,
            0.1796407185628742,
            0.1676646706586826,
            0.1676646706586826,
            0.1796407185628742,
            0.1676646706586826
           ],
           "yaxis": "y"
          }
         ],
         "name": "2016"
        },
        {
         "data": [
          {
           "customdata": [
            [
             "Austria",
             2017
            ],
            [
             "Austria",
             2017
            ],
            [
             "Austria",
             2017
            ],
            [
             "Austria",
             2017
            ],
            [
             "France",
             2017
            ],
            [
             "France",
             2017
            ],
            [
             "France",
             2017
            ],
            [
             "France",
             2017
            ],
            [
             "France",
             2017
            ],
            [
             "France",
             2017
            ],
            [
             "France",
             2017
            ],
            [
             "France",
             2017
            ],
            [
             "France",
             2017
            ],
            [
             "France",
             2017
            ],
            [
             "France",
             2017
            ],
            [
             "France",
             2017
            ],
            [
             "France",
             2017
            ],
            [
             "France",
             2017
            ],
            [
             "France",
             2017
            ],
            [
             "France",
             2017
            ],
            [
             "France",
             2017
            ],
            [
             "France",
             2017
            ],
            [
             "Germany",
             2017
            ],
            [
             "Germany",
             2017
            ],
            [
             "Germany",
             2017
            ],
            [
             "Germany",
             2017
            ],
            [
             "Germany",
             2017
            ],
            [
             "Germany",
             2017
            ],
            [
             "Germany",
             2017
            ],
            [
             "Germany",
             2017
            ],
            [
             "Germany",
             2017
            ],
            [
             "Germany",
             2017
            ],
            [
             "Germany",
             2017
            ],
            [
             "Iceland",
             2017
            ],
            [
             "Iceland",
             2017
            ],
            [
             "Iceland",
             2017
            ],
            [
             "Iceland",
             2017
            ],
            [
             "Iceland",
             2017
            ],
            [
             "Iceland",
             2017
            ],
            [
             "Iceland",
             2017
            ],
            [
             "Iceland",
             2017
            ],
            [
             "Iceland",
             2017
            ],
            [
             "Iceland",
             2017
            ],
            [
             "Iceland",
             2017
            ],
            [
             "Iceland",
             2017
            ],
            [
             "Iceland",
             2017
            ],
            [
             "Iceland",
             2017
            ],
            [
             "Malta",
             2017
            ],
            [
             "Malta",
             2017
            ],
            [
             "Malta",
             2017
            ],
            [
             "Malta",
             2017
            ],
            [
             "Malta",
             2017
            ],
            [
             "Malta",
             2017
            ],
            [
             "Malta",
             2017
            ],
            [
             "Netherlands",
             2017
            ],
            [
             "Netherlands",
             2017
            ],
            [
             "Netherlands",
             2017
            ],
            [
             "Netherlands",
             2017
            ],
            [
             "Netherlands",
             2017
            ],
            [
             "Norway",
             2017
            ],
            [
             "Norway",
             2017
            ],
            [
             "Norway",
             2017
            ],
            [
             "Norway",
             2017
            ],
            [
             "Norway",
             2017
            ],
            [
             "Norway",
             2017
            ],
            [
             "Norway",
             2017
            ],
            [
             "Norway",
             2017
            ],
            [
             "Norway",
             2017
            ],
            [
             "United Kingdom",
             2017
            ],
            [
             "United Kingdom",
             2017
            ]
           ],
           "hovertemplate": "region=Western Europe<br>year=%{customdata[1]}<br>democracy_index_score=%{x}<br>percent_W=%{marker.size}<br>country=%{customdata[0]}<extra></extra>",
           "legendgroup": "Western Europe",
           "marker": {
            "color": "rgb(29, 105, 150)",
            "size": [
             0.3715846994535519,
             0.3715846994535519,
             0.3715846994535519,
             0.3715846994535519,
             0.3968804159445407,
             0.3951473136915078,
             0.3951473136915078,
             0.3968804159445407,
             0.3968804159445407,
             0.3968804159445407,
             0.3951473136915078,
             0.3951473136915078,
             0.3951473136915078,
             0.3968804159445407,
             0.3951473136915078,
             0.3951473136915078,
             0.3968804159445407,
             0.3968804159445407,
             0.3951473136915078,
             0.3951473136915078,
             0.3951473136915078,
             0.3951473136915078,
             0.308885754583921,
             0.311706629055007,
             0.308885754583921,
             0.308885754583921,
             0.3145275035260931,
             0.311706629055007,
             0.3145275035260931,
             0.3145275035260931,
             0.3145275035260931,
             0.3145275035260931,
             0.3145275035260931,
             0.3809523809523809,
             0.3809523809523809,
             0.3809523809523809,
             0.3809523809523809,
             0.3809523809523809,
             0.3809523809523809,
             0.3968253968253968,
             0.3809523809523809,
             0.3809523809523809,
             0.3809523809523809,
             0.3809523809523809,
             0.3809523809523809,
             0.3809523809523809,
             0.3809523809523809,
             0.1492537313432835,
             0.1343283582089552,
             0.1343283582089552,
             0.1343283582089552,
             0.1194029850746268,
             0.1194029850746268,
             0.1343283582089552,
             0.3133333333333333,
             0.3333333333333333,
             0.3133333333333333,
             0.3133333333333333,
             0.3133333333333333,
             0.408284023668639,
             0.4142011834319526,
             0.4142011834319526,
             0.408284023668639,
             0.4142011834319526,
             0.4437869822485207,
             0.408284023668639,
             0.408284023668639,
             0.408284023668639,
             0.32,
             0.32
            ],
            "sizemode": "area",
            "sizeref": 0.00153125,
            "symbol": "circle"
           },
           "mode": "markers",
           "name": "Western Europe",
           "orientation": "v",
           "showlegend": true,
           "type": "scatter",
           "x": [
            8.42,
            8.42,
            8.42,
            8.42,
            7.8,
            7.8,
            7.8,
            7.8,
            7.8,
            7.8,
            7.8,
            7.8,
            7.8,
            7.8,
            7.8,
            7.8,
            7.8,
            7.8,
            7.8,
            7.8,
            7.8,
            7.8,
            8.61,
            8.61,
            8.61,
            8.61,
            8.61,
            8.61,
            8.61,
            8.61,
            8.61,
            8.61,
            8.61,
            9.58,
            9.58,
            9.58,
            9.58,
            9.58,
            9.58,
            9.58,
            9.58,
            9.58,
            9.58,
            9.58,
            9.58,
            9.58,
            9.58,
            8.15,
            8.15,
            8.15,
            8.15,
            8.15,
            8.15,
            8.15,
            8.89,
            8.89,
            8.89,
            8.89,
            8.89,
            9.87,
            9.87,
            9.87,
            9.87,
            9.87,
            9.87,
            9.87,
            9.87,
            9.87,
            8.53,
            8.53
           ],
           "xaxis": "x",
           "y": [
            0.3715846994535519,
            0.3715846994535519,
            0.3715846994535519,
            0.3715846994535519,
            0.3968804159445407,
            0.3951473136915078,
            0.3951473136915078,
            0.3968804159445407,
            0.3968804159445407,
            0.3968804159445407,
            0.3951473136915078,
            0.3951473136915078,
            0.3951473136915078,
            0.3968804159445407,
            0.3951473136915078,
            0.3951473136915078,
            0.3968804159445407,
            0.3968804159445407,
            0.3951473136915078,
            0.3951473136915078,
            0.3951473136915078,
            0.3951473136915078,
            0.308885754583921,
            0.311706629055007,
            0.308885754583921,
            0.308885754583921,
            0.3145275035260931,
            0.311706629055007,
            0.3145275035260931,
            0.3145275035260931,
            0.3145275035260931,
            0.3145275035260931,
            0.3145275035260931,
            0.3809523809523809,
            0.3809523809523809,
            0.3809523809523809,
            0.3809523809523809,
            0.3809523809523809,
            0.3809523809523809,
            0.3968253968253968,
            0.3809523809523809,
            0.3809523809523809,
            0.3809523809523809,
            0.3809523809523809,
            0.3809523809523809,
            0.3809523809523809,
            0.3809523809523809,
            0.1492537313432835,
            0.1343283582089552,
            0.1343283582089552,
            0.1343283582089552,
            0.1194029850746268,
            0.1194029850746268,
            0.1343283582089552,
            0.3133333333333333,
            0.3333333333333333,
            0.3133333333333333,
            0.3133333333333333,
            0.3133333333333333,
            0.408284023668639,
            0.4142011834319526,
            0.4142011834319526,
            0.408284023668639,
            0.4142011834319526,
            0.4437869822485207,
            0.408284023668639,
            0.408284023668639,
            0.408284023668639,
            0.32,
            0.32
           ],
           "yaxis": "y"
          },
          {
           "customdata": [
            [
             "Albania",
             2017
            ],
            [
             "Albania",
             2017
            ],
            [
             "Albania",
             2017
            ],
            [
             "Albania",
             2017
            ],
            [
             "Albania",
             2017
            ],
            [
             "Albania",
             2017
            ],
            [
             "Albania",
             2017
            ],
            [
             "Albania",
             2017
            ],
            [
             "Albania",
             2017
            ],
            [
             "Armenia",
             2017
            ],
            [
             "Bulgaria",
             2017
            ],
            [
             "Bulgaria",
             2017
            ],
            [
             "Bulgaria",
             2017
            ],
            [
             "Bulgaria",
             2017
            ],
            [
             "Bulgaria",
             2017
            ],
            [
             "Bulgaria",
             2017
            ],
            [
             "Bulgaria",
             2017
            ],
            [
             "Bulgaria",
             2017
            ],
            [
             "Bulgaria",
             2017
            ],
            [
             "Bulgaria",
             2017
            ],
            [
             "Bulgaria",
             2017
            ],
            [
             "Czech Republic",
             2017
            ],
            [
             "Czech Republic",
             2017
            ],
            [
             "Czech Republic",
             2017
            ],
            [
             "Czech Republic",
             2017
            ],
            [
             "Czech Republic",
             2017
            ],
            [
             "Czech Republic",
             2017
            ],
            [
             "Czech Republic",
             2017
            ],
            [
             "Czech Republic",
             2017
            ],
            [
             "Czech Republic",
             2017
            ],
            [
             "Czech Republic",
             2017
            ],
            [
             "Czech Republic",
             2017
            ],
            [
             "Czech Republic",
             2017
            ],
            [
             "Czech Republic",
             2017
            ],
            [
             "Czech Republic",
             2017
            ]
           ],
           "hovertemplate": "region=Central and Eastern Europe<br>year=%{customdata[1]}<br>democracy_index_score=%{x}<br>percent_W=%{marker.size}<br>country=%{customdata[0]}<extra></extra>",
           "legendgroup": "Central and Eastern Europe",
           "marker": {
            "color": "rgb(56, 166, 165)",
            "size": [
             0.2950819672131147,
             0.2950819672131147,
             0.2950819672131147,
             0.2928571428571428,
             0.2950819672131147,
             0.2950819672131147,
             0.2928571428571428,
             0.2928571428571428,
             0.2950819672131147,
             0.2424242424242424,
             0.2583333333333333,
             0.2666666666666666,
             0.2666666666666666,
             0.2666666666666666,
             0.2583333333333333,
             0.2666666666666666,
             0.2708333333333333,
             0.2666666666666666,
             0.2708333333333333,
             0.2666666666666666,
             0.2666666666666666,
             0.225,
             0.225,
             0.23,
             0.225,
             0.225,
             0.225,
             0.225,
             0.23,
             0.225,
             0.225,
             0.225,
             0.225,
             0.225,
             0.225
            ],
            "sizemode": "area",
            "sizeref": 0.00153125,
            "symbol": "circle"
           },
           "mode": "markers",
           "name": "Central and Eastern Europe",
           "orientation": "v",
           "showlegend": true,
           "type": "scatter",
           "x": [
            5.98,
            5.98,
            5.98,
            5.98,
            5.98,
            5.98,
            5.98,
            5.98,
            5.98,
            4.11,
            7.03,
            7.03,
            7.03,
            7.03,
            7.03,
            7.03,
            7.03,
            7.03,
            7.03,
            7.03,
            7.03,
            7.62,
            7.62,
            7.62,
            7.62,
            7.62,
            7.62,
            7.62,
            7.62,
            7.62,
            7.62,
            7.62,
            7.62,
            7.62,
            7.62
           ],
           "xaxis": "x",
           "y": [
            0.2950819672131147,
            0.2950819672131147,
            0.2950819672131147,
            0.2928571428571428,
            0.2950819672131147,
            0.2950819672131147,
            0.2928571428571428,
            0.2928571428571428,
            0.2950819672131147,
            0.2424242424242424,
            0.2583333333333333,
            0.2666666666666666,
            0.2666666666666666,
            0.2666666666666666,
            0.2583333333333333,
            0.2666666666666666,
            0.2708333333333333,
            0.2666666666666666,
            0.2708333333333333,
            0.2666666666666666,
            0.2666666666666666,
            0.225,
            0.225,
            0.23,
            0.225,
            0.225,
            0.225,
            0.225,
            0.23,
            0.225,
            0.225,
            0.225,
            0.225,
            0.225,
            0.225
           ],
           "yaxis": "y"
          },
          {
           "customdata": [
            [
             "Argentina",
             2017
            ],
            [
             "Argentina",
             2017
            ],
            [
             "Argentina",
             2017
            ],
            [
             "Argentina",
             2017
            ],
            [
             "Argentina",
             2017
            ],
            [
             "Argentina",
             2017
            ],
            [
             "Argentina",
             2017
            ],
            [
             "Argentina",
             2017
            ],
            [
             "Argentina",
             2017
            ],
            [
             "Chile",
             2017
            ],
            [
             "Chile",
             2017
            ],
            [
             "Chile",
             2017
            ],
            [
             "Chile",
             2017
            ],
            [
             "Chile",
             2017
            ],
            [
             "Chile",
             2017
            ],
            [
             "Chile",
             2017
            ],
            [
             "Chile",
             2017
            ],
            [
             "Chile",
             2017
            ],
            [
             "Chile",
             2017
            ],
            [
             "Chile",
             2017
            ],
            [
             "Chile",
             2017
            ],
            [
             "Chile",
             2017
            ],
            [
             "Chile",
             2017
            ],
            [
             "Chile",
             2017
            ],
            [
             "Ecuador",
             2017
            ],
            [
             "Ecuador",
             2017
            ],
            [
             "Ecuador",
             2017
            ],
            [
             "Ecuador",
             2017
            ],
            [
             "Ecuador",
             2017
            ],
            [
             "Ecuador",
             2017
            ],
            [
             "Ecuador",
             2017
            ],
            [
             "Ecuador",
             2017
            ],
            [
             "Ecuador",
             2017
            ],
            [
             "Ecuador",
             2017
            ],
            [
             "Honduras",
             2017
            ],
            [
             "Honduras",
             2017
            ],
            [
             "Honduras",
             2017
            ],
            [
             "Honduras",
             2017
            ],
            [
             "Honduras",
             2017
            ],
            [
             "Honduras",
             2017
            ],
            [
             "Honduras",
             2017
            ],
            [
             "Honduras",
             2017
            ],
            [
             "Honduras",
             2017
            ],
            [
             "Honduras",
             2017
            ],
            [
             "Honduras",
             2017
            ],
            [
             "Honduras",
             2017
            ],
            [
             "Honduras",
             2017
            ],
            [
             "Honduras",
             2017
            ],
            [
             "Honduras",
             2017
            ]
           ],
           "hovertemplate": "region=Latin America and the Caribbean<br>year=%{customdata[1]}<br>democracy_index_score=%{x}<br>percent_W=%{marker.size}<br>country=%{customdata[0]}<extra></extra>",
           "legendgroup": "Latin America and the Caribbean",
           "marker": {
            "color": "rgb(15, 133, 84)",
            "size": [
             0.3891050583657587,
             0.388235294117647,
             0.388235294117647,
             0.388235294117647,
             0.388235294117647,
             0.388235294117647,
             0.388235294117647,
             0.3891050583657587,
             0.3891050583657587,
             0.2258064516129032,
             0.2258064516129032,
             0.2258064516129032,
             0.2258064516129032,
             0.2258064516129032,
             0.2258064516129032,
             0.2258064516129032,
             0.2258064516129032,
             0.2258064516129032,
             0.2258064516129032,
             0.2258064516129032,
             0.2258064516129032,
             0.2258064516129032,
             0.2258064516129032,
             0.2258064516129032,
             0.3795620437956204,
             0.3941605839416058,
             0.3795620437956204,
             0.3795620437956204,
             0.3795620437956204,
             0.3941605839416058,
             0.3941605839416058,
             0.3795620437956204,
             0.3795620437956204,
             0.3795620437956204,
             0.2109375,
             0.2109375,
             0.2109375,
             0.2109375,
             0.2109375,
             0.2109375,
             0.2109375,
             0.2109375,
             0.2109375,
             0.2109375,
             0.2109375,
             0.2109375,
             0.2109375,
             0.2109375,
             0.2109375
            ],
            "sizemode": "area",
            "sizeref": 0.00153125,
            "symbol": "circle"
           },
           "mode": "markers",
           "name": "Latin America and the Caribbean",
           "orientation": "v",
           "showlegend": true,
           "type": "scatter",
           "x": [
            6.96,
            6.96,
            6.96,
            6.96,
            6.96,
            6.96,
            6.96,
            6.96,
            6.96,
            7.84,
            7.84,
            7.84,
            7.84,
            7.84,
            7.84,
            7.84,
            7.84,
            7.84,
            7.84,
            7.84,
            7.84,
            7.84,
            7.84,
            7.84,
            6.02,
            6.02,
            6.02,
            6.02,
            6.02,
            6.02,
            6.02,
            6.02,
            6.02,
            6.02,
            5.72,
            5.72,
            5.72,
            5.72,
            5.72,
            5.72,
            5.72,
            5.72,
            5.72,
            5.72,
            5.72,
            5.72,
            5.72,
            5.72,
            5.72
           ],
           "xaxis": "x",
           "y": [
            0.3891050583657587,
            0.388235294117647,
            0.388235294117647,
            0.388235294117647,
            0.388235294117647,
            0.388235294117647,
            0.388235294117647,
            0.3891050583657587,
            0.3891050583657587,
            0.2258064516129032,
            0.2258064516129032,
            0.2258064516129032,
            0.2258064516129032,
            0.2258064516129032,
            0.2258064516129032,
            0.2258064516129032,
            0.2258064516129032,
            0.2258064516129032,
            0.2258064516129032,
            0.2258064516129032,
            0.2258064516129032,
            0.2258064516129032,
            0.2258064516129032,
            0.2258064516129032,
            0.3795620437956204,
            0.3941605839416058,
            0.3795620437956204,
            0.3795620437956204,
            0.3795620437956204,
            0.3941605839416058,
            0.3941605839416058,
            0.3795620437956204,
            0.3795620437956204,
            0.3795620437956204,
            0.2109375,
            0.2109375,
            0.2109375,
            0.2109375,
            0.2109375,
            0.2109375,
            0.2109375,
            0.2109375,
            0.2109375,
            0.2109375,
            0.2109375,
            0.2109375,
            0.2109375,
            0.2109375,
            0.2109375
           ],
           "yaxis": "y"
          },
          {
           "customdata": [
            [
             "Japan",
             2017
            ],
            [
             "Japan",
             2017
            ],
            [
             "Japan",
             2017
            ],
            [
             "Japan",
             2017
            ],
            [
             "Japan",
             2017
            ],
            [
             "Japan",
             2017
            ],
            [
             "Japan",
             2017
            ],
            [
             "Japan",
             2017
            ],
            [
             "Japan",
             2017
            ],
            [
             "Japan",
             2017
            ],
            [
             "Japan",
             2017
            ],
            [
             "Japan",
             2017
            ],
            [
             "Japan",
             2017
            ],
            [
             "Japan",
             2017
            ],
            [
             "Japan",
             2017
            ],
            [
             "Nepal",
             2017
            ],
            [
             "Nepal",
             2017
            ],
            [
             "Nepal",
             2017
            ],
            [
             "Nepal",
             2017
            ],
            [
             "Nepal",
             2017
            ],
            [
             "Nepal",
             2017
            ],
            [
             "Nepal",
             2017
            ],
            [
             "Nepal",
             2017
            ],
            [
             "Nepal",
             2017
            ],
            [
             "Nepal",
             2017
            ],
            [
             "Nepal",
             2017
            ],
            [
             "Nepal",
             2017
            ],
            [
             "Nepal",
             2017
            ],
            [
             "Nepal",
             2017
            ],
            [
             "Nepal",
             2017
            ],
            [
             "Nepal",
             2017
            ],
            [
             "Nepal",
             2017
            ],
            [
             "Nepal",
             2017
            ],
            [
             "New Zealand",
             2017
            ],
            [
             "New Zealand",
             2017
            ],
            [
             "New Zealand",
             2017
            ],
            [
             "New Zealand",
             2017
            ],
            [
             "New Zealand",
             2017
            ],
            [
             "New Zealand",
             2017
            ],
            [
             "New Zealand",
             2017
            ],
            [
             "New Zealand",
             2017
            ],
            [
             "Papua New Guinea",
             2017
            ],
            [
             "Papua New Guinea",
             2017
            ],
            [
             "Papua New Guinea",
             2017
            ],
            [
             "Papua New Guinea",
             2017
            ],
            [
             "Papua New Guinea",
             2017
            ],
            [
             "Papua New Guinea",
             2017
            ]
           ],
           "hovertemplate": "region=Asia and Australasia<br>year=%{customdata[1]}<br>democracy_index_score=%{x}<br>percent_W=%{marker.size}<br>country=%{customdata[0]}<extra></extra>",
           "legendgroup": "Asia and Australasia",
           "marker": {
            "color": "rgb(115, 175, 72)",
            "size": [
             0.1010752688172043,
             0.0989247311827957,
             0.0991379310344827,
             0.1010752688172043,
             0.0989247311827957,
             0.101511879049676,
             0.0991379310344827,
             0.0991379310344827,
             0.101511879049676,
             0.0991379310344827,
             0.101511879049676,
             0.101511879049676,
             0.0991379310344827,
             0.101511879049676,
             0.0991379310344827,
             0.3272727272727272,
             0.3272727272727272,
             0.3272727272727272,
             0.3357933579335793,
             0.3272727272727272,
             0.3272727272727272,
             0.3272727272727272,
             0.3272727272727272,
             0.3357933579335793,
             0.3272727272727272,
             0.3357933579335793,
             0.3272727272727272,
             0.3272727272727272,
             0.3272727272727272,
             0.3357933579335793,
             0.3357933579335793,
             0.3272727272727272,
             0.3272727272727272,
             0.4083333333333333,
             0.4083333333333333,
             0.4083333333333333,
             0.4083333333333333,
             0.4,
             0.4,
             0.4,
             0.4,
             0,
             0,
             0,
             0,
             0,
             0
            ],
            "sizemode": "area",
            "sizeref": 0.00153125,
            "symbol": "circle"
           },
           "mode": "markers",
           "name": "Asia and Australasia",
           "orientation": "v",
           "showlegend": true,
           "type": "scatter",
           "x": [
            7.88,
            7.88,
            7.88,
            7.88,
            7.88,
            7.88,
            7.88,
            7.88,
            7.88,
            7.88,
            7.88,
            7.88,
            7.88,
            7.88,
            7.88,
            5.18,
            5.18,
            5.18,
            5.18,
            5.18,
            5.18,
            5.18,
            5.18,
            5.18,
            5.18,
            5.18,
            5.18,
            5.18,
            5.18,
            5.18,
            5.18,
            5.18,
            5.18,
            9.26,
            9.26,
            9.26,
            9.26,
            9.26,
            9.26,
            9.26,
            9.26,
            6.03,
            6.03,
            6.03,
            6.03,
            6.03,
            6.03
           ],
           "xaxis": "x",
           "y": [
            0.1010752688172043,
            0.0989247311827957,
            0.0991379310344827,
            0.1010752688172043,
            0.0989247311827957,
            0.101511879049676,
            0.0991379310344827,
            0.0991379310344827,
            0.101511879049676,
            0.0991379310344827,
            0.101511879049676,
            0.101511879049676,
            0.0991379310344827,
            0.101511879049676,
            0.0991379310344827,
            0.3272727272727272,
            0.3272727272727272,
            0.3272727272727272,
            0.3357933579335793,
            0.3272727272727272,
            0.3272727272727272,
            0.3272727272727272,
            0.3272727272727272,
            0.3357933579335793,
            0.3272727272727272,
            0.3357933579335793,
            0.3272727272727272,
            0.3272727272727272,
            0.3272727272727272,
            0.3357933579335793,
            0.3357933579335793,
            0.3272727272727272,
            0.3272727272727272,
            0.4083333333333333,
            0.4083333333333333,
            0.4083333333333333,
            0.4083333333333333,
            0.4,
            0.4,
            0.4,
            0.4,
            0,
            0,
            0,
            0,
            0,
            0
           ],
           "yaxis": "y"
          },
          {
           "customdata": [
            [
             "Algeria",
             2017
            ],
            [
             "Algeria",
             2017
            ],
            [
             "Algeria",
             2017
            ],
            [
             "Algeria",
             2017
            ],
            [
             "Algeria",
             2017
            ],
            [
             "Algeria",
             2017
            ],
            [
             "Algeria",
             2017
            ],
            [
             "Algeria",
             2017
            ],
            [
             "Algeria",
             2017
            ],
            [
             "Algeria",
             2017
            ],
            [
             "Algeria",
             2017
            ],
            [
             "Algeria",
             2017
            ],
            [
             "Algeria",
             2017
            ],
            [
             "Algeria",
             2017
            ],
            [
             "Algeria",
             2017
            ]
           ],
           "hovertemplate": "region=Middle East and North Africa<br>year=%{customdata[1]}<br>democracy_index_score=%{x}<br>percent_W=%{marker.size}<br>country=%{customdata[0]}<extra></extra>",
           "legendgroup": "Middle East and North Africa",
           "marker": {
            "color": "rgb(237, 173, 8)",
            "size": [
             0.2575757575757575,
             0.2575757575757575,
             0.2575757575757575,
             0.2575757575757575,
             0.2575757575757575,
             0.2575757575757575,
             0.2575757575757575,
             0.2597402597402597,
             0.2575757575757575,
             0.2575757575757575,
             0.2597402597402597,
             0.2575757575757575,
             0.2597402597402597,
             0.2575757575757575,
             0.2575757575757575
            ],
            "sizemode": "area",
            "sizeref": 0.00153125,
            "symbol": "circle"
           },
           "mode": "markers",
           "name": "Middle East and North Africa",
           "orientation": "v",
           "showlegend": true,
           "type": "scatter",
           "x": [
            3.56,
            3.56,
            3.56,
            3.56,
            3.56,
            3.56,
            3.56,
            3.56,
            3.56,
            3.56,
            3.56,
            3.56,
            3.56,
            3.56,
            3.56
           ],
           "xaxis": "x",
           "y": [
            0.2575757575757575,
            0.2575757575757575,
            0.2575757575757575,
            0.2575757575757575,
            0.2575757575757575,
            0.2575757575757575,
            0.2575757575757575,
            0.2597402597402597,
            0.2575757575757575,
            0.2575757575757575,
            0.2597402597402597,
            0.2575757575757575,
            0.2597402597402597,
            0.2575757575757575,
            0.2575757575757575
           ],
           "yaxis": "y"
          },
          {
           "customdata": [
            [
             "Angola",
             2017
            ],
            [
             "Angola",
             2017
            ],
            [
             "Angola",
             2017
            ],
            [
             "Angola",
             2017
            ],
            [
             "Angola",
             2017
            ],
            [
             "Angola",
             2017
            ],
            [
             "Angola",
             2017
            ],
            [
             "Angola",
             2017
            ],
            [
             "Angola",
             2017
            ],
            [
             "Angola",
             2017
            ],
            [
             "Angola",
             2017
            ],
            [
             "Angola",
             2017
            ],
            [
             "Angola",
             2017
            ],
            [
             "Angola",
             2017
            ],
            [
             "Angola",
             2017
            ],
            [
             "Angola",
             2017
            ],
            [
             "Equatorial Guinea",
             2017
            ],
            [
             "Equatorial Guinea",
             2017
            ],
            [
             "Equatorial Guinea",
             2017
            ],
            [
             "Equatorial Guinea",
             2017
            ],
            [
             "Equatorial Guinea",
             2017
            ],
            [
             "Equatorial Guinea",
             2017
            ],
            [
             "Equatorial Guinea",
             2017
            ],
            [
             "Equatorial Guinea",
             2017
            ],
            [
             "Equatorial Guinea",
             2017
            ],
            [
             "Equatorial Guinea",
             2017
            ],
            [
             "Equatorial Guinea",
             2017
            ],
            [
             "Equatorial Guinea",
             2017
            ],
            [
             "Equatorial Guinea",
             2017
            ],
            [
             "Equatorial Guinea",
             2017
            ],
            [
             "Equatorial Guinea",
             2017
            ],
            [
             "Equatorial Guinea",
             2017
            ],
            [
             "Equatorial Guinea",
             2017
            ],
            [
             "Equatorial Guinea",
             2017
            ],
            [
             "Equatorial Guinea",
             2017
            ],
            [
             "Gambia",
             2017
            ],
            [
             "Kenya",
             2017
            ],
            [
             "Kenya",
             2017
            ],
            [
             "Kenya",
             2017
            ],
            [
             "Kenya",
             2017
            ],
            [
             "Kenya",
             2017
            ],
            [
             "Kenya",
             2017
            ],
            [
             "Kenya",
             2017
            ],
            [
             "Kenya",
             2017
            ],
            [
             "Kenya",
             2017
            ],
            [
             "Kenya",
             2017
            ],
            [
             "Kenya",
             2017
            ],
            [
             "Kenya",
             2017
            ],
            [
             "Kenya",
             2017
            ],
            [
             "Kenya",
             2017
            ],
            [
             "Kenya",
             2017
            ],
            [
             "Kenya",
             2017
            ],
            [
             "Lesotho",
             2017
            ],
            [
             "Lesotho",
             2017
            ],
            [
             "Lesotho",
             2017
            ],
            [
             "Lesotho",
             2017
            ],
            [
             "Lesotho",
             2017
            ],
            [
             "Lesotho",
             2017
            ],
            [
             "Lesotho",
             2017
            ],
            [
             "Lesotho",
             2017
            ],
            [
             "Lesotho",
             2017
            ],
            [
             "Lesotho",
             2017
            ],
            [
             "Lesotho",
             2017
            ],
            [
             "Lesotho",
             2017
            ],
            [
             "Lesotho",
             2017
            ],
            [
             "Lesotho",
             2017
            ],
            [
             "Lesotho",
             2017
            ],
            [
             "Lesotho",
             2017
            ],
            [
             "Liberia",
             2017
            ],
            [
             "Liberia",
             2017
            ],
            [
             "Liberia",
             2017
            ],
            [
             "Liberia",
             2017
            ],
            [
             "Liberia",
             2017
            ],
            [
             "Liberia",
             2017
            ],
            [
             "Liberia",
             2017
            ],
            [
             "Liberia",
             2017
            ],
            [
             "Liberia",
             2017
            ],
            [
             "Liberia",
             2017
            ],
            [
             "Liberia",
             2017
            ],
            [
             "Liberia",
             2017
            ],
            [
             "Liberia",
             2017
            ],
            [
             "Liberia",
             2017
            ],
            [
             "Senegal",
             2017
            ],
            [
             "Senegal",
             2017
            ],
            [
             "Senegal",
             2017
            ],
            [
             "Senegal",
             2017
            ],
            [
             "Senegal",
             2017
            ],
            [
             "Senegal",
             2017
            ],
            [
             "Senegal",
             2017
            ],
            [
             "Senegal",
             2017
            ],
            [
             "Senegal",
             2017
            ],
            [
             "Senegal",
             2017
            ],
            [
             "Senegal",
             2017
            ],
            [
             "Senegal",
             2017
            ],
            [
             "Senegal",
             2017
            ]
           ],
           "hovertemplate": "region=Sub-Saharan Africa<br>year=%{customdata[1]}<br>democracy_index_score=%{x}<br>percent_W=%{marker.size}<br>country=%{customdata[0]}<extra></extra>",
           "legendgroup": "Sub-Saharan Africa",
           "marker": {
            "color": "rgb(225, 124, 5)",
            "size": [
             0.3,
             0.3,
             0.2954545454545454,
             0.3,
             0.2954545454545454,
             0.3,
             0.3,
             0.2954545454545454,
             0.3,
             0.2954545454545454,
             0.2954545454545454,
             0.2954545454545454,
             0.2954545454545454,
             0.2954545454545454,
             0.2954545454545454,
             0.2954545454545454,
             0.21,
             0.21,
             0.23,
             0.22,
             0.21,
             0.23,
             0.23,
             0.2,
             0.22,
             0.21,
             0.22,
             0.2,
             0.21,
             0.21,
             0.22,
             0.21,
             0.21,
             0.21,
             0.21,
             0.1034482758620689,
             0.2177650429799427,
             0.2177650429799427,
             0.2161383285302593,
             0.2177650429799427,
             0.2177650429799427,
             0.2177650429799427,
             0.2142857142857142,
             0.2177650429799427,
             0.2177650429799427,
             0.2142857142857142,
             0.2177650429799427,
             0.2177650429799427,
             0.2142857142857142,
             0.2177650429799427,
             0.2177650429799427,
             0.2177650429799427,
             0.2333333333333333,
             0.2333333333333333,
             0.2333333333333333,
             0.2434782608695652,
             0.2333333333333333,
             0.2333333333333333,
             0.2333333333333333,
             0.2333333333333333,
             0.2333333333333333,
             0.2434782608695652,
             0.2333333333333333,
             0.2333333333333333,
             0.2333333333333333,
             0.2434782608695652,
             0.2333333333333333,
             0.2333333333333333,
             0.1232876712328767,
             0.1232876712328767,
             0.1095890410958904,
             0.1095890410958904,
             0.1095890410958904,
             0.1232876712328767,
             0.1232876712328767,
             0.1232876712328767,
             0.1232876712328767,
             0.1095890410958904,
             0.1232876712328767,
             0.1232876712328767,
             0.1232876712328767,
             0.1232876712328767,
             0.4181818181818181,
             0.4303030303030303,
             0.4303030303030303,
             0.4303030303030303,
             0.4181818181818181,
             0.4303030303030303,
             0.4181818181818181,
             0.4303030303030303,
             0.4303030303030303,
             0.4268292682926829,
             0.4181818181818181,
             0.4181818181818181,
             0.4268292682926829
            ],
            "sizemode": "area",
            "sizeref": 0.00153125,
            "symbol": "circle"
           },
           "mode": "markers",
           "name": "Sub-Saharan Africa",
           "orientation": "v",
           "showlegend": true,
           "type": "scatter",
           "x": [
            3.62,
            3.62,
            3.62,
            3.62,
            3.62,
            3.62,
            3.62,
            3.62,
            3.62,
            3.62,
            3.62,
            3.62,
            3.62,
            3.62,
            3.62,
            3.62,
            1.81,
            1.81,
            1.81,
            1.81,
            1.81,
            1.81,
            1.81,
            1.81,
            1.81,
            1.81,
            1.81,
            1.81,
            1.81,
            1.81,
            1.81,
            1.81,
            1.81,
            1.81,
            1.81,
            4.06,
            5.11,
            5.11,
            5.11,
            5.11,
            5.11,
            5.11,
            5.11,
            5.11,
            5.11,
            5.11,
            5.11,
            5.11,
            5.11,
            5.11,
            5.11,
            5.11,
            6.64,
            6.64,
            6.64,
            6.64,
            6.64,
            6.64,
            6.64,
            6.64,
            6.64,
            6.64,
            6.64,
            6.64,
            6.64,
            6.64,
            6.64,
            6.64,
            5.23,
            5.23,
            5.23,
            5.23,
            5.23,
            5.23,
            5.23,
            5.23,
            5.23,
            5.23,
            5.23,
            5.23,
            5.23,
            5.23,
            6.15,
            6.15,
            6.15,
            6.15,
            6.15,
            6.15,
            6.15,
            6.15,
            6.15,
            6.15,
            6.15,
            6.15,
            6.15
           ],
           "xaxis": "x",
           "y": [
            0.3,
            0.3,
            0.2954545454545454,
            0.3,
            0.2954545454545454,
            0.3,
            0.3,
            0.2954545454545454,
            0.3,
            0.2954545454545454,
            0.2954545454545454,
            0.2954545454545454,
            0.2954545454545454,
            0.2954545454545454,
            0.2954545454545454,
            0.2954545454545454,
            0.21,
            0.21,
            0.23,
            0.22,
            0.21,
            0.23,
            0.23,
            0.2,
            0.22,
            0.21,
            0.22,
            0.2,
            0.21,
            0.21,
            0.22,
            0.21,
            0.21,
            0.21,
            0.21,
            0.1034482758620689,
            0.2177650429799427,
            0.2177650429799427,
            0.2161383285302593,
            0.2177650429799427,
            0.2177650429799427,
            0.2177650429799427,
            0.2142857142857142,
            0.2177650429799427,
            0.2177650429799427,
            0.2142857142857142,
            0.2177650429799427,
            0.2177650429799427,
            0.2142857142857142,
            0.2177650429799427,
            0.2177650429799427,
            0.2177650429799427,
            0.2333333333333333,
            0.2333333333333333,
            0.2333333333333333,
            0.2434782608695652,
            0.2333333333333333,
            0.2333333333333333,
            0.2333333333333333,
            0.2333333333333333,
            0.2333333333333333,
            0.2434782608695652,
            0.2333333333333333,
            0.2333333333333333,
            0.2333333333333333,
            0.2434782608695652,
            0.2333333333333333,
            0.2333333333333333,
            0.1232876712328767,
            0.1232876712328767,
            0.1095890410958904,
            0.1095890410958904,
            0.1095890410958904,
            0.1232876712328767,
            0.1232876712328767,
            0.1232876712328767,
            0.1232876712328767,
            0.1095890410958904,
            0.1232876712328767,
            0.1232876712328767,
            0.1232876712328767,
            0.1232876712328767,
            0.4181818181818181,
            0.4303030303030303,
            0.4303030303030303,
            0.4303030303030303,
            0.4181818181818181,
            0.4303030303030303,
            0.4181818181818181,
            0.4303030303030303,
            0.4303030303030303,
            0.4268292682926829,
            0.4181818181818181,
            0.4181818181818181,
            0.4268292682926829
           ],
           "yaxis": "y"
          }
         ],
         "name": "2017"
        },
        {
         "data": [
          {
           "customdata": [
            [
             "Italy",
             2018
            ],
            [
             "Italy",
             2018
            ],
            [
             "Italy",
             2018
            ],
            [
             "Italy",
             2018
            ],
            [
             "Italy",
             2018
            ],
            [
             "Italy",
             2018
            ],
            [
             "Italy",
             2018
            ],
            [
             "Italy",
             2018
            ],
            [
             "Italy",
             2018
            ],
            [
             "Italy",
             2018
            ],
            [
             "Italy",
             2018
            ],
            [
             "Italy",
             2018
            ],
            [
             "Italy",
             2018
            ],
            [
             "Italy",
             2018
            ],
            [
             "Luxembourg",
             2018
            ],
            [
             "Luxembourg",
             2018
            ],
            [
             "Luxembourg",
             2018
            ],
            [
             "Luxembourg",
             2018
            ],
            [
             "Luxembourg",
             2018
            ],
            [
             "Luxembourg",
             2018
            ],
            [
             "Luxembourg",
             2018
            ],
            [
             "Luxembourg",
             2018
            ],
            [
             "Luxembourg",
             2018
            ],
            [
             "Luxembourg",
             2018
            ],
            [
             "Luxembourg",
             2018
            ],
            [
             "Luxembourg",
             2018
            ],
            [
             "Luxembourg",
             2018
            ],
            [
             "Luxembourg",
             2018
            ],
            [
             "Sweden",
             2018
            ],
            [
             "Sweden",
             2018
            ],
            [
             "Sweden",
             2018
            ],
            [
             "Sweden",
             2018
            ],
            [
             "Sweden",
             2018
            ],
            [
             "Sweden",
             2018
            ],
            [
             "Sweden",
             2018
            ],
            [
             "Sweden",
             2018
            ],
            [
             "Turkey",
             2018
            ],
            [
             "Turkey",
             2018
            ]
           ],
           "hovertemplate": "region=Western Europe<br>year=%{customdata[1]}<br>democracy_index_score=%{x}<br>percent_W=%{marker.size}<br>country=%{customdata[0]}<extra></extra>",
           "legendgroup": "Western Europe",
           "marker": {
            "color": "rgb(29, 105, 150)",
            "size": [
             0.3571428571428571,
             0.3571428571428571,
             0.3571428571428571,
             0.3571428571428571,
             0.3571428571428571,
             0.3571428571428571,
             0.3571428571428571,
             0.3624801271860095,
             0.3571428571428571,
             0.3571428571428571,
             0.3634920634920635,
             0.3571428571428571,
             0.3634920634920635,
             0.3634920634920635,
             0.25,
             0.3,
             0.35,
             0.3333333333333333,
             0.35,
             0.35,
             0.25,
             0.3166666666666666,
             0.3333333333333333,
             0.3166666666666666,
             0.3166666666666666,
             0.3333333333333333,
             0.35,
             0.3333333333333333,
             0.4727793696275071,
             0.4699140401146132,
             0.4699140401146132,
             0.4727793696275071,
             0.4727793696275071,
             0.4613180515759312,
             0.4727793696275071,
             0.4613180515759312,
             0.174496644295302,
             0.174496644295302
            ],
            "sizemode": "area",
            "sizeref": 0.00153125,
            "symbol": "circle"
           },
           "mode": "markers",
           "name": "Western Europe",
           "orientation": "v",
           "showlegend": true,
           "type": "scatter",
           "x": [
            7.71,
            7.71,
            7.71,
            7.71,
            7.71,
            7.71,
            7.71,
            7.71,
            7.71,
            7.71,
            7.71,
            7.71,
            7.71,
            7.71,
            8.81,
            8.81,
            8.81,
            8.81,
            8.81,
            8.81,
            8.81,
            8.81,
            8.81,
            8.81,
            8.81,
            8.81,
            8.81,
            8.81,
            9.39,
            9.39,
            9.39,
            9.39,
            9.39,
            9.39,
            9.39,
            9.39,
            4.37,
            4.37
           ],
           "xaxis": "x",
           "y": [
            0.3571428571428571,
            0.3571428571428571,
            0.3571428571428571,
            0.3571428571428571,
            0.3571428571428571,
            0.3571428571428571,
            0.3571428571428571,
            0.3624801271860095,
            0.3571428571428571,
            0.3571428571428571,
            0.3634920634920635,
            0.3571428571428571,
            0.3634920634920635,
            0.3634920634920635,
            0.25,
            0.3,
            0.35,
            0.3333333333333333,
            0.35,
            0.35,
            0.25,
            0.3166666666666666,
            0.3333333333333333,
            0.3166666666666666,
            0.3166666666666666,
            0.3333333333333333,
            0.35,
            0.3333333333333333,
            0.4727793696275071,
            0.4699140401146132,
            0.4699140401146132,
            0.4727793696275071,
            0.4727793696275071,
            0.4613180515759312,
            0.4727793696275071,
            0.4613180515759312,
            0.174496644295302,
            0.174496644295302
           ],
           "yaxis": "y"
          },
          {
           "customdata": [
            [
             "Armenia",
             2018
            ],
            [
             "Armenia",
             2018
            ],
            [
             "Armenia",
             2018
            ],
            [
             "Armenia",
             2018
            ],
            [
             "Armenia",
             2018
            ],
            [
             "Armenia",
             2018
            ],
            [
             "Armenia",
             2018
            ],
            [
             "Armenia",
             2018
            ],
            [
             "Armenia",
             2018
            ],
            [
             "Armenia",
             2018
            ],
            [
             "Armenia",
             2018
            ],
            [
             "Armenia",
             2018
            ],
            [
             "Bosnia and Herzegovina",
             2018
            ],
            [
             "Bosnia and Herzegovina",
             2018
            ],
            [
             "Bosnia and Herzegovina",
             2018
            ],
            [
             "Bosnia and Herzegovina",
             2018
            ],
            [
             "Bosnia and Herzegovina",
             2018
            ],
            [
             "Bosnia and Herzegovina",
             2018
            ],
            [
             "Bosnia and Herzegovina",
             2018
            ],
            [
             "Bosnia and Herzegovina",
             2018
            ],
            [
             "Bosnia and Herzegovina",
             2018
            ],
            [
             "Bosnia and Herzegovina",
             2018
            ],
            [
             "Bosnia and Herzegovina",
             2018
            ],
            [
             "Bosnia and Herzegovina",
             2018
            ],
            [
             "Bosnia and Herzegovina",
             2018
            ],
            [
             "Bosnia and Herzegovina",
             2018
            ],
            [
             "Bosnia and Herzegovina",
             2018
            ],
            [
             "Bosnia and Herzegovina",
             2018
            ],
            [
             "Bosnia and Herzegovina",
             2018
            ],
            [
             "Bosnia and Herzegovina",
             2018
            ],
            [
             "Bosnia and Herzegovina",
             2018
            ],
            [
             "Bosnia and Herzegovina",
             2018
            ],
            [
             "Bosnia and Herzegovina",
             2018
            ],
            [
             "Hungary",
             2018
            ],
            [
             "Hungary",
             2018
            ],
            [
             "Hungary",
             2018
            ],
            [
             "Hungary",
             2018
            ],
            [
             "Hungary",
             2018
            ],
            [
             "Hungary",
             2018
            ],
            [
             "Hungary",
             2018
            ],
            [
             "Hungary",
             2018
            ],
            [
             "Hungary",
             2018
            ],
            [
             "Hungary",
             2018
            ],
            [
             "Hungary",
             2018
            ],
            [
             "Hungary",
             2018
            ],
            [
             "Latvia",
             2018
            ],
            [
             "Latvia",
             2018
            ],
            [
             "Latvia",
             2018
            ],
            [
             "Latvia",
             2018
            ],
            [
             "Latvia",
             2018
            ],
            [
             "Latvia",
             2018
            ],
            [
             "Latvia",
             2018
            ],
            [
             "Latvia",
             2018
            ],
            [
             "Latvia",
             2018
            ],
            [
             "Latvia",
             2018
            ],
            [
             "Latvia",
             2018
            ],
            [
             "Latvia",
             2018
            ],
            [
             "Latvia",
             2018
            ],
            [
             "Slovenia",
             2018
            ],
            [
             "Slovenia",
             2018
            ],
            [
             "Slovenia",
             2018
            ],
            [
             "Slovenia",
             2018
            ],
            [
             "Slovenia",
             2018
            ],
            [
             "Slovenia",
             2018
            ],
            [
             "Slovenia",
             2018
            ],
            [
             "Slovenia",
             2018
            ],
            [
             "Slovenia",
             2018
            ],
            [
             "Slovenia",
             2018
            ],
            [
             "Slovenia",
             2018
            ],
            [
             "Slovenia",
             2018
            ],
            [
             "Slovenia",
             2018
            ],
            [
             "Slovenia",
             2018
            ],
            [
             "Slovenia",
             2018
            ],
            [
             "Slovenia",
             2018
            ],
            [
             "Slovenia",
             2018
            ],
            [
             "Slovenia",
             2018
            ],
            [
             "Slovenia",
             2018
            ],
            [
             "Slovenia",
             2018
            ],
            [
             "Turkmenistan",
             2018
            ],
            [
             "Turkmenistan",
             2018
            ],
            [
             "Turkmenistan",
             2018
            ],
            [
             "Turkmenistan",
             2018
            ],
            [
             "Turkmenistan",
             2018
            ]
           ],
           "hovertemplate": "region=Central and Eastern Europe<br>year=%{customdata[1]}<br>democracy_index_score=%{x}<br>percent_W=%{marker.size}<br>country=%{customdata[0]}<extra></extra>",
           "legendgroup": "Central and Eastern Europe",
           "marker": {
            "color": "rgb(56, 166, 165)",
            "size": [
             0.2424242424242424,
             0.2348484848484848,
             0.2348484848484848,
             0.2348484848484848,
             0.2348484848484848,
             0.2348484848484848,
             0.2424242424242424,
             0.2348484848484848,
             0.2272727272727272,
             0.2348484848484848,
             0.2424242424242424,
             0.2348484848484848,
             0.2142857142857142,
             0.2142857142857142,
             0.2619047619047619,
             0.2619047619047619,
             0.2619047619047619,
             0.2619047619047619,
             0.2619047619047619,
             0.2142857142857142,
             0.2142857142857142,
             0.2619047619047619,
             0.2619047619047619,
             0.2142857142857142,
             0.2142857142857142,
             0.2619047619047619,
             0.2142857142857142,
             0.2142857142857142,
             0.2142857142857142,
             0.2142857142857142,
             0.2142857142857142,
             0.2619047619047619,
             0.2142857142857142,
             0.1256281407035175,
             0.1206030150753768,
             0.1306532663316583,
             0.1256281407035175,
             0.1206030150753768,
             0.1256281407035175,
             0.1206030150753768,
             0.1306532663316583,
             0.1256281407035175,
             0.1256281407035175,
             0.1206030150753768,
             0.1256281407035175,
             0.3,
             0.29,
             0.27,
             0.29,
             0.31,
             0.29,
             0.27,
             0.29,
             0.29,
             0.29,
             0.29,
             0.29,
             0.29,
             0.2777777777777778,
             0.2777777777777778,
             0.2666666666666666,
             0.2777777777777778,
             0.2666666666666666,
             0.2666666666666666,
             0.2444444444444444,
             0.2777777777777778,
             0.2666666666666666,
             0.2888888888888888,
             0.2444444444444444,
             0.2777777777777778,
             0.2444444444444444,
             0.2666666666666666,
             0.2444444444444444,
             0.2666666666666666,
             0.2666666666666666,
             0.2666666666666666,
             0.2777777777777778,
             0.2666666666666666,
             0.25,
             0.25,
             0.2586206896551724,
             0.25,
             0.25
            ],
            "sizemode": "area",
            "sizeref": 0.00153125,
            "symbol": "circle"
           },
           "mode": "markers",
           "name": "Central and Eastern Europe",
           "orientation": "v",
           "showlegend": true,
           "type": "scatter",
           "x": [
            4.79,
            4.79,
            4.79,
            4.79,
            4.79,
            4.79,
            4.79,
            4.79,
            4.79,
            4.79,
            4.79,
            4.79,
            4.98,
            4.98,
            4.98,
            4.98,
            4.98,
            4.98,
            4.98,
            4.98,
            4.98,
            4.98,
            4.98,
            4.98,
            4.98,
            4.98,
            4.98,
            4.98,
            4.98,
            4.98,
            4.98,
            4.98,
            4.98,
            6.63,
            6.63,
            6.63,
            6.63,
            6.63,
            6.63,
            6.63,
            6.63,
            6.63,
            6.63,
            6.63,
            6.63,
            7.38,
            7.38,
            7.38,
            7.38,
            7.38,
            7.38,
            7.38,
            7.38,
            7.38,
            7.38,
            7.38,
            7.38,
            7.38,
            7.5,
            7.5,
            7.5,
            7.5,
            7.5,
            7.5,
            7.5,
            7.5,
            7.5,
            7.5,
            7.5,
            7.5,
            7.5,
            7.5,
            7.5,
            7.5,
            7.5,
            7.5,
            7.5,
            7.5,
            1.72,
            1.72,
            1.72,
            1.72,
            1.72
           ],
           "xaxis": "x",
           "y": [
            0.2424242424242424,
            0.2348484848484848,
            0.2348484848484848,
            0.2348484848484848,
            0.2348484848484848,
            0.2348484848484848,
            0.2424242424242424,
            0.2348484848484848,
            0.2272727272727272,
            0.2348484848484848,
            0.2424242424242424,
            0.2348484848484848,
            0.2142857142857142,
            0.2142857142857142,
            0.2619047619047619,
            0.2619047619047619,
            0.2619047619047619,
            0.2619047619047619,
            0.2619047619047619,
            0.2142857142857142,
            0.2142857142857142,
            0.2619047619047619,
            0.2619047619047619,
            0.2142857142857142,
            0.2142857142857142,
            0.2619047619047619,
            0.2142857142857142,
            0.2142857142857142,
            0.2142857142857142,
            0.2142857142857142,
            0.2142857142857142,
            0.2619047619047619,
            0.2142857142857142,
            0.1256281407035175,
            0.1206030150753768,
            0.1306532663316583,
            0.1256281407035175,
            0.1206030150753768,
            0.1256281407035175,
            0.1206030150753768,
            0.1306532663316583,
            0.1256281407035175,
            0.1256281407035175,
            0.1206030150753768,
            0.1256281407035175,
            0.3,
            0.29,
            0.27,
            0.29,
            0.31,
            0.29,
            0.27,
            0.29,
            0.29,
            0.29,
            0.29,
            0.29,
            0.29,
            0.2777777777777778,
            0.2777777777777778,
            0.2666666666666666,
            0.2777777777777778,
            0.2666666666666666,
            0.2666666666666666,
            0.2444444444444444,
            0.2777777777777778,
            0.2666666666666666,
            0.2888888888888888,
            0.2444444444444444,
            0.2777777777777778,
            0.2444444444444444,
            0.2666666666666666,
            0.2444444444444444,
            0.2666666666666666,
            0.2666666666666666,
            0.2666666666666666,
            0.2777777777777778,
            0.2666666666666666,
            0.25,
            0.25,
            0.2586206896551724,
            0.25,
            0.25
           ],
           "yaxis": "y"
          },
          {
           "customdata": [
            [
             "Brazil",
             2018
            ],
            [
             "Brazil",
             2018
            ],
            [
             "Brazil",
             2018
            ],
            [
             "Brazil",
             2018
            ],
            [
             "Brazil",
             2018
            ],
            [
             "Brazil",
             2018
            ],
            [
             "Brazil",
             2018
            ],
            [
             "Brazil",
             2018
            ],
            [
             "Brazil",
             2018
            ],
            [
             "Brazil",
             2018
            ],
            [
             "Brazil",
             2018
            ],
            [
             "Brazil",
             2018
            ],
            [
             "Brazil",
             2018
            ],
            [
             "Brazil",
             2018
            ],
            [
             "Brazil",
             2018
            ],
            [
             "Colombia",
             2018
            ],
            [
             "Colombia",
             2018
            ],
            [
             "Colombia",
             2018
            ],
            [
             "Colombia",
             2018
            ],
            [
             "Colombia",
             2018
            ],
            [
             "Colombia",
             2018
            ],
            [
             "Colombia",
             2018
            ],
            [
             "Colombia",
             2018
            ],
            [
             "Colombia",
             2018
            ],
            [
             "Colombia",
             2018
            ],
            [
             "Colombia",
             2018
            ],
            [
             "Colombia",
             2018
            ],
            [
             "Colombia",
             2018
            ],
            [
             "Colombia",
             2018
            ],
            [
             "Colombia",
             2018
            ],
            [
             "Colombia",
             2018
            ],
            [
             "Costa Rica",
             2018
            ],
            [
             "Costa Rica",
             2018
            ],
            [
             "Costa Rica",
             2018
            ],
            [
             "Costa Rica",
             2018
            ],
            [
             "Costa Rica",
             2018
            ],
            [
             "Costa Rica",
             2018
            ],
            [
             "Costa Rica",
             2018
            ],
            [
             "Costa Rica",
             2018
            ],
            [
             "Cuba",
             2018
            ],
            [
             "Cuba",
             2018
            ],
            [
             "Cuba",
             2018
            ],
            [
             "El Salvador",
             2018
            ],
            [
             "El Salvador",
             2018
            ],
            [
             "El Salvador",
             2018
            ],
            [
             "El Salvador",
             2018
            ],
            [
             "El Salvador",
             2018
            ],
            [
             "Mexico",
             2018
            ],
            [
             "Mexico",
             2018
            ],
            [
             "Mexico",
             2018
            ],
            [
             "Mexico",
             2018
            ],
            [
             "Paraguay",
             2018
            ],
            [
             "Paraguay",
             2018
            ],
            [
             "Paraguay",
             2018
            ],
            [
             "Paraguay",
             2018
            ],
            [
             "Paraguay",
             2018
            ],
            [
             "Paraguay",
             2018
            ],
            [
             "Paraguay",
             2018
            ],
            [
             "Paraguay",
             2018
            ],
            [
             "Paraguay",
             2018
            ],
            [
             "Paraguay",
             2018
            ],
            [
             "Paraguay",
             2018
            ],
            [
             "Paraguay",
             2018
            ],
            [
             "Paraguay",
             2018
            ],
            [
             "Paraguay",
             2018
            ],
            [
             "Paraguay",
             2018
            ]
           ],
           "hovertemplate": "region=Latin America and the Caribbean<br>year=%{customdata[1]}<br>democracy_index_score=%{x}<br>percent_W=%{marker.size}<br>country=%{customdata[0]}<extra></extra>",
           "legendgroup": "Latin America and the Caribbean",
           "marker": {
            "color": "rgb(15, 133, 84)",
            "size": [
             0.1500974658869395,
             0.1461988304093567,
             0.1520467836257309,
             0.1481481481481481,
             0.1461988304093567,
             0.1461988304093567,
             0.1500974658869395,
             0.1461988304093567,
             0.1520467836257309,
             0.1481481481481481,
             0.1461988304093567,
             0.1481481481481481,
             0.1520467836257309,
             0.1461988304093567,
             0.1481481481481481,
             0.1871345029239766,
             0.1834319526627219,
             0.188235294117647,
             0.1834319526627219,
             0.1871345029239766,
             0.188235294117647,
             0.1812865497076023,
             0.1834319526627219,
             0.18562874251497,
             0.1871345029239766,
             0.1834319526627219,
             0.18562874251497,
             0.1871345029239766,
             0.1871345029239766,
             0.1834319526627219,
             0.188235294117647,
             0.4561403508771929,
             0.4561403508771929,
             0.4561403508771929,
             0.4561403508771929,
             0.4561403508771929,
             0.4385964912280701,
             0.4561403508771929,
             0.4561403508771929,
             0.5322314049586777,
             0.5341296928327645,
             0.5322314049586777,
             0.3095238095238095,
             0.3333333333333333,
             0.3095238095238095,
             0.3095238095238095,
             0.3333333333333333,
             0.482,
             0.482,
             0.482,
             0.482,
             0.15,
             0.1625,
             0.1625,
             0.175,
             0.1625,
             0.1625,
             0.175,
             0.1625,
             0.15,
             0.1625,
             0.15,
             0.1625,
             0.175,
             0.1625,
             0.1625
            ],
            "sizemode": "area",
            "sizeref": 0.00153125,
            "symbol": "circle"
           },
           "mode": "markers",
           "name": "Latin America and the Caribbean",
           "orientation": "v",
           "showlegend": true,
           "type": "scatter",
           "x": [
            6.97,
            6.97,
            6.97,
            6.97,
            6.97,
            6.97,
            6.97,
            6.97,
            6.97,
            6.97,
            6.97,
            6.97,
            6.97,
            6.97,
            6.97,
            6.96,
            6.96,
            6.96,
            6.96,
            6.96,
            6.96,
            6.96,
            6.96,
            6.96,
            6.96,
            6.96,
            6.96,
            6.96,
            6.96,
            6.96,
            6.96,
            8.07,
            8.07,
            8.07,
            8.07,
            8.07,
            8.07,
            8.07,
            8.07,
            3,
            3,
            3,
            5.96,
            5.96,
            5.96,
            5.96,
            5.96,
            6.19,
            6.19,
            6.19,
            6.19,
            6.24,
            6.24,
            6.24,
            6.24,
            6.24,
            6.24,
            6.24,
            6.24,
            6.24,
            6.24,
            6.24,
            6.24,
            6.24,
            6.24,
            6.24
           ],
           "xaxis": "x",
           "y": [
            0.1500974658869395,
            0.1461988304093567,
            0.1520467836257309,
            0.1481481481481481,
            0.1461988304093567,
            0.1461988304093567,
            0.1500974658869395,
            0.1461988304093567,
            0.1520467836257309,
            0.1481481481481481,
            0.1461988304093567,
            0.1481481481481481,
            0.1520467836257309,
            0.1461988304093567,
            0.1481481481481481,
            0.1871345029239766,
            0.1834319526627219,
            0.188235294117647,
            0.1834319526627219,
            0.1871345029239766,
            0.188235294117647,
            0.1812865497076023,
            0.1834319526627219,
            0.18562874251497,
            0.1871345029239766,
            0.1834319526627219,
            0.18562874251497,
            0.1871345029239766,
            0.1871345029239766,
            0.1834319526627219,
            0.188235294117647,
            0.4561403508771929,
            0.4561403508771929,
            0.4561403508771929,
            0.4561403508771929,
            0.4561403508771929,
            0.4385964912280701,
            0.4561403508771929,
            0.4561403508771929,
            0.5322314049586777,
            0.5341296928327645,
            0.5322314049586777,
            0.3095238095238095,
            0.3333333333333333,
            0.3095238095238095,
            0.3095238095238095,
            0.3333333333333333,
            0.482,
            0.482,
            0.482,
            0.482,
            0.15,
            0.1625,
            0.1625,
            0.175,
            0.1625,
            0.1625,
            0.175,
            0.1625,
            0.15,
            0.1625,
            0.15,
            0.1625,
            0.175,
            0.1625,
            0.1625
           ],
           "yaxis": "y"
          },
          {
           "customdata": [
            [
             "Afghanistan",
             2018
            ],
            [
             "Afghanistan",
             2018
            ],
            [
             "Afghanistan",
             2018
            ],
            [
             "Afghanistan",
             2018
            ],
            [
             "Afghanistan",
             2018
            ],
            [
             "Afghanistan",
             2018
            ],
            [
             "Afghanistan",
             2018
            ],
            [
             "Afghanistan",
             2018
            ],
            [
             "Afghanistan",
             2018
            ],
            [
             "Afghanistan",
             2018
            ],
            [
             "Afghanistan",
             2018
            ],
            [
             "Afghanistan",
             2018
            ],
            [
             "Afghanistan",
             2018
            ],
            [
             "Afghanistan",
             2018
            ],
            [
             "Afghanistan",
             2018
            ],
            [
             "Afghanistan",
             2018
            ],
            [
             "Afghanistan",
             2018
            ],
            [
             "Afghanistan",
             2018
            ],
            [
             "Bangladesh",
             2018
            ],
            [
             "Bangladesh",
             2018
            ],
            [
             "Bangladesh",
             2018
            ],
            [
             "Bangladesh",
             2018
            ],
            [
             "Bangladesh",
             2018
            ],
            [
             "Bangladesh",
             2018
            ],
            [
             "Bangladesh",
             2018
            ],
            [
             "Bangladesh",
             2018
            ],
            [
             "Bangladesh",
             2018
            ],
            [
             "Bangladesh",
             2018
            ],
            [
             "Bangladesh",
             2018
            ],
            [
             "Bangladesh",
             2018
            ],
            [
             "Bangladesh",
             2018
            ],
            [
             "Bangladesh",
             2018
            ],
            [
             "Bangladesh",
             2018
            ],
            [
             "Bangladesh",
             2018
            ],
            [
             "Bangladesh",
             2018
            ],
            [
             "Bhutan",
             2018
            ],
            [
             "Bhutan",
             2018
            ],
            [
             "Bhutan",
             2018
            ],
            [
             "Bhutan",
             2018
            ],
            [
             "Bhutan",
             2018
            ],
            [
             "Bhutan",
             2018
            ],
            [
             "Bhutan",
             2018
            ],
            [
             "Bhutan",
             2018
            ],
            [
             "Bhutan",
             2018
            ],
            [
             "Bhutan",
             2018
            ],
            [
             "Bhutan",
             2018
            ],
            [
             "Bhutan",
             2018
            ],
            [
             "Bhutan",
             2018
            ],
            [
             "Bhutan",
             2018
            ],
            [
             "Bhutan",
             2018
            ],
            [
             "Bhutan",
             2018
            ],
            [
             "Bhutan",
             2018
            ],
            [
             "Bhutan",
             2018
            ],
            [
             "Cambodia",
             2018
            ],
            [
             "Cambodia",
             2018
            ],
            [
             "Cambodia",
             2018
            ],
            [
             "Cambodia",
             2018
            ],
            [
             "Cambodia",
             2018
            ],
            [
             "Cambodia",
             2018
            ],
            [
             "Cambodia",
             2018
            ],
            [
             "Cambodia",
             2018
            ],
            [
             "Cambodia",
             2018
            ],
            [
             "Cambodia",
             2018
            ],
            [
             "Cambodia",
             2018
            ],
            [
             "China",
             2018
            ],
            [
             "China",
             2018
            ],
            [
             "China",
             2018
            ],
            [
             "China",
             2018
            ],
            [
             "China",
             2018
            ],
            [
             "China",
             2018
            ],
            [
             "China",
             2018
            ],
            [
             "China",
             2018
            ],
            [
             "China",
             2018
            ],
            [
             "China",
             2018
            ],
            [
             "China",
             2018
            ],
            [
             "China",
             2018
            ],
            [
             "China",
             2018
            ],
            [
             "China",
             2018
            ],
            [
             "China",
             2018
            ],
            [
             "China",
             2018
            ],
            [
             "China",
             2018
            ],
            [
             "China",
             2018
            ],
            [
             "China",
             2018
            ],
            [
             "China",
             2018
            ],
            [
             "Fiji",
             2018
            ],
            [
             "Fiji",
             2018
            ],
            [
             "Fiji",
             2018
            ],
            [
             "Fiji",
             2018
            ],
            [
             "Fiji",
             2018
            ],
            [
             "Fiji",
             2018
            ],
            [
             "Fiji",
             2018
            ],
            [
             "Fiji",
             2018
            ],
            [
             "Fiji",
             2018
            ],
            [
             "Fiji",
             2018
            ],
            [
             "Fiji",
             2018
            ],
            [
             "Fiji",
             2018
            ],
            [
             "Fiji",
             2018
            ],
            [
             "Malaysia",
             2018
            ],
            [
             "Malaysia",
             2018
            ],
            [
             "Malaysia",
             2018
            ],
            [
             "Malaysia",
             2018
            ],
            [
             "Malaysia",
             2018
            ],
            [
             "Malaysia",
             2018
            ],
            [
             "Malaysia",
             2018
            ],
            [
             "Malaysia",
             2018
            ],
            [
             "Malaysia",
             2018
            ],
            [
             "Malaysia",
             2018
            ],
            [
             "Malaysia",
             2018
            ],
            [
             "Malaysia",
             2018
            ],
            [
             "Pakistan",
             2018
            ],
            [
             "Pakistan",
             2018
            ],
            [
             "Pakistan",
             2018
            ],
            [
             "Pakistan",
             2018
            ],
            [
             "Pakistan",
             2018
            ],
            [
             "Pakistan",
             2018
            ],
            [
             "Pakistan",
             2018
            ],
            [
             "Pakistan",
             2018
            ],
            [
             "Pakistan",
             2018
            ],
            [
             "Pakistan",
             2018
            ],
            [
             "Pakistan",
             2018
            ],
            [
             "Pakistan",
             2018
            ],
            [
             "Pakistan",
             2018
            ],
            [
             "Pakistan",
             2018
            ],
            [
             "Pakistan",
             2018
            ],
            [
             "Pakistan",
             2018
            ],
            [
             "Pakistan",
             2018
            ],
            [
             "Pakistan",
             2018
            ],
            [
             "Pakistan",
             2018
            ],
            [
             "Pakistan",
             2018
            ]
           ],
           "hovertemplate": "region=Asia and Australasia<br>year=%{customdata[1]}<br>democracy_index_score=%{x}<br>percent_W=%{marker.size}<br>country=%{customdata[0]}<extra></extra>",
           "legendgroup": "Asia and Australasia",
           "marker": {
            "color": "rgb(115, 175, 72)",
            "size": [
             0.2786885245901639,
             0.2701612903225806,
             0.2701612903225806,
             0.2786885245901639,
             0.2701612903225806,
             0.2701612903225806,
             0.2701612903225806,
             0.2701612903225806,
             0.2701612903225806,
             0.236,
             0.2701612903225806,
             0.2701612903225806,
             0.2796208530805687,
             0.2796208530805687,
             0.2701612903225806,
             0.2701612903225806,
             0.2701612903225806,
             0.2701612903225806,
             0.2063037249283667,
             0.2091690544412607,
             0.2085714285714285,
             0.2085714285714285,
             0.2063037249283667,
             0.2091690544412607,
             0.2091690544412607,
             0.2085714285714285,
             0.2068965517241379,
             0.2091690544412607,
             0.2063037249283667,
             0.2091690544412607,
             0.2063037249283667,
             0.2091690544412607,
             0.2085714285714285,
             0.2091690544412607,
             0.2091690544412607,
             0.1489361702127659,
             0.1489361702127659,
             0.1702127659574468,
             0.1739130434782608,
             0.1489361702127659,
             0.1739130434782608,
             0.1489361702127659,
             0.1489361702127659,
             0.1489361702127659,
             0.1489361702127659,
             0.1489361702127659,
             0.1489361702127659,
             0.1489361702127659,
             0.1489361702127659,
             0.1739130434782608,
             0.1489361702127659,
             0.1489361702127659,
             0.1702127659574468,
             0.2,
             0.2,
             0.216,
             0.208,
             0.216,
             0.2,
             0.216,
             0.208,
             0.216,
             0.208,
             0.208,
             0.2494117647058823,
             0.2494117647058823,
             0.2494117647058823,
             0.2494117647058823,
             0.2494117647058823,
             0.2494117647058823,
             0.2494117647058823,
             0.2494117647058823,
             0.2494117647058823,
             0.2494117647058823,
             0.2494117647058823,
             0.2494117647058823,
             0.2494117647058823,
             0.2494117647058823,
             0.2494117647058823,
             0.2494117647058823,
             0.2494117647058823,
             0.2494117647058823,
             0.2494117647058823,
             0.2494117647058823,
             0.196078431372549,
             0.196078431372549,
             0.2156862745098039,
             0.196078431372549,
             0.196078431372549,
             0.196078431372549,
             0.196078431372549,
             0.196078431372549,
             0.196078431372549,
             0.196078431372549,
             0.196078431372549,
             0.196078431372549,
             0.196078431372549,
             0.1441441441441441,
             0.1486486486486486,
             0.1486486486486486,
             0.15,
             0.1486486486486486,
             0.1441441441441441,
             0.1486486486486486,
             0.1441441441441441,
             0.1441441441441441,
             0.1441441441441441,
             0.1486486486486486,
             0.1486486486486486,
             0.2023460410557184,
             0.2017543859649122,
             0.2017543859649122,
             0.2046783625730994,
             0.2023460410557184,
             0.2017543859649122,
             0.2017543859649122,
             0.2023460410557184,
             0.2017543859649122,
             0.2017543859649122,
             0.2023460410557184,
             0.2017543859649122,
             0.2023460410557184,
             0.2017543859649122,
             0.2023460410557184,
             0.2017543859649122,
             0.2023460410557184,
             0.2017543859649122,
             0.2017543859649122,
             0.2017543859649122
            ],
            "sizemode": "area",
            "sizeref": 0.00153125,
            "symbol": "circle"
           },
           "mode": "markers",
           "name": "Asia and Australasia",
           "orientation": "v",
           "showlegend": true,
           "type": "scatter",
           "x": [
            2.97,
            2.97,
            2.97,
            2.97,
            2.97,
            2.97,
            2.97,
            2.97,
            2.97,
            2.97,
            2.97,
            2.97,
            2.97,
            2.97,
            2.97,
            2.97,
            2.97,
            2.97,
            5.57,
            5.57,
            5.57,
            5.57,
            5.57,
            5.57,
            5.57,
            5.57,
            5.57,
            5.57,
            5.57,
            5.57,
            5.57,
            5.57,
            5.57,
            5.57,
            5.57,
            5.3,
            5.3,
            5.3,
            5.3,
            5.3,
            5.3,
            5.3,
            5.3,
            5.3,
            5.3,
            5.3,
            5.3,
            5.3,
            5.3,
            5.3,
            5.3,
            5.3,
            5.3,
            3.59,
            3.59,
            3.59,
            3.59,
            3.59,
            3.59,
            3.59,
            3.59,
            3.59,
            3.59,
            3.59,
            3.32,
            3.32,
            3.32,
            3.32,
            3.32,
            3.32,
            3.32,
            3.32,
            3.32,
            3.32,
            3.32,
            3.32,
            3.32,
            3.32,
            3.32,
            3.32,
            3.32,
            3.32,
            3.32,
            3.32,
            5.85,
            5.85,
            5.85,
            5.85,
            5.85,
            5.85,
            5.85,
            5.85,
            5.85,
            5.85,
            5.85,
            5.85,
            5.85,
            6.88,
            6.88,
            6.88,
            6.88,
            6.88,
            6.88,
            6.88,
            6.88,
            6.88,
            6.88,
            6.88,
            6.88,
            4.17,
            4.17,
            4.17,
            4.17,
            4.17,
            4.17,
            4.17,
            4.17,
            4.17,
            4.17,
            4.17,
            4.17,
            4.17,
            4.17,
            4.17,
            4.17,
            4.17,
            4.17,
            4.17,
            4.17
           ],
           "xaxis": "x",
           "y": [
            0.2786885245901639,
            0.2701612903225806,
            0.2701612903225806,
            0.2786885245901639,
            0.2701612903225806,
            0.2701612903225806,
            0.2701612903225806,
            0.2701612903225806,
            0.2701612903225806,
            0.236,
            0.2701612903225806,
            0.2701612903225806,
            0.2796208530805687,
            0.2796208530805687,
            0.2701612903225806,
            0.2701612903225806,
            0.2701612903225806,
            0.2701612903225806,
            0.2063037249283667,
            0.2091690544412607,
            0.2085714285714285,
            0.2085714285714285,
            0.2063037249283667,
            0.2091690544412607,
            0.2091690544412607,
            0.2085714285714285,
            0.2068965517241379,
            0.2091690544412607,
            0.2063037249283667,
            0.2091690544412607,
            0.2063037249283667,
            0.2091690544412607,
            0.2085714285714285,
            0.2091690544412607,
            0.2091690544412607,
            0.1489361702127659,
            0.1489361702127659,
            0.1702127659574468,
            0.1739130434782608,
            0.1489361702127659,
            0.1739130434782608,
            0.1489361702127659,
            0.1489361702127659,
            0.1489361702127659,
            0.1489361702127659,
            0.1489361702127659,
            0.1489361702127659,
            0.1489361702127659,
            0.1489361702127659,
            0.1739130434782608,
            0.1489361702127659,
            0.1489361702127659,
            0.1702127659574468,
            0.2,
            0.2,
            0.216,
            0.208,
            0.216,
            0.2,
            0.216,
            0.208,
            0.216,
            0.208,
            0.208,
            0.2494117647058823,
            0.2494117647058823,
            0.2494117647058823,
            0.2494117647058823,
            0.2494117647058823,
            0.2494117647058823,
            0.2494117647058823,
            0.2494117647058823,
            0.2494117647058823,
            0.2494117647058823,
            0.2494117647058823,
            0.2494117647058823,
            0.2494117647058823,
            0.2494117647058823,
            0.2494117647058823,
            0.2494117647058823,
            0.2494117647058823,
            0.2494117647058823,
            0.2494117647058823,
            0.2494117647058823,
            0.196078431372549,
            0.196078431372549,
            0.2156862745098039,
            0.196078431372549,
            0.196078431372549,
            0.196078431372549,
            0.196078431372549,
            0.196078431372549,
            0.196078431372549,
            0.196078431372549,
            0.196078431372549,
            0.196078431372549,
            0.196078431372549,
            0.1441441441441441,
            0.1486486486486486,
            0.1486486486486486,
            0.15,
            0.1486486486486486,
            0.1441441441441441,
            0.1486486486486486,
            0.1441441441441441,
            0.1441441441441441,
            0.1441441441441441,
            0.1486486486486486,
            0.1486486486486486,
            0.2023460410557184,
            0.2017543859649122,
            0.2017543859649122,
            0.2046783625730994,
            0.2023460410557184,
            0.2017543859649122,
            0.2017543859649122,
            0.2023460410557184,
            0.2017543859649122,
            0.2017543859649122,
            0.2023460410557184,
            0.2017543859649122,
            0.2023460410557184,
            0.2017543859649122,
            0.2023460410557184,
            0.2017543859649122,
            0.2023460410557184,
            0.2017543859649122,
            0.2017543859649122,
            0.2017543859649122
           ],
           "yaxis": "y"
          },
          {
           "customdata": [
            [
             "Bahrain",
             2018
            ],
            [
             "Bahrain",
             2018
            ],
            [
             "Bahrain",
             2018
            ],
            [
             "Bahrain",
             2018
            ],
            [
             "Bahrain",
             2018
            ],
            [
             "Bahrain",
             2018
            ],
            [
             "Bahrain",
             2018
            ],
            [
             "Bahrain",
             2018
            ],
            [
             "Bahrain",
             2018
            ],
            [
             "Bahrain",
             2018
            ],
            [
             "Bahrain",
             2018
            ],
            [
             "Bahrain",
             2018
            ],
            [
             "Bahrain",
             2018
            ],
            [
             "Iraq",
             2018
            ],
            [
             "Iraq",
             2018
            ],
            [
             "Iraq",
             2018
            ],
            [
             "Iraq",
             2018
            ],
            [
             "Iraq",
             2018
            ],
            [
             "Iraq",
             2018
            ],
            [
             "Iraq",
             2018
            ],
            [
             "Iraq",
             2018
            ],
            [
             "Iraq",
             2018
            ],
            [
             "Iraq",
             2018
            ],
            [
             "Iraq",
             2018
            ],
            [
             "Iraq",
             2018
            ],
            [
             "Iraq",
             2018
            ],
            [
             "Iraq",
             2018
            ],
            [
             "Iraq",
             2018
            ],
            [
             "Iraq",
             2018
            ],
            [
             "Lebanon",
             2018
            ],
            [
             "Lebanon",
             2018
            ],
            [
             "Lebanon",
             2018
            ],
            [
             "Lebanon",
             2018
            ],
            [
             "Lebanon",
             2018
            ],
            [
             "Lebanon",
             2018
            ],
            [
             "Lebanon",
             2018
            ],
            [
             "Lebanon",
             2018
            ],
            [
             "Lebanon",
             2018
            ]
           ],
           "hovertemplate": "region=Middle East and North Africa<br>year=%{customdata[1]}<br>democracy_index_score=%{x}<br>percent_W=%{marker.size}<br>country=%{customdata[0]}<extra></extra>",
           "legendgroup": "Middle East and North Africa",
           "marker": {
            "color": "rgb(237, 173, 8)",
            "size": [
             0.15,
             0.15,
             0.15,
             0.15,
             0.15,
             0.15,
             0.15,
             0.15,
             0.15,
             0.15,
             0.15,
             0.15,
             0.15,
             0.2522796352583586,
             0.2644376899696048,
             0.2644376899696048,
             0.2522796352583586,
             0.2644376899696048,
             0.2644376899696048,
             0.2522796352583586,
             0.2644376899696048,
             0.2644376899696048,
             0.2522796352583586,
             0.2644376899696048,
             0.2522796352583586,
             0.2644376899696048,
             0.2644376899696048,
             0.2644376899696048,
             0.2644376899696048,
             0.046875,
             0.046875,
             0.046875,
             0.046875,
             0.046875,
             0.046875,
             0.046875,
             0.0393700787401574,
             0.046875
            ],
            "sizemode": "area",
            "sizeref": 0.00153125,
            "symbol": "circle"
           },
           "mode": "markers",
           "name": "Middle East and North Africa",
           "orientation": "v",
           "showlegend": true,
           "type": "scatter",
           "x": [
            2.71,
            2.71,
            2.71,
            2.71,
            2.71,
            2.71,
            2.71,
            2.71,
            2.71,
            2.71,
            2.71,
            2.71,
            2.71,
            4.06,
            4.06,
            4.06,
            4.06,
            4.06,
            4.06,
            4.06,
            4.06,
            4.06,
            4.06,
            4.06,
            4.06,
            4.06,
            4.06,
            4.06,
            4.06,
            4.63,
            4.63,
            4.63,
            4.63,
            4.63,
            4.63,
            4.63,
            4.63,
            4.63
           ],
           "xaxis": "x",
           "y": [
            0.15,
            0.15,
            0.15,
            0.15,
            0.15,
            0.15,
            0.15,
            0.15,
            0.15,
            0.15,
            0.15,
            0.15,
            0.15,
            0.2522796352583586,
            0.2644376899696048,
            0.2644376899696048,
            0.2522796352583586,
            0.2644376899696048,
            0.2644376899696048,
            0.2522796352583586,
            0.2644376899696048,
            0.2644376899696048,
            0.2522796352583586,
            0.2644376899696048,
            0.2522796352583586,
            0.2644376899696048,
            0.2644376899696048,
            0.2644376899696048,
            0.2644376899696048,
            0.046875,
            0.046875,
            0.046875,
            0.046875,
            0.046875,
            0.046875,
            0.046875,
            0.0393700787401574,
            0.046875
           ],
           "yaxis": "y"
          },
          {
           "customdata": [
            [
             "Democratic Republic of the Congo",
             2018
            ],
            [
             "Democratic Republic of the Congo",
             2018
            ],
            [
             "Democratic Republic of the Congo",
             2018
            ],
            [
             "Democratic Republic of the Congo",
             2018
            ],
            [
             "Democratic Republic of the Congo",
             2018
            ],
            [
             "Democratic Republic of the Congo",
             2018
            ],
            [
             "Democratic Republic of the Congo",
             2018
            ],
            [
             "Democratic Republic of the Congo",
             2018
            ],
            [
             "Democratic Republic of the Congo",
             2018
            ],
            [
             "Democratic Republic of the Congo",
             2018
            ],
            [
             "Democratic Republic of the Congo",
             2018
            ],
            [
             "Democratic Republic of the Congo",
             2018
            ],
            [
             "Democratic Republic of the Congo",
             2018
            ],
            [
             "Djibouti",
             2018
            ],
            [
             "Djibouti",
             2018
            ],
            [
             "Djibouti",
             2018
            ],
            [
             "Djibouti",
             2018
            ],
            [
             "Djibouti",
             2018
            ],
            [
             "Djibouti",
             2018
            ],
            [
             "Djibouti",
             2018
            ],
            [
             "Djibouti",
             2018
            ],
            [
             "Djibouti",
             2018
            ],
            [
             "Djibouti",
             2018
            ],
            [
             "Djibouti",
             2018
            ],
            [
             "Djibouti",
             2018
            ],
            [
             "Eswatini",
             2018
            ],
            [
             "Eswatini",
             2018
            ],
            [
             "Eswatini",
             2018
            ],
            [
             "Eswatini",
             2018
            ],
            [
             "Eswatini",
             2018
            ],
            [
             "Eswatini",
             2018
            ],
            [
             "Eswatini",
             2018
            ],
            [
             "Eswatini",
             2018
            ],
            [
             "Eswatini",
             2018
            ],
            [
             "Eswatini",
             2018
            ],
            [
             "Eswatini",
             2018
            ],
            [
             "Eswatini",
             2018
            ],
            [
             "Eswatini",
             2018
            ],
            [
             "Eswatini",
             2018
            ],
            [
             "Gabon",
             2018
            ],
            [
             "Gabon",
             2018
            ],
            [
             "Gabon",
             2018
            ],
            [
             "Gabon",
             2018
            ],
            [
             "Gabon",
             2018
            ],
            [
             "Gabon",
             2018
            ],
            [
             "Gabon",
             2018
            ],
            [
             "Gabon",
             2018
            ],
            [
             "Gabon",
             2018
            ],
            [
             "Gabon",
             2018
            ],
            [
             "Gabon",
             2018
            ],
            [
             "Gabon",
             2018
            ],
            [
             "Gabon",
             2018
            ],
            [
             "Gabon",
             2018
            ],
            [
             "Gabon",
             2018
            ],
            [
             "Gabon",
             2018
            ],
            [
             "Gabon",
             2018
            ],
            [
             "Mauritania",
             2018
            ],
            [
             "Mauritania",
             2018
            ],
            [
             "Mauritania",
             2018
            ],
            [
             "Mauritania",
             2018
            ],
            [
             "Mauritania",
             2018
            ],
            [
             "Mauritania",
             2018
            ],
            [
             "Mauritania",
             2018
            ],
            [
             "Mauritania",
             2018
            ],
            [
             "Mauritania",
             2018
            ],
            [
             "Mauritania",
             2018
            ],
            [
             "Mauritania",
             2018
            ],
            [
             "Mauritania",
             2018
            ],
            [
             "Mauritania",
             2018
            ],
            [
             "Mauritania",
             2018
            ],
            [
             "Mauritania",
             2018
            ],
            [
             "Mauritania",
             2018
            ],
            [
             "Mauritania",
             2018
            ],
            [
             "Rwanda",
             2018
            ],
            [
             "Rwanda",
             2018
            ],
            [
             "Rwanda",
             2018
            ],
            [
             "Rwanda",
             2018
            ],
            [
             "Sierra Leone",
             2018
            ],
            [
             "Sierra Leone",
             2018
            ],
            [
             "Sierra Leone",
             2018
            ],
            [
             "Sierra Leone",
             2018
            ],
            [
             "Sierra Leone",
             2018
            ],
            [
             "Togo",
             2018
            ],
            [
             "Togo",
             2018
            ],
            [
             "Togo",
             2018
            ],
            [
             "Togo",
             2018
            ],
            [
             "Togo",
             2018
            ],
            [
             "Togo",
             2018
            ],
            [
             "Togo",
             2018
            ],
            [
             "Togo",
             2018
            ],
            [
             "Togo",
             2018
            ],
            [
             "Togo",
             2018
            ],
            [
             "Togo",
             2018
            ],
            [
             "Togo",
             2018
            ],
            [
             "Zimbabwe",
             2018
            ],
            [
             "Zimbabwe",
             2018
            ],
            [
             "Zimbabwe",
             2018
            ],
            [
             "Zimbabwe",
             2018
            ],
            [
             "Zimbabwe",
             2018
            ],
            [
             "Zimbabwe",
             2018
            ],
            [
             "Zimbabwe",
             2018
            ],
            [
             "Zimbabwe",
             2018
            ],
            [
             "Zimbabwe",
             2018
            ],
            [
             "Zimbabwe",
             2018
            ],
            [
             "Zimbabwe",
             2018
            ],
            [
             "Zimbabwe",
             2018
            ],
            [
             "Zimbabwe",
             2018
            ],
            [
             "Zimbabwe",
             2018
            ],
            [
             "Zimbabwe",
             2018
            ]
           ],
           "hovertemplate": "region=Sub-Saharan Africa<br>year=%{customdata[1]}<br>democracy_index_score=%{x}<br>percent_W=%{marker.size}<br>country=%{customdata[0]}<extra></extra>",
           "legendgroup": "Sub-Saharan Africa",
           "marker": {
            "color": "rgb(225, 124, 5)",
            "size": [
             0.1,
             0.128,
             0.128,
             0.128,
             0.1,
             0.128,
             0.1030927835051546,
             0.128,
             0.1030927835051546,
             0.128,
             0.1030927835051546,
             0.1,
             0.1,
             0.2615384615384615,
             0.2615384615384615,
             0.2615384615384615,
             0.2615384615384615,
             0.2615384615384615,
             0.2615384615384615,
             0.2615384615384615,
             0.2615384615384615,
             0.2615384615384615,
             0.2615384615384615,
             0.2615384615384615,
             0.2615384615384615,
             0.072463768115942,
             0.0958904109589041,
             0.0958904109589041,
             0.1351351351351351,
             0.0958904109589041,
             0.1351351351351351,
             0.072463768115942,
             0.0958904109589041,
             0.072463768115942,
             0.0958904109589041,
             0.1216216216216216,
             0.1216216216216216,
             0.0958904109589041,
             0.1216216216216216,
             0.1791044776119403,
             0.1478873239436619,
             0.1619718309859155,
             0.1538461538461538,
             0.1478873239436619,
             0.1619718309859155,
             0.1538461538461538,
             0.1478873239436619,
             0.1791044776119403,
             0.1478873239436619,
             0.1619718309859155,
             0.1478873239436619,
             0.1619718309859155,
             0.1538461538461538,
             0.1478873239436619,
             0.1619718309859155,
             0.1538461538461538,
             0.2026143790849673,
             0.2026143790849673,
             0.2026143790849673,
             0.2026143790849673,
             0.2026143790849673,
             0.2026143790849673,
             0.2026143790849673,
             0.2026143790849673,
             0.2026143790849673,
             0.2026143790849673,
             0.2026143790849673,
             0.2026143790849673,
             0.2026143790849673,
             0.2026143790849673,
             0.2026143790849673,
             0.2026143790849673,
             0.2026143790849673,
             0.6125,
             0.6125,
             0.6125,
             0.6125,
             0.1232876712328767,
             0.1232876712328767,
             0.1232876712328767,
             0.1232876712328767,
             0.1232876712328767,
             0.1648351648351648,
             0.1868131868131868,
             0.1868131868131868,
             0.1868131868131868,
             0.1648351648351648,
             0.1868131868131868,
             0.1648351648351648,
             0.1868131868131868,
             0.1648351648351648,
             0.1868131868131868,
             0.1868131868131868,
             0.1868131868131868,
             0.3185185185185185,
             0.3185185185185185,
             0.3185185185185185,
             0.3056603773584905,
             0.3056603773584905,
             0.3185185185185185,
             0.3185185185185185,
             0.3185185185185185,
             0.3056603773584905,
             0.3185185185185185,
             0.3185185185185185,
             0.3056603773584905,
             0.3185185185185185,
             0.3185185185185185,
             0.3185185185185185
            ],
            "sizemode": "area",
            "sizeref": 0.00153125,
            "symbol": "circle"
           },
           "mode": "markers",
           "name": "Sub-Saharan Africa",
           "orientation": "v",
           "showlegend": true,
           "type": "scatter",
           "x": [
            1.49,
            1.49,
            1.49,
            1.49,
            1.49,
            1.49,
            1.49,
            1.49,
            1.49,
            1.49,
            1.49,
            1.49,
            1.49,
            2.87,
            2.87,
            2.87,
            2.87,
            2.87,
            2.87,
            2.87,
            2.87,
            2.87,
            2.87,
            2.87,
            2.87,
            3.03,
            3.03,
            3.03,
            3.03,
            3.03,
            3.03,
            3.03,
            3.03,
            3.03,
            3.03,
            3.03,
            3.03,
            3.03,
            3.03,
            3.61,
            3.61,
            3.61,
            3.61,
            3.61,
            3.61,
            3.61,
            3.61,
            3.61,
            3.61,
            3.61,
            3.61,
            3.61,
            3.61,
            3.61,
            3.61,
            3.61,
            3.82,
            3.82,
            3.82,
            3.82,
            3.82,
            3.82,
            3.82,
            3.82,
            3.82,
            3.82,
            3.82,
            3.82,
            3.82,
            3.82,
            3.82,
            3.82,
            3.82,
            3.35,
            3.35,
            3.35,
            3.35,
            4.66,
            4.66,
            4.66,
            4.66,
            4.66,
            3.1,
            3.1,
            3.1,
            3.1,
            3.1,
            3.1,
            3.1,
            3.1,
            3.1,
            3.1,
            3.1,
            3.1,
            3.16,
            3.16,
            3.16,
            3.16,
            3.16,
            3.16,
            3.16,
            3.16,
            3.16,
            3.16,
            3.16,
            3.16,
            3.16,
            3.16,
            3.16
           ],
           "xaxis": "x",
           "y": [
            0.1,
            0.128,
            0.128,
            0.128,
            0.1,
            0.128,
            0.1030927835051546,
            0.128,
            0.1030927835051546,
            0.128,
            0.1030927835051546,
            0.1,
            0.1,
            0.2615384615384615,
            0.2615384615384615,
            0.2615384615384615,
            0.2615384615384615,
            0.2615384615384615,
            0.2615384615384615,
            0.2615384615384615,
            0.2615384615384615,
            0.2615384615384615,
            0.2615384615384615,
            0.2615384615384615,
            0.2615384615384615,
            0.072463768115942,
            0.0958904109589041,
            0.0958904109589041,
            0.1351351351351351,
            0.0958904109589041,
            0.1351351351351351,
            0.072463768115942,
            0.0958904109589041,
            0.072463768115942,
            0.0958904109589041,
            0.1216216216216216,
            0.1216216216216216,
            0.0958904109589041,
            0.1216216216216216,
            0.1791044776119403,
            0.1478873239436619,
            0.1619718309859155,
            0.1538461538461538,
            0.1478873239436619,
            0.1619718309859155,
            0.1538461538461538,
            0.1478873239436619,
            0.1791044776119403,
            0.1478873239436619,
            0.1619718309859155,
            0.1478873239436619,
            0.1619718309859155,
            0.1538461538461538,
            0.1478873239436619,
            0.1619718309859155,
            0.1538461538461538,
            0.2026143790849673,
            0.2026143790849673,
            0.2026143790849673,
            0.2026143790849673,
            0.2026143790849673,
            0.2026143790849673,
            0.2026143790849673,
            0.2026143790849673,
            0.2026143790849673,
            0.2026143790849673,
            0.2026143790849673,
            0.2026143790849673,
            0.2026143790849673,
            0.2026143790849673,
            0.2026143790849673,
            0.2026143790849673,
            0.2026143790849673,
            0.6125,
            0.6125,
            0.6125,
            0.6125,
            0.1232876712328767,
            0.1232876712328767,
            0.1232876712328767,
            0.1232876712328767,
            0.1232876712328767,
            0.1648351648351648,
            0.1868131868131868,
            0.1868131868131868,
            0.1868131868131868,
            0.1648351648351648,
            0.1868131868131868,
            0.1648351648351648,
            0.1868131868131868,
            0.1648351648351648,
            0.1868131868131868,
            0.1868131868131868,
            0.1868131868131868,
            0.3185185185185185,
            0.3185185185185185,
            0.3185185185185185,
            0.3056603773584905,
            0.3056603773584905,
            0.3185185185185185,
            0.3185185185185185,
            0.3185185185185185,
            0.3056603773584905,
            0.3185185185185185,
            0.3185185185185185,
            0.3056603773584905,
            0.3185185185185185,
            0.3185185185185185,
            0.3185185185185185
           ],
           "yaxis": "y"
          }
         ],
         "name": "2018"
        },
        {
         "data": [
          {
           "customdata": [
            [
             "Canada",
             2019
            ],
            [
             "Canada",
             2019
            ],
            [
             "Canada",
             2019
            ],
            [
             "Canada",
             2019
            ],
            [
             "Canada",
             2019
            ],
            [
             "Canada",
             2019
            ],
            [
             "Canada",
             2019
            ],
            [
             "Canada",
             2019
            ]
           ],
           "hovertemplate": "region=North America<br>year=%{customdata[1]}<br>democracy_index_score=%{x}<br>percent_W=%{marker.size}<br>country=%{customdata[0]}<extra></extra>",
           "legendgroup": "North America",
           "marker": {
            "color": "rgb(95, 70, 144)",
            "size": [
             0.2899408284023668,
             0.2899408284023668,
             0.2899408284023668,
             0.2958579881656805,
             0.2899408284023668,
             0.2958579881656805,
             0.2899408284023668,
             0.2958579881656805
            ],
            "sizemode": "area",
            "sizeref": 0.00153125,
            "symbol": "circle"
           },
           "mode": "markers",
           "name": "North America",
           "orientation": "v",
           "showlegend": true,
           "type": "scatter",
           "x": [
            9.22,
            9.22,
            9.22,
            9.22,
            9.22,
            9.22,
            9.22,
            9.22
           ],
           "xaxis": "x",
           "y": [
            0.2899408284023668,
            0.2899408284023668,
            0.2899408284023668,
            0.2958579881656805,
            0.2899408284023668,
            0.2958579881656805,
            0.2899408284023668,
            0.2958579881656805
           ],
           "yaxis": "y"
          },
          {
           "customdata": [
            [
             "Austria",
             2019
            ],
            [
             "Austria",
             2019
            ],
            [
             "Austria",
             2019
            ],
            [
             "Austria",
             2019
            ],
            [
             "Austria",
             2019
            ],
            [
             "Austria",
             2019
            ],
            [
             "Austria",
             2019
            ],
            [
             "Austria",
             2019
            ],
            [
             "Austria",
             2019
            ],
            [
             "Austria",
             2019
            ],
            [
             "Austria",
             2019
            ],
            [
             "Austria",
             2019
            ],
            [
             "Austria",
             2019
            ],
            [
             "Austria",
             2019
            ],
            [
             "Austria",
             2019
            ],
            [
             "Belgium",
             2019
            ],
            [
             "Belgium",
             2019
            ],
            [
             "Belgium",
             2019
            ],
            [
             "Belgium",
             2019
            ],
            [
             "Belgium",
             2019
            ],
            [
             "Belgium",
             2019
            ],
            [
             "Belgium",
             2019
            ],
            [
             "Belgium",
             2019
            ],
            [
             "Belgium",
             2019
            ],
            [
             "Belgium",
             2019
            ],
            [
             "Belgium",
             2019
            ],
            [
             "Belgium",
             2019
            ],
            [
             "Belgium",
             2019
            ],
            [
             "Denmark",
             2019
            ],
            [
             "Denmark",
             2019
            ],
            [
             "Denmark",
             2019
            ],
            [
             "Denmark",
             2019
            ],
            [
             "Denmark",
             2019
            ],
            [
             "Denmark",
             2019
            ],
            [
             "Denmark",
             2019
            ],
            [
             "Denmark",
             2019
            ],
            [
             "Denmark",
             2019
            ],
            [
             "Denmark",
             2019
            ],
            [
             "Denmark",
             2019
            ],
            [
             "Denmark",
             2019
            ],
            [
             "Denmark",
             2019
            ],
            [
             "Denmark",
             2019
            ],
            [
             "Finland",
             2019
            ],
            [
             "Finland",
             2019
            ],
            [
             "Finland",
             2019
            ],
            [
             "Finland",
             2019
            ],
            [
             "Finland",
             2019
            ],
            [
             "Finland",
             2019
            ],
            [
             "Finland",
             2019
            ],
            [
             "Greece",
             2019
            ],
            [
             "Greece",
             2019
            ],
            [
             "Greece",
             2019
            ],
            [
             "Greece",
             2019
            ],
            [
             "Greece",
             2019
            ],
            [
             "Greece",
             2019
            ],
            [
             "Greece",
             2019
            ],
            [
             "Greece",
             2019
            ],
            [
             "Greece",
             2019
            ],
            [
             "Greece",
             2019
            ],
            [
             "Greece",
             2019
            ],
            [
             "Greece",
             2019
            ],
            [
             "Greece",
             2019
            ],
            [
             "Greece",
             2019
            ],
            [
             "Greece",
             2019
            ],
            [
             "Greece",
             2019
            ],
            [
             "Greece",
             2019
            ],
            [
             "Portugal",
             2019
            ],
            [
             "Portugal",
             2019
            ],
            [
             "Portugal",
             2019
            ],
            [
             "Spain",
             2019
            ],
            [
             "Spain",
             2019
            ],
            [
             "Spain",
             2019
            ],
            [
             "Spain",
             2019
            ],
            [
             "Spain",
             2019
            ],
            [
             "Spain",
             2019
            ],
            [
             "Spain",
             2019
            ],
            [
             "Spain",
             2019
            ],
            [
             "Spain",
             2019
            ],
            [
             "Spain",
             2019
            ],
            [
             "Spain",
             2019
            ],
            [
             "Switzerland",
             2019
            ],
            [
             "Switzerland",
             2019
            ],
            [
             "Switzerland",
             2019
            ],
            [
             "Switzerland",
             2019
            ],
            [
             "Switzerland",
             2019
            ],
            [
             "Switzerland",
             2019
            ],
            [
             "Switzerland",
             2019
            ],
            [
             "United Kingdom",
             2019
            ],
            [
             "United Kingdom",
             2019
            ],
            [
             "United Kingdom",
             2019
            ],
            [
             "United Kingdom",
             2019
            ],
            [
             "United Kingdom",
             2019
            ],
            [
             "United Kingdom",
             2019
            ],
            [
             "United Kingdom",
             2019
            ],
            [
             "United Kingdom",
             2019
            ],
            [
             "United Kingdom",
             2019
            ],
            [
             "United Kingdom",
             2019
            ],
            [
             "United Kingdom",
             2019
            ],
            [
             "United Kingdom",
             2019
            ],
            [
             "United Kingdom",
             2019
            ],
            [
             "United Kingdom",
             2019
            ],
            [
             "United Kingdom",
             2019
            ],
            [
             "United Kingdom",
             2019
            ],
            [
             "United Kingdom",
             2019
            ],
            [
             "United Kingdom",
             2019
            ],
            [
             "United Kingdom",
             2019
            ]
           ],
           "hovertemplate": "region=Western Europe<br>year=%{customdata[1]}<br>democracy_index_score=%{x}<br>percent_W=%{marker.size}<br>country=%{customdata[0]}<extra></extra>",
           "legendgroup": "Western Europe",
           "marker": {
            "color": "rgb(29, 105, 150)",
            "size": [
             0.3934426229508196,
             0.3934426229508196,
             0.4043715846994535,
             0.4098360655737705,
             0.3934426229508196,
             0.3934426229508196,
             0.4043715846994535,
             0.3934426229508196,
             0.3989071038251366,
             0.4153005464480874,
             0.3934426229508196,
             0.3934426229508196,
             0.4153005464480874,
             0.3934426229508196,
             0.4043715846994535,
             0.42,
             0.4066666666666667,
             0.42,
             0.4266666666666667,
             0.4133333333333333,
             0.42,
             0.42,
             0.42,
             0.42,
             0.4266666666666667,
             0.42,
             0.4266666666666667,
             0.4266666666666667,
             0.3910614525139664,
             0.3966480446927374,
             0.3966480446927374,
             0.3966480446927374,
             0.3910614525139664,
             0.3910614525139664,
             0.3966480446927374,
             0.3966480446927374,
             0.3966480446927374,
             0.3910614525139664,
             0.3966480446927374,
             0.3966480446927374,
             0.3910614525139664,
             0.3966480446927374,
             0.47,
             0.46,
             0.46,
             0.455,
             0.46,
             0.47,
             0.455,
             0.2066666666666666,
             0.2166666666666666,
             0.2166666666666666,
             0.21,
             0.2166666666666666,
             0.2166666666666666,
             0.2066666666666666,
             0.2166666666666666,
             0.2066666666666666,
             0.21,
             0.2066666666666666,
             0.2166666666666666,
             0.21,
             0.2166666666666666,
             0.2166666666666666,
             0.2166666666666666,
             0.21,
             0.4,
             0.3869565217391304,
             0.3869565217391304,
             0.4742857142857143,
             0.44,
             0.4342857142857143,
             0.4297994269340974,
             0.44,
             0.4342857142857143,
             0.44,
             0.4742857142857143,
             0.4742857142857143,
             0.4742857142857143,
             0.4297994269340974,
             0.415,
             0.42,
             0.425,
             0.415,
             0.415,
             0.425,
             0.42,
             0.3384615384615385,
             0.3415384615384615,
             0.3461538461538461,
             0.3425925925925926,
             0.3466872110939907,
             0.3425925925925926,
             0.3384615384615385,
             0.3384615384615385,
             0.3436055469953775,
             0.3441358024691358,
             0.3384615384615385,
             0.3451463790446841,
             0.3384615384615385,
             0.3472222222222222,
             0.3395061728395062,
             0.3472222222222222,
             0.3405238828967643,
             0.3415384615384615,
             0.3461538461538461
            ],
            "sizemode": "area",
            "sizeref": 0.00153125,
            "symbol": "circle"
           },
           "mode": "markers",
           "name": "Western Europe",
           "orientation": "v",
           "showlegend": true,
           "type": "scatter",
           "x": [
            8.29,
            8.29,
            8.29,
            8.29,
            8.29,
            8.29,
            8.29,
            8.29,
            8.29,
            8.29,
            8.29,
            8.29,
            8.29,
            8.29,
            8.29,
            7.64,
            7.64,
            7.64,
            7.64,
            7.64,
            7.64,
            7.64,
            7.64,
            7.64,
            7.64,
            7.64,
            7.64,
            7.64,
            9.22,
            9.22,
            9.22,
            9.22,
            9.22,
            9.22,
            9.22,
            9.22,
            9.22,
            9.22,
            9.22,
            9.22,
            9.22,
            9.22,
            9.25,
            9.25,
            9.25,
            9.25,
            9.25,
            9.25,
            9.25,
            7.43,
            7.43,
            7.43,
            7.43,
            7.43,
            7.43,
            7.43,
            7.43,
            7.43,
            7.43,
            7.43,
            7.43,
            7.43,
            7.43,
            7.43,
            7.43,
            7.43,
            8.03,
            8.03,
            8.03,
            8.29,
            8.29,
            8.29,
            8.29,
            8.29,
            8.29,
            8.29,
            8.29,
            8.29,
            8.29,
            8.29,
            9.03,
            9.03,
            9.03,
            9.03,
            9.03,
            9.03,
            9.03,
            8.52,
            8.52,
            8.52,
            8.52,
            8.52,
            8.52,
            8.52,
            8.52,
            8.52,
            8.52,
            8.52,
            8.52,
            8.52,
            8.52,
            8.52,
            8.52,
            8.52,
            8.52,
            8.52
           ],
           "xaxis": "x",
           "y": [
            0.3934426229508196,
            0.3934426229508196,
            0.4043715846994535,
            0.4098360655737705,
            0.3934426229508196,
            0.3934426229508196,
            0.4043715846994535,
            0.3934426229508196,
            0.3989071038251366,
            0.4153005464480874,
            0.3934426229508196,
            0.3934426229508196,
            0.4153005464480874,
            0.3934426229508196,
            0.4043715846994535,
            0.42,
            0.4066666666666667,
            0.42,
            0.4266666666666667,
            0.4133333333333333,
            0.42,
            0.42,
            0.42,
            0.42,
            0.4266666666666667,
            0.42,
            0.4266666666666667,
            0.4266666666666667,
            0.3910614525139664,
            0.3966480446927374,
            0.3966480446927374,
            0.3966480446927374,
            0.3910614525139664,
            0.3910614525139664,
            0.3966480446927374,
            0.3966480446927374,
            0.3966480446927374,
            0.3910614525139664,
            0.3966480446927374,
            0.3966480446927374,
            0.3910614525139664,
            0.3966480446927374,
            0.47,
            0.46,
            0.46,
            0.455,
            0.46,
            0.47,
            0.455,
            0.2066666666666666,
            0.2166666666666666,
            0.2166666666666666,
            0.21,
            0.2166666666666666,
            0.2166666666666666,
            0.2066666666666666,
            0.2166666666666666,
            0.2066666666666666,
            0.21,
            0.2066666666666666,
            0.2166666666666666,
            0.21,
            0.2166666666666666,
            0.2166666666666666,
            0.2166666666666666,
            0.21,
            0.4,
            0.3869565217391304,
            0.3869565217391304,
            0.4742857142857143,
            0.44,
            0.4342857142857143,
            0.4297994269340974,
            0.44,
            0.4342857142857143,
            0.44,
            0.4742857142857143,
            0.4742857142857143,
            0.4742857142857143,
            0.4297994269340974,
            0.415,
            0.42,
            0.425,
            0.415,
            0.415,
            0.425,
            0.42,
            0.3384615384615385,
            0.3415384615384615,
            0.3461538461538461,
            0.3425925925925926,
            0.3466872110939907,
            0.3425925925925926,
            0.3384615384615385,
            0.3384615384615385,
            0.3436055469953775,
            0.3441358024691358,
            0.3384615384615385,
            0.3451463790446841,
            0.3384615384615385,
            0.3472222222222222,
            0.3395061728395062,
            0.3472222222222222,
            0.3405238828967643,
            0.3415384615384615,
            0.3461538461538461
           ],
           "yaxis": "y"
          },
          {
           "customdata": [
            [
             "Belarus",
             2019
            ],
            [
             "Belarus",
             2019
            ],
            [
             "Belarus",
             2019
            ],
            [
             "Belarus",
             2019
            ],
            [
             "Belarus",
             2019
            ],
            [
             "Belarus",
             2019
            ],
            [
             "Belarus",
             2019
            ],
            [
             "Belarus",
             2019
            ],
            [
             "Estonia",
             2019
            ],
            [
             "Estonia",
             2019
            ],
            [
             "Estonia",
             2019
            ],
            [
             "Estonia",
             2019
            ],
            [
             "Estonia",
             2019
            ],
            [
             "Estonia",
             2019
            ],
            [
             "Estonia",
             2019
            ],
            [
             "Estonia",
             2019
            ],
            [
             "Estonia",
             2019
            ],
            [
             "Estonia",
             2019
            ],
            [
             "Estonia",
             2019
            ],
            [
             "Estonia",
             2019
            ],
            [
             "Estonia",
             2019
            ],
            [
             "Estonia",
             2019
            ],
            [
             "Estonia",
             2019
            ],
            [
             "Poland",
             2019
            ],
            [
             "Poland",
             2019
            ],
            [
             "Poland",
             2019
            ],
            [
             "Poland",
             2019
            ],
            [
             "Poland",
             2019
            ],
            [
             "Poland",
             2019
            ],
            [
             "Poland",
             2019
            ],
            [
             "Poland",
             2019
            ],
            [
             "Poland",
             2019
            ],
            [
             "Poland",
             2019
            ],
            [
             "Poland",
             2019
            ],
            [
             "Poland",
             2019
            ],
            [
             "Ukraine",
             2019
            ],
            [
             "Ukraine",
             2019
            ],
            [
             "Ukraine",
             2019
            ],
            [
             "Ukraine",
             2019
            ],
            [
             "Ukraine",
             2019
            ],
            [
             "Ukraine",
             2019
            ],
            [
             "Ukraine",
             2019
            ],
            [
             "Ukraine",
             2019
            ],
            [
             "Ukraine",
             2019
            ],
            [
             "Ukraine",
             2019
            ],
            [
             "Ukraine",
             2019
            ],
            [
             "Ukraine",
             2019
            ],
            [
             "Ukraine",
             2019
            ],
            [
             "Uzbekistan",
             2019
            ],
            [
             "Uzbekistan",
             2019
            ],
            [
             "Uzbekistan",
             2019
            ],
            [
             "Uzbekistan",
             2019
            ],
            [
             "Uzbekistan",
             2019
            ],
            [
             "Uzbekistan",
             2019
            ]
           ],
           "hovertemplate": "region=Central and Eastern Europe<br>year=%{customdata[1]}<br>democracy_index_score=%{x}<br>percent_W=%{marker.size}<br>country=%{customdata[0]}<extra></extra>",
           "legendgroup": "Central and Eastern Europe",
           "marker": {
            "color": "rgb(56, 166, 165)",
            "size": [
             0.4,
             0.4,
             0.4,
             0.4,
             0.4,
             0.4,
             0.4,
             0.4,
             0.297029702970297,
             0.2871287128712871,
             0.2574257425742574,
             0.2574257425742574,
             0.297029702970297,
             0.2574257425742574,
             0.2574257425742574,
             0.2871287128712871,
             0.2772277227722772,
             0.2574257425742574,
             0.2574257425742574,
             0.2574257425742574,
             0.2574257425742574,
             0.2871287128712871,
             0.2574257425742574,
             0.2869565217391304,
             0.2832244008714596,
             0.2826086956521739,
             0.2869565217391304,
             0.2826086956521739,
             0.2832244008714596,
             0.2826086956521739,
             0.2826086956521739,
             0.2832244008714596,
             0.2826086956521739,
             0.2832244008714596,
             0.2832244008714596,
             0.205188679245283,
             0.2080378250591016,
             0.2080378250591016,
             0.2033096926713948,
             0.2080378250591016,
             0.2080378250591016,
             0.2080378250591016,
             0.2080378250591016,
             0.2080378250591016,
             0.2080378250591016,
             0.2080378250591016,
             0.2080378250591016,
             0.2080378250591016,
             0.32,
             0.3265306122448979,
             0.3333333333333333,
             0.32,
             0.32,
             0.32
            ],
            "sizemode": "area",
            "sizeref": 0.00153125,
            "symbol": "circle"
           },
           "mode": "markers",
           "name": "Central and Eastern Europe",
           "orientation": "v",
           "showlegend": true,
           "type": "scatter",
           "x": [
            2.48,
            2.48,
            2.48,
            2.48,
            2.48,
            2.48,
            2.48,
            2.48,
            7.9,
            7.9,
            7.9,
            7.9,
            7.9,
            7.9,
            7.9,
            7.9,
            7.9,
            7.9,
            7.9,
            7.9,
            7.9,
            7.9,
            7.9,
            6.62,
            6.62,
            6.62,
            6.62,
            6.62,
            6.62,
            6.62,
            6.62,
            6.62,
            6.62,
            6.62,
            6.62,
            5.9,
            5.9,
            5.9,
            5.9,
            5.9,
            5.9,
            5.9,
            5.9,
            5.9,
            5.9,
            5.9,
            5.9,
            5.9,
            2.01,
            2.01,
            2.01,
            2.01,
            2.01,
            2.01
           ],
           "xaxis": "x",
           "y": [
            0.4,
            0.4,
            0.4,
            0.4,
            0.4,
            0.4,
            0.4,
            0.4,
            0.297029702970297,
            0.2871287128712871,
            0.2574257425742574,
            0.2574257425742574,
            0.297029702970297,
            0.2574257425742574,
            0.2574257425742574,
            0.2871287128712871,
            0.2772277227722772,
            0.2574257425742574,
            0.2574257425742574,
            0.2574257425742574,
            0.2574257425742574,
            0.2871287128712871,
            0.2574257425742574,
            0.2869565217391304,
            0.2832244008714596,
            0.2826086956521739,
            0.2869565217391304,
            0.2826086956521739,
            0.2832244008714596,
            0.2826086956521739,
            0.2826086956521739,
            0.2832244008714596,
            0.2826086956521739,
            0.2832244008714596,
            0.2832244008714596,
            0.205188679245283,
            0.2080378250591016,
            0.2080378250591016,
            0.2033096926713948,
            0.2080378250591016,
            0.2080378250591016,
            0.2080378250591016,
            0.2080378250591016,
            0.2080378250591016,
            0.2080378250591016,
            0.2080378250591016,
            0.2080378250591016,
            0.2080378250591016,
            0.32,
            0.3265306122448979,
            0.3333333333333333,
            0.32,
            0.32,
            0.32
           ],
           "yaxis": "y"
          },
          {
           "customdata": [
            [
             "Argentina",
             2019
            ],
            [
             "Argentina",
             2019
            ],
            [
             "Argentina",
             2019
            ],
            [
             "Argentina",
             2019
            ],
            [
             "Argentina",
             2019
            ],
            [
             "Argentina",
             2019
            ],
            [
             "Guatemala",
             2019
            ],
            [
             "Guatemala",
             2019
            ],
            [
             "Guatemala",
             2019
            ],
            [
             "Guatemala",
             2019
            ],
            [
             "Guatemala",
             2019
            ],
            [
             "Guatemala",
             2019
            ],
            [
             "Guatemala",
             2019
            ],
            [
             "Guatemala",
             2019
            ],
            [
             "Guatemala",
             2019
            ],
            [
             "Guatemala",
             2019
            ],
            [
             "Guatemala",
             2019
            ],
            [
             "Guatemala",
             2019
            ],
            [
             "Panama",
             2019
            ],
            [
             "Panama",
             2019
            ],
            [
             "Panama",
             2019
            ],
            [
             "Uruguay",
             2019
            ],
            [
             "Uruguay",
             2019
            ],
            [
             "Uruguay",
             2019
            ],
            [
             "Uruguay",
             2019
            ],
            [
             "Uruguay",
             2019
            ],
            [
             "Uruguay",
             2019
            ],
            [
             "Uruguay",
             2019
            ],
            [
             "Uruguay",
             2019
            ],
            [
             "Uruguay",
             2019
            ],
            [
             "Uruguay",
             2019
            ],
            [
             "Uruguay",
             2019
            ],
            [
             "Uruguay",
             2019
            ],
            [
             "Uruguay",
             2019
            ]
           ],
           "hovertemplate": "region=Latin America and the Caribbean<br>year=%{customdata[1]}<br>democracy_index_score=%{x}<br>percent_W=%{marker.size}<br>country=%{customdata[0]}<extra></extra>",
           "legendgroup": "Latin America and the Caribbean",
           "marker": {
            "color": "rgb(15, 133, 84)",
            "size": [
             0.4085603112840467,
             0.424124513618677,
             0.4015748031496063,
             0.4085603112840467,
             0.4015748031496063,
             0.424124513618677,
             0.19375,
             0.19375,
             0.19375,
             0.19375,
             0.19375,
             0.189873417721519,
             0.19375,
             0.19375,
             0.19375,
             0.19375,
             0.19375,
             0.19375,
             0.2112676056338028,
             0.2253521126760563,
             0.2253521126760563,
             0.2121212121212121,
             0.2424242424242424,
             0.2525252525252525,
             0.1919191919191919,
             0.2121212121212121,
             0.2424242424242424,
             0.2525252525252525,
             0.2424242424242424,
             0.2424242424242424,
             0.2525252525252525,
             0.2525252525252525,
             0.2424242424242424,
             0.2424242424242424
            ],
            "sizemode": "area",
            "sizeref": 0.00153125,
            "symbol": "circle"
           },
           "mode": "markers",
           "name": "Latin America and the Caribbean",
           "orientation": "v",
           "showlegend": true,
           "type": "scatter",
           "x": [
            7.02,
            7.02,
            7.02,
            7.02,
            7.02,
            7.02,
            5.26,
            5.26,
            5.26,
            5.26,
            5.26,
            5.26,
            5.26,
            5.26,
            5.26,
            5.26,
            5.26,
            5.26,
            7.05,
            7.05,
            7.05,
            8.38,
            8.38,
            8.38,
            8.38,
            8.38,
            8.38,
            8.38,
            8.38,
            8.38,
            8.38,
            8.38,
            8.38,
            8.38
           ],
           "xaxis": "x",
           "y": [
            0.4085603112840467,
            0.424124513618677,
            0.4015748031496063,
            0.4085603112840467,
            0.4015748031496063,
            0.424124513618677,
            0.19375,
            0.19375,
            0.19375,
            0.19375,
            0.19375,
            0.189873417721519,
            0.19375,
            0.19375,
            0.19375,
            0.19375,
            0.19375,
            0.19375,
            0.2112676056338028,
            0.2253521126760563,
            0.2253521126760563,
            0.2121212121212121,
            0.2424242424242424,
            0.2525252525252525,
            0.1919191919191919,
            0.2121212121212121,
            0.2424242424242424,
            0.2525252525252525,
            0.2424242424242424,
            0.2424242424242424,
            0.2525252525252525,
            0.2525252525252525,
            0.2424242424242424,
            0.2424242424242424
           ],
           "yaxis": "y"
          },
          {
           "customdata": [
            [
             "Australia",
             2019
            ],
            [
             "Australia",
             2019
            ],
            [
             "Australia",
             2019
            ],
            [
             "Australia",
             2019
            ],
            [
             "Australia",
             2019
            ],
            [
             "Australia",
             2019
            ],
            [
             "Australia",
             2019
            ],
            [
             "Australia",
             2019
            ],
            [
             "Australia",
             2019
            ],
            [
             "Australia",
             2019
            ],
            [
             "Australia",
             2019
            ],
            [
             "Australia",
             2019
            ],
            [
             "Australia",
             2019
            ],
            [
             "India",
             2019
            ],
            [
             "India",
             2019
            ],
            [
             "India",
             2019
            ],
            [
             "India",
             2019
            ],
            [
             "India",
             2019
            ],
            [
             "India",
             2019
            ],
            [
             "India",
             2019
            ],
            [
             "India",
             2019
            ],
            [
             "India",
             2019
            ],
            [
             "India",
             2019
            ],
            [
             "India",
             2019
            ],
            [
             "India",
             2019
            ],
            [
             "India",
             2019
            ],
            [
             "India",
             2019
            ],
            [
             "India",
             2019
            ],
            [
             "India",
             2019
            ],
            [
             "India",
             2019
            ],
            [
             "India",
             2019
            ],
            [
             "India",
             2019
            ],
            [
             "India",
             2019
            ],
            [
             "India",
             2019
            ],
            [
             "India",
             2019
            ],
            [
             "India",
             2019
            ],
            [
             "Indonesia",
             2019
            ],
            [
             "Indonesia",
             2019
            ],
            [
             "Indonesia",
             2019
            ],
            [
             "Indonesia",
             2019
            ],
            [
             "Indonesia",
             2019
            ],
            [
             "Indonesia",
             2019
            ],
            [
             "Indonesia",
             2019
            ],
            [
             "Indonesia",
             2019
            ],
            [
             "Indonesia",
             2019
            ],
            [
             "Indonesia",
             2019
            ],
            [
             "Indonesia",
             2019
            ],
            [
             "Indonesia",
             2019
            ],
            [
             "Indonesia",
             2019
            ],
            [
             "Indonesia",
             2019
            ],
            [
             "Indonesia",
             2019
            ],
            [
             "Indonesia",
             2019
            ],
            [
             "Philippines",
             2019
            ],
            [
             "Philippines",
             2019
            ],
            [
             "Philippines",
             2019
            ],
            [
             "Philippines",
             2019
            ],
            [
             "Philippines",
             2019
            ],
            [
             "Philippines",
             2019
            ],
            [
             "Philippines",
             2019
            ],
            [
             "Thailand",
             2019
            ],
            [
             "Thailand",
             2019
            ],
            [
             "Thailand",
             2019
            ],
            [
             "Thailand",
             2019
            ],
            [
             "Thailand",
             2019
            ],
            [
             "Thailand",
             2019
            ],
            [
             "Thailand",
             2019
            ],
            [
             "Thailand",
             2019
            ],
            [
             "Thailand",
             2019
            ],
            [
             "Thailand",
             2019
            ],
            [
             "Thailand",
             2019
            ],
            [
             "Thailand",
             2019
            ],
            [
             "Thailand",
             2019
            ]
           ],
           "hovertemplate": "region=Asia and Australasia<br>year=%{customdata[1]}<br>democracy_index_score=%{x}<br>percent_W=%{marker.size}<br>country=%{customdata[0]}<extra></extra>",
           "legendgroup": "Asia and Australasia",
           "marker": {
            "color": "rgb(115, 175, 72)",
            "size": [
             0.304635761589404,
             0.3,
             0.3112582781456953,
             0.304635761589404,
             0.3112582781456953,
             0.3,
             0.3112582781456953,
             0.3112582781456953,
             0.3112582781456953,
             0.3112582781456953,
             0.3112582781456953,
             0.3112582781456953,
             0.3112582781456953,
             0.1439114391143911,
             0.143646408839779,
             0.1444444444444444,
             0.1494464944649446,
             0.143646408839779,
             0.1494464944649446,
             0.1439114391143911,
             0.143646408839779,
             0.143646408839779,
             0.1444444444444444,
             0.1494464944649446,
             0.143646408839779,
             0.1494464944649446,
             0.1444444444444444,
             0.143646408839779,
             0.1494464944649446,
             0.1439114391143911,
             0.1439114391143911,
             0.143646408839779,
             0.1444444444444444,
             0.1494464944649446,
             0.1444444444444444,
             0.1494464944649446,
             0.1739130434782608,
             0.2034782608695652,
             0.2104347826086956,
             0.2191304347826086,
             0.2034782608695652,
             0.1739130434782608,
             0.2034782608695652,
             0.2104347826086956,
             0.2191304347826086,
             0.2034782608695652,
             0.2191304347826086,
             0.2191304347826086,
             0.1739130434782608,
             0.2104347826086956,
             0.2034782608695652,
             0.2034782608695652,
             0.2796052631578947,
             0.2796052631578947,
             0.2796052631578947,
             0.2796052631578947,
             0.2796052631578947,
             0.2768729641693811,
             0.2796052631578947,
             0.162,
             0.1574642126789366,
             0.1574642126789366,
             0.1574642126789366,
             0.1574642126789366,
             0.162,
             0.162,
             0.162,
             0.1574642126789366,
             0.0541666666666666,
             0.0541666666666666,
             0.158,
             0.1574642126789366
            ],
            "sizemode": "area",
            "sizeref": 0.00153125,
            "symbol": "circle"
           },
           "mode": "markers",
           "name": "Asia and Australasia",
           "orientation": "v",
           "showlegend": true,
           "type": "scatter",
           "x": [
            9.09,
            9.09,
            9.09,
            9.09,
            9.09,
            9.09,
            9.09,
            9.09,
            9.09,
            9.09,
            9.09,
            9.09,
            9.09,
            6.9,
            6.9,
            6.9,
            6.9,
            6.9,
            6.9,
            6.9,
            6.9,
            6.9,
            6.9,
            6.9,
            6.9,
            6.9,
            6.9,
            6.9,
            6.9,
            6.9,
            6.9,
            6.9,
            6.9,
            6.9,
            6.9,
            6.9,
            6.48,
            6.48,
            6.48,
            6.48,
            6.48,
            6.48,
            6.48,
            6.48,
            6.48,
            6.48,
            6.48,
            6.48,
            6.48,
            6.48,
            6.48,
            6.48,
            6.64,
            6.64,
            6.64,
            6.64,
            6.64,
            6.64,
            6.64,
            6.32,
            6.32,
            6.32,
            6.32,
            6.32,
            6.32,
            6.32,
            6.32,
            6.32,
            6.32,
            6.32,
            6.32,
            6.32
           ],
           "xaxis": "x",
           "y": [
            0.304635761589404,
            0.3,
            0.3112582781456953,
            0.304635761589404,
            0.3112582781456953,
            0.3,
            0.3112582781456953,
            0.3112582781456953,
            0.3112582781456953,
            0.3112582781456953,
            0.3112582781456953,
            0.3112582781456953,
            0.3112582781456953,
            0.1439114391143911,
            0.143646408839779,
            0.1444444444444444,
            0.1494464944649446,
            0.143646408839779,
            0.1494464944649446,
            0.1439114391143911,
            0.143646408839779,
            0.143646408839779,
            0.1444444444444444,
            0.1494464944649446,
            0.143646408839779,
            0.1494464944649446,
            0.1444444444444444,
            0.143646408839779,
            0.1494464944649446,
            0.1439114391143911,
            0.1439114391143911,
            0.143646408839779,
            0.1444444444444444,
            0.1494464944649446,
            0.1444444444444444,
            0.1494464944649446,
            0.1739130434782608,
            0.2034782608695652,
            0.2104347826086956,
            0.2191304347826086,
            0.2034782608695652,
            0.1739130434782608,
            0.2034782608695652,
            0.2104347826086956,
            0.2191304347826086,
            0.2034782608695652,
            0.2191304347826086,
            0.2191304347826086,
            0.1739130434782608,
            0.2104347826086956,
            0.2034782608695652,
            0.2034782608695652,
            0.2796052631578947,
            0.2796052631578947,
            0.2796052631578947,
            0.2796052631578947,
            0.2796052631578947,
            0.2768729641693811,
            0.2796052631578947,
            0.162,
            0.1574642126789366,
            0.1574642126789366,
            0.1574642126789366,
            0.1574642126789366,
            0.162,
            0.162,
            0.162,
            0.1574642126789366,
            0.0541666666666666,
            0.0541666666666666,
            0.158,
            0.1574642126789366
           ],
           "yaxis": "y"
          },
          {
           "customdata": [
            [
             "Israel",
             2019
            ],
            [
             "Israel",
             2019
            ],
            [
             "Israel",
             2019
            ],
            [
             "Israel",
             2019
            ],
            [
             "Oman",
             2019
            ],
            [
             "Oman",
             2019
            ],
            [
             "Oman",
             2019
            ],
            [
             "Oman",
             2019
            ],
            [
             "Oman",
             2019
            ],
            [
             "Oman",
             2019
            ],
            [
             "Oman",
             2019
            ],
            [
             "Oman",
             2019
            ],
            [
             "Oman",
             2019
            ],
            [
             "Tunisia",
             2019
            ],
            [
             "Tunisia",
             2019
            ],
            [
             "Tunisia",
             2019
            ],
            [
             "Tunisia",
             2019
            ],
            [
             "Tunisia",
             2019
            ],
            [
             "Tunisia",
             2019
            ],
            [
             "Tunisia",
             2019
            ],
            [
             "Tunisia",
             2019
            ],
            [
             "Tunisia",
             2019
            ],
            [
             "Tunisia",
             2019
            ],
            [
             "Tunisia",
             2019
            ],
            [
             "United Arab Emirates",
             2019
            ],
            [
             "United Arab Emirates",
             2019
            ],
            [
             "United Arab Emirates",
             2019
            ],
            [
             "United Arab Emirates",
             2019
            ]
           ],
           "hovertemplate": "region=Middle East and North Africa<br>year=%{customdata[1]}<br>democracy_index_score=%{x}<br>percent_W=%{marker.size}<br>country=%{customdata[0]}<extra></extra>",
           "legendgroup": "Middle East and North Africa",
           "marker": {
            "color": "rgb(237, 173, 8)",
            "size": [
             0.2333333333333333,
             0.2333333333333333,
             0.2333333333333333,
             0.2416666666666666,
             0.0232558139534883,
             0.0232558139534883,
             0.0232558139534883,
             0.0232558139534883,
             0.0232558139534883,
             0.0232558139534883,
             0.0232558139534883,
             0.0232558139534883,
             0.0232558139534883,
             0.2488479262672811,
             0.2626728110599078,
             0.2626728110599078,
             0.2258064516129032,
             0.2626728110599078,
             0.2626728110599078,
             0.2626728110599078,
             0.2626728110599078,
             0.2626728110599078,
             0.2626728110599078,
             0.2626728110599078,
             0.5,
             0.5,
             0.35,
             0.5
            ],
            "sizemode": "area",
            "sizeref": 0.00153125,
            "symbol": "circle"
           },
           "mode": "markers",
           "name": "Middle East and North Africa",
           "orientation": "v",
           "showlegend": true,
           "type": "scatter",
           "x": [
            7.86,
            7.86,
            7.86,
            7.86,
            3.06,
            3.06,
            3.06,
            3.06,
            3.06,
            3.06,
            3.06,
            3.06,
            3.06,
            6.72,
            6.72,
            6.72,
            6.72,
            6.72,
            6.72,
            6.72,
            6.72,
            6.72,
            6.72,
            6.72,
            2.76,
            2.76,
            2.76,
            2.76
           ],
           "xaxis": "x",
           "y": [
            0.2333333333333333,
            0.2333333333333333,
            0.2333333333333333,
            0.2416666666666666,
            0.0232558139534883,
            0.0232558139534883,
            0.0232558139534883,
            0.0232558139534883,
            0.0232558139534883,
            0.0232558139534883,
            0.0232558139534883,
            0.0232558139534883,
            0.0232558139534883,
            0.2488479262672811,
            0.2626728110599078,
            0.2626728110599078,
            0.2258064516129032,
            0.2626728110599078,
            0.2626728110599078,
            0.2626728110599078,
            0.2626728110599078,
            0.2626728110599078,
            0.2626728110599078,
            0.2626728110599078,
            0.5,
            0.5,
            0.35,
            0.5
           ],
           "yaxis": "y"
          },
          {
           "customdata": [
            [
             "Benin",
             2019
            ],
            [
             "Benin",
             2019
            ],
            [
             "Benin",
             2019
            ],
            [
             "Benin",
             2019
            ],
            [
             "Benin",
             2019
            ],
            [
             "Benin",
             2019
            ],
            [
             "Benin",
             2019
            ],
            [
             "Benin",
             2019
            ],
            [
             "Benin",
             2019
            ],
            [
             "Benin",
             2019
            ],
            [
             "Botswana",
             2019
            ],
            [
             "Botswana",
             2019
            ],
            [
             "Botswana",
             2019
            ],
            [
             "Botswana",
             2019
            ],
            [
             "Guinea-Bissau",
             2019
            ],
            [
             "Guinea-Bissau",
             2019
            ],
            [
             "Guinea-Bissau",
             2019
            ],
            [
             "Guinea-Bissau",
             2019
            ],
            [
             "Guinea-Bissau",
             2019
            ],
            [
             "Guinea-Bissau",
             2019
            ],
            [
             "Guinea-Bissau",
             2019
            ],
            [
             "Guinea-Bissau",
             2019
            ],
            [
             "Guinea-Bissau",
             2019
            ],
            [
             "Madagascar",
             2019
            ],
            [
             "Madagascar",
             2019
            ],
            [
             "Madagascar",
             2019
            ],
            [
             "Madagascar",
             2019
            ],
            [
             "Madagascar",
             2019
            ],
            [
             "Madagascar",
             2019
            ],
            [
             "Madagascar",
             2019
            ],
            [
             "Madagascar",
             2019
            ],
            [
             "Madagascar",
             2019
            ],
            [
             "Madagascar",
             2019
            ],
            [
             "Madagascar",
             2019
            ],
            [
             "Madagascar",
             2019
            ],
            [
             "Madagascar",
             2019
            ],
            [
             "Madagascar",
             2019
            ],
            [
             "Madagascar",
             2019
            ],
            [
             "Madagascar",
             2019
            ],
            [
             "Malawi",
             2019
            ],
            [
             "Malawi",
             2019
            ],
            [
             "Malawi",
             2019
            ],
            [
             "Malawi",
             2019
            ],
            [
             "Malawi",
             2019
            ],
            [
             "Malawi",
             2019
            ],
            [
             "Malawi",
             2019
            ],
            [
             "Malawi",
             2019
            ],
            [
             "Malawi",
             2019
            ],
            [
             "Malawi",
             2019
            ],
            [
             "Malawi",
             2019
            ],
            [
             "Malawi",
             2019
            ],
            [
             "Malawi",
             2019
            ],
            [
             "Mauritius",
             2019
            ],
            [
             "Mauritius",
             2019
            ],
            [
             "Mauritius",
             2019
            ],
            [
             "Mauritius",
             2019
            ],
            [
             "Mauritius",
             2019
            ],
            [
             "Mozambique",
             2019
            ],
            [
             "Mozambique",
             2019
            ],
            [
             "Mozambique",
             2019
            ],
            [
             "Mozambique",
             2019
            ],
            [
             "Mozambique",
             2019
            ],
            [
             "Mozambique",
             2019
            ],
            [
             "Mozambique",
             2019
            ],
            [
             "Namibia",
             2019
            ],
            [
             "Namibia",
             2019
            ],
            [
             "Namibia",
             2019
            ],
            [
             "Namibia",
             2019
            ],
            [
             "Namibia",
             2019
            ],
            [
             "Namibia",
             2019
            ],
            [
             "Namibia",
             2019
            ],
            [
             "Nigeria",
             2019
            ],
            [
             "Nigeria",
             2019
            ],
            [
             "Nigeria",
             2019
            ],
            [
             "Nigeria",
             2019
            ],
            [
             "Nigeria",
             2019
            ],
            [
             "Nigeria",
             2019
            ],
            [
             "Nigeria",
             2019
            ],
            [
             "South Africa",
             2019
            ],
            [
             "South Africa",
             2019
            ],
            [
             "South Africa",
             2019
            ],
            [
             "South Africa",
             2019
            ],
            [
             "South Africa",
             2019
            ],
            [
             "South Africa",
             2019
            ],
            [
             "South Africa",
             2019
            ],
            [
             "South Africa",
             2019
            ],
            [
             "South Africa",
             2019
            ],
            [
             "South Africa",
             2019
            ],
            [
             "South Africa",
             2019
            ],
            [
             "South Africa",
             2019
            ],
            [
             "South Africa",
             2019
            ],
            [
             "South Africa",
             2019
            ],
            [
             "South Africa",
             2019
            ],
            [
             "South Africa",
             2019
            ],
            [
             "South Africa",
             2019
            ],
            [
             "South Africa",
             2019
            ],
            [
             "South Africa",
             2019
            ],
            [
             "South Africa",
             2019
            ],
            [
             "South Africa",
             2019
            ],
            [
             "South Africa",
             2019
            ],
            [
             "South Africa",
             2019
            ],
            [
             "South Africa",
             2019
            ],
            [
             "South Africa",
             2019
            ],
            [
             "South Africa",
             2019
            ],
            [
             "South Africa",
             2019
            ],
            [
             "South Africa",
             2019
            ],
            [
             "South Africa",
             2019
            ],
            [
             "South Africa",
             2019
            ],
            [
             "South Africa",
             2019
            ],
            [
             "South Africa",
             2019
            ],
            [
             "South Africa",
             2019
            ]
           ],
           "hovertemplate": "region=Sub-Saharan Africa<br>year=%{customdata[1]}<br>democracy_index_score=%{x}<br>percent_W=%{marker.size}<br>country=%{customdata[0]}<extra></extra>",
           "legendgroup": "Sub-Saharan Africa",
           "marker": {
            "color": "rgb(225, 124, 5)",
            "size": [
             0.072289156626506,
             0.0843373493975903,
             0.074074074074074,
             0.0843373493975903,
             0.072289156626506,
             0.072289156626506,
             0.0843373493975903,
             0.0843373493975903,
             0.074074074074074,
             0.0843373493975903,
             0.1076923076923077,
             0.1076923076923077,
             0.1111111111111111,
             0.1076923076923077,
             0.1372549019607843,
             0.1372549019607843,
             0.1372549019607843,
             0.1372549019607843,
             0.1372549019607843,
             0.1372549019607843,
             0.1372549019607843,
             0.1372549019607843,
             0.1372549019607843,
             0.1589403973509933,
             0.1788079470198675,
             0.1788079470198675,
             0.1854304635761589,
             0.1788079470198675,
             0.1589403973509933,
             0.1788079470198675,
             0.1788079470198675,
             0.1788079470198675,
             0.1589403973509933,
             0.1854304635761589,
             0.1589403973509933,
             0.1854304635761589,
             0.1788079470198675,
             0.1788079470198675,
             0.1788079470198675,
             0.2291666666666666,
             0.2291666666666666,
             0.2291666666666666,
             0.2291666666666666,
             0.2291666666666666,
             0.2291666666666666,
             0.2291666666666666,
             0.2291666666666666,
             0.2291666666666666,
             0.2291666666666666,
             0.2291666666666666,
             0.2291666666666666,
             0.2291666666666666,
             0.2,
             0.2,
             0.2,
             0.2,
             0.2,
             0.424,
             0.424,
             0.424,
             0.412,
             0.424,
             0.412,
             0.424,
             0.4326923076923077,
             0.4423076923076923,
             0.4326923076923077,
             0.4270833333333333,
             0.4423076923076923,
             0.4270833333333333,
             0.4423076923076923,
             0.0338028169014084,
             0.0363128491620111,
             0.0361111111111111,
             0.0361111111111111,
             0.0342857142857142,
             0.0361111111111111,
             0.0361111111111111,
             0.457070707070707,
             0.4636591478696741,
             0.4634760705289673,
             0.4621212121212121,
             0.4582278481012658,
             0.4675,
             0.4634760705289673,
             0.4634760705289673,
             0.4658227848101265,
             0.4634760705289673,
             0.4584382871536523,
             0.4671717171717172,
             0.4661654135338345,
             0.4696969696969697,
             0.4658227848101265,
             0.4648241206030151,
             0.465,
             0.4685138539042821,
             0.4636591478696741,
             0.4673366834170854,
             0.4531645569620253,
             0.4609571788413098,
             0.465,
             0.457286432160804,
             0.4659949622166247,
             0.465,
             0.4586466165413533,
             0.4646464646464646,
             0.4621212121212121,
             0.4636591478696741,
             0.4597989949748743,
             0.4671717171717172,
             0.4646464646464646
            ],
            "sizemode": "area",
            "sizeref": 0.00153125,
            "symbol": "circle"
           },
           "mode": "markers",
           "name": "Sub-Saharan Africa",
           "orientation": "v",
           "showlegend": true,
           "type": "scatter",
           "x": [
            5.09,
            5.09,
            5.09,
            5.09,
            5.09,
            5.09,
            5.09,
            5.09,
            5.09,
            5.09,
            7.81,
            7.81,
            7.81,
            7.81,
            2.63,
            2.63,
            2.63,
            2.63,
            2.63,
            2.63,
            2.63,
            2.63,
            2.63,
            5.64,
            5.64,
            5.64,
            5.64,
            5.64,
            5.64,
            5.64,
            5.64,
            5.64,
            5.64,
            5.64,
            5.64,
            5.64,
            5.64,
            5.64,
            5.64,
            5.5,
            5.5,
            5.5,
            5.5,
            5.5,
            5.5,
            5.5,
            5.5,
            5.5,
            5.5,
            5.5,
            5.5,
            5.5,
            8.22,
            8.22,
            8.22,
            8.22,
            8.22,
            3.65,
            3.65,
            3.65,
            3.65,
            3.65,
            3.65,
            3.65,
            6.43,
            6.43,
            6.43,
            6.43,
            6.43,
            6.43,
            6.43,
            4.12,
            4.12,
            4.12,
            4.12,
            4.12,
            4.12,
            4.12,
            7.24,
            7.24,
            7.24,
            7.24,
            7.24,
            7.24,
            7.24,
            7.24,
            7.24,
            7.24,
            7.24,
            7.24,
            7.24,
            7.24,
            7.24,
            7.24,
            7.24,
            7.24,
            7.24,
            7.24,
            7.24,
            7.24,
            7.24,
            7.24,
            7.24,
            7.24,
            7.24,
            7.24,
            7.24,
            7.24,
            7.24,
            7.24,
            7.24
           ],
           "xaxis": "x",
           "y": [
            0.072289156626506,
            0.0843373493975903,
            0.074074074074074,
            0.0843373493975903,
            0.072289156626506,
            0.072289156626506,
            0.0843373493975903,
            0.0843373493975903,
            0.074074074074074,
            0.0843373493975903,
            0.1076923076923077,
            0.1076923076923077,
            0.1111111111111111,
            0.1076923076923077,
            0.1372549019607843,
            0.1372549019607843,
            0.1372549019607843,
            0.1372549019607843,
            0.1372549019607843,
            0.1372549019607843,
            0.1372549019607843,
            0.1372549019607843,
            0.1372549019607843,
            0.1589403973509933,
            0.1788079470198675,
            0.1788079470198675,
            0.1854304635761589,
            0.1788079470198675,
            0.1589403973509933,
            0.1788079470198675,
            0.1788079470198675,
            0.1788079470198675,
            0.1589403973509933,
            0.1854304635761589,
            0.1589403973509933,
            0.1854304635761589,
            0.1788079470198675,
            0.1788079470198675,
            0.1788079470198675,
            0.2291666666666666,
            0.2291666666666666,
            0.2291666666666666,
            0.2291666666666666,
            0.2291666666666666,
            0.2291666666666666,
            0.2291666666666666,
            0.2291666666666666,
            0.2291666666666666,
            0.2291666666666666,
            0.2291666666666666,
            0.2291666666666666,
            0.2291666666666666,
            0.2,
            0.2,
            0.2,
            0.2,
            0.2,
            0.424,
            0.424,
            0.424,
            0.412,
            0.424,
            0.412,
            0.424,
            0.4326923076923077,
            0.4423076923076923,
            0.4326923076923077,
            0.4270833333333333,
            0.4423076923076923,
            0.4270833333333333,
            0.4423076923076923,
            0.0338028169014084,
            0.0363128491620111,
            0.0361111111111111,
            0.0361111111111111,
            0.0342857142857142,
            0.0361111111111111,
            0.0361111111111111,
            0.457070707070707,
            0.4636591478696741,
            0.4634760705289673,
            0.4621212121212121,
            0.4582278481012658,
            0.4675,
            0.4634760705289673,
            0.4634760705289673,
            0.4658227848101265,
            0.4634760705289673,
            0.4584382871536523,
            0.4671717171717172,
            0.4661654135338345,
            0.4696969696969697,
            0.4658227848101265,
            0.4648241206030151,
            0.465,
            0.4685138539042821,
            0.4636591478696741,
            0.4673366834170854,
            0.4531645569620253,
            0.4609571788413098,
            0.465,
            0.457286432160804,
            0.4659949622166247,
            0.465,
            0.4586466165413533,
            0.4646464646464646,
            0.4621212121212121,
            0.4636591478696741,
            0.4597989949748743,
            0.4671717171717172,
            0.4646464646464646
           ],
           "yaxis": "y"
          }
         ],
         "name": "2019"
        },
        {
         "data": [
          {
           "customdata": [
            [
             "Ireland",
             2020
            ],
            [
             "Ireland",
             2020
            ],
            [
             "Ireland",
             2020
            ],
            [
             "Ireland",
             2020
            ],
            [
             "Ireland",
             2020
            ],
            [
             "Ireland",
             2020
            ],
            [
             "Ireland",
             2020
            ],
            [
             "Ireland",
             2020
            ],
            [
             "Ireland",
             2020
            ],
            [
             "Ireland",
             2020
            ],
            [
             "Ireland",
             2020
            ]
           ],
           "hovertemplate": "region=Western Europe<br>year=%{customdata[1]}<br>democracy_index_score=%{x}<br>percent_W=%{marker.size}<br>country=%{customdata[0]}<extra></extra>",
           "legendgroup": "Western Europe",
           "marker": {
            "color": "rgb(29, 105, 150)",
            "size": [
             0.225,
             0.225,
             0.23125,
             0.23125,
             0.225,
             0.225,
             0.23125,
             0.225,
             0.225,
             0.23125,
             0.225
            ],
            "sizemode": "area",
            "sizeref": 0.00153125,
            "symbol": "circle"
           },
           "mode": "markers",
           "name": "Western Europe",
           "orientation": "v",
           "showlegend": true,
           "type": "scatter",
           "x": [
            9.05,
            9.05,
            9.05,
            9.05,
            9.05,
            9.05,
            9.05,
            9.05,
            9.05,
            9.05,
            9.05
           ],
           "xaxis": "x",
           "y": [
            0.225,
            0.225,
            0.23125,
            0.23125,
            0.225,
            0.225,
            0.23125,
            0.225,
            0.225,
            0.23125,
            0.225
           ],
           "yaxis": "y"
          },
          {
           "customdata": [
            [
             "Azerbaijan",
             2020
            ],
            [
             "Azerbaijan",
             2020
            ],
            [
             "Azerbaijan",
             2020
            ],
            [
             "Azerbaijan",
             2020
            ],
            [
             "Azerbaijan",
             2020
            ],
            [
             "Azerbaijan",
             2020
            ],
            [
             "Azerbaijan",
             2020
            ],
            [
             "Azerbaijan",
             2020
            ],
            [
             "Azerbaijan",
             2020
            ],
            [
             "Azerbaijan",
             2020
            ],
            [
             "Azerbaijan",
             2020
            ],
            [
             "Croatia",
             2020
            ],
            [
             "Croatia",
             2020
            ],
            [
             "Croatia",
             2020
            ],
            [
             "Croatia",
             2020
            ],
            [
             "Croatia",
             2020
            ],
            [
             "Croatia",
             2020
            ],
            [
             "Croatia",
             2020
            ],
            [
             "Georgia",
             2020
            ],
            [
             "Georgia",
             2020
            ],
            [
             "Georgia",
             2020
            ],
            [
             "Georgia",
             2020
            ],
            [
             "Georgia",
             2020
            ],
            [
             "Georgia",
             2020
            ],
            [
             "Georgia",
             2020
            ],
            [
             "Georgia",
             2020
            ],
            [
             "Georgia",
             2020
            ],
            [
             "Georgia",
             2020
            ],
            [
             "Georgia",
             2020
            ],
            [
             "Kyrgyzstan",
             2020
            ],
            [
             "Kyrgyzstan",
             2020
            ],
            [
             "Kyrgyzstan",
             2020
            ],
            [
             "Kyrgyzstan",
             2020
            ],
            [
             "Kyrgyzstan",
             2020
            ],
            [
             "Lithuania",
             2020
            ],
            [
             "Lithuania",
             2020
            ],
            [
             "Lithuania",
             2020
            ],
            [
             "Lithuania",
             2020
            ],
            [
             "Lithuania",
             2020
            ],
            [
             "Lithuania",
             2020
            ],
            [
             "Lithuania",
             2020
            ],
            [
             "Lithuania",
             2020
            ],
            [
             "Lithuania",
             2020
            ],
            [
             "Lithuania",
             2020
            ],
            [
             "Montenegro",
             2020
            ],
            [
             "Montenegro",
             2020
            ],
            [
             "Montenegro",
             2020
            ],
            [
             "Montenegro",
             2020
            ],
            [
             "Montenegro",
             2020
            ],
            [
             "Montenegro",
             2020
            ],
            [
             "Montenegro",
             2020
            ],
            [
             "Montenegro",
             2020
            ],
            [
             "Montenegro",
             2020
            ],
            [
             "Montenegro",
             2020
            ],
            [
             "Montenegro",
             2020
            ],
            [
             "Montenegro",
             2020
            ],
            [
             "North Macedonia",
             2020
            ],
            [
             "North Macedonia",
             2020
            ],
            [
             "North Macedonia",
             2020
            ],
            [
             "North Macedonia",
             2020
            ],
            [
             "North Macedonia",
             2020
            ],
            [
             "North Macedonia",
             2020
            ],
            [
             "North Macedonia",
             2020
            ],
            [
             "North Macedonia",
             2020
            ],
            [
             "North Macedonia",
             2020
            ],
            [
             "North Macedonia",
             2020
            ],
            [
             "Romania",
             2020
            ],
            [
             "Romania",
             2020
            ],
            [
             "Romania",
             2020
            ],
            [
             "Romania",
             2020
            ],
            [
             "Serbia",
             2020
            ],
            [
             "Serbia",
             2020
            ],
            [
             "Serbia",
             2020
            ],
            [
             "Serbia",
             2020
            ],
            [
             "Slovakia",
             2020
            ],
            [
             "Slovakia",
             2020
            ],
            [
             "Slovakia",
             2020
            ],
            [
             "Slovakia",
             2020
            ],
            [
             "Slovakia",
             2020
            ],
            [
             "Slovakia",
             2020
            ],
            [
             "Slovakia",
             2020
            ],
            [
             "Slovakia",
             2020
            ],
            [
             "Slovakia",
             2020
            ],
            [
             "Slovakia",
             2020
            ],
            [
             "Slovakia",
             2020
            ],
            [
             "Slovakia",
             2020
            ],
            [
             "Slovakia",
             2020
            ],
            [
             "Tajikistan",
             2020
            ],
            [
             "Tajikistan",
             2020
            ],
            [
             "Tajikistan",
             2020
            ],
            [
             "Tajikistan",
             2020
            ],
            [
             "Tajikistan",
             2020
            ],
            [
             "Tajikistan",
             2020
            ],
            [
             "Tajikistan",
             2020
            ],
            [
             "Tajikistan",
             2020
            ],
            [
             "Tajikistan",
             2020
            ],
            [
             "Tajikistan",
             2020
            ],
            [
             "Tajikistan",
             2020
            ],
            [
             "Tajikistan",
             2020
            ]
           ],
           "hovertemplate": "region=Central and Eastern Europe<br>year=%{customdata[1]}<br>democracy_index_score=%{x}<br>percent_W=%{marker.size}<br>country=%{customdata[0]}<extra></extra>",
           "legendgroup": "Central and Eastern Europe",
           "marker": {
            "color": "rgb(56, 166, 165)",
            "size": [
             0.1735537190082644,
             0.1818181818181818,
             0.1833333333333333,
             0.1735537190082644,
             0.1735537190082644,
             0.1818181818181818,
             0.1833333333333333,
             0.1735537190082644,
             0.1833333333333333,
             0.1735537190082644,
             0.1818181818181818,
             0.3112582781456953,
             0.3112582781456953,
             0.3178807947019867,
             0.3178807947019867,
             0.3178807947019867,
             0.2980132450331126,
             0.2980132450331126,
             0.1933333333333333,
             0.1904761904761904,
             0.2066666666666666,
             0.1933333333333333,
             0.2066666666666666,
             0.1904761904761904,
             0.2066666666666666,
             0.1904761904761904,
             0.1904761904761904,
             0.2066666666666666,
             0.1933333333333333,
             0.1709401709401709,
             0.1652173913043478,
             0.1652173913043478,
             0.1709401709401709,
             0.1709401709401709,
             0.2765957446808511,
             0.2836879432624113,
             0.2695035460992908,
             0.2836879432624113,
             0.2836879432624113,
             0.2836879432624113,
             0.2765957446808511,
             0.2765957446808511,
             0.2765957446808511,
             0.2836879432624113,
             0.2222222222222222,
             0.2469135802469135,
             0.2716049382716049,
             0.2222222222222222,
             0.2469135802469135,
             0.2716049382716049,
             0.2469135802469135,
             0.2716049382716049,
             0.2716049382716049,
             0.2469135802469135,
             0.2469135802469135,
             0.2222222222222222,
             0.3833333333333333,
             0.4,
             0.4166666666666667,
             0.3916666666666666,
             0.4166666666666667,
             0.3916666666666666,
             0.4166666666666667,
             0.3916666666666666,
             0.3916666666666666,
             0.3583333333333333,
             0.1854103343465045,
             0.1909090909090909,
             0.1854103343465045,
             0.1854103343465045,
             0.388,
             0.392,
             0.392,
             0.4,
             0.2266666666666666,
             0.2266666666666666,
             0.2133333333333333,
             0.2266666666666666,
             0.2266666666666666,
             0.2266666666666666,
             0.2133333333333333,
             0.2133333333333333,
             0.2,
             0.2133333333333333,
             0.2266666666666666,
             0.2266666666666666,
             0.2133333333333333,
             0.238095238095238,
             0.238095238095238,
             0.2698412698412698,
             0.238095238095238,
             0.238095238095238,
             0.2698412698412698,
             0.238095238095238,
             0.238095238095238,
             0.238095238095238,
             0.238095238095238,
             0.238095238095238,
             0.238095238095238
            ],
            "sizemode": "area",
            "sizeref": 0.00153125,
            "symbol": "circle"
           },
           "mode": "markers",
           "name": "Central and Eastern Europe",
           "orientation": "v",
           "showlegend": true,
           "type": "scatter",
           "x": [
            2.68,
            2.68,
            2.68,
            2.68,
            2.68,
            2.68,
            2.68,
            2.68,
            2.68,
            2.68,
            2.68,
            6.5,
            6.5,
            6.5,
            6.5,
            6.5,
            6.5,
            6.5,
            5.31,
            5.31,
            5.31,
            5.31,
            5.31,
            5.31,
            5.31,
            5.31,
            5.31,
            5.31,
            5.31,
            4.21,
            4.21,
            4.21,
            4.21,
            4.21,
            7.13,
            7.13,
            7.13,
            7.13,
            7.13,
            7.13,
            7.13,
            7.13,
            7.13,
            7.13,
            5.77,
            5.77,
            5.77,
            5.77,
            5.77,
            5.77,
            5.77,
            5.77,
            5.77,
            5.77,
            5.77,
            5.77,
            5.89,
            5.89,
            5.89,
            5.89,
            5.89,
            5.89,
            5.89,
            5.89,
            5.89,
            5.89,
            6.4,
            6.4,
            6.4,
            6.4,
            6.22,
            6.22,
            6.22,
            6.22,
            6.97,
            6.97,
            6.97,
            6.97,
            6.97,
            6.97,
            6.97,
            6.97,
            6.97,
            6.97,
            6.97,
            6.97,
            6.97,
            1.94,
            1.94,
            1.94,
            1.94,
            1.94,
            1.94,
            1.94,
            1.94,
            1.94,
            1.94,
            1.94,
            1.94
           ],
           "xaxis": "x",
           "y": [
            0.1735537190082644,
            0.1818181818181818,
            0.1833333333333333,
            0.1735537190082644,
            0.1735537190082644,
            0.1818181818181818,
            0.1833333333333333,
            0.1735537190082644,
            0.1833333333333333,
            0.1735537190082644,
            0.1818181818181818,
            0.3112582781456953,
            0.3112582781456953,
            0.3178807947019867,
            0.3178807947019867,
            0.3178807947019867,
            0.2980132450331126,
            0.2980132450331126,
            0.1933333333333333,
            0.1904761904761904,
            0.2066666666666666,
            0.1933333333333333,
            0.2066666666666666,
            0.1904761904761904,
            0.2066666666666666,
            0.1904761904761904,
            0.1904761904761904,
            0.2066666666666666,
            0.1933333333333333,
            0.1709401709401709,
            0.1652173913043478,
            0.1652173913043478,
            0.1709401709401709,
            0.1709401709401709,
            0.2765957446808511,
            0.2836879432624113,
            0.2695035460992908,
            0.2836879432624113,
            0.2836879432624113,
            0.2836879432624113,
            0.2765957446808511,
            0.2765957446808511,
            0.2765957446808511,
            0.2836879432624113,
            0.2222222222222222,
            0.2469135802469135,
            0.2716049382716049,
            0.2222222222222222,
            0.2469135802469135,
            0.2716049382716049,
            0.2469135802469135,
            0.2716049382716049,
            0.2716049382716049,
            0.2469135802469135,
            0.2469135802469135,
            0.2222222222222222,
            0.3833333333333333,
            0.4,
            0.4166666666666667,
            0.3916666666666666,
            0.4166666666666667,
            0.3916666666666666,
            0.4166666666666667,
            0.3916666666666666,
            0.3916666666666666,
            0.3583333333333333,
            0.1854103343465045,
            0.1909090909090909,
            0.1854103343465045,
            0.1854103343465045,
            0.388,
            0.392,
            0.392,
            0.4,
            0.2266666666666666,
            0.2266666666666666,
            0.2133333333333333,
            0.2266666666666666,
            0.2266666666666666,
            0.2266666666666666,
            0.2133333333333333,
            0.2133333333333333,
            0.2,
            0.2133333333333333,
            0.2266666666666666,
            0.2266666666666666,
            0.2133333333333333,
            0.238095238095238,
            0.238095238095238,
            0.2698412698412698,
            0.238095238095238,
            0.238095238095238,
            0.2698412698412698,
            0.238095238095238,
            0.238095238095238,
            0.238095238095238,
            0.238095238095238,
            0.238095238095238,
            0.238095238095238
           ],
           "yaxis": "y"
          },
          {
           "customdata": [
            [
             "Dominican Republic",
             2020
            ],
            [
             "Dominican Republic",
             2020
            ],
            [
             "Dominican Republic",
             2020
            ],
            [
             "Dominican Republic",
             2020
            ],
            [
             "Dominican Republic",
             2020
            ],
            [
             "Dominican Republic",
             2020
            ],
            [
             "Dominican Republic",
             2020
            ],
            [
             "Dominican Republic",
             2020
            ],
            [
             "Dominican Republic",
             2020
            ],
            [
             "Dominican Republic",
             2020
            ],
            [
             "Dominican Republic",
             2020
            ],
            [
             "Dominican Republic",
             2020
            ],
            [
             "Dominican Republic",
             2020
            ],
            [
             "Guyana",
             2020
            ],
            [
             "Guyana",
             2020
            ],
            [
             "Guyana",
             2020
            ],
            [
             "Guyana",
             2020
            ],
            [
             "Guyana",
             2020
            ],
            [
             "Guyana",
             2020
            ],
            [
             "Guyana",
             2020
            ],
            [
             "Guyana",
             2020
            ],
            [
             "Guyana",
             2020
            ],
            [
             "Guyana",
             2020
            ],
            [
             "Jamaica",
             2020
            ],
            [
             "Jamaica",
             2020
            ],
            [
             "Jamaica",
             2020
            ],
            [
             "Jamaica",
             2020
            ],
            [
             "Jamaica",
             2020
            ],
            [
             "Jamaica",
             2020
            ],
            [
             "Jamaica",
             2020
            ],
            [
             "Jamaica",
             2020
            ],
            [
             "Jamaica",
             2020
            ],
            [
             "Jamaica",
             2020
            ],
            [
             "Jamaica",
             2020
            ],
            [
             "Jamaica",
             2020
            ],
            [
             "Jamaica",
             2020
            ],
            [
             "Jamaica",
             2020
            ],
            [
             "Peru",
             2020
            ],
            [
             "Suriname",
             2020
            ],
            [
             "Suriname",
             2020
            ],
            [
             "Suriname",
             2020
            ],
            [
             "Suriname",
             2020
            ],
            [
             "Suriname",
             2020
            ],
            [
             "Suriname",
             2020
            ],
            [
             "Suriname",
             2020
            ],
            [
             "Suriname",
             2020
            ],
            [
             "Suriname",
             2020
            ],
            [
             "Suriname",
             2020
            ],
            [
             "Suriname",
             2020
            ],
            [
             "Suriname",
             2020
            ],
            [
             "Suriname",
             2020
            ],
            [
             "Suriname",
             2020
            ],
            [
             "Trinidad and Tobago",
             2020
            ]
           ],
           "hovertemplate": "region=Latin America and the Caribbean<br>year=%{customdata[1]}<br>democracy_index_score=%{x}<br>percent_W=%{marker.size}<br>country=%{customdata[0]}<extra></extra>",
           "legendgroup": "Latin America and the Caribbean",
           "marker": {
            "color": "rgb(15, 133, 84)",
            "size": [
             0.2789473684210526,
             0.2789473684210526,
             0.2789473684210526,
             0.2789473684210526,
             0.2789473684210526,
             0.2789473684210526,
             0.2789473684210526,
             0.2789473684210526,
             0.2789473684210526,
             0.2789473684210526,
             0.2789473684210526,
             0.2789473684210526,
             0.2789473684210526,
             0.3571428571428571,
             0.3538461538461538,
             0.3538461538461538,
             0.3538461538461538,
             0.3538461538461538,
             0.3538461538461538,
             0.3538461538461538,
             0.3538461538461538,
             0.3538461538461538,
             0.3538461538461538,
             0.2857142857142857,
             0.2857142857142857,
             0.2857142857142857,
             0.2857142857142857,
             0.2857142857142857,
             0.2857142857142857,
             0.2857142857142857,
             0.2857142857142857,
             0.2857142857142857,
             0.2857142857142857,
             0.2857142857142857,
             0.2857142857142857,
             0.2857142857142857,
             0.2857142857142857,
             0.2615384615384615,
             0.2941176470588235,
             0.3137254901960784,
             0.2941176470588235,
             0.2941176470588235,
             0.2941176470588235,
             0.2941176470588235,
             0.2941176470588235,
             0.2941176470588235,
             0.3137254901960784,
             0.3137254901960784,
             0.3137254901960784,
             0.2941176470588235,
             0.3137254901960784,
             0.3137254901960784,
             0.2619047619047619
            ],
            "sizemode": "area",
            "sizeref": 0.00153125,
            "symbol": "circle"
           },
           "mode": "markers",
           "name": "Latin America and the Caribbean",
           "orientation": "v",
           "showlegend": true,
           "type": "scatter",
           "x": [
            6.32,
            6.32,
            6.32,
            6.32,
            6.32,
            6.32,
            6.32,
            6.32,
            6.32,
            6.32,
            6.32,
            6.32,
            6.32,
            6.01,
            6.01,
            6.01,
            6.01,
            6.01,
            6.01,
            6.01,
            6.01,
            6.01,
            6.01,
            7.13,
            7.13,
            7.13,
            7.13,
            7.13,
            7.13,
            7.13,
            7.13,
            7.13,
            7.13,
            7.13,
            7.13,
            7.13,
            7.13,
            6.53,
            6.82,
            6.82,
            6.82,
            6.82,
            6.82,
            6.82,
            6.82,
            6.82,
            6.82,
            6.82,
            6.82,
            6.82,
            6.82,
            6.82,
            7.16
           ],
           "xaxis": "x",
           "y": [
            0.2789473684210526,
            0.2789473684210526,
            0.2789473684210526,
            0.2789473684210526,
            0.2789473684210526,
            0.2789473684210526,
            0.2789473684210526,
            0.2789473684210526,
            0.2789473684210526,
            0.2789473684210526,
            0.2789473684210526,
            0.2789473684210526,
            0.2789473684210526,
            0.3571428571428571,
            0.3538461538461538,
            0.3538461538461538,
            0.3538461538461538,
            0.3538461538461538,
            0.3538461538461538,
            0.3538461538461538,
            0.3538461538461538,
            0.3538461538461538,
            0.3538461538461538,
            0.2857142857142857,
            0.2857142857142857,
            0.2857142857142857,
            0.2857142857142857,
            0.2857142857142857,
            0.2857142857142857,
            0.2857142857142857,
            0.2857142857142857,
            0.2857142857142857,
            0.2857142857142857,
            0.2857142857142857,
            0.2857142857142857,
            0.2857142857142857,
            0.2857142857142857,
            0.2615384615384615,
            0.2941176470588235,
            0.3137254901960784,
            0.2941176470588235,
            0.2941176470588235,
            0.2941176470588235,
            0.2941176470588235,
            0.2941176470588235,
            0.2941176470588235,
            0.3137254901960784,
            0.3137254901960784,
            0.3137254901960784,
            0.2941176470588235,
            0.3137254901960784,
            0.3137254901960784,
            0.2619047619047619
           ],
           "yaxis": "y"
          },
          {
           "customdata": [
            [
             "Mongolia",
             2020
            ],
            [
             "Mongolia",
             2020
            ],
            [
             "Mongolia",
             2020
            ],
            [
             "Mongolia",
             2020
            ],
            [
             "Mongolia",
             2020
            ],
            [
             "Mongolia",
             2020
            ],
            [
             "Mongolia",
             2020
            ],
            [
             "Mongolia",
             2020
            ],
            [
             "Mongolia",
             2020
            ],
            [
             "Mongolia",
             2020
            ],
            [
             "Myanmar",
             2020
            ],
            [
             "Myanmar",
             2020
            ],
            [
             "Myanmar",
             2020
            ],
            [
             "Myanmar",
             2020
            ],
            [
             "Myanmar",
             2020
            ],
            [
             "New Zealand",
             2020
            ],
            [
             "New Zealand",
             2020
            ],
            [
             "New Zealand",
             2020
            ],
            [
             "New Zealand",
             2020
            ],
            [
             "New Zealand",
             2020
            ],
            [
             "Singapore",
             2020
            ],
            [
             "Singapore",
             2020
            ],
            [
             "Singapore",
             2020
            ],
            [
             "Singapore",
             2020
            ],
            [
             "Singapore",
             2020
            ],
            [
             "Singapore",
             2020
            ],
            [
             "Singapore",
             2020
            ],
            [
             "Singapore",
             2020
            ],
            [
             "Singapore",
             2020
            ],
            [
             "Singapore",
             2020
            ],
            [
             "Singapore",
             2020
            ],
            [
             "Singapore",
             2020
            ],
            [
             "Singapore",
             2020
            ],
            [
             "Singapore",
             2020
            ],
            [
             "Sri Lanka",
             2020
            ],
            [
             "Sri Lanka",
             2020
            ],
            [
             "Sri Lanka",
             2020
            ],
            [
             "Sri Lanka",
             2020
            ],
            [
             "Sri Lanka",
             2020
            ],
            [
             "Sri Lanka",
             2020
            ],
            [
             "Sri Lanka",
             2020
            ]
           ],
           "hovertemplate": "region=Asia and Australasia<br>year=%{customdata[1]}<br>democracy_index_score=%{x}<br>percent_W=%{marker.size}<br>country=%{customdata[0]}<extra></extra>",
           "legendgroup": "Asia and Australasia",
           "marker": {
            "color": "rgb(115, 175, 72)",
            "size": [
             0.1733333333333333,
             0.1733333333333333,
             0.1710526315789473,
             0.1733333333333333,
             0.1710526315789473,
             0.1733333333333333,
             0.1710526315789473,
             0.1733333333333333,
             0.1710526315789473,
             0.1733333333333333,
             0.1529411764705882,
             0.1682539682539682,
             0.1529411764705882,
             0.1529411764705882,
             0.1529411764705882,
             0.4916666666666666,
             0.4833333333333333,
             0.5042016806722689,
             0.4833333333333333,
             0.4916666666666666,
             0.2947368421052631,
             0.2980769230769231,
             0.2912621359223301,
             0.2980769230769231,
             0.2912621359223301,
             0.2912621359223301,
             0.2912621359223301,
             0.2980769230769231,
             0.2980769230769231,
             0.2980769230769231,
             0.2980769230769231,
             0.2980769230769231,
             0.2980769230769231,
             0.2980769230769231,
             0.0538116591928251,
             0.0538116591928251,
             0.0533333333333333,
             0.0538116591928251,
             0.0533333333333333,
             0.0538116591928251,
             0.0533333333333333
            ],
            "sizemode": "area",
            "sizeref": 0.00153125,
            "symbol": "circle"
           },
           "mode": "markers",
           "name": "Asia and Australasia",
           "orientation": "v",
           "showlegend": true,
           "type": "scatter",
           "x": [
            6.48,
            6.48,
            6.48,
            6.48,
            6.48,
            6.48,
            6.48,
            6.48,
            6.48,
            6.48,
            3.04,
            3.04,
            3.04,
            3.04,
            3.04,
            9.25,
            9.25,
            9.25,
            9.25,
            9.25,
            6.03,
            6.03,
            6.03,
            6.03,
            6.03,
            6.03,
            6.03,
            6.03,
            6.03,
            6.03,
            6.03,
            6.03,
            6.03,
            6.03,
            6.14,
            6.14,
            6.14,
            6.14,
            6.14,
            6.14,
            6.14
           ],
           "xaxis": "x",
           "y": [
            0.1733333333333333,
            0.1733333333333333,
            0.1710526315789473,
            0.1733333333333333,
            0.1710526315789473,
            0.1733333333333333,
            0.1710526315789473,
            0.1733333333333333,
            0.1710526315789473,
            0.1733333333333333,
            0.1529411764705882,
            0.1682539682539682,
            0.1529411764705882,
            0.1529411764705882,
            0.1529411764705882,
            0.4916666666666666,
            0.4833333333333333,
            0.5042016806722689,
            0.4833333333333333,
            0.4916666666666666,
            0.2947368421052631,
            0.2980769230769231,
            0.2912621359223301,
            0.2980769230769231,
            0.2912621359223301,
            0.2912621359223301,
            0.2912621359223301,
            0.2980769230769231,
            0.2980769230769231,
            0.2980769230769231,
            0.2980769230769231,
            0.2980769230769231,
            0.2980769230769231,
            0.2980769230769231,
            0.0538116591928251,
            0.0538116591928251,
            0.0533333333333333,
            0.0538116591928251,
            0.0533333333333333,
            0.0538116591928251,
            0.0533333333333333
           ],
           "yaxis": "y"
          },
          {
           "customdata": [
            [
             "Egypt",
             2020
            ],
            [
             "Egypt",
             2020
            ],
            [
             "Egypt",
             2020
            ],
            [
             "Egypt",
             2020
            ],
            [
             "Egypt",
             2020
            ],
            [
             "Egypt",
             2020
            ],
            [
             "Egypt",
             2020
            ],
            [
             "Egypt",
             2020
            ],
            [
             "Egypt",
             2020
            ],
            [
             "Egypt",
             2020
            ],
            [
             "Egypt",
             2020
            ],
            [
             "Egypt",
             2020
            ],
            [
             "Egypt",
             2020
            ],
            [
             "Egypt",
             2020
            ],
            [
             "Israel",
             2020
            ],
            [
             "Israel",
             2020
            ],
            [
             "Israel",
             2020
            ],
            [
             "Israel",
             2020
            ],
            [
             "Israel",
             2020
            ],
            [
             "Israel",
             2020
            ],
            [
             "Jordan",
             2020
            ],
            [
             "Jordan",
             2020
            ],
            [
             "Jordan",
             2020
            ],
            [
             "Jordan",
             2020
            ],
            [
             "Jordan",
             2020
            ],
            [
             "Jordan",
             2020
            ],
            [
             "Jordan",
             2020
            ],
            [
             "Jordan",
             2020
            ],
            [
             "Kuwait",
             2020
            ],
            [
             "Kuwait",
             2020
            ],
            [
             "Kuwait",
             2020
            ],
            [
             "Kuwait",
             2020
            ],
            [
             "Kuwait",
             2020
            ],
            [
             "Saudi Arabia",
             2020
            ],
            [
             "Saudi Arabia",
             2020
            ],
            [
             "Saudi Arabia",
             2020
            ],
            [
             "Saudi Arabia",
             2020
            ],
            [
             "Saudi Arabia",
             2020
            ]
           ],
           "hovertemplate": "region=Middle East and North Africa<br>year=%{customdata[1]}<br>democracy_index_score=%{x}<br>percent_W=%{marker.size}<br>country=%{customdata[0]}<extra></extra>",
           "legendgroup": "Middle East and North Africa",
           "marker": {
            "color": "rgb(237, 173, 8)",
            "size": [
             0.277027027027027,
             0.277027027027027,
             0.2741116751269035,
             0.277027027027027,
             0.2758037225042301,
             0.2741116751269035,
             0.277027027027027,
             0.2741116751269035,
             0.277027027027027,
             0.2741116751269035,
             0.2741116751269035,
             0.277027027027027,
             0.277027027027027,
             0.277027027027027,
             0.275,
             0.2666666666666666,
             0.25,
             0.2416666666666666,
             0.275,
             0.275,
             0.1153846153846153,
             0.123076923076923,
             0.123076923076923,
             0.1153846153846153,
             0.1153846153846153,
             0.123076923076923,
             0.123076923076923,
             0.1153846153846153,
             0.0153846153846153,
             0.0153846153846153,
             0.0161290322580645,
             0.0161290322580645,
             0.0161290322580645,
             0.1986754966887417,
             0.1986754966887417,
             0.1986754966887417,
             0.1986754966887417,
             0.1986754966887417
            ],
            "sizemode": "area",
            "sizeref": 0.00153125,
            "symbol": "circle"
           },
           "mode": "markers",
           "name": "Middle East and North Africa",
           "orientation": "v",
           "showlegend": true,
           "type": "scatter",
           "x": [
            2.93,
            2.93,
            2.93,
            2.93,
            2.93,
            2.93,
            2.93,
            2.93,
            2.93,
            2.93,
            2.93,
            2.93,
            2.93,
            2.93,
            7.84,
            7.84,
            7.84,
            7.84,
            7.84,
            7.84,
            3.62,
            3.62,
            3.62,
            3.62,
            3.62,
            3.62,
            3.62,
            3.62,
            3.8,
            3.8,
            3.8,
            3.8,
            3.8,
            2.08,
            2.08,
            2.08,
            2.08,
            2.08
           ],
           "xaxis": "x",
           "y": [
            0.277027027027027,
            0.277027027027027,
            0.2741116751269035,
            0.277027027027027,
            0.2758037225042301,
            0.2741116751269035,
            0.277027027027027,
            0.2741116751269035,
            0.277027027027027,
            0.2741116751269035,
            0.2741116751269035,
            0.277027027027027,
            0.277027027027027,
            0.277027027027027,
            0.275,
            0.2666666666666666,
            0.25,
            0.2416666666666666,
            0.275,
            0.275,
            0.1153846153846153,
            0.123076923076923,
            0.123076923076923,
            0.1153846153846153,
            0.1153846153846153,
            0.123076923076923,
            0.123076923076923,
            0.1153846153846153,
            0.0153846153846153,
            0.0153846153846153,
            0.0161290322580645,
            0.0161290322580645,
            0.0161290322580645,
            0.1986754966887417,
            0.1986754966887417,
            0.1986754966887417,
            0.1986754966887417,
            0.1986754966887417
           ],
           "yaxis": "y"
          },
          {
           "customdata": [
            [
             "Burkina Faso",
             2020
            ],
            [
             "Burkina Faso",
             2020
            ],
            [
             "Burkina Faso",
             2020
            ],
            [
             "Burkina Faso",
             2020
            ],
            [
             "Burkina Faso",
             2020
            ],
            [
             "Burundi",
             2020
            ],
            [
             "Burundi",
             2020
            ],
            [
             "Burundi",
             2020
            ],
            [
             "Burundi",
             2020
            ],
            [
             "Burundi",
             2020
            ],
            [
             "Burundi",
             2020
            ],
            [
             "Burundi",
             2020
            ],
            [
             "Burundi",
             2020
            ],
            [
             "Burundi",
             2020
            ],
            [
             "Burundi",
             2020
            ],
            [
             "Cameroon",
             2020
            ],
            [
             "Cameroon",
             2020
            ],
            [
             "Cameroon",
             2020
            ],
            [
             "Cameroon",
             2020
            ],
            [
             "Cameroon",
             2020
            ],
            [
             "Cameroon",
             2020
            ],
            [
             "Cameroon",
             2020
            ],
            [
             "Cameroon",
             2020
            ],
            [
             "Cameroon",
             2020
            ],
            [
             "Cameroon",
             2020
            ],
            [
             "Cameroon",
             2020
            ],
            [
             "Cameroon",
             2020
            ],
            [
             "Central African Republic",
             2020
            ],
            [
             "Central African Republic",
             2020
            ],
            [
             "Central African Republic",
             2020
            ],
            [
             "Central African Republic",
             2020
            ],
            [
             "Central African Republic",
             2020
            ],
            [
             "Central African Republic",
             2020
            ],
            [
             "Central African Republic",
             2020
            ],
            [
             "Central African Republic",
             2020
            ],
            [
             "Comoros",
             2020
            ],
            [
             "Comoros",
             2020
            ],
            [
             "Comoros",
             2020
            ],
            [
             "Comoros",
             2020
            ],
            [
             "Comoros",
             2020
            ],
            [
             "Comoros",
             2020
            ],
            [
             "Comoros",
             2020
            ],
            [
             "Comoros",
             2020
            ],
            [
             "Comoros",
             2020
            ],
            [
             "Ghana",
             2020
            ],
            [
             "Ghana",
             2020
            ],
            [
             "Ghana",
             2020
            ],
            [
             "Ghana",
             2020
            ],
            [
             "Ghana",
             2020
            ],
            [
             "Ghana",
             2020
            ],
            [
             "Guinea",
             2020
            ],
            [
             "Guinea",
             2020
            ],
            [
             "Guinea",
             2020
            ],
            [
             "Mali",
             2020
            ],
            [
             "Mali",
             2020
            ],
            [
             "Mali",
             2020
            ],
            [
             "Mali",
             2020
            ],
            [
             "Mali",
             2020
            ],
            [
             "Mali",
             2020
            ],
            [
             "Mali",
             2020
            ],
            [
             "Mali",
             2020
            ],
            [
             "Mali",
             2020
            ],
            [
             "Mali",
             2020
            ],
            [
             "Mali",
             2020
            ],
            [
             "Mali",
             2020
            ],
            [
             "Mali",
             2020
            ],
            [
             "Mali",
             2020
            ],
            [
             "Mali",
             2020
            ],
            [
             "Niger",
             2020
            ],
            [
             "Niger",
             2020
            ],
            [
             "Niger",
             2020
            ],
            [
             "Niger",
             2020
            ],
            [
             "Niger",
             2020
            ],
            [
             "Niger",
             2020
            ],
            [
             "Niger",
             2020
            ],
            [
             "Niger",
             2020
            ],
            [
             "Niger",
             2020
            ]
           ],
           "hovertemplate": "region=Sub-Saharan Africa<br>year=%{customdata[1]}<br>democracy_index_score=%{x}<br>percent_W=%{marker.size}<br>country=%{customdata[0]}<extra></extra>",
           "legendgroup": "Sub-Saharan Africa",
           "marker": {
            "color": "rgb(225, 124, 5)",
            "size": [
             0.0629921259842519,
             0.0629921259842519,
             0.0629921259842519,
             0.0629921259842519,
             0.0629921259842519,
             0.3821138211382114,
             0.3821138211382114,
             0.3821138211382114,
             0.3821138211382114,
             0.3821138211382114,
             0.3821138211382114,
             0.3821138211382114,
             0.3821138211382114,
             0.3821138211382114,
             0.3821138211382114,
             0.3388888888888889,
             0.3388888888888889,
             0.3388888888888889,
             0.3388888888888889,
             0.3388888888888889,
             0.3473053892215569,
             0.3388888888888889,
             0.3388888888888889,
             0.3388888888888889,
             0.3388888888888889,
             0.3388888888888889,
             0.3388888888888889,
             0.1285714285714285,
             0.1285714285714285,
             0.1285714285714285,
             0.0857142857142857,
             0.1285714285714285,
             0.1111111111111111,
             0.1278195488721804,
             0.1285714285714285,
             0.1666666666666666,
             0.1666666666666666,
             0.1666666666666666,
             0.1666666666666666,
             0.1666666666666666,
             0.1666666666666666,
             0.1666666666666666,
             0.1666666666666666,
             0.1666666666666666,
             0.1454545454545454,
             0.1454545454545454,
             0.1454545454545454,
             0.1454545454545454,
             0.1454545454545454,
             0.1454545454545454,
             0.1666666666666666,
             0.1491228070175438,
             0.1578947368421052,
             0.2789115646258503,
             0.2727272727272727,
             0.2644628099173554,
             0.2727272727272727,
             0.2857142857142857,
             0.2727272727272727,
             0.2727272727272727,
             0.2644628099173554,
             0.2644628099173554,
             0.2727272727272727,
             0.2727272727272727,
             0.2727272727272727,
             0.2727272727272727,
             0.2727272727272727,
             0.2727272727272727,
             0.2590361445783132,
             0.2590361445783132,
             0.2590361445783132,
             0.2590361445783132,
             0.2590361445783132,
             0.2590361445783132,
             0.2590361445783132,
             0.2590361445783132,
             0.2590361445783132
            ],
            "sizemode": "area",
            "sizeref": 0.00153125,
            "symbol": "circle"
           },
           "mode": "markers",
           "name": "Sub-Saharan Africa",
           "orientation": "v",
           "showlegend": true,
           "type": "scatter",
           "x": [
            3.73,
            3.73,
            3.73,
            3.73,
            3.73,
            2.14,
            2.14,
            2.14,
            2.14,
            2.14,
            2.14,
            2.14,
            2.14,
            2.14,
            2.14,
            2.77,
            2.77,
            2.77,
            2.77,
            2.77,
            2.77,
            2.77,
            2.77,
            2.77,
            2.77,
            2.77,
            2.77,
            1.32,
            1.32,
            1.32,
            1.32,
            1.32,
            1.32,
            1.32,
            1.32,
            3.09,
            3.09,
            3.09,
            3.09,
            3.09,
            3.09,
            3.09,
            3.09,
            3.09,
            6.5,
            6.5,
            6.5,
            6.5,
            6.5,
            6.5,
            3.08,
            3.08,
            3.08,
            3.93,
            3.93,
            3.93,
            3.93,
            3.93,
            3.93,
            3.93,
            3.93,
            3.93,
            3.93,
            3.93,
            3.93,
            3.93,
            3.93,
            3.93,
            3.29,
            3.29,
            3.29,
            3.29,
            3.29,
            3.29,
            3.29,
            3.29,
            3.29
           ],
           "xaxis": "x",
           "y": [
            0.0629921259842519,
            0.0629921259842519,
            0.0629921259842519,
            0.0629921259842519,
            0.0629921259842519,
            0.3821138211382114,
            0.3821138211382114,
            0.3821138211382114,
            0.3821138211382114,
            0.3821138211382114,
            0.3821138211382114,
            0.3821138211382114,
            0.3821138211382114,
            0.3821138211382114,
            0.3821138211382114,
            0.3388888888888889,
            0.3388888888888889,
            0.3388888888888889,
            0.3388888888888889,
            0.3388888888888889,
            0.3473053892215569,
            0.3388888888888889,
            0.3388888888888889,
            0.3388888888888889,
            0.3388888888888889,
            0.3388888888888889,
            0.3388888888888889,
            0.1285714285714285,
            0.1285714285714285,
            0.1285714285714285,
            0.0857142857142857,
            0.1285714285714285,
            0.1111111111111111,
            0.1278195488721804,
            0.1285714285714285,
            0.1666666666666666,
            0.1666666666666666,
            0.1666666666666666,
            0.1666666666666666,
            0.1666666666666666,
            0.1666666666666666,
            0.1666666666666666,
            0.1666666666666666,
            0.1666666666666666,
            0.1454545454545454,
            0.1454545454545454,
            0.1454545454545454,
            0.1454545454545454,
            0.1454545454545454,
            0.1454545454545454,
            0.1666666666666666,
            0.1491228070175438,
            0.1578947368421052,
            0.2789115646258503,
            0.2727272727272727,
            0.2644628099173554,
            0.2727272727272727,
            0.2857142857142857,
            0.2727272727272727,
            0.2727272727272727,
            0.2644628099173554,
            0.2644628099173554,
            0.2727272727272727,
            0.2727272727272727,
            0.2727272727272727,
            0.2727272727272727,
            0.2727272727272727,
            0.2727272727272727,
            0.2590361445783132,
            0.2590361445783132,
            0.2590361445783132,
            0.2590361445783132,
            0.2590361445783132,
            0.2590361445783132,
            0.2590361445783132,
            0.2590361445783132,
            0.2590361445783132
           ],
           "yaxis": "y"
          }
         ],
         "name": "2020"
        },
        {
         "data": [
          {
           "customdata": [
            [
             "Canada",
             2021
            ],
            [
             "Canada",
             2021
            ],
            [
             "Canada",
             2021
            ],
            [
             "Canada",
             2021
            ],
            [
             "Canada",
             2021
            ],
            [
             "Canada",
             2021
            ],
            [
             "Canada",
             2021
            ]
           ],
           "hovertemplate": "region=North America<br>year=%{customdata[1]}<br>democracy_index_score=%{x}<br>percent_W=%{marker.size}<br>country=%{customdata[0]}<extra></extra>",
           "legendgroup": "North America",
           "marker": {
            "color": "rgb(95, 70, 144)",
            "size": [
             0.3047337278106509,
             0.3047337278106509,
             0.3047337278106509,
             0.3047337278106509,
             0.3047337278106509,
             0.3047337278106509,
             0.3047337278106509
            ],
            "sizemode": "area",
            "sizeref": 0.00153125,
            "symbol": "circle"
           },
           "mode": "markers",
           "name": "North America",
           "orientation": "v",
           "showlegend": true,
           "type": "scatter",
           "x": [
            8.87,
            8.87,
            8.87,
            8.87,
            8.87,
            8.87,
            8.87
           ],
           "xaxis": "x",
           "y": [
            0.3047337278106509,
            0.3047337278106509,
            0.3047337278106509,
            0.3047337278106509,
            0.3047337278106509,
            0.3047337278106509,
            0.3047337278106509
           ],
           "yaxis": "y"
          },
          {
           "customdata": [
            [
             "Cyprus",
             2021
            ],
            [
             "Cyprus",
             2021
            ],
            [
             "Cyprus",
             2021
            ],
            [
             "Cyprus",
             2021
            ],
            [
             "Germany",
             2021
            ],
            [
             "Germany",
             2021
            ],
            [
             "Germany",
             2021
            ],
            [
             "Germany",
             2021
            ],
            [
             "Germany",
             2021
            ],
            [
             "Germany",
             2021
            ],
            [
             "Germany",
             2021
            ],
            [
             "Iceland",
             2021
            ],
            [
             "Netherlands",
             2021
            ],
            [
             "Netherlands",
             2021
            ],
            [
             "Netherlands",
             2021
            ],
            [
             "Netherlands",
             2021
            ],
            [
             "Norway",
             2021
            ],
            [
             "Norway",
             2021
            ]
           ],
           "hovertemplate": "region=Western Europe<br>year=%{customdata[1]}<br>democracy_index_score=%{x}<br>percent_W=%{marker.size}<br>country=%{customdata[0]}<extra></extra>",
           "legendgroup": "Western Europe",
           "marker": {
            "color": "rgb(29, 105, 150)",
            "size": [
             0.1428571428571428,
             0.1428571428571428,
             0.1428571428571428,
             0.1428571428571428,
             0.3491847826086957,
             0.3491847826086957,
             0.3491847826086957,
             0.3491847826086957,
             0.3491847826086957,
             0.3491847826086957,
             0.3491847826086957,
             0.4761904761904761,
             0.3933333333333333,
             0.4066666666666667,
             0.4066666666666667,
             0.3933333333333333,
             0.4497041420118343,
             0.4497041420118343
            ],
            "sizemode": "area",
            "sizeref": 0.00153125,
            "symbol": "circle"
           },
           "mode": "markers",
           "name": "Western Europe",
           "orientation": "v",
           "showlegend": true,
           "type": "scatter",
           "x": [
            7.43,
            7.43,
            7.43,
            7.43,
            8.67,
            8.67,
            8.67,
            8.67,
            8.67,
            8.67,
            8.67,
            9.18,
            8.88,
            8.88,
            8.88,
            8.88,
            9.75,
            9.75
           ],
           "xaxis": "x",
           "y": [
            0.1428571428571428,
            0.1428571428571428,
            0.1428571428571428,
            0.1428571428571428,
            0.3491847826086957,
            0.3491847826086957,
            0.3491847826086957,
            0.3491847826086957,
            0.3491847826086957,
            0.3491847826086957,
            0.3491847826086957,
            0.4761904761904761,
            0.3933333333333333,
            0.4066666666666667,
            0.4066666666666667,
            0.3933333333333333,
            0.4497041420118343,
            0.4497041420118343
           ],
           "yaxis": "y"
          },
          {
           "customdata": [
            [
             "Albania",
             2021
            ],
            [
             "Albania",
             2021
            ],
            [
             "Albania",
             2021
            ],
            [
             "Albania",
             2021
            ],
            [
             "Albania",
             2021
            ],
            [
             "Albania",
             2021
            ],
            [
             "Albania",
             2021
            ],
            [
             "Albania",
             2021
            ],
            [
             "Albania",
             2021
            ],
            [
             "Armenia",
             2021
            ],
            [
             "Armenia",
             2021
            ],
            [
             "Armenia",
             2021
            ],
            [
             "Armenia",
             2021
            ],
            [
             "Armenia",
             2021
            ],
            [
             "Armenia",
             2021
            ],
            [
             "Armenia",
             2021
            ],
            [
             "Bulgaria",
             2021
            ],
            [
             "Bulgaria",
             2021
            ],
            [
             "Bulgaria",
             2021
            ],
            [
             "Bulgaria",
             2021
            ],
            [
             "Bulgaria",
             2021
            ],
            [
             "Bulgaria",
             2021
            ],
            [
             "Bulgaria",
             2021
            ],
            [
             "Bulgaria",
             2021
            ],
            [
             "Bulgaria",
             2021
            ],
            [
             "Czech Republic",
             2021
            ],
            [
             "Czech Republic",
             2021
            ],
            [
             "Czech Republic",
             2021
            ],
            [
             "Czech Republic",
             2021
            ],
            [
             "Czech Republic",
             2021
            ],
            [
             "Czech Republic",
             2021
            ],
            [
             "Czech Republic",
             2021
            ],
            [
             "Kazakhstan",
             2021
            ],
            [
             "Kazakhstan",
             2021
            ],
            [
             "Kazakhstan",
             2021
            ],
            [
             "Kazakhstan",
             2021
            ],
            [
             "Kazakhstan",
             2021
            ],
            [
             "Kazakhstan",
             2021
            ],
            [
             "Kazakhstan",
             2021
            ],
            [
             "Kazakhstan",
             2021
            ],
            [
             "Kazakhstan",
             2021
            ],
            [
             "Kyrgyzstan",
             2021
            ],
            [
             "Kyrgyzstan",
             2021
            ],
            [
             "Kyrgyzstan",
             2021
            ],
            [
             "Kyrgyzstan",
             2021
            ]
           ],
           "hovertemplate": "region=Central and Eastern Europe<br>year=%{customdata[1]}<br>democracy_index_score=%{x}<br>percent_W=%{marker.size}<br>country=%{customdata[0]}<extra></extra>",
           "legendgroup": "Central and Eastern Europe",
           "marker": {
            "color": "rgb(56, 166, 165)",
            "size": [
             0.3357142857142857,
             0.3571428571428571,
             0.3571428571428571,
             0.3357142857142857,
             0.3571428571428571,
             0.3571428571428571,
             0.3357142857142857,
             0.3357142857142857,
             0.3357142857142857,
             0.3364485981308411,
             0.3551401869158878,
             0.3364485981308411,
             0.3364485981308411,
             0.3457943925233644,
             0.3551401869158878,
             0.3551401869158878,
             0.2458333333333333,
             0.225,
             0.2458333333333333,
             0.2375,
             0.225,
             0.225,
             0.225,
             0.2375,
             0.2458333333333333,
             0.255,
             0.25,
             0.255,
             0.25,
             0.255,
             0.255,
             0.255,
             0.2710280373831775,
             0.2735849056603773,
             0.2710280373831775,
             0.2710280373831775,
             0.2710280373831775,
             0.2710280373831775,
             0.2710280373831775,
             0.2710280373831775,
             0.2710280373831775,
             0.2045454545454545,
             0.2045454545454545,
             0.2045454545454545,
             0.2045454545454545
            ],
            "sizemode": "area",
            "sizeref": 0.00153125,
            "symbol": "circle"
           },
           "mode": "markers",
           "name": "Central and Eastern Europe",
           "orientation": "v",
           "showlegend": true,
           "type": "scatter",
           "x": [
            6.11,
            6.11,
            6.11,
            6.11,
            6.11,
            6.11,
            6.11,
            6.11,
            6.11,
            5.49,
            5.49,
            5.49,
            5.49,
            5.49,
            5.49,
            5.49,
            6.64,
            6.64,
            6.64,
            6.64,
            6.64,
            6.64,
            6.64,
            6.64,
            6.64,
            7.74,
            7.74,
            7.74,
            7.74,
            7.74,
            7.74,
            7.74,
            3.08,
            3.08,
            3.08,
            3.08,
            3.08,
            3.08,
            3.08,
            3.08,
            3.08,
            3.62,
            3.62,
            3.62,
            3.62
           ],
           "xaxis": "x",
           "y": [
            0.3357142857142857,
            0.3571428571428571,
            0.3571428571428571,
            0.3357142857142857,
            0.3571428571428571,
            0.3571428571428571,
            0.3357142857142857,
            0.3357142857142857,
            0.3357142857142857,
            0.3364485981308411,
            0.3551401869158878,
            0.3364485981308411,
            0.3364485981308411,
            0.3457943925233644,
            0.3551401869158878,
            0.3551401869158878,
            0.2458333333333333,
            0.225,
            0.2458333333333333,
            0.2375,
            0.225,
            0.225,
            0.225,
            0.2375,
            0.2458333333333333,
            0.255,
            0.25,
            0.255,
            0.25,
            0.255,
            0.255,
            0.255,
            0.2710280373831775,
            0.2735849056603773,
            0.2710280373831775,
            0.2710280373831775,
            0.2710280373831775,
            0.2710280373831775,
            0.2710280373831775,
            0.2710280373831775,
            0.2710280373831775,
            0.2045454545454545,
            0.2045454545454545,
            0.2045454545454545,
            0.2045454545454545
           ],
           "yaxis": "y"
          },
          {
           "customdata": [
            [
             "Argentina",
             2021
            ],
            [
             "Argentina",
             2021
            ],
            [
             "Chile",
             2021
            ],
            [
             "Chile",
             2021
            ],
            [
             "Ecuador",
             2021
            ],
            [
             "Ecuador",
             2021
            ],
            [
             "Ecuador",
             2021
            ],
            [
             "Ecuador",
             2021
            ],
            [
             "Ecuador",
             2021
            ],
            [
             "Ecuador",
             2021
            ],
            [
             "Ecuador",
             2021
            ],
            [
             "Ecuador",
             2021
            ],
            [
             "Ecuador",
             2021
            ],
            [
             "Ecuador",
             2021
            ],
            [
             "Ecuador",
             2021
            ],
            [
             "El Salvador",
             2021
            ],
            [
             "El Salvador",
             2021
            ],
            [
             "El Salvador",
             2021
            ],
            [
             "El Salvador",
             2021
            ],
            [
             "El Salvador",
             2021
            ],
            [
             "El Salvador",
             2021
            ],
            [
             "El Salvador",
             2021
            ],
            [
             "El Salvador",
             2021
            ],
            [
             "El Salvador",
             2021
            ],
            [
             "El Salvador",
             2021
            ],
            [
             "Honduras",
             2021
            ],
            [
             "Honduras",
             2021
            ],
            [
             "Honduras",
             2021
            ],
            [
             "Honduras",
             2021
            ],
            [
             "Honduras",
             2021
            ],
            [
             "Honduras",
             2021
            ],
            [
             "Mexico",
             2021
            ],
            [
             "Mexico",
             2021
            ],
            [
             "Mexico",
             2021
            ],
            [
             "Nicaragua",
             2021
            ],
            [
             "Nicaragua",
             2021
            ],
            [
             "Peru",
             2021
            ]
           ],
           "hovertemplate": "region=Latin America and the Caribbean<br>year=%{customdata[1]}<br>democracy_index_score=%{x}<br>percent_W=%{marker.size}<br>country=%{customdata[0]}<extra></extra>",
           "legendgroup": "Latin America and the Caribbean",
           "marker": {
            "color": "rgb(15, 133, 84)",
            "size": [
             0.4474708171206226,
             0.4474708171206226,
             0.3548387096774194,
             0.3548387096774194,
             0.3941605839416058,
             0.3868613138686131,
             0.3868613138686131,
             0.3868613138686131,
             0.3795620437956204,
             0.3795620437956204,
             0.3795620437956204,
             0.3795620437956204,
             0.3941605839416058,
             0.3868613138686131,
             0.3941605839416058,
             0.2738095238095238,
             0.2738095238095238,
             0.2738095238095238,
             0.2738095238095238,
             0.2738095238095238,
             0.2738095238095238,
             0.2738095238095238,
             0.2738095238095238,
             0.2738095238095238,
             0.2738095238095238,
             0.2734375,
             0.2734375,
             0.2734375,
             0.2734375,
             0.2734375,
             0.2734375,
             0.5,
             0.5,
             0.5,
             0.5164835164835165,
             0.5054945054945055,
             0.4
            ],
            "sizemode": "area",
            "sizeref": 0.00153125,
            "symbol": "circle"
           },
           "mode": "markers",
           "name": "Latin America and the Caribbean",
           "orientation": "v",
           "showlegend": true,
           "type": "scatter",
           "x": [
            6.81,
            6.81,
            7.92,
            7.92,
            5.71,
            5.71,
            5.71,
            5.71,
            5.71,
            5.71,
            5.71,
            5.71,
            5.71,
            5.71,
            5.71,
            5.72,
            5.72,
            5.72,
            5.72,
            5.72,
            5.72,
            5.72,
            5.72,
            5.72,
            5.72,
            5.1,
            5.1,
            5.1,
            5.1,
            5.1,
            5.1,
            5.57,
            5.57,
            5.57,
            2.69,
            2.69,
            6.09
           ],
           "xaxis": "x",
           "y": [
            0.4474708171206226,
            0.4474708171206226,
            0.3548387096774194,
            0.3548387096774194,
            0.3941605839416058,
            0.3868613138686131,
            0.3868613138686131,
            0.3868613138686131,
            0.3795620437956204,
            0.3795620437956204,
            0.3795620437956204,
            0.3795620437956204,
            0.3941605839416058,
            0.3868613138686131,
            0.3941605839416058,
            0.2738095238095238,
            0.2738095238095238,
            0.2738095238095238,
            0.2738095238095238,
            0.2738095238095238,
            0.2738095238095238,
            0.2738095238095238,
            0.2738095238095238,
            0.2738095238095238,
            0.2738095238095238,
            0.2734375,
            0.2734375,
            0.2734375,
            0.2734375,
            0.2734375,
            0.2734375,
            0.5,
            0.5,
            0.5,
            0.5164835164835165,
            0.5054945054945055,
            0.4
           ],
           "yaxis": "y"
          },
          {
           "customdata": [
            [
             "Japan",
             2021
            ],
            [
             "Japan",
             2021
            ],
            [
             "Japan",
             2021
            ],
            [
             "Japan",
             2021
            ],
            [
             "Japan",
             2021
            ],
            [
             "Japan",
             2021
            ],
            [
             "Japan",
             2021
            ]
           ],
           "hovertemplate": "region=Asia and Australasia<br>year=%{customdata[1]}<br>democracy_index_score=%{x}<br>percent_W=%{marker.size}<br>country=%{customdata[0]}<extra></extra>",
           "legendgroup": "Asia and Australasia",
           "marker": {
            "color": "rgb(115, 175, 72)",
            "size": [
             0.0991379310344827,
             0.0967741935483871,
             0.0991379310344827,
             0.0967741935483871,
             0.0967741935483871,
             0.0967741935483871,
             0.0989247311827957
            ],
            "sizemode": "area",
            "sizeref": 0.00153125,
            "symbol": "circle"
           },
           "mode": "markers",
           "name": "Asia and Australasia",
           "orientation": "v",
           "showlegend": true,
           "type": "scatter",
           "x": [
            8.15,
            8.15,
            8.15,
            8.15,
            8.15,
            8.15,
            8.15
           ],
           "xaxis": "x",
           "y": [
            0.0991379310344827,
            0.0967741935483871,
            0.0991379310344827,
            0.0967741935483871,
            0.0967741935483871,
            0.0967741935483871,
            0.0989247311827957
           ],
           "yaxis": "y"
          },
          {
           "customdata": [
            [
             "Algeria",
             2021
            ],
            [
             "Algeria",
             2021
            ],
            [
             "Algeria",
             2021
            ],
            [
             "Algeria",
             2021
            ],
            [
             "Algeria",
             2021
            ],
            [
             "Algeria",
             2021
            ],
            [
             "Algeria",
             2021
            ],
            [
             "Algeria",
             2021
            ],
            [
             "Iraq",
             2021
            ],
            [
             "Iraq",
             2021
            ],
            [
             "Iraq",
             2021
            ],
            [
             "Iraq",
             2021
            ],
            [
             "Israel",
             2021
            ],
            [
             "Israel",
             2021
            ],
            [
             "Israel",
             2021
            ],
            [
             "Israel",
             2021
            ],
            [
             "Israel",
             2021
            ],
            [
             "Israel",
             2021
            ],
            [
             "Israel",
             2021
            ],
            [
             "Israel",
             2021
            ],
            [
             "Israel",
             2021
            ],
            [
             "Israel",
             2021
            ],
            [
             "Israel",
             2021
            ],
            [
             "Morocco",
             2021
            ],
            [
             "Morocco",
             2021
            ],
            [
             "Morocco",
             2021
            ],
            [
             "Morocco",
             2021
            ],
            [
             "Morocco",
             2021
            ],
            [
             "Morocco",
             2021
            ],
            [
             "Morocco",
             2021
            ],
            [
             "Qatar",
             2021
            ],
            [
             "Qatar",
             2021
            ],
            [
             "Qatar",
             2021
            ]
           ],
           "hovertemplate": "region=Middle East and North Africa<br>year=%{customdata[1]}<br>democracy_index_score=%{x}<br>percent_W=%{marker.size}<br>country=%{customdata[0]}<extra></extra>",
           "legendgroup": "Middle East and North Africa",
           "marker": {
            "color": "rgb(237, 173, 8)",
            "size": [
             0.081081081081081,
             0.081081081081081,
             0.081081081081081,
             0.081081081081081,
             0.081081081081081,
             0.081081081081081,
             0.081081081081081,
             0.081081081081081,
             0.2887537993920973,
             0.2887537993920973,
             0.2887537993920973,
             0.2887537993920973,
             0.2833333333333333,
             0.3,
             0.2833333333333333,
             0.3,
             0.2833333333333333,
             0.3,
             0.2416666666666666,
             0.2416666666666666,
             0.3,
             0.2833333333333333,
             0.2833333333333333,
             0.2278481012658227,
             0.240506329113924,
             0.2278481012658227,
             0.240506329113924,
             0.2278481012658227,
             0.240506329113924,
             0.240506329113924,
             0.0444444444444444,
             0.0444444444444444,
             0.0444444444444444
            ],
            "sizemode": "area",
            "sizeref": 0.00153125,
            "symbol": "circle"
           },
           "mode": "markers",
           "name": "Middle East and North Africa",
           "orientation": "v",
           "showlegend": true,
           "type": "scatter",
           "x": [
            3.77,
            3.77,
            3.77,
            3.77,
            3.77,
            3.77,
            3.77,
            3.77,
            3.51,
            3.51,
            3.51,
            3.51,
            7.97,
            7.97,
            7.97,
            7.97,
            7.97,
            7.97,
            7.97,
            7.97,
            7.97,
            7.97,
            7.97,
            5.04,
            5.04,
            5.04,
            5.04,
            5.04,
            5.04,
            5.04,
            3.65,
            3.65,
            3.65
           ],
           "xaxis": "x",
           "y": [
            0.081081081081081,
            0.081081081081081,
            0.081081081081081,
            0.081081081081081,
            0.081081081081081,
            0.081081081081081,
            0.081081081081081,
            0.081081081081081,
            0.2887537993920973,
            0.2887537993920973,
            0.2887537993920973,
            0.2887537993920973,
            0.2833333333333333,
            0.3,
            0.2833333333333333,
            0.3,
            0.2833333333333333,
            0.3,
            0.2416666666666666,
            0.2416666666666666,
            0.3,
            0.2833333333333333,
            0.2833333333333333,
            0.2278481012658227,
            0.240506329113924,
            0.2278481012658227,
            0.240506329113924,
            0.2278481012658227,
            0.240506329113924,
            0.240506329113924,
            0.0444444444444444,
            0.0444444444444444,
            0.0444444444444444
           ],
           "yaxis": "y"
          },
          {
           "customdata": [
            [
             "Chad",
             2021
            ],
            [
             "Chad",
             2021
            ],
            [
             "Chad",
             2021
            ],
            [
             "Chad",
             2021
            ],
            [
             "Chad",
             2021
            ],
            [
             "Chad",
             2021
            ],
            [
             "Chad",
             2021
            ],
            [
             "Ethiopia",
             2021
            ],
            [
             "Ethiopia",
             2021
            ],
            [
             "Ethiopia",
             2021
            ],
            [
             "Ethiopia",
             2021
            ],
            [
             "Ethiopia",
             2021
            ],
            [
             "Uganda",
             2021
            ],
            [
             "Uganda",
             2021
            ],
            [
             "Uganda",
             2021
            ],
            [
             "Uganda",
             2021
            ],
            [
             "Uganda",
             2021
            ],
            [
             "Uganda",
             2021
            ],
            [
             "Uganda",
             2021
            ],
            [
             "Uganda",
             2021
            ],
            [
             "Uganda",
             2021
            ],
            [
             "Uganda",
             2021
            ],
            [
             "Uganda",
             2021
            ],
            [
             "Zambia",
             2021
            ],
            [
             "Zambia",
             2021
            ],
            [
             "Zambia",
             2021
            ],
            [
             "Zambia",
             2021
            ],
            [
             "Zambia",
             2021
            ]
           ],
           "hovertemplate": "region=Sub-Saharan Africa<br>year=%{customdata[1]}<br>democracy_index_score=%{x}<br>percent_W=%{marker.size}<br>country=%{customdata[0]}<extra></extra>",
           "legendgroup": "Sub-Saharan Africa",
           "marker": {
            "color": "rgb(225, 124, 5)",
            "size": [
             0.3225806451612903,
             0.3118279569892473,
             0.3118279569892473,
             0.3225806451612903,
             0.3118279569892473,
             0.3118279569892473,
             0.3118279569892473,
             0.4258823529411765,
             0.4148936170212766,
             0.4258823529411765,
             0.4258823529411765,
             0.4148936170212766,
             0.3381294964028777,
             0.3381294964028777,
             0.3381294964028777,
             0.328922495274102,
             0.328922495274102,
             0.328922495274102,
             0.3381294964028777,
             0.3381294964028777,
             0.328922495274102,
             0.328922495274102,
             0.328922495274102,
             0.1506024096385542,
             0.1506024096385542,
             0.1506024096385542,
             0.1506024096385542,
             0.1290322580645161
            ],
            "sizemode": "area",
            "sizeref": 0.00153125,
            "symbol": "circle"
           },
           "mode": "markers",
           "name": "Sub-Saharan Africa",
           "orientation": "v",
           "showlegend": true,
           "type": "scatter",
           "x": [
            1.67,
            1.67,
            1.67,
            1.67,
            1.67,
            1.67,
            1.67,
            3.3,
            3.3,
            3.3,
            3.3,
            3.3,
            4.48,
            4.48,
            4.48,
            4.48,
            4.48,
            4.48,
            4.48,
            4.48,
            4.48,
            4.48,
            4.48,
            5.72,
            5.72,
            5.72,
            5.72,
            5.72
           ],
           "xaxis": "x",
           "y": [
            0.3225806451612903,
            0.3118279569892473,
            0.3118279569892473,
            0.3225806451612903,
            0.3118279569892473,
            0.3118279569892473,
            0.3118279569892473,
            0.4258823529411765,
            0.4148936170212766,
            0.4258823529411765,
            0.4258823529411765,
            0.4148936170212766,
            0.3381294964028777,
            0.3381294964028777,
            0.3381294964028777,
            0.328922495274102,
            0.328922495274102,
            0.328922495274102,
            0.3381294964028777,
            0.3381294964028777,
            0.328922495274102,
            0.328922495274102,
            0.328922495274102,
            0.1506024096385542,
            0.1506024096385542,
            0.1506024096385542,
            0.1506024096385542,
            0.1290322580645161
           ],
           "yaxis": "y"
          }
         ],
         "name": "2021"
        },
        {
         "data": [
          {
           "customdata": [
            [
             "France",
             2022
            ],
            [
             "France",
             2022
            ],
            [
             "Italy",
             2022
            ],
            [
             "Malta",
             2022
            ],
            [
             "Portugal",
             2022
            ],
            [
             "Portugal",
             2022
            ],
            [
             "Portugal",
             2022
            ],
            [
             "Portugal",
             2022
            ],
            [
             "Sweden",
             2022
            ],
            [
             "Sweden",
             2022
            ]
           ],
           "hovertemplate": "region=Western Europe<br>year=%{customdata[1]}<br>democracy_index_score=%{x}<br>percent_W=%{marker.size}<br>country=%{customdata[0]}<extra></extra>",
           "legendgroup": "Western Europe",
           "marker": {
            "color": "rgb(29, 105, 150)",
            "size": [
             0.3726169844020797,
             0.3726169844020797,
             0.3225,
             0.2784810126582278,
             0.3695652173913043,
             0.3695652173913043,
             0.3684210526315789,
             0.3695652173913043,
             0.4613180515759312,
             0.4641833810888252
            ],
            "sizemode": "area",
            "sizeref": 0.00153125,
            "symbol": "circle"
           },
           "mode": "markers",
           "name": "Western Europe",
           "orientation": "v",
           "showlegend": true,
           "type": "scatter",
           "x": [
            8.07,
            8.07,
            7.69,
            7.7,
            7.95,
            7.95,
            7.95,
            7.95,
            9.39,
            9.39
           ],
           "xaxis": "x",
           "y": [
            0.3726169844020797,
            0.3726169844020797,
            0.3225,
            0.2784810126582278,
            0.3695652173913043,
            0.3695652173913043,
            0.3684210526315789,
            0.3695652173913043,
            0.4613180515759312,
            0.4641833810888252
           ],
           "yaxis": "y"
          },
          {
           "customdata": [
            [
             "Bosnia and Herzegovina",
             2022
            ],
            [
             "Bulgaria",
             2022
            ],
            [
             "Hungary",
             2022
            ],
            [
             "Hungary",
             2022
            ],
            [
             "Latvia",
             2022
            ],
            [
             "Serbia",
             2022
            ],
            [
             "Serbia",
             2022
            ],
            [
             "Serbia",
             2022
            ],
            [
             "Serbia",
             2022
            ],
            [
             "Slovenia",
             2022
            ]
           ],
           "hovertemplate": "region=Central and Eastern Europe<br>year=%{customdata[1]}<br>democracy_index_score=%{x}<br>percent_W=%{marker.size}<br>country=%{customdata[0]}<extra></extra>",
           "legendgroup": "Central and Eastern Europe",
           "marker": {
            "color": "rgb(56, 166, 165)",
            "size": [
             0.1666666666666666,
             0.2416666666666666,
             0.1407035175879397,
             0.1407035175879397,
             0.3,
             0.3855421686746988,
             0.3655462184873949,
             0.388,
             0.388,
             0.4
            ],
            "sizemode": "area",
            "sizeref": 0.00153125,
            "symbol": "circle"
           },
           "mode": "markers",
           "name": "Central and Eastern Europe",
           "orientation": "v",
           "showlegend": true,
           "type": "scatter",
           "x": [
            5,
            6.53,
            6.64,
            6.64,
            7.37,
            6.33,
            6.33,
            6.33,
            6.33,
            7.75
           ],
           "xaxis": "x",
           "y": [
            0.1666666666666666,
            0.2416666666666666,
            0.1407035175879397,
            0.1407035175879397,
            0.3,
            0.3855421686746988,
            0.3655462184873949,
            0.388,
            0.388,
            0.4
           ],
           "yaxis": "y"
          },
          {
           "customdata": [
            [
             "Brazil",
             2022
            ],
            [
             "Colombia",
             2022
            ],
            [
             "Colombia",
             2022
            ],
            [
             "Colombia",
             2022
            ],
            [
             "Costa Rica",
             2022
            ]
           ],
           "hovertemplate": "region=Latin America and the Caribbean<br>year=%{customdata[1]}<br>democracy_index_score=%{x}<br>percent_W=%{marker.size}<br>country=%{customdata[0]}<extra></extra>",
           "legendgroup": "Latin America and the Caribbean",
           "marker": {
            "color": "rgb(15, 133, 84)",
            "size": [
             0.1773879142300194,
             0.2887700534759358,
             0.2887700534759358,
             0.2887700534759358,
             0.4736842105263157
            ],
            "sizemode": "area",
            "sizeref": 0.00153125,
            "symbol": "circle"
           },
           "mode": "markers",
           "name": "Latin America and the Caribbean",
           "orientation": "v",
           "showlegend": true,
           "type": "scatter",
           "x": [
            6.78,
            6.72,
            6.72,
            6.72,
            8.29
           ],
           "xaxis": "x",
           "y": [
            0.1773879142300194,
            0.2887700534759358,
            0.2887700534759358,
            0.2887700534759358,
            0.4736842105263157
           ],
           "yaxis": "y"
          },
          {
           "customdata": [
            [
             "Australia",
             2022
            ],
            [
             "Australia",
             2022
            ],
            [
             "Australia",
             2022
            ],
            [
             "Papua New Guinea",
             2022
            ],
            [
             "Papua New Guinea",
             2022
            ],
            [
             "Papua New Guinea",
             2022
            ],
            [
             "Philippines",
             2022
            ],
            [
             "Philippines",
             2022
            ]
           ],
           "hovertemplate": "region=Asia and Australasia<br>year=%{customdata[1]}<br>democracy_index_score=%{x}<br>percent_W=%{marker.size}<br>country=%{customdata[0]}<extra></extra>",
           "legendgroup": "Asia and Australasia",
           "marker": {
            "color": "rgb(115, 175, 72)",
            "size": [
             0.3841059602649007,
             0.3841059602649007,
             0.3841059602649007,
             0.017391304347826,
             0.017391304347826,
             0.0181818181818181,
             0.2733118971061093,
             0.2796052631578947
            ],
            "sizemode": "area",
            "sizeref": 0.00153125,
            "symbol": "circle"
           },
           "mode": "markers",
           "name": "Asia and Australasia",
           "orientation": "v",
           "showlegend": true,
           "type": "scatter",
           "x": [
            8.71,
            8.71,
            8.71,
            5.97,
            5.97,
            5.97,
            6.73,
            6.73
           ],
           "xaxis": "x",
           "y": [
            0.3841059602649007,
            0.3841059602649007,
            0.3841059602649007,
            0.017391304347826,
            0.017391304347826,
            0.0181818181818181,
            0.2733118971061093,
            0.2796052631578947
           ],
           "yaxis": "y"
          },
          {
           "customdata": [
            [
             "Kuwait",
             2022
            ],
            [
             "Kuwait",
             2022
            ],
            [
             "Lebanon",
             2022
            ],
            [
             "Lebanon",
             2022
            ]
           ],
           "hovertemplate": "region=Middle East and North Africa<br>year=%{customdata[1]}<br>democracy_index_score=%{x}<br>percent_W=%{marker.size}<br>country=%{customdata[0]}<extra></extra>",
           "legendgroup": "Middle East and North Africa",
           "marker": {
            "color": "rgb(237, 173, 8)",
            "size": [
             0.04,
             0.0625,
             0.0625,
             0.0625
            ],
            "sizemode": "area",
            "sizeref": 0.00153125,
            "symbol": "circle"
           },
           "mode": "markers",
           "name": "Middle East and North Africa",
           "orientation": "v",
           "showlegend": true,
           "type": "scatter",
           "x": [
            3.83,
            3.83,
            3.64,
            3.64
           ],
           "xaxis": "x",
           "y": [
            0.04,
            0.0625,
            0.0625,
            0.0625
           ],
           "yaxis": "y"
          },
          {
           "customdata": [
            [
             "Angola",
             2022
            ],
            [
             "Angola",
             2022
            ],
            [
             "Burkina Faso",
             2022
            ],
            [
             "Burkina Faso",
             2022
            ],
            [
             "Burkina Faso",
             2022
            ],
            [
             "Burkina Faso",
             2022
            ],
            [
             "Guinea",
             2022
            ],
            [
             "Guinea",
             2022
            ],
            [
             "Guinea",
             2022
            ],
            [
             "Kenya",
             2022
            ],
            [
             "Kenya",
             2022
            ],
            [
             "Kenya",
             2022
            ],
            [
             "Lesotho",
             2022
            ],
            [
             "Senegal",
             2022
            ]
           ],
           "hovertemplate": "region=Sub-Saharan Africa<br>year=%{customdata[1]}<br>democracy_index_score=%{x}<br>percent_W=%{marker.size}<br>country=%{customdata[0]}<extra></extra>",
           "legendgroup": "Sub-Saharan Africa",
           "marker": {
            "color": "rgb(225, 124, 5)",
            "size": [
             0.3363636363636363,
             0.3363636363636363,
             0.1971830985915492,
             0.1971830985915492,
             0.1971830985915492,
             0.1971830985915492,
             0.2962962962962963,
             0.2962962962962963,
             0.2962962962962963,
             0.2342857142857143,
             0.2342857142857143,
             0.2342857142857143,
             0.2644628099173554,
             0.4424242424242424
            ],
            "sizemode": "area",
            "sizeref": 0.00153125,
            "symbol": "circle"
           },
           "mode": "markers",
           "name": "Sub-Saharan Africa",
           "orientation": "v",
           "showlegend": true,
           "type": "scatter",
           "x": [
            3.96,
            3.96,
            3.08,
            3.08,
            3.08,
            3.08,
            2.32,
            2.32,
            2.32,
            5.05,
            5.05,
            5.05,
            6.19,
            5.72
           ],
           "xaxis": "x",
           "y": [
            0.3363636363636363,
            0.3363636363636363,
            0.1971830985915492,
            0.1971830985915492,
            0.1971830985915492,
            0.1971830985915492,
            0.2962962962962963,
            0.2962962962962963,
            0.2962962962962963,
            0.2342857142857143,
            0.2342857142857143,
            0.2342857142857143,
            0.2644628099173554,
            0.4424242424242424
           ],
           "yaxis": "y"
          }
         ],
         "name": "2022"
        }
       ],
       "layout": {
        "height": 800,
        "legend": {
         "itemsizing": "constant",
         "title": {
          "text": "region"
         },
         "tracegroupgap": 0
        },
        "sliders": [
         {
          "active": 0,
          "currentvalue": {
           "prefix": "year="
          },
          "len": 0.9,
          "pad": {
           "b": 10,
           "t": 60
          },
          "steps": [
           {
            "args": [
             [
              "2006"
             ],
             {
              "frame": {
               "duration": 0,
               "redraw": false
              },
              "fromcurrent": true,
              "mode": "immediate",
              "transition": {
               "duration": 0,
               "easing": "linear"
              }
             }
            ],
            "label": "2006",
            "method": "animate"
           },
           {
            "args": [
             [
              "2008"
             ],
             {
              "frame": {
               "duration": 0,
               "redraw": false
              },
              "fromcurrent": true,
              "mode": "immediate",
              "transition": {
               "duration": 0,
               "easing": "linear"
              }
             }
            ],
            "label": "2008",
            "method": "animate"
           },
           {
            "args": [
             [
              "2011"
             ],
             {
              "frame": {
               "duration": 0,
               "redraw": false
              },
              "fromcurrent": true,
              "mode": "immediate",
              "transition": {
               "duration": 0,
               "easing": "linear"
              }
             }
            ],
            "label": "2011",
            "method": "animate"
           },
           {
            "args": [
             [
              "2013"
             ],
             {
              "frame": {
               "duration": 0,
               "redraw": false
              },
              "fromcurrent": true,
              "mode": "immediate",
              "transition": {
               "duration": 0,
               "easing": "linear"
              }
             }
            ],
            "label": "2013",
            "method": "animate"
           },
           {
            "args": [
             [
              "2014"
             ],
             {
              "frame": {
               "duration": 0,
               "redraw": false
              },
              "fromcurrent": true,
              "mode": "immediate",
              "transition": {
               "duration": 0,
               "easing": "linear"
              }
             }
            ],
            "label": "2014",
            "method": "animate"
           },
           {
            "args": [
             [
              "2015"
             ],
             {
              "frame": {
               "duration": 0,
               "redraw": false
              },
              "fromcurrent": true,
              "mode": "immediate",
              "transition": {
               "duration": 0,
               "easing": "linear"
              }
             }
            ],
            "label": "2015",
            "method": "animate"
           },
           {
            "args": [
             [
              "2016"
             ],
             {
              "frame": {
               "duration": 0,
               "redraw": false
              },
              "fromcurrent": true,
              "mode": "immediate",
              "transition": {
               "duration": 0,
               "easing": "linear"
              }
             }
            ],
            "label": "2016",
            "method": "animate"
           },
           {
            "args": [
             [
              "2017"
             ],
             {
              "frame": {
               "duration": 0,
               "redraw": false
              },
              "fromcurrent": true,
              "mode": "immediate",
              "transition": {
               "duration": 0,
               "easing": "linear"
              }
             }
            ],
            "label": "2017",
            "method": "animate"
           },
           {
            "args": [
             [
              "2018"
             ],
             {
              "frame": {
               "duration": 0,
               "redraw": false
              },
              "fromcurrent": true,
              "mode": "immediate",
              "transition": {
               "duration": 0,
               "easing": "linear"
              }
             }
            ],
            "label": "2018",
            "method": "animate"
           },
           {
            "args": [
             [
              "2019"
             ],
             {
              "frame": {
               "duration": 0,
               "redraw": false
              },
              "fromcurrent": true,
              "mode": "immediate",
              "transition": {
               "duration": 0,
               "easing": "linear"
              }
             }
            ],
            "label": "2019",
            "method": "animate"
           },
           {
            "args": [
             [
              "2020"
             ],
             {
              "frame": {
               "duration": 0,
               "redraw": false
              },
              "fromcurrent": true,
              "mode": "immediate",
              "transition": {
               "duration": 0,
               "easing": "linear"
              }
             }
            ],
            "label": "2020",
            "method": "animate"
           },
           {
            "args": [
             [
              "2021"
             ],
             {
              "frame": {
               "duration": 0,
               "redraw": false
              },
              "fromcurrent": true,
              "mode": "immediate",
              "transition": {
               "duration": 0,
               "easing": "linear"
              }
             }
            ],
            "label": "2021",
            "method": "animate"
           },
           {
            "args": [
             [
              "2022"
             ],
             {
              "frame": {
               "duration": 0,
               "redraw": false
              },
              "fromcurrent": true,
              "mode": "immediate",
              "transition": {
               "duration": 0,
               "easing": "linear"
              }
             }
            ],
            "label": "2022",
            "method": "animate"
           }
          ],
          "x": 0.1,
          "xanchor": "left",
          "y": 0,
          "yanchor": "top"
         }
        ],
        "template": {
         "data": {
          "bar": [
           {
            "error_x": {
             "color": "#2a3f5f"
            },
            "error_y": {
             "color": "#2a3f5f"
            },
            "marker": {
             "line": {
              "color": "white",
              "width": 0.5
             },
             "pattern": {
              "fillmode": "overlay",
              "size": 10,
              "solidity": 0.2
             }
            },
            "type": "bar"
           }
          ],
          "barpolar": [
           {
            "marker": {
             "line": {
              "color": "white",
              "width": 0.5
             },
             "pattern": {
              "fillmode": "overlay",
              "size": 10,
              "solidity": 0.2
             }
            },
            "type": "barpolar"
           }
          ],
          "carpet": [
           {
            "aaxis": {
             "endlinecolor": "#2a3f5f",
             "gridcolor": "#C8D4E3",
             "linecolor": "#C8D4E3",
             "minorgridcolor": "#C8D4E3",
             "startlinecolor": "#2a3f5f"
            },
            "baxis": {
             "endlinecolor": "#2a3f5f",
             "gridcolor": "#C8D4E3",
             "linecolor": "#C8D4E3",
             "minorgridcolor": "#C8D4E3",
             "startlinecolor": "#2a3f5f"
            },
            "type": "carpet"
           }
          ],
          "choropleth": [
           {
            "colorbar": {
             "outlinewidth": 0,
             "ticks": ""
            },
            "type": "choropleth"
           }
          ],
          "contour": [
           {
            "colorbar": {
             "outlinewidth": 0,
             "ticks": ""
            },
            "colorscale": [
             [
              0,
              "#0d0887"
             ],
             [
              0.1111111111111111,
              "#46039f"
             ],
             [
              0.2222222222222222,
              "#7201a8"
             ],
             [
              0.3333333333333333,
              "#9c179e"
             ],
             [
              0.4444444444444444,
              "#bd3786"
             ],
             [
              0.5555555555555556,
              "#d8576b"
             ],
             [
              0.6666666666666666,
              "#ed7953"
             ],
             [
              0.7777777777777778,
              "#fb9f3a"
             ],
             [
              0.8888888888888888,
              "#fdca26"
             ],
             [
              1,
              "#f0f921"
             ]
            ],
            "type": "contour"
           }
          ],
          "contourcarpet": [
           {
            "colorbar": {
             "outlinewidth": 0,
             "ticks": ""
            },
            "type": "contourcarpet"
           }
          ],
          "heatmap": [
           {
            "colorbar": {
             "outlinewidth": 0,
             "ticks": ""
            },
            "colorscale": [
             [
              0,
              "#0d0887"
             ],
             [
              0.1111111111111111,
              "#46039f"
             ],
             [
              0.2222222222222222,
              "#7201a8"
             ],
             [
              0.3333333333333333,
              "#9c179e"
             ],
             [
              0.4444444444444444,
              "#bd3786"
             ],
             [
              0.5555555555555556,
              "#d8576b"
             ],
             [
              0.6666666666666666,
              "#ed7953"
             ],
             [
              0.7777777777777778,
              "#fb9f3a"
             ],
             [
              0.8888888888888888,
              "#fdca26"
             ],
             [
              1,
              "#f0f921"
             ]
            ],
            "type": "heatmap"
           }
          ],
          "heatmapgl": [
           {
            "colorbar": {
             "outlinewidth": 0,
             "ticks": ""
            },
            "colorscale": [
             [
              0,
              "#0d0887"
             ],
             [
              0.1111111111111111,
              "#46039f"
             ],
             [
              0.2222222222222222,
              "#7201a8"
             ],
             [
              0.3333333333333333,
              "#9c179e"
             ],
             [
              0.4444444444444444,
              "#bd3786"
             ],
             [
              0.5555555555555556,
              "#d8576b"
             ],
             [
              0.6666666666666666,
              "#ed7953"
             ],
             [
              0.7777777777777778,
              "#fb9f3a"
             ],
             [
              0.8888888888888888,
              "#fdca26"
             ],
             [
              1,
              "#f0f921"
             ]
            ],
            "type": "heatmapgl"
           }
          ],
          "histogram": [
           {
            "marker": {
             "pattern": {
              "fillmode": "overlay",
              "size": 10,
              "solidity": 0.2
             }
            },
            "type": "histogram"
           }
          ],
          "histogram2d": [
           {
            "colorbar": {
             "outlinewidth": 0,
             "ticks": ""
            },
            "colorscale": [
             [
              0,
              "#0d0887"
             ],
             [
              0.1111111111111111,
              "#46039f"
             ],
             [
              0.2222222222222222,
              "#7201a8"
             ],
             [
              0.3333333333333333,
              "#9c179e"
             ],
             [
              0.4444444444444444,
              "#bd3786"
             ],
             [
              0.5555555555555556,
              "#d8576b"
             ],
             [
              0.6666666666666666,
              "#ed7953"
             ],
             [
              0.7777777777777778,
              "#fb9f3a"
             ],
             [
              0.8888888888888888,
              "#fdca26"
             ],
             [
              1,
              "#f0f921"
             ]
            ],
            "type": "histogram2d"
           }
          ],
          "histogram2dcontour": [
           {
            "colorbar": {
             "outlinewidth": 0,
             "ticks": ""
            },
            "colorscale": [
             [
              0,
              "#0d0887"
             ],
             [
              0.1111111111111111,
              "#46039f"
             ],
             [
              0.2222222222222222,
              "#7201a8"
             ],
             [
              0.3333333333333333,
              "#9c179e"
             ],
             [
              0.4444444444444444,
              "#bd3786"
             ],
             [
              0.5555555555555556,
              "#d8576b"
             ],
             [
              0.6666666666666666,
              "#ed7953"
             ],
             [
              0.7777777777777778,
              "#fb9f3a"
             ],
             [
              0.8888888888888888,
              "#fdca26"
             ],
             [
              1,
              "#f0f921"
             ]
            ],
            "type": "histogram2dcontour"
           }
          ],
          "mesh3d": [
           {
            "colorbar": {
             "outlinewidth": 0,
             "ticks": ""
            },
            "type": "mesh3d"
           }
          ],
          "parcoords": [
           {
            "line": {
             "colorbar": {
              "outlinewidth": 0,
              "ticks": ""
             }
            },
            "type": "parcoords"
           }
          ],
          "pie": [
           {
            "automargin": true,
            "type": "pie"
           }
          ],
          "scatter": [
           {
            "fillpattern": {
             "fillmode": "overlay",
             "size": 10,
             "solidity": 0.2
            },
            "type": "scatter"
           }
          ],
          "scatter3d": [
           {
            "line": {
             "colorbar": {
              "outlinewidth": 0,
              "ticks": ""
             }
            },
            "marker": {
             "colorbar": {
              "outlinewidth": 0,
              "ticks": ""
             }
            },
            "type": "scatter3d"
           }
          ],
          "scattercarpet": [
           {
            "marker": {
             "colorbar": {
              "outlinewidth": 0,
              "ticks": ""
             }
            },
            "type": "scattercarpet"
           }
          ],
          "scattergeo": [
           {
            "marker": {
             "colorbar": {
              "outlinewidth": 0,
              "ticks": ""
             }
            },
            "type": "scattergeo"
           }
          ],
          "scattergl": [
           {
            "marker": {
             "colorbar": {
              "outlinewidth": 0,
              "ticks": ""
             }
            },
            "type": "scattergl"
           }
          ],
          "scattermapbox": [
           {
            "marker": {
             "colorbar": {
              "outlinewidth": 0,
              "ticks": ""
             }
            },
            "type": "scattermapbox"
           }
          ],
          "scatterpolar": [
           {
            "marker": {
             "colorbar": {
              "outlinewidth": 0,
              "ticks": ""
             }
            },
            "type": "scatterpolar"
           }
          ],
          "scatterpolargl": [
           {
            "marker": {
             "colorbar": {
              "outlinewidth": 0,
              "ticks": ""
             }
            },
            "type": "scatterpolargl"
           }
          ],
          "scatterternary": [
           {
            "marker": {
             "colorbar": {
              "outlinewidth": 0,
              "ticks": ""
             }
            },
            "type": "scatterternary"
           }
          ],
          "surface": [
           {
            "colorbar": {
             "outlinewidth": 0,
             "ticks": ""
            },
            "colorscale": [
             [
              0,
              "#0d0887"
             ],
             [
              0.1111111111111111,
              "#46039f"
             ],
             [
              0.2222222222222222,
              "#7201a8"
             ],
             [
              0.3333333333333333,
              "#9c179e"
             ],
             [
              0.4444444444444444,
              "#bd3786"
             ],
             [
              0.5555555555555556,
              "#d8576b"
             ],
             [
              0.6666666666666666,
              "#ed7953"
             ],
             [
              0.7777777777777778,
              "#fb9f3a"
             ],
             [
              0.8888888888888888,
              "#fdca26"
             ],
             [
              1,
              "#f0f921"
             ]
            ],
            "type": "surface"
           }
          ],
          "table": [
           {
            "cells": {
             "fill": {
              "color": "#EBF0F8"
             },
             "line": {
              "color": "white"
             }
            },
            "header": {
             "fill": {
              "color": "#C8D4E3"
             },
             "line": {
              "color": "white"
             }
            },
            "type": "table"
           }
          ]
         },
         "layout": {
          "annotationdefaults": {
           "arrowcolor": "#2a3f5f",
           "arrowhead": 0,
           "arrowwidth": 1
          },
          "autotypenumbers": "strict",
          "coloraxis": {
           "colorbar": {
            "outlinewidth": 0,
            "ticks": ""
           }
          },
          "colorscale": {
           "diverging": [
            [
             0,
             "#8e0152"
            ],
            [
             0.1,
             "#c51b7d"
            ],
            [
             0.2,
             "#de77ae"
            ],
            [
             0.3,
             "#f1b6da"
            ],
            [
             0.4,
             "#fde0ef"
            ],
            [
             0.5,
             "#f7f7f7"
            ],
            [
             0.6,
             "#e6f5d0"
            ],
            [
             0.7,
             "#b8e186"
            ],
            [
             0.8,
             "#7fbc41"
            ],
            [
             0.9,
             "#4d9221"
            ],
            [
             1,
             "#276419"
            ]
           ],
           "sequential": [
            [
             0,
             "#0d0887"
            ],
            [
             0.1111111111111111,
             "#46039f"
            ],
            [
             0.2222222222222222,
             "#7201a8"
            ],
            [
             0.3333333333333333,
             "#9c179e"
            ],
            [
             0.4444444444444444,
             "#bd3786"
            ],
            [
             0.5555555555555556,
             "#d8576b"
            ],
            [
             0.6666666666666666,
             "#ed7953"
            ],
            [
             0.7777777777777778,
             "#fb9f3a"
            ],
            [
             0.8888888888888888,
             "#fdca26"
            ],
            [
             1,
             "#f0f921"
            ]
           ],
           "sequentialminus": [
            [
             0,
             "#0d0887"
            ],
            [
             0.1111111111111111,
             "#46039f"
            ],
            [
             0.2222222222222222,
             "#7201a8"
            ],
            [
             0.3333333333333333,
             "#9c179e"
            ],
            [
             0.4444444444444444,
             "#bd3786"
            ],
            [
             0.5555555555555556,
             "#d8576b"
            ],
            [
             0.6666666666666666,
             "#ed7953"
            ],
            [
             0.7777777777777778,
             "#fb9f3a"
            ],
            [
             0.8888888888888888,
             "#fdca26"
            ],
            [
             1,
             "#f0f921"
            ]
           ]
          },
          "colorway": [
           "#636efa",
           "#EF553B",
           "#00cc96",
           "#ab63fa",
           "#FFA15A",
           "#19d3f3",
           "#FF6692",
           "#B6E880",
           "#FF97FF",
           "#FECB52"
          ],
          "font": {
           "color": "#2a3f5f"
          },
          "geo": {
           "bgcolor": "white",
           "lakecolor": "white",
           "landcolor": "white",
           "showlakes": true,
           "showland": true,
           "subunitcolor": "#C8D4E3"
          },
          "hoverlabel": {
           "align": "left"
          },
          "hovermode": "closest",
          "mapbox": {
           "style": "light"
          },
          "paper_bgcolor": "white",
          "plot_bgcolor": "white",
          "polar": {
           "angularaxis": {
            "gridcolor": "#EBF0F8",
            "linecolor": "#EBF0F8",
            "ticks": ""
           },
           "bgcolor": "white",
           "radialaxis": {
            "gridcolor": "#EBF0F8",
            "linecolor": "#EBF0F8",
            "ticks": ""
           }
          },
          "scene": {
           "xaxis": {
            "backgroundcolor": "white",
            "gridcolor": "#DFE8F3",
            "gridwidth": 2,
            "linecolor": "#EBF0F8",
            "showbackground": true,
            "ticks": "",
            "zerolinecolor": "#EBF0F8"
           },
           "yaxis": {
            "backgroundcolor": "white",
            "gridcolor": "#DFE8F3",
            "gridwidth": 2,
            "linecolor": "#EBF0F8",
            "showbackground": true,
            "ticks": "",
            "zerolinecolor": "#EBF0F8"
           },
           "zaxis": {
            "backgroundcolor": "white",
            "gridcolor": "#DFE8F3",
            "gridwidth": 2,
            "linecolor": "#EBF0F8",
            "showbackground": true,
            "ticks": "",
            "zerolinecolor": "#EBF0F8"
           }
          },
          "shapedefaults": {
           "line": {
            "color": "#2a3f5f"
           }
          },
          "ternary": {
           "aaxis": {
            "gridcolor": "#DFE8F3",
            "linecolor": "#A2B1C6",
            "ticks": ""
           },
           "baxis": {
            "gridcolor": "#DFE8F3",
            "linecolor": "#A2B1C6",
            "ticks": ""
           },
           "bgcolor": "white",
           "caxis": {
            "gridcolor": "#DFE8F3",
            "linecolor": "#A2B1C6",
            "ticks": ""
           }
          },
          "title": {
           "x": 0.05
          },
          "xaxis": {
           "automargin": true,
           "gridcolor": "#EBF0F8",
           "linecolor": "#EBF0F8",
           "ticks": "",
           "title": {
            "standoff": 15
           },
           "zerolinecolor": "#EBF0F8",
           "zerolinewidth": 2
          },
          "yaxis": {
           "automargin": true,
           "gridcolor": "#EBF0F8",
           "linecolor": "#EBF0F8",
           "ticks": "",
           "title": {
            "standoff": 15
           },
           "zerolinecolor": "#EBF0F8",
           "zerolinewidth": 2
          }
         }
        },
        "title": {
         "text": "Democracy Index vs Percent Women in Parliment across time"
        },
        "updatemenus": [
         {
          "buttons": [
           {
            "args": [
             null,
             {
              "frame": {
               "duration": 500,
               "redraw": false
              },
              "fromcurrent": true,
              "mode": "immediate",
              "transition": {
               "duration": 500,
               "easing": "linear"
              }
             }
            ],
            "label": "&#9654;",
            "method": "animate"
           },
           {
            "args": [
             [
              null
             ],
             {
              "frame": {
               "duration": 0,
               "redraw": false
              },
              "fromcurrent": true,
              "mode": "immediate",
              "transition": {
               "duration": 0,
               "easing": "linear"
              }
             }
            ],
            "label": "&#9724;",
            "method": "animate"
           }
          ],
          "direction": "left",
          "pad": {
           "r": 10,
           "t": 70
          },
          "showactive": false,
          "type": "buttons",
          "x": 0.1,
          "xanchor": "right",
          "y": 0,
          "yanchor": "top"
         }
        ],
        "width": 1200,
        "xaxis": {
         "anchor": "y",
         "domain": [
          0,
          1
         ],
         "title": {
          "text": "Democracy Index Score"
         }
        },
        "yaxis": {
         "anchor": "x",
         "domain": [
          0,
          1
         ],
         "title": {
          "text": "Percent Women in Lower Legislative Branches"
         }
        }
       }
      }
     },
     "metadata": {},
     "output_type": "display_data"
    }
   ],
   "source": [
    "fig = px.scatter(df, \n",
    "            x='democracy_index_score',\n",
    "            y='percent_W',\n",
    "            template='plotly_white',    \n",
    "            hover_data=['country','year'],\n",
    "            color='region',\n",
    "            color_discrete_sequence=px.colors.qualitative.Prism,\n",
    "            animation_frame='year',\n",
    "            title= 'Democracy Index vs Percent Women in Parliment across time',\n",
    "            size='percent_W',\n",
    "            width=1200,\n",
    "            height=800\n",
    "        )\n",
    "\n",
    "fig.update_xaxes(title_text='Democracy Index Score')\n",
    "fig.update_yaxes(title_text='Percent Women in Lower Legislative Branches')\n",
    "\n",
    "fig.show()"
   ]
  },
  {
   "cell_type": "code",
   "execution_count": null,
   "metadata": {},
   "outputs": [],
   "source": []
  },
  {
   "cell_type": "code",
   "execution_count": 2,
   "metadata": {},
   "outputs": [],
   "source": [
    "country_codes = pd.read_html('https://www.iban.com/country-codes')"
   ]
  },
  {
   "cell_type": "code",
   "execution_count": 5,
   "metadata": {},
   "outputs": [],
   "source": [
    "# helper function to get  each women's time mandate_end as a column\n",
    "#def get_last_year_in_office(df):\n",
    "#    functions = {'hrllo': (' (assassinated)','',regex=False), \n",
    "#                    'test': ('Incumbent',np.NaNm),\n",
    "#                     fillna: df['Mandate start']}\n"
   ]
  },
  {
   "cell_type": "code",
   "execution_count": 6,
   "metadata": {},
   "outputs": [],
   "source": [
    "# read in female heads of state dataset\n",
    "df = pd.read_csv('data/female_heads_of_state.csv')\n",
    "countries = pd.read_csv('data/list_of_countries.csv')"
   ]
  },
  {
   "cell_type": "code",
   "execution_count": 7,
   "metadata": {},
   "outputs": [],
   "source": [
    "# add in the Alpha-3 code\n",
    "df = df.merge(countries[['Country','Alpha-3 code']],on='Country')\n",
    "\n",
    "# add colunms that have the start and end years of their terms\n",
    "df['start_year'] = df['Mandate start'].apply(lambda x: f'19{x[-2:]}' if int(x[-2:]) > 39 else f'20{x[-2:]}')\n",
    "df['Mandate end'] = df['Mandate end'].str.replace(' (assassinated)','',regex=False)\n",
    "df['Mandate end'] = df['Mandate end'].replace('Incumbent',np.NaN)\n",
    "df['Mandate end'] = df['Mandate end'].fillna(df['Mandate start'])\n",
    "df['end_year'] = df['Mandate end'].apply(lambda x: f'19{x[-2:]}' if int(x[-2:]) > 39 else f'20{x[-2:]}')"
   ]
  },
  {
   "cell_type": "code",
   "execution_count": 8,
   "metadata": {},
   "outputs": [],
   "source": [
    "# make it so that each year of each leader's term is a row\n",
    "df['Year'] = [pd.date_range(x, y,freq='YS',inclusive='both') for x, y in zip(df.start_year, df.end_year)]\n",
    "df = df.explode('Year')\n",
    "df['Year'] = df['Year'].astype(str).apply(lambda x:x[:4])"
   ]
  },
  {
   "cell_type": "code",
   "execution_count": 9,
   "metadata": {},
   "outputs": [],
   "source": [
    "# read in geojson for choropleth \n",
    "with open('data/countries.geojson') as f:\n",
    "    gj = geojson.load(f)\n",
    "\n",
    "# add in the 'id' which allows plotly to associate the cordinates to a teh countries in my dataframe\n",
    "for feature in gj['features']:\n",
    "    feature['id'] = feature['properties']['ISO_A3']"
   ]
  },
  {
   "cell_type": "code",
   "execution_count": 10,
   "metadata": {},
   "outputs": [],
   "source": [
    "# only do three years to save memory b/c choropleth is to large otherwise\n",
    "df_less = df[['Name','Country','Office','Head of state or government','Alpha-3 code','Year']].sort_values('Year')\n",
    "df_less = df_less[df_less['Year'].isin([str(year) for year in range(2020,2023)])]"
   ]
  },
  {
   "cell_type": "markdown",
   "metadata": {},
   "source": [
    "### Choropleth visualzation"
   ]
  },
  {
   "cell_type": "code",
   "execution_count": 11,
   "metadata": {},
   "outputs": [],
   "source": [
    "# without animation (only 2022)\n",
    "#fig = px.choropleth_mapbox(df[[df_less]==2022], geojson=gj, locations='Alpha-3 code', \n",
    "#                    color='Head of state or government', mapbox_style='carto-positron', zoom=1,\n",
    "#                           color_discrete_sequence=px.colors.qualitative.Prism,\n",
    "#                          hover_data=['Name','Country','Office'])\n",
    "\n",
    "#fig.show()"
   ]
  },
  {
   "cell_type": "code",
   "execution_count": 12,
   "metadata": {},
   "outputs": [],
   "source": [
    "# with animation (2020 - 2023)\n",
    "#fig = px.choropleth_mapbox(df_less, geojson=gj, locations='Alpha-3 code', \n",
    "#                    color='Head of state or government', mapbox_style='carto-positron', zoom=1,\n",
    "#                           color_discrete_sequence=px.colors.qualitative.Prism,\n",
    "#                          hover_data=['Name','Country','Office'],animation_frame='Year')\n",
    "\n",
    "#fig.show()"
   ]
  },
  {
   "cell_type": "code",
   "execution_count": null,
   "metadata": {},
   "outputs": [],
   "source": []
  },
  {
   "cell_type": "code",
   "execution_count": 21,
   "metadata": {},
   "outputs": [],
   "source": [
    "import plotly.graph_objects as go"
   ]
  },
  {
   "cell_type": "code",
   "execution_count": 23,
   "metadata": {},
   "outputs": [
    {
     "data": {
      "application/vnd.plotly.v1+json": {
       "config": {
        "plotlyServerURL": "https://plot.ly"
       },
       "data": [
        {
         "customdata": [
          [
           "Canada",
           "2006"
          ],
          [
           "Canada",
           "2006"
          ],
          [
           "Canada",
           "2006"
          ]
         ],
         "hovertemplate": "Region=North America<br>year=%{customdata[1]}<br>democracy_indx_score=%{x}<br>percent_W=%{marker.size}<br>Country=%{customdata[0]}<extra></extra>",
         "legendgroup": "North America",
         "marker": {
          "color": "rgb(95, 70, 144)",
          "size": [
           0.2077922077922078,
           0.2131147540983606,
           0.2077922077922078
          ],
          "sizemode": "area",
          "sizeref": 0.00153125,
          "symbol": "circle"
         },
         "mode": "markers",
         "name": "North America",
         "orientation": "v",
         "showlegend": true,
         "type": "scatter",
         "x": [
          9.07,
          9.07,
          9.07
         ],
         "xaxis": "x7",
         "y": [
          0.2077922077922078,
          0.2131147540983606,
          0.2077922077922078
         ],
         "yaxis": "y7"
        },
        {
         "customdata": [
          [
           "Austria",
           "2006"
          ],
          [
           "Austria",
           "2006"
          ],
          [
           "Cyprus",
           "2006"
          ],
          [
           "Italy",
           "2006"
          ],
          [
           "Italy",
           "2006"
          ],
          [
           "Italy",
           "2006"
          ],
          [
           "Netherlands",
           "2006"
          ],
          [
           "Netherlands",
           "2006"
          ],
          [
           "Netherlands",
           "2006"
          ],
          [
           "Netherlands",
           "2006"
          ],
          [
           "Netherlands",
           "2006"
          ],
          [
           "Netherlands",
           "2006"
          ],
          [
           "Sweden",
           "2006"
          ],
          [
           "Sweden",
           "2006"
          ]
         ],
         "hovertemplate": "Region=Western Europe<br>year=%{customdata[1]}<br>democracy_indx_score=%{x}<br>percent_W=%{marker.size}<br>Country=%{customdata[0]}<extra></extra>",
         "legendgroup": "Western Europe",
         "marker": {
          "color": "rgb(29, 105, 150)",
          "size": [
           0.3224043715846995,
           0.3278688524590163,
           0.1428571428571428,
           0.173015873015873,
           0.173015873015873,
           0,
           0.3666666666666666,
           0.3933333333333333,
           0.3666666666666666,
           0.4133333333333333,
           0.3666666666666666,
           0.3933333333333333,
           0.4727793696275071,
           0.4699140401146132
          ],
          "sizemode": "area",
          "sizeref": 0.00153125,
          "symbol": "circle"
         },
         "mode": "markers",
         "name": "Western Europe",
         "orientation": "v",
         "showlegend": true,
         "type": "scatter",
         "x": [
          8.69,
          8.69,
          7.6,
          7.73,
          7.73,
          7.73,
          9.66,
          9.66,
          9.66,
          9.66,
          9.66,
          9.66,
          9.88,
          9.88
         ],
         "xaxis": "x6",
         "y": [
          0.3224043715846995,
          0.3278688524590163,
          0.1428571428571428,
          0.173015873015873,
          0.173015873015873,
          0,
          0.3666666666666666,
          0.3933333333333333,
          0.3666666666666666,
          0.4133333333333333,
          0.3666666666666666,
          0.3933333333333333,
          0.4727793696275071,
          0.4699140401146132
         ],
         "yaxis": "y6"
        },
        {
         "customdata": [
          [
           "Bosnia and Herzegovina",
           "2006"
          ],
          [
           "Bosnia and Herzegovina",
           "2006"
          ],
          [
           "Bosnia and Herzegovina",
           "2006"
          ],
          [
           "Bosnia and Herzegovina",
           "2006"
          ],
          [
           "Bosnia and Herzegovina",
           "2006"
          ],
          [
           "Czech Republic",
           "2006"
          ],
          [
           "Czech Republic",
           "2006"
          ],
          [
           "Czech Republic",
           "2006"
          ],
          [
           "Czech Republic",
           "2006"
          ],
          [
           "Czech Republic",
           "2006"
          ],
          [
           "Hungary",
           "2006"
          ],
          [
           "Hungary",
           "2006"
          ],
          [
           "Hungary",
           "2006"
          ],
          [
           "Latvia",
           "2006"
          ],
          [
           "Latvia",
           "2006"
          ],
          [
           "Montenegro",
           "2006"
          ],
          [
           "Montenegro",
           "2006"
          ],
          [
           "Slovakia",
           "2006"
          ],
          [
           "Slovakia",
           "2006"
          ],
          [
           "Slovakia",
           "2006"
          ],
          [
           "Ukraine",
           "2006"
          ],
          [
           "Ukraine",
           "2006"
          ],
          [
           "Ukraine",
           "2006"
          ]
         ],
         "hovertemplate": "Region=Central and Eastern Europe<br>year=%{customdata[1]}<br>democracy_indx_score=%{x}<br>percent_W=%{marker.size}<br>Country=%{customdata[0]}<extra></extra>",
         "legendgroup": "Central and Eastern Europe",
         "marker": {
          "color": "rgb(56, 166, 165)",
          "size": [
           0,
           0.1428571428571428,
           0.119047619047619,
           0.1428571428571428,
           0.119047619047619,
           0.155,
           0.155,
           0.155,
           0.155,
           0.155,
           0.1036269430051813,
           0.1113989637305699,
           0,
           0.19,
           0.2,
           0.0864197530864197,
           0.1111111111111111,
           0.2,
           0.1933333333333333,
           0.16,
           0.0866666666666666,
           0,
           0.0711111111111111
          ],
          "sizemode": "area",
          "sizeref": 0.00153125,
          "symbol": "circle"
         },
         "mode": "markers",
         "name": "Central and Eastern Europe",
         "orientation": "v",
         "showlegend": true,
         "type": "scatter",
         "x": [
          5.78,
          5.78,
          5.78,
          5.78,
          5.78,
          8.17,
          8.17,
          8.17,
          8.17,
          8.17,
          7.53,
          7.53,
          7.53,
          7.37,
          7.37,
          6.57,
          6.57,
          7.4,
          7.4,
          7.4,
          6.94,
          6.94,
          6.94
         ],
         "xaxis": "x5",
         "y": [
          0,
          0.1428571428571428,
          0.119047619047619,
          0.1428571428571428,
          0.119047619047619,
          0.155,
          0.155,
          0.155,
          0.155,
          0.155,
          0.1036269430051813,
          0.1113989637305699,
          0,
          0.19,
          0.2,
          0.0864197530864197,
          0.1111111111111111,
          0.2,
          0.1933333333333333,
          0.16,
          0.0866666666666666,
          0,
          0.0711111111111111
         ],
         "yaxis": "y5"
        },
        {
         "customdata": [
          [
           "Brazil",
           "2006"
          ],
          [
           "Brazil",
           "2006"
          ],
          [
           "Brazil",
           "2006"
          ],
          [
           "Brazil",
           "2006"
          ],
          [
           "Colombia",
           "2006"
          ],
          [
           "Colombia",
           "2006"
          ],
          [
           "Colombia",
           "2006"
          ],
          [
           "Costa Rica",
           "2006"
          ],
          [
           "Costa Rica",
           "2006"
          ],
          [
           "Costa Rica",
           "2006"
          ],
          [
           "Dominican Republic",
           "2006"
          ],
          [
           "Dominican Republic",
           "2006"
          ],
          [
           "Dominican Republic",
           "2006"
          ],
          [
           "Ecuador",
           "2006"
          ],
          [
           "Ecuador",
           "2006"
          ],
          [
           "El Salvador",
           "2006"
          ],
          [
           "El Salvador",
           "2006"
          ],
          [
           "Guyana",
           "2006"
          ],
          [
           "Guyana",
           "2006"
          ],
          [
           "Guyana",
           "2006"
          ],
          [
           "Haiti",
           "2006"
          ],
          [
           "Haiti",
           "2006"
          ],
          [
           "Haiti",
           "2006"
          ],
          [
           "Haiti",
           "2006"
          ],
          [
           "Haiti",
           "2006"
          ],
          [
           "Haiti",
           "2006"
          ],
          [
           "Haiti",
           "2006"
          ],
          [
           "Haiti",
           "2006"
          ],
          [
           "Mexico",
           "2006"
          ],
          [
           "Mexico",
           "2006"
          ],
          [
           "Mexico",
           "2006"
          ],
          [
           "Mexico",
           "2006"
          ],
          [
           "Mexico",
           "2006"
          ],
          [
           "Nicaragua",
           "2006"
          ],
          [
           "Nicaragua",
           "2006"
          ],
          [
           "Peru",
           "2006"
          ],
          [
           "Peru",
           "2006"
          ]
         ],
         "hovertemplate": "Region=Latin America and the Caribbean<br>year=%{customdata[1]}<br>democracy_indx_score=%{x}<br>percent_W=%{marker.size}<br>Country=%{customdata[0]}<extra></extra>",
         "legendgroup": "Latin America and the Caribbean",
         "marker": {
          "color": "rgb(15, 133, 84)",
          "size": [
           0,
           0.087719298245614,
           0.0896686159844054,
           0.0896686159844054,
           0,
           0.0843373493975903,
           0.0843373493975903,
           0.3859649122807017,
           0.3684210526315789,
           0.3508771929824561,
           0.196629213483146,
           0,
           0.196629213483146,
           0,
           0.25,
           0.1666666666666666,
           0,
           0.2898550724637681,
           0.3,
           0,
           0.024390243902439,
           0.0408163265306122,
           0.0408163265306122,
           0.0227272727272727,
           0.0204081632653061,
           0,
           0.0202020202020202,
           0.0408163265306122,
           0,
           0.226,
           0.232,
           0,
           0.232,
           0.1847826086956521,
           0.1521739130434782,
           0.2916666666666667,
           0
          ],
          "sizemode": "area",
          "sizeref": 0.00153125,
          "symbol": "circle"
         },
         "mode": "markers",
         "name": "Latin America and the Caribbean",
         "orientation": "v",
         "showlegend": true,
         "type": "scatter",
         "x": [
          7.38,
          7.38,
          7.38,
          7.38,
          6.4,
          6.4,
          6.4,
          8.04,
          8.04,
          8.04,
          6.13,
          6.13,
          6.13,
          5.64,
          5.64,
          6.22,
          6.22,
          6.15,
          6.15,
          6.15,
          4.19,
          4.19,
          4.19,
          4.19,
          4.19,
          4.19,
          4.19,
          4.19,
          6.67,
          6.67,
          6.67,
          6.67,
          6.67,
          5.68,
          5.68,
          6.11,
          6.11
         ],
         "xaxis": "x4",
         "y": [
          0,
          0.087719298245614,
          0.0896686159844054,
          0.0896686159844054,
          0,
          0.0843373493975903,
          0.0843373493975903,
          0.3859649122807017,
          0.3684210526315789,
          0.3508771929824561,
          0.196629213483146,
          0,
          0.196629213483146,
          0,
          0.25,
          0.1666666666666666,
          0,
          0.2898550724637681,
          0.3,
          0,
          0.024390243902439,
          0.0408163265306122,
          0.0408163265306122,
          0.0227272727272727,
          0.0204081632653061,
          0,
          0.0202020202020202,
          0.0408163265306122,
          0,
          0.226,
          0.232,
          0,
          0.232,
          0.1847826086956521,
          0.1521739130434782,
          0.2916666666666667,
          0
         ],
         "yaxis": "y4"
        },
        {
         "customdata": [
          [
           "Bhutan",
           "2006"
          ],
          [
           "Bhutan",
           "2006"
          ],
          [
           "Fiji",
           "2006"
          ],
          [
           "Fiji",
           "2006"
          ],
          [
           "Fiji",
           "2006"
          ],
          [
           "Singapore",
           "2006"
          ],
          [
           "Thailand",
           "2006"
          ],
          [
           "Thailand",
           "2006"
          ],
          [
           "Thailand",
           "2006"
          ],
          [
           "Thailand",
           "2006"
          ]
         ],
         "hovertemplate": "Region=Asia and Australasia<br>year=%{customdata[1]}<br>democracy_indx_score=%{x}<br>percent_W=%{marker.size}<br>Country=%{customdata[0]}<extra></extra>",
         "legendgroup": "Asia and Australasia",
         "marker": {
          "color": "rgb(115, 175, 72)",
          "size": [
           0.0266666666666666,
           0.0266666666666666,
           0.1126760563380281,
           0.1126760563380281,
           0.1126760563380281,
           0.2446808510638297,
           0,
           0.0867768595041322,
           0,
           0
          ],
          "sizemode": "area",
          "sizeref": 0.00153125,
          "symbol": "circle"
         },
         "mode": "markers",
         "name": "Asia and Australasia",
         "orientation": "v",
         "showlegend": true,
         "type": "scatter",
         "x": [
          2.62,
          2.62,
          5.66,
          5.66,
          5.66,
          5.89,
          5.67,
          5.67,
          5.67,
          5.67
         ],
         "xaxis": "x3",
         "y": [
          0.0266666666666666,
          0.0266666666666666,
          0.1126760563380281,
          0.1126760563380281,
          0.1126760563380281,
          0.2446808510638297,
          0,
          0.0867768595041322,
          0,
          0
         ],
         "yaxis": "y3"
        },
        {
         "customdata": [
          [
           "Bahrain",
           "2006"
          ],
          [
           "Bahrain",
           "2006"
          ],
          [
           "Bahrain",
           "2006"
          ],
          [
           "Israel",
           "2006"
          ],
          [
           "Israel",
           "2006"
          ],
          [
           "Kuwait",
           "2006"
          ],
          [
           "Qatar",
           "2006"
          ],
          [
           "United Arab Emirates",
           "2006"
          ],
          [
           "United Arab Emirates",
           "2006"
          ]
         ],
         "hovertemplate": "Region=Middle East and North Africa<br>year=%{customdata[1]}<br>democracy_indx_score=%{x}<br>percent_W=%{marker.size}<br>Country=%{customdata[0]}<extra></extra>",
         "legendgroup": "Middle East and North Africa",
         "marker": {
          "color": "rgb(237, 173, 8)",
          "size": [
           0.025,
           0.0416666666666666,
           0.025,
           0.1416666666666666,
           0.1333333333333333,
           0.0153846153846153,
           0,
           0.225,
           0.05
          ],
          "sizemode": "area",
          "sizeref": 0.00153125,
          "symbol": "circle"
         },
         "mode": "markers",
         "name": "Middle East and North Africa",
         "orientation": "v",
         "showlegend": true,
         "type": "scatter",
         "x": [
          3.53,
          3.53,
          3.53,
          7.28,
          7.28,
          3.09,
          2.78,
          2.42,
          2.42
         ],
         "xaxis": "x2",
         "y": [
          0.025,
          0.0416666666666666,
          0.025,
          0.1416666666666666,
          0.1333333333333333,
          0.0153846153846153,
          0,
          0.225,
          0.05
         ],
         "yaxis": "y2"
        },
        {
         "customdata": [
          [
           "Cape Verde",
           "2006"
          ],
          [
           "Cape Verde",
           "2006"
          ],
          [
           "Democratic Republic of the Congo",
           "2006"
          ],
          [
           "Democratic Republic of the Congo",
           "2006"
          ],
          [
           "Gabon",
           "2006"
          ],
          [
           "Mauritania",
           "2006"
          ],
          [
           "Mauritania",
           "2006"
          ],
          [
           "Mauritania",
           "2006"
          ],
          [
           "Mauritania",
           "2006"
          ],
          [
           "Mauritania",
           "2006"
          ],
          [
           "Mauritania",
           "2006"
          ],
          [
           "Mauritania",
           "2006"
          ],
          [
           "Uganda",
           "2006"
          ],
          [
           "Uganda",
           "2006"
          ],
          [
           "Uganda",
           "2006"
          ],
          [
           "Uganda",
           "2006"
          ],
          [
           "Uganda",
           "2006"
          ],
          [
           "Zambia",
           "2006"
          ],
          [
           "Zambia",
           "2006"
          ],
          [
           "Zambia",
           "2006"
          ]
         ],
         "hovertemplate": "Region=Sub-Saharan Africa<br>year=%{customdata[1]}<br>democracy_indx_score=%{x}<br>percent_W=%{marker.size}<br>Country=%{customdata[0]}<extra></extra>",
         "legendgroup": "Sub-Saharan Africa",
         "marker": {
          "color": "rgb(225, 124, 5)",
          "size": [
           0.1527777777777778,
           0.1805555555555555,
           0.084,
           0.084,
           0.125,
           0.1789473684210526,
           0.2210526315789473,
           0.2093023255813953,
           0.1789473684210526,
           0.1789473684210526,
           0.1789473684210526,
           0.2210526315789473,
           0.2981927710843373,
           0.3072289156626506,
           0.2393442622950819,
           0.2772585669781931,
           0.2763975155279503,
           0.1464968152866242,
           0.1518987341772152,
           0
          ],
          "sizemode": "area",
          "sizeref": 0.00153125,
          "symbol": "circle"
         },
         "mode": "markers",
         "name": "Sub-Saharan Africa",
         "orientation": "v",
         "showlegend": true,
         "type": "scatter",
         "x": [
          7.43,
          7.43,
          2.76,
          2.76,
          2.72,
          3.12,
          3.12,
          3.12,
          3.12,
          3.12,
          3.12,
          3.12,
          5.14,
          5.14,
          5.14,
          5.14,
          5.14,
          5.25,
          5.25,
          5.25
         ],
         "xaxis": "x",
         "y": [
          0.1527777777777778,
          0.1805555555555555,
          0.084,
          0.084,
          0.125,
          0.1789473684210526,
          0.2210526315789473,
          0.2093023255813953,
          0.1789473684210526,
          0.1789473684210526,
          0.1789473684210526,
          0.2210526315789473,
          0.2981927710843373,
          0.3072289156626506,
          0.2393442622950819,
          0.2772585669781931,
          0.2763975155279503,
          0.1464968152866242,
          0.1518987341772152,
          0
         ],
         "yaxis": "y"
        }
       ],
       "frames": [
        {
         "data": [
          {
           "customdata": [
            [
             "Canada",
             "2006"
            ],
            [
             "Canada",
             "2006"
            ],
            [
             "Canada",
             "2006"
            ]
           ],
           "hovertemplate": "Region=North America<br>year=%{customdata[1]}<br>democracy_indx_score=%{x}<br>percent_W=%{marker.size}<br>Country=%{customdata[0]}<extra></extra>",
           "legendgroup": "North America",
           "marker": {
            "color": "rgb(95, 70, 144)",
            "size": [
             0.2077922077922078,
             0.2131147540983606,
             0.2077922077922078
            ],
            "sizemode": "area",
            "sizeref": 0.00153125,
            "symbol": "circle"
           },
           "mode": "markers",
           "name": "North America",
           "orientation": "v",
           "showlegend": true,
           "type": "scatter",
           "x": [
            9.07,
            9.07,
            9.07
           ],
           "xaxis": "x7",
           "y": [
            0.2077922077922078,
            0.2131147540983606,
            0.2077922077922078
           ],
           "yaxis": "y7"
          },
          {
           "customdata": [
            [
             "Austria",
             "2006"
            ],
            [
             "Austria",
             "2006"
            ],
            [
             "Cyprus",
             "2006"
            ],
            [
             "Italy",
             "2006"
            ],
            [
             "Italy",
             "2006"
            ],
            [
             "Italy",
             "2006"
            ],
            [
             "Netherlands",
             "2006"
            ],
            [
             "Netherlands",
             "2006"
            ],
            [
             "Netherlands",
             "2006"
            ],
            [
             "Netherlands",
             "2006"
            ],
            [
             "Netherlands",
             "2006"
            ],
            [
             "Netherlands",
             "2006"
            ],
            [
             "Sweden",
             "2006"
            ],
            [
             "Sweden",
             "2006"
            ]
           ],
           "hovertemplate": "Region=Western Europe<br>year=%{customdata[1]}<br>democracy_indx_score=%{x}<br>percent_W=%{marker.size}<br>Country=%{customdata[0]}<extra></extra>",
           "legendgroup": "Western Europe",
           "marker": {
            "color": "rgb(29, 105, 150)",
            "size": [
             0.3224043715846995,
             0.3278688524590163,
             0.1428571428571428,
             0.173015873015873,
             0.173015873015873,
             0,
             0.3666666666666666,
             0.3933333333333333,
             0.3666666666666666,
             0.4133333333333333,
             0.3666666666666666,
             0.3933333333333333,
             0.4727793696275071,
             0.4699140401146132
            ],
            "sizemode": "area",
            "sizeref": 0.00153125,
            "symbol": "circle"
           },
           "mode": "markers",
           "name": "Western Europe",
           "orientation": "v",
           "showlegend": true,
           "type": "scatter",
           "x": [
            8.69,
            8.69,
            7.6,
            7.73,
            7.73,
            7.73,
            9.66,
            9.66,
            9.66,
            9.66,
            9.66,
            9.66,
            9.88,
            9.88
           ],
           "xaxis": "x6",
           "y": [
            0.3224043715846995,
            0.3278688524590163,
            0.1428571428571428,
            0.173015873015873,
            0.173015873015873,
            0,
            0.3666666666666666,
            0.3933333333333333,
            0.3666666666666666,
            0.4133333333333333,
            0.3666666666666666,
            0.3933333333333333,
            0.4727793696275071,
            0.4699140401146132
           ],
           "yaxis": "y6"
          },
          {
           "customdata": [
            [
             "Bosnia and Herzegovina",
             "2006"
            ],
            [
             "Bosnia and Herzegovina",
             "2006"
            ],
            [
             "Bosnia and Herzegovina",
             "2006"
            ],
            [
             "Bosnia and Herzegovina",
             "2006"
            ],
            [
             "Bosnia and Herzegovina",
             "2006"
            ],
            [
             "Czech Republic",
             "2006"
            ],
            [
             "Czech Republic",
             "2006"
            ],
            [
             "Czech Republic",
             "2006"
            ],
            [
             "Czech Republic",
             "2006"
            ],
            [
             "Czech Republic",
             "2006"
            ],
            [
             "Hungary",
             "2006"
            ],
            [
             "Hungary",
             "2006"
            ],
            [
             "Hungary",
             "2006"
            ],
            [
             "Latvia",
             "2006"
            ],
            [
             "Latvia",
             "2006"
            ],
            [
             "Montenegro",
             "2006"
            ],
            [
             "Montenegro",
             "2006"
            ],
            [
             "Slovakia",
             "2006"
            ],
            [
             "Slovakia",
             "2006"
            ],
            [
             "Slovakia",
             "2006"
            ],
            [
             "Ukraine",
             "2006"
            ],
            [
             "Ukraine",
             "2006"
            ],
            [
             "Ukraine",
             "2006"
            ]
           ],
           "hovertemplate": "Region=Central and Eastern Europe<br>year=%{customdata[1]}<br>democracy_indx_score=%{x}<br>percent_W=%{marker.size}<br>Country=%{customdata[0]}<extra></extra>",
           "legendgroup": "Central and Eastern Europe",
           "marker": {
            "color": "rgb(56, 166, 165)",
            "size": [
             0,
             0.1428571428571428,
             0.119047619047619,
             0.1428571428571428,
             0.119047619047619,
             0.155,
             0.155,
             0.155,
             0.155,
             0.155,
             0.1036269430051813,
             0.1113989637305699,
             0,
             0.19,
             0.2,
             0.0864197530864197,
             0.1111111111111111,
             0.2,
             0.1933333333333333,
             0.16,
             0.0866666666666666,
             0,
             0.0711111111111111
            ],
            "sizemode": "area",
            "sizeref": 0.00153125,
            "symbol": "circle"
           },
           "mode": "markers",
           "name": "Central and Eastern Europe",
           "orientation": "v",
           "showlegend": true,
           "type": "scatter",
           "x": [
            5.78,
            5.78,
            5.78,
            5.78,
            5.78,
            8.17,
            8.17,
            8.17,
            8.17,
            8.17,
            7.53,
            7.53,
            7.53,
            7.37,
            7.37,
            6.57,
            6.57,
            7.4,
            7.4,
            7.4,
            6.94,
            6.94,
            6.94
           ],
           "xaxis": "x5",
           "y": [
            0,
            0.1428571428571428,
            0.119047619047619,
            0.1428571428571428,
            0.119047619047619,
            0.155,
            0.155,
            0.155,
            0.155,
            0.155,
            0.1036269430051813,
            0.1113989637305699,
            0,
            0.19,
            0.2,
            0.0864197530864197,
            0.1111111111111111,
            0.2,
            0.1933333333333333,
            0.16,
            0.0866666666666666,
            0,
            0.0711111111111111
           ],
           "yaxis": "y5"
          },
          {
           "customdata": [
            [
             "Brazil",
             "2006"
            ],
            [
             "Brazil",
             "2006"
            ],
            [
             "Brazil",
             "2006"
            ],
            [
             "Brazil",
             "2006"
            ],
            [
             "Colombia",
             "2006"
            ],
            [
             "Colombia",
             "2006"
            ],
            [
             "Colombia",
             "2006"
            ],
            [
             "Costa Rica",
             "2006"
            ],
            [
             "Costa Rica",
             "2006"
            ],
            [
             "Costa Rica",
             "2006"
            ],
            [
             "Dominican Republic",
             "2006"
            ],
            [
             "Dominican Republic",
             "2006"
            ],
            [
             "Dominican Republic",
             "2006"
            ],
            [
             "Ecuador",
             "2006"
            ],
            [
             "Ecuador",
             "2006"
            ],
            [
             "El Salvador",
             "2006"
            ],
            [
             "El Salvador",
             "2006"
            ],
            [
             "Guyana",
             "2006"
            ],
            [
             "Guyana",
             "2006"
            ],
            [
             "Guyana",
             "2006"
            ],
            [
             "Haiti",
             "2006"
            ],
            [
             "Haiti",
             "2006"
            ],
            [
             "Haiti",
             "2006"
            ],
            [
             "Haiti",
             "2006"
            ],
            [
             "Haiti",
             "2006"
            ],
            [
             "Haiti",
             "2006"
            ],
            [
             "Haiti",
             "2006"
            ],
            [
             "Haiti",
             "2006"
            ],
            [
             "Mexico",
             "2006"
            ],
            [
             "Mexico",
             "2006"
            ],
            [
             "Mexico",
             "2006"
            ],
            [
             "Mexico",
             "2006"
            ],
            [
             "Mexico",
             "2006"
            ],
            [
             "Nicaragua",
             "2006"
            ],
            [
             "Nicaragua",
             "2006"
            ],
            [
             "Peru",
             "2006"
            ],
            [
             "Peru",
             "2006"
            ]
           ],
           "hovertemplate": "Region=Latin America and the Caribbean<br>year=%{customdata[1]}<br>democracy_indx_score=%{x}<br>percent_W=%{marker.size}<br>Country=%{customdata[0]}<extra></extra>",
           "legendgroup": "Latin America and the Caribbean",
           "marker": {
            "color": "rgb(15, 133, 84)",
            "size": [
             0,
             0.087719298245614,
             0.0896686159844054,
             0.0896686159844054,
             0,
             0.0843373493975903,
             0.0843373493975903,
             0.3859649122807017,
             0.3684210526315789,
             0.3508771929824561,
             0.196629213483146,
             0,
             0.196629213483146,
             0,
             0.25,
             0.1666666666666666,
             0,
             0.2898550724637681,
             0.3,
             0,
             0.024390243902439,
             0.0408163265306122,
             0.0408163265306122,
             0.0227272727272727,
             0.0204081632653061,
             0,
             0.0202020202020202,
             0.0408163265306122,
             0,
             0.226,
             0.232,
             0,
             0.232,
             0.1847826086956521,
             0.1521739130434782,
             0.2916666666666667,
             0
            ],
            "sizemode": "area",
            "sizeref": 0.00153125,
            "symbol": "circle"
           },
           "mode": "markers",
           "name": "Latin America and the Caribbean",
           "orientation": "v",
           "showlegend": true,
           "type": "scatter",
           "x": [
            7.38,
            7.38,
            7.38,
            7.38,
            6.4,
            6.4,
            6.4,
            8.04,
            8.04,
            8.04,
            6.13,
            6.13,
            6.13,
            5.64,
            5.64,
            6.22,
            6.22,
            6.15,
            6.15,
            6.15,
            4.19,
            4.19,
            4.19,
            4.19,
            4.19,
            4.19,
            4.19,
            4.19,
            6.67,
            6.67,
            6.67,
            6.67,
            6.67,
            5.68,
            5.68,
            6.11,
            6.11
           ],
           "xaxis": "x4",
           "y": [
            0,
            0.087719298245614,
            0.0896686159844054,
            0.0896686159844054,
            0,
            0.0843373493975903,
            0.0843373493975903,
            0.3859649122807017,
            0.3684210526315789,
            0.3508771929824561,
            0.196629213483146,
            0,
            0.196629213483146,
            0,
            0.25,
            0.1666666666666666,
            0,
            0.2898550724637681,
            0.3,
            0,
            0.024390243902439,
            0.0408163265306122,
            0.0408163265306122,
            0.0227272727272727,
            0.0204081632653061,
            0,
            0.0202020202020202,
            0.0408163265306122,
            0,
            0.226,
            0.232,
            0,
            0.232,
            0.1847826086956521,
            0.1521739130434782,
            0.2916666666666667,
            0
           ],
           "yaxis": "y4"
          },
          {
           "customdata": [
            [
             "Bhutan",
             "2006"
            ],
            [
             "Bhutan",
             "2006"
            ],
            [
             "Fiji",
             "2006"
            ],
            [
             "Fiji",
             "2006"
            ],
            [
             "Fiji",
             "2006"
            ],
            [
             "Singapore",
             "2006"
            ],
            [
             "Thailand",
             "2006"
            ],
            [
             "Thailand",
             "2006"
            ],
            [
             "Thailand",
             "2006"
            ],
            [
             "Thailand",
             "2006"
            ]
           ],
           "hovertemplate": "Region=Asia and Australasia<br>year=%{customdata[1]}<br>democracy_indx_score=%{x}<br>percent_W=%{marker.size}<br>Country=%{customdata[0]}<extra></extra>",
           "legendgroup": "Asia and Australasia",
           "marker": {
            "color": "rgb(115, 175, 72)",
            "size": [
             0.0266666666666666,
             0.0266666666666666,
             0.1126760563380281,
             0.1126760563380281,
             0.1126760563380281,
             0.2446808510638297,
             0,
             0.0867768595041322,
             0,
             0
            ],
            "sizemode": "area",
            "sizeref": 0.00153125,
            "symbol": "circle"
           },
           "mode": "markers",
           "name": "Asia and Australasia",
           "orientation": "v",
           "showlegend": true,
           "type": "scatter",
           "x": [
            2.62,
            2.62,
            5.66,
            5.66,
            5.66,
            5.89,
            5.67,
            5.67,
            5.67,
            5.67
           ],
           "xaxis": "x3",
           "y": [
            0.0266666666666666,
            0.0266666666666666,
            0.1126760563380281,
            0.1126760563380281,
            0.1126760563380281,
            0.2446808510638297,
            0,
            0.0867768595041322,
            0,
            0
           ],
           "yaxis": "y3"
          },
          {
           "customdata": [
            [
             "Bahrain",
             "2006"
            ],
            [
             "Bahrain",
             "2006"
            ],
            [
             "Bahrain",
             "2006"
            ],
            [
             "Israel",
             "2006"
            ],
            [
             "Israel",
             "2006"
            ],
            [
             "Kuwait",
             "2006"
            ],
            [
             "Qatar",
             "2006"
            ],
            [
             "United Arab Emirates",
             "2006"
            ],
            [
             "United Arab Emirates",
             "2006"
            ]
           ],
           "hovertemplate": "Region=Middle East and North Africa<br>year=%{customdata[1]}<br>democracy_indx_score=%{x}<br>percent_W=%{marker.size}<br>Country=%{customdata[0]}<extra></extra>",
           "legendgroup": "Middle East and North Africa",
           "marker": {
            "color": "rgb(237, 173, 8)",
            "size": [
             0.025,
             0.0416666666666666,
             0.025,
             0.1416666666666666,
             0.1333333333333333,
             0.0153846153846153,
             0,
             0.225,
             0.05
            ],
            "sizemode": "area",
            "sizeref": 0.00153125,
            "symbol": "circle"
           },
           "mode": "markers",
           "name": "Middle East and North Africa",
           "orientation": "v",
           "showlegend": true,
           "type": "scatter",
           "x": [
            3.53,
            3.53,
            3.53,
            7.28,
            7.28,
            3.09,
            2.78,
            2.42,
            2.42
           ],
           "xaxis": "x2",
           "y": [
            0.025,
            0.0416666666666666,
            0.025,
            0.1416666666666666,
            0.1333333333333333,
            0.0153846153846153,
            0,
            0.225,
            0.05
           ],
           "yaxis": "y2"
          },
          {
           "customdata": [
            [
             "Cape Verde",
             "2006"
            ],
            [
             "Cape Verde",
             "2006"
            ],
            [
             "Democratic Republic of the Congo",
             "2006"
            ],
            [
             "Democratic Republic of the Congo",
             "2006"
            ],
            [
             "Gabon",
             "2006"
            ],
            [
             "Mauritania",
             "2006"
            ],
            [
             "Mauritania",
             "2006"
            ],
            [
             "Mauritania",
             "2006"
            ],
            [
             "Mauritania",
             "2006"
            ],
            [
             "Mauritania",
             "2006"
            ],
            [
             "Mauritania",
             "2006"
            ],
            [
             "Mauritania",
             "2006"
            ],
            [
             "Uganda",
             "2006"
            ],
            [
             "Uganda",
             "2006"
            ],
            [
             "Uganda",
             "2006"
            ],
            [
             "Uganda",
             "2006"
            ],
            [
             "Uganda",
             "2006"
            ],
            [
             "Zambia",
             "2006"
            ],
            [
             "Zambia",
             "2006"
            ],
            [
             "Zambia",
             "2006"
            ]
           ],
           "hovertemplate": "Region=Sub-Saharan Africa<br>year=%{customdata[1]}<br>democracy_indx_score=%{x}<br>percent_W=%{marker.size}<br>Country=%{customdata[0]}<extra></extra>",
           "legendgroup": "Sub-Saharan Africa",
           "marker": {
            "color": "rgb(225, 124, 5)",
            "size": [
             0.1527777777777778,
             0.1805555555555555,
             0.084,
             0.084,
             0.125,
             0.1789473684210526,
             0.2210526315789473,
             0.2093023255813953,
             0.1789473684210526,
             0.1789473684210526,
             0.1789473684210526,
             0.2210526315789473,
             0.2981927710843373,
             0.3072289156626506,
             0.2393442622950819,
             0.2772585669781931,
             0.2763975155279503,
             0.1464968152866242,
             0.1518987341772152,
             0
            ],
            "sizemode": "area",
            "sizeref": 0.00153125,
            "symbol": "circle"
           },
           "mode": "markers",
           "name": "Sub-Saharan Africa",
           "orientation": "v",
           "showlegend": true,
           "type": "scatter",
           "x": [
            7.43,
            7.43,
            2.76,
            2.76,
            2.72,
            3.12,
            3.12,
            3.12,
            3.12,
            3.12,
            3.12,
            3.12,
            5.14,
            5.14,
            5.14,
            5.14,
            5.14,
            5.25,
            5.25,
            5.25
           ],
           "xaxis": "x",
           "y": [
            0.1527777777777778,
            0.1805555555555555,
            0.084,
            0.084,
            0.125,
            0.1789473684210526,
            0.2210526315789473,
            0.2093023255813953,
            0.1789473684210526,
            0.1789473684210526,
            0.1789473684210526,
            0.2210526315789473,
            0.2981927710843373,
            0.3072289156626506,
            0.2393442622950819,
            0.2772585669781931,
            0.2763975155279503,
            0.1464968152866242,
            0.1518987341772152,
            0
           ],
           "yaxis": "y"
          }
         ],
         "name": "2006"
        },
        {
         "data": [
          {
           "customdata": [
            [
             "Canada",
             "2008"
            ]
           ],
           "hovertemplate": "Region=North America<br>year=%{customdata[1]}<br>democracy_indx_score=%{x}<br>percent_W=%{marker.size}<br>Country=%{customdata[0]}<extra></extra>",
           "legendgroup": "North America",
           "marker": {
            "color": "rgb(95, 70, 144)",
            "size": [
             0.2207792207792207
            ],
            "sizemode": "area",
            "sizeref": 0.00153125,
            "symbol": "circle"
           },
           "mode": "markers",
           "name": "North America",
           "orientation": "v",
           "showlegend": true,
           "type": "scatter",
           "x": [
            9.07
           ],
           "xaxis": "x7",
           "y": [
            0.2207792207792207
           ],
           "yaxis": "y7"
          },
          {
           "customdata": [
            [
             "Austria",
             "2008"
            ],
            [
             "Austria",
             "2008"
            ],
            [
             "Italy",
             "2008"
            ],
            [
             "Italy",
             "2008"
            ],
            [
             "Italy",
             "2008"
            ],
            [
             "Italy",
             "2008"
            ],
            [
             "Malta",
             "2008"
            ],
            [
             "Spain",
             "2008"
            ],
            [
             "Spain",
             "2008"
            ],
            [
             "Spain",
             "2008"
            ],
            [
             "Spain",
             "2008"
            ]
           ],
           "hovertemplate": "Region=Western Europe<br>year=%{customdata[1]}<br>democracy_indx_score=%{x}<br>percent_W=%{marker.size}<br>Country=%{customdata[0]}<extra></extra>",
           "legendgroup": "Western Europe",
           "marker": {
            "color": "rgb(29, 105, 150)",
            "size": [
             0.273224043715847,
             0,
             0.2126984126984127,
             0,
             0.2114467408585055,
             0.2126984126984127,
             0.0869565217391304,
             0.3628571428571429,
             0.3628571428571429,
             0.3628571428571429,
             0.3628571428571429
            ],
            "sizemode": "area",
            "sizeref": 0.00153125,
            "symbol": "circle"
           },
           "mode": "markers",
           "name": "Western Europe",
           "orientation": "v",
           "showlegend": true,
           "type": "scatter",
           "x": [
            8.49,
            8.49,
            7.98,
            7.98,
            7.98,
            7.98,
            8.39,
            8.45,
            8.45,
            8.45,
            8.45
           ],
           "xaxis": "x6",
           "y": [
            0.273224043715847,
            0,
            0.2126984126984127,
            0,
            0.2114467408585055,
            0.2126984126984127,
            0.0869565217391304,
            0.3628571428571429,
            0.3628571428571429,
            0.3628571428571429,
            0.3628571428571429
           ],
           "yaxis": "y6"
          },
          {
           "customdata": [
            [
             "Belarus",
             "2008"
            ],
            [
             "Belarus",
             "2008"
            ],
            [
             "Belarus",
             "2008"
            ],
            [
             "Georgia",
             "2008"
            ],
            [
             "Lithuania",
             "2008"
            ],
            [
             "Romania",
             "2008"
            ],
            [
             "Serbia",
             "2008"
            ],
            [
             "Slovenia",
             "2008"
            ],
            [
             "Turkmenistan",
             "2008"
            ]
           ],
           "hovertemplate": "Region=Central and Eastern Europe<br>year=%{customdata[1]}<br>democracy_indx_score=%{x}<br>percent_W=%{marker.size}<br>Country=%{customdata[0]}<extra></extra>",
           "legendgroup": "Central and Eastern Europe",
           "marker": {
            "color": "rgb(56, 166, 165)",
            "size": [
             0.3181818181818182,
             0.3181818181818182,
             0,
             0.06,
             0.1773049645390071,
             0.1137724550898203,
             0.216,
             0.1333333333333333,
             0
            ],
            "sizemode": "area",
            "sizeref": 0.00153125,
            "symbol": "circle"
           },
           "mode": "markers",
           "name": "Central and Eastern Europe",
           "orientation": "v",
           "showlegend": true,
           "type": "scatter",
           "x": [
            3.34,
            3.34,
            3.34,
            4.62,
            7.36,
            7.06,
            6.49,
            7.96,
            1.72
           ],
           "xaxis": "x5",
           "y": [
            0.3181818181818182,
            0.3181818181818182,
            0,
            0.06,
            0.1773049645390071,
            0.1137724550898203,
            0.216,
            0.1333333333333333,
            0
           ],
           "yaxis": "y5"
          },
          {
           "customdata": [
            [
             "Cuba",
             "2008"
            ],
            [
             "Paraguay",
             "2008"
            ],
            [
             "Paraguay",
             "2008"
            ],
            [
             "Paraguay",
             "2008"
            ]
           ],
           "hovertemplate": "Region=Latin America and the Caribbean<br>year=%{customdata[1]}<br>democracy_indx_score=%{x}<br>percent_W=%{marker.size}<br>Country=%{customdata[0]}<extra></extra>",
           "legendgroup": "Latin America and the Caribbean",
           "marker": {
            "color": "rgb(15, 133, 84)",
            "size": [
             0.4315960912052117,
             0.125,
             0,
             0.125
            ],
            "sizemode": "area",
            "sizeref": 0.00153125,
            "symbol": "circle"
           },
           "mode": "markers",
           "name": "Latin America and the Caribbean",
           "orientation": "v",
           "showlegend": true,
           "type": "scatter",
           "x": [
            3.52,
            6.4,
            6.4,
            6.4
           ],
           "xaxis": "x4",
           "y": [
            0.4315960912052117,
            0.125,
            0,
            0.125
           ],
           "yaxis": "y4"
          },
          {
           "customdata": [
            [
             "Bhutan",
             "2008"
            ],
            [
             "Bhutan",
             "2008"
            ],
            [
             "Bhutan",
             "2008"
            ],
            [
             "Cambodia",
             "2008"
            ],
            [
             "China",
             "2008"
            ],
            [
             "China",
             "2008"
            ],
            [
             "Malaysia",
             "2008"
            ],
            [
             "Malaysia",
             "2008"
            ],
            [
             "Mongolia",
             "2008"
            ],
            [
             "Mongolia",
             "2008"
            ],
            [
             "Mongolia",
             "2008"
            ],
            [
             "Nepal",
             "2008"
            ],
            [
             "Nepal",
             "2008"
            ],
            [
             "Nepal",
             "2008"
            ],
            [
             "Nepal",
             "2008"
            ],
            [
             "New Zealand",
             "2008"
            ],
            [
             "Pakistan",
             "2008"
            ],
            [
             "Pakistan",
             "2008"
            ]
           ],
           "hovertemplate": "Region=Asia and Australasia<br>year=%{customdata[1]}<br>democracy_indx_score=%{x}<br>percent_W=%{marker.size}<br>Country=%{customdata[0]}<extra></extra>",
           "legendgroup": "Asia and Australasia",
           "marker": {
            "color": "rgb(115, 175, 72)",
            "size": [
             0.0851063829787234,
             0.0851063829787234,
             0.0851063829787234,
             0.1626016260162601,
             0.2132574489454302,
             0,
             0.1081081081081081,
             0,
             0.0416666666666666,
             0.0303030303030303,
             0.0441176470588235,
             0.3316498316498316,
             0,
             0.3362676056338028,
             0.3277870216306156,
             0.3360655737704918,
             0.2248520710059171,
             0.2248520710059171
            ],
            "sizemode": "area",
            "sizeref": 0.00153125,
            "symbol": "circle"
           },
           "mode": "markers",
           "name": "Asia and Australasia",
           "orientation": "v",
           "showlegend": true,
           "type": "scatter",
           "x": [
            4.3,
            4.3,
            4.3,
            4.87,
            3.04,
            3.04,
            6.36,
            6.36,
            6.6,
            6.6,
            6.6,
            4.05,
            4.05,
            4.05,
            4.05,
            9.19,
            4.46,
            4.46
           ],
           "xaxis": "x3",
           "y": [
            0.0851063829787234,
            0.0851063829787234,
            0.0851063829787234,
            0.1626016260162601,
            0.2132574489454302,
            0,
            0.1081081081081081,
            0,
            0.0416666666666666,
            0.0303030303030303,
            0.0441176470588235,
            0.3316498316498316,
            0,
            0.3362676056338028,
            0.3277870216306156,
            0.3360655737704918,
            0.2248520710059171,
            0.2248520710059171
           ],
           "yaxis": "y3"
          },
          {
           "customdata": [
            [
             "Qatar",
             "2008"
            ]
           ],
           "hovertemplate": "Region=Middle East and North Africa<br>year=%{customdata[1]}<br>democracy_indx_score=%{x}<br>percent_W=%{marker.size}<br>Country=%{customdata[0]}<extra></extra>",
           "legendgroup": "Middle East and North Africa",
           "marker": {
            "color": "rgb(237, 173, 8)",
            "size": [
             0
            ],
            "sizemode": "area",
            "sizeref": 0.00153125,
            "symbol": "circle"
           },
           "mode": "markers",
           "name": "Middle East and North Africa",
           "orientation": "v",
           "showlegend": true,
           "type": "scatter",
           "x": [
            2.92
           ],
           "xaxis": "x2",
           "y": [
            0
           ],
           "yaxis": "y2"
          },
          {
           "customdata": [
            [
             "Angola",
             "2008"
            ],
            [
             "Djibouti",
             "2008"
            ],
            [
             "Equatorial Guinea",
             "2008"
            ],
            [
             "Equatorial Guinea",
             "2008"
            ],
            [
             "Ghana",
             "2008"
            ],
            [
             "Guinea-Bissau",
             "2008"
            ],
            [
             "Guinea-Bissau",
             "2008"
            ],
            [
             "Rwanda",
             "2008"
            ],
            [
             "Zimbabwe",
             "2008"
            ],
            [
             "Zimbabwe",
             "2008"
            ],
            [
             "Zimbabwe",
             "2008"
            ],
            [
             "Zimbabwe",
             "2008"
            ],
            [
             "Zimbabwe",
             "2008"
            ],
            [
             "Zimbabwe",
             "2008"
            ]
           ],
           "hovertemplate": "Region=Sub-Saharan Africa<br>year=%{customdata[1]}<br>democracy_indx_score=%{x}<br>percent_W=%{marker.size}<br>Country=%{customdata[0]}<extra></extra>",
           "legendgroup": "Sub-Saharan Africa",
           "marker": {
            "color": "rgb(225, 124, 5)",
            "size": [
             0.3727272727272727,
             0.1384615384615384,
             0.06,
             0,
             0.0789473684210526,
             0,
             0.1,
             0.5625,
             0.1523809523809524,
             0,
             0.1352657004830917,
             0.1333333333333333,
             0.1333333333333333,
             0.1523809523809524
            ],
            "sizemode": "area",
            "sizeref": 0.00153125,
            "symbol": "circle"
           },
           "mode": "markers",
           "name": "Sub-Saharan Africa",
           "orientation": "v",
           "showlegend": true,
           "type": "scatter",
           "x": [
            3.35,
            2.37,
            2.19,
            2.19,
            5.35,
            1.99,
            1.99,
            3.71,
            2.53,
            2.53,
            2.53,
            2.53,
            2.53,
            2.53
           ],
           "xaxis": "x",
           "y": [
            0.3727272727272727,
            0.1384615384615384,
            0.06,
            0,
            0.0789473684210526,
            0,
            0.1,
            0.5625,
            0.1523809523809524,
            0,
            0.1352657004830917,
            0.1333333333333333,
            0.1333333333333333,
            0.1523809523809524
           ],
           "yaxis": "y"
          }
         ],
         "name": "2008"
        },
        {
         "data": [
          {
           "customdata": [
            [
             "Chad",
             "2011"
            ],
            [
             "Chad",
             "2011"
            ],
            [
             "Chad",
             "2011"
            ],
            [
             "Chad",
             "2011"
            ]
           ],
           "hovertemplate": "Region=Sub-Saharan Africa<br>year=%{customdata[1]}<br>democracy_indx_score=%{x}<br>percent_W=%{marker.size}<br>Country=%{customdata[0]}<extra></extra>",
           "legendgroup": "Sub-Saharan Africa",
           "marker": {
            "color": "rgb(225, 124, 5)",
            "size": [
             0.1488095238095238,
             0.1543209876543209,
             0.1488095238095238,
             0.1538461538461538
            ],
            "sizemode": "area",
            "sizeref": 0.00153125,
            "symbol": "circle"
           },
           "mode": "markers",
           "name": "Sub-Saharan Africa",
           "orientation": "v",
           "showlegend": true,
           "type": "scatter",
           "x": [
            1.62,
            1.62,
            1.62,
            1.62
           ],
           "xaxis": "x",
           "y": [
            0.1488095238095238,
            0.1543209876543209,
            0.1488095238095238,
            0.1538461538461538
           ],
           "yaxis": "y"
          }
         ],
         "name": "2011"
        },
        {
         "data": [
          {
           "customdata": [
            [
             "Qatar",
             "2013"
            ]
           ],
           "hovertemplate": "Region=Middle East and North Africa<br>year=%{customdata[1]}<br>democracy_indx_score=%{x}<br>percent_W=%{marker.size}<br>Country=%{customdata[0]}<extra></extra>",
           "legendgroup": "Middle East and North Africa",
           "marker": {
            "color": "rgb(237, 173, 8)",
            "size": [
             0.0975609756097561
            ],
            "sizemode": "area",
            "sizeref": 0.00153125,
            "symbol": "circle"
           },
           "mode": "markers",
           "name": "Middle East and North Africa",
           "orientation": "v",
           "showlegend": true,
           "type": "scatter",
           "x": [
            3.18
           ],
           "xaxis": "x2",
           "y": [
            0.0975609756097561
           ],
           "yaxis": "y2"
          },
          {
           "customdata": [
            [
             "Cameroon",
             "2013"
            ],
            [
             "Cameroon",
             "2013"
            ],
            [
             "Guinea",
             "2013"
            ],
            [
             "Guinea",
             "2013"
            ],
            [
             "Madagascar",
             "2013"
            ],
            [
             "Madagascar",
             "2013"
            ],
            [
             "Mali",
             "2013"
            ],
            [
             "Mali",
             "2013"
            ],
            [
             "Mali",
             "2013"
            ]
           ],
           "hovertemplate": "Region=Sub-Saharan Africa<br>year=%{customdata[1]}<br>democracy_indx_score=%{x}<br>percent_W=%{marker.size}<br>Country=%{customdata[0]}<extra></extra>",
           "legendgroup": "Sub-Saharan Africa",
           "marker": {
            "color": "rgb(225, 124, 5)",
            "size": [
             0.3111111111111111,
             0.3111111111111111,
             0.2280701754385964,
             0.2280701754385964,
             0.1920529801324503,
             0.1920529801324503,
             0.0952380952380952,
             0.0884353741496598,
             0.0884353741496598
            ],
            "sizemode": "area",
            "sizeref": 0.00153125,
            "symbol": "circle"
           },
           "mode": "markers",
           "name": "Sub-Saharan Africa",
           "orientation": "v",
           "showlegend": true,
           "type": "scatter",
           "x": [
            3.41,
            3.41,
            2.84,
            2.84,
            4.32,
            4.32,
            5.9,
            5.9,
            5.9
           ],
           "xaxis": "x",
           "y": [
            0.3111111111111111,
            0.3111111111111111,
            0.2280701754385964,
            0.2280701754385964,
            0.1920529801324503,
            0.1920529801324503,
            0.0952380952380952,
            0.0884353741496598,
            0.0884353741496598
           ],
           "yaxis": "y"
          }
         ],
         "name": "2013"
        },
        {
         "data": [
          {
           "customdata": [
            [
             "Belgium",
             "2014"
            ],
            [
             "Belgium",
             "2014"
            ]
           ],
           "hovertemplate": "Region=Western Europe<br>year=%{customdata[1]}<br>democracy_indx_score=%{x}<br>percent_W=%{marker.size}<br>Country=%{customdata[0]}<extra></extra>",
           "legendgroup": "Western Europe",
           "marker": {
            "color": "rgb(29, 105, 150)",
            "size": [
             0.38,
             0.38
            ],
            "sizemode": "area",
            "sizeref": 0.00153125,
            "symbol": "circle"
           },
           "mode": "markers",
           "name": "Western Europe",
           "orientation": "v",
           "showlegend": true,
           "type": "scatter",
           "x": [
            7.93,
            7.93
           ],
           "xaxis": "x6",
           "y": [
            0.38,
            0.38
           ],
           "yaxis": "y6"
          },
          {
           "customdata": [
            [
             "Ukraine",
             "2014"
            ],
            [
             "Ukraine",
             "2014"
            ],
            [
             "Uzbekistan",
             "2014"
            ],
            [
             "Uzbekistan",
             "2014"
            ]
           ],
           "hovertemplate": "Region=Central and Eastern Europe<br>year=%{customdata[1]}<br>democracy_indx_score=%{x}<br>percent_W=%{marker.size}<br>Country=%{customdata[0]}<extra></extra>",
           "legendgroup": "Central and Eastern Europe",
           "marker": {
            "color": "rgb(56, 166, 165)",
            "size": [
             0.1158392434988179,
             0.1158392434988179,
             0.16,
             0.16
            ],
            "sizemode": "area",
            "sizeref": 0.00153125,
            "symbol": "circle"
           },
           "mode": "markers",
           "name": "Central and Eastern Europe",
           "orientation": "v",
           "showlegend": true,
           "type": "scatter",
           "x": [
            5.42,
            5.42,
            2.45,
            2.45
           ],
           "xaxis": "x5",
           "y": [
            0.1158392434988179,
            0.1158392434988179,
            0.16,
            0.16
           ],
           "yaxis": "y5"
          },
          {
           "customdata": [
            [
             "Bolivia",
             "2014"
            ],
            [
             "Panama",
             "2014"
            ],
            [
             "Panama",
             "2014"
            ],
            [
             "Uruguay",
             "2014"
            ],
            [
             "Uruguay",
             "2014"
            ]
           ],
           "hovertemplate": "Region=Latin America and the Caribbean<br>year=%{customdata[1]}<br>democracy_indx_score=%{x}<br>percent_W=%{marker.size}<br>Country=%{customdata[0]}<extra></extra>",
           "legendgroup": "Latin America and the Caribbean",
           "marker": {
            "color": "rgb(15, 133, 84)",
            "size": [
             0.5307692307692308,
             0.1830985915492957,
             0.1830985915492957,
             0.2222222222222222,
             0.2222222222222222
            ],
            "sizemode": "area",
            "sizeref": 0.00153125,
            "symbol": "circle"
           },
           "mode": "markers",
           "name": "Latin America and the Caribbean",
           "orientation": "v",
           "showlegend": true,
           "type": "scatter",
           "x": [
            5.79,
            7.08,
            7.08,
            8.17,
            8.17
           ],
           "xaxis": "x4",
           "y": [
            0.5307692307692308,
            0.1830985915492957,
            0.1830985915492957,
            0.2222222222222222,
            0.2222222222222222
           ],
           "yaxis": "y4"
          },
          {
           "customdata": [
            [
             "India",
             "2014"
            ],
            [
             "India",
             "2014"
            ],
            [
             "Indonesia",
             "2014"
            ],
            [
             "Indonesia",
             "2014"
            ],
            [
             "Thailand",
             "2014"
            ],
            [
             "Thailand",
             "2014"
            ]
           ],
           "hovertemplate": "Region=Asia and Australasia<br>year=%{customdata[1]}<br>democracy_indx_score=%{x}<br>percent_W=%{marker.size}<br>Country=%{customdata[0]}<extra></extra>",
           "legendgroup": "Asia and Australasia",
           "marker": {
            "color": "rgb(115, 175, 72)",
            "size": [
             0.1259541984732824,
             0.1259541984732824,
             0.1821428571428571,
             0.1821428571428571,
             0.0541666666666666,
             0.0541666666666666
            ],
            "sizemode": "area",
            "sizeref": 0.00153125,
            "symbol": "circle"
           },
           "mode": "markers",
           "name": "Asia and Australasia",
           "orientation": "v",
           "showlegend": true,
           "type": "scatter",
           "x": [
            7.92,
            7.92,
            6.95,
            6.95,
            5.39,
            5.39
           ],
           "xaxis": "x3",
           "y": [
            0.1259541984732824,
            0.1259541984732824,
            0.1821428571428571,
            0.1821428571428571,
            0.0541666666666666,
            0.0541666666666666
           ],
           "yaxis": "y3"
          },
          {
           "customdata": [
            [
             "Libya",
             "2014"
            ],
            [
             "Libya",
             "2014"
            ],
            [
             "Libya",
             "2014"
            ],
            [
             "Tunisia",
             "2014"
            ],
            [
             "Tunisia",
             "2014"
            ]
           ],
           "hovertemplate": "Region=Middle East and North Africa<br>year=%{customdata[1]}<br>democracy_indx_score=%{x}<br>percent_W=%{marker.size}<br>Country=%{customdata[0]}<extra></extra>",
           "legendgroup": "Middle East and North Africa",
           "marker": {
            "color": "rgb(237, 173, 8)",
            "size": [
             0.1595744680851064,
             0.1647058823529411,
             0.1595744680851064,
             0.3594470046082949,
             0.3594470046082949
            ],
            "sizemode": "area",
            "sizeref": 0.00153125,
            "symbol": "circle"
           },
           "mode": "markers",
           "name": "Middle East and North Africa",
           "orientation": "v",
           "showlegend": true,
           "type": "scatter",
           "x": [
            3.8,
            3.8,
            3.8,
            6.31,
            6.31
           ],
           "xaxis": "x2",
           "y": [
            0.1595744680851064,
            0.1647058823529411,
            0.1595744680851064,
            0.3594470046082949,
            0.3594470046082949
           ],
           "yaxis": "y2"
          },
          {
           "customdata": [
            [
             "Botswana",
             "2014"
            ],
            [
             "Botswana",
             "2014"
            ],
            [
             "Guinea-Bissau",
             "2014"
            ],
            [
             "Guinea-Bissau",
             "2014"
            ],
            [
             "Malawi",
             "2014"
            ],
            [
             "Malawi",
             "2014"
            ],
            [
             "Mauritius",
             "2014"
            ],
            [
             "Mauritius",
             "2014"
            ],
            [
             "Mozambique",
             "2014"
            ],
            [
             "Mozambique",
             "2014"
            ],
            [
             "Namibia",
             "2014"
            ],
            [
             "Namibia",
             "2014"
            ],
            [
             "South Africa",
             "2014"
            ],
            [
             "South Africa",
             "2014"
            ],
            [
             "South Africa",
             "2014"
            ]
           ],
           "hovertemplate": "Region=Sub-Saharan Africa<br>year=%{customdata[1]}<br>democracy_indx_score=%{x}<br>percent_W=%{marker.size}<br>Country=%{customdata[0]}<extra></extra>",
           "legendgroup": "Sub-Saharan Africa",
           "marker": {
            "color": "rgb(225, 124, 5)",
            "size": [
             0.0952380952380952,
             0.0952380952380952,
             0.1372549019607843,
             0.1372549019607843,
             0.1666666666666666,
             0.1666666666666666,
             0.1159420289855072,
             0.1159420289855072,
             0.396,
             0.396,
             0.4615384615384615,
             0.4615384615384615,
             0.4282051282051282,
             0.4314720812182741,
             0.4381443298969072
            ],
            "sizemode": "area",
            "sizeref": 0.00153125,
            "symbol": "circle"
           },
           "mode": "markers",
           "name": "Sub-Saharan Africa",
           "orientation": "v",
           "showlegend": true,
           "type": "scatter",
           "x": [
            7.87,
            7.87,
            1.93,
            1.93,
            5.66,
            5.66,
            8.17,
            8.17,
            4.66,
            4.66,
            6.24,
            6.24,
            7.82,
            7.82,
            7.82
           ],
           "xaxis": "x",
           "y": [
            0.0952380952380952,
            0.0952380952380952,
            0.1372549019607843,
            0.1372549019607843,
            0.1666666666666666,
            0.1666666666666666,
            0.1159420289855072,
            0.1159420289855072,
            0.396,
            0.396,
            0.4615384615384615,
            0.4615384615384615,
            0.4282051282051282,
            0.4314720812182741,
            0.4381443298969072
           ],
           "yaxis": "y"
          }
         ],
         "name": "2014"
        },
        {
         "data": [
          {
           "customdata": [
            [
             "Canada",
             "2015"
            ],
            [
             "Canada",
             "2015"
            ]
           ],
           "hovertemplate": "Region=North America<br>year=%{customdata[1]}<br>democracy_indx_score=%{x}<br>percent_W=%{marker.size}<br>Country=%{customdata[0]}<extra></extra>",
           "legendgroup": "North America",
           "marker": {
            "color": "rgb(95, 70, 144)",
            "size": [
             0.2694610778443114,
             0.2694610778443114
            ],
            "sizemode": "area",
            "sizeref": 0.00153125,
            "symbol": "circle"
           },
           "mode": "markers",
           "name": "North America",
           "orientation": "v",
           "showlegend": true,
           "type": "scatter",
           "x": [
            9.08,
            9.08
           ],
           "xaxis": "x7",
           "y": [
            0.2694610778443114,
            0.2694610778443114
           ],
           "yaxis": "y7"
          },
          {
           "customdata": [
            [
             "Denmark",
             "2015"
            ],
            [
             "Denmark",
             "2015"
            ],
            [
             "Finland",
             "2015"
            ],
            [
             "Finland",
             "2015"
            ],
            [
             "Greece",
             "2015"
            ],
            [
             "Greece",
             "2015"
            ],
            [
             "Portugal",
             "2015"
            ],
            [
             "Portugal",
             "2015"
            ],
            [
             "Switzerland",
             "2015"
            ],
            [
             "Switzerland",
             "2015"
            ],
            [
             "Switzerland",
             "2015"
            ]
           ],
           "hovertemplate": "Region=Western Europe<br>year=%{customdata[1]}<br>democracy_indx_score=%{x}<br>percent_W=%{marker.size}<br>Country=%{customdata[0]}<extra></extra>",
           "legendgroup": "Western Europe",
           "marker": {
            "color": "rgb(29, 105, 150)",
            "size": [
             0.3743016759776536,
             0.3743016759776536,
             0.415,
             0.415,
             0.1866666666666666,
             0.1866666666666666,
             0.3478260869565217,
             0.3565217391304348,
             0.325,
             0.325,
             0.325
            ],
            "sizemode": "area",
            "sizeref": 0.00153125,
            "symbol": "circle"
           },
           "mode": "markers",
           "name": "Western Europe",
           "orientation": "v",
           "showlegend": true,
           "type": "scatter",
           "x": [
            9.11,
            9.11,
            9.03,
            9.03,
            7.45,
            7.45,
            7.79,
            7.79,
            9.09,
            9.09,
            9.09
           ],
           "xaxis": "x6",
           "y": [
            0.3743016759776536,
            0.3743016759776536,
            0.415,
            0.415,
            0.1866666666666666,
            0.1866666666666666,
            0.3478260869565217,
            0.3565217391304348,
            0.325,
            0.325,
            0.325
           ],
           "yaxis": "y6"
          },
          {
           "customdata": [
            [
             "Azerbaijan",
             "2015"
            ],
            [
             "Azerbaijan",
             "2015"
            ],
            [
             "Estonia",
             "2015"
            ],
            [
             "Estonia",
             "2015"
            ],
            [
             "Kyrgyzstan",
             "2015"
            ],
            [
             "Kyrgyzstan",
             "2015"
            ],
            [
             "Poland",
             "2015"
            ],
            [
             "Poland",
             "2015"
            ],
            [
             "Tajikistan",
             "2015"
            ],
            [
             "Tajikistan",
             "2015"
            ]
           ],
           "hovertemplate": "Region=Central and Eastern Europe<br>year=%{customdata[1]}<br>democracy_indx_score=%{x}<br>percent_W=%{marker.size}<br>Country=%{customdata[0]}<extra></extra>",
           "legendgroup": "Central and Eastern Europe",
           "marker": {
            "color": "rgb(56, 166, 165)",
            "size": [
             0.1680672268907563,
             0.1680672268907563,
             0.2871287128712871,
             0.2871287128712871,
             0.1916666666666666,
             0.1916666666666666,
             0.2913043478260869,
             0.2913043478260869,
             0.1904761904761904,
             0.1904761904761904
            ],
            "sizemode": "area",
            "sizeref": 0.00153125,
            "symbol": "circle"
           },
           "mode": "markers",
           "name": "Central and Eastern Europe",
           "orientation": "v",
           "showlegend": true,
           "type": "scatter",
           "x": [
            2.71,
            2.71,
            7.85,
            7.85,
            5.33,
            5.33,
            7.09,
            7.09,
            1.95,
            1.95
           ],
           "xaxis": "x5",
           "y": [
            0.1680672268907563,
            0.1680672268907563,
            0.2871287128712871,
            0.2871287128712871,
            0.1916666666666666,
            0.1916666666666666,
            0.2913043478260869,
            0.2913043478260869,
            0.1904761904761904,
            0.1904761904761904
           ],
           "yaxis": "y5"
          },
          {
           "customdata": [
            [
             "Guatemala",
             "2015"
            ],
            [
             "Guatemala",
             "2015"
            ],
            [
             "Guyana",
             "2015"
            ],
            [
             "Guyana",
             "2015"
            ],
            [
             "Guyana",
             "2015"
            ],
            [
             "Haiti",
             "2015"
            ],
            [
             "Haiti",
             "2015"
            ],
            [
             "Haiti",
             "2015"
            ],
            [
             "Suriname",
             "2015"
            ],
            [
             "Suriname",
             "2015"
            ],
            [
             "Suriname",
             "2015"
            ],
            [
             "Trinidad and Tobago",
             "2015"
            ],
            [
             "Trinidad and Tobago",
             "2015"
            ],
            [
             "Trinidad and Tobago",
             "2015"
            ]
           ],
           "hovertemplate": "Region=Latin America and the Caribbean<br>year=%{customdata[1]}<br>democracy_indx_score=%{x}<br>percent_W=%{marker.size}<br>Country=%{customdata[0]}<extra></extra>",
           "legendgroup": "Latin America and the Caribbean",
           "marker": {
            "color": "rgb(15, 133, 84)",
            "size": [
             0.189873417721519,
             0.189873417721519,
             0.3188405797101449,
             0.3188405797101449,
             0.3478260869565217,
             0.0254237288135593,
             0.0254237288135593,
             0.0254237288135593,
             0.2941176470588235,
             0.3137254901960784,
             0.2941176470588235,
             0.3095238095238095,
             0.3095238095238095,
             0.3095238095238095
            ],
            "sizemode": "area",
            "sizeref": 0.00153125,
            "symbol": "circle"
           },
           "mode": "markers",
           "name": "Latin America and the Caribbean",
           "orientation": "v",
           "showlegend": true,
           "type": "scatter",
           "x": [
            5.92,
            5.92,
            6.05,
            6.05,
            6.05,
            3.94,
            3.94,
            3.94,
            6.77,
            6.77,
            6.77,
            7.1,
            7.1,
            7.1
           ],
           "xaxis": "x4",
           "y": [
            0.189873417721519,
            0.189873417721519,
            0.3188405797101449,
            0.3188405797101449,
            0.3478260869565217,
            0.0254237288135593,
            0.0254237288135593,
            0.0254237288135593,
            0.2941176470588235,
            0.3137254901960784,
            0.2941176470588235,
            0.3095238095238095,
            0.3095238095238095,
            0.3095238095238095
           ],
           "yaxis": "y4"
          },
          {
           "customdata": [
            [
             "Myanmar",
             "2015"
            ],
            [
             "Myanmar",
             "2015"
            ],
            [
             "Myanmar",
             "2015"
            ],
            [
             "Singapore",
             "2015"
            ],
            [
             "Singapore",
             "2015"
            ],
            [
             "Singapore",
             "2015"
            ],
            [
             "Sri Lanka",
             "2015"
            ],
            [
             "Sri Lanka",
             "2015"
            ]
           ],
           "hovertemplate": "Region=Asia and Australasia<br>year=%{customdata[1]}<br>democracy_indx_score=%{x}<br>percent_W=%{marker.size}<br>Country=%{customdata[0]}<extra></extra>",
           "legendgroup": "Asia and Australasia",
           "marker": {
            "color": "rgb(115, 175, 72)",
            "size": [
             0.1131639722863741,
             0.1111111111111111,
             0.1131639722863741,
             0.23,
             0.23,
             0.24,
             0.0533333333333333,
             0.0533333333333333
            ],
            "sizemode": "area",
            "sizeref": 0.00153125,
            "symbol": "circle"
           },
           "mode": "markers",
           "name": "Asia and Australasia",
           "orientation": "v",
           "showlegend": true,
           "type": "scatter",
           "x": [
            4.14,
            4.14,
            4.14,
            6.14,
            6.14,
            6.14,
            6.42,
            6.42
           ],
           "xaxis": "x3",
           "y": [
            0.1131639722863741,
            0.1111111111111111,
            0.1131639722863741,
            0.23,
            0.23,
            0.24,
            0.0533333333333333,
            0.0533333333333333
           ],
           "yaxis": "y3"
          },
          {
           "customdata": [
            [
             "Egypt",
             "2015"
            ],
            [
             "Egypt",
             "2015"
            ],
            [
             "Egypt",
             "2015"
            ],
            [
             "Egypt",
             "2015"
            ],
            [
             "Israel",
             "2015"
            ],
            [
             "Israel",
             "2015"
            ],
            [
             "Oman",
             "2015"
            ],
            [
             "Oman",
             "2015"
            ],
            [
             "Sudan",
             "2015"
            ],
            [
             "Sudan",
             "2015"
            ],
            [
             "United Arab Emirates",
             "2015"
            ],
            [
             "United Arab Emirates",
             "2015"
            ]
           ],
           "hovertemplate": "Region=Middle East and North Africa<br>year=%{customdata[1]}<br>democracy_indx_score=%{x}<br>percent_W=%{marker.size}<br>Country=%{customdata[0]}<extra></extra>",
           "legendgroup": "Middle East and North Africa",
           "marker": {
            "color": "rgb(237, 173, 8)",
            "size": [
             0.1493288590604027,
             0.1510067114093959,
             0.1493288590604027,
             0.1510067114093959,
             0.2916666666666667,
             0.2916666666666667,
             0.0117647058823529,
             0.0117647058823529,
             0.2765072765072765,
             0.2765072765072765,
             0.225,
             0.225
            ],
            "sizemode": "area",
            "sizeref": 0.00153125,
            "symbol": "circle"
           },
           "mode": "markers",
           "name": "Middle East and North Africa",
           "orientation": "v",
           "showlegend": true,
           "type": "scatter",
           "x": [
            3.18,
            3.18,
            3.18,
            3.18,
            7.77,
            7.77,
            3.04,
            3.04,
            2.37,
            2.37,
            2.75,
            2.75
           ],
           "xaxis": "x2",
           "y": [
            0.1493288590604027,
            0.1510067114093959,
            0.1493288590604027,
            0.1510067114093959,
            0.2916666666666667,
            0.2916666666666667,
            0.0117647058823529,
            0.0117647058823529,
            0.2765072765072765,
            0.2765072765072765,
            0.225,
            0.225
           ],
           "yaxis": "y2"
          },
          {
           "customdata": [
            [
             "Benin",
             "2015"
            ],
            [
             "Benin",
             "2015"
            ],
            [
             "Burkina Faso",
             "2015"
            ],
            [
             "Burkina Faso",
             "2015"
            ],
            [
             "Burundi",
             "2015"
            ],
            [
             "Burundi",
             "2015"
            ],
            [
             "Comoros",
             "2015"
            ],
            [
             "Comoros",
             "2015"
            ],
            [
             "Ethiopia",
             "2015"
            ],
            [
             "Ethiopia",
             "2015"
            ],
            [
             "Nigeria",
             "2015"
            ]
           ],
           "hovertemplate": "Region=Sub-Saharan Africa<br>year=%{customdata[1]}<br>democracy_indx_score=%{x}<br>percent_W=%{marker.size}<br>Country=%{customdata[0]}<extra></extra>",
           "legendgroup": "Sub-Saharan Africa",
           "marker": {
            "color": "rgb(225, 124, 5)",
            "size": [
             0.072289156626506,
             0.072289156626506,
             0.1338582677165354,
             0.1338582677165354,
             0.3636363636363636,
             0.3636363636363636,
             0.0606060606060606,
             0.0606060606060606,
             0.3875685557586837,
             0.3875685557586837,
             0.0557103064066852
            ],
            "sizemode": "area",
            "sizeref": 0.00153125,
            "symbol": "circle"
           },
           "mode": "markers",
           "name": "Sub-Saharan Africa",
           "orientation": "v",
           "showlegend": true,
           "type": "scatter",
           "x": [
            5.72,
            5.72,
            4.7,
            4.7,
            2.49,
            2.49,
            3.71,
            3.71,
            3.83,
            3.83,
            3.85
           ],
           "xaxis": "x",
           "y": [
            0.072289156626506,
            0.072289156626506,
            0.1338582677165354,
            0.1338582677165354,
            0.3636363636363636,
            0.3636363636363636,
            0.0606060606060606,
            0.0606060606060606,
            0.3875685557586837,
            0.3875685557586837,
            0.0557103064066852
           ],
           "yaxis": "y"
          }
         ],
         "name": "2015"
        },
        {
         "data": [
          {
           "customdata": [
            [
             "Cyprus",
             "2016"
            ],
            [
             "Cyprus",
             "2016"
            ],
            [
             "Cyprus",
             "2016"
            ],
            [
             "Cyprus",
             "2016"
            ],
            [
             "Ireland",
             "2016"
            ],
            [
             "Ireland",
             "2016"
            ],
            [
             "Ireland",
             "2016"
            ],
            [
             "Spain",
             "2016"
            ],
            [
             "Spain",
             "2016"
            ]
           ],
           "hovertemplate": "Region=Western Europe<br>year=%{customdata[1]}<br>democracy_indx_score=%{x}<br>percent_W=%{marker.size}<br>Country=%{customdata[0]}<extra></extra>",
           "legendgroup": "Western Europe",
           "marker": {
            "color": "rgb(29, 105, 150)",
            "size": [
             0.1785714285714285,
             0.1964285714285714,
             0.1785714285714285,
             0.2142857142857142,
             0.2215189873417721,
             0.2215189873417721,
             0.2088607594936709,
             0.4114285714285714,
             0.4114285714285714
            ],
            "sizemode": "area",
            "sizeref": 0.00153125,
            "symbol": "circle"
           },
           "mode": "markers",
           "name": "Western Europe",
           "orientation": "v",
           "showlegend": true,
           "type": "scatter",
           "x": [
            7.65,
            7.65,
            7.65,
            7.65,
            9.15,
            9.15,
            9.15,
            8.3,
            8.3
           ],
           "xaxis": "x6",
           "y": [
            0.1785714285714285,
            0.1964285714285714,
            0.1785714285714285,
            0.2142857142857142,
            0.2215189873417721,
            0.2215189873417721,
            0.2088607594936709,
            0.4114285714285714,
            0.4114285714285714
           ],
           "yaxis": "y6"
          },
          {
           "customdata": [
            [
             "Belarus",
             "2016"
            ],
            [
             "Belarus",
             "2016"
            ],
            [
             "Belarus",
             "2016"
            ],
            [
             "Croatia",
             "2016"
            ],
            [
             "Croatia",
             "2016"
            ],
            [
             "Croatia",
             "2016"
            ],
            [
             "Georgia",
             "2016"
            ],
            [
             "Georgia",
             "2016"
            ],
            [
             "Georgia",
             "2016"
            ],
            [
             "Kazakhstan",
             "2016"
            ],
            [
             "Kazakhstan",
             "2016"
            ],
            [
             "Kazakhstan",
             "2016"
            ],
            [
             "Kazakhstan",
             "2016"
            ],
            [
             "Lithuania",
             "2016"
            ],
            [
             "Lithuania",
             "2016"
            ],
            [
             "Lithuania",
             "2016"
            ],
            [
             "Montenegro",
             "2016"
            ],
            [
             "Montenegro",
             "2016"
            ],
            [
             "Montenegro",
             "2016"
            ],
            [
             "Montenegro",
             "2016"
            ],
            [
             "North Macedonia",
             "2016"
            ],
            [
             "North Macedonia",
             "2016"
            ],
            [
             "North Macedonia",
             "2016"
            ],
            [
             "North Macedonia",
             "2016"
            ],
            [
             "Romania",
             "2016"
            ],
            [
             "Romania",
             "2016"
            ],
            [
             "Romania",
             "2016"
            ],
            [
             "Romania",
             "2016"
            ],
            [
             "Serbia",
             "2016"
            ],
            [
             "Serbia",
             "2016"
            ],
            [
             "Slovakia",
             "2016"
            ],
            [
             "Slovakia",
             "2016"
            ],
            [
             "Slovakia",
             "2016"
            ]
           ],
           "hovertemplate": "Region=Central and Eastern Europe<br>year=%{customdata[1]}<br>democracy_indx_score=%{x}<br>percent_W=%{marker.size}<br>Country=%{customdata[0]}<extra></extra>",
           "legendgroup": "Central and Eastern Europe",
           "marker": {
            "color": "rgb(56, 166, 165)",
            "size": [
             0.3454545454545454,
             0.3454545454545454,
             0.3454545454545454,
             0.2052980132450331,
             0.2052980132450331,
             0.1920529801324503,
             0.1476510067114094,
             0.1409395973154362,
             0.1476510067114094,
             0.2710280373831775,
             0.2710280373831775,
             0.2710280373831775,
             0.2710280373831775,
             0.2127659574468085,
             0.2411347517730496,
             0.2127659574468085,
             0.2345679012345679,
             0.2839506172839506,
             0.2345679012345679,
             0.2962962962962963,
             0.3916666666666666,
             0.3833333333333333,
             0.4,
             0.3833333333333333,
             0.2066869300911854,
             0.2188449848024316,
             0.2188449848024316,
             0.2066869300911854,
             0.3765182186234818,
             0.3765182186234818,
             0.2,
             0.2,
             0.2066666666666666
            ],
            "sizemode": "area",
            "sizeref": 0.00153125,
            "symbol": "circle"
           },
           "mode": "markers",
           "name": "Central and Eastern Europe",
           "orientation": "v",
           "showlegend": true,
           "type": "scatter",
           "x": [
            3.54,
            3.54,
            3.54,
            6.75,
            6.75,
            6.75,
            5.93,
            5.93,
            5.93,
            3.06,
            3.06,
            3.06,
            3.06,
            7.47,
            7.47,
            7.47,
            5.72,
            5.72,
            5.72,
            5.72,
            5.23,
            5.23,
            5.23,
            5.23,
            6.62,
            6.62,
            6.62,
            6.62,
            6.57,
            6.57,
            7.29,
            7.29,
            7.29
           ],
           "xaxis": "x5",
           "y": [
            0.3454545454545454,
            0.3454545454545454,
            0.3454545454545454,
            0.2052980132450331,
            0.2052980132450331,
            0.1920529801324503,
            0.1476510067114094,
            0.1409395973154362,
            0.1476510067114094,
            0.2710280373831775,
            0.2710280373831775,
            0.2710280373831775,
            0.2710280373831775,
            0.2127659574468085,
            0.2411347517730496,
            0.2127659574468085,
            0.2345679012345679,
            0.2839506172839506,
            0.2345679012345679,
            0.2962962962962963,
            0.3916666666666666,
            0.3833333333333333,
            0.4,
            0.3833333333333333,
            0.2066869300911854,
            0.2188449848024316,
            0.2188449848024316,
            0.2066869300911854,
            0.3765182186234818,
            0.3765182186234818,
            0.2,
            0.2,
            0.2066666666666666
           ],
           "yaxis": "y5"
          },
          {
           "customdata": [
            [
             "Dominican Republic",
             "2016"
            ],
            [
             "Dominican Republic",
             "2016"
            ],
            [
             "Dominican Republic",
             "2016"
            ],
            [
             "Jamaica",
             "2016"
            ],
            [
             "Jamaica",
             "2016"
            ],
            [
             "Nicaragua",
             "2016"
            ],
            [
             "Nicaragua",
             "2016"
            ],
            [
             "Nicaragua",
             "2016"
            ],
            [
             "Nicaragua",
             "2016"
            ],
            [
             "Nicaragua",
             "2016"
            ],
            [
             "Peru",
             "2016"
            ],
            [
             "Peru",
             "2016"
            ]
           ],
           "hovertemplate": "Region=Latin America and the Caribbean<br>year=%{customdata[1]}<br>democracy_indx_score=%{x}<br>percent_W=%{marker.size}<br>Country=%{customdata[0]}<extra></extra>",
           "legendgroup": "Latin America and the Caribbean",
           "marker": {
            "color": "rgb(15, 133, 84)",
            "size": [
             0.2684210526315789,
             0.2684210526315789,
             0.2789473684210526,
             0.1746031746031746,
             0.1746031746031746,
             0.4456521739130434,
             0.4725274725274725,
             0.5054945054945055,
             0.4456521739130434,
             0.4835164835164835,
             0.3,
             0.3
            ],
            "sizemode": "area",
            "sizeref": 0.00153125,
            "symbol": "circle"
           },
           "mode": "markers",
           "name": "Latin America and the Caribbean",
           "orientation": "v",
           "showlegend": true,
           "type": "scatter",
           "x": [
            6.67,
            6.67,
            6.67,
            7.39,
            7.39,
            4.81,
            4.81,
            4.81,
            4.81,
            4.81,
            6.65,
            6.65
           ],
           "xaxis": "x4",
           "y": [
            0.2684210526315789,
            0.2684210526315789,
            0.2789473684210526,
            0.1746031746031746,
            0.1746031746031746,
            0.4456521739130434,
            0.4725274725274725,
            0.5054945054945055,
            0.4456521739130434,
            0.4835164835164835,
            0.3,
            0.3
           ],
           "yaxis": "y4"
          },
          {
           "customdata": [
            [
             "Australia",
             "2016"
            ],
            [
             "Australia",
             "2016"
            ],
            [
             "Mongolia",
             "2016"
            ],
            [
             "Mongolia",
             "2016"
            ],
            [
             "Mongolia",
             "2016"
            ],
            [
             "Philippines",
             "2016"
            ],
            [
             "Philippines",
             "2016"
            ]
           ],
           "hovertemplate": "Region=Asia and Australasia<br>year=%{customdata[1]}<br>democracy_indx_score=%{x}<br>percent_W=%{marker.size}<br>Country=%{customdata[0]}<extra></extra>",
           "legendgroup": "Asia and Australasia",
           "marker": {
            "color": "rgb(115, 175, 72)",
            "size": [
             0.3,
             0.3,
             0.1710526315789473,
             0.1733333333333333,
             0.1710526315789473,
             0.2945205479452055,
             0.2945205479452055
            ],
            "sizemode": "area",
            "sizeref": 0.00153125,
            "symbol": "circle"
           },
           "mode": "markers",
           "name": "Asia and Australasia",
           "orientation": "v",
           "showlegend": true,
           "type": "scatter",
           "x": [
            9.01,
            9.01,
            6.62,
            6.62,
            6.62,
            6.94,
            6.94
           ],
           "xaxis": "x3",
           "y": [
            0.3,
            0.3,
            0.1710526315789473,
            0.1733333333333333,
            0.1710526315789473,
            0.2945205479452055,
            0.2945205479452055
           ],
           "yaxis": "y3"
          },
          {
           "customdata": [
            [
             "Jordan",
             "2016"
            ],
            [
             "Jordan",
             "2016"
            ],
            [
             "Jordan",
             "2016"
            ],
            [
             "Kuwait",
             "2016"
            ],
            [
             "Kuwait",
             "2016"
            ],
            [
             "Kuwait",
             "2016"
            ],
            [
             "Morocco",
             "2016"
            ],
            [
             "Morocco",
             "2016"
            ],
            [
             "Qatar",
             "2016"
            ],
            [
             "Saudi Arabia",
             "2016"
            ],
            [
             "Saudi Arabia",
             "2016"
            ]
           ],
           "hovertemplate": "Region=Middle East and North Africa<br>year=%{customdata[1]}<br>democracy_indx_score=%{x}<br>percent_W=%{marker.size}<br>Country=%{customdata[0]}<extra></extra>",
           "legendgroup": "Middle East and North Africa",
           "marker": {
            "color": "rgb(237, 173, 8)",
            "size": [
             0.1538461538461538,
             0.1538461538461538,
             0.1538461538461538,
             0.0461538461538461,
             0.0634920634920634,
             0.0461538461538461,
             0.2050632911392405,
             0.2050632911392405,
             0.0975609756097561,
             0.1986754966887417,
             0.1986754966887417
            ],
            "sizemode": "area",
            "sizeref": 0.00153125,
            "symbol": "circle"
           },
           "mode": "markers",
           "name": "Middle East and North Africa",
           "orientation": "v",
           "showlegend": true,
           "type": "scatter",
           "x": [
            3.96,
            3.96,
            3.96,
            3.85,
            3.85,
            3.85,
            4.77,
            4.77,
            3.18,
            1.93,
            1.93
           ],
           "xaxis": "x2",
           "y": [
            0.1538461538461538,
            0.1538461538461538,
            0.1538461538461538,
            0.0461538461538461,
            0.0634920634920634,
            0.0461538461538461,
            0.2050632911392405,
            0.2050632911392405,
            0.0975609756097561,
            0.1986754966887417,
            0.1986754966887417
           ],
           "yaxis": "y2"
          },
          {
           "customdata": [
            [
             "Central African Republic",
             "2016"
            ],
            [
             "Central African Republic",
             "2016"
            ],
            [
             "Ghana",
             "2016"
            ],
            [
             "Ghana",
             "2016"
            ],
            [
             "Niger",
             "2016"
            ],
            [
             "Niger",
             "2016"
            ],
            [
             "Uganda",
             "2016"
            ],
            [
             "Uganda",
             "2016"
            ],
            [
             "Zambia",
             "2016"
            ],
            [
             "Zambia",
             "2016"
            ],
            [
             "Zambia",
             "2016"
            ]
           ],
           "hovertemplate": "Region=Sub-Saharan Africa<br>year=%{customdata[1]}<br>democracy_indx_score=%{x}<br>percent_W=%{marker.size}<br>Country=%{customdata[0]}<extra></extra>",
           "legendgroup": "Sub-Saharan Africa",
           "marker": {
            "color": "rgb(225, 124, 5)",
            "size": [
             0.0857142857142857,
             0.0857142857142857,
             0.1309090909090909,
             0.1309090909090909,
             0.1695906432748538,
             0.1695906432748538,
             0.3485838779956427,
             0.3485838779956427,
             0.1796407185628742,
             0.1676646706586826,
             0.1796407185628742
            ],
            "sizemode": "area",
            "sizeref": 0.00153125,
            "symbol": "circle"
           },
           "mode": "markers",
           "name": "Sub-Saharan Africa",
           "orientation": "v",
           "showlegend": true,
           "type": "scatter",
           "x": [
            1.61,
            1.61,
            6.75,
            6.75,
            3.96,
            3.96,
            5.26,
            5.26,
            5.99,
            5.99,
            5.99
           ],
           "xaxis": "x",
           "y": [
            0.0857142857142857,
            0.0857142857142857,
            0.1309090909090909,
            0.1309090909090909,
            0.1695906432748538,
            0.1695906432748538,
            0.3485838779956427,
            0.3485838779956427,
            0.1796407185628742,
            0.1676646706586826,
            0.1796407185628742
           ],
           "yaxis": "y"
          }
         ],
         "name": "2016"
        },
        {
         "data": [
          {
           "customdata": [
            [
             "Austria",
             "2017"
            ],
            [
             "Austria",
             "2017"
            ],
            [
             "France",
             "2017"
            ],
            [
             "France",
             "2017"
            ],
            [
             "France",
             "2017"
            ],
            [
             "France",
             "2017"
            ],
            [
             "France",
             "2017"
            ],
            [
             "France",
             "2017"
            ],
            [
             "Germany",
             "2017"
            ],
            [
             "Germany",
             "2017"
            ],
            [
             "Germany",
             "2017"
            ],
            [
             "Germany",
             "2017"
            ],
            [
             "Germany",
             "2017"
            ],
            [
             "Iceland",
             "2017"
            ],
            [
             "Iceland",
             "2017"
            ],
            [
             "Iceland",
             "2017"
            ],
            [
             "Malta",
             "2017"
            ],
            [
             "Malta",
             "2017"
            ],
            [
             "Malta",
             "2017"
            ],
            [
             "Netherlands",
             "2017"
            ],
            [
             "Netherlands",
             "2017"
            ],
            [
             "Netherlands",
             "2017"
            ],
            [
             "Netherlands",
             "2017"
            ],
            [
             "Norway",
             "2017"
            ],
            [
             "Norway",
             "2017"
            ],
            [
             "Norway",
             "2017"
            ],
            [
             "Norway",
             "2017"
            ],
            [
             "United Kingdom",
             "2017"
            ],
            [
             "United Kingdom",
             "2017"
            ]
           ],
           "hovertemplate": "Region=Western Europe<br>year=%{customdata[1]}<br>democracy_indx_score=%{x}<br>percent_W=%{marker.size}<br>Country=%{customdata[0]}<extra></extra>",
           "legendgroup": "Western Europe",
           "marker": {
            "color": "rgb(29, 105, 150)",
            "size": [
             0.3715846994535519,
             0.3715846994535519,
             0.3968804159445407,
             0.3951473136915078,
             0.3951473136915078,
             0.3968804159445407,
             0.3951473136915078,
             0.3951473136915078,
             0.308885754583921,
             0.311706629055007,
             0.308885754583921,
             0.3145275035260931,
             0.3145275035260931,
             0.3809523809523809,
             0.3809523809523809,
             0.3968253968253968,
             0.1492537313432835,
             0.1343283582089552,
             0.1194029850746268,
             0.3133333333333333,
             0.3333333333333333,
             0.3133333333333333,
             0.3133333333333333,
             0.408284023668639,
             0.4142011834319526,
             0.408284023668639,
             0.4437869822485207,
             0.32,
             0.32
            ],
            "sizemode": "area",
            "sizeref": 0.00153125,
            "symbol": "circle"
           },
           "mode": "markers",
           "name": "Western Europe",
           "orientation": "v",
           "showlegend": true,
           "type": "scatter",
           "x": [
            8.42,
            8.42,
            7.8,
            7.8,
            7.8,
            7.8,
            7.8,
            7.8,
            8.61,
            8.61,
            8.61,
            8.61,
            8.61,
            9.58,
            9.58,
            9.58,
            8.15,
            8.15,
            8.15,
            8.89,
            8.89,
            8.89,
            8.89,
            9.87,
            9.87,
            9.87,
            9.87,
            8.53,
            8.53
           ],
           "xaxis": "x6",
           "y": [
            0.3715846994535519,
            0.3715846994535519,
            0.3968804159445407,
            0.3951473136915078,
            0.3951473136915078,
            0.3968804159445407,
            0.3951473136915078,
            0.3951473136915078,
            0.308885754583921,
            0.311706629055007,
            0.308885754583921,
            0.3145275035260931,
            0.3145275035260931,
            0.3809523809523809,
            0.3809523809523809,
            0.3968253968253968,
            0.1492537313432835,
            0.1343283582089552,
            0.1194029850746268,
            0.3133333333333333,
            0.3333333333333333,
            0.3133333333333333,
            0.3133333333333333,
            0.408284023668639,
            0.4142011834319526,
            0.408284023668639,
            0.4437869822485207,
            0.32,
            0.32
           ],
           "yaxis": "y6"
          },
          {
           "customdata": [
            [
             "Albania",
             "2017"
            ],
            [
             "Albania",
             "2017"
            ],
            [
             "Albania",
             "2017"
            ],
            [
             "Armenia",
             "2017"
            ],
            [
             "Bulgaria",
             "2017"
            ],
            [
             "Bulgaria",
             "2017"
            ],
            [
             "Bulgaria",
             "2017"
            ],
            [
             "Bulgaria",
             "2017"
            ],
            [
             "Czech Republic",
             "2017"
            ],
            [
             "Czech Republic",
             "2017"
            ],
            [
             "Czech Republic",
             "2017"
            ],
            [
             "Czech Republic",
             "2017"
            ],
            [
             "Czech Republic",
             "2017"
            ]
           ],
           "hovertemplate": "Region=Central and Eastern Europe<br>year=%{customdata[1]}<br>democracy_indx_score=%{x}<br>percent_W=%{marker.size}<br>Country=%{customdata[0]}<extra></extra>",
           "legendgroup": "Central and Eastern Europe",
           "marker": {
            "color": "rgb(56, 166, 165)",
            "size": [
             0.2950819672131147,
             0.2928571428571428,
             0.2928571428571428,
             0.2424242424242424,
             0.2583333333333333,
             0.2666666666666666,
             0.2583333333333333,
             0.2708333333333333,
             0.225,
             0.225,
             0.23,
             0.225,
             0.225
            ],
            "sizemode": "area",
            "sizeref": 0.00153125,
            "symbol": "circle"
           },
           "mode": "markers",
           "name": "Central and Eastern Europe",
           "orientation": "v",
           "showlegend": true,
           "type": "scatter",
           "x": [
            5.98,
            5.98,
            5.98,
            4.11,
            7.03,
            7.03,
            7.03,
            7.03,
            7.62,
            7.62,
            7.62,
            7.62,
            7.62
           ],
           "xaxis": "x5",
           "y": [
            0.2950819672131147,
            0.2928571428571428,
            0.2928571428571428,
            0.2424242424242424,
            0.2583333333333333,
            0.2666666666666666,
            0.2583333333333333,
            0.2708333333333333,
            0.225,
            0.225,
            0.23,
            0.225,
            0.225
           ],
           "yaxis": "y5"
          },
          {
           "customdata": [
            [
             "Argentina",
             "2017"
            ],
            [
             "Argentina",
             "2017"
            ],
            [
             "Argentina",
             "2017"
            ],
            [
             "Chile",
             "2017"
            ],
            [
             "Chile",
             "2017"
            ],
            [
             "Chile",
             "2017"
            ],
            [
             "Chile",
             "2017"
            ],
            [
             "Ecuador",
             "2017"
            ],
            [
             "Ecuador",
             "2017"
            ],
            [
             "Ecuador",
             "2017"
            ],
            [
             "Honduras",
             "2017"
            ],
            [
             "Honduras",
             "2017"
            ]
           ],
           "hovertemplate": "Region=Latin America and the Caribbean<br>year=%{customdata[1]}<br>democracy_indx_score=%{x}<br>percent_W=%{marker.size}<br>Country=%{customdata[0]}<extra></extra>",
           "legendgroup": "Latin America and the Caribbean",
           "marker": {
            "color": "rgb(15, 133, 84)",
            "size": [
             0.3891050583657587,
             0.388235294117647,
             0.388235294117647,
             0.2258064516129032,
             0.2258064516129032,
             0.2258064516129032,
             0.2258064516129032,
             0.3795620437956204,
             0.3941605839416058,
             0.3795620437956204,
             0.2109375,
             0.2109375
            ],
            "sizemode": "area",
            "sizeref": 0.00153125,
            "symbol": "circle"
           },
           "mode": "markers",
           "name": "Latin America and the Caribbean",
           "orientation": "v",
           "showlegend": true,
           "type": "scatter",
           "x": [
            6.96,
            6.96,
            6.96,
            7.84,
            7.84,
            7.84,
            7.84,
            6.02,
            6.02,
            6.02,
            5.72,
            5.72
           ],
           "xaxis": "x4",
           "y": [
            0.3891050583657587,
            0.388235294117647,
            0.388235294117647,
            0.2258064516129032,
            0.2258064516129032,
            0.2258064516129032,
            0.2258064516129032,
            0.3795620437956204,
            0.3941605839416058,
            0.3795620437956204,
            0.2109375,
            0.2109375
           ],
           "yaxis": "y4"
          },
          {
           "customdata": [
            [
             "Japan",
             "2017"
            ],
            [
             "Japan",
             "2017"
            ],
            [
             "Japan",
             "2017"
            ],
            [
             "Japan",
             "2017"
            ],
            [
             "Japan",
             "2017"
            ],
            [
             "Japan",
             "2017"
            ],
            [
             "Nepal",
             "2017"
            ],
            [
             "Nepal",
             "2017"
            ],
            [
             "Nepal",
             "2017"
            ],
            [
             "Nepal",
             "2017"
            ],
            [
             "Nepal",
             "2017"
            ],
            [
             "New Zealand",
             "2017"
            ],
            [
             "New Zealand",
             "2017"
            ],
            [
             "New Zealand",
             "2017"
            ],
            [
             "Papua New Guinea",
             "2017"
            ],
            [
             "Papua New Guinea",
             "2017"
            ],
            [
             "Papua New Guinea",
             "2017"
            ]
           ],
           "hovertemplate": "Region=Asia and Australasia<br>year=%{customdata[1]}<br>democracy_indx_score=%{x}<br>percent_W=%{marker.size}<br>Country=%{customdata[0]}<extra></extra>",
           "legendgroup": "Asia and Australasia",
           "marker": {
            "color": "rgb(115, 175, 72)",
            "size": [
             0.1010752688172043,
             0.0989247311827957,
             0.0991379310344827,
             0.101511879049676,
             0.0991379310344827,
             0.101511879049676,
             0.3272727272727272,
             0.3272727272727272,
             0.3357933579335793,
             0.3272727272727272,
             0.3357933579335793,
             0.4083333333333333,
             0.4,
             0.4,
             0,
             0,
             0
            ],
            "sizemode": "area",
            "sizeref": 0.00153125,
            "symbol": "circle"
           },
           "mode": "markers",
           "name": "Asia and Australasia",
           "orientation": "v",
           "showlegend": true,
           "type": "scatter",
           "x": [
            7.88,
            7.88,
            7.88,
            7.88,
            7.88,
            7.88,
            5.18,
            5.18,
            5.18,
            5.18,
            5.18,
            9.26,
            9.26,
            9.26,
            6.03,
            6.03,
            6.03
           ],
           "xaxis": "x3",
           "y": [
            0.1010752688172043,
            0.0989247311827957,
            0.0991379310344827,
            0.101511879049676,
            0.0991379310344827,
            0.101511879049676,
            0.3272727272727272,
            0.3272727272727272,
            0.3357933579335793,
            0.3272727272727272,
            0.3357933579335793,
            0.4083333333333333,
            0.4,
            0.4,
            0,
            0,
            0
           ],
           "yaxis": "y3"
          },
          {
           "customdata": [
            [
             "Algeria",
             "2017"
            ],
            [
             "Algeria",
             "2017"
            ],
            [
             "Algeria",
             "2017"
            ],
            [
             "Algeria",
             "2017"
            ]
           ],
           "hovertemplate": "Region=Middle East and North Africa<br>year=%{customdata[1]}<br>democracy_indx_score=%{x}<br>percent_W=%{marker.size}<br>Country=%{customdata[0]}<extra></extra>",
           "legendgroup": "Middle East and North Africa",
           "marker": {
            "color": "rgb(237, 173, 8)",
            "size": [
             0.2575757575757575,
             0.2575757575757575,
             0.2575757575757575,
             0.2597402597402597
            ],
            "sizemode": "area",
            "sizeref": 0.00153125,
            "symbol": "circle"
           },
           "mode": "markers",
           "name": "Middle East and North Africa",
           "orientation": "v",
           "showlegend": true,
           "type": "scatter",
           "x": [
            3.56,
            3.56,
            3.56,
            3.56
           ],
           "xaxis": "x2",
           "y": [
            0.2575757575757575,
            0.2575757575757575,
            0.2575757575757575,
            0.2597402597402597
           ],
           "yaxis": "y2"
          },
          {
           "customdata": [
            [
             "Angola",
             "2017"
            ],
            [
             "Angola",
             "2017"
            ],
            [
             "Angola",
             "2017"
            ],
            [
             "Equatorial Guinea",
             "2017"
            ],
            [
             "Equatorial Guinea",
             "2017"
            ],
            [
             "Equatorial Guinea",
             "2017"
            ],
            [
             "Equatorial Guinea",
             "2017"
            ],
            [
             "Equatorial Guinea",
             "2017"
            ],
            [
             "Gambia",
             "2017"
            ],
            [
             "Kenya",
             "2017"
            ],
            [
             "Kenya",
             "2017"
            ],
            [
             "Kenya",
             "2017"
            ],
            [
             "Kenya",
             "2017"
            ],
            [
             "Lesotho",
             "2017"
            ],
            [
             "Lesotho",
             "2017"
            ],
            [
             "Lesotho",
             "2017"
            ],
            [
             "Lesotho",
             "2017"
            ],
            [
             "Liberia",
             "2017"
            ],
            [
             "Liberia",
             "2017"
            ],
            [
             "Liberia",
             "2017"
            ],
            [
             "Liberia",
             "2017"
            ],
            [
             "Liberia",
             "2017"
            ],
            [
             "Senegal",
             "2017"
            ],
            [
             "Senegal",
             "2017"
            ],
            [
             "Senegal",
             "2017"
            ],
            [
             "Senegal",
             "2017"
            ]
           ],
           "hovertemplate": "Region=Sub-Saharan Africa<br>year=%{customdata[1]}<br>democracy_indx_score=%{x}<br>percent_W=%{marker.size}<br>Country=%{customdata[0]}<extra></extra>",
           "legendgroup": "Sub-Saharan Africa",
           "marker": {
            "color": "rgb(225, 124, 5)",
            "size": [
             0.3,
             0.2954545454545454,
             0.3,
             0.21,
             0.23,
             0.22,
             0.2,
             0.2,
             0.1034482758620689,
             0.2177650429799427,
             0.2161383285302593,
             0.2177650429799427,
             0.2142857142857142,
             0.2333333333333333,
             0.2333333333333333,
             0.2434782608695652,
             0.2333333333333333,
             0.1232876712328767,
             0.1232876712328767,
             0.1095890410958904,
             0.1232876712328767,
             0.1095890410958904,
             0.4181818181818181,
             0.4303030303030303,
             0.4181818181818181,
             0.4268292682926829
            ],
            "sizemode": "area",
            "sizeref": 0.00153125,
            "symbol": "circle"
           },
           "mode": "markers",
           "name": "Sub-Saharan Africa",
           "orientation": "v",
           "showlegend": true,
           "type": "scatter",
           "x": [
            3.62,
            3.62,
            3.62,
            1.81,
            1.81,
            1.81,
            1.81,
            1.81,
            4.06,
            5.11,
            5.11,
            5.11,
            5.11,
            6.64,
            6.64,
            6.64,
            6.64,
            5.23,
            5.23,
            5.23,
            5.23,
            5.23,
            6.15,
            6.15,
            6.15,
            6.15
           ],
           "xaxis": "x",
           "y": [
            0.3,
            0.2954545454545454,
            0.3,
            0.21,
            0.23,
            0.22,
            0.2,
            0.2,
            0.1034482758620689,
            0.2177650429799427,
            0.2161383285302593,
            0.2177650429799427,
            0.2142857142857142,
            0.2333333333333333,
            0.2333333333333333,
            0.2434782608695652,
            0.2333333333333333,
            0.1232876712328767,
            0.1232876712328767,
            0.1095890410958904,
            0.1232876712328767,
            0.1095890410958904,
            0.4181818181818181,
            0.4303030303030303,
            0.4181818181818181,
            0.4268292682926829
           ],
           "yaxis": "y"
          }
         ],
         "name": "2017"
        },
        {
         "data": [
          {
           "customdata": [
            [
             "Italy",
             "2018"
            ],
            [
             "Italy",
             "2018"
            ],
            [
             "Italy",
             "2018"
            ],
            [
             "Italy",
             "2018"
            ],
            [
             "Luxembourg",
             "2018"
            ],
            [
             "Luxembourg",
             "2018"
            ],
            [
             "Luxembourg",
             "2018"
            ],
            [
             "Luxembourg",
             "2018"
            ],
            [
             "Luxembourg",
             "2018"
            ],
            [
             "Luxembourg",
             "2018"
            ],
            [
             "Sweden",
             "2018"
            ],
            [
             "Sweden",
             "2018"
            ],
            [
             "Sweden",
             "2018"
            ],
            [
             "Sweden",
             "2018"
            ],
            [
             "Turkey",
             "2018"
            ]
           ],
           "hovertemplate": "Region=Western Europe<br>year=%{customdata[1]}<br>democracy_indx_score=%{x}<br>percent_W=%{marker.size}<br>Country=%{customdata[0]}<extra></extra>",
           "legendgroup": "Western Europe",
           "marker": {
            "color": "rgb(29, 105, 150)",
            "size": [
             0.3571428571428571,
             0.3571428571428571,
             0.3624801271860095,
             0.3634920634920635,
             0.25,
             0.3,
             0.35,
             0.3333333333333333,
             0.25,
             0.3166666666666666,
             0.4727793696275071,
             0.4699140401146132,
             0.4727793696275071,
             0.4613180515759312,
             0.174496644295302
            ],
            "sizemode": "area",
            "sizeref": 0.00153125,
            "symbol": "circle"
           },
           "mode": "markers",
           "name": "Western Europe",
           "orientation": "v",
           "showlegend": true,
           "type": "scatter",
           "x": [
            7.71,
            7.71,
            7.71,
            7.71,
            8.81,
            8.81,
            8.81,
            8.81,
            8.81,
            8.81,
            9.39,
            9.39,
            9.39,
            9.39,
            4.37
           ],
           "xaxis": "x6",
           "y": [
            0.3571428571428571,
            0.3571428571428571,
            0.3624801271860095,
            0.3634920634920635,
            0.25,
            0.3,
            0.35,
            0.3333333333333333,
            0.25,
            0.3166666666666666,
            0.4727793696275071,
            0.4699140401146132,
            0.4727793696275071,
            0.4613180515759312,
            0.174496644295302
           ],
           "yaxis": "y6"
          },
          {
           "customdata": [
            [
             "Armenia",
             "2018"
            ],
            [
             "Armenia",
             "2018"
            ],
            [
             "Armenia",
             "2018"
            ],
            [
             "Armenia",
             "2018"
            ],
            [
             "Bosnia and Herzegovina",
             "2018"
            ],
            [
             "Bosnia and Herzegovina",
             "2018"
            ],
            [
             "Bosnia and Herzegovina",
             "2018"
            ],
            [
             "Hungary",
             "2018"
            ],
            [
             "Hungary",
             "2018"
            ],
            [
             "Hungary",
             "2018"
            ],
            [
             "Hungary",
             "2018"
            ],
            [
             "Latvia",
             "2018"
            ],
            [
             "Latvia",
             "2018"
            ],
            [
             "Latvia",
             "2018"
            ],
            [
             "Latvia",
             "2018"
            ],
            [
             "Slovenia",
             "2018"
            ],
            [
             "Slovenia",
             "2018"
            ],
            [
             "Slovenia",
             "2018"
            ],
            [
             "Slovenia",
             "2018"
            ],
            [
             "Slovenia",
             "2018"
            ],
            [
             "Turkmenistan",
             "2018"
            ],
            [
             "Turkmenistan",
             "2018"
            ],
            [
             "Turkmenistan",
             "2018"
            ],
            [
             "Turkmenistan",
             "2018"
            ],
            [
             "Turkmenistan",
             "2018"
            ]
           ],
           "hovertemplate": "Region=Central and Eastern Europe<br>year=%{customdata[1]}<br>democracy_indx_score=%{x}<br>percent_W=%{marker.size}<br>Country=%{customdata[0]}<extra></extra>",
           "legendgroup": "Central and Eastern Europe",
           "marker": {
            "color": "rgb(56, 166, 165)",
            "size": [
             0.2424242424242424,
             0.2348484848484848,
             0.2424242424242424,
             0.2272727272727272,
             0.2142857142857142,
             0.2619047619047619,
             0.2142857142857142,
             0.1256281407035175,
             0.1206030150753768,
             0.1306532663316583,
             0.1256281407035175,
             0.3,
             0.29,
             0.27,
             0.31,
             0.2777777777777778,
             0.2666666666666666,
             0.2444444444444444,
             0.2888888888888888,
             0.2444444444444444,
             0.25,
             0.25,
             0.2586206896551724,
             0.25,
             0.25
            ],
            "sizemode": "area",
            "sizeref": 0.00153125,
            "symbol": "circle"
           },
           "mode": "markers",
           "name": "Central and Eastern Europe",
           "orientation": "v",
           "showlegend": true,
           "type": "scatter",
           "x": [
            4.79,
            4.79,
            4.79,
            4.79,
            4.98,
            4.98,
            4.98,
            6.63,
            6.63,
            6.63,
            6.63,
            7.38,
            7.38,
            7.38,
            7.38,
            7.5,
            7.5,
            7.5,
            7.5,
            7.5,
            1.72,
            1.72,
            1.72,
            1.72,
            1.72
           ],
           "xaxis": "x5",
           "y": [
            0.2424242424242424,
            0.2348484848484848,
            0.2424242424242424,
            0.2272727272727272,
            0.2142857142857142,
            0.2619047619047619,
            0.2142857142857142,
            0.1256281407035175,
            0.1206030150753768,
            0.1306532663316583,
            0.1256281407035175,
            0.3,
            0.29,
            0.27,
            0.31,
            0.2777777777777778,
            0.2666666666666666,
            0.2444444444444444,
            0.2888888888888888,
            0.2444444444444444,
            0.25,
            0.25,
            0.2586206896551724,
            0.25,
            0.25
           ],
           "yaxis": "y5"
          },
          {
           "customdata": [
            [
             "Brazil",
             "2018"
            ],
            [
             "Brazil",
             "2018"
            ],
            [
             "Brazil",
             "2018"
            ],
            [
             "Brazil",
             "2018"
            ],
            [
             "Brazil",
             "2018"
            ],
            [
             "Brazil",
             "2018"
            ],
            [
             "Colombia",
             "2018"
            ],
            [
             "Colombia",
             "2018"
            ],
            [
             "Colombia",
             "2018"
            ],
            [
             "Colombia",
             "2018"
            ],
            [
             "Colombia",
             "2018"
            ],
            [
             "Colombia",
             "2018"
            ],
            [
             "Costa Rica",
             "2018"
            ],
            [
             "Costa Rica",
             "2018"
            ],
            [
             "Costa Rica",
             "2018"
            ],
            [
             "Cuba",
             "2018"
            ],
            [
             "Cuba",
             "2018"
            ],
            [
             "Cuba",
             "2018"
            ],
            [
             "El Salvador",
             "2018"
            ],
            [
             "El Salvador",
             "2018"
            ],
            [
             "El Salvador",
             "2018"
            ],
            [
             "Mexico",
             "2018"
            ],
            [
             "Mexico",
             "2018"
            ],
            [
             "Paraguay",
             "2018"
            ],
            [
             "Paraguay",
             "2018"
            ],
            [
             "Paraguay",
             "2018"
            ],
            [
             "Paraguay",
             "2018"
            ],
            [
             "Paraguay",
             "2018"
            ],
            [
             "Paraguay",
             "2018"
            ]
           ],
           "hovertemplate": "Region=Latin America and the Caribbean<br>year=%{customdata[1]}<br>democracy_indx_score=%{x}<br>percent_W=%{marker.size}<br>Country=%{customdata[0]}<extra></extra>",
           "legendgroup": "Latin America and the Caribbean",
           "marker": {
            "color": "rgb(15, 133, 84)",
            "size": [
             0.1500974658869395,
             0.1461988304093567,
             0.1520467836257309,
             0.1481481481481481,
             0.1461988304093567,
             0.1500974658869395,
             0.1871345029239766,
             0.1834319526627219,
             0.188235294117647,
             0.1812865497076023,
             0.18562874251497,
             0.1871345029239766,
             0.4561403508771929,
             0.4561403508771929,
             0.4385964912280701,
             0.5322314049586777,
             0.5341296928327645,
             0.5322314049586777,
             0.3095238095238095,
             0.3333333333333333,
             0.3095238095238095,
             0.482,
             0.482,
             0.15,
             0.1625,
             0.1625,
             0.175,
             0.15,
             0.15
            ],
            "sizemode": "area",
            "sizeref": 0.00153125,
            "symbol": "circle"
           },
           "mode": "markers",
           "name": "Latin America and the Caribbean",
           "orientation": "v",
           "showlegend": true,
           "type": "scatter",
           "x": [
            6.97,
            6.97,
            6.97,
            6.97,
            6.97,
            6.97,
            6.96,
            6.96,
            6.96,
            6.96,
            6.96,
            6.96,
            8.07,
            8.07,
            8.07,
            3,
            3,
            3,
            5.96,
            5.96,
            5.96,
            6.19,
            6.19,
            6.24,
            6.24,
            6.24,
            6.24,
            6.24,
            6.24
           ],
           "xaxis": "x4",
           "y": [
            0.1500974658869395,
            0.1461988304093567,
            0.1520467836257309,
            0.1481481481481481,
            0.1461988304093567,
            0.1500974658869395,
            0.1871345029239766,
            0.1834319526627219,
            0.188235294117647,
            0.1812865497076023,
            0.18562874251497,
            0.1871345029239766,
            0.4561403508771929,
            0.4561403508771929,
            0.4385964912280701,
            0.5322314049586777,
            0.5341296928327645,
            0.5322314049586777,
            0.3095238095238095,
            0.3333333333333333,
            0.3095238095238095,
            0.482,
            0.482,
            0.15,
            0.1625,
            0.1625,
            0.175,
            0.15,
            0.15
           ],
           "yaxis": "y4"
          },
          {
           "customdata": [
            [
             "Afghanistan",
             "2018"
            ],
            [
             "Afghanistan",
             "2018"
            ],
            [
             "Afghanistan",
             "2018"
            ],
            [
             "Afghanistan",
             "2018"
            ],
            [
             "Afghanistan",
             "2018"
            ],
            [
             "Bangladesh",
             "2018"
            ],
            [
             "Bangladesh",
             "2018"
            ],
            [
             "Bangladesh",
             "2018"
            ],
            [
             "Bangladesh",
             "2018"
            ],
            [
             "Bhutan",
             "2018"
            ],
            [
             "Bhutan",
             "2018"
            ],
            [
             "Bhutan",
             "2018"
            ],
            [
             "Bhutan",
             "2018"
            ],
            [
             "Cambodia",
             "2018"
            ],
            [
             "Cambodia",
             "2018"
            ],
            [
             "Cambodia",
             "2018"
            ],
            [
             "Cambodia",
             "2018"
            ],
            [
             "Cambodia",
             "2018"
            ],
            [
             "China",
             "2018"
            ],
            [
             "China",
             "2018"
            ],
            [
             "Fiji",
             "2018"
            ],
            [
             "Fiji",
             "2018"
            ],
            [
             "Fiji",
             "2018"
            ],
            [
             "Malaysia",
             "2018"
            ],
            [
             "Malaysia",
             "2018"
            ],
            [
             "Malaysia",
             "2018"
            ],
            [
             "Malaysia",
             "2018"
            ],
            [
             "Malaysia",
             "2018"
            ],
            [
             "Malaysia",
             "2018"
            ],
            [
             "Malaysia",
             "2018"
            ],
            [
             "Malaysia",
             "2018"
            ],
            [
             "Pakistan",
             "2018"
            ],
            [
             "Pakistan",
             "2018"
            ],
            [
             "Pakistan",
             "2018"
            ],
            [
             "Pakistan",
             "2018"
            ],
            [
             "Pakistan",
             "2018"
            ],
            [
             "Pakistan",
             "2018"
            ]
           ],
           "hovertemplate": "Region=Asia and Australasia<br>year=%{customdata[1]}<br>democracy_indx_score=%{x}<br>percent_W=%{marker.size}<br>Country=%{customdata[0]}<extra></extra>",
           "legendgroup": "Asia and Australasia",
           "marker": {
            "color": "rgb(115, 175, 72)",
            "size": [
             0.2786885245901639,
             0.2701612903225806,
             0.236,
             0.2796208530805687,
             0.2796208530805687,
             0.2063037249283667,
             0.2091690544412607,
             0.2085714285714285,
             0.2068965517241379,
             0.1489361702127659,
             0.1702127659574468,
             0.1739130434782608,
             0.1489361702127659,
             0.2,
             0.2,
             0.216,
             0.208,
             0.2,
             0.2494117647058823,
             0.2494117647058823,
             0.196078431372549,
             0.2156862745098039,
             0.196078431372549,
             0.1441441441441441,
             0.1486486486486486,
             0.1486486486486486,
             0.15,
             0.1486486486486486,
             0.1441441441441441,
             0.1486486486486486,
             0.1441441441441441,
             0.2023460410557184,
             0.2017543859649122,
             0.2017543859649122,
             0.2046783625730994,
             0.2023460410557184,
             0.2023460410557184
            ],
            "sizemode": "area",
            "sizeref": 0.00153125,
            "symbol": "circle"
           },
           "mode": "markers",
           "name": "Asia and Australasia",
           "orientation": "v",
           "showlegend": true,
           "type": "scatter",
           "x": [
            2.97,
            2.97,
            2.97,
            2.97,
            2.97,
            5.57,
            5.57,
            5.57,
            5.57,
            5.3,
            5.3,
            5.3,
            5.3,
            3.59,
            3.59,
            3.59,
            3.59,
            3.59,
            3.32,
            3.32,
            5.85,
            5.85,
            5.85,
            6.88,
            6.88,
            6.88,
            6.88,
            6.88,
            6.88,
            6.88,
            6.88,
            4.17,
            4.17,
            4.17,
            4.17,
            4.17,
            4.17
           ],
           "xaxis": "x3",
           "y": [
            0.2786885245901639,
            0.2701612903225806,
            0.236,
            0.2796208530805687,
            0.2796208530805687,
            0.2063037249283667,
            0.2091690544412607,
            0.2085714285714285,
            0.2068965517241379,
            0.1489361702127659,
            0.1702127659574468,
            0.1739130434782608,
            0.1489361702127659,
            0.2,
            0.2,
            0.216,
            0.208,
            0.2,
            0.2494117647058823,
            0.2494117647058823,
            0.196078431372549,
            0.2156862745098039,
            0.196078431372549,
            0.1441441441441441,
            0.1486486486486486,
            0.1486486486486486,
            0.15,
            0.1486486486486486,
            0.1441441441441441,
            0.1486486486486486,
            0.1441441441441441,
            0.2023460410557184,
            0.2017543859649122,
            0.2017543859649122,
            0.2046783625730994,
            0.2023460410557184,
            0.2023460410557184
           ],
           "yaxis": "y3"
          },
          {
           "customdata": [
            [
             "Bahrain",
             "2018"
            ],
            [
             "Bahrain",
             "2018"
            ],
            [
             "Iraq",
             "2018"
            ],
            [
             "Iraq",
             "2018"
            ],
            [
             "Iraq",
             "2018"
            ],
            [
             "Lebanon",
             "2018"
            ],
            [
             "Lebanon",
             "2018"
            ],
            [
             "Lebanon",
             "2018"
            ]
           ],
           "hovertemplate": "Region=Middle East and North Africa<br>year=%{customdata[1]}<br>democracy_indx_score=%{x}<br>percent_W=%{marker.size}<br>Country=%{customdata[0]}<extra></extra>",
           "legendgroup": "Middle East and North Africa",
           "marker": {
            "color": "rgb(237, 173, 8)",
            "size": [
             0.15,
             0.15,
             0.2522796352583586,
             0.2644376899696048,
             0.2522796352583586,
             0.046875,
             0.046875,
             0.0393700787401574
            ],
            "sizemode": "area",
            "sizeref": 0.00153125,
            "symbol": "circle"
           },
           "mode": "markers",
           "name": "Middle East and North Africa",
           "orientation": "v",
           "showlegend": true,
           "type": "scatter",
           "x": [
            2.71,
            2.71,
            4.06,
            4.06,
            4.06,
            4.63,
            4.63,
            4.63
           ],
           "xaxis": "x2",
           "y": [
            0.15,
            0.15,
            0.2522796352583586,
            0.2644376899696048,
            0.2522796352583586,
            0.046875,
            0.046875,
            0.0393700787401574
           ],
           "yaxis": "y2"
          },
          {
           "customdata": [
            [
             "Democratic Republic of the Congo",
             "2018"
            ],
            [
             "Democratic Republic of the Congo",
             "2018"
            ],
            [
             "Democratic Republic of the Congo",
             "2018"
            ],
            [
             "Democratic Republic of the Congo",
             "2018"
            ],
            [
             "Democratic Republic of the Congo",
             "2018"
            ],
            [
             "Democratic Republic of the Congo",
             "2018"
            ],
            [
             "Djibouti",
             "2018"
            ],
            [
             "Djibouti",
             "2018"
            ],
            [
             "Eswatini",
             "2018"
            ],
            [
             "Eswatini",
             "2018"
            ],
            [
             "Eswatini",
             "2018"
            ],
            [
             "Eswatini",
             "2018"
            ],
            [
             "Eswatini",
             "2018"
            ],
            [
             "Eswatini",
             "2018"
            ],
            [
             "Gabon",
             "2018"
            ],
            [
             "Gabon",
             "2018"
            ],
            [
             "Gabon",
             "2018"
            ],
            [
             "Gabon",
             "2018"
            ],
            [
             "Gabon",
             "2018"
            ],
            [
             "Gabon",
             "2018"
            ],
            [
             "Gabon",
             "2018"
            ],
            [
             "Mauritania",
             "2018"
            ],
            [
             "Mauritania",
             "2018"
            ],
            [
             "Rwanda",
             "2018"
            ],
            [
             "Rwanda",
             "2018"
            ],
            [
             "Rwanda",
             "2018"
            ],
            [
             "Rwanda",
             "2018"
            ],
            [
             "Sierra Leone",
             "2018"
            ],
            [
             "Sierra Leone",
             "2018"
            ],
            [
             "Togo",
             "2018"
            ],
            [
             "Togo",
             "2018"
            ],
            [
             "Togo",
             "2018"
            ],
            [
             "Zimbabwe",
             "2018"
            ],
            [
             "Zimbabwe",
             "2018"
            ],
            [
             "Zimbabwe",
             "2018"
            ]
           ],
           "hovertemplate": "Region=Sub-Saharan Africa<br>year=%{customdata[1]}<br>democracy_indx_score=%{x}<br>percent_W=%{marker.size}<br>Country=%{customdata[0]}<extra></extra>",
           "legendgroup": "Sub-Saharan Africa",
           "marker": {
            "color": "rgb(225, 124, 5)",
            "size": [
             0.1,
             0.128,
             0.128,
             0.1030927835051546,
             0.1030927835051546,
             0.1,
             0.2615384615384615,
             0.2615384615384615,
             0.072463768115942,
             0.0958904109589041,
             0.1351351351351351,
             0.072463768115942,
             0.0958904109589041,
             0.1216216216216216,
             0.1791044776119403,
             0.1478873239436619,
             0.1619718309859155,
             0.1538461538461538,
             0.1791044776119403,
             0.1619718309859155,
             0.1619718309859155,
             0.2026143790849673,
             0.2026143790849673,
             0.6125,
             0.6125,
             0.6125,
             0.6125,
             0.1232876712328767,
             0.1232876712328767,
             0.1648351648351648,
             0.1868131868131868,
             0.1648351648351648,
             0.3185185185185185,
             0.3056603773584905,
             0.3185185185185185
            ],
            "sizemode": "area",
            "sizeref": 0.00153125,
            "symbol": "circle"
           },
           "mode": "markers",
           "name": "Sub-Saharan Africa",
           "orientation": "v",
           "showlegend": true,
           "type": "scatter",
           "x": [
            1.49,
            1.49,
            1.49,
            1.49,
            1.49,
            1.49,
            2.87,
            2.87,
            3.03,
            3.03,
            3.03,
            3.03,
            3.03,
            3.03,
            3.61,
            3.61,
            3.61,
            3.61,
            3.61,
            3.61,
            3.61,
            3.82,
            3.82,
            3.35,
            3.35,
            3.35,
            3.35,
            4.66,
            4.66,
            3.1,
            3.1,
            3.1,
            3.16,
            3.16,
            3.16
           ],
           "xaxis": "x",
           "y": [
            0.1,
            0.128,
            0.128,
            0.1030927835051546,
            0.1030927835051546,
            0.1,
            0.2615384615384615,
            0.2615384615384615,
            0.072463768115942,
            0.0958904109589041,
            0.1351351351351351,
            0.072463768115942,
            0.0958904109589041,
            0.1216216216216216,
            0.1791044776119403,
            0.1478873239436619,
            0.1619718309859155,
            0.1538461538461538,
            0.1791044776119403,
            0.1619718309859155,
            0.1619718309859155,
            0.2026143790849673,
            0.2026143790849673,
            0.6125,
            0.6125,
            0.6125,
            0.6125,
            0.1232876712328767,
            0.1232876712328767,
            0.1648351648351648,
            0.1868131868131868,
            0.1648351648351648,
            0.3185185185185185,
            0.3056603773584905,
            0.3185185185185185
           ],
           "yaxis": "y"
          }
         ],
         "name": "2018"
        },
        {
         "data": [
          {
           "customdata": [
            [
             "Canada",
             "2019"
            ],
            [
             "Canada",
             "2019"
            ],
            [
             "Canada",
             "2019"
            ],
            [
             "Canada",
             "2019"
            ],
            [
             "Canada",
             "2019"
            ],
            [
             "Canada",
             "2019"
            ]
           ],
           "hovertemplate": "Region=North America<br>year=%{customdata[1]}<br>democracy_indx_score=%{x}<br>percent_W=%{marker.size}<br>Country=%{customdata[0]}<extra></extra>",
           "legendgroup": "North America",
           "marker": {
            "color": "rgb(95, 70, 144)",
            "size": [
             0.2899408284023668,
             0.2899408284023668,
             0.2899408284023668,
             0.2958579881656805,
             0.2958579881656805,
             0.2958579881656805
            ],
            "sizemode": "area",
            "sizeref": 0.00153125,
            "symbol": "circle"
           },
           "mode": "markers",
           "name": "North America",
           "orientation": "v",
           "showlegend": true,
           "type": "scatter",
           "x": [
            9.22,
            9.22,
            9.22,
            9.22,
            9.22,
            9.22
           ],
           "xaxis": "x7",
           "y": [
            0.2899408284023668,
            0.2899408284023668,
            0.2899408284023668,
            0.2958579881656805,
            0.2958579881656805,
            0.2958579881656805
           ],
           "yaxis": "y7"
          },
          {
           "customdata": [
            [
             "Austria",
             "2019"
            ],
            [
             "Austria",
             "2019"
            ],
            [
             "Austria",
             "2019"
            ],
            [
             "Austria",
             "2019"
            ],
            [
             "Austria",
             "2019"
            ],
            [
             "Austria",
             "2019"
            ],
            [
             "Belgium",
             "2019"
            ],
            [
             "Belgium",
             "2019"
            ],
            [
             "Belgium",
             "2019"
            ],
            [
             "Belgium",
             "2019"
            ],
            [
             "Belgium",
             "2019"
            ],
            [
             "Belgium",
             "2019"
            ],
            [
             "Belgium",
             "2019"
            ],
            [
             "Belgium",
             "2019"
            ],
            [
             "Belgium",
             "2019"
            ],
            [
             "Denmark",
             "2019"
            ],
            [
             "Denmark",
             "2019"
            ],
            [
             "Finland",
             "2019"
            ],
            [
             "Finland",
             "2019"
            ],
            [
             "Finland",
             "2019"
            ],
            [
             "Greece",
             "2019"
            ],
            [
             "Greece",
             "2019"
            ],
            [
             "Greece",
             "2019"
            ],
            [
             "Portugal",
             "2019"
            ],
            [
             "Portugal",
             "2019"
            ],
            [
             "Spain",
             "2019"
            ],
            [
             "Spain",
             "2019"
            ],
            [
             "Spain",
             "2019"
            ],
            [
             "Spain",
             "2019"
            ],
            [
             "Spain",
             "2019"
            ],
            [
             "Spain",
             "2019"
            ],
            [
             "Spain",
             "2019"
            ],
            [
             "Switzerland",
             "2019"
            ],
            [
             "Switzerland",
             "2019"
            ],
            [
             "Switzerland",
             "2019"
            ],
            [
             "United Kingdom",
             "2019"
            ],
            [
             "United Kingdom",
             "2019"
            ],
            [
             "United Kingdom",
             "2019"
            ],
            [
             "United Kingdom",
             "2019"
            ],
            [
             "United Kingdom",
             "2019"
            ],
            [
             "United Kingdom",
             "2019"
            ],
            [
             "United Kingdom",
             "2019"
            ],
            [
             "United Kingdom",
             "2019"
            ],
            [
             "United Kingdom",
             "2019"
            ],
            [
             "United Kingdom",
             "2019"
            ],
            [
             "United Kingdom",
             "2019"
            ],
            [
             "United Kingdom",
             "2019"
            ],
            [
             "United Kingdom",
             "2019"
            ]
           ],
           "hovertemplate": "Region=Western Europe<br>year=%{customdata[1]}<br>democracy_indx_score=%{x}<br>percent_W=%{marker.size}<br>Country=%{customdata[0]}<extra></extra>",
           "legendgroup": "Western Europe",
           "marker": {
            "color": "rgb(29, 105, 150)",
            "size": [
             0.3934426229508196,
             0.4043715846994535,
             0.4098360655737705,
             0.3934426229508196,
             0.3989071038251366,
             0.4153005464480874,
             0.42,
             0.4066666666666667,
             0.42,
             0.4266666666666667,
             0.4133333333333333,
             0.42,
             0.4266666666666667,
             0.42,
             0.4266666666666667,
             0.3910614525139664,
             0.3966480446927374,
             0.47,
             0.46,
             0.455,
             0.2066666666666666,
             0.2166666666666666,
             0.21,
             0.4,
             0.3869565217391304,
             0.4742857142857143,
             0.44,
             0.4342857142857143,
             0.4297994269340974,
             0.44,
             0.4742857142857143,
             0.4742857142857143,
             0.415,
             0.42,
             0.425,
             0.3384615384615385,
             0.3415384615384615,
             0.3461538461538461,
             0.3425925925925926,
             0.3466872110939907,
             0.3384615384615385,
             0.3384615384615385,
             0.3436055469953775,
             0.3441358024691358,
             0.3451463790446841,
             0.3472222222222222,
             0.3395061728395062,
             0.3405238828967643
            ],
            "sizemode": "area",
            "sizeref": 0.00153125,
            "symbol": "circle"
           },
           "mode": "markers",
           "name": "Western Europe",
           "orientation": "v",
           "showlegend": true,
           "type": "scatter",
           "x": [
            8.29,
            8.29,
            8.29,
            8.29,
            8.29,
            8.29,
            7.64,
            7.64,
            7.64,
            7.64,
            7.64,
            7.64,
            7.64,
            7.64,
            7.64,
            9.22,
            9.22,
            9.25,
            9.25,
            9.25,
            7.43,
            7.43,
            7.43,
            8.03,
            8.03,
            8.29,
            8.29,
            8.29,
            8.29,
            8.29,
            8.29,
            8.29,
            9.03,
            9.03,
            9.03,
            8.52,
            8.52,
            8.52,
            8.52,
            8.52,
            8.52,
            8.52,
            8.52,
            8.52,
            8.52,
            8.52,
            8.52,
            8.52
           ],
           "xaxis": "x6",
           "y": [
            0.3934426229508196,
            0.4043715846994535,
            0.4098360655737705,
            0.3934426229508196,
            0.3989071038251366,
            0.4153005464480874,
            0.42,
            0.4066666666666667,
            0.42,
            0.4266666666666667,
            0.4133333333333333,
            0.42,
            0.4266666666666667,
            0.42,
            0.4266666666666667,
            0.3910614525139664,
            0.3966480446927374,
            0.47,
            0.46,
            0.455,
            0.2066666666666666,
            0.2166666666666666,
            0.21,
            0.4,
            0.3869565217391304,
            0.4742857142857143,
            0.44,
            0.4342857142857143,
            0.4297994269340974,
            0.44,
            0.4742857142857143,
            0.4742857142857143,
            0.415,
            0.42,
            0.425,
            0.3384615384615385,
            0.3415384615384615,
            0.3461538461538461,
            0.3425925925925926,
            0.3466872110939907,
            0.3384615384615385,
            0.3384615384615385,
            0.3436055469953775,
            0.3441358024691358,
            0.3451463790446841,
            0.3472222222222222,
            0.3395061728395062,
            0.3405238828967643
           ],
           "yaxis": "y6"
          },
          {
           "customdata": [
            [
             "Belarus",
             "2019"
            ],
            [
             "Belarus",
             "2019"
            ],
            [
             "Estonia",
             "2019"
            ],
            [
             "Estonia",
             "2019"
            ],
            [
             "Estonia",
             "2019"
            ],
            [
             "Estonia",
             "2019"
            ],
            [
             "Poland",
             "2019"
            ],
            [
             "Poland",
             "2019"
            ],
            [
             "Poland",
             "2019"
            ],
            [
             "Ukraine",
             "2019"
            ],
            [
             "Ukraine",
             "2019"
            ],
            [
             "Ukraine",
             "2019"
            ],
            [
             "Uzbekistan",
             "2019"
            ],
            [
             "Uzbekistan",
             "2019"
            ],
            [
             "Uzbekistan",
             "2019"
            ],
            [
             "Uzbekistan",
             "2019"
            ]
           ],
           "hovertemplate": "Region=Central and Eastern Europe<br>year=%{customdata[1]}<br>democracy_indx_score=%{x}<br>percent_W=%{marker.size}<br>Country=%{customdata[0]}<extra></extra>",
           "legendgroup": "Central and Eastern Europe",
           "marker": {
            "color": "rgb(56, 166, 165)",
            "size": [
             0.4,
             0.4,
             0.297029702970297,
             0.2871287128712871,
             0.2574257425742574,
             0.2772277227722772,
             0.2869565217391304,
             0.2832244008714596,
             0.2826086956521739,
             0.205188679245283,
             0.2080378250591016,
             0.2033096926713948,
             0.32,
             0.3265306122448979,
             0.3333333333333333,
             0.32
            ],
            "sizemode": "area",
            "sizeref": 0.00153125,
            "symbol": "circle"
           },
           "mode": "markers",
           "name": "Central and Eastern Europe",
           "orientation": "v",
           "showlegend": true,
           "type": "scatter",
           "x": [
            2.48,
            2.48,
            7.9,
            7.9,
            7.9,
            7.9,
            6.62,
            6.62,
            6.62,
            5.9,
            5.9,
            5.9,
            2.01,
            2.01,
            2.01,
            2.01
           ],
           "xaxis": "x5",
           "y": [
            0.4,
            0.4,
            0.297029702970297,
            0.2871287128712871,
            0.2574257425742574,
            0.2772277227722772,
            0.2869565217391304,
            0.2832244008714596,
            0.2826086956521739,
            0.205188679245283,
            0.2080378250591016,
            0.2033096926713948,
            0.32,
            0.3265306122448979,
            0.3333333333333333,
            0.32
           ],
           "yaxis": "y5"
          },
          {
           "customdata": [
            [
             "Argentina",
             "2019"
            ],
            [
             "Argentina",
             "2019"
            ],
            [
             "Argentina",
             "2019"
            ],
            [
             "Guatemala",
             "2019"
            ],
            [
             "Guatemala",
             "2019"
            ],
            [
             "Panama",
             "2019"
            ],
            [
             "Panama",
             "2019"
            ],
            [
             "Uruguay",
             "2019"
            ],
            [
             "Uruguay",
             "2019"
            ],
            [
             "Uruguay",
             "2019"
            ],
            [
             "Uruguay",
             "2019"
            ]
           ],
           "hovertemplate": "Region=Latin America and the Caribbean<br>year=%{customdata[1]}<br>democracy_indx_score=%{x}<br>percent_W=%{marker.size}<br>Country=%{customdata[0]}<extra></extra>",
           "legendgroup": "Latin America and the Caribbean",
           "marker": {
            "color": "rgb(15, 133, 84)",
            "size": [
             0.4085603112840467,
             0.424124513618677,
             0.4015748031496063,
             0.19375,
             0.189873417721519,
             0.2112676056338028,
             0.2253521126760563,
             0.2121212121212121,
             0.2424242424242424,
             0.2525252525252525,
             0.1919191919191919
            ],
            "sizemode": "area",
            "sizeref": 0.00153125,
            "symbol": "circle"
           },
           "mode": "markers",
           "name": "Latin America and the Caribbean",
           "orientation": "v",
           "showlegend": true,
           "type": "scatter",
           "x": [
            7.02,
            7.02,
            7.02,
            5.26,
            5.26,
            7.05,
            7.05,
            8.38,
            8.38,
            8.38,
            8.38
           ],
           "xaxis": "x4",
           "y": [
            0.4085603112840467,
            0.424124513618677,
            0.4015748031496063,
            0.19375,
            0.189873417721519,
            0.2112676056338028,
            0.2253521126760563,
            0.2121212121212121,
            0.2424242424242424,
            0.2525252525252525,
            0.1919191919191919
           ],
           "yaxis": "y4"
          },
          {
           "customdata": [
            [
             "Australia",
             "2019"
            ],
            [
             "Australia",
             "2019"
            ],
            [
             "Australia",
             "2019"
            ],
            [
             "Australia",
             "2019"
            ],
            [
             "Australia",
             "2019"
            ],
            [
             "India",
             "2019"
            ],
            [
             "India",
             "2019"
            ],
            [
             "India",
             "2019"
            ],
            [
             "India",
             "2019"
            ],
            [
             "India",
             "2019"
            ],
            [
             "India",
             "2019"
            ],
            [
             "India",
             "2019"
            ],
            [
             "India",
             "2019"
            ],
            [
             "Indonesia",
             "2019"
            ],
            [
             "Indonesia",
             "2019"
            ],
            [
             "Indonesia",
             "2019"
            ],
            [
             "Indonesia",
             "2019"
            ],
            [
             "Philippines",
             "2019"
            ],
            [
             "Philippines",
             "2019"
            ],
            [
             "Thailand",
             "2019"
            ],
            [
             "Thailand",
             "2019"
            ],
            [
             "Thailand",
             "2019"
            ],
            [
             "Thailand",
             "2019"
            ],
            [
             "Thailand",
             "2019"
            ],
            [
             "Thailand",
             "2019"
            ]
           ],
           "hovertemplate": "Region=Asia and Australasia<br>year=%{customdata[1]}<br>democracy_indx_score=%{x}<br>percent_W=%{marker.size}<br>Country=%{customdata[0]}<extra></extra>",
           "legendgroup": "Asia and Australasia",
           "marker": {
            "color": "rgb(115, 175, 72)",
            "size": [
             0.304635761589404,
             0.3,
             0.3112582781456953,
             0.3,
             0.3112582781456953,
             0.1439114391143911,
             0.143646408839779,
             0.1444444444444444,
             0.1494464944649446,
             0.143646408839779,
             0.143646408839779,
             0.1494464944649446,
             0.1494464944649446,
             0.1739130434782608,
             0.2034782608695652,
             0.2104347826086956,
             0.2191304347826086,
             0.2796052631578947,
             0.2768729641693811,
             0.162,
             0.1574642126789366,
             0.1574642126789366,
             0.162,
             0.0541666666666666,
             0.158
            ],
            "sizemode": "area",
            "sizeref": 0.00153125,
            "symbol": "circle"
           },
           "mode": "markers",
           "name": "Asia and Australasia",
           "orientation": "v",
           "showlegend": true,
           "type": "scatter",
           "x": [
            9.09,
            9.09,
            9.09,
            9.09,
            9.09,
            6.9,
            6.9,
            6.9,
            6.9,
            6.9,
            6.9,
            6.9,
            6.9,
            6.48,
            6.48,
            6.48,
            6.48,
            6.64,
            6.64,
            6.32,
            6.32,
            6.32,
            6.32,
            6.32,
            6.32
           ],
           "xaxis": "x3",
           "y": [
            0.304635761589404,
            0.3,
            0.3112582781456953,
            0.3,
            0.3112582781456953,
            0.1439114391143911,
            0.143646408839779,
            0.1444444444444444,
            0.1494464944649446,
            0.143646408839779,
            0.143646408839779,
            0.1494464944649446,
            0.1494464944649446,
            0.1739130434782608,
            0.2034782608695652,
            0.2104347826086956,
            0.2191304347826086,
            0.2796052631578947,
            0.2768729641693811,
            0.162,
            0.1574642126789366,
            0.1574642126789366,
            0.162,
            0.0541666666666666,
            0.158
           ],
           "yaxis": "y3"
          },
          {
           "customdata": [
            [
             "Israel",
             "2019"
            ],
            [
             "Israel",
             "2019"
            ],
            [
             "Oman",
             "2019"
            ],
            [
             "Oman",
             "2019"
            ],
            [
             "Oman",
             "2019"
            ],
            [
             "Tunisia",
             "2019"
            ],
            [
             "Tunisia",
             "2019"
            ],
            [
             "Tunisia",
             "2019"
            ],
            [
             "United Arab Emirates",
             "2019"
            ],
            [
             "United Arab Emirates",
             "2019"
            ]
           ],
           "hovertemplate": "Region=Middle East and North Africa<br>year=%{customdata[1]}<br>democracy_indx_score=%{x}<br>percent_W=%{marker.size}<br>Country=%{customdata[0]}<extra></extra>",
           "legendgroup": "Middle East and North Africa",
           "marker": {
            "color": "rgb(237, 173, 8)",
            "size": [
             0.2333333333333333,
             0.2416666666666666,
             0.0232558139534883,
             0.0232558139534883,
             0.0232558139534883,
             0.2488479262672811,
             0.2626728110599078,
             0.2258064516129032,
             0.5,
             0.35
            ],
            "sizemode": "area",
            "sizeref": 0.00153125,
            "symbol": "circle"
           },
           "mode": "markers",
           "name": "Middle East and North Africa",
           "orientation": "v",
           "showlegend": true,
           "type": "scatter",
           "x": [
            7.86,
            7.86,
            3.06,
            3.06,
            3.06,
            6.72,
            6.72,
            6.72,
            2.76,
            2.76
           ],
           "xaxis": "x2",
           "y": [
            0.2333333333333333,
            0.2416666666666666,
            0.0232558139534883,
            0.0232558139534883,
            0.0232558139534883,
            0.2488479262672811,
            0.2626728110599078,
            0.2258064516129032,
            0.5,
            0.35
           ],
           "yaxis": "y2"
          },
          {
           "customdata": [
            [
             "Benin",
             "2019"
            ],
            [
             "Benin",
             "2019"
            ],
            [
             "Benin",
             "2019"
            ],
            [
             "Botswana",
             "2019"
            ],
            [
             "Botswana",
             "2019"
            ],
            [
             "Guinea-Bissau",
             "2019"
            ],
            [
             "Madagascar",
             "2019"
            ],
            [
             "Madagascar",
             "2019"
            ],
            [
             "Madagascar",
             "2019"
            ],
            [
             "Madagascar",
             "2019"
            ],
            [
             "Madagascar",
             "2019"
            ],
            [
             "Malawi",
             "2019"
            ],
            [
             "Mauritius",
             "2019"
            ],
            [
             "Mozambique",
             "2019"
            ],
            [
             "Mozambique",
             "2019"
            ],
            [
             "Namibia",
             "2019"
            ],
            [
             "Namibia",
             "2019"
            ],
            [
             "Namibia",
             "2019"
            ],
            [
             "Namibia",
             "2019"
            ],
            [
             "Nigeria",
             "2019"
            ],
            [
             "Nigeria",
             "2019"
            ],
            [
             "Nigeria",
             "2019"
            ],
            [
             "Nigeria",
             "2019"
            ],
            [
             "South Africa",
             "2019"
            ],
            [
             "South Africa",
             "2019"
            ],
            [
             "South Africa",
             "2019"
            ],
            [
             "South Africa",
             "2019"
            ],
            [
             "South Africa",
             "2019"
            ],
            [
             "South Africa",
             "2019"
            ],
            [
             "South Africa",
             "2019"
            ],
            [
             "South Africa",
             "2019"
            ],
            [
             "South Africa",
             "2019"
            ],
            [
             "South Africa",
             "2019"
            ],
            [
             "South Africa",
             "2019"
            ],
            [
             "South Africa",
             "2019"
            ],
            [
             "South Africa",
             "2019"
            ],
            [
             "South Africa",
             "2019"
            ],
            [
             "South Africa",
             "2019"
            ],
            [
             "South Africa",
             "2019"
            ],
            [
             "South Africa",
             "2019"
            ],
            [
             "South Africa",
             "2019"
            ],
            [
             "South Africa",
             "2019"
            ],
            [
             "South Africa",
             "2019"
            ],
            [
             "South Africa",
             "2019"
            ],
            [
             "South Africa",
             "2019"
            ],
            [
             "South Africa",
             "2019"
            ],
            [
             "South Africa",
             "2019"
            ],
            [
             "South Africa",
             "2019"
            ],
            [
             "South Africa",
             "2019"
            ],
            [
             "South Africa",
             "2019"
            ],
            [
             "South Africa",
             "2019"
            ],
            [
             "South Africa",
             "2019"
            ],
            [
             "South Africa",
             "2019"
            ],
            [
             "South Africa",
             "2019"
            ],
            [
             "South Africa",
             "2019"
            ]
           ],
           "hovertemplate": "Region=Sub-Saharan Africa<br>year=%{customdata[1]}<br>democracy_indx_score=%{x}<br>percent_W=%{marker.size}<br>Country=%{customdata[0]}<extra></extra>",
           "legendgroup": "Sub-Saharan Africa",
           "marker": {
            "color": "rgb(225, 124, 5)",
            "size": [
             0.072289156626506,
             0.0843373493975903,
             0.074074074074074,
             0.1076923076923077,
             0.1111111111111111,
             0.1372549019607843,
             0.1589403973509933,
             0.1788079470198675,
             0.1788079470198675,
             0.1854304635761589,
             0.1788079470198675,
             0.2291666666666666,
             0.2,
             0.424,
             0.412,
             0.4326923076923077,
             0.4423076923076923,
             0.4270833333333333,
             0.4270833333333333,
             0.0338028169014084,
             0.0363128491620111,
             0.0361111111111111,
             0.0342857142857142,
             0.457070707070707,
             0.4636591478696741,
             0.4634760705289673,
             0.4621212121212121,
             0.4582278481012658,
             0.4675,
             0.4634760705289673,
             0.4634760705289673,
             0.4658227848101265,
             0.4634760705289673,
             0.4584382871536523,
             0.4671717171717172,
             0.4661654135338345,
             0.4696969696969697,
             0.4658227848101265,
             0.4648241206030151,
             0.465,
             0.4685138539042821,
             0.4636591478696741,
             0.4673366834170854,
             0.4531645569620253,
             0.4609571788413098,
             0.465,
             0.457286432160804,
             0.4659949622166247,
             0.4586466165413533,
             0.4646464646464646,
             0.4621212121212121,
             0.4636591478696741,
             0.4597989949748743,
             0.4671717171717172,
             0.4646464646464646
            ],
            "sizemode": "area",
            "sizeref": 0.00153125,
            "symbol": "circle"
           },
           "mode": "markers",
           "name": "Sub-Saharan Africa",
           "orientation": "v",
           "showlegend": true,
           "type": "scatter",
           "x": [
            5.09,
            5.09,
            5.09,
            7.81,
            7.81,
            2.63,
            5.64,
            5.64,
            5.64,
            5.64,
            5.64,
            5.5,
            8.22,
            3.65,
            3.65,
            6.43,
            6.43,
            6.43,
            6.43,
            4.12,
            4.12,
            4.12,
            4.12,
            7.24,
            7.24,
            7.24,
            7.24,
            7.24,
            7.24,
            7.24,
            7.24,
            7.24,
            7.24,
            7.24,
            7.24,
            7.24,
            7.24,
            7.24,
            7.24,
            7.24,
            7.24,
            7.24,
            7.24,
            7.24,
            7.24,
            7.24,
            7.24,
            7.24,
            7.24,
            7.24,
            7.24,
            7.24,
            7.24,
            7.24,
            7.24
           ],
           "xaxis": "x",
           "y": [
            0.072289156626506,
            0.0843373493975903,
            0.074074074074074,
            0.1076923076923077,
            0.1111111111111111,
            0.1372549019607843,
            0.1589403973509933,
            0.1788079470198675,
            0.1788079470198675,
            0.1854304635761589,
            0.1788079470198675,
            0.2291666666666666,
            0.2,
            0.424,
            0.412,
            0.4326923076923077,
            0.4423076923076923,
            0.4270833333333333,
            0.4270833333333333,
            0.0338028169014084,
            0.0363128491620111,
            0.0361111111111111,
            0.0342857142857142,
            0.457070707070707,
            0.4636591478696741,
            0.4634760705289673,
            0.4621212121212121,
            0.4582278481012658,
            0.4675,
            0.4634760705289673,
            0.4634760705289673,
            0.4658227848101265,
            0.4634760705289673,
            0.4584382871536523,
            0.4671717171717172,
            0.4661654135338345,
            0.4696969696969697,
            0.4658227848101265,
            0.4648241206030151,
            0.465,
            0.4685138539042821,
            0.4636591478696741,
            0.4673366834170854,
            0.4531645569620253,
            0.4609571788413098,
            0.465,
            0.457286432160804,
            0.4659949622166247,
            0.4586466165413533,
            0.4646464646464646,
            0.4621212121212121,
            0.4636591478696741,
            0.4597989949748743,
            0.4671717171717172,
            0.4646464646464646
           ],
           "yaxis": "y"
          }
         ],
         "name": "2019"
        },
        {
         "data": [
          {
           "customdata": [
            [
             "Ireland",
             "2020"
            ],
            [
             "Ireland",
             "2020"
            ],
            [
             "Ireland",
             "2020"
            ],
            [
             "Ireland",
             "2020"
            ]
           ],
           "hovertemplate": "Region=Western Europe<br>year=%{customdata[1]}<br>democracy_indx_score=%{x}<br>percent_W=%{marker.size}<br>Country=%{customdata[0]}<extra></extra>",
           "legendgroup": "Western Europe",
           "marker": {
            "color": "rgb(29, 105, 150)",
            "size": [
             0.225,
             0.23125,
             0.225,
             0.225
            ],
            "sizemode": "area",
            "sizeref": 0.00153125,
            "symbol": "circle"
           },
           "mode": "markers",
           "name": "Western Europe",
           "orientation": "v",
           "showlegend": true,
           "type": "scatter",
           "x": [
            9.05,
            9.05,
            9.05,
            9.05
           ],
           "xaxis": "x6",
           "y": [
            0.225,
            0.23125,
            0.225,
            0.225
           ],
           "yaxis": "y6"
          },
          {
           "customdata": [
            [
             "Azerbaijan",
             "2020"
            ],
            [
             "Azerbaijan",
             "2020"
            ],
            [
             "Azerbaijan",
             "2020"
            ],
            [
             "Croatia",
             "2020"
            ],
            [
             "Croatia",
             "2020"
            ],
            [
             "Croatia",
             "2020"
            ],
            [
             "Georgia",
             "2020"
            ],
            [
             "Georgia",
             "2020"
            ],
            [
             "Georgia",
             "2020"
            ],
            [
             "Kyrgyzstan",
             "2020"
            ],
            [
             "Kyrgyzstan",
             "2020"
            ],
            [
             "Lithuania",
             "2020"
            ],
            [
             "Lithuania",
             "2020"
            ],
            [
             "Lithuania",
             "2020"
            ],
            [
             "Montenegro",
             "2020"
            ],
            [
             "Montenegro",
             "2020"
            ],
            [
             "Montenegro",
             "2020"
            ],
            [
             "North Macedonia",
             "2020"
            ],
            [
             "North Macedonia",
             "2020"
            ],
            [
             "North Macedonia",
             "2020"
            ],
            [
             "North Macedonia",
             "2020"
            ],
            [
             "North Macedonia",
             "2020"
            ],
            [
             "Romania",
             "2020"
            ],
            [
             "Romania",
             "2020"
            ],
            [
             "Serbia",
             "2020"
            ],
            [
             "Serbia",
             "2020"
            ],
            [
             "Serbia",
             "2020"
            ],
            [
             "Slovakia",
             "2020"
            ],
            [
             "Slovakia",
             "2020"
            ],
            [
             "Slovakia",
             "2020"
            ],
            [
             "Tajikistan",
             "2020"
            ],
            [
             "Tajikistan",
             "2020"
            ],
            [
             "Tajikistan",
             "2020"
            ]
           ],
           "hovertemplate": "Region=Central and Eastern Europe<br>year=%{customdata[1]}<br>democracy_indx_score=%{x}<br>percent_W=%{marker.size}<br>Country=%{customdata[0]}<extra></extra>",
           "legendgroup": "Central and Eastern Europe",
           "marker": {
            "color": "rgb(56, 166, 165)",
            "size": [
             0.1735537190082644,
             0.1818181818181818,
             0.1833333333333333,
             0.3112582781456953,
             0.3178807947019867,
             0.2980132450331126,
             0.1933333333333333,
             0.1904761904761904,
             0.2066666666666666,
             0.1709401709401709,
             0.1652173913043478,
             0.2765957446808511,
             0.2836879432624113,
             0.2695035460992908,
             0.2222222222222222,
             0.2469135802469135,
             0.2716049382716049,
             0.3833333333333333,
             0.4,
             0.4166666666666667,
             0.3916666666666666,
             0.3583333333333333,
             0.1854103343465045,
             0.1909090909090909,
             0.388,
             0.392,
             0.4,
             0.2266666666666666,
             0.2133333333333333,
             0.2,
             0.238095238095238,
             0.2698412698412698,
             0.238095238095238
            ],
            "sizemode": "area",
            "sizeref": 0.00153125,
            "symbol": "circle"
           },
           "mode": "markers",
           "name": "Central and Eastern Europe",
           "orientation": "v",
           "showlegend": true,
           "type": "scatter",
           "x": [
            2.68,
            2.68,
            2.68,
            6.5,
            6.5,
            6.5,
            5.31,
            5.31,
            5.31,
            4.21,
            4.21,
            7.13,
            7.13,
            7.13,
            5.77,
            5.77,
            5.77,
            5.89,
            5.89,
            5.89,
            5.89,
            5.89,
            6.4,
            6.4,
            6.22,
            6.22,
            6.22,
            6.97,
            6.97,
            6.97,
            1.94,
            1.94,
            1.94
           ],
           "xaxis": "x5",
           "y": [
            0.1735537190082644,
            0.1818181818181818,
            0.1833333333333333,
            0.3112582781456953,
            0.3178807947019867,
            0.2980132450331126,
            0.1933333333333333,
            0.1904761904761904,
            0.2066666666666666,
            0.1709401709401709,
            0.1652173913043478,
            0.2765957446808511,
            0.2836879432624113,
            0.2695035460992908,
            0.2222222222222222,
            0.2469135802469135,
            0.2716049382716049,
            0.3833333333333333,
            0.4,
            0.4166666666666667,
            0.3916666666666666,
            0.3583333333333333,
            0.1854103343465045,
            0.1909090909090909,
            0.388,
            0.392,
            0.4,
            0.2266666666666666,
            0.2133333333333333,
            0.2,
            0.238095238095238,
            0.2698412698412698,
            0.238095238095238
           ],
           "yaxis": "y5"
          },
          {
           "customdata": [
            [
             "Dominican Republic",
             "2020"
            ],
            [
             "Guyana",
             "2020"
            ],
            [
             "Guyana",
             "2020"
            ],
            [
             "Jamaica",
             "2020"
            ],
            [
             "Peru",
             "2020"
            ],
            [
             "Suriname",
             "2020"
            ],
            [
             "Suriname",
             "2020"
            ],
            [
             "Trinidad and Tobago",
             "2020"
            ]
           ],
           "hovertemplate": "Region=Latin America and the Caribbean<br>year=%{customdata[1]}<br>democracy_indx_score=%{x}<br>percent_W=%{marker.size}<br>Country=%{customdata[0]}<extra></extra>",
           "legendgroup": "Latin America and the Caribbean",
           "marker": {
            "color": "rgb(15, 133, 84)",
            "size": [
             0.2789473684210526,
             0.3571428571428571,
             0.3538461538461538,
             0.2857142857142857,
             0.2615384615384615,
             0.2941176470588235,
             0.3137254901960784,
             0.2619047619047619
            ],
            "sizemode": "area",
            "sizeref": 0.00153125,
            "symbol": "circle"
           },
           "mode": "markers",
           "name": "Latin America and the Caribbean",
           "orientation": "v",
           "showlegend": true,
           "type": "scatter",
           "x": [
            6.32,
            6.01,
            6.01,
            7.13,
            6.53,
            6.82,
            6.82,
            7.16
           ],
           "xaxis": "x4",
           "y": [
            0.2789473684210526,
            0.3571428571428571,
            0.3538461538461538,
            0.2857142857142857,
            0.2615384615384615,
            0.2941176470588235,
            0.3137254901960784,
            0.2619047619047619
           ],
           "yaxis": "y4"
          },
          {
           "customdata": [
            [
             "Mongolia",
             "2020"
            ],
            [
             "Mongolia",
             "2020"
            ],
            [
             "Myanmar",
             "2020"
            ],
            [
             "Myanmar",
             "2020"
            ],
            [
             "New Zealand",
             "2020"
            ],
            [
             "New Zealand",
             "2020"
            ],
            [
             "New Zealand",
             "2020"
            ],
            [
             "Singapore",
             "2020"
            ],
            [
             "Singapore",
             "2020"
            ],
            [
             "Singapore",
             "2020"
            ],
            [
             "Sri Lanka",
             "2020"
            ],
            [
             "Sri Lanka",
             "2020"
            ]
           ],
           "hovertemplate": "Region=Asia and Australasia<br>year=%{customdata[1]}<br>democracy_indx_score=%{x}<br>percent_W=%{marker.size}<br>Country=%{customdata[0]}<extra></extra>",
           "legendgroup": "Asia and Australasia",
           "marker": {
            "color": "rgb(115, 175, 72)",
            "size": [
             0.1733333333333333,
             0.1710526315789473,
             0.1529411764705882,
             0.1682539682539682,
             0.4916666666666666,
             0.4833333333333333,
             0.5042016806722689,
             0.2947368421052631,
             0.2980769230769231,
             0.2912621359223301,
             0.0538116591928251,
             0.0533333333333333
            ],
            "sizemode": "area",
            "sizeref": 0.00153125,
            "symbol": "circle"
           },
           "mode": "markers",
           "name": "Asia and Australasia",
           "orientation": "v",
           "showlegend": true,
           "type": "scatter",
           "x": [
            6.48,
            6.48,
            3.04,
            3.04,
            9.25,
            9.25,
            9.25,
            6.03,
            6.03,
            6.03,
            6.14,
            6.14
           ],
           "xaxis": "x3",
           "y": [
            0.1733333333333333,
            0.1710526315789473,
            0.1529411764705882,
            0.1682539682539682,
            0.4916666666666666,
            0.4833333333333333,
            0.5042016806722689,
            0.2947368421052631,
            0.2980769230769231,
            0.2912621359223301,
            0.0538116591928251,
            0.0533333333333333
           ],
           "yaxis": "y3"
          },
          {
           "customdata": [
            [
             "Egypt",
             "2020"
            ],
            [
             "Egypt",
             "2020"
            ],
            [
             "Egypt",
             "2020"
            ],
            [
             "Israel",
             "2020"
            ],
            [
             "Israel",
             "2020"
            ],
            [
             "Israel",
             "2020"
            ],
            [
             "Israel",
             "2020"
            ],
            [
             "Jordan",
             "2020"
            ],
            [
             "Jordan",
             "2020"
            ],
            [
             "Jordan",
             "2020"
            ],
            [
             "Jordan",
             "2020"
            ],
            [
             "Kuwait",
             "2020"
            ],
            [
             "Kuwait",
             "2020"
            ],
            [
             "Saudi Arabia",
             "2020"
            ]
           ],
           "hovertemplate": "Region=Middle East and North Africa<br>year=%{customdata[1]}<br>democracy_indx_score=%{x}<br>percent_W=%{marker.size}<br>Country=%{customdata[0]}<extra></extra>",
           "legendgroup": "Middle East and North Africa",
           "marker": {
            "color": "rgb(237, 173, 8)",
            "size": [
             0.277027027027027,
             0.2741116751269035,
             0.2758037225042301,
             0.275,
             0.2666666666666666,
             0.25,
             0.2416666666666666,
             0.1153846153846153,
             0.123076923076923,
             0.123076923076923,
             0.1153846153846153,
             0.0153846153846153,
             0.0161290322580645,
             0.1986754966887417
            ],
            "sizemode": "area",
            "sizeref": 0.00153125,
            "symbol": "circle"
           },
           "mode": "markers",
           "name": "Middle East and North Africa",
           "orientation": "v",
           "showlegend": true,
           "type": "scatter",
           "x": [
            2.93,
            2.93,
            2.93,
            7.84,
            7.84,
            7.84,
            7.84,
            3.62,
            3.62,
            3.62,
            3.62,
            3.8,
            3.8,
            2.08
           ],
           "xaxis": "x2",
           "y": [
            0.277027027027027,
            0.2741116751269035,
            0.2758037225042301,
            0.275,
            0.2666666666666666,
            0.25,
            0.2416666666666666,
            0.1153846153846153,
            0.123076923076923,
            0.123076923076923,
            0.1153846153846153,
            0.0153846153846153,
            0.0161290322580645,
            0.1986754966887417
           ],
           "yaxis": "y2"
          },
          {
           "customdata": [
            [
             "Burkina Faso",
             "2020"
            ],
            [
             "Burundi",
             "2020"
            ],
            [
             "Burundi",
             "2020"
            ],
            [
             "Cameroon",
             "2020"
            ],
            [
             "Cameroon",
             "2020"
            ],
            [
             "Central African Republic",
             "2020"
            ],
            [
             "Central African Republic",
             "2020"
            ],
            [
             "Central African Republic",
             "2020"
            ],
            [
             "Central African Republic",
             "2020"
            ],
            [
             "Comoros",
             "2020"
            ],
            [
             "Ghana",
             "2020"
            ],
            [
             "Guinea",
             "2020"
            ],
            [
             "Guinea",
             "2020"
            ],
            [
             "Guinea",
             "2020"
            ],
            [
             "Mali",
             "2020"
            ],
            [
             "Mali",
             "2020"
            ],
            [
             "Mali",
             "2020"
            ],
            [
             "Mali",
             "2020"
            ],
            [
             "Niger",
             "2020"
            ]
           ],
           "hovertemplate": "Region=Sub-Saharan Africa<br>year=%{customdata[1]}<br>democracy_indx_score=%{x}<br>percent_W=%{marker.size}<br>Country=%{customdata[0]}<extra></extra>",
           "legendgroup": "Sub-Saharan Africa",
           "marker": {
            "color": "rgb(225, 124, 5)",
            "size": [
             0.0629921259842519,
             0.3821138211382114,
             0.3821138211382114,
             0.3388888888888889,
             0.3473053892215569,
             0.1285714285714285,
             0.0857142857142857,
             0.1111111111111111,
             0.1278195488721804,
             0.1666666666666666,
             0.1454545454545454,
             0.1666666666666666,
             0.1491228070175438,
             0.1578947368421052,
             0.2789115646258503,
             0.2727272727272727,
             0.2644628099173554,
             0.2857142857142857,
             0.2590361445783132
            ],
            "sizemode": "area",
            "sizeref": 0.00153125,
            "symbol": "circle"
           },
           "mode": "markers",
           "name": "Sub-Saharan Africa",
           "orientation": "v",
           "showlegend": true,
           "type": "scatter",
           "x": [
            3.73,
            2.14,
            2.14,
            2.77,
            2.77,
            1.32,
            1.32,
            1.32,
            1.32,
            3.09,
            6.5,
            3.08,
            3.08,
            3.08,
            3.93,
            3.93,
            3.93,
            3.93,
            3.29
           ],
           "xaxis": "x",
           "y": [
            0.0629921259842519,
            0.3821138211382114,
            0.3821138211382114,
            0.3388888888888889,
            0.3473053892215569,
            0.1285714285714285,
            0.0857142857142857,
            0.1111111111111111,
            0.1278195488721804,
            0.1666666666666666,
            0.1454545454545454,
            0.1666666666666666,
            0.1491228070175438,
            0.1578947368421052,
            0.2789115646258503,
            0.2727272727272727,
            0.2644628099173554,
            0.2857142857142857,
            0.2590361445783132
           ],
           "yaxis": "y"
          }
         ],
         "name": "2020"
        },
        {
         "data": [
          {
           "customdata": [
            [
             "Canada",
             "2021"
            ],
            [
             "Canada",
             "2021"
            ],
            [
             "Canada",
             "2021"
            ]
           ],
           "hovertemplate": "Region=North America<br>year=%{customdata[1]}<br>democracy_indx_score=%{x}<br>percent_W=%{marker.size}<br>Country=%{customdata[0]}<extra></extra>",
           "legendgroup": "North America",
           "marker": {
            "color": "rgb(95, 70, 144)",
            "size": [
             0.3047337278106509,
             0.3047337278106509,
             0.3047337278106509
            ],
            "sizemode": "area",
            "sizeref": 0.00153125,
            "symbol": "circle"
           },
           "mode": "markers",
           "name": "North America",
           "orientation": "v",
           "showlegend": true,
           "type": "scatter",
           "x": [
            8.87,
            8.87,
            8.87
           ],
           "xaxis": "x7",
           "y": [
            0.3047337278106509,
            0.3047337278106509,
            0.3047337278106509
           ],
           "yaxis": "y7"
          },
          {
           "customdata": [
            [
             "Cyprus",
             "2021"
            ],
            [
             "Germany",
             "2021"
            ],
            [
             "Germany",
             "2021"
            ],
            [
             "Iceland",
             "2021"
            ],
            [
             "Netherlands",
             "2021"
            ],
            [
             "Netherlands",
             "2021"
            ],
            [
             "Norway",
             "2021"
            ]
           ],
           "hovertemplate": "Region=Western Europe<br>year=%{customdata[1]}<br>democracy_indx_score=%{x}<br>percent_W=%{marker.size}<br>Country=%{customdata[0]}<extra></extra>",
           "legendgroup": "Western Europe",
           "marker": {
            "color": "rgb(29, 105, 150)",
            "size": [
             0.1428571428571428,
             0.3491847826086957,
             0.3491847826086957,
             0.4761904761904761,
             0.3933333333333333,
             0.4066666666666667,
             0.4497041420118343
            ],
            "sizemode": "area",
            "sizeref": 0.00153125,
            "symbol": "circle"
           },
           "mode": "markers",
           "name": "Western Europe",
           "orientation": "v",
           "showlegend": true,
           "type": "scatter",
           "x": [
            7.43,
            8.67,
            8.67,
            9.18,
            8.88,
            8.88,
            9.75
           ],
           "xaxis": "x6",
           "y": [
            0.1428571428571428,
            0.3491847826086957,
            0.3491847826086957,
            0.4761904761904761,
            0.3933333333333333,
            0.4066666666666667,
            0.4497041420118343
           ],
           "yaxis": "y6"
          },
          {
           "customdata": [
            [
             "Albania",
             "2021"
            ],
            [
             "Albania",
             "2021"
            ],
            [
             "Armenia",
             "2021"
            ],
            [
             "Armenia",
             "2021"
            ],
            [
             "Armenia",
             "2021"
            ],
            [
             "Bulgaria",
             "2021"
            ],
            [
             "Bulgaria",
             "2021"
            ],
            [
             "Bulgaria",
             "2021"
            ],
            [
             "Bulgaria",
             "2021"
            ],
            [
             "Czech Republic",
             "2021"
            ],
            [
             "Czech Republic",
             "2021"
            ],
            [
             "Czech Republic",
             "2021"
            ],
            [
             "Kazakhstan",
             "2021"
            ],
            [
             "Kazakhstan",
             "2021"
            ],
            [
             "Kyrgyzstan",
             "2021"
            ]
           ],
           "hovertemplate": "Region=Central and Eastern Europe<br>year=%{customdata[1]}<br>democracy_indx_score=%{x}<br>percent_W=%{marker.size}<br>Country=%{customdata[0]}<extra></extra>",
           "legendgroup": "Central and Eastern Europe",
           "marker": {
            "color": "rgb(56, 166, 165)",
            "size": [
             0.3357142857142857,
             0.3571428571428571,
             0.3364485981308411,
             0.3551401869158878,
             0.3457943925233644,
             0.2458333333333333,
             0.225,
             0.2375,
             0.2375,
             0.255,
             0.25,
             0.255,
             0.2710280373831775,
             0.2735849056603773,
             0.2045454545454545
            ],
            "sizemode": "area",
            "sizeref": 0.00153125,
            "symbol": "circle"
           },
           "mode": "markers",
           "name": "Central and Eastern Europe",
           "orientation": "v",
           "showlegend": true,
           "type": "scatter",
           "x": [
            6.11,
            6.11,
            5.49,
            5.49,
            5.49,
            6.64,
            6.64,
            6.64,
            6.64,
            7.74,
            7.74,
            7.74,
            3.08,
            3.08,
            3.62
           ],
           "xaxis": "x5",
           "y": [
            0.3357142857142857,
            0.3571428571428571,
            0.3364485981308411,
            0.3551401869158878,
            0.3457943925233644,
            0.2458333333333333,
            0.225,
            0.2375,
            0.2375,
            0.255,
            0.25,
            0.255,
            0.2710280373831775,
            0.2735849056603773,
            0.2045454545454545
           ],
           "yaxis": "y5"
          },
          {
           "customdata": [
            [
             "Argentina",
             "2021"
            ],
            [
             "Chile",
             "2021"
            ],
            [
             "Ecuador",
             "2021"
            ],
            [
             "Ecuador",
             "2021"
            ],
            [
             "Ecuador",
             "2021"
            ],
            [
             "El Salvador",
             "2021"
            ],
            [
             "Honduras",
             "2021"
            ],
            [
             "Mexico",
             "2021"
            ],
            [
             "Nicaragua",
             "2021"
            ],
            [
             "Nicaragua",
             "2021"
            ],
            [
             "Peru",
             "2021"
            ]
           ],
           "hovertemplate": "Region=Latin America and the Caribbean<br>year=%{customdata[1]}<br>democracy_indx_score=%{x}<br>percent_W=%{marker.size}<br>Country=%{customdata[0]}<extra></extra>",
           "legendgroup": "Latin America and the Caribbean",
           "marker": {
            "color": "rgb(15, 133, 84)",
            "size": [
             0.4474708171206226,
             0.3548387096774194,
             0.3941605839416058,
             0.3868613138686131,
             0.3795620437956204,
             0.2738095238095238,
             0.2734375,
             0.5,
             0.5164835164835165,
             0.5054945054945055,
             0.4
            ],
            "sizemode": "area",
            "sizeref": 0.00153125,
            "symbol": "circle"
           },
           "mode": "markers",
           "name": "Latin America and the Caribbean",
           "orientation": "v",
           "showlegend": true,
           "type": "scatter",
           "x": [
            6.81,
            7.92,
            5.71,
            5.71,
            5.71,
            5.72,
            5.1,
            5.57,
            2.69,
            2.69,
            6.09
           ],
           "xaxis": "x4",
           "y": [
            0.4474708171206226,
            0.3548387096774194,
            0.3941605839416058,
            0.3868613138686131,
            0.3795620437956204,
            0.2738095238095238,
            0.2734375,
            0.5,
            0.5164835164835165,
            0.5054945054945055,
            0.4
           ],
           "yaxis": "y4"
          },
          {
           "customdata": [
            [
             "Japan",
             "2021"
            ],
            [
             "Japan",
             "2021"
            ],
            [
             "Japan",
             "2021"
            ],
            [
             "Japan",
             "2021"
            ]
           ],
           "hovertemplate": "Region=Asia and Australasia<br>year=%{customdata[1]}<br>democracy_indx_score=%{x}<br>percent_W=%{marker.size}<br>Country=%{customdata[0]}<extra></extra>",
           "legendgroup": "Asia and Australasia",
           "marker": {
            "color": "rgb(115, 175, 72)",
            "size": [
             0.0991379310344827,
             0.0967741935483871,
             0.0967741935483871,
             0.0989247311827957
            ],
            "sizemode": "area",
            "sizeref": 0.00153125,
            "symbol": "circle"
           },
           "mode": "markers",
           "name": "Asia and Australasia",
           "orientation": "v",
           "showlegend": true,
           "type": "scatter",
           "x": [
            8.15,
            8.15,
            8.15,
            8.15
           ],
           "xaxis": "x3",
           "y": [
            0.0991379310344827,
            0.0967741935483871,
            0.0967741935483871,
            0.0989247311827957
           ],
           "yaxis": "y3"
          },
          {
           "customdata": [
            [
             "Algeria",
             "2021"
            ],
            [
             "Algeria",
             "2021"
            ],
            [
             "Iraq",
             "2021"
            ],
            [
             "Israel",
             "2021"
            ],
            [
             "Israel",
             "2021"
            ],
            [
             "Israel",
             "2021"
            ],
            [
             "Morocco",
             "2021"
            ],
            [
             "Morocco",
             "2021"
            ],
            [
             "Morocco",
             "2021"
            ],
            [
             "Qatar",
             "2021"
            ]
           ],
           "hovertemplate": "Region=Middle East and North Africa<br>year=%{customdata[1]}<br>democracy_indx_score=%{x}<br>percent_W=%{marker.size}<br>Country=%{customdata[0]}<extra></extra>",
           "legendgroup": "Middle East and North Africa",
           "marker": {
            "color": "rgb(237, 173, 8)",
            "size": [
             0.081081081081081,
             0.081081081081081,
             0.2887537993920973,
             0.2833333333333333,
             0.3,
             0.2416666666666666,
             0.2278481012658227,
             0.240506329113924,
             0.2278481012658227,
             0.0444444444444444
            ],
            "sizemode": "area",
            "sizeref": 0.00153125,
            "symbol": "circle"
           },
           "mode": "markers",
           "name": "Middle East and North Africa",
           "orientation": "v",
           "showlegend": true,
           "type": "scatter",
           "x": [
            3.77,
            3.77,
            3.51,
            7.97,
            7.97,
            7.97,
            5.04,
            5.04,
            5.04,
            3.65
           ],
           "xaxis": "x2",
           "y": [
            0.081081081081081,
            0.081081081081081,
            0.2887537993920973,
            0.2833333333333333,
            0.3,
            0.2416666666666666,
            0.2278481012658227,
            0.240506329113924,
            0.2278481012658227,
            0.0444444444444444
           ],
           "yaxis": "y2"
          },
          {
           "customdata": [
            [
             "Chad",
             "2021"
            ],
            [
             "Chad",
             "2021"
            ],
            [
             "Ethiopia",
             "2021"
            ],
            [
             "Ethiopia",
             "2021"
            ],
            [
             "Ethiopia",
             "2021"
            ],
            [
             "Uganda",
             "2021"
            ],
            [
             "Uganda",
             "2021"
            ],
            [
             "Zambia",
             "2021"
            ],
            [
             "Zambia",
             "2021"
            ]
           ],
           "hovertemplate": "Region=Sub-Saharan Africa<br>year=%{customdata[1]}<br>democracy_indx_score=%{x}<br>percent_W=%{marker.size}<br>Country=%{customdata[0]}<extra></extra>",
           "legendgroup": "Sub-Saharan Africa",
           "marker": {
            "color": "rgb(225, 124, 5)",
            "size": [
             0.3225806451612903,
             0.3118279569892473,
             0.4258823529411765,
             0.4148936170212766,
             0.4258823529411765,
             0.3381294964028777,
             0.328922495274102,
             0.1506024096385542,
             0.1290322580645161
            ],
            "sizemode": "area",
            "sizeref": 0.00153125,
            "symbol": "circle"
           },
           "mode": "markers",
           "name": "Sub-Saharan Africa",
           "orientation": "v",
           "showlegend": true,
           "type": "scatter",
           "x": [
            1.67,
            1.67,
            3.3,
            3.3,
            3.3,
            4.48,
            4.48,
            5.72,
            5.72
           ],
           "xaxis": "x",
           "y": [
            0.3225806451612903,
            0.3118279569892473,
            0.4258823529411765,
            0.4148936170212766,
            0.4258823529411765,
            0.3381294964028777,
            0.328922495274102,
            0.1506024096385542,
            0.1290322580645161
           ],
           "yaxis": "y"
          }
         ],
         "name": "2021"
        },
        {
         "data": [
          {
           "customdata": [
            [
             "France",
             "2022"
            ],
            [
             "Italy",
             "2022"
            ],
            [
             "Malta",
             "2022"
            ],
            [
             "Portugal",
             "2022"
            ],
            [
             "Portugal",
             "2022"
            ],
            [
             "Sweden",
             "2022"
            ],
            [
             "Sweden",
             "2022"
            ]
           ],
           "hovertemplate": "Region=Western Europe<br>year=%{customdata[1]}<br>democracy_indx_score=%{x}<br>percent_W=%{marker.size}<br>Country=%{customdata[0]}<extra></extra>",
           "legendgroup": "Western Europe",
           "marker": {
            "color": "rgb(29, 105, 150)",
            "size": [
             0.3726169844020797,
             0.3225,
             0.2784810126582278,
             0.3695652173913043,
             0.3684210526315789,
             0.4613180515759312,
             0.4641833810888252
            ],
            "sizemode": "area",
            "sizeref": 0.00153125,
            "symbol": "circle"
           },
           "mode": "markers",
           "name": "Western Europe",
           "orientation": "v",
           "showlegend": true,
           "type": "scatter",
           "x": [
            8.07,
            7.69,
            7.7,
            7.95,
            7.95,
            9.39,
            9.39
           ],
           "xaxis": "x6",
           "y": [
            0.3726169844020797,
            0.3225,
            0.2784810126582278,
            0.3695652173913043,
            0.3684210526315789,
            0.4613180515759312,
            0.4641833810888252
           ],
           "yaxis": "y6"
          },
          {
           "customdata": [
            [
             "Bosnia and Herzegovina",
             "2022"
            ],
            [
             "Bulgaria",
             "2022"
            ],
            [
             "Hungary",
             "2022"
            ],
            [
             "Latvia",
             "2022"
            ],
            [
             "Serbia",
             "2022"
            ],
            [
             "Serbia",
             "2022"
            ],
            [
             "Serbia",
             "2022"
            ],
            [
             "Slovenia",
             "2022"
            ]
           ],
           "hovertemplate": "Region=Central and Eastern Europe<br>year=%{customdata[1]}<br>democracy_indx_score=%{x}<br>percent_W=%{marker.size}<br>Country=%{customdata[0]}<extra></extra>",
           "legendgroup": "Central and Eastern Europe",
           "marker": {
            "color": "rgb(56, 166, 165)",
            "size": [
             0.1666666666666666,
             0.2416666666666666,
             0.1407035175879397,
             0.3,
             0.3855421686746988,
             0.3655462184873949,
             0.388,
             0.4
            ],
            "sizemode": "area",
            "sizeref": 0.00153125,
            "symbol": "circle"
           },
           "mode": "markers",
           "name": "Central and Eastern Europe",
           "orientation": "v",
           "showlegend": true,
           "type": "scatter",
           "x": [
            5,
            6.53,
            6.64,
            7.37,
            6.33,
            6.33,
            6.33,
            7.75
           ],
           "xaxis": "x5",
           "y": [
            0.1666666666666666,
            0.2416666666666666,
            0.1407035175879397,
            0.3,
            0.3855421686746988,
            0.3655462184873949,
            0.388,
            0.4
           ],
           "yaxis": "y5"
          },
          {
           "customdata": [
            [
             "Brazil",
             "2022"
            ],
            [
             "Colombia",
             "2022"
            ],
            [
             "Costa Rica",
             "2022"
            ]
           ],
           "hovertemplate": "Region=Latin America and the Caribbean<br>year=%{customdata[1]}<br>democracy_indx_score=%{x}<br>percent_W=%{marker.size}<br>Country=%{customdata[0]}<extra></extra>",
           "legendgroup": "Latin America and the Caribbean",
           "marker": {
            "color": "rgb(15, 133, 84)",
            "size": [
             0.1773879142300194,
             0.2887700534759358,
             0.4736842105263157
            ],
            "sizemode": "area",
            "sizeref": 0.00153125,
            "symbol": "circle"
           },
           "mode": "markers",
           "name": "Latin America and the Caribbean",
           "orientation": "v",
           "showlegend": true,
           "type": "scatter",
           "x": [
            6.78,
            6.72,
            8.29
           ],
           "xaxis": "x4",
           "y": [
            0.1773879142300194,
            0.2887700534759358,
            0.4736842105263157
           ],
           "yaxis": "y4"
          },
          {
           "customdata": [
            [
             "Australia",
             "2022"
            ],
            [
             "Papua New Guinea",
             "2022"
            ],
            [
             "Papua New Guinea",
             "2022"
            ],
            [
             "Philippines",
             "2022"
            ],
            [
             "Philippines",
             "2022"
            ]
           ],
           "hovertemplate": "Region=Asia and Australasia<br>year=%{customdata[1]}<br>democracy_indx_score=%{x}<br>percent_W=%{marker.size}<br>Country=%{customdata[0]}<extra></extra>",
           "legendgroup": "Asia and Australasia",
           "marker": {
            "color": "rgb(115, 175, 72)",
            "size": [
             0.3841059602649007,
             0.017391304347826,
             0.0181818181818181,
             0.2733118971061093,
             0.2796052631578947
            ],
            "sizemode": "area",
            "sizeref": 0.00153125,
            "symbol": "circle"
           },
           "mode": "markers",
           "name": "Asia and Australasia",
           "orientation": "v",
           "showlegend": true,
           "type": "scatter",
           "x": [
            8.71,
            5.97,
            5.97,
            6.73,
            6.73
           ],
           "xaxis": "x3",
           "y": [
            0.3841059602649007,
            0.017391304347826,
            0.0181818181818181,
            0.2733118971061093,
            0.2796052631578947
           ],
           "yaxis": "y3"
          },
          {
           "customdata": [
            [
             "Kuwait",
             "2022"
            ],
            [
             "Kuwait",
             "2022"
            ],
            [
             "Lebanon",
             "2022"
            ]
           ],
           "hovertemplate": "Region=Middle East and North Africa<br>year=%{customdata[1]}<br>democracy_indx_score=%{x}<br>percent_W=%{marker.size}<br>Country=%{customdata[0]}<extra></extra>",
           "legendgroup": "Middle East and North Africa",
           "marker": {
            "color": "rgb(237, 173, 8)",
            "size": [
             0.04,
             0.0625,
             0.0625
            ],
            "sizemode": "area",
            "sizeref": 0.00153125,
            "symbol": "circle"
           },
           "mode": "markers",
           "name": "Middle East and North Africa",
           "orientation": "v",
           "showlegend": true,
           "type": "scatter",
           "x": [
            3.83,
            3.83,
            3.64
           ],
           "xaxis": "x2",
           "y": [
            0.04,
            0.0625,
            0.0625
           ],
           "yaxis": "y2"
          },
          {
           "customdata": [
            [
             "Angola",
             "2022"
            ],
            [
             "Burkina Faso",
             "2022"
            ],
            [
             "Guinea",
             "2022"
            ],
            [
             "Kenya",
             "2022"
            ],
            [
             "Kenya",
             "2022"
            ],
            [
             "Lesotho",
             "2022"
            ],
            [
             "Senegal",
             "2022"
            ]
           ],
           "hovertemplate": "Region=Sub-Saharan Africa<br>year=%{customdata[1]}<br>democracy_indx_score=%{x}<br>percent_W=%{marker.size}<br>Country=%{customdata[0]}<extra></extra>",
           "legendgroup": "Sub-Saharan Africa",
           "marker": {
            "color": "rgb(225, 124, 5)",
            "size": [
             0.3363636363636363,
             0.1971830985915492,
             0.2962962962962963,
             0.2342857142857143,
             0.2342857142857143,
             0.2644628099173554,
             0.4424242424242424
            ],
            "sizemode": "area",
            "sizeref": 0.00153125,
            "symbol": "circle"
           },
           "mode": "markers",
           "name": "Sub-Saharan Africa",
           "orientation": "v",
           "showlegend": true,
           "type": "scatter",
           "x": [
            3.96,
            3.08,
            2.32,
            5.05,
            5.05,
            6.19,
            5.72
           ],
           "xaxis": "x",
           "y": [
            0.3363636363636363,
            0.1971830985915492,
            0.2962962962962963,
            0.2342857142857143,
            0.2342857142857143,
            0.2644628099173554,
            0.4424242424242424
           ],
           "yaxis": "y"
          }
         ],
         "name": "2022"
        }
       ],
       "layout": {
        "annotations": [
         {
          "font": {},
          "showarrow": false,
          "text": "Region=Sub-Saharan Africa",
          "textangle": 90,
          "x": 0.98,
          "xanchor": "left",
          "xref": "paper",
          "y": 0.05857142857142857,
          "yanchor": "middle",
          "yref": "paper"
         },
         {
          "font": {},
          "showarrow": false,
          "text": "Region=Middle East and North Africa",
          "textangle": 90,
          "x": 0.98,
          "xanchor": "left",
          "xref": "paper",
          "y": 0.2057142857142857,
          "yanchor": "middle",
          "yref": "paper"
         },
         {
          "font": {},
          "showarrow": false,
          "text": "Region=Asia and Australasia",
          "textangle": 90,
          "x": 0.98,
          "xanchor": "left",
          "xref": "paper",
          "y": 0.35285714285714287,
          "yanchor": "middle",
          "yref": "paper"
         },
         {
          "font": {},
          "showarrow": false,
          "text": "Region=Latin America and the Caribbean",
          "textangle": 90,
          "x": 0.98,
          "xanchor": "left",
          "xref": "paper",
          "y": 0.49999999999999994,
          "yanchor": "middle",
          "yref": "paper"
         },
         {
          "font": {},
          "showarrow": false,
          "text": "Region=Central and Eastern Europe",
          "textangle": 90,
          "x": 0.98,
          "xanchor": "left",
          "xref": "paper",
          "y": 0.647142857142857,
          "yanchor": "middle",
          "yref": "paper"
         },
         {
          "font": {},
          "showarrow": false,
          "text": "Region=Western Europe",
          "textangle": 90,
          "x": 0.98,
          "xanchor": "left",
          "xref": "paper",
          "y": 0.7942857142857143,
          "yanchor": "middle",
          "yref": "paper"
         },
         {
          "font": {},
          "showarrow": false,
          "text": "Region=North America",
          "textangle": 90,
          "x": 0.98,
          "xanchor": "left",
          "xref": "paper",
          "y": 0.9414285714285713,
          "yanchor": "middle",
          "yref": "paper"
         }
        ],
        "height": 800,
        "legend": {
         "itemsizing": "constant",
         "title": {
          "text": "Region"
         },
         "tracegroupgap": 0
        },
        "sliders": [
         {
          "active": 0,
          "currentvalue": {
           "prefix": "year="
          },
          "len": 0.9,
          "pad": {
           "b": 10,
           "t": 60
          },
          "steps": [
           {
            "args": [
             [
              "2006"
             ],
             {
              "frame": {
               "duration": 0,
               "redraw": false
              },
              "fromcurrent": true,
              "mode": "immediate",
              "transition": {
               "duration": 0,
               "easing": "linear"
              }
             }
            ],
            "label": "2006",
            "method": "animate"
           },
           {
            "args": [
             [
              "2008"
             ],
             {
              "frame": {
               "duration": 0,
               "redraw": false
              },
              "fromcurrent": true,
              "mode": "immediate",
              "transition": {
               "duration": 0,
               "easing": "linear"
              }
             }
            ],
            "label": "2008",
            "method": "animate"
           },
           {
            "args": [
             [
              "2011"
             ],
             {
              "frame": {
               "duration": 0,
               "redraw": false
              },
              "fromcurrent": true,
              "mode": "immediate",
              "transition": {
               "duration": 0,
               "easing": "linear"
              }
             }
            ],
            "label": "2011",
            "method": "animate"
           },
           {
            "args": [
             [
              "2013"
             ],
             {
              "frame": {
               "duration": 0,
               "redraw": false
              },
              "fromcurrent": true,
              "mode": "immediate",
              "transition": {
               "duration": 0,
               "easing": "linear"
              }
             }
            ],
            "label": "2013",
            "method": "animate"
           },
           {
            "args": [
             [
              "2014"
             ],
             {
              "frame": {
               "duration": 0,
               "redraw": false
              },
              "fromcurrent": true,
              "mode": "immediate",
              "transition": {
               "duration": 0,
               "easing": "linear"
              }
             }
            ],
            "label": "2014",
            "method": "animate"
           },
           {
            "args": [
             [
              "2015"
             ],
             {
              "frame": {
               "duration": 0,
               "redraw": false
              },
              "fromcurrent": true,
              "mode": "immediate",
              "transition": {
               "duration": 0,
               "easing": "linear"
              }
             }
            ],
            "label": "2015",
            "method": "animate"
           },
           {
            "args": [
             [
              "2016"
             ],
             {
              "frame": {
               "duration": 0,
               "redraw": false
              },
              "fromcurrent": true,
              "mode": "immediate",
              "transition": {
               "duration": 0,
               "easing": "linear"
              }
             }
            ],
            "label": "2016",
            "method": "animate"
           },
           {
            "args": [
             [
              "2017"
             ],
             {
              "frame": {
               "duration": 0,
               "redraw": false
              },
              "fromcurrent": true,
              "mode": "immediate",
              "transition": {
               "duration": 0,
               "easing": "linear"
              }
             }
            ],
            "label": "2017",
            "method": "animate"
           },
           {
            "args": [
             [
              "2018"
             ],
             {
              "frame": {
               "duration": 0,
               "redraw": false
              },
              "fromcurrent": true,
              "mode": "immediate",
              "transition": {
               "duration": 0,
               "easing": "linear"
              }
             }
            ],
            "label": "2018",
            "method": "animate"
           },
           {
            "args": [
             [
              "2019"
             ],
             {
              "frame": {
               "duration": 0,
               "redraw": false
              },
              "fromcurrent": true,
              "mode": "immediate",
              "transition": {
               "duration": 0,
               "easing": "linear"
              }
             }
            ],
            "label": "2019",
            "method": "animate"
           },
           {
            "args": [
             [
              "2020"
             ],
             {
              "frame": {
               "duration": 0,
               "redraw": false
              },
              "fromcurrent": true,
              "mode": "immediate",
              "transition": {
               "duration": 0,
               "easing": "linear"
              }
             }
            ],
            "label": "2020",
            "method": "animate"
           },
           {
            "args": [
             [
              "2021"
             ],
             {
              "frame": {
               "duration": 0,
               "redraw": false
              },
              "fromcurrent": true,
              "mode": "immediate",
              "transition": {
               "duration": 0,
               "easing": "linear"
              }
             }
            ],
            "label": "2021",
            "method": "animate"
           },
           {
            "args": [
             [
              "2022"
             ],
             {
              "frame": {
               "duration": 0,
               "redraw": false
              },
              "fromcurrent": true,
              "mode": "immediate",
              "transition": {
               "duration": 0,
               "easing": "linear"
              }
             }
            ],
            "label": "2022",
            "method": "animate"
           }
          ],
          "x": 0.1,
          "xanchor": "left",
          "y": 0,
          "yanchor": "top"
         }
        ],
        "template": {
         "data": {
          "bar": [
           {
            "error_x": {
             "color": "#2a3f5f"
            },
            "error_y": {
             "color": "#2a3f5f"
            },
            "marker": {
             "line": {
              "color": "white",
              "width": 0.5
             },
             "pattern": {
              "fillmode": "overlay",
              "size": 10,
              "solidity": 0.2
             }
            },
            "type": "bar"
           }
          ],
          "barpolar": [
           {
            "marker": {
             "line": {
              "color": "white",
              "width": 0.5
             },
             "pattern": {
              "fillmode": "overlay",
              "size": 10,
              "solidity": 0.2
             }
            },
            "type": "barpolar"
           }
          ],
          "carpet": [
           {
            "aaxis": {
             "endlinecolor": "#2a3f5f",
             "gridcolor": "#C8D4E3",
             "linecolor": "#C8D4E3",
             "minorgridcolor": "#C8D4E3",
             "startlinecolor": "#2a3f5f"
            },
            "baxis": {
             "endlinecolor": "#2a3f5f",
             "gridcolor": "#C8D4E3",
             "linecolor": "#C8D4E3",
             "minorgridcolor": "#C8D4E3",
             "startlinecolor": "#2a3f5f"
            },
            "type": "carpet"
           }
          ],
          "choropleth": [
           {
            "colorbar": {
             "outlinewidth": 0,
             "ticks": ""
            },
            "type": "choropleth"
           }
          ],
          "contour": [
           {
            "colorbar": {
             "outlinewidth": 0,
             "ticks": ""
            },
            "colorscale": [
             [
              0,
              "#0d0887"
             ],
             [
              0.1111111111111111,
              "#46039f"
             ],
             [
              0.2222222222222222,
              "#7201a8"
             ],
             [
              0.3333333333333333,
              "#9c179e"
             ],
             [
              0.4444444444444444,
              "#bd3786"
             ],
             [
              0.5555555555555556,
              "#d8576b"
             ],
             [
              0.6666666666666666,
              "#ed7953"
             ],
             [
              0.7777777777777778,
              "#fb9f3a"
             ],
             [
              0.8888888888888888,
              "#fdca26"
             ],
             [
              1,
              "#f0f921"
             ]
            ],
            "type": "contour"
           }
          ],
          "contourcarpet": [
           {
            "colorbar": {
             "outlinewidth": 0,
             "ticks": ""
            },
            "type": "contourcarpet"
           }
          ],
          "heatmap": [
           {
            "colorbar": {
             "outlinewidth": 0,
             "ticks": ""
            },
            "colorscale": [
             [
              0,
              "#0d0887"
             ],
             [
              0.1111111111111111,
              "#46039f"
             ],
             [
              0.2222222222222222,
              "#7201a8"
             ],
             [
              0.3333333333333333,
              "#9c179e"
             ],
             [
              0.4444444444444444,
              "#bd3786"
             ],
             [
              0.5555555555555556,
              "#d8576b"
             ],
             [
              0.6666666666666666,
              "#ed7953"
             ],
             [
              0.7777777777777778,
              "#fb9f3a"
             ],
             [
              0.8888888888888888,
              "#fdca26"
             ],
             [
              1,
              "#f0f921"
             ]
            ],
            "type": "heatmap"
           }
          ],
          "heatmapgl": [
           {
            "colorbar": {
             "outlinewidth": 0,
             "ticks": ""
            },
            "colorscale": [
             [
              0,
              "#0d0887"
             ],
             [
              0.1111111111111111,
              "#46039f"
             ],
             [
              0.2222222222222222,
              "#7201a8"
             ],
             [
              0.3333333333333333,
              "#9c179e"
             ],
             [
              0.4444444444444444,
              "#bd3786"
             ],
             [
              0.5555555555555556,
              "#d8576b"
             ],
             [
              0.6666666666666666,
              "#ed7953"
             ],
             [
              0.7777777777777778,
              "#fb9f3a"
             ],
             [
              0.8888888888888888,
              "#fdca26"
             ],
             [
              1,
              "#f0f921"
             ]
            ],
            "type": "heatmapgl"
           }
          ],
          "histogram": [
           {
            "marker": {
             "pattern": {
              "fillmode": "overlay",
              "size": 10,
              "solidity": 0.2
             }
            },
            "type": "histogram"
           }
          ],
          "histogram2d": [
           {
            "colorbar": {
             "outlinewidth": 0,
             "ticks": ""
            },
            "colorscale": [
             [
              0,
              "#0d0887"
             ],
             [
              0.1111111111111111,
              "#46039f"
             ],
             [
              0.2222222222222222,
              "#7201a8"
             ],
             [
              0.3333333333333333,
              "#9c179e"
             ],
             [
              0.4444444444444444,
              "#bd3786"
             ],
             [
              0.5555555555555556,
              "#d8576b"
             ],
             [
              0.6666666666666666,
              "#ed7953"
             ],
             [
              0.7777777777777778,
              "#fb9f3a"
             ],
             [
              0.8888888888888888,
              "#fdca26"
             ],
             [
              1,
              "#f0f921"
             ]
            ],
            "type": "histogram2d"
           }
          ],
          "histogram2dcontour": [
           {
            "colorbar": {
             "outlinewidth": 0,
             "ticks": ""
            },
            "colorscale": [
             [
              0,
              "#0d0887"
             ],
             [
              0.1111111111111111,
              "#46039f"
             ],
             [
              0.2222222222222222,
              "#7201a8"
             ],
             [
              0.3333333333333333,
              "#9c179e"
             ],
             [
              0.4444444444444444,
              "#bd3786"
             ],
             [
              0.5555555555555556,
              "#d8576b"
             ],
             [
              0.6666666666666666,
              "#ed7953"
             ],
             [
              0.7777777777777778,
              "#fb9f3a"
             ],
             [
              0.8888888888888888,
              "#fdca26"
             ],
             [
              1,
              "#f0f921"
             ]
            ],
            "type": "histogram2dcontour"
           }
          ],
          "mesh3d": [
           {
            "colorbar": {
             "outlinewidth": 0,
             "ticks": ""
            },
            "type": "mesh3d"
           }
          ],
          "parcoords": [
           {
            "line": {
             "colorbar": {
              "outlinewidth": 0,
              "ticks": ""
             }
            },
            "type": "parcoords"
           }
          ],
          "pie": [
           {
            "automargin": true,
            "type": "pie"
           }
          ],
          "scatter": [
           {
            "fillpattern": {
             "fillmode": "overlay",
             "size": 10,
             "solidity": 0.2
            },
            "type": "scatter"
           }
          ],
          "scatter3d": [
           {
            "line": {
             "colorbar": {
              "outlinewidth": 0,
              "ticks": ""
             }
            },
            "marker": {
             "colorbar": {
              "outlinewidth": 0,
              "ticks": ""
             }
            },
            "type": "scatter3d"
           }
          ],
          "scattercarpet": [
           {
            "marker": {
             "colorbar": {
              "outlinewidth": 0,
              "ticks": ""
             }
            },
            "type": "scattercarpet"
           }
          ],
          "scattergeo": [
           {
            "marker": {
             "colorbar": {
              "outlinewidth": 0,
              "ticks": ""
             }
            },
            "type": "scattergeo"
           }
          ],
          "scattergl": [
           {
            "marker": {
             "colorbar": {
              "outlinewidth": 0,
              "ticks": ""
             }
            },
            "type": "scattergl"
           }
          ],
          "scattermapbox": [
           {
            "marker": {
             "colorbar": {
              "outlinewidth": 0,
              "ticks": ""
             }
            },
            "type": "scattermapbox"
           }
          ],
          "scatterpolar": [
           {
            "marker": {
             "colorbar": {
              "outlinewidth": 0,
              "ticks": ""
             }
            },
            "type": "scatterpolar"
           }
          ],
          "scatterpolargl": [
           {
            "marker": {
             "colorbar": {
              "outlinewidth": 0,
              "ticks": ""
             }
            },
            "type": "scatterpolargl"
           }
          ],
          "scatterternary": [
           {
            "marker": {
             "colorbar": {
              "outlinewidth": 0,
              "ticks": ""
             }
            },
            "type": "scatterternary"
           }
          ],
          "surface": [
           {
            "colorbar": {
             "outlinewidth": 0,
             "ticks": ""
            },
            "colorscale": [
             [
              0,
              "#0d0887"
             ],
             [
              0.1111111111111111,
              "#46039f"
             ],
             [
              0.2222222222222222,
              "#7201a8"
             ],
             [
              0.3333333333333333,
              "#9c179e"
             ],
             [
              0.4444444444444444,
              "#bd3786"
             ],
             [
              0.5555555555555556,
              "#d8576b"
             ],
             [
              0.6666666666666666,
              "#ed7953"
             ],
             [
              0.7777777777777778,
              "#fb9f3a"
             ],
             [
              0.8888888888888888,
              "#fdca26"
             ],
             [
              1,
              "#f0f921"
             ]
            ],
            "type": "surface"
           }
          ],
          "table": [
           {
            "cells": {
             "fill": {
              "color": "#EBF0F8"
             },
             "line": {
              "color": "white"
             }
            },
            "header": {
             "fill": {
              "color": "#C8D4E3"
             },
             "line": {
              "color": "white"
             }
            },
            "type": "table"
           }
          ]
         },
         "layout": {
          "annotationdefaults": {
           "arrowcolor": "#2a3f5f",
           "arrowhead": 0,
           "arrowwidth": 1
          },
          "autotypenumbers": "strict",
          "coloraxis": {
           "colorbar": {
            "outlinewidth": 0,
            "ticks": ""
           }
          },
          "colorscale": {
           "diverging": [
            [
             0,
             "#8e0152"
            ],
            [
             0.1,
             "#c51b7d"
            ],
            [
             0.2,
             "#de77ae"
            ],
            [
             0.3,
             "#f1b6da"
            ],
            [
             0.4,
             "#fde0ef"
            ],
            [
             0.5,
             "#f7f7f7"
            ],
            [
             0.6,
             "#e6f5d0"
            ],
            [
             0.7,
             "#b8e186"
            ],
            [
             0.8,
             "#7fbc41"
            ],
            [
             0.9,
             "#4d9221"
            ],
            [
             1,
             "#276419"
            ]
           ],
           "sequential": [
            [
             0,
             "#0d0887"
            ],
            [
             0.1111111111111111,
             "#46039f"
            ],
            [
             0.2222222222222222,
             "#7201a8"
            ],
            [
             0.3333333333333333,
             "#9c179e"
            ],
            [
             0.4444444444444444,
             "#bd3786"
            ],
            [
             0.5555555555555556,
             "#d8576b"
            ],
            [
             0.6666666666666666,
             "#ed7953"
            ],
            [
             0.7777777777777778,
             "#fb9f3a"
            ],
            [
             0.8888888888888888,
             "#fdca26"
            ],
            [
             1,
             "#f0f921"
            ]
           ],
           "sequentialminus": [
            [
             0,
             "#0d0887"
            ],
            [
             0.1111111111111111,
             "#46039f"
            ],
            [
             0.2222222222222222,
             "#7201a8"
            ],
            [
             0.3333333333333333,
             "#9c179e"
            ],
            [
             0.4444444444444444,
             "#bd3786"
            ],
            [
             0.5555555555555556,
             "#d8576b"
            ],
            [
             0.6666666666666666,
             "#ed7953"
            ],
            [
             0.7777777777777778,
             "#fb9f3a"
            ],
            [
             0.8888888888888888,
             "#fdca26"
            ],
            [
             1,
             "#f0f921"
            ]
           ]
          },
          "colorway": [
           "#636efa",
           "#EF553B",
           "#00cc96",
           "#ab63fa",
           "#FFA15A",
           "#19d3f3",
           "#FF6692",
           "#B6E880",
           "#FF97FF",
           "#FECB52"
          ],
          "font": {
           "color": "#2a3f5f"
          },
          "geo": {
           "bgcolor": "white",
           "lakecolor": "white",
           "landcolor": "white",
           "showlakes": true,
           "showland": true,
           "subunitcolor": "#C8D4E3"
          },
          "hoverlabel": {
           "align": "left"
          },
          "hovermode": "closest",
          "mapbox": {
           "style": "light"
          },
          "paper_bgcolor": "white",
          "plot_bgcolor": "white",
          "polar": {
           "angularaxis": {
            "gridcolor": "#EBF0F8",
            "linecolor": "#EBF0F8",
            "ticks": ""
           },
           "bgcolor": "white",
           "radialaxis": {
            "gridcolor": "#EBF0F8",
            "linecolor": "#EBF0F8",
            "ticks": ""
           }
          },
          "scene": {
           "xaxis": {
            "backgroundcolor": "white",
            "gridcolor": "#DFE8F3",
            "gridwidth": 2,
            "linecolor": "#EBF0F8",
            "showbackground": true,
            "ticks": "",
            "zerolinecolor": "#EBF0F8"
           },
           "yaxis": {
            "backgroundcolor": "white",
            "gridcolor": "#DFE8F3",
            "gridwidth": 2,
            "linecolor": "#EBF0F8",
            "showbackground": true,
            "ticks": "",
            "zerolinecolor": "#EBF0F8"
           },
           "zaxis": {
            "backgroundcolor": "white",
            "gridcolor": "#DFE8F3",
            "gridwidth": 2,
            "linecolor": "#EBF0F8",
            "showbackground": true,
            "ticks": "",
            "zerolinecolor": "#EBF0F8"
           }
          },
          "shapedefaults": {
           "line": {
            "color": "#2a3f5f"
           }
          },
          "ternary": {
           "aaxis": {
            "gridcolor": "#DFE8F3",
            "linecolor": "#A2B1C6",
            "ticks": ""
           },
           "baxis": {
            "gridcolor": "#DFE8F3",
            "linecolor": "#A2B1C6",
            "ticks": ""
           },
           "bgcolor": "white",
           "caxis": {
            "gridcolor": "#DFE8F3",
            "linecolor": "#A2B1C6",
            "ticks": ""
           }
          },
          "title": {
           "x": 0.05
          },
          "xaxis": {
           "automargin": true,
           "gridcolor": "#EBF0F8",
           "linecolor": "#EBF0F8",
           "ticks": "",
           "title": {
            "standoff": 15
           },
           "zerolinecolor": "#EBF0F8",
           "zerolinewidth": 2
          },
          "yaxis": {
           "automargin": true,
           "gridcolor": "#EBF0F8",
           "linecolor": "#EBF0F8",
           "ticks": "",
           "title": {
            "standoff": 15
           },
           "zerolinecolor": "#EBF0F8",
           "zerolinewidth": 2
          }
         }
        },
        "title": {
         "text": "Democracy Index vs Percent Women in Parliment across time"
        },
        "updatemenus": [
         {
          "buttons": [
           {
            "args": [
             null,
             {
              "frame": {
               "duration": 500,
               "redraw": false
              },
              "fromcurrent": true,
              "mode": "immediate",
              "transition": {
               "duration": 500,
               "easing": "linear"
              }
             }
            ],
            "label": "&#9654;",
            "method": "animate"
           },
           {
            "args": [
             [
              null
             ],
             {
              "frame": {
               "duration": 0,
               "redraw": false
              },
              "fromcurrent": true,
              "mode": "immediate",
              "transition": {
               "duration": 0,
               "easing": "linear"
              }
             }
            ],
            "label": "&#9724;",
            "method": "animate"
           }
          ],
          "direction": "left",
          "pad": {
           "r": 10,
           "t": 70
          },
          "showactive": false,
          "type": "buttons",
          "x": 0.1,
          "xanchor": "right",
          "y": 0,
          "yanchor": "top"
         }
        ],
        "xaxis": {
         "anchor": "y",
         "domain": [
          0,
          0.98
         ],
         "title": {
          "text": ""
         }
        },
        "xaxis2": {
         "anchor": "y2",
         "domain": [
          0,
          0.98
         ],
         "matches": "x",
         "showticklabels": false,
         "title": {
          "text": ""
         }
        },
        "xaxis3": {
         "anchor": "y3",
         "domain": [
          0,
          0.98
         ],
         "matches": "x",
         "showticklabels": false,
         "title": {
          "text": ""
         }
        },
        "xaxis4": {
         "anchor": "y4",
         "domain": [
          0,
          0.98
         ],
         "matches": "x",
         "showticklabels": false,
         "title": {
          "text": ""
         }
        },
        "xaxis5": {
         "anchor": "y5",
         "domain": [
          0,
          0.98
         ],
         "matches": "x",
         "showticklabels": false,
         "title": {
          "text": ""
         }
        },
        "xaxis6": {
         "anchor": "y6",
         "domain": [
          0,
          0.98
         ],
         "matches": "x",
         "showticklabels": false,
         "title": {
          "text": ""
         }
        },
        "xaxis7": {
         "anchor": "y7",
         "domain": [
          0,
          0.98
         ],
         "matches": "x",
         "showticklabels": false,
         "title": {
          "text": ""
         }
        },
        "yaxis": {
         "anchor": "x",
         "domain": [
          0,
          0.11714285714285715
         ],
         "showticklabels": true,
         "title": {
          "text": ""
         },
         "visible": true
        },
        "yaxis2": {
         "anchor": "x2",
         "domain": [
          0.14714285714285713,
          0.2642857142857143
         ],
         "showticklabels": true,
         "title": {
          "text": ""
         },
         "visible": true
        },
        "yaxis3": {
         "anchor": "x3",
         "domain": [
          0.29428571428571426,
          0.4114285714285714
         ],
         "showticklabels": true,
         "title": {
          "text": ""
         },
         "visible": true
        },
        "yaxis4": {
         "anchor": "x4",
         "domain": [
          0.4414285714285714,
          0.5585714285714285
         ],
         "showticklabels": true,
         "title": {
          "text": ""
         },
         "visible": true
        },
        "yaxis5": {
         "anchor": "x5",
         "domain": [
          0.5885714285714285,
          0.7057142857142856
         ],
         "showticklabels": true,
         "title": {
          "text": ""
         },
         "visible": true
        },
        "yaxis6": {
         "anchor": "x6",
         "domain": [
          0.7357142857142858,
          0.8528571428571429
         ],
         "showticklabels": true,
         "title": {
          "text": ""
         },
         "visible": true
        },
        "yaxis7": {
         "anchor": "x7",
         "domain": [
          0.8828571428571428,
          0.9999999999999999
         ],
         "showticklabels": true,
         "title": {
          "text": ""
         },
         "visible": true
        }
       }
      }
     },
     "metadata": {},
     "output_type": "display_data"
    }
   ],
   "source": [
    "fig = px.scatter(df, \n",
    "            x='democracy_indx_score',\n",
    "            y='percent_W',\n",
    "            template='plotly_white',    \n",
    "            hover_data=['Country','year'],\n",
    "            facet_row='Region',\n",
    "            color='Region',\n",
    "            color_discrete_sequence=px.colors.qualitative.Prism,\n",
    "            animation_frame='year',\n",
    "            title= 'Democracy Index vs Percent Women in Parliment across time',\n",
    "            size='percent_W',\n",
    "            height=800\n",
    "        )\n",
    "for axis in fig.layout:\n",
    "    if type(fig.layout[axis]) == go.layout.YAxis:\n",
    "        fig.layout[axis].title.text = ''\n",
    "    if type(fig.layout[axis]) == go.layout.XAxis:\n",
    "        fig.layout[axis].title.text = ''\n",
    " \n",
    "# ensure that each chart has its own y range and tick labels\n",
    "fig.update_yaxes(matches=None, showticklabels=True, visible=True)\n",
    "#fig.update_xaxes(title_text='Democracy Index Score')\n",
    "#fig.update_yaxes(title_text='Percent Women in Lower Legislative Branches')\n",
    "\n",
    "fig.show()"
   ]
  }
 ],
 "metadata": {
  "kernelspec": {
   "display_name": "Python 3 (ipykernel)",
   "language": "python",
   "name": "python3"
  },
  "language_info": {
   "codemirror_mode": {
    "name": "ipython",
    "version": 3
   },
   "file_extension": ".py",
   "mimetype": "text/x-python",
   "name": "python",
   "nbconvert_exporter": "python",
   "pygments_lexer": "ipython3",
   "version": "3.9.15"
  },
  "toc": {
   "base_numbering": 1,
   "nav_menu": {},
   "number_sections": false,
   "sideBar": true,
   "skip_h1_title": false,
   "title_cell": "Table of Contents",
   "title_sidebar": "Contents",
   "toc_cell": true,
   "toc_position": {},
   "toc_section_display": true,
   "toc_window_display": false
  },
  "vscode": {
   "interpreter": {
    "hash": "a23322d535482f71618cbdd3ed8f86a1f1cff9a935422214cedb9783ad801556"
   }
  }
 },
 "nbformat": 4,
 "nbformat_minor": 2
}
