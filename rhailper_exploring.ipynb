{
 "cells": [
  {
   "cell_type": "code",
   "execution_count": 1,
   "metadata": {},
   "outputs": [],
   "source": [
    "import pandas as pd\n",
    "import plotly.express as px\n",
    "import numpy as np\n",
    "import geojson"
   ]
  },
  {
   "cell_type": "code",
   "execution_count": null,
   "metadata": {},
   "outputs": [],
   "source": [
    "# helper function to get  each women's time mandate_end as a column\n",
    "def get_last_year_in_office(df):\n",
    "    functions = {'hrllo': (' (assassinated)','',regex=False), \n",
    "                    'test': ('Incumbent',np.NaNm),\n",
    "                     fillna: df['Mandate start']}\n"
   ]
  },
  {
   "cell_type": "code",
   "execution_count": null,
   "metadata": {},
   "outputs": [],
   "source": []
  },
  {
   "cell_type": "code",
   "execution_count": 22,
   "metadata": {},
   "outputs": [],
   "source": [
    "# read in female heads of state dataset\n",
    "df = pd.read_csv('data/female_heads_of_state.csv')\n",
    "countries = pd.read_csv('data/list_of_countries.csv')"
   ]
  },
  {
   "cell_type": "code",
   "execution_count": 24,
   "metadata": {},
   "outputs": [],
   "source": [
    "# add in the Alpha-3 code\n",
    "df = df.merge(countries[['Country','Alpha-3 code']],on='Country')\n",
    "\n",
    "# add colunms that have the start and end years of their terms\n",
    "df['start_year'] = df['Mandate start'].apply(lambda x: f'19{x[-2:]}' if int(x[-2:]) > 39 else f'20{x[-2:]}')\n",
    "df['Mandate end'] = df['Mandate end'].str.replace(' (assassinated)','',regex=False)\n",
    "df['Mandate end'] = df['Mandate end'].replace('Incumbent',np.NaN)\n",
    "df['Mandate end'] = df['Mandate end'].fillna(df['Mandate start'])\n",
    "df['end_year'] = df['Mandate end'].apply(lambda x: f'19{x[-2:]}' if int(x[-2:]) > 39 else f'20{x[-2:]}')"
   ]
  },
  {
   "cell_type": "code",
   "execution_count": 25,
   "metadata": {},
   "outputs": [],
   "source": [
    "# make it so that each year of each leader's term is a row\n",
    "df['Year'] = [pd.date_range(x, y,freq='YS',inclusive='both') for x, y in zip(df.start_year, df.end_year)]\n",
    "df = df.explode('Year')\n",
    "df['Year'] = df['Year'].astype(str).apply(lambda x:x[:4])"
   ]
  },
  {
   "cell_type": "code",
   "execution_count": 27,
   "metadata": {},
   "outputs": [],
   "source": [
    "# read in geojson for choropleth \n",
    "with open('data/countries.geojson') as f:\n",
    "    gj = geojson.load(f)\n",
    "\n",
    "# add in the 'id' which allows plotly to associate the cordinates to a teh countries in my dataframe\n",
    "for feature in gj['features']:\n",
    "    feature['id'] = feature['properties']['ISO_A3']"
   ]
  },
  {
   "cell_type": "code",
   "execution_count": null,
   "metadata": {},
   "outputs": [],
   "source": [
    "# only do three years to save memory b/c choropleth is to large otherwise\n",
    "df_less = df[['Name','Country','Office','Head of state or government','Alpha-3 code','Year']].sort_values('Year')\n",
    "df_less = df_less[df_less['Year'].isin([str(year) for year in range(2020,2023)])]"
   ]
  },
  {
   "attachments": {},
   "cell_type": "markdown",
   "metadata": {},
   "source": [
    "### Choropleth visualzation"
   ]
  },
  {
   "cell_type": "code",
   "execution_count": null,
   "metadata": {},
   "outputs": [],
   "source": [
    "# without animation (only 2022)\n",
    "fig = px.choropleth_mapbox(df[[df_less]==2022], geojson=gj, locations='Alpha-3 code', \n",
    "                    color='Head of state or government', mapbox_style='carto-positron', zoom=1,\n",
    "                           color_discrete_sequence=px.colors.qualitative.Prism,\n",
    "                          hover_data=['Name','Country','Office'])\n",
    "\n",
    "fig.show()"
   ]
  },
  {
   "cell_type": "code",
   "execution_count": 45,
   "metadata": {},
   "outputs": [],
   "source": [
    "# with animation (2020 - 2023)\n",
    "fig = px.choropleth_mapbox(df_less, geojson=gj, locations='Alpha-3 code', \n",
    "                    color='Head of state or government', mapbox_style='carto-positron', zoom=1,\n",
    "                           color_discrete_sequence=px.colors.qualitative.Prism,\n",
    "                          hover_data=['Name','Country','Office'],animation_frame='Year')\n",
    "\n",
    "fig.show()"
   ]
  },
  {
   "attachments": {},
   "cell_type": "markdown",
   "metadata": {},
   "source": [
    "### Correlation between percent women in congress and democracy index"
   ]
  },
  {
   "cell_type": "code",
   "execution_count": null,
   "metadata": {},
   "outputs": [],
   "source": []
  }
 ],
 "metadata": {
  "kernelspec": {
   "display_name": "Python 3 (ipykernel)",
   "language": "python",
   "name": "python3"
  },
  "language_info": {
   "codemirror_mode": {
    "name": "ipython",
    "version": 3
   },
   "file_extension": ".py",
   "mimetype": "text/x-python",
   "name": "python",
   "nbconvert_exporter": "python",
   "pygments_lexer": "ipython3",
   "version": "3.9.15"
  },
  "toc": {
   "base_numbering": 1,
   "nav_menu": {},
   "number_sections": false,
   "sideBar": true,
   "skip_h1_title": false,
   "title_cell": "Table of Contents",
   "title_sidebar": "Contents",
   "toc_cell": true,
   "toc_position": {},
   "toc_section_display": true,
   "toc_window_display": false
  },
  "vscode": {
   "interpreter": {
    "hash": "a23322d535482f71618cbdd3ed8f86a1f1cff9a935422214cedb9783ad801556"
   }
  }
 },
 "nbformat": 4,
 "nbformat_minor": 2
}
