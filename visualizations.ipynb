{
 "cells": [
  {
   "attachments": {},
   "cell_type": "markdown",
   "metadata": {},
   "source": [
    "# Visualizations\n",
    "Submitted by: Samantha Roska, Rebecca Hailperin-Lausch, and Samantha Russel"
   ]
  }
 ],
 "metadata": {
  "kernelspec": {
   "display_name": "milestone1",
   "language": "python",
   "name": "python3"
  },
  "language_info": {
   "name": "python",
   "version": "3.9.15"
  },
  "orig_nbformat": 4,
  "vscode": {
   "interpreter": {
    "hash": "a23322d535482f71618cbdd3ed8f86a1f1cff9a935422214cedb9783ad801556"
   }
  }
 },
 "nbformat": 4,
 "nbformat_minor": 2
}
