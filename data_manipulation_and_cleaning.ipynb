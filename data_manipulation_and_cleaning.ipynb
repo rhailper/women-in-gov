{
 "cells": [
  {
   "attachments": {},
   "cell_type": "markdown",
   "metadata": {},
   "source": [
    "# Data Scaping, Manipulation & Aggregation \n",
    "Submitted by: Samantha Roska, Rebecca Hailperin-Lausch, and Samantha Russel"
   ]
  },
  {
   "attachments": {},
   "cell_type": "markdown",
   "metadata": {},
   "source": [
    "This file contains the steps we did to scrap, aggregate, and manipulate the data."
   ]
  },
  {
   "cell_type": "code",
   "execution_count": 32,
   "metadata": {},
   "outputs": [],
   "source": [
    "import numpy as np\n",
    "import pandas as pd\n",
    "import glob\n",
    "import re\n",
    "import warnings"
   ]
  },
  {
   "cell_type": "code",
   "execution_count": 29,
   "metadata": {},
   "outputs": [],
   "source": [
    "def column_rename(col_name):\n",
    "    '''helps with renaming columns'''\n",
    "    t = col_name.strip()\n",
    "    t = re.sub('%', 'percent ', t)\n",
    "    t = re.sub(' ', '_', t)\n",
    "    t = str.lower(t)\n",
    "    return t"
   ]
  },
  {
   "attachments": {},
   "cell_type": "markdown",
   "metadata": {},
   "source": [
    "### Obtaining Dataset 1: Women in Parliments "
   ]
  },
  {
   "attachments": {},
   "cell_type": "markdown",
   "metadata": {},
   "source": [
    "A seperate script was written to scrape the data from the web. This script is included in the zip file and project repository and it scraped the data from each month and each year into individual csv files."
   ]
  },
  {
   "cell_type": "code",
   "execution_count": 8,
   "metadata": {},
   "outputs": [],
   "source": [
    "# This line uses the script to pull in the data from the IPU website and save each file to csv in the data/world_data/ folder. \n",
    "# It is commented out becuase we already ran this script, and want to avoid unecessarily pulling from their website\n",
    "!python scripts\\obtaining_world_data.py"
   ]
  },
  {
   "attachments": {},
   "cell_type": "markdown",
   "metadata": {},
   "source": [
    "Data Cleaning & Manipulation: Women in Parliments "
   ]
  },
  {
   "attachments": {},
   "cell_type": "markdown",
   "metadata": {},
   "source": [
    "First, the seperate csv files needed to be aggregated into one dataframe."
   ]
  },
  {
   "cell_type": "code",
   "execution_count": null,
   "metadata": {},
   "outputs": [],
   "source": [
    "sheets = []\n",
    "\n",
    "pat= r'(\\d{4})'\n",
    "for filename in glob.glob(\"./data/world_data/wd_*.csv\"):\n",
    "    ls = re.split(pat,filename)\n",
    "    year = int(ls[1])\n",
    "    if year > 2019:\n",
    "        temp = pd.read_csv(filename,delimiter=',',skiprows=5, index_col=None,header=None)\n",
    "        sheets.append(temp)\n",
    "    elif year < 2019 and year > 2008:\n",
    "        temp = pd.read_csv(filename,delimiter=',',skiprows=2, index_col=None,header=None)\n",
    "        sheets.append(dataframe)\n",
    "    else:\n",
    "        temp = pd.read_csv(filename,delimiter=',',skiprows=1, index_col=None,header=None)\n",
    "        dataframe = pd.DataFrame(temp)\n",
    "        sheets.append(dataframe)\n",
    "\n",
    "df = pd.concat(sheets,axis=0,ignore_index=True)\n",
    "df = df.drop(columns=[10])\n",
    "df.columns = ['Rank','Country','Lower single House Elections','Lower single House Seats','Lower single House Women','Lower single House %W','Upper House Senate Elections', 'Upper House Senate Seats','Upper House Senate Women','Upper House Senate %W']\n",
    "df.head(15)"
   ]
  },
  {
   "cell_type": "code",
   "execution_count": null,
   "metadata": {},
   "outputs": [],
   "source": [
    "# Rename columns to be consistent\n",
    "text_transform_df = df.replace(regex=r'---|\\?',value=0)\n",
    "text_transform_df = text_transform_df.rename(columns=lambda x: column_rename(x))"
   ]
  },
  {
   "attachments": {},
   "cell_type": "markdown",
   "metadata": {},
   "source": [
    "##### Series data conversion & manipulation"
   ]
  },
  {
   "cell_type": "code",
   "execution_count": null,
   "metadata": {},
   "outputs": [],
   "source": [
    "# Convert dates that had period to same format as other dates\n",
    "text_transform_df['lower_single_house_elections'] = text_transform_df['lower_single_house_elections'].str.replace('.',' ',regex=False)\n",
    "text_transform_df['upper_house_senate_elections'] = text_transform_df['upper_house_senate_elections'].str.replace('.',' ',regex=False)"
   ]
  },
  {
   "cell_type": "code",
   "execution_count": null,
   "metadata": {},
   "outputs": [],
   "source": [
    "# Convert dates into correct format\n",
    "with warnings.catch_warnings():\n",
    "    warnings.filterwarnings(\"ignore\")\n",
    "    date_tranform_df = text_transform_df.copy()\n",
    "    date_tranform_df.country = date_tranform_df.country.replace(regex=r'\\(|\\)|\\*|\\d',value='')\n",
    "\n",
    "    date_tranform_df.lower_single_house_elections = pd.to_datetime(date_tranform_df.lower_single_house_elections, errors='coerce',infer_datetime_format=True)\n",
    "    date_tranform_df.upper_house_senate_elections = pd.to_datetime(date_tranform_df.upper_house_senate_elections, errors='coerce',infer_datetime_format=True)\n"
   ]
  },
  {
   "attachments": {},
   "cell_type": "markdown",
   "metadata": {},
   "source": [
    "##### Conversion of numeric fields"
   ]
  },
  {
   "cell_type": "code",
   "execution_count": null,
   "metadata": {},
   "outputs": [],
   "source": [
    "# Convert to numeric\n",
    "num_transform_df = date_tranform_df.copy()\n",
    "\n",
    "num_transform_df.lower_single_house_seats = pd.to_numeric(num_transform_df.lower_single_house_seats.replace(regex='\\D',value=''))\n",
    "num_transform_df.lower_single_house_women = pd.to_numeric(num_transform_df.lower_single_house_women.replace(regex='\\D',value=''))\n",
    "\n",
    "num_transform_df.upper_house_senate_seats = pd.to_numeric(num_transform_df.upper_house_senate_seats.replace(regex='\\D',value=''))\n",
    "num_transform_df.upper_house_senate_women = pd.to_numeric(num_transform_df.upper_house_senate_women.replace(regex='\\D',value=''))\n",
    "\n",
    "# Fill nas with zeros\n",
    "num_transform_df.upper_house_senate_women.fillna(0, inplace=True)\n",
    "num_transform_df.upper_house_senate_seats.fillna(0, inplace=True)"
   ]
  },
  {
   "cell_type": "code",
   "execution_count": null,
   "metadata": {},
   "outputs": [],
   "source": [
    "num_transform_df.upper_house_senate_women.fillna(0, inplace=True)\n",
    "num_transform_df.upper_house_senate_seats.fillna(0, inplace=True)"
   ]
  },
  {
   "cell_type": "code",
   "execution_count": null,
   "metadata": {},
   "outputs": [],
   "source": [
    "num_transform_df['lower_single_house_percent_w'] = num_transform_df.lower_single_house_women\t / num_transform_df.lower_single_house_seats\n",
    "num_transform_df['upper_single_house_percent_w'] = num_transform_df.upper_house_senate_women / num_transform_df.upper_house_senate_seats"
   ]
  },
  {
   "attachments": {},
   "cell_type": "markdown",
   "metadata": {},
   "source": [
    "We checked that the columns are all the correct format."
   ]
  },
  {
   "cell_type": "code",
   "execution_count": null,
   "metadata": {},
   "outputs": [],
   "source": [
    "num_transform_df.dtypes"
   ]
  },
  {
   "cell_type": "code",
   "execution_count": null,
   "metadata": {},
   "outputs": [],
   "source": [
    "# Drop duplicate rows\n",
    "drop_dupp = num_transform_df.drop_duplicates()\n",
    "drop_dupp.reset_index(drop=True)"
   ]
  },
  {
   "cell_type": "code",
   "execution_count": null,
   "metadata": {},
   "outputs": [],
   "source": [
    "# Add a year as a seperate column\n",
    "drop_dupp_add_year = drop_dupp.copy()\n",
    "drop_dupp_add_year['lower_single_house_elections_year'] = drop_dupp_add_year['lower_single_house_elections'].astype(str).apply(lambda x:x[:4])\n",
    "drop_dupp_add_year['upper_house_senate_elections_year'] = drop_dupp_add_year['upper_house_senate_elections'].astype(str).apply(lambda x:x[:4])"
   ]
  },
  {
   "cell_type": "code",
   "execution_count": null,
   "metadata": {},
   "outputs": [],
   "source": [
    "# Save file to csv for use in analysis & visualizations\n",
    "drop_dupp_add_year.to_csv('./data/world_data_final.csv', index=False)"
   ]
  },
  {
   "attachments": {},
   "cell_type": "markdown",
   "metadata": {},
   "source": [
    "### Obtaining Dataset 2: Democracy Index"
   ]
  },
  {
   "attachments": {},
   "cell_type": "markdown",
   "metadata": {},
   "source": [
    "This data was read in directly using pandas.read_html()."
   ]
  },
  {
   "cell_type": "code",
   "execution_count": null,
   "metadata": {},
   "outputs": [],
   "source": [
    "# Read in the data directly\n",
    "url = 'https://en.wikipedia.org/wiki/Democracy_Index'\n",
    "webdata = pd.read_html(url)\n",
    "country_scores = webdata[5]\n",
    "country_scores"
   ]
  },
  {
   "attachments": {},
   "cell_type": "markdown",
   "metadata": {},
   "source": [
    "### Data Cleaning & Manipulation: Democracy Index"
   ]
  },
  {
   "cell_type": "code",
   "execution_count": null,
   "metadata": {},
   "outputs": [],
   "source": [
    "# Rename columns to be consistent\n",
    "country_scores.columns = [col.lower().replace(' ','_') for col in country_scores.columns]"
   ]
  },
  {
   "cell_type": "code",
   "execution_count": null,
   "metadata": {},
   "outputs": [],
   "source": [
    "# Add the 5 year mean \n",
    "country_scores['five_year_mean'] = country_scores[['2022', '2021', '2020', '2019', '2018']].mean(axis=1)"
   ]
  },
  {
   "cell_type": "code",
   "execution_count": null,
   "metadata": {},
   "outputs": [],
   "source": [
    "# Saving dataset to csv for use in analysis\n",
    "country_scores.to_csv('data/democracy_index_data.csv', index=False)"
   ]
  },
  {
   "attachments": {},
   "cell_type": "markdown",
   "metadata": {},
   "source": [
    "#### Data Exploration"
   ]
  },
  {
   "attachments": {},
   "cell_type": "markdown",
   "metadata": {},
   "source": [
    "First, we looked at the number of countries grouped by regime type. Full Democracies had the fewest number of countries. "
   ]
  },
  {
   "cell_type": "code",
   "execution_count": null,
   "metadata": {},
   "outputs": [],
   "source": [
    "country_scores.groupby(['regime_type']).count()"
   ]
  },
  {
   "attachments": {},
   "cell_type": "markdown",
   "metadata": {},
   "source": [
    "Next, we filtered the data to look at only democracies (flawed and full)."
   ]
  },
  {
   "cell_type": "code",
   "execution_count": null,
   "metadata": {},
   "outputs": [],
   "source": [
    "democracies = country_scores[country_scores['five_year_mean'] > 6]\n",
    "print('Number of democracies in dataset: ' +  str(len(set(democracies['country']))))\n",
    "democracies"
   ]
  },
  {
   "attachments": {},
   "cell_type": "markdown",
   "metadata": {},
   "source": [
    "## Joining the two datasets together"
   ]
  },
  {
   "attachments": {},
   "cell_type": "markdown",
   "metadata": {},
   "source": [
    "In order to run the correlation and produce some of the visualzations, the datasets need to be joined together into one dataframe."
   ]
  },
  {
   "cell_type": "code",
   "execution_count": null,
   "metadata": {},
   "outputs": [],
   "source": [
    "# Read in democracy index data\n",
    "democracy_index = pd.read_csv('data/democracy_index_data.csv')\n",
    "# Read in the percent women in parliments data\n",
    "women_in_parliments =  pd.read_csv('data/world_data_final.csv')"
   ]
  },
  {
   "attachments": {},
   "cell_type": "markdown",
   "metadata": {},
   "source": [
    "First the Democracy Index dataset needs to be converted from wide to long. "
   ]
  },
  {
   "cell_type": "code",
   "execution_count": null,
   "metadata": {},
   "outputs": [],
   "source": [
    "democracy_index"
   ]
  },
  {
   "cell_type": "code",
   "execution_count": null,
   "metadata": {},
   "outputs": [],
   "source": [
    "# Get list of years to be used to melt the dataframe\n",
    "years_list = [str(year) for year in range(2010,2023)]\n",
    "years_list.insert(0,'2008')\n",
    "years_list.insert(0,'2006')\n",
    "# Melt dataframe from wide to long\n",
    "democracy_index_melted = democracy_index.melt(id_vars=['region','2022_rank','country','regime_type','five_year_mean'],value_vars=years_list,var_name='year',value_name='democracy_index_score')"
   ]
  },
  {
   "attachments": {},
   "cell_type": "markdown",
   "metadata": {},
   "source": [
    "Because many countries do not have two legislative bodies, there is significantly more missing data for the upper house. For this reason, we will focus on the lower house data only. "
   ]
  },
  {
   "cell_type": "code",
   "execution_count": null,
   "metadata": {},
   "outputs": [],
   "source": [
    "# Get only lower house and rename columns\n",
    "women_lower_house = women_in_parliments[['country','lower_single_house_elections_year','lower_single_house_percent_w','upper_single_house_elections_year','upper_single_house_percent_w']]\n",
    "women_lower_house = women_lower_house.rename({'lower_or_single_house_elections_year':'year','lower_single_house_percent_w':'percent_W'},axis=1)"
   ]
  },
  {
   "cell_type": "code",
   "execution_count": null,
   "metadata": {},
   "outputs": [],
   "source": [
    "# Join the two datasets on year and country\n",
    "joined_df = democracy_index_melted.merge(women_lower_house, on=['country','year'])"
   ]
  },
  {
   "cell_type": "code",
   "execution_count": null,
   "metadata": {},
   "outputs": [],
   "source": [
    "joined_df"
   ]
  },
  {
   "cell_type": "code",
   "execution_count": null,
   "metadata": {},
   "outputs": [],
   "source": [
    "# Saving dataset to csv for use in analysis\n",
    "joined_df.to_csv('data/joined_dataset.csv',index=False)"
   ]
  }
 ],
 "metadata": {
  "kernelspec": {
   "display_name": "milestone1",
   "language": "python",
   "name": "python3"
  },
  "language_info": {
   "codemirror_mode": {
    "name": "ipython",
    "version": 3
   },
   "file_extension": ".py",
   "mimetype": "text/x-python",
   "name": "python",
   "nbconvert_exporter": "python",
   "pygments_lexer": "ipython3",
   "version": "3.9.15"
  },
  "orig_nbformat": 4,
  "vscode": {
   "interpreter": {
    "hash": "a23322d535482f71618cbdd3ed8f86a1f1cff9a935422214cedb9783ad801556"
   }
  }
 },
 "nbformat": 4,
 "nbformat_minor": 2
}
