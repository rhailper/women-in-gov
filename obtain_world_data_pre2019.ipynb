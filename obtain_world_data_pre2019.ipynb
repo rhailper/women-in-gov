{
 "cells": [
  {
   "cell_type": "code",
   "execution_count": null,
   "metadata": {},
   "outputs": [],
   "source": [
    "import pandas as pd\n",
    "from bs4 import BeautifulSoup\n",
    "import requests\n",
    "import re\n",
    "import time\n",
    "import os"
   ]
  },
  {
   "cell_type": "code",
   "execution_count": null,
   "metadata": {},
   "outputs": [],
   "source": [
    "def obtain_data(day,month,year):\n",
    "    '''Function that reads in the data from the ipu archives'''\n",
    "    df = pd.read_html('http://archive.ipu.org/wmn-e/arc/classif{}{}{}.htm'.format(day,month,year), header=[1])[1]\n",
    "    return df"
   ]
  },
  {
   "cell_type": "code",
   "execution_count": null,
   "metadata": {},
   "outputs": [],
   "source": [
    "def clean(df):\n",
    "    '''Function that corrects the column headers'''\n",
    "    # sets the multi-level columns using the columns and first row\n",
    "    df.columns=pd.MultiIndex.from_tuples(zip(df.columns,df.iloc[0].values))\n",
    "    # removes the first row\n",
    "    df = df.iloc[1:, :]\n",
    "    \n",
    "    return df"
   ]
  },
  {
   "cell_type": "code",
   "execution_count": null,
   "metadata": {},
   "outputs": [],
   "source": [
    "# extract  all links from ipu archive page\n",
    "links = []\n",
    "url = \"http://archive.ipu.org/wmn-e/classif-arc.htm\" # url to ipu archives page\n",
    "page = requests.get(url)    \n",
    "data = page.text\n",
    "soup = BeautifulSoup(data)\n",
    "\n",
    "for link in soup.find_all('a'):\n",
    "    links.append(link.get('href'))\n",
    "    \n",
    "# extract dates from links  \n",
    "dates = [re.search(r'classif(.*?).htm', link).group(1) for link in links if re.search(r'classif(.*?).htm', link) is not None and len(re.search(r'classif(.*?).htm', link).group(1)) ==6]\n",
    "dates = [(date[0:2],date[2:4],date[4:6]) for date in dates]"
   ]
  },
  {
   "cell_type": "code",
   "execution_count": null,
   "metadata": {},
   "outputs": [],
   "source": [
    "# loop through months and years 1997-2019 and pull the data, save each file to the data/world_data folder\n",
    "for d,m,y in dates:\n",
    "    try:\n",
    "        df = clean(obtain_data(d,m,y))\n",
    "        # save dataframe to folder but change format of name to make formatting consistent (ex: 'wd_month_year')\n",
    "        if (m[0]=='0') & (int(y)>19):\n",
    "            df.to_csv('data/world_data/' + 'wd_' + m[1] + '_' + '19' + y + '.csv', index=False)\n",
    "        elif (m[0]=='0') & (int(y)<=19):\n",
    "            df.to_csv('data/world_data/' + 'wd_' + m[1] + '_' + '20' + y + '.csv', index=False)\n",
    "        elif (m[0]>'0') & (int(y)>19):\n",
    "            df.to_csv('data/world_data/' + 'wd_' + m + '_' + '19' + y + '.csv', index=False)\n",
    "        else:\n",
    "            df.to_csv('data/world_data/' + 'wd_' + m + '_' + '20' + y + '.csv', index=False)\n",
    "    except:\n",
    "        print(str(m) + ',' + y + ' did not work.' )\n",
    "    time.sleep(15)"
   ]
  }
 ],
 "metadata": {
  "kernelspec": {
   "display_name": "Python 3 (ipykernel)",
   "language": "python",
   "name": "python3"
  },
  "language_info": {
   "codemirror_mode": {
    "name": "ipython",
    "version": 3
   },
   "file_extension": ".py",
   "mimetype": "text/x-python",
   "name": "python",
   "nbconvert_exporter": "python",
   "pygments_lexer": "ipython3",
   "version": "3.8.13"
  },
  "vscode": {
   "interpreter": {
    "hash": "c3b289da90590ffb95a2a1aefc0631385fa9737b58ef171b8fb4f3b4265a3e93"
   }
  }
 },
 "nbformat": 4,
 "nbformat_minor": 2
}
